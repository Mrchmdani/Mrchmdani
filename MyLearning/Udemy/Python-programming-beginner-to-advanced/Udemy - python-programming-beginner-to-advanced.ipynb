{
 "cells": [
  {
   "cell_type": "markdown",
   "metadata": {},
   "source": [
    "# **Introduction & Basic**"
   ]
  },
  {
   "cell_type": "markdown",
   "metadata": {},
   "source": [
    "## Variable Declaration & Memory Allocation"
   ]
  },
  {
   "cell_type": "markdown",
   "metadata": {},
   "source": [
    "### Condition :"
   ]
  },
  {
   "cell_type": "markdown",
   "metadata": {},
   "source": [
    "1. variable name should start with lower case character\n",
    "2. digits are allowed but not at the start character\n",
    "3. _ (underscore) are allowed but it should used for special meaning / define"
   ]
  },
  {
   "cell_type": "code",
   "execution_count": 1,
   "metadata": {},
   "outputs": [
    {
     "name": "stdout",
     "output_type": "stream",
     "text": [
      "30\n"
     ]
    }
   ],
   "source": [
    "first_number = 10\n",
    "second_number = 20\n",
    "addition = first_number + second_number\n",
    "print(addition)"
   ]
  },
  {
   "cell_type": "markdown",
   "metadata": {},
   "source": [
    "### print type"
   ]
  },
  {
   "cell_type": "markdown",
   "metadata": {},
   "source": [
    "1. **id()** is function returns a unique id for the specified object.\n",
    "2. **type()** for see the data type of any object"
   ]
  },
  {
   "cell_type": "code",
   "execution_count": null,
   "metadata": {},
   "outputs": [],
   "source": [
    "help(id)\n",
    "help(type)"
   ]
  },
  {
   "cell_type": "code",
   "execution_count": null,
   "metadata": {},
   "outputs": [],
   "source": [
    "a = 10\n",
    "b  = 10\n",
    "\n",
    "print(type(a), type(b))\n",
    "print(id(a), id(b))"
   ]
  },
  {
   "cell_type": "markdown",
   "metadata": {},
   "source": [
    "## Buildin Python Datatypes"
   ]
  },
  {
   "cell_type": "markdown",
   "metadata": {},
   "source": [
    "### 1. Int\n",
    "number"
   ]
  },
  {
   "cell_type": "code",
   "execution_count": null,
   "metadata": {},
   "outputs": [],
   "source": [
    "help(int)"
   ]
  },
  {
   "cell_type": "code",
   "execution_count": null,
   "metadata": {},
   "outputs": [],
   "source": [
    "print(dir(int))"
   ]
  },
  {
   "cell_type": "code",
   "execution_count": null,
   "metadata": {},
   "outputs": [],
   "source": [
    "num1 = 100\n",
    "print(num1, type(num1))"
   ]
  },
  {
   "cell_type": "markdown",
   "metadata": {},
   "source": [
    "### 2. float\n",
    "number with decimal"
   ]
  },
  {
   "cell_type": "code",
   "execution_count": null,
   "metadata": {},
   "outputs": [],
   "source": [
    "help(float)"
   ]
  },
  {
   "cell_type": "code",
   "execution_count": null,
   "metadata": {},
   "outputs": [],
   "source": [
    "print(dir(float))"
   ]
  },
  {
   "cell_type": "code",
   "execution_count": null,
   "metadata": {},
   "outputs": [],
   "source": [
    "num2 = 15.25\n",
    "print(num2, type(num2))"
   ]
  },
  {
   "cell_type": "markdown",
   "metadata": {},
   "source": [
    "### 3. str\n",
    "string can use 'single quote' or \"double quote\""
   ]
  },
  {
   "cell_type": "code",
   "execution_count": null,
   "metadata": {},
   "outputs": [],
   "source": [
    "help(str)"
   ]
  },
  {
   "cell_type": "code",
   "execution_count": null,
   "metadata": {},
   "outputs": [],
   "source": [
    "print(dir(str))"
   ]
  },
  {
   "cell_type": "code",
   "execution_count": null,
   "metadata": {},
   "outputs": [],
   "source": [
    "string1 = 'Python using single quote are the same with'\n",
    "string2 = \"Python using double quote\"\n",
    "string3 = \"'Python' are string\"\n",
    "print(string1, type(string1))\n",
    "print(string2, type(string2))\n",
    "print(string3, type(string3))"
   ]
  },
  {
   "cell_type": "markdown",
   "metadata": {},
   "source": [
    "### 4. list[]\n",
    "anything with parentheses or round bracket is 'list'\n",
    "list data can be change (add, update or delete)"
   ]
  },
  {
   "cell_type": "code",
   "execution_count": null,
   "metadata": {},
   "outputs": [],
   "source": [
    "help(list)"
   ]
  },
  {
   "cell_type": "code",
   "execution_count": null,
   "metadata": {},
   "outputs": [],
   "source": [
    "print(dir(list))"
   ]
  },
  {
   "cell_type": "code",
   "execution_count": null,
   "metadata": {},
   "outputs": [],
   "source": [
    "list = [10, 20, 30, 40, 50, \"apple\", \"orange\"]\n",
    "print(list)\n",
    "\n",
    "# .append() is to add something to the list\n",
    "list.append(\"pear\")\n",
    "print(list)"
   ]
  },
  {
   "cell_type": "markdown",
   "metadata": {},
   "source": [
    "### 5. tuple()\n",
    "anything with square or box bracket is 'tuple'\n",
    "Tuple data can't be change(add, update or delete)"
   ]
  },
  {
   "cell_type": "code",
   "execution_count": null,
   "metadata": {},
   "outputs": [],
   "source": [
    "help(tuple)"
   ]
  },
  {
   "cell_type": "code",
   "execution_count": null,
   "metadata": {},
   "outputs": [],
   "source": [
    "print(dir(tuple))"
   ]
  },
  {
   "cell_type": "code",
   "execution_count": null,
   "metadata": {},
   "outputs": [],
   "source": [
    "tuple = (10, 20, 30)"
   ]
  },
  {
   "cell_type": "markdown",
   "metadata": {},
   "source": [
    "### 6. dict{}\n",
    "anything with braces or curly bracket is 'dictionary'\n",
    "Dictionary is data that have key and value {key: value}"
   ]
  },
  {
   "cell_type": "code",
   "execution_count": null,
   "metadata": {},
   "outputs": [],
   "source": [
    "help(dict)"
   ]
  },
  {
   "cell_type": "code",
   "execution_count": null,
   "metadata": {},
   "outputs": [],
   "source": [
    "print(dir(dict))"
   ]
  },
  {
   "cell_type": "code",
   "execution_count": null,
   "metadata": {},
   "outputs": [],
   "source": [
    "dict = {'name': 'ABC', 'email': 'abc@gmail.com'}\n",
    "print(dict)"
   ]
  },
  {
   "cell_type": "markdown",
   "metadata": {},
   "source": [
    "### 7. set{}\n",
    "set is data that only have value (different with dict)\n",
    "Tuple data can't be change(add, update or delete)"
   ]
  },
  {
   "cell_type": "code",
   "execution_count": null,
   "metadata": {},
   "outputs": [],
   "source": [
    "help(set)"
   ]
  },
  {
   "cell_type": "code",
   "execution_count": null,
   "metadata": {},
   "outputs": [],
   "source": [
    "print(dir(set))"
   ]
  },
  {
   "cell_type": "code",
   "execution_count": null,
   "metadata": {},
   "outputs": [],
   "source": [
    "set = {10, 20, 30, 40}\n",
    "print(set)"
   ]
  },
  {
   "cell_type": "markdown",
   "metadata": {},
   "source": [
    "### 8. bool : True False"
   ]
  },
  {
   "cell_type": "code",
   "execution_count": null,
   "metadata": {},
   "outputs": [],
   "source": [
    "help(bool)"
   ]
  },
  {
   "cell_type": "code",
   "execution_count": null,
   "metadata": {},
   "outputs": [],
   "source": [
    "print(dir(bool))"
   ]
  },
  {
   "cell_type": "markdown",
   "metadata": {},
   "source": [
    "### 9. complex : 4 + 3j"
   ]
  },
  {
   "cell_type": "code",
   "execution_count": null,
   "metadata": {},
   "outputs": [],
   "source": [
    "help(complex)"
   ]
  },
  {
   "cell_type": "code",
   "execution_count": null,
   "metadata": {},
   "outputs": [],
   "source": [
    "print(dir(complex))"
   ]
  },
  {
   "cell_type": "markdown",
   "metadata": {},
   "source": [
    "## Operators in Python"
   ]
  },
  {
   "cell_type": "markdown",
   "metadata": {},
   "source": [
    "### 1. Arithmetic Operators"
   ]
  },
  {
   "cell_type": "markdown",
   "metadata": {},
   "source": [
    "1. (+)\n",
    "2. (-)\n",
    "3. (*)\n",
    "4. (/)\n",
    "5. (//)\n",
    "6. (%)\n",
    "7. (**)"
   ]
  },
  {
   "cell_type": "code",
   "execution_count": null,
   "metadata": {},
   "outputs": [],
   "source": [
    "num1 = 10\n",
    "num2 = 3\n",
    "print(num1 + num2)\n",
    "print(num1 - num2)\n",
    "print(num1 * num2)\n",
    "print(num1 / num2)\n",
    "print(num1 // num2)\n",
    "print(num1 % num2)\n",
    "print(num1 ** num2)\n"
   ]
  },
  {
   "cell_type": "markdown",
   "metadata": {},
   "source": [
    "### 2. Comparison Operators"
   ]
  },
  {
   "cell_type": "markdown",
   "metadata": {},
   "source": [
    "1. Greater Than (<)\n",
    "2. Less than (>)\n",
    "3. Greater and equal (<=)\n",
    "4. Less and equal (>=)\n",
    "5. Equal (==)\n",
    "6. Not equal (!=)\n",
    "\n",
    "Comparison operator return output only True or False"
   ]
  },
  {
   "cell_type": "code",
   "execution_count": null,
   "metadata": {},
   "outputs": [],
   "source": [
    "num1 = 100\n",
    "num2 = 200\n",
    "\n",
    "print(num1 < num2)\n",
    "print(num1 > num2)\n",
    "print(num1 <= num2)\n",
    "print(num1 >= num2)\n",
    "print(num1 == num2)\n",
    "print(num1 != num2)"
   ]
  },
  {
   "cell_type": "markdown",
   "metadata": {},
   "source": [
    "### 3. Identity Operators"
   ]
  },
  {
   "cell_type": "markdown",
   "metadata": {},
   "source": [
    "1. is\n",
    "2. is not"
   ]
  },
  {
   "cell_type": "code",
   "execution_count": null,
   "metadata": {},
   "outputs": [],
   "source": [
    "num1 = 100\n",
    "num2 = 100\n",
    "\n",
    "result = num1 == num2\n",
    "print('result \"== operator\" :', result, id(num1), id(num2))\n",
    "\n",
    "result = num1 is num2\n",
    "print('result \"is operator\" :', result, id(num1), id(num2))\n",
    "\n",
    "result = num1 is not num2\n",
    "print('result \"is not operator\" :', result, id(num1), id(num2))\n",
    "\n",
    "list1 = [10, 20, 30]\n",
    "list2 = [10, 20, 30]\n",
    "\n",
    "result = list1 == list2\n",
    "print('result list \"== operator\" :', result, id(list1), id(list2))\n",
    "\n",
    "result = list1 is list2\n",
    "print('result list \"is operator\" :', result, id(list1), id(list2))\n",
    "\n",
    "result = list1 is not list2\n",
    "print('result list \"is not operator\" :', result, id(list1), id(list2))\n",
    "\n",
    "\n",
    "# Why is the output different between variable and list?\n",
    "#  '==' will compare the value, on the other hand 'is' will compare the memory location"
   ]
  },
  {
   "cell_type": "markdown",
   "metadata": {},
   "source": [
    "### 4. Assignment Operators"
   ]
  },
  {
   "cell_type": "markdown",
   "metadata": {},
   "source": [
    "1. =\n",
    "2. +=\n",
    "3. -=\n",
    "4. *=\n",
    "5. /="
   ]
  },
  {
   "cell_type": "code",
   "execution_count": null,
   "metadata": {},
   "outputs": [],
   "source": [
    "num1 = 100\n",
    "num1 = num1 + 5\n",
    "print(num1)\n",
    "num1 += 5\n",
    "print(num1)\n",
    "num1 -= 2\n",
    "print(num1)\n",
    "num1 *= 5\n",
    "print(num1)\n",
    "num1 /= 3\n",
    "print(num1)"
   ]
  },
  {
   "cell_type": "markdown",
   "metadata": {},
   "source": [
    "### 5. Bitwise Operators"
   ]
  },
  {
   "cell_type": "markdown",
   "metadata": {},
   "source": [
    "1. (&)\n",
    "2. (|)\n",
    "3. (^)\n",
    "4. right shift (>>)\n",
    "5. left shift (<<)"
   ]
  },
  {
   "cell_type": "code",
   "execution_count": null,
   "metadata": {},
   "outputs": [],
   "source": [
    "num1 = 2\n",
    "num2 = 4\n",
    "\n",
    "print(bin(num1), bin(num2))\n",
    "\n",
    "print(num1 & num2)\n",
    "print(num1 | num2)\n",
    "print(num1 ^ num2)\n",
    "print(num1 >> num2)\n",
    "print(num1 << num2)"
   ]
  },
  {
   "cell_type": "markdown",
   "metadata": {},
   "source": [
    "### 6. Logical Operators"
   ]
  },
  {
   "cell_type": "markdown",
   "metadata": {},
   "source": [
    "1. and\n",
    "2. or\n",
    "3. not"
   ]
  },
  {
   "cell_type": "markdown",
   "metadata": {},
   "source": [
    "![Logic Gates](https://miro.medium.com/max/720/1*4JomFrSIYLoTs_8x4ZqGNA.jpeg)"
   ]
  },
  {
   "cell_type": "code",
   "execution_count": null,
   "metadata": {},
   "outputs": [],
   "source": [
    "print(10 == 10 and 20 == 20)\n",
    "print(10 == 15 and 20 == 20)\n",
    "\n",
    "print(10 == 10 or 20 == 20)\n",
    "print(10 == 15 or 20 == 20)\n",
    "\n",
    "print(10 == 10)\n",
    "print(not(10 == 10))"
   ]
  },
  {
   "cell_type": "markdown",
   "metadata": {},
   "source": [
    "### 7. Membership Operators"
   ]
  },
  {
   "cell_type": "markdown",
   "metadata": {},
   "source": [
    "1. in\n",
    "2. not in"
   ]
  },
  {
   "cell_type": "code",
   "execution_count": null,
   "metadata": {},
   "outputs": [],
   "source": [
    "list = [10, 20, 30, 40, 50]\n",
    "print(30 in list)\n",
    "print(300 in list)\n",
    "\n",
    "list2 = ['apple', 'manggo', 'pear', 'banana']\n",
    "print('banana' in list2)\n",
    "print('avocado' in list2)"
   ]
  },
  {
   "cell_type": "markdown",
   "metadata": {},
   "source": [
    "# **Conditional Statements and Loops**"
   ]
  },
  {
   "cell_type": "markdown",
   "metadata": {},
   "source": [
    "## Conditional Statements"
   ]
  },
  {
   "cell_type": "markdown",
   "metadata": {},
   "source": [
    "### 1. if, elif, else"
   ]
  },
  {
   "cell_type": "markdown",
   "metadata": {},
   "source": [
    "1. if\n",
    "2. elif\n",
    "3. else"
   ]
  },
  {
   "cell_type": "markdown",
   "metadata": {},
   "source": [
    "\n",
    "if [condition]:\n",
    "<br>&emsp;statements\n",
    "<br>elif [condition]:\n",
    "<br>&emsp;statements\n",
    "<br>else:\n",
    "<br>&emsp;statements"
   ]
  },
  {
   "cell_type": "code",
   "execution_count": null,
   "metadata": {},
   "outputs": [],
   "source": [
    "num1 = 100\n",
    "num2 = 100\n",
    "\n",
    "#num1 is geater\n",
    "#num2 is greater\n",
    "#num1 and num2 are equal\n",
    "\n",
    "if num1 > num2:\n",
    "    print('num1 is greater than num2')\n",
    "elif num2 > num1:\n",
    "    print('num2 is greater than num1')\n",
    "else:\n",
    "    print('num1 and num2 are equal')"
   ]
  },
  {
   "cell_type": "markdown",
   "metadata": {},
   "source": [
    "### 2. for loop"
   ]
  },
  {
   "cell_type": "markdown",
   "metadata": {},
   "source": [
    "Iterable datatypes :\n",
    "1. str\n",
    "2. list\n",
    "3. tuple\n",
    "4. dict\n",
    "5. set\n",
    "6. range()\n",
    "\n",
    "for [variable_name] in [iterable datatype]:\n",
    "<br>&emsp;statements"
   ]
  },
  {
   "cell_type": "markdown",
   "metadata": {},
   "source": [
    "#### Syntax"
   ]
  },
  {
   "cell_type": "code",
   "execution_count": null,
   "metadata": {},
   "outputs": [],
   "source": [
    "list = [10, 20, 30, 40, 50]\n",
    "\n",
    "for value in list:\n",
    "    print(value)\n",
    "\n"
   ]
  },
  {
   "cell_type": "code",
   "execution_count": null,
   "metadata": {},
   "outputs": [],
   "source": [
    "list = [10, 20, 30, 40, 50]\n",
    "sum = 0\n",
    "for value in list:\n",
    "    sum = sum + value\n",
    "    print(sum)\n",
    "\n",
    "#if we print(sum) inside the loop it will breakdown the total sum + list for each number"
   ]
  },
  {
   "cell_type": "code",
   "execution_count": null,
   "metadata": {},
   "outputs": [],
   "source": [
    "list = [10, 20, 30, 40, 50]\n",
    "sum = 0\n",
    "for value in list:\n",
    "    sum = sum + value\n",
    "print(sum)\n",
    "\n",
    "#if we print(sum) outside the loop it will result only total sum + list\n"
   ]
  },
  {
   "cell_type": "code",
   "execution_count": null,
   "metadata": {},
   "outputs": [],
   "source": [
    "#range(5) 0, 1, 2, 3, 4\n",
    "#range(10, 20) 10, 11, 12, 13, 14, 15, 16, ..., 19\n",
    "#range(10, 20, 2) 10, 12, 14, 16, 18\n",
    "\n",
    "for a in range(10, 20, 2):\n",
    "    print(a)\n",
    "\n",
    "#why 20 not in the output/result?\n",
    "#because python start from 0 not 1, so the result end number is 19 not 20"
   ]
  },
  {
   "cell_type": "code",
   "execution_count": null,
   "metadata": {},
   "outputs": [],
   "source": [
    "sum = 0\n",
    "for value in range(1, 21):\n",
    "    sum = sum + value\n",
    "print(sum)"
   ]
  },
  {
   "cell_type": "markdown",
   "metadata": {},
   "source": [
    "#### continue, break, enumerate, pass"
   ]
  },
  {
   "cell_type": "code",
   "execution_count": null,
   "metadata": {},
   "outputs": [],
   "source": [
    "list = [10, 20, 30, 40, 50, 60]\n",
    "key = 40        #key to looking for\n",
    "\n",
    "for search in list:\n",
    "    if search == key:\n",
    "        print(\"Element found\")\n",
    "        break       #for terminate/break/stop the loop\n",
    "    else:\n",
    "        continue    #for continue the loop\n"
   ]
  },
  {
   "cell_type": "code",
   "execution_count": null,
   "metadata": {},
   "outputs": [],
   "source": [
    "list = [10, 20, 30, 40, 50, 60]\n",
    "key = 25        #key to looking for\n",
    "\n",
    "for search in list:\n",
    "    if search == key:\n",
    "        print('Element found')\n",
    "        break       #for terminate/break/stop the loop\n",
    "    else:\n",
    "        continue    #for continue the loop\n",
    "else:\n",
    "    print('Element not found')"
   ]
  },
  {
   "cell_type": "code",
   "execution_count": null,
   "metadata": {},
   "outputs": [],
   "source": [
    "list = [10, 20, 30, 40, 50, 60]\n",
    "key = 25        #key to looking for\n",
    "\n",
    "for search in list:\n",
    "    if search == key:\n",
    "        print('Element found')\n",
    "        break       #for terminate/break/stop the loop\n",
    "    else:\n",
    "        continue    #for continue the loop\n",
    "else:\n",
    "    print('Element not found')\n",
    "print('statement after the for loop')"
   ]
  },
  {
   "cell_type": "code",
   "execution_count": null,
   "metadata": {},
   "outputs": [],
   "source": [
    "list = [10, 20, 30, 40, 50, 60]\n",
    "\n",
    "for index, value in enumerate(list):\n",
    "    print(index, value)"
   ]
  },
  {
   "cell_type": "code",
   "execution_count": null,
   "metadata": {},
   "outputs": [],
   "source": [
    "l = [10, 20, 30, 40, 50, 60]\n",
    "key = 30\n",
    "\n",
    "for index, value in enumerate(l):\n",
    "    if value == key:\n",
    "        print('Element found at index', index)\n",
    "        break\n",
    "    else:\n",
    "        continue\n",
    "else:\n",
    "    print('Element not found')"
   ]
  },
  {
   "cell_type": "code",
   "execution_count": null,
   "metadata": {},
   "outputs": [],
   "source": [
    "l = [10, 20, 30, 40, 50, 60]\n",
    "key = 60\n",
    "\n",
    "for index, value in enumerate(l):\n",
    "    if value == key:\n",
    "        print('Element found at index', index)\n",
    "        break\n",
    "    else:\n",
    "        pass\n",
    "        print('statement after continue statement')\n",
    "else:\n",
    "    print('Element not found')"
   ]
  },
  {
   "cell_type": "markdown",
   "metadata": {},
   "source": [
    "### 3. while loop"
   ]
  },
  {
   "cell_type": "markdown",
   "metadata": {},
   "source": [
    "while [condition]:&emsp;&emsp;#this should True or False\n",
    "<br>&emsp;statements\n",
    "<br>else:\n"
   ]
  },
  {
   "cell_type": "code",
   "execution_count": null,
   "metadata": {},
   "outputs": [],
   "source": [
    "#1 - 20 number\n",
    "\n",
    "count = 1\n",
    "sum = 0\n",
    "\n",
    "while count <= 20:\n",
    "    sum = sum +count\n",
    "    count = count+1\n",
    "\n",
    "print(sum)"
   ]
  },
  {
   "cell_type": "markdown",
   "metadata": {},
   "source": [
    "## Python Assignment 1 - Conditional and Looping Statement"
   ]
  },
  {
   "cell_type": "markdown",
   "metadata": {},
   "source": [
    "1. Write python program to find those numbers which are divisible by 7 and 5, beetween 1500 and 2700 (both included)"
   ]
  },
  {
   "cell_type": "markdown",
   "metadata": {},
   "source": [
    "2. write a python program to count the number of even and odd numbers from a series of numbers.<br>\n",
    "<br>\n",
    "Sample Numbers:<br>\n",
    "numbers = (1, 2, 3, 4, 5, 6, 7,8 ,9)<br>\n",
    "<br>\n",
    "Expected Output:<br>\n",
    "Number of even numbers: 5<br>\n",
    "Number of odd numbers: 4"
   ]
  },
  {
   "cell_type": "markdown",
   "metadata": {},
   "source": [
    "3. Write a python program which iterates the integers from 1 to 50. For multiples of three print 'Fizz' instead of the number and for the multiples of five print 'Buzz. For numbers which are multiples of both three and five print 'FizzBuzz'.<br>\n",
    "<br>\n",
    "Sample Output:<br>\n",
    "fizzbuzz<br>\n",
    "1<br>\n",
    "2<br>\n",
    "fizz<br>\n",
    "4<br>\n",
    "buzz\n"
   ]
  },
  {
   "cell_type": "markdown",
   "metadata": {},
   "source": [
    "4. Write a python program to calculate the sum and average of n integer numbers"
   ]
  },
  {
   "cell_type": "markdown",
   "metadata": {},
   "source": [
    "5. Factorial of any number n is represented by n! and is equal to 1*2*3*...*n-1*n.<br>\n",
    "<br>\n",
    "E.G.-<br>\n",
    "4! = 4 x 3 x 2 x 1 = 24<br>\n",
    "3! = 3 x 2 x 1 = 6<br>\n",
    "2! = 2 x 1 = 2<br>\n",
    "<br>\n",
    "Also,<br>\n",
    "1! = 1<br>\n",
    "0! = 1<br>\n",
    "<br>\n",
    "Write a program to calculate factorial of a number"
   ]
  },
  {
   "cell_type": "markdown",
   "metadata": {},
   "source": [
    "# **Python Data Types**"
   ]
  },
  {
   "cell_type": "markdown",
   "metadata": {},
   "source": [
    "## String - Closer look at python data types"
   ]
  },
  {
   "cell_type": "markdown",
   "metadata": {},
   "source": [
    "### help string"
   ]
  },
  {
   "cell_type": "code",
   "execution_count": null,
   "metadata": {},
   "outputs": [],
   "source": [
    "help(str)"
   ]
  },
  {
   "cell_type": "code",
   "execution_count": null,
   "metadata": {},
   "outputs": [],
   "source": [
    "print(dir(str))"
   ]
  },
  {
   "cell_type": "markdown",
   "metadata": {},
   "source": [
    "### Data type"
   ]
  },
  {
   "cell_type": "markdown",
   "metadata": {},
   "source": [
    "1. String are immutable\n",
    "2. String is ordered data structure"
   ]
  },
  {
   "cell_type": "code",
   "execution_count": null,
   "metadata": {},
   "outputs": [],
   "source": [
    "string = 'Python sample string'\n",
    "print(string, type(string))\n",
    "\n",
    "string = \"Python sample string\"\n",
    "print(string, type(string))\n",
    "\n",
    "string = \"\"\"Python sample string\"\"\"\n",
    "print(string, type(string))"
   ]
  },
  {
   "cell_type": "code",
   "execution_count": null,
   "metadata": {},
   "outputs": [],
   "source": [
    "s1 = 'python'\n",
    "print(id(s1))\n",
    "\n",
    "s1 = 'java'\n",
    "print(id(s1))"
   ]
  },
  {
   "cell_type": "markdown",
   "metadata": {},
   "source": [
    "### Indexing"
   ]
  },
  {
   "cell_type": "code",
   "execution_count": null,
   "metadata": {},
   "outputs": [],
   "source": [
    "s1 = 'python'\n",
    "print(s1[0])\n",
    "print(s1[2])\n",
    "print(s1[-1])       #backward\n",
    "print(s1[-2])       #backward"
   ]
  },
  {
   "cell_type": "markdown",
   "metadata": {},
   "source": []
  },
  {
   "cell_type": "markdown",
   "metadata": {},
   "source": [
    "### Slicing"
   ]
  },
  {
   "cell_type": "code",
   "execution_count": null,
   "metadata": {},
   "outputs": [],
   "source": [
    "s = 'python'\n",
    "print(s[0:3])\n",
    "\n",
    "s = 'python'\n",
    "print(s[3:])\n",
    "\n",
    "s = 'python'\n",
    "print(s[:3])"
   ]
  },
  {
   "cell_type": "markdown",
   "metadata": {},
   "source": [
    "### stride"
   ]
  },
  {
   "cell_type": "code",
   "execution_count": null,
   "metadata": {},
   "outputs": [],
   "source": [
    "s = 'this is string'\n",
    "print(s[::2])       #print every 2 character\n",
    "print(s[::3])       #print every 3 character\n",
    "print(s[::-1])       #print backward order\n",
    "print(s[::-2])       #print backward order and every 2 character backward"
   ]
  },
  {
   "cell_type": "markdown",
   "metadata": {},
   "source": [
    "### format"
   ]
  },
  {
   "cell_type": "code",
   "execution_count": null,
   "metadata": {},
   "outputs": [],
   "source": [
    "num1 = 100\n",
    "num2 = 200\n",
    "print('value of num1 is {}, value of num2 is {}'.format(num1, num2))\n",
    "print('value of num1 is {0}, value of num2 is {1}'.format(num1, num2))\n",
    "print('value of num1 is {val1}, value of num2 is {val2}'.format(val1 = num1, val2 = num2))"
   ]
  },
  {
   "cell_type": "markdown",
   "metadata": {},
   "source": [
    "### capitalize | upper | lower | tittle"
   ]
  },
  {
   "cell_type": "code",
   "execution_count": null,
   "metadata": {},
   "outputs": [],
   "source": [
    "s = 'Python sample string'\n",
    "print(s)\n",
    "print(id(s))\n",
    "\n",
    "s = s.capitalize()\n",
    "print(s)\n",
    "print(id(s))"
   ]
  },
  {
   "cell_type": "code",
   "execution_count": null,
   "metadata": {},
   "outputs": [],
   "source": [
    "s = 'Python sample string'\n",
    "\n",
    "print(s.upper())\n",
    "print(s.isupper())\n",
    "\n",
    "print(s.lower())\n",
    "print(s.islower())\n",
    "\n",
    "print(s.title())\n",
    "print(s.istitle())"
   ]
  },
  {
   "cell_type": "markdown",
   "metadata": {},
   "source": [
    "### split | join"
   ]
  },
  {
   "cell_type": "code",
   "execution_count": null,
   "metadata": {},
   "outputs": [],
   "source": [
    "s = 'HTML,CSS,PYTHON,JAVA,Django'\n",
    "\n",
    "split = s.split(',')\n",
    "print(split)"
   ]
  },
  {
   "cell_type": "code",
   "execution_count": null,
   "metadata": {},
   "outputs": [],
   "source": [
    "s1 = (' ').join(split)\n",
    "print(s1)"
   ]
  },
  {
   "cell_type": "markdown",
   "metadata": {},
   "source": [
    "### maketrans | translate"
   ]
  },
  {
   "cell_type": "code",
   "execution_count": null,
   "metadata": {},
   "outputs": [],
   "source": [
    "s1 = 'abcd'\n",
    "s2 = '1234'\n",
    "\n",
    "s3 = 'Python Sample string abcd'\n",
    "\n",
    "table = str.maketrans(s1, s2)\n",
    "result = s3.translate(table)\n",
    "\n",
    "print(result)\n"
   ]
  },
  {
   "cell_type": "markdown",
   "metadata": {},
   "source": [
    "### index | find | rfind function"
   ]
  },
  {
   "cell_type": "code",
   "execution_count": null,
   "metadata": {},
   "outputs": [],
   "source": [
    "s = 'HTML,CSS,PYTHON,JAVA,Django,PYTHON'\n",
    "print('PYTHON' in s)\n",
    "print(s.index('PYTHON'))"
   ]
  },
  {
   "cell_type": "code",
   "execution_count": null,
   "metadata": {},
   "outputs": [],
   "source": [
    "print(s.find('PYTHON'))"
   ]
  },
  {
   "cell_type": "code",
   "execution_count": null,
   "metadata": {},
   "outputs": [],
   "source": [
    "print(s.rfind('PYTHON'))"
   ]
  },
  {
   "cell_type": "markdown",
   "metadata": {},
   "source": [
    "### center | ljust | rjust"
   ]
  },
  {
   "cell_type": "code",
   "execution_count": null,
   "metadata": {},
   "outputs": [],
   "source": [
    "s = 'python'\n",
    "s1 = s.center(20,\"*\")\n",
    "print(s1)"
   ]
  },
  {
   "cell_type": "code",
   "execution_count": null,
   "metadata": {},
   "outputs": [],
   "source": [
    "s1 = s.ljust(20,\"*\")\n",
    "print(s1)"
   ]
  },
  {
   "cell_type": "code",
   "execution_count": null,
   "metadata": {},
   "outputs": [],
   "source": [
    "s1 = s.rjust(20,\"*\")\n",
    "print(s1)"
   ]
  },
  {
   "cell_type": "markdown",
   "metadata": {},
   "source": [
    "### replace"
   ]
  },
  {
   "cell_type": "code",
   "execution_count": null,
   "metadata": {},
   "outputs": [],
   "source": [
    "s = 'HTML,CSS,PYTHON,JAVA,Django,PYTHON'\n",
    "s1 = s.replace('HTML','HTML5')\n",
    "print(s1)"
   ]
  },
  {
   "cell_type": "markdown",
   "metadata": {},
   "source": [
    "### strip | lstrip | rstrip"
   ]
  },
  {
   "cell_type": "code",
   "execution_count": null,
   "metadata": {},
   "outputs": [],
   "source": [
    "s = '          This is sample string    '\n",
    "s1 = s.strip(' ')\n",
    "print(s1)"
   ]
  },
  {
   "cell_type": "code",
   "execution_count": null,
   "metadata": {},
   "outputs": [],
   "source": [
    "s = '********This is sample string****'\n",
    "s1 = s.strip('*')\n",
    "print(s1)"
   ]
  },
  {
   "cell_type": "code",
   "execution_count": null,
   "metadata": {},
   "outputs": [],
   "source": [
    "s = '********This is sample string****'\n",
    "s1 = s.lstrip('*')\n",
    "print(s1)"
   ]
  },
  {
   "cell_type": "code",
   "execution_count": null,
   "metadata": {},
   "outputs": [],
   "source": [
    "s = '********This is sample string****'\n",
    "s1 = s.rstrip('*')\n",
    "print(s1)"
   ]
  },
  {
   "cell_type": "markdown",
   "metadata": {},
   "source": [
    "## List - Closer look at python data types"
   ]
  },
  {
   "cell_type": "markdown",
   "metadata": {},
   "source": [
    "### help list"
   ]
  },
  {
   "cell_type": "code",
   "execution_count": null,
   "metadata": {},
   "outputs": [],
   "source": [
    "help(list)"
   ]
  },
  {
   "cell_type": "code",
   "execution_count": null,
   "metadata": {},
   "outputs": [],
   "source": [
    "print(dir(list))"
   ]
  },
  {
   "cell_type": "markdown",
   "metadata": {},
   "source": [
    "### datatype"
   ]
  },
  {
   "cell_type": "markdown",
   "metadata": {},
   "source": [
    "1. List are mutable - add update and delete\n",
    "2. ordered indexing and slicing\n",
    "3. heterogeneous datatype"
   ]
  },
  {
   "cell_type": "code",
   "execution_count": null,
   "metadata": {},
   "outputs": [],
   "source": [
    "l = [10, 20, 30, 40, 'Python', 'Java', [100, 200, 300]]     #list inside list\n",
    "print(l, type(l))"
   ]
  },
  {
   "cell_type": "markdown",
   "metadata": {},
   "source": [
    "### indexing and slicing"
   ]
  },
  {
   "cell_type": "code",
   "execution_count": null,
   "metadata": {},
   "outputs": [],
   "source": [
    "l = [10, 20, 30, 40, 'Python', 'Java', [100, 200, 300]]\n",
    "print(l[0])\n",
    "\n",
    "print(l[-1])\n",
    "\n",
    "print(l[-1][0])     #indexin inside index"
   ]
  },
  {
   "cell_type": "code",
   "execution_count": null,
   "metadata": {},
   "outputs": [],
   "source": [
    "print(l[0:3])\n",
    "\n",
    "print(l[::-1])      #start backward"
   ]
  },
  {
   "cell_type": "code",
   "execution_count": null,
   "metadata": {},
   "outputs": [],
   "source": [
    "l = [100, 200, 300, 400, 500]\n",
    "\n",
    "for value in l:\n",
    "    print(value)\n",
    "\n",
    "for value in l[::2]:        #skip every 2 value\n",
    "    print(value)"
   ]
  },
  {
   "cell_type": "markdown",
   "metadata": {},
   "source": [
    "### append | extend | insert | copy"
   ]
  },
  {
   "cell_type": "code",
   "execution_count": null,
   "metadata": {},
   "outputs": [],
   "source": [
    "l = [100, 200, 300, 400, 500]\n",
    "print(l)\n",
    "print(id(l))\n",
    "\n",
    "l.append(600)\n",
    "print(l)\n",
    "print(id(l))\n",
    "\n",
    "l.extend([500, 600, 700, 800])      #can add value inside element\n",
    "print(l)\n",
    "\n",
    "l.append([500, 600, 700, 800])      #only add 1 element\n",
    "print(l)\n",
    "\n",
    "l.extend('python')\n",
    "print(l)\n",
    "\n",
    "l.append('python')\n",
    "print(l)\n",
    "\n",
    "l.insert(0, 'apple')\n",
    "print(l)\n",
    "\n",
    "l.insert(5, 'orange')\n",
    "print(l)"
   ]
  },
  {
   "cell_type": "markdown",
   "metadata": {},
   "source": [
    "### update | pop | | remove | clear | delete"
   ]
  },
  {
   "cell_type": "code",
   "execution_count": null,
   "metadata": {},
   "outputs": [],
   "source": [
    "l = [10, 20, 30, 40, 50]\n",
    "l[2] = 300\n",
    "print(l)\n",
    "\n",
    "r = l.pop()     #remove the last element\n",
    "print(l)\n",
    "print(l,r)\n",
    "\n",
    "\n",
    "r = l.pop(2)        #remove the third element\n",
    "print(l)\n",
    "print(l,r)\n",
    "\n",
    "l.remove(20)\n",
    "print(l)"
   ]
  },
  {
   "cell_type": "code",
   "execution_count": null,
   "metadata": {},
   "outputs": [],
   "source": [
    "l = [10, 20, 30, 40, 50]\n",
    "\n",
    "l.clear()\n",
    "print(l)"
   ]
  },
  {
   "cell_type": "code",
   "execution_count": null,
   "metadata": {},
   "outputs": [],
   "source": [
    "l = [10, 20, 30, 40, 50]\n",
    "\n",
    "del l\n",
    "print(l)"
   ]
  },
  {
   "cell_type": "markdown",
   "metadata": {},
   "source": [
    "### sort | reverse | sorted | index | count"
   ]
  },
  {
   "cell_type": "code",
   "execution_count": null,
   "metadata": {},
   "outputs": [],
   "source": [
    "l = [40, 50, 20, 30, 10]\n",
    "\n",
    "l.sort()\n",
    "print(l)\n",
    "\n",
    "l.reverse() #or can use print(l[::-1])\n",
    "print(l)"
   ]
  },
  {
   "cell_type": "code",
   "execution_count": null,
   "metadata": {},
   "outputs": [],
   "source": [
    "l = [40, 50, 20, 30, 10]\n",
    "\n",
    "l2 = sorted(l)\n",
    "print(l2)"
   ]
  },
  {
   "cell_type": "code",
   "execution_count": null,
   "metadata": {},
   "outputs": [],
   "source": [
    "l = [10, 20, 30, 40, 50]\n",
    "\n",
    "print(l.index(30))"
   ]
  },
  {
   "cell_type": "code",
   "execution_count": null,
   "metadata": {},
   "outputs": [],
   "source": [
    "l = [10, 20, 30, 30, 30, 40, 50]\n",
    "\n",
    "print(l.count(30))"
   ]
  },
  {
   "cell_type": "code",
   "execution_count": null,
   "metadata": {},
   "outputs": [],
   "source": [
    "l = [10, 20, 30]\n",
    "l2 = [100, 200, 300]\n",
    "\n",
    "print(l + l2)"
   ]
  },
  {
   "cell_type": "code",
   "execution_count": null,
   "metadata": {},
   "outputs": [],
   "source": [
    "l = [10]\n",
    "print(l * 10)"
   ]
  },
  {
   "cell_type": "markdown",
   "metadata": {},
   "source": [
    "## Tuple - Closer look at python data types"
   ]
  },
  {
   "cell_type": "markdown",
   "metadata": {},
   "source": [
    "### help tuple"
   ]
  },
  {
   "cell_type": "code",
   "execution_count": null,
   "metadata": {},
   "outputs": [],
   "source": [
    "help(tuple)"
   ]
  },
  {
   "cell_type": "code",
   "execution_count": null,
   "metadata": {},
   "outputs": [],
   "source": [
    "print(dir(tuple))"
   ]
  },
  {
   "cell_type": "markdown",
   "metadata": {},
   "source": [
    "### datatype"
   ]
  },
  {
   "cell_type": "markdown",
   "metadata": {},
   "source": [
    "1. immutable datastructure\n",
    "2. ordered indexing and slicing"
   ]
  },
  {
   "cell_type": "code",
   "execution_count": null,
   "metadata": {},
   "outputs": [],
   "source": [
    "t = (10, 20, 30, 40, 50)\n",
    "print(t, type(t))"
   ]
  },
  {
   "cell_type": "markdown",
   "metadata": {},
   "source": []
  },
  {
   "cell_type": "markdown",
   "metadata": {},
   "source": [
    "### indexing | count"
   ]
  },
  {
   "cell_type": "code",
   "execution_count": null,
   "metadata": {},
   "outputs": [],
   "source": [
    "t = (10, 20, 30, 40, 50)\n",
    "\n",
    "print(t[1])\n",
    "print(t[-1])\n",
    "print(t[3:])\n",
    "print(t[:3])"
   ]
  },
  {
   "cell_type": "code",
   "execution_count": null,
   "metadata": {},
   "outputs": [],
   "source": [
    "a = (10, 20, 20, 20, 30, 40, 40, 50)\n",
    "print(a.count(20))\n",
    "print(a.count(40))"
   ]
  },
  {
   "cell_type": "code",
   "execution_count": null,
   "metadata": {},
   "outputs": [],
   "source": [
    "t = (10, 20, 30, 40, 50)\n",
    "l = [10, 20, 30, 40, 50]\n",
    "\n",
    "for t in enumerate(l):\n",
    "    print(a)\n",
    "\n",
    "for t in enumerate(l):\n",
    "    print(a[0])                #if we want to see only index\n",
    "\n",
    "for t in enumerate(l):\n",
    "    print(a[1])                #if we want to see only value"
   ]
  },
  {
   "cell_type": "markdown",
   "metadata": {},
   "source": [
    "## Dictionary - Closer look at python data types"
   ]
  },
  {
   "cell_type": "markdown",
   "metadata": {},
   "source": [
    "### help dictionary"
   ]
  },
  {
   "cell_type": "code",
   "execution_count": null,
   "metadata": {},
   "outputs": [],
   "source": [
    "help(dict)"
   ]
  },
  {
   "cell_type": "code",
   "execution_count": null,
   "metadata": {},
   "outputs": [],
   "source": [
    "print(dir(dict))"
   ]
  },
  {
   "cell_type": "markdown",
   "metadata": {},
   "source": [
    "### datatype"
   ]
  },
  {
   "cell_type": "markdown",
   "metadata": {},
   "source": [
    "1. mutable\n",
    "2. unordered\n",
    "3. key should be unique  (no duplicate)\n",
    "4. key should be immutable int float str tuple"
   ]
  },
  {
   "cell_type": "code",
   "execution_count": null,
   "metadata": {},
   "outputs": [],
   "source": [
    "d = {'emp_id': 101, 'name': 'abc', 'email': 'abc@gmail.com'}\n",
    "print(d)\n",
    "\n",
    "d['contact_no'] = 123456789\n",
    "print(d)\n",
    "\n",
    "d['contact_no'] = 888888888\n",
    "print(d)"
   ]
  },
  {
   "cell_type": "markdown",
   "metadata": {},
   "source": [
    "### get | setdefault"
   ]
  },
  {
   "cell_type": "code",
   "execution_count": null,
   "metadata": {},
   "outputs": [],
   "source": [
    "d = {'emp_id': 101, 'name': 'abc', 'email': 'abc@gmail.com'}\n",
    "print(d.get('emp_id'))\n",
    "\n",
    "print(d.get('age', -1))     # this to check if the data exist it will return the value but if not it will return -1\n",
    "\n",
    "print(d.get('age', 'Key does not exist'))\n",
    "print(d.get('emp_id', 'Key does not exist'))"
   ]
  },
  {
   "cell_type": "code",
   "execution_count": null,
   "metadata": {},
   "outputs": [],
   "source": [
    "print(d.setdefault('emp_id'))\n",
    "print(d.setdefault('age'))          #set default value to 'None\n",
    "\n",
    "print(d)"
   ]
  },
  {
   "cell_type": "code",
   "execution_count": null,
   "metadata": {},
   "outputs": [],
   "source": [
    "for x in d:\n",
    "    print(x)        #return only column"
   ]
  },
  {
   "cell_type": "code",
   "execution_count": null,
   "metadata": {},
   "outputs": [],
   "source": [
    "for key in d:\n",
    "    print(key, d[key])      #return column with value"
   ]
  },
  {
   "cell_type": "code",
   "execution_count": null,
   "metadata": {},
   "outputs": [],
   "source": [
    "d = {}\n",
    "\n",
    "#1:2, 2:4, 3:9 ... 10:100\n",
    "\n",
    "for value in range(1, 11):\n",
    "    d[value] = value * value\n",
    "print(d)"
   ]
  },
  {
   "cell_type": "markdown",
   "metadata": {},
   "source": [
    "### keys | value | items"
   ]
  },
  {
   "cell_type": "code",
   "execution_count": null,
   "metadata": {},
   "outputs": [],
   "source": [
    "print(d.keys())\n",
    "print(d.values())\n",
    "print(d.items())"
   ]
  },
  {
   "cell_type": "code",
   "execution_count": null,
   "metadata": {},
   "outputs": [],
   "source": [
    "d = {'emp_id': 101, 'name': 'abc', 'email': 'abc@gmail.com'}\n",
    "\n",
    "for t in d.items():\n",
    "    print(t)"
   ]
  },
  {
   "cell_type": "markdown",
   "metadata": {},
   "source": [
    "### Update | Delete"
   ]
  },
  {
   "cell_type": "code",
   "execution_count": null,
   "metadata": {},
   "outputs": [],
   "source": [
    "l1 = [1, 2, 3, 4, 5]\n",
    "l2 = [1, 4, 9, 16, 25]\n",
    "\n",
    "d = dict(zip(l1, l2))       #zip will combine 2 element having same index\n",
    "print(d)"
   ]
  },
  {
   "cell_type": "code",
   "execution_count": null,
   "metadata": {},
   "outputs": [],
   "source": [
    "l = [1, 2, 3, 4, 5]\n",
    "\n",
    "d = dict.fromkeys(l)\n",
    "print(d)\n",
    "\n",
    "d = dict.fromkeys(l, 0)     #setting default value to 0\n",
    "print(d)"
   ]
  },
  {
   "cell_type": "code",
   "execution_count": null,
   "metadata": {},
   "outputs": [],
   "source": [
    "d1 = {1:1, 2:4, 3:9, 4:16}\n",
    "d2 = {5:25, 6:36, 7:49}\n",
    "\n",
    "d1.update(d2)       #updateing dictionary\n",
    "print(d1)"
   ]
  },
  {
   "cell_type": "markdown",
   "metadata": {},
   "source": [
    "### pop | popitem | clear | del"
   ]
  },
  {
   "cell_type": "code",
   "execution_count": null,
   "metadata": {},
   "outputs": [],
   "source": [
    "d1 = {1:1, 2:4, 3:9, 4:16}\n",
    "\n",
    "r = d1.pop(2)      #remove dictionary column 2\n",
    "print(d1)\n",
    "\n",
    "print(d1, r)        #return the value that got remove"
   ]
  },
  {
   "cell_type": "code",
   "execution_count": null,
   "metadata": {},
   "outputs": [],
   "source": [
    "d1 = {1:1, 2:4, 3:9, 4:16}\n",
    "\n",
    "r = d1.popitem()      #will randomly remove item from dictionary\n",
    "print(d1, r)"
   ]
  },
  {
   "cell_type": "code",
   "execution_count": null,
   "metadata": {},
   "outputs": [],
   "source": [
    "d1 = {1:1, 2:4, 3:9, 4:16}\n",
    "\n",
    "d1.clear()    #remove all dictionary\n",
    "print(d1)"
   ]
  },
  {
   "cell_type": "code",
   "execution_count": null,
   "metadata": {},
   "outputs": [],
   "source": [
    "d1 = {1:1, 2:4, 3:9, 4:16}\n",
    "\n",
    "del d1    #remove the table\n",
    "print(d1)"
   ]
  },
  {
   "cell_type": "markdown",
   "metadata": {},
   "source": [
    "## Set - Closer look at python data types"
   ]
  },
  {
   "cell_type": "markdown",
   "metadata": {},
   "source": [
    "### help set"
   ]
  },
  {
   "cell_type": "code",
   "execution_count": null,
   "metadata": {},
   "outputs": [],
   "source": [
    "help(set)"
   ]
  },
  {
   "cell_type": "code",
   "execution_count": null,
   "metadata": {},
   "outputs": [],
   "source": [
    "print(dir(help))"
   ]
  },
  {
   "cell_type": "markdown",
   "metadata": {},
   "source": [
    "### datatype"
   ]
  },
  {
   "cell_type": "markdown",
   "metadata": {},
   "source": [
    "1. Sets are mutable\n",
    "2. All the elements should be unique\n",
    "3. immutable elements in the set (int, float, tuple, string)\n",
    "4. unordered"
   ]
  },
  {
   "cell_type": "code",
   "execution_count": null,
   "metadata": {},
   "outputs": [],
   "source": [
    "s = {10, 20, 30, 40, 50}\n",
    "print(s, type(s))\n",
    "\n",
    "s = {10, 20, 30, 40, 50, 10, 30, 40}        #only unique, cannot duplicate\n",
    "print(s, type(s))"
   ]
  },
  {
   "cell_type": "markdown",
   "metadata": {},
   "source": [
    "### add | update | delete"
   ]
  },
  {
   "cell_type": "code",
   "execution_count": null,
   "metadata": {},
   "outputs": [],
   "source": [
    "s = {100, 200, 300, 400}\n",
    "print(s)\n",
    "\n",
    "s. add(500)         #adding value\n",
    "print(s)"
   ]
  },
  {
   "cell_type": "code",
   "execution_count": null,
   "metadata": {},
   "outputs": [],
   "source": [
    "s1 = {10, 20, 30, 40, 50, 60}\n",
    "s2 = {40, 50, 60, 70, 80, 90}\n",
    "\n",
    "s3 = s1.union(s2)       #combine the element but only the unique\n",
    "print(s3)"
   ]
  },
  {
   "cell_type": "code",
   "execution_count": null,
   "metadata": {},
   "outputs": [],
   "source": [
    "s1 = {10, 20, 30, 40, 50, 60}\n",
    "s2 = {40, 50, 60, 70, 80, 90}\n",
    "\n",
    "s3 = s1.intersection(s2)       #combine the element but only the common element\n",
    "print(s3)"
   ]
  },
  {
   "cell_type": "code",
   "execution_count": null,
   "metadata": {},
   "outputs": [],
   "source": [
    "s1 = {10, 20, 30, 40, 50, 60}\n",
    "s2 = {40, 50, 60, 70, 80, 90}\n",
    "\n",
    "s3 = s1.difference(s2)       #combine the element but only volue that not present in s2\n",
    "print(s3)\n",
    "\n",
    "s3 = s2.difference(s1)       #combine the element but only volue that not present in s1\n",
    "print(s3)"
   ]
  },
  {
   "cell_type": "code",
   "execution_count": null,
   "metadata": {},
   "outputs": [],
   "source": [
    "s1 = {10, 20, 30, 40, 50, 60}\n",
    "s2 = {40, 50, 60, 70, 80, 90}\n",
    "\n",
    "s3 = s1.symmetric_difference(s2)       #combine the element but only volue that present in s2 except the common\n",
    "print(s3)"
   ]
  },
  {
   "cell_type": "code",
   "execution_count": null,
   "metadata": {},
   "outputs": [],
   "source": [
    "s1 = {10, 20, 30, 40, 50, 60}\n",
    "s2 = {40, 50, 60, 70, 80, 90}\n",
    "\n",
    "print(s1)\n",
    "s1.update(s2)       #will return union but will not update anything\n",
    "print(s1)\n",
    "\n",
    "s1.intersection_update(s2)      #same with intersection()\n",
    "print(s1)\n",
    "\n",
    "s1.difference_update(s2)      #same with difference()\n",
    "print(s1)\n",
    "\n",
    "s1.symmetric_difference_update(s2)      #same with symmetric_difference()\n",
    "print(s1)"
   ]
  },
  {
   "cell_type": "code",
   "execution_count": null,
   "metadata": {},
   "outputs": [],
   "source": [
    "s1 = {100, 200, 300, 400, 500}\n",
    "s2 = {100, 200, 300}\n",
    "\n",
    "print(s2.issubset(s1))      #if element in subset s2 present in element in subset s1 it will return 'TRUE'\n",
    "print(s1.issuperset(s2))\n",
    "\n",
    "s1 = {100, 200, 300, 400, 500}\n",
    "s2 = {100, 200, 300, 800}\n",
    "\n",
    "print(s2.issubset(s1))      #because 800 in s2 not present in s1 it return 'FALSE'\n",
    "print(s1.issuperset(s2))"
   ]
  },
  {
   "cell_type": "code",
   "execution_count": null,
   "metadata": {},
   "outputs": [],
   "source": [
    "l = [100, 200, 300, 400, 500]\n",
    "\n",
    "s = set(l)\n",
    "print(s)\n",
    "\n",
    "l = [100, 200, 300, 400, 500, 100, 300]     #only return unique\n",
    "\n",
    "s = set(l)\n",
    "print(s)"
   ]
  },
  {
   "cell_type": "markdown",
   "metadata": {},
   "source": [
    "For delete it similar with dictionary"
   ]
  },
  {
   "cell_type": "markdown",
   "metadata": {},
   "source": [
    "## Math and Random Module"
   ]
  },
  {
   "cell_type": "markdown",
   "metadata": {},
   "source": [
    "### example"
   ]
  },
  {
   "cell_type": "code",
   "execution_count": null,
   "metadata": {},
   "outputs": [],
   "source": [
    "l = [100, 200, 300, 400, 500]\n",
    "print(sum(l))"
   ]
  },
  {
   "cell_type": "code",
   "execution_count": null,
   "metadata": {},
   "outputs": [],
   "source": [
    "l = [100, 200, 300, 400, 500]\n",
    "print(max(l))"
   ]
  },
  {
   "cell_type": "code",
   "execution_count": null,
   "metadata": {},
   "outputs": [],
   "source": [
    "l = [100, 200, 300, 400, 500]\n",
    "print(min(l))"
   ]
  },
  {
   "cell_type": "code",
   "execution_count": null,
   "metadata": {},
   "outputs": [],
   "source": [
    "num = 25.555\n",
    "print(round(num))\n",
    "\n",
    "num = 25.555\n",
    "print(round(num, 2))"
   ]
  },
  {
   "cell_type": "code",
   "execution_count": null,
   "metadata": {},
   "outputs": [],
   "source": [
    "num = 25.555\n",
    "print(floor(num))"
   ]
  },
  {
   "cell_type": "markdown",
   "metadata": {},
   "source": [
    "### help math and random"
   ]
  },
  {
   "cell_type": "code",
   "execution_count": null,
   "metadata": {},
   "outputs": [],
   "source": [
    "help(math)"
   ]
  },
  {
   "cell_type": "code",
   "execution_count": null,
   "metadata": {},
   "outputs": [],
   "source": [
    "print(dir(math))"
   ]
  },
  {
   "cell_type": "code",
   "execution_count": null,
   "metadata": {},
   "outputs": [],
   "source": [
    "help(random)"
   ]
  },
  {
   "cell_type": "code",
   "execution_count": null,
   "metadata": {},
   "outputs": [],
   "source": [
    "print(dir(random))"
   ]
  },
  {
   "cell_type": "markdown",
   "metadata": {},
   "source": [
    "### Import math"
   ]
  },
  {
   "cell_type": "code",
   "execution_count": null,
   "metadata": {},
   "outputs": [],
   "source": [
    "import math\n",
    "\n",
    "l = [0.1] * 10\n",
    "\n",
    "#difference with or without 'math'\n",
    "print(l)\n",
    "print(sum(l))\n",
    "print(math.fsum(l))"
   ]
  },
  {
   "cell_type": "code",
   "execution_count": null,
   "metadata": {},
   "outputs": [],
   "source": [
    "num1 = 15.55\n",
    "print(math.floor(num1), math.ceil(num1))"
   ]
  },
  {
   "cell_type": "code",
   "execution_count": null,
   "metadata": {},
   "outputs": [],
   "source": [
    "print(math.sqrt(25))\n",
    "\n",
    "print(math.factorial(5))\n",
    "\n",
    "print(math.pow(10, 2))\n",
    "\n",
    "print(math.log10(2))\n",
    "\n",
    "print(math.log2(10))\n",
    "\n",
    "print(math.sin(30))"
   ]
  },
  {
   "cell_type": "markdown",
   "metadata": {},
   "source": [
    "### import random"
   ]
  },
  {
   "cell_type": "code",
   "execution_count": null,
   "metadata": {},
   "outputs": [],
   "source": [
    "import random\n",
    "\n",
    "print(random.random())"
   ]
  },
  {
   "cell_type": "code",
   "execution_count": null,
   "metadata": {},
   "outputs": [],
   "source": [
    "l = [1, 2, 3, 4, 5, 6]\n",
    "\n",
    "print(random.choice(l))"
   ]
  },
  {
   "cell_type": "code",
   "execution_count": null,
   "metadata": {},
   "outputs": [],
   "source": [
    "print(random.randint(1,3))      #random between 1-2\n",
    "\n",
    "print(random.randrange(1,3))    #random between 1-3\n",
    "\n",
    "print(random.uniform(10,20))"
   ]
  },
  {
   "cell_type": "markdown",
   "metadata": {},
   "source": [
    "# **Python Function**"
   ]
  },
  {
   "cell_type": "markdown",
   "metadata": {},
   "source": [
    "## User Defined Function"
   ]
  },
  {
   "cell_type": "markdown",
   "metadata": {},
   "source": [
    "### user define"
   ]
  },
  {
   "cell_type": "markdown",
   "metadata": {},
   "source": [
    "1. Code reuse\n",
    "2. Modularity"
   ]
  },
  {
   "cell_type": "markdown",
   "metadata": {},
   "source": [
    "### Func Def | Call"
   ]
  },
  {
   "cell_type": "code",
   "execution_count": 23,
   "metadata": {},
   "outputs": [],
   "source": [
    "def value_reverse(value):\n",
    "    reverse = value [::-1]\n",
    "    print(reverse)          #return value with answer\n",
    "    \n",
    "def value_reverse2(value):\n",
    "    reverse = value [::-1]\n",
    "    return reverse          #return value without answer\n",
    "\n",
    "def value_reverse3(value):\n",
    "    if type(value)==list or type(value)==str:\n",
    "        reverse = value [::-1]\n",
    "    else:\n",
    "        temp = str(value)\n",
    "        reverse = temp[::-1]\n",
    "    return reverse          #slasing operation will not work passing integer \n",
    "                            #so change to string first"
   ]
  },
  {
   "cell_type": "code",
   "execution_count": 28,
   "metadata": {},
   "outputs": [
    {
     "name": "stdout",
     "output_type": "stream",
     "text": [
      "nohtyP\n",
      "None return with value\n",
      "nohtyP return without value\n"
     ]
    }
   ],
   "source": [
    "s = 'Python'\n",
    "result = value_reverse(s)\n",
    "print(result, 'return with value')\n",
    "\n",
    "result2 = value_reverse2(s)\n",
    "print(result2, 'return without value')\n"
   ]
  },
  {
   "cell_type": "code",
   "execution_count": 22,
   "metadata": {},
   "outputs": [
    {
     "name": "stdout",
     "output_type": "stream",
     "text": [
      "[50, 40, 30, 20, 10]\n"
     ]
    }
   ],
   "source": [
    "list = [100, 200, 300, 400]\n",
    "result = value_reverse2(l)\n",
    "print(result)"
   ]
  },
  {
   "cell_type": "code",
   "execution_count": 29,
   "metadata": {},
   "outputs": [
    {
     "name": "stdout",
     "output_type": "stream",
     "text": [
      "001\n"
     ]
    }
   ],
   "source": [
    "num = 100\n",
    "result = value_reverse3(num)\n",
    "print(result)"
   ]
  },
  {
   "cell_type": "markdown",
   "metadata": {},
   "source": [
    "## Parameter Passing Techniques"
   ]
  },
  {
   "cell_type": "markdown",
   "metadata": {},
   "source": [
    "### Positional | Default | Keyword Parameters"
   ]
  },
  {
   "cell_type": "code",
   "execution_count": 2,
   "metadata": {},
   "outputs": [],
   "source": [
    "#positional argument\n",
    "\n",
    "def linear_search(l, key):\n",
    "    for value in l:\n",
    "        if key==value:\n",
    "            return True\n",
    "    else:\n",
    "        return False"
   ]
  },
  {
   "cell_type": "code",
   "execution_count": 4,
   "metadata": {},
   "outputs": [
    {
     "name": "stdout",
     "output_type": "stream",
     "text": [
      "True\n",
      "False\n"
     ]
    }
   ],
   "source": [
    "l = [100, 200, 300, 400, 500]\n",
    "key = 400\n",
    "result = linear_search(l, key)\n",
    "print(result)\n",
    "\n",
    "key = 4000\n",
    "result = linear_search(l, key)\n",
    "print(result)"
   ]
  },
  {
   "cell_type": "code",
   "execution_count": 9,
   "metadata": {},
   "outputs": [
    {
     "name": "stdout",
     "output_type": "stream",
     "text": [
      "97 122\n",
      "65 90\n",
      "a\n"
     ]
    }
   ],
   "source": [
    "#default argument\n",
    "\n",
    "# 8 char\n",
    "# 1 upper\n",
    "# 1 lower\n",
    "# 1 special char\n",
    "# 5 digit\n",
    "\n",
    "#ord function\n",
    "#chr function\n",
    "\n",
    "print(ord('a'), ord('z'))\n",
    "print(ord('A'), ord('Z'))\n",
    "print(chr(97))\n",
    "    "
   ]
  },
  {
   "cell_type": "code",
   "execution_count": 36,
   "metadata": {},
   "outputs": [],
   "source": [
    "import random\n",
    "\n",
    "def generate_password():\n",
    "    list = ['!', '@', '#', '$', '%', '^', '&', '*']\n",
    "    upper = chr(random.randint(65, 90))\n",
    "    lower = chr(random.randint(97, 122))\n",
    "    special = random.choice(list)\n",
    "    digit = random.randint(10000, 99999)\n",
    "    password = upper + lower + special + str(digit)\n",
    "    return password\n",
    "\n",
    "def generate_password2(length=8):\n",
    "    list = ['!', '@', '#', '$', '%', '^', '&', '*']\n",
    "    upper = chr(random.randint(65, 90))\n",
    "    lower = chr(random.randint(97, 122))\n",
    "    special = random.choice(list)\n",
    "    digit = random.randint(10000, 99999)\n",
    "    password = upper + lower + special + str(digit)\n",
    "    l = random.sample(password, length)\n",
    "    password = ('').join(l)\n",
    "    return password"
   ]
  },
  {
   "cell_type": "code",
   "execution_count": 39,
   "metadata": {},
   "outputs": [
    {
     "name": "stdout",
     "output_type": "stream",
     "text": [
      "Rq*92209\n",
      "5t*41G95\n",
      "5569F\n"
     ]
    }
   ],
   "source": [
    "result = generate_password()\n",
    "print(result)\n",
    "\n",
    "result = generate_password2()\n",
    "print(result)\n",
    "\n",
    "result = generate_password2(5)\n",
    "print(result)"
   ]
  },
  {
   "cell_type": "code",
   "execution_count": 42,
   "metadata": {},
   "outputs": [],
   "source": [
    "#keyword argument\n",
    "\n",
    "def validate(username, password):\n",
    "    if username == 'ABC' and password == 'Abc@123':\n",
    "        print('Valid Password')\n",
    "    else:\n",
    "        print('Invalid Password')"
   ]
  },
  {
   "cell_type": "code",
   "execution_count": 46,
   "metadata": {},
   "outputs": [
    {
     "name": "stdout",
     "output_type": "stream",
     "text": [
      "Valid Password\n",
      "Invalid Password\n",
      "Valid Password\n"
     ]
    }
   ],
   "source": [
    "validate('ABC',  'Abc@123')\n",
    "validate('Abc@123', 'ABC')\n",
    "validate(password = 'Abc@123', username = 'ABC')"
   ]
  },
  {
   "cell_type": "markdown",
   "metadata": {},
   "source": [
    "### Variable Length Positional argument | Variable Length Keyword argument"
   ]
  },
  {
   "cell_type": "code",
   "execution_count": 55,
   "metadata": {},
   "outputs": [],
   "source": [
    "#Variable Length Positional argument\n",
    "\n",
    "def add_value(*args):       #return tuple\n",
    "    print(args)\n",
    "    \n",
    "def add_value2(*args):       #return list\n",
    "    l= []\n",
    "    for value in args:\n",
    "        l.append(value)\n",
    "    return l"
   ]
  },
  {
   "cell_type": "code",
   "execution_count": 61,
   "metadata": {},
   "outputs": [
    {
     "name": "stdout",
     "output_type": "stream",
     "text": [
      "(100, 200, 300, 400, 500, 600, 700, 800)\n",
      "None\n",
      "[100, 200, 300, 400, 500, 600, 700, 800]\n"
     ]
    }
   ],
   "source": [
    "result = add_value(100, 200, 300, 400, 500, 600, 700, 800)\n",
    "print(result)\n",
    "\n",
    "result = add_value2(100, 200, 300, 400, 500, 600, 700, 800)\n",
    "print(result)"
   ]
  },
  {
   "cell_type": "code",
   "execution_count": 65,
   "metadata": {},
   "outputs": [],
   "source": [
    "# Variable Length Keyword argument\n",
    "\n",
    "# name, email, contact, dob\n",
    "\n",
    "def get_details(**kwargs):\n",
    "    print(kwargs)"
   ]
  },
  {
   "cell_type": "code",
   "execution_count": 66,
   "metadata": {},
   "outputs": [
    {
     "name": "stdout",
     "output_type": "stream",
     "text": [
      "{'name': 'ABC', 'email': 'abc@gmail.com', 'contact': '123456789', 'dob': '12-05-2022'}\n",
      "{'name': 'ABC', 'email': 'abc@gmail.com', 'dob': '12-05-2022'}\n",
      "{'name': 'ABC', 'contact': '123456789', 'dob': '12-05-2022'}\n"
     ]
    }
   ],
   "source": [
    "get_details(name='ABC', email='abc@gmail.com', contact='123456789', dob='12-05-2022')\n",
    "get_details(name='ABC', email='abc@gmail.com', dob='12-05-2022')\n",
    "get_details(name='ABC', contact='123456789', dob='12-05-2022')"
   ]
  },
  {
   "cell_type": "markdown",
   "metadata": {},
   "source": [
    "### Recursive Functions"
   ]
  },
  {
   "cell_type": "code",
   "execution_count": 69,
   "metadata": {},
   "outputs": [],
   "source": [
    "def factorial(num):\n",
    "    if num == 1:\n",
    "        return 1\n",
    "    else: \n",
    "        return num * factorial(num - 1)"
   ]
  },
  {
   "cell_type": "code",
   "execution_count": 70,
   "metadata": {},
   "outputs": [
    {
     "name": "stdout",
     "output_type": "stream",
     "text": [
      "120\n"
     ]
    },
    {
     "data": {
      "text/plain": [
       "120"
      ]
     },
     "execution_count": 70,
     "metadata": {},
     "output_type": "execute_result"
    }
   ],
   "source": [
    "num1 = 5\n",
    "result = factorial(num1)\n",
    "print(result)\n",
    "\n",
    "factorial(5)\n",
    "\n",
    "# factorial(5) = 5 * fact(4)\n",
    "#                     4 * fact(3)\n",
    "#                             3 * fact(2)\n",
    "#                                 2 * fact(1)\n",
    "#                                     1\n",
    "\n"
   ]
  },
  {
   "cell_type": "code",
   "execution_count": 4,
   "metadata": {},
   "outputs": [],
   "source": [
    "#recursion binary search\n",
    "\n",
    "def binary_search(l, key):\n",
    "    \n",
    "    if len(l) == 0:\n",
    "        return False\n",
    "    else:\n",
    "        mid = len(l) // 2       #if not using floor (//) then the data will return float and we want the result return in int\n",
    "        \n",
    "        if l[mid] == key:\n",
    "            return True\n",
    "        elif key < l[mid]:\n",
    "            return binary_search(l[:mid], key)\n",
    "        else:\n",
    "            return binary_search(l[mid+1:], key)\n"
   ]
  },
  {
   "cell_type": "code",
   "execution_count": 5,
   "metadata": {},
   "outputs": [
    {
     "name": "stdout",
     "output_type": "stream",
     "text": [
      "False\n"
     ]
    }
   ],
   "source": [
    "l = [100, 200, 300, 400, 500, 600, 700, 800, 900]\n",
    "key = 1000\n",
    "\n",
    "result = binary_search(l, key)\n",
    "print(result)\n",
    "\n",
    "# # mid = 9 / 2 = 4 = \n",
    "# 500 == 700 True\n",
    "# [600, 700, 800, 900]\n",
    "# mid = 4 / 2 = 2\n",
    "# 800 == 700\n",
    "# mid = 2 / 2 = 1\n",
    "# [700 = 700 return True]"
   ]
  },
  {
   "cell_type": "markdown",
   "metadata": {},
   "source": [
    "# **Python Modules and Packages**"
   ]
  },
  {
   "cell_type": "markdown",
   "metadata": {},
   "source": [
    "## Creating Modules and Packages"
   ]
  },
  {
   "cell_type": "markdown",
   "metadata": {},
   "source": [
    "See Creating_module.py and module.py"
   ]
  },
  {
   "cell_type": "markdown",
   "metadata": {},
   "source": [
    "## Regular Expression (RE) Module | Regx Meta-character"
   ]
  },
  {
   "cell_type": "code",
   "execution_count": 5,
   "metadata": {},
   "outputs": [
    {
     "name": "stdout",
     "output_type": "stream",
     "text": [
      "['ABCDE1234A']\n",
      "['ABCDE1234A']\n",
      "[]\n",
      "[]\n"
     ]
    }
   ],
   "source": [
    "import re\n",
    "\n",
    "# .             any char\n",
    "# [a-z A-Z]     char class a or b or c ... or z A or B or ... Z\n",
    "# [0-9]         digit class 0 or 1 or 2 ... or 9\n",
    "# +             atleast one [a-z]+\n",
    "# *             zero or more\n",
    "\n",
    "# ^             start of the string\n",
    "# $             end of the string\n",
    "\n",
    "# ?             optional\n",
    "\n",
    "# [0-9]         \\d digit\n",
    "# [^0-9]        \\d start with digit\n",
    "\n",
    "# [a-zA-Z0-9]   \\w #anything with\n",
    "#               \\W anything other than\n",
    "\n",
    "# space         \\s\n",
    "#               \\Sanything other than\n",
    "\n",
    "s = 'ABCDE1234A'\n",
    "r = re.compile('[A-Z]{5}[0-9]{4}[A-Z]') #if only single character doen's need put {1}\n",
    "l = re.findall(r, s)\n",
    "\n",
    "print(l)\n",
    "\n",
    "s = 'AAAABCDE1234A'\n",
    "r = re.compile('[A-Z]{5}[0-9]{4}[A-Z]')\n",
    "l = re.findall(r, s)\n",
    "\n",
    "print(l)\n",
    "\n",
    "s = 'AAAABCDE1234A'\n",
    "r = re.compile('^[A-Z]{5}[0-9]{4}[A-Z]')\n",
    "l = re.findall(r, s)\n",
    "\n",
    "print(l)        #why it still blank? because every 'A' count as single character and we only want the 5 alphabet character but it has 8 character\n",
    "\n",
    "s = 'AAAABCDE1234AAAA'\n",
    "r = re.compile('[A-Z]{5}[0-9]{4}[A-Z]$')\n",
    "l = re.findall(r, s)\n",
    "\n",
    "print(l) #why it still blank? because every 'A' count as single character and we only want the first alphabet character but we have 4 character"
   ]
  },
  {
   "cell_type": "code",
   "execution_count": 12,
   "metadata": {},
   "outputs": [
    {
     "name": "stdout",
     "output_type": "stream",
     "text": [
      "['8123456789']\n",
      "['8888123456']\n",
      "[]\n"
     ]
    }
   ],
   "source": [
    "s = '8123456789'\n",
    "r = re.compile('[6-9][0-9]{9}')\n",
    "l = re.findall(r, s)\n",
    "\n",
    "print(l)\n",
    "\n",
    "s = '8888123456789'\n",
    "r = re.compile('^[6-9][0-9]{9}')\n",
    "l = re.findall(r, s)\n",
    "\n",
    "print(l)\n",
    "\n",
    "s = '8888123456789'\n",
    "r = re.compile('^[6-9][0-9]{9}$')\n",
    "l = re.findall(r, s)\n",
    "\n",
    "print(l)    #blank because it will only chech 10 digit, if more than blank"
   ]
  },
  {
   "cell_type": "code",
   "execution_count": 10,
   "metadata": {},
   "outputs": [
    {
     "name": "stdout",
     "output_type": "stream",
     "text": [
      "['12-05-2018']\n"
     ]
    }
   ],
   "source": [
    "#dd-mm-yyyy\n",
    "\n",
    "s= '12-05-2018'\n",
    "r = re.compile('^[0-9]{2}-[0-9]{2}-[0-9]{4}$')\n",
    "l = re.findall(r, s)\n",
    "\n",
    "print(l)"
   ]
  },
  {
   "cell_type": "markdown",
   "metadata": {},
   "source": [
    "## RE Module"
   ]
  },
  {
   "cell_type": "code",
   "execution_count": 17,
   "metadata": {},
   "outputs": [
    {
     "name": "stdout",
     "output_type": "stream",
     "text": [
      "<re.Match object; span=(0, 10), match='12-05-2018'>\n",
      "None\n",
      "12-05-2018\n"
     ]
    },
    {
     "ename": "AttributeError",
     "evalue": "'NoneType' object has no attribute 'group'",
     "output_type": "error",
     "traceback": [
      "\u001b[1;31m---------------------------------------------------------------------------\u001b[0m",
      "\u001b[1;31mAttributeError\u001b[0m                            Traceback (most recent call last)",
      "\u001b[1;32md:\\Project\\Visual Studio Code\\Online Learning\\Udemy\\Udemy - python-programming-beginner-to-advanced\\Udemy - python-programming-beginner-to-advanced.ipynb Cell 273\u001b[0m in \u001b[0;36m<module>\u001b[1;34m\u001b[0m\n\u001b[0;32m     <a href='vscode-notebook-cell:/d%3A/Project/Visual%20Studio%20Code/Online%20Learning/Udemy/Udemy%20-%20python-programming-beginner-to-advanced/Udemy%20-%20python-programming-beginner-to-advanced.ipynb#Y542sZmlsZQ%3D%3D?line=16'>17</a>\u001b[0m r \u001b[39m=\u001b[39m re\u001b[39m.\u001b[39mcompile(\u001b[39m'\u001b[39m\u001b[39m^[0-9]\u001b[39m\u001b[39m{2}\u001b[39;00m\u001b[39m-[0-9]\u001b[39m\u001b[39m{2}\u001b[39;00m\u001b[39m-[0-9]\u001b[39m\u001b[39m{4}\u001b[39;00m\u001b[39m$\u001b[39m\u001b[39m'\u001b[39m)\n\u001b[0;32m     <a href='vscode-notebook-cell:/d%3A/Project/Visual%20Studio%20Code/Online%20Learning/Udemy/Udemy%20-%20python-programming-beginner-to-advanced/Udemy%20-%20python-programming-beginner-to-advanced.ipynb#Y542sZmlsZQ%3D%3D?line=17'>18</a>\u001b[0m m \u001b[39m=\u001b[39m re\u001b[39m.\u001b[39msearch(r, s)\n\u001b[1;32m---> <a href='vscode-notebook-cell:/d%3A/Project/Visual%20Studio%20Code/Online%20Learning/Udemy/Udemy%20-%20python-programming-beginner-to-advanced/Udemy%20-%20python-programming-beginner-to-advanced.ipynb#Y542sZmlsZQ%3D%3D?line=18'>19</a>\u001b[0m \u001b[39mprint\u001b[39m(m\u001b[39m.\u001b[39;49mgroup())\n",
      "\u001b[1;31mAttributeError\u001b[0m: 'NoneType' object has no attribute 'group'"
     ]
    }
   ],
   "source": [
    "s= '12-05-2018'\n",
    "r = re.compile('^[0-9]{2}-[0-9]{2}-[0-9]{4}$')\n",
    "m = re.search(r, s)\n",
    "print(m)\n",
    "\n",
    "s= '12-05-201'\n",
    "r = re.compile('^[0-9]{2}-[0-9]{2}-[0-9]{4}$')\n",
    "m = re.search(r, s)\n",
    "print(m)\n",
    "\n",
    "s= '12-05-2018'\n",
    "r = re.compile('^[0-9]{2}-[0-9]{2}-[0-9]{4}$')\n",
    "m = re.search(r, s)\n",
    "print(m.group())"
   ]
  },
  {
   "cell_type": "code",
   "execution_count": 20,
   "metadata": {},
   "outputs": [
    {
     "ename": "AttributeError",
     "evalue": "'NoneType' object has no attribute 'group'",
     "output_type": "error",
     "traceback": [
      "\u001b[1;31m---------------------------------------------------------------------------\u001b[0m",
      "\u001b[1;31mAttributeError\u001b[0m                            Traceback (most recent call last)",
      "\u001b[1;32md:\\Project\\Visual Studio Code\\Online Learning\\Udemy\\Udemy - python-programming-beginner-to-advanced\\Udemy - python-programming-beginner-to-advanced.ipynb Cell 274\u001b[0m in \u001b[0;36m<module>\u001b[1;34m\u001b[0m\n\u001b[0;32m      <a href='vscode-notebook-cell:/d%3A/Project/Visual%20Studio%20Code/Online%20Learning/Udemy/Udemy%20-%20python-programming-beginner-to-advanced/Udemy%20-%20python-programming-beginner-to-advanced.ipynb#Y544sZmlsZQ%3D%3D?line=1'>2</a>\u001b[0m r \u001b[39m=\u001b[39m re\u001b[39m.\u001b[39mcompile(\u001b[39m'\u001b[39m\u001b[39m^[0-9]\u001b[39m\u001b[39m{2}\u001b[39;00m\u001b[39m-[0-9]\u001b[39m\u001b[39m{2}\u001b[39;00m\u001b[39m-[0-9]\u001b[39m\u001b[39m{4}\u001b[39;00m\u001b[39m$\u001b[39m\u001b[39m'\u001b[39m)\n\u001b[0;32m      <a href='vscode-notebook-cell:/d%3A/Project/Visual%20Studio%20Code/Online%20Learning/Udemy/Udemy%20-%20python-programming-beginner-to-advanced/Udemy%20-%20python-programming-beginner-to-advanced.ipynb#Y544sZmlsZQ%3D%3D?line=2'>3</a>\u001b[0m m \u001b[39m=\u001b[39m re\u001b[39m.\u001b[39msearch(r, s)\n\u001b[1;32m----> <a href='vscode-notebook-cell:/d%3A/Project/Visual%20Studio%20Code/Online%20Learning/Udemy/Udemy%20-%20python-programming-beginner-to-advanced/Udemy%20-%20python-programming-beginner-to-advanced.ipynb#Y544sZmlsZQ%3D%3D?line=3'>4</a>\u001b[0m \u001b[39mprint\u001b[39m(m\u001b[39m.\u001b[39;49mgroup())\n\u001b[0;32m      <a href='vscode-notebook-cell:/d%3A/Project/Visual%20Studio%20Code/Online%20Learning/Udemy/Udemy%20-%20python-programming-beginner-to-advanced/Udemy%20-%20python-programming-beginner-to-advanced.ipynb#Y544sZmlsZQ%3D%3D?line=5'>6</a>\u001b[0m s\u001b[39m=\u001b[39m \u001b[39m'\u001b[39m\u001b[39m12-05-201\u001b[39m\u001b[39m'\u001b[39m\n\u001b[0;32m      <a href='vscode-notebook-cell:/d%3A/Project/Visual%20Studio%20Code/Online%20Learning/Udemy/Udemy%20-%20python-programming-beginner-to-advanced/Udemy%20-%20python-programming-beginner-to-advanced.ipynb#Y544sZmlsZQ%3D%3D?line=6'>7</a>\u001b[0m r \u001b[39m=\u001b[39m re\u001b[39m.\u001b[39mcompile(\u001b[39m'\u001b[39m\u001b[39m^[0-9]\u001b[39m\u001b[39m{2}\u001b[39;00m\u001b[39m-[0-9]\u001b[39m\u001b[39m{2}\u001b[39;00m\u001b[39m-[0-9]\u001b[39m\u001b[39m{4}\u001b[39;00m\u001b[39m$\u001b[39m\u001b[39m'\u001b[39m)\n",
      "\u001b[1;31mAttributeError\u001b[0m: 'NoneType' object has no attribute 'group'"
     ]
    }
   ],
   "source": [
    "s= '12-05-201'\n",
    "r = re.compile('^[0-9]{2}-[0-9]{2}-[0-9]{4}$')\n",
    "m = re.search(r, s)\n",
    "print(m.group())"
   ]
  },
  {
   "cell_type": "code",
   "execution_count": 23,
   "metadata": {},
   "outputs": [
    {
     "name": "stdout",
     "output_type": "stream",
     "text": [
      "Pattern not found\n"
     ]
    }
   ],
   "source": [
    "s= '12-05-201'\n",
    "r = re.compile('^[0-9]{2}-[0-9]{2}-[0-9]{4}$')\n",
    "m = re.search(r, s)\n",
    "if m:\n",
    "    print(m.group())\n",
    "else:\n",
    "    print('Pattern not found')"
   ]
  },
  {
   "cell_type": "code",
   "execution_count": 26,
   "metadata": {},
   "outputs": [
    {
     "name": "stdout",
     "output_type": "stream",
     "text": [
      "12-05-2018\n",
      "12\n",
      "05\n",
      "2018\n"
     ]
    }
   ],
   "source": [
    "s= '12-05-2018'\n",
    "r = re.compile('^([0-9]{2})-([0-9]{2})-([0-9]{4}$)')\n",
    "m = re.search(r, s)\n",
    "if m:\n",
    "    print(m.group(0))\n",
    "else:\n",
    "    print('Pattern not found')\n",
    "    \n",
    "s= '12-05-2018'\n",
    "r = re.compile('^([0-9]{2})-([0-9]{2})-([0-9]{4}$)')\n",
    "m = re.search(r, s)\n",
    "if m:\n",
    "    print(m.group(1))\n",
    "else:\n",
    "    print('Pattern not found')\n",
    "    \n",
    "s= '12-05-2018'\n",
    "r = re.compile('^([0-9]{2})-([0-9]{2})-([0-9]{4}$)')\n",
    "m = re.search(r, s)\n",
    "if m:\n",
    "    print(m.group(2))\n",
    "else:\n",
    "    print('Pattern not found')\n",
    "    \n",
    "s= '12-05-2018'\n",
    "r = re.compile('^([0-9]{2})-([0-9]{2})-([0-9]{4}$)')\n",
    "m = re.search(r, s)\n",
    "if m:\n",
    "    print(m.group(3))\n",
    "else:\n",
    "    print('Pattern not found')"
   ]
  },
  {
   "cell_type": "markdown",
   "metadata": {},
   "source": [
    "### indexing"
   ]
  },
  {
   "cell_type": "code",
   "execution_count": 31,
   "metadata": {},
   "outputs": [
    {
     "name": "stdout",
     "output_type": "stream",
     "text": [
      "12\n",
      "05\n",
      "2018\n"
     ]
    }
   ],
   "source": [
    "s= '12-05-2018'\n",
    "r = re.compile('^(?P<date>[0-9]{2})-(?P<month>[0-9]{2})-(?P<year>[0-9]{4}$)')\n",
    "m = re.search(r, s)\n",
    "if m:\n",
    "    print(m.group('date'))\n",
    "else:\n",
    "    print('Pattern not found')\n",
    "    \n",
    "s= '12-05-2018'\n",
    "r = re.compile('^(?P<date>[0-9]{2})-(?P<month>[0-9]{2})-(?P<year>[0-9]{4}$)')\n",
    "m = re.search(r, s)\n",
    "if m:\n",
    "    print(m.group('month'))\n",
    "else:\n",
    "    print('Pattern not found')\n",
    "    \n",
    "s= '12-05-2018'\n",
    "r = re.compile('^(?P<date>[0-9]{2})-(?P<month>[0-9]{2})-(?P<year>[0-9]{4}$)')\n",
    "m = re.search(r, s)\n",
    "if m:\n",
    "    print(m.group('year'))\n",
    "else:\n",
    "    print('Pattern not found')"
   ]
  },
  {
   "cell_type": "code",
   "execution_count": 59,
   "metadata": {},
   "outputs": [
    {
     "name": "stdout",
     "output_type": "stream",
     "text": [
      "+91 8123456789\n",
      "8123456789\n"
     ]
    }
   ],
   "source": [
    "s = '+91 8123456789'\n",
    "r = re.compile('(\\+91\\s)?[6-9][0-9]{9}')\n",
    "m = re.search(r, s)\n",
    "\n",
    "if m:\n",
    "    print(m.group())\n",
    "else:\n",
    "    print('Pattern not found')\n",
    "    \n",
    "s = '8123456789'\n",
    "r = re.compile('(\\+91)?[6-9][0-9]{9}')\n",
    "m = re.search(r, s)\n",
    "\n",
    "if m:\n",
    "    print(m.group())\n",
    "else:\n",
    "    print('Pattern not found')"
   ]
  },
  {
   "cell_type": "code",
   "execution_count": 57,
   "metadata": {},
   "outputs": [
    {
     "name": "stdout",
     "output_type": "stream",
     "text": [
      "+91 8123456789\n",
      "8123456789\n"
     ]
    }
   ],
   "source": [
    "s = '+91 8123456789'\n",
    "r = re.compile('(?:\\+91\\s)?([6-9][0-9]{9})')\n",
    "m = re.search(r, s)\n",
    "\n",
    "if m:\n",
    "    print(m.group(0))\n",
    "else:\n",
    "    print('Pattern not found')\n",
    "    \n",
    "s = '+91 8123456789'\n",
    "r = re.compile('(?:\\+91\\s)?([6-9][0-9]{9})')\n",
    "m = re.search(r, s)\n",
    "\n",
    "if m:\n",
    "    print(m.group(1))\n",
    "else:\n",
    "    print('Pattern not found')"
   ]
  },
  {
   "cell_type": "markdown",
   "metadata": {},
   "source": [
    "# **Functional Programing**"
   ]
  },
  {
   "cell_type": "markdown",
   "metadata": {},
   "source": [
    "## List Comprehension"
   ]
  },
  {
   "cell_type": "code",
   "execution_count": 64,
   "metadata": {},
   "outputs": [
    {
     "name": "stdout",
     "output_type": "stream",
     "text": [
      "[10000, 40000, 90000, 160000, 250000]\n",
      "[10000, 40000, 90000, 160000, 250000]\n"
     ]
    }
   ],
   "source": [
    "l = [100, 200, 300, 400, 500]\n",
    "l2 = []\n",
    "\n",
    "for value in l:\n",
    "    l2.append(value*value)\n",
    "\n",
    "print(l2)\n",
    "\n",
    "#using comprehension\n",
    "l = [100, 200, 300, 400, 500]\n",
    "l2 = [value*value for value in l]   #what ever output you want, you will specified it at start of list, and then try atteration for loops\n",
    "\n",
    "print(l2)"
   ]
  },
  {
   "cell_type": "code",
   "execution_count": 67,
   "metadata": {},
   "outputs": [
    {
     "name": "stdout",
     "output_type": "stream",
     "text": [
      "[10, 20, 30, 60, 70]\n",
      "[3, 4, 5, 5]\n"
     ]
    }
   ],
   "source": [
    "l = [10,20,25,30,35,60,65,70,85]\n",
    "l2 = [value for value in l if value%2 == 0]\n",
    "print(l2)\n",
    "\n",
    "l = ['abc', 'abcd', 'abcde', 'zzzzz']\n",
    "l2 = [len(value) for value in l]\n",
    "print(l2)"
   ]
  },
  {
   "cell_type": "code",
   "execution_count": 68,
   "metadata": {},
   "outputs": [
    {
     "name": "stdout",
     "output_type": "stream",
     "text": [
      "[(1, 100), (1, 101), (1, 102), (2, 100), (2, 101), (2, 102), (3, 100), (3, 101), (3, 102), (4, 100), (4, 101), (4, 102)]\n"
     ]
    }
   ],
   "source": [
    "#nested for loops\n",
    "l2 = [(value1, value2) for value1 in range(1, 5) for value2 in range(100,103)]\n",
    "print(l2)"
   ]
  },
  {
   "cell_type": "code",
   "execution_count": 76,
   "metadata": {},
   "outputs": [
    {
     "name": "stdout",
     "output_type": "stream",
     "text": [
      "[1, 2, 3]\n",
      "[4, 5, 6]\n",
      "[7, 8, 9]\n",
      "[1, 2, 3, 4, 5, 6, 7, 8, 9]\n",
      "[1, 2, 3, 4, 5, 6, 7, 8, 9]\n"
     ]
    }
   ],
   "source": [
    "l = [[1,2,3], [4,5,6], [7,8,9]]\n",
    "for value in l:\n",
    "    print(value)\n",
    "    \n",
    "l = [[1,2,3], [4,5,6], [7,8,9]]\n",
    "l2 = []\n",
    "for value in l:\n",
    "    for val2 in value:\n",
    "        l2.append(val2)\n",
    "print(l2)\n",
    "\n",
    "#comprehension\n",
    "l = [[1,2,3], [4,5,6], [7,8,9]]\n",
    "l2 = [val2 for value in l for val2 in value]\n",
    "print(l2)"
   ]
  },
  {
   "cell_type": "code",
   "execution_count": 80,
   "metadata": {},
   "outputs": [
    {
     "name": "stdout",
     "output_type": "stream",
     "text": [
      "['Even', 'Odd', 'Even', 'Odd', 'Even']\n"
     ]
    }
   ],
   "source": [
    "l = [100, 105, 110, 115, 120]\n",
    "l2 = ['Even' if value %2 == 0 else 'Odd' for value in l]\n",
    "print(l2)\n"
   ]
  },
  {
   "cell_type": "markdown",
   "metadata": {},
   "source": [
    "## Dict Comprehension"
   ]
  },
  {
   "cell_type": "code",
   "execution_count": 81,
   "metadata": {},
   "outputs": [
    {
     "name": "stdout",
     "output_type": "stream",
     "text": [
      "{1: 1, 2: 4, 3: 9, 4: 16, 5: 25, 6: 36, 7: 49, 8: 64, 9: 81, 10: 100}\n"
     ]
    }
   ],
   "source": [
    "d = {x:x**2 for x in range(1, 11)}\n",
    "print(d)"
   ]
  },
  {
   "cell_type": "code",
   "execution_count": 84,
   "metadata": {},
   "outputs": [
    {
     "name": "stdout",
     "output_type": "stream",
     "text": [
      "{'a': 97, 'b': 98, 'c': 99, 'd': 100, 'e': 101, 'f': 102, 'g': 103, 'h': 104, 'i': 105, 'j': 106, 'k': 107, 'l': 108, 'm': 109, 'n': 110, 'o': 111, 'p': 112, 'q': 113, 'r': 114, 's': 115, 't': 116, 'u': 117, 'v': 118, 'w': 119, 'x': 120, 'y': 121, 'z': 122}\n",
      "{97: 'a', 98: 'b', 99: 'c', 100: 'd', 101: 'e', 102: 'f', 103: 'g', 104: 'h', 105: 'i', 106: 'j', 107: 'k', 108: 'l', 109: 'm', 110: 'n', 111: 'o', 112: 'p', 113: 'q', 114: 'r', 115: 's', 116: 't', 117: 'u', 118: 'v', 119: 'w', 120: 'x', 121: 'y', 122: 'z'}\n"
     ]
    }
   ],
   "source": [
    "d = {chr(x):x for x in range(97, 123)}\n",
    "print(d)\n",
    "\n",
    "d2 = {value:key for key, value in d.items()}\n",
    "print(d2)"
   ]
  },
  {
   "cell_type": "markdown",
   "metadata": {},
   "source": [
    "## Map | Filter | Lambda Functions"
   ]
  },
  {
   "cell_type": "markdown",
   "metadata": {},
   "source": [
    "### Map"
   ]
  },
  {
   "cell_type": "code",
   "execution_count": 89,
   "metadata": {},
   "outputs": [
    {
     "name": "stdout",
     "output_type": "stream",
     "text": [
      "<map object at 0x00000182C9E0A280>\n",
      "------------\n",
      "<map object at 0x00000182C9D39C40>\n",
      "100\n",
      "400\n",
      "900\n",
      "1600\n",
      "2500\n",
      "3600\n",
      "------------\n",
      "[100, 400, 900, 1600, 2500, 3600]\n"
     ]
    }
   ],
   "source": [
    "def sqr(num1):\n",
    "    return num1**2\n",
    "\n",
    "l = [10, 20, 30, 40, 50, 60]\n",
    "result = map(sqr, l)\n",
    "print(result)\n",
    "\n",
    "print('------------')\n",
    "\n",
    "def sqr(num1):\n",
    "    return num1**2\n",
    "\n",
    "l = [10, 20, 30, 40, 50, 60]\n",
    "result = map(sqr, l)\n",
    "print(result)\n",
    "for value in result:\n",
    "    print(value)\n",
    "    \n",
    "print('------------')\n",
    "\n",
    "l = [10, 20, 30, 40, 50, 60]\n",
    "result = list(map(sqr, l))\n",
    "print(result)"
   ]
  },
  {
   "cell_type": "code",
   "execution_count": 90,
   "metadata": {},
   "outputs": [
    {
     "name": "stdout",
     "output_type": "stream",
     "text": [
      "[110, 220, 330, 440, 550]\n"
     ]
    }
   ],
   "source": [
    "def add(num1, num2):\n",
    "    return num1+num2\n",
    "\n",
    "l1 = [100, 200, 300, 400, 500]\n",
    "l2 = [10, 20, 30, 40, 50]\n",
    "\n",
    "result = list(map(add, l1, l2))\n",
    "print(result)"
   ]
  },
  {
   "cell_type": "markdown",
   "metadata": {},
   "source": [
    "### Filter"
   ]
  },
  {
   "cell_type": "code",
   "execution_count": 94,
   "metadata": {},
   "outputs": [
    {
     "name": "stdout",
     "output_type": "stream",
     "text": [
      "[100, 120, 130, 140]\n",
      "[True, False, True, False, True, True]\n"
     ]
    }
   ],
   "source": [
    "def check_num(num1):\n",
    "    if num1 %2 == 0:\n",
    "        return True\n",
    "    else:\n",
    "        return False\n",
    "\n",
    "l = [100, 115, 120, 125, 130, 140]\n",
    "\n",
    "result = list(filter(check_num, l))     #filter element that answer is True\n",
    "print(result)\n",
    "\n",
    "result = list(map(check_num, l))\n",
    "print(result)"
   ]
  },
  {
   "cell_type": "markdown",
   "metadata": {},
   "source": [
    "### Lambda"
   ]
  },
  {
   "cell_type": "code",
   "execution_count": 99,
   "metadata": {},
   "outputs": [
    {
     "name": "stdout",
     "output_type": "stream",
     "text": [
      "[10000, 13225, 14400, 15625, 16900, 19600]\n",
      "[100, 120, 130, 140]\n"
     ]
    }
   ],
   "source": [
    "l1 = [10, 20, 30, 40, 50]\n",
    "\n",
    "result = list(map(lambda num1:num1**2,l))\n",
    "print(result)\n",
    "\n",
    "l = [100, 115, 120, 125, 130, 140]\n",
    "\n",
    "result = list(filter(lambda num:num %2 == 0, l))\n",
    "print(result)"
   ]
  },
  {
   "cell_type": "code",
   "execution_count": 103,
   "metadata": {},
   "outputs": [
    {
     "name": "stdout",
     "output_type": "stream",
     "text": [
      "[1, 2, 3, 4, 5]\n",
      "[(5, 10), (4, 20), (3, 30), (2, 40), (1, 50)]\n"
     ]
    }
   ],
   "source": [
    "d = {2:40, 1:50, 5:10, 3:30, 4:20}\n",
    "\n",
    "l = sorted(d)\n",
    "print(l)\n",
    "\n",
    "l = sorted(d.items(), key=lambda x:x[1])\n",
    "print(l)"
   ]
  },
  {
   "cell_type": "markdown",
   "metadata": {},
   "source": [
    "## Generator functions"
   ]
  },
  {
   "cell_type": "code",
   "execution_count": 105,
   "metadata": {},
   "outputs": [
    {
     "name": "stdout",
     "output_type": "stream",
     "text": [
      "10\n",
      "20\n",
      "30\n",
      "40\n",
      "50\n",
      "60\n"
     ]
    }
   ],
   "source": [
    "def printVal(l):\n",
    "    for value in l:\n",
    "        print(value)\n",
    "\n",
    "l = [10, 20, 30, 40, 50, 60]\n",
    "\n",
    "printVal(l)"
   ]
  },
  {
   "cell_type": "code",
   "execution_count": 111,
   "metadata": {},
   "outputs": [
    {
     "name": "stdout",
     "output_type": "stream",
     "text": [
      "<generator object fibo at 0x00000182C9EEF7B0>\n",
      "--------\n",
      "1\n",
      "2\n",
      "3\n",
      "5\n",
      "8\n",
      "--------\n",
      "1\n",
      "2\n",
      "3\n",
      "5\n",
      "8\n",
      "13\n",
      "21\n",
      "34\n",
      "55\n",
      "89\n",
      "--------\n",
      "144\n",
      "233\n",
      "377\n",
      "610\n",
      "987\n",
      "1597\n",
      "2584\n",
      "4181\n",
      "6765\n",
      "10946\n",
      "17711\n",
      "28657\n",
      "46368\n",
      "75025\n",
      "121393\n",
      "196418\n",
      "317811\n",
      "514229\n",
      "832040\n",
      "1346269\n"
     ]
    }
   ],
   "source": [
    "def fibo():\n",
    "   first_num = 0\n",
    "   second_num = 1\n",
    "   while(True):\n",
    "       next_val = first_num + second_num\n",
    "       yield next_val\n",
    "       first_num, second_num = second_num, next_val\n",
    "\n",
    "g = fibo()\n",
    "print(g)\n",
    "\n",
    "print('--------')\n",
    "\n",
    "print(next(g))\n",
    "print(next(g))\n",
    "print(next(g))\n",
    "print(next(g))\n",
    "print(next(g))\n",
    "\n",
    "print('--------')\n",
    "\n",
    "g = fibo()\n",
    "\n",
    "for value in range(10):\n",
    "    print(next(g))\n",
    "    \n",
    "print('--------')\n",
    "    \n",
    "for value in range(20):\n",
    "    print(next(g))\n"
   ]
  },
  {
   "cell_type": "code",
   "execution_count": 114,
   "metadata": {},
   "outputs": [
    {
     "name": "stdout",
     "output_type": "stream",
     "text": [
      "10\n",
      "20\n",
      "30\n",
      "40\n",
      "50\n",
      "60\n"
     ]
    },
    {
     "ename": "StopIteration",
     "evalue": "",
     "output_type": "error",
     "traceback": [
      "\u001b[1;31m---------------------------------------------------------------------------\u001b[0m",
      "\u001b[1;31mStopIteration\u001b[0m                             Traceback (most recent call last)",
      "\u001b[1;32md:\\Project\\Visual Studio Code\\Online Learning\\Udemy\\Udemy - python-programming-beginner-to-advanced\\Udemy - python-programming-beginner-to-advanced.ipynb Cell 303\u001b[0m in \u001b[0;36m<module>\u001b[1;34m\u001b[0m\n\u001b[0;32m     <a href='vscode-notebook-cell:/d%3A/Project/Visual%20Studio%20Code/Online%20Learning/Udemy/Udemy%20-%20python-programming-beginner-to-advanced/Udemy%20-%20python-programming-beginner-to-advanced.ipynb#Y623sZmlsZQ%3D%3D?line=11'>12</a>\u001b[0m \u001b[39mprint\u001b[39m(\u001b[39mnext\u001b[39m(g))\n\u001b[0;32m     <a href='vscode-notebook-cell:/d%3A/Project/Visual%20Studio%20Code/Online%20Learning/Udemy/Udemy%20-%20python-programming-beginner-to-advanced/Udemy%20-%20python-programming-beginner-to-advanced.ipynb#Y623sZmlsZQ%3D%3D?line=12'>13</a>\u001b[0m \u001b[39mprint\u001b[39m(\u001b[39mnext\u001b[39m(g))\n\u001b[1;32m---> <a href='vscode-notebook-cell:/d%3A/Project/Visual%20Studio%20Code/Online%20Learning/Udemy/Udemy%20-%20python-programming-beginner-to-advanced/Udemy%20-%20python-programming-beginner-to-advanced.ipynb#Y623sZmlsZQ%3D%3D?line=13'>14</a>\u001b[0m \u001b[39mprint\u001b[39m(\u001b[39mnext\u001b[39;49m(g))\n",
      "\u001b[1;31mStopIteration\u001b[0m: "
     ]
    }
   ],
   "source": [
    "def printVal(l):\n",
    "    for value in l:\n",
    "        yield value\n",
    "\n",
    "l = [10, 20, 30, 40, 50, 60]\n",
    "\n",
    "g = printVal(l)\n",
    "print(next(g))\n",
    "print(next(g))\n",
    "print(next(g))\n",
    "print(next(g))\n",
    "print(next(g))\n",
    "print(next(g))\n",
    "print(next(g))"
   ]
  },
  {
   "cell_type": "code",
   "execution_count": 117,
   "metadata": {},
   "outputs": [
    {
     "name": "stdout",
     "output_type": "stream",
     "text": [
      "[100, 400, 900, 1600, 2500, 3600]\n",
      "--------\n",
      "<generator object <genexpr> at 0x00000182C9E77510>\n",
      "--------\n",
      "100\n",
      "400\n",
      "900\n",
      "1600\n"
     ]
    }
   ],
   "source": [
    "l = [10, 20, 30, 40, 50, 60]\n",
    "l2 = [value * value for value in l]\n",
    "print(l2)\n",
    "\n",
    "print('--------')\n",
    "\n",
    "l = [10, 20, 30, 40, 50, 60]\n",
    "l2 = (value * value for value in l)\n",
    "print(l2)\n",
    "\n",
    "print('--------')\n",
    "\n",
    "l = [10, 20, 30, 40, 50, 60]\n",
    "l2 = (value * value for value in l)\n",
    "print(next(l2))\n",
    "print(next(l2))\n",
    "print(next(l2))\n",
    "print(next(l2))"
   ]
  },
  {
   "cell_type": "markdown",
   "metadata": {},
   "source": [
    "## Iterators and Iteratools"
   ]
  },
  {
   "cell_type": "code",
   "execution_count": 122,
   "metadata": {},
   "outputs": [
    {
     "name": "stdout",
     "output_type": "stream",
     "text": [
      "<list_iterator object at 0x00000182C9D39130>\n",
      "------\n",
      "100\n",
      "200\n",
      "------\n",
      "100\n",
      "200\n",
      "300\n",
      "400\n",
      "500\n"
     ]
    }
   ],
   "source": [
    "l = [100, 200, 300, 400, 500]\n",
    "i = iter(l)\n",
    "print(i)\n",
    "\n",
    "print('------')\n",
    "\n",
    "print(next(i))\n",
    "print(next(i))\n",
    "\n",
    "print('------')\n",
    "i = iter(l)\n",
    "for value in i:\n",
    "    print(value)"
   ]
  },
  {
   "cell_type": "code",
   "execution_count": 127,
   "metadata": {},
   "outputs": [
    {
     "name": "stdout",
     "output_type": "stream",
     "text": [
      "<itertools.chain object at 0x00000182C9D354C0>\n",
      "------\n",
      "10\n",
      "20\n",
      "30\n",
      "------\n",
      "10\n",
      "20\n",
      "30\n",
      "40\n",
      "50\n",
      "100\n",
      "200\n",
      "300\n",
      "400\n",
      "1000\n",
      "2000\n",
      "3000\n",
      "4000\n"
     ]
    }
   ],
   "source": [
    "import itertools\n",
    "\n",
    "l1 = [10, 20, 30, 40, 50]\n",
    "l2 = [100, 200, 300, 400]\n",
    "l3 = [1000, 2000, 3000, 4000]\n",
    "\n",
    "i = itertools.chain(l1, l2, l3)\n",
    "print(i)\n",
    "\n",
    "print('------')\n",
    "\n",
    "print(next(i))\n",
    "print(next(i))\n",
    "print(next(i))\n",
    "\n",
    "print('------')\n",
    "\n",
    "i = itertools.chain(l1, l2, l3)\n",
    "for value in i:\n",
    "    print(value)"
   ]
  },
  {
   "cell_type": "code",
   "execution_count": 129,
   "metadata": {},
   "outputs": [
    {
     "name": "stdout",
     "output_type": "stream",
     "text": [
      "10\n",
      "20\n",
      "30\n",
      "40\n",
      "50\n",
      "10\n",
      "20\n",
      "30\n",
      "40\n",
      "50\n",
      "10\n",
      "20\n",
      "30\n",
      "40\n",
      "50\n",
      "10\n",
      "20\n",
      "30\n",
      "40\n",
      "50\n"
     ]
    }
   ],
   "source": [
    "l = [10, 20, 30, 40, 50]\n",
    "count = 0\n",
    "for value in itertools.cycle(l):\n",
    "    if count < 20:\n",
    "        print(value)\n",
    "    else:\n",
    "        break\n",
    "    count += 1      #if not using this it will infinite loops"
   ]
  },
  {
   "cell_type": "code",
   "execution_count": 130,
   "metadata": {},
   "outputs": [
    {
     "name": "stdout",
     "output_type": "stream",
     "text": [
      "[10, 20, 30, 40, 50]\n",
      "[10, 20, 30, 40, 50]\n",
      "[10, 20, 30, 40, 50]\n",
      "[10, 20, 30, 40, 50]\n",
      "[10, 20, 30, 40, 50]\n",
      "[10, 20, 30, 40, 50]\n",
      "[10, 20, 30, 40, 50]\n",
      "[10, 20, 30, 40, 50]\n",
      "[10, 20, 30, 40, 50]\n",
      "[10, 20, 30, 40, 50]\n",
      "[10, 20, 30, 40, 50]\n",
      "[10, 20, 30, 40, 50]\n",
      "[10, 20, 30, 40, 50]\n",
      "[10, 20, 30, 40, 50]\n",
      "[10, 20, 30, 40, 50]\n",
      "[10, 20, 30, 40, 50]\n",
      "[10, 20, 30, 40, 50]\n",
      "[10, 20, 30, 40, 50]\n",
      "[10, 20, 30, 40, 50]\n",
      "[10, 20, 30, 40, 50]\n"
     ]
    }
   ],
   "source": [
    "l = [10, 20, 30, 40, 50]\n",
    "count = 0\n",
    "for value in itertools.repeat(l):\n",
    "    if count < 20:\n",
    "        print(value)\n",
    "    else:\n",
    "        break\n",
    "    count += 1"
   ]
  },
  {
   "cell_type": "code",
   "execution_count": 134,
   "metadata": {},
   "outputs": [
    {
     "name": "stdout",
     "output_type": "stream",
     "text": [
      "(<itertools._tee object at 0x00000182CA006F00>, <itertools._tee object at 0x00000182CA006A80>)\n",
      "10\n",
      "20\n",
      "30\n",
      "40\n",
      "50\n",
      "--------\n",
      "10\n",
      "20\n",
      "30\n",
      "40\n",
      "50\n"
     ]
    }
   ],
   "source": [
    "l = [10, 20, 30, 40, 50]\n",
    "i = iter(l)\n",
    "t = itertools.tee(i)\n",
    "print(t)\n",
    "\n",
    "for value in t[0]:\n",
    "    print(value)\n",
    "\n",
    "print('--------')\n",
    "\n",
    "for value in t[1]:\n",
    "    print(value)"
   ]
  },
  {
   "cell_type": "code",
   "execution_count": 137,
   "metadata": {},
   "outputs": [
    {
     "name": "stdout",
     "output_type": "stream",
     "text": [
      "10\n",
      "20\n",
      "30\n",
      "40\n",
      "50\n",
      "100\n",
      "200\n",
      "300\n"
     ]
    }
   ],
   "source": [
    "l1 = [10, 20, 30, 40, 50]\n",
    "l2 = [100, 200, 300, 400]\n",
    "l3 = [1000, 2000, 3000, 4000]\n",
    "\n",
    "i = itertools.chain(l1, l2, l3)\n",
    "\n",
    "for value in itertools.islice(i, 0, 8):\n",
    "    print(value)"
   ]
  },
  {
   "cell_type": "markdown",
   "metadata": {},
   "source": []
  },
  {
   "cell_type": "code",
   "execution_count": 143,
   "metadata": {},
   "outputs": [
    {
     "name": "stdout",
     "output_type": "stream",
     "text": [
      "6\n",
      "8\n",
      "10\n",
      "12\n",
      "14\n",
      "16\n",
      "18\n",
      "-----\n",
      "6\n",
      "7\n",
      "8\n",
      "9\n",
      "10\n",
      "11\n",
      "12\n",
      "-----\n",
      "0\n",
      "1\n",
      "2\n",
      "3\n",
      "4\n",
      "5\n",
      "6\n"
     ]
    }
   ],
   "source": [
    "count = 0\n",
    "for value in itertools.count(6, 2):\n",
    "    if count > 6:\n",
    "        break\n",
    "    else:\n",
    "        print(value)\n",
    "        count+=1\n",
    "\n",
    "\n",
    "print('-----')\n",
    "\n",
    "count = 0\n",
    "for value in itertools.count(6):\n",
    "    if count > 6:\n",
    "        break\n",
    "    else:\n",
    "        print(value)\n",
    "        count+=1\n",
    "\n",
    "print('-----')\n",
    "\n",
    "count = 0\n",
    "for value in itertools.count():\n",
    "    if count > 6:\n",
    "        break\n",
    "    else:\n",
    "        print(value)\n",
    "        count+=1"
   ]
  },
  {
   "cell_type": "code",
   "execution_count": 147,
   "metadata": {},
   "outputs": [
    {
     "name": "stdout",
     "output_type": "stream",
     "text": [
      "[(1, 2), (1, 3), (1, 4), (1, 5), (1, 6), (2, 1), (2, 3), (2, 4), (2, 5), (2, 6), (3, 1), (3, 2), (3, 4), (3, 5), (3, 6), (4, 1), (4, 2), (4, 3), (4, 5), (4, 6), (5, 1), (5, 2), (5, 3), (5, 4), (5, 6), (6, 1), (6, 2), (6, 3), (6, 4), (6, 5)]\n",
      "-----\n",
      "[(1, 2), (1, 3), (1, 4), (1, 5), (1, 6), (2, 3), (2, 4), (2, 5), (2, 6), (3, 4), (3, 5), (3, 6), (4, 5), (4, 6), (5, 6)]\n"
     ]
    }
   ],
   "source": [
    "l = [1, 2, 3, 4, 5, 6]\n",
    "print(list(itertools.permutations(l,2)))\n",
    "\n",
    "print('-----')\n",
    "\n",
    "print(list(itertools.combinations(l,2)))"
   ]
  },
  {
   "cell_type": "markdown",
   "metadata": {},
   "source": [
    "# **File Operation | JSON, XML Parsing**"
   ]
  },
  {
   "cell_type": "markdown",
   "metadata": {},
   "source": [
    "## File Operation"
   ]
  },
  {
   "cell_type": "code",
   "execution_count": 47,
   "metadata": {},
   "outputs": [
    {
     "name": "stdout",
     "output_type": "stream",
     "text": [
      "Utilitatis causa amicitia est quaesita.\n",
      "Lorem ipsum dolor sit amet, consectetur adipiscing elit. Collatio igitur ista te nihil iuvat. Honesta oratio, Socratica, Platonis etiam. Primum in nostrane potestate est, quid meminerimus? Duo Reges: constructio interrete. Quid, si etiam iucunda memoria est praeteritorum malorum? Si quidem, inquit, tollerem, sed relinquo. An nisi populari fama?\n",
      "\n",
      "Quamquam id quidem licebit iis existimare, qui legerint. Summum a vobis bonum voluptas dicitur. At hoc in eo M. Refert tamen, quo modo. Quid sequatur, quid repugnet, vident. Iam id ipsum absurdum, maximum malum neglegi.\u0000\u0000\u0000\u0000\u0000\u0000\u0000\u0000\u0000\u0000\u0000\u0000\u0000\u0000\u0000\u0000\u0000\u0000\u0000\u0000\u0000\u0000\u0000\u0000\u0000\u0000\u0000\u0000\u0000\u0000\u0000\u0000\u0000\u0000\u0000\u0000\u0000\u0000\u0000\u0000\n",
      "\n",
      "Sample line addedusing python script\n"
     ]
    }
   ],
   "source": [
    "# r = read\n",
    "# r+ = read + write\n",
    "# w = write\n",
    "# w+\n",
    "# a = append\n",
    "# a+ = \n",
    "\n",
    "fp = open('sample1.txt', 'r')\n",
    "content = fp.read()     #return string\n",
    "print(content)"
   ]
  },
  {
   "cell_type": "code",
   "execution_count": 43,
   "metadata": {},
   "outputs": [
    {
     "name": "stdout",
     "output_type": "stream",
     "text": [
      "Utilitatis causa amicitia\n"
     ]
    }
   ],
   "source": [
    "fp = open('sample1.txt', 'r')\n",
    "content = fp.read(25)       #return 25 character\n",
    "print(content)"
   ]
  },
  {
   "cell_type": "markdown",
   "metadata": {},
   "source": [
    "### Readlines | Readline"
   ]
  },
  {
   "cell_type": "code",
   "execution_count": 19,
   "metadata": {},
   "outputs": [
    {
     "name": "stdout",
     "output_type": "stream",
     "text": [
      "['Utilitatis causa amicitia est quaesita.\\n', 'Lorem ipsum dolor sit amet, consectetur adipiscing elit. Collatio igitur ista te nihil iuvat. Honesta oratio, Socratica, Platonis etiam. Primum in nostrane potestate est, quid meminerimus? Duo Reges: constructio interrete. Quid, si etiam iucunda memoria est praeteritorum malorum? Si quidem, inquit, tollerem, sed relinquo. An nisi populari fama?\\n', '\\n', 'Quamquam id quidem licebit iis existimare, qui legerint. Summum a vobis bonum voluptas dicitur. At hoc in eo M. Refert tamen, quo modo. Quid sequatur, quid repugnet, vident. Iam id ipsum absurdum, maximum malum neglegi.']\n",
      "<class 'list'>\n",
      "[]\n"
     ]
    }
   ],
   "source": [
    "fp = open('sample1.txt', 'r')\n",
    "content = fp.readlines()    #return list\n",
    "print(content)\n",
    "print(type(content))"
   ]
  },
  {
   "cell_type": "code",
   "execution_count": 37,
   "metadata": {},
   "outputs": [
    {
     "name": "stdout",
     "output_type": "stream",
     "text": [
      "Utilitatis causa amicitia est quaesita.\n",
      "\n",
      "----------------\n",
      "Lorem ipsum dolor sit amet, consectetur adipiscing elit. Collatio igitur ista te nihil iuvat. Honesta oratio, Socratica, Platonis etiam. Primum in nostrane potestate est, quid meminerimus? Duo Reges: constructio interrete. Quid, si etiam iucunda memoria est praeteritorum malorum? Si quidem, inquit, tollerem, sed relinquo. An nisi populari fama?\n",
      "\n"
     ]
    }
   ],
   "source": [
    "fp = open('sample1.txt', 'r')\n",
    "content = fp.readline()\n",
    "print(content)\n",
    "\n",
    "print('----------------')\n",
    "\n",
    "content = fp.readline()\n",
    "print(content)"
   ]
  },
  {
   "cell_type": "markdown",
   "metadata": {},
   "source": [
    "## Read | Write | Append"
   ]
  },
  {
   "cell_type": "code",
   "execution_count": 27,
   "metadata": {},
   "outputs": [
    {
     "name": "stdout",
     "output_type": "stream",
     "text": [
      "Write this line to a file\n",
      "Write this line to a file 1\n"
     ]
    }
   ],
   "source": [
    "fp = open('sample2.txt', 'w')\n",
    "content = fp.write('Write this line to a file')\n",
    "\n",
    "fp = open('sample2.txt', 'r')\n",
    "content = fp.read()\n",
    "print(content)\n",
    "\n",
    "fp = open('sample2.txt', 'w')       # will overwrite file\n",
    "content = fp.write('Write this line to a file 1')\n",
    "\n",
    "fp = open('sample2.txt', 'r')\n",
    "content = fp.read()\n",
    "print(content)"
   ]
  },
  {
   "cell_type": "markdown",
   "metadata": {},
   "source": [
    "### Tell | Seek"
   ]
  },
  {
   "cell_type": "code",
   "execution_count": 28,
   "metadata": {},
   "outputs": [
    {
     "name": "stdout",
     "output_type": "stream",
     "text": [
      "0\n",
      "18\n",
      "18\n",
      "\n"
     ]
    }
   ],
   "source": [
    "# tell = current fp position\n",
    "\n",
    "fp = open('sample3.txt', 'w+')\n",
    "print(fp.tell())\n",
    "\n",
    "content = fp.write('sample text line 1')\n",
    "print(fp.tell())\n",
    "\n",
    "content = fp.read()\n",
    "print(fp.tell())\n",
    "print(content)"
   ]
  },
  {
   "cell_type": "code",
   "execution_count": 30,
   "metadata": {},
   "outputs": [
    {
     "name": "stdout",
     "output_type": "stream",
     "text": [
      "0\n",
      "18\n",
      "0\n",
      "18\n",
      "sample text line 1\n"
     ]
    }
   ],
   "source": [
    "# seek(offset, position) = to change fp position\n",
    "# offset => number of char\n",
    "# position => 0 => start of the file\n",
    "#             1 => current position\n",
    "#             2 => end of the file\n",
    "\n",
    "fp = open('sample3.txt', 'w+')\n",
    "print(fp.tell())\n",
    "\n",
    "content = fp.write('sample text line 1')\n",
    "print(fp.tell())\n",
    "\n",
    "fp.seek(0,0)\n",
    "print(fp.tell())\n",
    "\n",
    "content = fp.read()\n",
    "print(fp.tell())\n",
    "print(content)"
   ]
  },
  {
   "cell_type": "markdown",
   "metadata": {},
   "source": [
    "## Parsing JSON"
   ]
  },
  {
   "cell_type": "code",
   "execution_count": 69,
   "metadata": {},
   "outputs": [
    {
     "name": "stdout",
     "output_type": "stream",
     "text": [
      "{\n",
      "    \"database\": {\n",
      "        \"host\": \"localhost\",\n",
      "        \"port\": 3310,\n",
      "        \"user\": \"root\",\n",
      "        \"password\": \"12345\"\n",
      "    },\n",
      "    \"files\": {\n",
      "        \"log\": \"/log/app/log\",\n",
      "        \"errorLog\": \"log/error.log\"\n",
      "    }\n",
      "}\n"
     ]
    }
   ],
   "source": [
    "# json objects            dict{'key': 'value'}\n",
    "# numbers 10 10.55        int, float\n",
    "# array [10, 'string']    list, tuple\n",
    "# \" \", ' ', \"\"\" \"\"\"       singlequote, doublequote, triple quote\n",
    "\n",
    "import json\n",
    "\n",
    "handle = open('jsonsample.json', 'r')\n",
    "content = handle.read()\n",
    "print(content)\n",
    "handle.close()"
   ]
  },
  {
   "cell_type": "code",
   "execution_count": 70,
   "metadata": {},
   "outputs": [
    {
     "name": "stdout",
     "output_type": "stream",
     "text": [
      "{'database': {'host': 'localhost', 'port': 3310, 'user': 'root', 'password': '12345'}, 'files': {'log': '/log/app/log', 'errorLog': 'log/error.log'}}\n"
     ]
    }
   ],
   "source": [
    "d = json.loads(content)\n",
    "print(d)"
   ]
  },
  {
   "cell_type": "code",
   "execution_count": 71,
   "metadata": {},
   "outputs": [
    {
     "name": "stdout",
     "output_type": "stream",
     "text": [
      "{'host': 'localhost', 'port': 3310, 'user': 'root', 'password': '12345'}\n",
      "--------\n",
      "3310\n",
      "--------\n",
      "{'database': {'host': 'localhost', 'port': 3330, 'user': 'root', 'password': '12345'}, 'files': {'log': '/log/app/log', 'errorLog': 'log/error.log'}}\n",
      "--------\n",
      "/log/app/log\n",
      "{'database': {'host': 'localhost', 'port': 3330, 'user': 'root', 'password': '12345'}, 'files': {'log': ('/log/app.log/', '/log/mysqyl/app/log'), 'errorLog': 'log/error.log'}}\n"
     ]
    }
   ],
   "source": [
    "print(d['database'])\n",
    "\n",
    "print('--------')\n",
    "\n",
    "print(d['database']['port'])\n",
    "\n",
    "print('--------')\n",
    "\n",
    "d['database']['port'] = 3330        #to modified the value\n",
    "print(d)\n",
    "\n",
    "print('--------')\n",
    "\n",
    "print(d['files']['log'])\n",
    "d['files']['log'] = ('/log/app.log/', '/log/mysqyl/app/log')\n",
    "print(d)\n"
   ]
  },
  {
   "cell_type": "code",
   "execution_count": 73,
   "metadata": {},
   "outputs": [],
   "source": [
    "#creating newfile for output\n",
    "j = json.dumps(d, indent=4)\n",
    "# print(j)\n",
    "handle = open('json_output.json', 'w')\n",
    "handle.write(j)\n",
    "handle.close()\n"
   ]
  },
  {
   "cell_type": "markdown",
   "metadata": {},
   "source": [
    "## Parsing XML (xmltodict)"
   ]
  },
  {
   "cell_type": "code",
   "execution_count": 89,
   "metadata": {},
   "outputs": [
    {
     "name": "stdout",
     "output_type": "stream",
     "text": [
      "{'Result': {'@success': 'false', 'Message': \"Cannot open remote file '/home/user/examplefile.txt'.\", 'ErrorCode': '2', 'RequestCode': '3'}}\n",
      "-------------\n",
      "3\n",
      "-------------\n",
      "{'Result': {'@success': 'false', 'Message': \"Cannot open remote file '/home/user/examplefile.txt'.\", 'ErrorCode': '2', 'RequestCode': 4}}\n",
      "-------------\n",
      "<?xml version=\"1.0\" encoding=\"utf-8\"?>\n",
      "<Result success=\"false\"><Message>Cannot open remote file '/home/user/examplefile.txt'.</Message><ErrorCode>2</ErrorCode><RequestCode>4</RequestCode></Result>\n"
     ]
    }
   ],
   "source": [
    "import xmltodict\n",
    "\n",
    "handle = open('xml_input.xml', 'r')\n",
    "\n",
    "content = handle.read()\n",
    "# print(content)\n",
    "\n",
    "d = xmltodict.parse(content)\n",
    "print(d)\n",
    "\n",
    "print('-------------')\n",
    "print(d['Result']['RequestCode'])\n",
    "\n",
    "print('-------------')\n",
    "d['Result']['RequestCode'] = 4\n",
    "print(d)\n",
    "\n",
    "print('-------------')\n",
    "x = xmltodict.unparse(d)\n",
    "print(x)"
   ]
  },
  {
   "cell_type": "markdown",
   "metadata": {},
   "source": [
    "# **Object Oriented Programing**"
   ]
  },
  {
   "cell_type": "markdown",
   "metadata": {},
   "source": [
    "## Introduction to Object Oriented Programing"
   ]
  },
  {
   "cell_type": "markdown",
   "metadata": {},
   "source": [
    "### Creating Object"
   ]
  },
  {
   "cell_type": "code",
   "execution_count": 110,
   "metadata": {},
   "outputs": [
    {
     "name": "stdout",
     "output_type": "stream",
     "text": [
      "102 DEF\n"
     ]
    }
   ],
   "source": [
    "# cust id\n",
    "# name\n",
    "# balance\n",
    "\n",
    "# deposite\n",
    "# withdraw\n",
    "\n",
    "class Account:\n",
    "    def __init__(self, cust_id, name, initial_bal=0):\n",
    "        self.id = cust_id\n",
    "        self.name = name\n",
    "        self.balance = initial_bal\n",
    "        \n",
    "    def get_balance(self):\n",
    "        return self.balance\n",
    "\n",
    "    def deposite(self, amount):\n",
    "        self.balance = self.balance + amount\n",
    "        return self.balance\n",
    "        \n",
    "    def withdraw(self, amount):\n",
    "        if amount > self.balance:\n",
    "            return 'Insufficient Balance'\n",
    "        else:\n",
    "            self.balance -= amount\n",
    "            return self.balance\n",
    "\n",
    "customer1 = Account('101', 'ABC')\n",
    "# print(customer1)\n",
    "\n",
    "customer2 = Account('102', 'DEF')\n",
    "# print(customer2)\n",
    "\n",
    "customer3 = Account('103', 'GHI')\n",
    "# print(customer3)\n",
    "customer4 = Account('104', 'JKL')\n",
    "\n",
    "# print(customer1.id, customer1.name, customer1.balance)\n",
    "\n",
    "# print(customer1.get_balance())\n",
    "# print(customer1.deposite(50000))\n",
    "# print(customer1.withdraw(51000))\n",
    "# print(customer1.withdraw(1000))\n",
    "\n",
    "customer1.deposite(50000)\n",
    "customer2.deposite(8000)\n",
    "customer3.deposite(10000)\n",
    "customer4.deposite(70000)\n",
    "\n",
    "l = [customer1, customer2, customer3, customer4]\n",
    "\n",
    "for obj in l:\n",
    "    if obj.balance < 10000:\n",
    "        print(obj.id, obj.name)\n",
    "        \n",
    "\n"
   ]
  },
  {
   "cell_type": "markdown",
   "metadata": {},
   "source": [
    "### Private Variable"
   ]
  },
  {
   "cell_type": "code",
   "execution_count": 123,
   "metadata": {},
   "outputs": [
    {
     "name": "stdout",
     "output_type": "stream",
     "text": [
      "102 DEF\n"
     ]
    }
   ],
   "source": [
    "# if we want restrict access to a variable defining outside the class\n",
    "#Example for private variable(def)\n",
    "\n",
    "class Account:\n",
    "    def __init__(self, cust_id, name, initial_bal=0):\n",
    "        self.__id = cust_id\n",
    "        self.__name = name\n",
    "        self.__balance = initial_bal\n",
    "        \n",
    "    def get_balance(self):\n",
    "        return self.__balance\n",
    "\n",
    "    def get_id(self):\n",
    "        return self.__id\n",
    "    \n",
    "    def get_name(self):\n",
    "        return self.__name\n",
    "    \n",
    "    def deposite(self, amount):\n",
    "        self.__balance = self.__balance + amount\n",
    "        return self.__balance\n",
    "        \n",
    "    def withdraw(self, amount):\n",
    "        if amount > self.__balance:\n",
    "            return 'Insufficient Balance'\n",
    "        else:\n",
    "            self.__balance -= amount\n",
    "            return self.__balance\n",
    "        \n",
    "customer1 = Account('101', 'ABC')\n",
    "\n",
    "customer2 = Account('102', 'DEF')\n",
    "\n",
    "customer3 = Account('103', 'GHI')\n",
    "\n",
    "customer4 = Account('104', 'JKL')\n",
    "\n",
    "customer1.deposite(50000)\n",
    "customer2.deposite(8000)\n",
    "customer3.deposite(10000)\n",
    "customer4.deposite(70000)\n",
    "\n",
    "l = [customer1, customer2, customer3, customer4]\n",
    "\n",
    "for obj in l:\n",
    "    if obj.get_balance() < 10000:\n",
    "        print(obj.get_id(), obj.get_name())"
   ]
  },
  {
   "cell_type": "markdown",
   "metadata": {},
   "source": [
    "### how to access private variable"
   ]
  },
  {
   "cell_type": "code",
   "execution_count": 124,
   "metadata": {},
   "outputs": [
    {
     "ename": "AttributeError",
     "evalue": "'Account' object has no attribute 'id'",
     "output_type": "error",
     "traceback": [
      "\u001b[1;31m---------------------------------------------------------------------------\u001b[0m",
      "\u001b[1;31mAttributeError\u001b[0m                            Traceback (most recent call last)",
      "\u001b[1;32md:\\Project\\Visual Studio Code\\Online Learning\\Udemy\\Udemy - python-programming-beginner-to-advanced\\Udemy - python-programming-beginner-to-advanced.ipynb Cell 340\u001b[0m in \u001b[0;36m<module>\u001b[1;34m\u001b[0m\n\u001b[1;32m----> <a href='vscode-notebook-cell:/d%3A/Project/Visual%20Studio%20Code/Online%20Learning/Udemy/Udemy%20-%20python-programming-beginner-to-advanced/Udemy%20-%20python-programming-beginner-to-advanced.ipynb#Z1005sZmlsZQ%3D%3D?line=0'>1</a>\u001b[0m \u001b[39mprint\u001b[39m(customer1\u001b[39m.\u001b[39;49mid)\n",
      "\u001b[1;31mAttributeError\u001b[0m: 'Account' object has no attribute 'id'"
     ]
    }
   ],
   "source": [
    "print(customer1.id)     #will result error"
   ]
  },
  {
   "cell_type": "code",
   "execution_count": 125,
   "metadata": {},
   "outputs": [
    {
     "ename": "AttributeError",
     "evalue": "'Account' object has no attribute '__id'",
     "output_type": "error",
     "traceback": [
      "\u001b[1;31m---------------------------------------------------------------------------\u001b[0m",
      "\u001b[1;31mAttributeError\u001b[0m                            Traceback (most recent call last)",
      "\u001b[1;32md:\\Project\\Visual Studio Code\\Online Learning\\Udemy\\Udemy - python-programming-beginner-to-advanced\\Udemy - python-programming-beginner-to-advanced.ipynb Cell 341\u001b[0m in \u001b[0;36m<module>\u001b[1;34m\u001b[0m\n\u001b[1;32m----> <a href='vscode-notebook-cell:/d%3A/Project/Visual%20Studio%20Code/Online%20Learning/Udemy/Udemy%20-%20python-programming-beginner-to-advanced/Udemy%20-%20python-programming-beginner-to-advanced.ipynb#Z1010sZmlsZQ%3D%3D?line=0'>1</a>\u001b[0m \u001b[39mprint\u001b[39m(customer1\u001b[39m.\u001b[39;49m__id)\n",
      "\u001b[1;31mAttributeError\u001b[0m: 'Account' object has no attribute '__id'"
     ]
    }
   ],
   "source": [
    "print(customer1.__id)     #will result error"
   ]
  },
  {
   "cell_type": "code",
   "execution_count": 128,
   "metadata": {},
   "outputs": [
    {
     "name": "stdout",
     "output_type": "stream",
     "text": [
      "101\n",
      "-----------\n",
      "{'_Account__id': '101', '_Account__name': 'ABC', '_Account__balance': 50000}\n"
     ]
    }
   ],
   "source": [
    "print(customer1._Account__id)\n",
    "\n",
    "print('-----------')\n",
    "\n",
    "print(customer1.__dict__)"
   ]
  },
  {
   "cell_type": "markdown",
   "metadata": {},
   "source": [
    "## Class Method and Static Method"
   ]
  },
  {
   "cell_type": "markdown",
   "metadata": {},
   "source": [
    "# A"
   ]
  },
  {
   "cell_type": "markdown",
   "metadata": {},
   "source": []
  }
 ],
 "metadata": {
  "kernelspec": {
   "display_name": "Python 3.9.13 64-bit (microsoft store)",
   "language": "python",
   "name": "python3"
  },
  "language_info": {
   "codemirror_mode": {
    "name": "ipython",
    "version": 3
   },
   "file_extension": ".py",
   "mimetype": "text/x-python",
   "name": "python",
   "nbconvert_exporter": "python",
   "pygments_lexer": "ipython3",
   "version": "3.9.13"
  },
  "orig_nbformat": 4,
  "vscode": {
   "interpreter": {
    "hash": "1b600a3438a79bc98971c3547d28f531d0c8ed6c91b96b1480a504fa30005dbe"
   }
  }
 },
 "nbformat": 4,
 "nbformat_minor": 2
}
