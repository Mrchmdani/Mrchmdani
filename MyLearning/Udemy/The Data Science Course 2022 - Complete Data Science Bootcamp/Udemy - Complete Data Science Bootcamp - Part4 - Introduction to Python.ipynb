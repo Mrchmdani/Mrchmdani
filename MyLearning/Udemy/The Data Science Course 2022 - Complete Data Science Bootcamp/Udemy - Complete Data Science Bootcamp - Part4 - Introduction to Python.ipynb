{
 "cells": [
  {
   "attachments": {},
   "cell_type": "markdown",
   "metadata": {},
   "source": [
    "# **Section 22: Part 4: Introduction to Python**"
   ]
  },
  {
   "attachments": {},
   "cell_type": "markdown",
   "metadata": {},
   "source": [
    "## 137. Introduction to Programming"
   ]
  },
  {
   "attachments": {},
   "cell_type": "markdown",
   "metadata": {},
   "source": [
    "https://www.udemy.com/course/the-data-science-course-complete-data-science-bootcamp/learn/lecture/10772510"
   ]
  },
  {
   "attachments": {},
   "cell_type": "markdown",
   "metadata": {},
   "source": [
    "## Quiz 80: Introduction to Programming"
   ]
  },
  {
   "attachments": {},
   "cell_type": "markdown",
   "metadata": {},
   "source": [
    "https://www.udemy.com/course/the-data-science-course-complete-data-science-bootcamp/learn/quiz/4451546#learning-tools"
   ]
  },
  {
   "attachments": {},
   "cell_type": "markdown",
   "metadata": {},
   "source": [
    "## 138. Why Python?"
   ]
  },
  {
   "attachments": {},
   "cell_type": "markdown",
   "metadata": {},
   "source": [
    "https://www.udemy.com/course/the-data-science-course-complete-data-science-bootcamp/learn/lecture/10772524#learning-tools"
   ]
  },
  {
   "attachments": {},
   "cell_type": "markdown",
   "metadata": {},
   "source": [
    "## Quiz 81: Why Python?"
   ]
  },
  {
   "attachments": {},
   "cell_type": "markdown",
   "metadata": {},
   "source": [
    "https://www.udemy.com/course/the-data-science-course-complete-data-science-bootcamp/learn/quiz/4451548#learning-tools"
   ]
  },
  {
   "attachments": {},
   "cell_type": "markdown",
   "metadata": {},
   "source": [
    "## 139. Why Jupyter?"
   ]
  },
  {
   "attachments": {},
   "cell_type": "markdown",
   "metadata": {},
   "source": [
    "https://www.udemy.com/course/the-data-science-course-complete-data-science-bootcamp/learn/lecture/10772526#learning-tools"
   ]
  },
  {
   "attachments": {},
   "cell_type": "markdown",
   "metadata": {},
   "source": [
    "## Quiz 82: Why Jupyter?"
   ]
  },
  {
   "attachments": {},
   "cell_type": "markdown",
   "metadata": {},
   "source": [
    "https://www.udemy.com/course/the-data-science-course-complete-data-science-bootcamp/learn/quiz/4451550#learning-tools"
   ]
  },
  {
   "attachments": {},
   "cell_type": "markdown",
   "metadata": {},
   "source": [
    "## 140. Installing Python and Jupyter"
   ]
  },
  {
   "attachments": {},
   "cell_type": "markdown",
   "metadata": {},
   "source": [
    "https://www.udemy.com/course/the-data-science-course-complete-data-science-bootcamp/learn/lecture/10772552#learning-tools"
   ]
  },
  {
   "attachments": {},
   "cell_type": "markdown",
   "metadata": {},
   "source": [
    "## https://www.udemy.com/course/the-data-science-course-complete-data-science-bootcamp/learn/lecture/10772552#learning-tools"
   ]
  },
  {
   "attachments": {},
   "cell_type": "markdown",
   "metadata": {},
   "source": [
    "https://www.udemy.com/course/the-data-science-course-complete-data-science-bootcamp/learn/lecture/10772582#learning-tools"
   ]
  },
  {
   "attachments": {},
   "cell_type": "markdown",
   "metadata": {},
   "source": [
    "## 142. Prerequisites for Coding in the Jupyter Notebooks"
   ]
  },
  {
   "attachments": {},
   "cell_type": "markdown",
   "metadata": {},
   "source": [
    "https://www.udemy.com/course/the-data-science-course-complete-data-science-bootcamp/learn/lecture/10772590#learning-tools"
   ]
  },
  {
   "attachments": {},
   "cell_type": "markdown",
   "metadata": {},
   "source": [
    "## Quiz 83: Jupyter's Interface"
   ]
  },
  {
   "attachments": {},
   "cell_type": "markdown",
   "metadata": {},
   "source": [
    "https://www.udemy.com/course/the-data-science-course-complete-data-science-bootcamp/learn/quiz/4451560#learning-tools"
   ]
  },
  {
   "attachments": {},
   "cell_type": "markdown",
   "metadata": {},
   "source": [
    "# **Section 23: Python - Variables and Data Types**"
   ]
  },
  {
   "attachments": {},
   "cell_type": "markdown",
   "metadata": {},
   "source": [
    "## 143. Variables"
   ]
  },
  {
   "attachments": {},
   "cell_type": "markdown",
   "metadata": {},
   "source": [
    "https://www.udemy.com/course/the-data-science-course-complete-data-science-bootcamp/learn/lecture/10772630#learning-tools"
   ]
  },
  {
   "attachments": {},
   "cell_type": "markdown",
   "metadata": {},
   "source": [
    "* Variable is to store information / data input\n",
    "* PYTHON is CASE SENSITIVE\n",
    "\n",
    "```\n",
    "x = 5\n",
    "```\n",
    "\n",
    "* 'x' is variable\n",
    "* '5' is value"
   ]
  },
  {
   "attachments": {},
   "cell_type": "markdown",
   "metadata": {},
   "source": [
    "## Quiz 84: Variables"
   ]
  },
  {
   "attachments": {},
   "cell_type": "markdown",
   "metadata": {},
   "source": [
    "https://www.udemy.com/course/the-data-science-course-complete-data-science-bootcamp/learn/quiz/4451562#overview"
   ]
  },
  {
   "attachments": {},
   "cell_type": "markdown",
   "metadata": {},
   "source": [
    "1. The variable 'x' has been created and the value of 20 has been assigned to it. Which of the following code will not produce an output of 20?\n",
    "    * 'X', because python is case sensitive and the correct answer is 'x' with lower case"
   ]
  },
  {
   "attachments": {},
   "cell_type": "markdown",
   "metadata": {},
   "source": [
    "## 144. Numbers and Boolean Values in Python"
   ]
  },
  {
   "attachments": {},
   "cell_type": "markdown",
   "metadata": {},
   "source": [
    "https://www.udemy.com/course/the-data-science-course-complete-data-science-bootcamp/learn/lecture/10772634#overview"
   ]
  },
  {
   "attachments": {},
   "cell_type": "markdown",
   "metadata": {},
   "source": [
    "* Integers\n",
    "    * positive or negative whole numbers; without a decimal point\n",
    "    * 5 is integer\n",
    "```\n",
    "x1 = 5\n",
    "```\n",
    "* type(var)\n",
    "    * type is for verify data type\n",
    "```\n",
    "type(x1)\n",
    "```\n",
    "* Floats\n",
    "    * Real numbers; with decimal point\n",
    "```\n",
    "x2 = 0.5\n",
    "```\n",
    "* int()\n",
    "    * convert the variable into an integer\n",
    "* float()\n",
    "    * * convert the variable into an float\n",
    "* Boolean values:\n",
    "    * A 'True' or 'False' value (case sensitive)\n",
    "```\n",
    "x3 = True\n",
    "```"
   ]
  },
  {
   "cell_type": "code",
   "execution_count": 1,
   "metadata": {},
   "outputs": [
    {
     "data": {
      "text/plain": [
       "int"
      ]
     },
     "execution_count": 1,
     "metadata": {},
     "output_type": "execute_result"
    }
   ],
   "source": [
    "x1 = 5\n",
    "type(x1)"
   ]
  },
  {
   "cell_type": "code",
   "execution_count": 2,
   "metadata": {},
   "outputs": [
    {
     "data": {
      "text/plain": [
       "float"
      ]
     },
     "execution_count": 2,
     "metadata": {},
     "output_type": "execute_result"
    }
   ],
   "source": [
    "x2 = 0.5\n",
    "type(x2)"
   ]
  },
  {
   "cell_type": "code",
   "execution_count": 3,
   "metadata": {},
   "outputs": [
    {
     "data": {
      "text/plain": [
       "1"
      ]
     },
     "execution_count": 3,
     "metadata": {},
     "output_type": "execute_result"
    }
   ],
   "source": [
    "int(1.5)"
   ]
  },
  {
   "cell_type": "code",
   "execution_count": 4,
   "metadata": {},
   "outputs": [
    {
     "data": {
      "text/plain": [
       "5.0"
      ]
     },
     "execution_count": 4,
     "metadata": {},
     "output_type": "execute_result"
    }
   ],
   "source": [
    "float(5)"
   ]
  },
  {
   "cell_type": "code",
   "execution_count": 5,
   "metadata": {},
   "outputs": [
    {
     "data": {
      "text/plain": [
       "True"
      ]
     },
     "execution_count": 5,
     "metadata": {},
     "output_type": "execute_result"
    }
   ],
   "source": [
    "x3 = True\n",
    "x3"
   ]
  },
  {
   "attachments": {},
   "cell_type": "markdown",
   "metadata": {},
   "source": [
    "## Quiz 85: Numbers and Boolean Values in Python"
   ]
  },
  {
   "attachments": {},
   "cell_type": "markdown",
   "metadata": {},
   "source": [
    "https://www.udemy.com/course/the-data-science-course-complete-data-science-bootcamp/learn/quiz/4451564#overview"
   ]
  },
  {
   "attachments": {},
   "cell_type": "markdown",
   "metadata": {},
   "source": [
    "1. Which of the following values is of Boolean type?\n",
    "    * False, True"
   ]
  },
  {
   "attachments": {},
   "cell_type": "markdown",
   "metadata": {},
   "source": [
    "## 145. Python Strings"
   ]
  },
  {
   "attachments": {},
   "cell_type": "markdown",
   "metadata": {},
   "source": [
    "https://www.udemy.com/course/the-data-science-course-complete-data-science-bootcamp/learn/lecture/10772636#overview"
   ]
  },
  {
   "attachments": {},
   "cell_type": "markdown",
   "metadata": {},
   "source": [
    "* Strings\n",
    "    * Text values composed of a sequence of character\n",
    "    * character with ' ' or \" \" or \"\"\" \"\"\"\n",
    "```\n",
    "'Apple'\n",
    "```"
   ]
  },
  {
   "attachments": {},
   "cell_type": "markdown",
   "metadata": {},
   "source": [
    "## Quiz 86: Python Strings"
   ]
  },
  {
   "attachments": {},
   "cell_type": "markdown",
   "metadata": {},
   "source": [
    "https://www.udemy.com/course/the-data-science-course-complete-data-science-bootcamp/learn/quiz/4451566#overview"
   ]
  },
  {
   "attachments": {},
   "cell_type": "markdown",
   "metadata": {},
   "source": [
    "1. Which of the following codes is correct?\n",
    "    * 'Peter'\n",
    "    * print(\"Peter\")\n",
    "    * \"Peter\"\n",
    "2. You have assigned the string \"Joshua\" to the variable x. After you type x and execute, which output will you get?\n",
    "    * 'Joshua'\n",
    "3. Which line of code would lead to the following output in Jupyter?\n",
    "    * ![Alt text](img/Quiz%2086%20Python%20Strings.jpg)\n",
    "    * \"Aren't you hungry?\""
   ]
  },
  {
   "attachments": {},
   "cell_type": "markdown",
   "metadata": {},
   "source": [
    "# **Section 24: Python - Basic Python Syntax**"
   ]
  },
  {
   "attachments": {},
   "cell_type": "markdown",
   "metadata": {},
   "source": [
    "## 146. Using Arithmetic Operators in Python"
   ]
  },
  {
   "attachments": {},
   "cell_type": "markdown",
   "metadata": {},
   "source": [
    "https://www.udemy.com/course/the-data-science-course-complete-data-science-bootcamp/learn/lecture/10772640#overview"
   ]
  },
  {
   "attachments": {},
   "cell_type": "markdown",
   "metadata": {},
   "source": [
    "* Arithmetic Operators\n",
    "    * Addition (+)\n",
    "    * Subtration (-)\n",
    "    * Division (/)\n",
    "    * Remainder (%)\n",
    "    * Multiplication (*)\n",
    "    * Power (**)\n",
    "    * //\n",
    "\n",
    "* Different Python 2 vs Python 3\n",
    "    * ![Alt text](img/146.%20Using%20Arithmetic%20Operators%20in%20Python1.jpg)\n",
    "    * "
   ]
  },
  {
   "cell_type": "code",
   "execution_count": 6,
   "metadata": {},
   "outputs": [
    {
     "name": "stdout",
     "output_type": "stream",
     "text": [
      "3 -2 5.0 5.333333333333333 1 15 27\n"
     ]
    }
   ],
   "source": [
    "x1 = 1 + 2\n",
    "x2 = 3 - 5\n",
    "x3 = 15/3\n",
    "x4 = 16/3\n",
    "x5 = 16%3\n",
    "x6 = 5*3\n",
    "x7 = 3**3\n",
    "print(x1, x2, x3, x4, x5, x6, x7)"
   ]
  },
  {
   "attachments": {},
   "cell_type": "markdown",
   "metadata": {},
   "source": [
    "## Quiz 87: Using Arithmetic Operators in Python"
   ]
  },
  {
   "attachments": {},
   "cell_type": "markdown",
   "metadata": {},
   "source": [
    "https://www.udemy.com/course/the-data-science-course-complete-data-science-bootcamp/learn/quiz/4451568#overview"
   ]
  },
  {
   "attachments": {},
   "cell_type": "markdown",
   "metadata": {},
   "source": [
    "1. When executed, which of the following will result in an output of 36?\n",
    "    * 6*6"
   ]
  },
  {
   "attachments": {},
   "cell_type": "markdown",
   "metadata": {},
   "source": [
    "## 147. The Double Equality Sign"
   ]
  },
  {
   "attachments": {},
   "cell_type": "markdown",
   "metadata": {},
   "source": [
    "https://www.udemy.com/course/the-data-science-course-complete-data-science-bootcamp/learn/lecture/10772644#overview"
   ]
  },
  {
   "attachments": {},
   "cell_type": "markdown",
   "metadata": {},
   "source": [
    "* '==' mean 'equal'\n",
    "    * The machine will respond with a boolean value. It will either return **true or false**."
   ]
  },
  {
   "cell_type": "code",
   "execution_count": 7,
   "metadata": {},
   "outputs": [
    {
     "data": {
      "text/plain": [
       "True"
      ]
     },
     "execution_count": 7,
     "metadata": {},
     "output_type": "execute_result"
    }
   ],
   "source": [
    "y = 5 ** 3\n",
    "y == 125\n",
    "\n",
    "# is y equal to 125?"
   ]
  },
  {
   "cell_type": "code",
   "execution_count": 8,
   "metadata": {},
   "outputs": [
    {
     "data": {
      "text/plain": [
       "False"
      ]
     },
     "execution_count": 8,
     "metadata": {},
     "output_type": "execute_result"
    }
   ],
   "source": [
    "y = 5 ** 3\n",
    "y == 126\n",
    "\n",
    "# is y equal to 125?"
   ]
  },
  {
   "attachments": {},
   "cell_type": "markdown",
   "metadata": {},
   "source": [
    "## Quiz 88: The Double Equality Sign"
   ]
  },
  {
   "attachments": {},
   "cell_type": "markdown",
   "metadata": {},
   "source": [
    "https://www.udemy.com/course/the-data-science-course-complete-data-science-bootcamp/learn/quiz/4451570#overview"
   ]
  },
  {
   "attachments": {},
   "cell_type": "markdown",
   "metadata": {},
   "source": [
    "1. What will result from the following:   100 == 100?\n",
    "    * True"
   ]
  },
  {
   "attachments": {},
   "cell_type": "markdown",
   "metadata": {},
   "source": [
    "## 148. How to Reassign Values"
   ]
  },
  {
   "attachments": {},
   "cell_type": "markdown",
   "metadata": {},
   "source": [
    "https://www.udemy.com/course/the-data-science-course-complete-data-science-bootcamp/learn/lecture/10772656#overview"
   ]
  },
  {
   "attachments": {},
   "cell_type": "markdown",
   "metadata": {},
   "source": [
    "* Python reassigns values to its objects, therefore, remember the last command is valid and older commands are overwritten."
   ]
  },
  {
   "cell_type": "code",
   "execution_count": 9,
   "metadata": {},
   "outputs": [
    {
     "name": "stdout",
     "output_type": "stream",
     "text": [
      "1\n",
      "3\n",
      "8\n",
      "12\n"
     ]
    }
   ],
   "source": [
    "z = 1\n",
    "print(z)\n",
    "\n",
    "z = 3\n",
    "print(z)\n",
    "\n",
    "x = z + 5\n",
    "print(x)\n",
    "\n",
    "z = 7\n",
    "x = z + 5\n",
    "print(x)"
   ]
  },
  {
   "attachments": {},
   "cell_type": "markdown",
   "metadata": {},
   "source": [
    "## Quiz 89: How to Reassign Values"
   ]
  },
  {
   "attachments": {},
   "cell_type": "markdown",
   "metadata": {},
   "source": [
    "https://www.udemy.com/course/the-data-science-course-complete-data-science-bootcamp/learn/quiz/4451572#overview"
   ]
  },
  {
   "attachments": {},
   "cell_type": "markdown",
   "metadata": {},
   "source": [
    "1. Initially, you have bound the value of 20 to the variable x. Later, in your code, you have bound the value of 13 to the same variable x. Then you execute x + 16. What number will you get?\n",
    "    * 29"
   ]
  },
  {
   "attachments": {},
   "cell_type": "markdown",
   "metadata": {},
   "source": [
    "## 149. Add Comments"
   ]
  },
  {
   "attachments": {},
   "cell_type": "markdown",
   "metadata": {},
   "source": [
    "https://www.udemy.com/course/the-data-science-course-complete-data-science-bootcamp/learn/lecture/10772658#overview"
   ]
  },
  {
   "attachments": {},
   "cell_type": "markdown",
   "metadata": {},
   "source": [
    "* How to leave a comment:\n",
    "    * Put hash sign (#) at the beginning of each line you would like to insert as a comment.\n",
    "    * Comments are sentences not executed by the computer."
   ]
  },
  {
   "cell_type": "code",
   "execution_count": 10,
   "metadata": {},
   "outputs": [
    {
     "data": {
      "text/plain": [
       "5"
      ]
     },
     "execution_count": 10,
     "metadata": {},
     "output_type": "execute_result"
    }
   ],
   "source": [
    "# 'x' is a variable\n",
    "# This is just a comment and not code!\n",
    "\n",
    "x = 5\n",
    "x"
   ]
  },
  {
   "attachments": {},
   "cell_type": "markdown",
   "metadata": {},
   "source": [
    "## Quiz 90: Add Comments"
   ]
  },
  {
   "attachments": {},
   "cell_type": "markdown",
   "metadata": {},
   "source": [
    "https://www.udemy.com/course/the-data-science-course-complete-data-science-bootcamp/learn/quiz/4451574#overview"
   ]
  },
  {
   "attachments": {},
   "cell_type": "markdown",
   "metadata": {},
   "source": [
    "1. Which is the symbol that allows you to leave a comment in a code cell?\n",
    "    * #"
   ]
  },
  {
   "attachments": {},
   "cell_type": "markdown",
   "metadata": {},
   "source": [
    "## 150. Understanding Line Continuation"
   ]
  },
  {
   "attachments": {},
   "cell_type": "markdown",
   "metadata": {},
   "source": [
    "https://www.udemy.com/course/the-data-science-course-complete-data-science-bootcamp/learn/lecture/10772662#overview"
   ]
  },
  {
   "attachments": {},
   "cell_type": "markdown",
   "metadata": {},
   "source": [
    "* 2.0 * 1.5 + 5 could be written in two lines and the machine could still read it as one command. This could be achieved by putting a back slash where you would like the end of the first line to be. It indicates you will continue the same command on a new line."
   ]
  },
  {
   "cell_type": "code",
   "execution_count": 11,
   "metadata": {},
   "outputs": [
    {
     "data": {
      "text/plain": [
       "8.0"
      ]
     },
     "execution_count": 11,
     "metadata": {},
     "output_type": "execute_result"
    }
   ],
   "source": [
    "2.0 * 1.5 + 5"
   ]
  },
  {
   "cell_type": "code",
   "execution_count": 12,
   "metadata": {},
   "outputs": [
    {
     "data": {
      "text/plain": [
       "8.0"
      ]
     },
     "execution_count": 12,
     "metadata": {},
     "output_type": "execute_result"
    }
   ],
   "source": [
    "# back slash for indicating first line to be and can be continue at the next line\n",
    "2.0 * 1.5 + \\\n",
    "5"
   ]
  },
  {
   "attachments": {},
   "cell_type": "markdown",
   "metadata": {},
   "source": [
    "## 151. Indexing Elements"
   ]
  },
  {
   "attachments": {},
   "cell_type": "markdown",
   "metadata": {},
   "source": [
    "https://www.udemy.com/course/the-data-science-course-complete-data-science-bootcamp/learn/lecture/10772664#overview"
   ]
  },
  {
   "attachments": {},
   "cell_type": "markdown",
   "metadata": {},
   "source": [
    "* Python count from zero, not from one.\n"
   ]
  },
  {
   "cell_type": "code",
   "execution_count": 13,
   "metadata": {},
   "outputs": [
    {
     "data": {
      "text/plain": [
       "'d'"
      ]
     },
     "execution_count": 13,
     "metadata": {},
     "output_type": "execute_result"
    }
   ],
   "source": [
    "'Friday'[3]"
   ]
  },
  {
   "cell_type": "code",
   "execution_count": 14,
   "metadata": {},
   "outputs": [
    {
     "data": {
      "text/plain": [
       "'a'"
      ]
     },
     "execution_count": 14,
     "metadata": {},
     "output_type": "execute_result"
    }
   ],
   "source": [
    "'Friday'[4]"
   ]
  },
  {
   "attachments": {},
   "cell_type": "markdown",
   "metadata": {},
   "source": [
    "## Quiz 91: Indexing Elements"
   ]
  },
  {
   "attachments": {},
   "cell_type": "markdown",
   "metadata": {},
   "source": [
    "https://www.udemy.com/course/the-data-science-course-complete-data-science-bootcamp/learn/quiz/4451576#overview"
   ]
  },
  {
   "attachments": {},
   "cell_type": "markdown",
   "metadata": {},
   "source": [
    "1. What will be the output of the following command: print('Holidays!'[6])?\n",
    "    * y"
   ]
  },
  {
   "attachments": {},
   "cell_type": "markdown",
   "metadata": {},
   "source": [
    "## 152. Structuring with Indentation"
   ]
  },
  {
   "attachments": {},
   "cell_type": "markdown",
   "metadata": {},
   "source": [
    "https://www.udemy.com/course/the-data-science-course-complete-data-science-bootcamp/learn/lecture/10772680#overview"
   ]
  },
  {
   "attachments": {},
   "cell_type": "markdown",
   "metadata": {},
   "source": [
    "* Let's define a function, five. That takes as an argument, an unknown X. It will be a simple one. \n",
    "    * X will be reassigned the value of five, and \n",
    "    * the function will return the value of five for us.\n",
    "* ![Alt text](img/152.%20Structuring%20with%20Indentation1.jpg)"
   ]
  },
  {
   "cell_type": "code",
   "execution_count": 15,
   "metadata": {},
   "outputs": [
    {
     "name": "stdout",
     "output_type": "stream",
     "text": [
      "5\n"
     ]
    }
   ],
   "source": [
    "def five(X):\n",
    "    x = 5\n",
    "    return x\n",
    "print(five(3))"
   ]
  },
  {
   "attachments": {},
   "cell_type": "markdown",
   "metadata": {},
   "source": [
    "## Quiz 92: Structuring with Indentation"
   ]
  },
  {
   "attachments": {},
   "cell_type": "markdown",
   "metadata": {},
   "source": [
    "https://www.udemy.com/course/the-data-science-course-complete-data-science-bootcamp/learn/quiz/4451580#overview"
   ]
  },
  {
   "attachments": {},
   "cell_type": "markdown",
   "metadata": {},
   "source": [
    "1. Which keyboard button allows you to indent in Jupyter?\n",
    "    * Tab"
   ]
  },
  {
   "attachments": {},
   "cell_type": "markdown",
   "metadata": {},
   "source": [
    "## 153. Comparison Operators"
   ]
  },
  {
   "attachments": {},
   "cell_type": "markdown",
   "metadata": {},
   "source": [
    "https://www.udemy.com/course/the-data-science-course-complete-data-science-bootcamp/learn/lecture/10772684#content"
   ]
  },
  {
   "attachments": {},
   "cell_type": "markdown",
   "metadata": {},
   "source": [
    "* '!=' is 'Not equal to'\n",
    "* '>' is 'Greater than'\n",
    "* '<' is 'Less than'\n",
    "* '>=' is 'Greater than or equal to'\n",
    "* '<=' is 'Less than or equal to'"
   ]
  },
  {
   "cell_type": "code",
   "execution_count": 16,
   "metadata": {},
   "outputs": [
    {
     "name": "stdout",
     "output_type": "stream",
     "text": [
      "is 10 equal to 20 devide by 2 ? True\n",
      "is 10 not equal to 10 ? False\n",
      "is 10 not equal to 15 ? True\n",
      "is 100 Greater than 50 ? True\n",
      "is 20 Less than or equal to 15 ? False\n"
     ]
    }
   ],
   "source": [
    "x = 10 == 20/2\n",
    "print('is 10 equal to 20 devide by 2 ?', x)\n",
    "\n",
    "x1 = 10 != 10\n",
    "print('is 10 not equal to 10 ?', x1)\n",
    "\n",
    "x2 = 10 != 15\n",
    "print('is 10 not equal to 15 ?', x2)\n",
    "\n",
    "x3 = 100 > 50\n",
    "print('is 100 Greater than 50 ?', x3)\n",
    "\n",
    "x4 = 20 <= 15\n",
    "print('is 20 Less than or equal to 15 ?', x4)"
   ]
  },
  {
   "attachments": {},
   "cell_type": "markdown",
   "metadata": {},
   "source": [
    "## Quiz 93: Comparison Operators"
   ]
  },
  {
   "attachments": {},
   "cell_type": "markdown",
   "metadata": {},
   "source": [
    "https://www.udemy.com/course/the-data-science-course-complete-data-science-bootcamp/learn/quiz/4451582#overview"
   ]
  },
  {
   "attachments": {},
   "cell_type": "markdown",
   "metadata": {},
   "source": [
    "1. Which of the following operators stands for \"not equal to\" in Python?\n",
    "    * !=\n",
    "2. How should one write \"5 is greater than or equal to 3\"?\n",
    "    * 5 >= 3"
   ]
  },
  {
   "attachments": {},
   "cell_type": "markdown",
   "metadata": {},
   "source": [
    "## 154. Logical and Identity Operators"
   ]
  },
  {
   "attachments": {},
   "cell_type": "markdown",
   "metadata": {},
   "source": [
    "https://www.udemy.com/course/the-data-science-course-complete-data-science-bootcamp/learn/lecture/10772688#overview"
   ]
  },
  {
   "attachments": {},
   "cell_type": "markdown",
   "metadata": {},
   "source": [
    "![Logic Gates](https://miro.medium.com/max/720/1*4JomFrSIYLoTs_8x4ZqGNA.jpeg)"
   ]
  },
  {
   "attachments": {},
   "cell_type": "markdown",
   "metadata": {},
   "source": [
    "### Logical Operators"
   ]
  },
  {
   "attachments": {},
   "cell_type": "markdown",
   "metadata": {},
   "source": [
    "* Logical Operators = Boolean Operators:\n",
    "    * NOT\n",
    "        * Not leads to the opposite of the given statement.\n",
    "        * Not true leads to false. \n",
    "        * Not false leads to true.\n",
    "    * AND\n",
    "        * And checks whether the two statements around it are true.\n",
    "    * OR\n",
    "        * Or checks whether at least one of the two statements is true.\n",
    "* They compare a certain amount of statements and return Boolean values true or false, hence their second name, Boolean operators. Let's start by providing an example with and.\n",
    "* The Boolean operators can be applied not only to Boolean values."
   ]
  },
  {
   "cell_type": "code",
   "execution_count": 17,
   "metadata": {},
   "outputs": [
    {
     "name": "stdout",
     "output_type": "stream",
     "text": [
      "True False False\n",
      "True True False\n",
      "False True\n"
     ]
    }
   ],
   "source": [
    "and1 = True and True\n",
    "and2 = True and False\n",
    "and3 = False and False\n",
    "print(and1, and2, and3)\n",
    "or1 = True or True\n",
    "or2 = True or False\n",
    "or3 = False or False\n",
    "print(or1, or2, or3)\n",
    "not1 = not True\n",
    "not2 = not False\n",
    "print(not1, not2)"
   ]
  },
  {
   "cell_type": "code",
   "execution_count": 18,
   "metadata": {},
   "outputs": [
    {
     "data": {
      "text/plain": [
       "False"
      ]
     },
     "execution_count": 18,
     "metadata": {},
     "output_type": "execute_result"
    }
   ],
   "source": [
    "3 > 5 and 10 <= 20"
   ]
  },
  {
   "cell_type": "code",
   "execution_count": 19,
   "metadata": {},
   "outputs": [
    {
     "name": "stdout",
     "output_type": "stream",
     "text": [
      "False False True\n"
     ]
    }
   ],
   "source": [
    "a = True and not True\n",
    "b = False or not True and True\n",
    "c = True and not True or True\n",
    "print(a, b, c)\n",
    "\n",
    "# In these occasions, you must respect the order of importance of these three operators. \n",
    "# It is 'not' comes first, then we have 'and', and finally 'or'."
   ]
  },
  {
   "attachments": {},
   "cell_type": "markdown",
   "metadata": {},
   "source": [
    "![Alt text](img/154.%20Logical%20and%20Identity%20Operators1.jpg)"
   ]
  },
  {
   "attachments": {},
   "cell_type": "markdown",
   "metadata": {},
   "source": [
    "### Identity Operators"
   ]
  },
  {
   "attachments": {},
   "cell_type": "markdown",
   "metadata": {},
   "source": [
    "* The identity operators are the words is and is not.\n",
    "    * is\n",
    "    * is not\n",
    "* They function similar to the double equality sign and the exclamation mark and equality sign"
   ]
  },
  {
   "cell_type": "code",
   "execution_count": 20,
   "metadata": {},
   "outputs": [
    {
     "name": "stdout",
     "output_type": "stream",
     "text": [
      "False False True True\n"
     ]
    },
    {
     "name": "stderr",
     "output_type": "stream",
     "text": [
      "<>:1: SyntaxWarning: \"is\" with a literal. Did you mean \"==\"?\n",
      "<>:3: SyntaxWarning: \"is not\" with a literal. Did you mean \"!=\"?\n",
      "<>:1: SyntaxWarning: \"is\" with a literal. Did you mean \"==\"?\n",
      "<>:3: SyntaxWarning: \"is not\" with a literal. Did you mean \"!=\"?\n",
      "C:\\Users\\cilit\\AppData\\Local\\Temp\\ipykernel_18912\\2347623204.py:1: SyntaxWarning: \"is\" with a literal. Did you mean \"==\"?\n",
      "  a = 5 is 6\n",
      "C:\\Users\\cilit\\AppData\\Local\\Temp\\ipykernel_18912\\2347623204.py:3: SyntaxWarning: \"is not\" with a literal. Did you mean \"!=\"?\n",
      "  c = 5 is not 6\n"
     ]
    }
   ],
   "source": [
    "a = 5 is 6\n",
    "b = 5 == 6\n",
    "c = 5 is not 6\n",
    "d = 5 != 6\n",
    "print(a, b, c, d)"
   ]
  },
  {
   "attachments": {},
   "cell_type": "markdown",
   "metadata": {},
   "source": [
    "## Quiz 94: Logical and Identity Operators"
   ]
  },
  {
   "attachments": {},
   "cell_type": "markdown",
   "metadata": {},
   "source": [
    "https://www.udemy.com/course/the-data-science-course-complete-data-science-bootcamp/learn/quiz/4451584#overview"
   ]
  },
  {
   "attachments": {},
   "cell_type": "markdown",
   "metadata": {},
   "source": [
    "1. Which is the correct order of precedence of the logical operators in Python (from highest to lowest)?\n",
    "    * not - and - or\n",
    "2. What would be the output of the following command: True or False or False and True?\n",
    "    * True"
   ]
  },
  {
   "attachments": {},
   "cell_type": "markdown",
   "metadata": {},
   "source": [
    "# **Section 26: Python - Conditional Statements**"
   ]
  },
  {
   "attachments": {},
   "cell_type": "markdown",
   "metadata": {},
   "source": [
    "## 155. The IF Statement"
   ]
  },
  {
   "attachments": {},
   "cell_type": "markdown",
   "metadata": {},
   "source": [
    "https://www.udemy.com/course/the-data-science-course-complete-data-science-bootcamp/learn/lecture/10772698#content"
   ]
  },
  {
   "attachments": {},
   "cell_type": "markdown",
   "metadata": {},
   "source": [
    "* IF statement is conditional statements in Python\n",
    "    * What you can use it for is intuitive, but it is very important to learn the syntax.\n",
    "    ```\n",
    "    if condition:\n",
    "        conditional code\n",
    "    ```\n",
    "* Example:\n",
    "    * If five equals 15 divided by three, then print \"Hooray!\"\n",
    "* Steps:\n",
    "    * First, don't forget we should use the double-equality sign here because we are checking whether five is equal to 15 divided by three, and we are not assigning the value of 15 divided by three to be five. Five is not a variable name. It is a number.\n",
    "    * Now, it is crucial to place a colon. The colon will tell the computer what to do if the condition we just wrote has been satisfied. For achieving good legibility, we advise you to write the print statement on a new line. Please remember, it should be indented. Otherwise, you will run into an error.\n",
    "            "
   ]
  },
  {
   "cell_type": "code",
   "execution_count": 21,
   "metadata": {},
   "outputs": [
    {
     "name": "stdout",
     "output_type": "stream",
     "text": [
      "Hooray!\n"
     ]
    }
   ],
   "source": [
    "if 5 == 15/3:\n",
    "    print('Hooray!')"
   ]
  },
  {
   "attachments": {},
   "cell_type": "markdown",
   "metadata": {},
   "source": [
    "* Will it work if we check for five being equal to 18 divided by three? It is not supposed to, since five differs from six. We got nothing, because we have not told the machine what to do if the provided condition is not satisfied. So there is no reason for the machine to print out \"Hooray!\""
   ]
  },
  {
   "cell_type": "code",
   "execution_count": 22,
   "metadata": {},
   "outputs": [],
   "source": [
    "if 5 == 18/3:\n",
    "    print('Hooray!')"
   ]
  },
  {
   "attachments": {},
   "cell_type": "markdown",
   "metadata": {},
   "source": [
    "* The graph could help you imagine the process of the conditionals.\n",
    "    * ![Alt text](img/155.%20The%20IF%20Statement1.jpg)\n",
    "* Before it displays the outcome of the operation, the machine follows these logical steps. If the conditional code is not to be executed because of the if condition is not true, our program will directly lead us to some other output, or, as it is in this case, to nothing. After any of the two situations, the machine will go to the next black point and will progress from there on."
   ]
  },
  {
   "cell_type": "code",
   "execution_count": 23,
   "metadata": {},
   "outputs": [
    {
     "name": "stdout",
     "output_type": "stream",
     "text": [
      "Hooray\n"
     ]
    }
   ],
   "source": [
    "# Let's try with an inequality sign, which can be written with an exclamation mark and an equal sign.\n",
    "if 5 != 3 * 6 :\n",
    "    print('Hooray')"
   ]
  },
  {
   "attachments": {},
   "cell_type": "markdown",
   "metadata": {},
   "source": [
    "## Quiz 95: The IF Statement"
   ]
  },
  {
   "attachments": {},
   "cell_type": "markdown",
   "metadata": {},
   "source": [
    "https://www.udemy.com/course/the-data-science-course-complete-data-science-bootcamp/learn/quiz/4451586#overview"
   ]
  },
  {
   "attachments": {},
   "cell_type": "markdown",
   "metadata": {},
   "source": [
    "1. An If statement contains the keyword \"If\" and a conditional statement. What comes after these two components?\n",
    "    * colon (:)"
   ]
  },
  {
   "attachments": {},
   "cell_type": "markdown",
   "metadata": {},
   "source": [
    "## 156. The ELSE Statement"
   ]
  },
  {
   "attachments": {},
   "cell_type": "markdown",
   "metadata": {},
   "source": [
    "* 'Else' will tell the computer to execute the successive command in all other cases.\n",
    "* ![Alt text](img/156.%20The%20ELSE%20Statement1.jpg)\n",
    "* Note:\n",
    "    * Don't fall into the trap of organizing your code on a whim. There is a strict manner to do that, and indentation plays a key role again. Should you put the else keyword just underneath the first print word, nothing will happen. Remember to place the if and the else keywords on the same vertical line."
   ]
  },
  {
   "cell_type": "code",
   "execution_count": 24,
   "metadata": {},
   "outputs": [
    {
     "name": "stdout",
     "output_type": "stream",
     "text": [
      "Case 2\n"
     ]
    }
   ],
   "source": [
    "#longer version\n",
    "x = 1\n",
    "if x > 3 :\n",
    "    print('Case 1')\n",
    "if x <= 3 :\n",
    "    print('Case 2')"
   ]
  },
  {
   "cell_type": "code",
   "execution_count": 25,
   "metadata": {},
   "outputs": [
    {
     "name": "stdout",
     "output_type": "stream",
     "text": [
      "Case 2\n"
     ]
    }
   ],
   "source": [
    "#shorter version\n",
    "x = 1\n",
    "if x > 3 :\n",
    "    print('Case 1')\n",
    "else:\n",
    "    print('Case 2')"
   ]
  },
  {
   "attachments": {},
   "cell_type": "markdown",
   "metadata": {},
   "source": [
    "* ![Alt text](img/156.%20The%20ELSE%20Statement2.jpg)"
   ]
  },
  {
   "attachments": {},
   "cell_type": "markdown",
   "metadata": {},
   "source": [
    "## 157. The ELIF Statement"
   ]
  },
  {
   "attachments": {},
   "cell_type": "markdown",
   "metadata": {},
   "source": [
    "https://www.udemy.com/course/the-data-science-course-complete-data-science-bootcamp/learn/lecture/10764550"
   ]
  },
  {
   "attachments": {},
   "cell_type": "markdown",
   "metadata": {},
   "source": [
    "* Adding a second if statement to one of our expressions. This is done with the help of the **elif** keyword\n",
    "* If y is not greater than five, the computer will think else if y is less than five, written elif y < 5. Then I will print out Less. And the else statement follows as a till with the respective block that says return Equal."
   ]
  },
  {
   "cell_type": "code",
   "execution_count": 26,
   "metadata": {},
   "outputs": [],
   "source": [
    "def compare_to_five(y):\n",
    "    if y > 5:\n",
    "        return 'Greater'\n",
    "    elif y < 0:\n",
    "        return 'Negative'\n",
    "    elif y < 5:\n",
    "        return 'Less'\n",
    "    else:\n",
    "        return 'Equal'"
   ]
  },
  {
   "attachments": {},
   "cell_type": "markdown",
   "metadata": {},
   "source": [
    "* Let's confirm we wrote the code correctly. We can print out the compare_to_five function with a value of y equal to 10 in the following way."
   ]
  },
  {
   "cell_type": "code",
   "execution_count": 27,
   "metadata": {},
   "outputs": [
    {
     "name": "stdout",
     "output_type": "stream",
     "text": [
      "Greater\n",
      "Less\n",
      "Equal\n",
      "Negative\n"
     ]
    }
   ],
   "source": [
    "print(compare_to_five(10))\n",
    "print(compare_to_five(2))\n",
    "print(compare_to_five(5))\n",
    "print(compare_to_five(-3))"
   ]
  },
  {
   "attachments": {},
   "cell_type": "markdown",
   "metadata": {},
   "source": [
    "* ![Alt text](img/157.%20The%20ELIF%20Statement1.jpg)"
   ]
  },
  {
   "attachments": {},
   "cell_type": "markdown",
   "metadata": {},
   "source": [
    "## 158. A Note on Boolean Values"
   ]
  },
  {
   "attachments": {},
   "cell_type": "markdown",
   "metadata": {},
   "source": [
    "https://www.udemy.com/course/the-data-science-course-complete-data-science-bootcamp/learn/lecture/10764550"
   ]
  },
  {
   "cell_type": "code",
   "execution_count": 28,
   "metadata": {},
   "outputs": [
    {
     "name": "stdout",
     "output_type": "stream",
     "text": [
      "Incorrect\n"
     ]
    }
   ],
   "source": [
    "x = 2\n",
    "if x > 4:\n",
    "    print('Correct')\n",
    "else:\n",
    "    print('Incorrect')"
   ]
  },
  {
   "attachments": {},
   "cell_type": "markdown",
   "metadata": {},
   "source": [
    "* ![Alt text](img/158.%20A%20Note%20on%20Boolean%20Values1.jpg)\n",
    "    * What you see next is the following if-else construction, if the value of the x variable is greater than four, print out \"Correct\". In all other cases, print \"Incorrect\". So, which is the Boolean element we have in this computational logic? Basically, after you insert your if statement, the computer will attach a Boolean value to it. Depending on the value of its outcome, true or false, it will produce one of the suggested outputs, \"Correct\" or \"Incorrect\". If the first statement is true, that is, if x is greater than four, the machine will print the corresponding statement, \"Correct\", else, which means if the statement x greater than four is untrue, or more precisely, false, the statement \"Incorrect\" will be printed. From a certain perspective, everything in a computer system is Boolean, comprising sequences of zeros and ones, false and true.This is why we are paying attention to the Boolean value. It helps us understand general computational logic and the way conditionals work in Python.\n",
    "* ![Alt text](img/158.%20A%20Note%20on%20Boolean%20Values2.jpg)"
   ]
  },
  {
   "attachments": {},
   "cell_type": "markdown",
   "metadata": {},
   "source": [
    "## Quiz 96: A Note on Boolean Values"
   ]
  },
  {
   "attachments": {},
   "cell_type": "markdown",
   "metadata": {},
   "source": [
    "https://www.udemy.com/course/the-data-science-course-complete-data-science-bootcamp/learn/quiz/4451590#overview"
   ]
  },
  {
   "attachments": {},
   "cell_type": "markdown",
   "metadata": {},
   "source": [
    "1. Mark the pair of values that doesn't match Boolean logic.\n",
    "    * Big and Small"
   ]
  },
  {
   "attachments": {},
   "cell_type": "markdown",
   "metadata": {},
   "source": [
    "# **Section 27: Python - Python Functions**"
   ]
  },
  {
   "attachments": {},
   "cell_type": "markdown",
   "metadata": {},
   "source": [
    "## 159. Defining a Function in Python"
   ]
  },
  {
   "attachments": {},
   "cell_type": "markdown",
   "metadata": {},
   "source": [
    "https://www.udemy.com/course/the-data-science-course-complete-data-science-bootcamp/learn/lecture/10772718#overview"
   ]
  },
  {
   "attachments": {},
   "cell_type": "markdown",
   "metadata": {},
   "source": [
    "* Creating Function\n",
    "    * To tell the computer you are about to create a function, just write **def** at the beginning of the line.\n",
    "    * Def is neither a command nor a function. It is a keyword.\n",
    "        * ![Alt text](img/159.%20Defining%20a%20Function%20in%20Python1.jpg)"
   ]
  },
  {
   "cell_type": "code",
   "execution_count": 29,
   "metadata": {},
   "outputs": [],
   "source": [
    "def simple():\n",
    "    print('My first function')"
   ]
  },
  {
   "cell_type": "code",
   "execution_count": 30,
   "metadata": {},
   "outputs": [
    {
     "name": "stdout",
     "output_type": "stream",
     "text": [
      "My first function\n"
     ]
    }
   ],
   "source": [
    "simple()"
   ]
  },
  {
   "attachments": {},
   "cell_type": "markdown",
   "metadata": {},
   "source": [
    "## 160. How to Create a Function with a Parameter"
   ]
  },
  {
   "attachments": {},
   "cell_type": "markdown",
   "metadata": {},
   "source": [
    "https://www.udemy.com/course/the-data-science-course-complete-data-science-bootcamp/learn/lecture/10772726#overview"
   ]
  },
  {
   "attachments": {},
   "cell_type": "markdown",
   "metadata": {},
   "source": [
    "* Creating Function with Parameters\n",
    "    * ![Alt text](img/160.%20How%20to%20Create%20a%20Function%20with%20a%20Parameter1.jpg)\n",
    "        * Return is returns a value from the function"
   ]
  },
  {
   "cell_type": "code",
   "execution_count": 31,
   "metadata": {},
   "outputs": [],
   "source": [
    "def plus_ten(a):\n",
    "    return a + 10"
   ]
  },
  {
   "cell_type": "code",
   "execution_count": 32,
   "metadata": {},
   "outputs": [
    {
     "data": {
      "text/plain": [
       "12"
      ]
     },
     "execution_count": 32,
     "metadata": {},
     "output_type": "execute_result"
    }
   ],
   "source": [
    "plus_ten(2)"
   ]
  },
  {
   "attachments": {},
   "cell_type": "markdown",
   "metadata": {},
   "source": [
    "* Pay attention to the following. \n",
    "    * When we define a function, we specify in parentheses a parameter. In the plus 10 function, A is a parameter. Later, when we call this function, it is correct to say we provide an argument not a parameter, so we can say call plus 10 with an argument of two, call plus 10 with an argument of five. People often confuse print and return and the type of situations when we can apply them.\n",
    "* To understand the concept better, try to imagine the following.\n",
    "    * There is an argument X, which serves as an input in a function like the one we have here. The function in this case is x plus 10. Given that X is an input, we can think of it as a value we already know, so the combination of X and the function will give us the output value Y.Well, in programming return regards the value of Y, it just says to the machine after the operations executed by the function F, return me to the value of y. Return plays a connection between the second and the third step of the process. In other words a function can take an input of one or more variables and return single output composed of one or more values. This is why return can be used only once in a function. Therefore, we can say the concept of a function applies to programming almost perfectly.\n",
    "        * ![Alt text](img/160.%20How%20to%20Create%20a%20Function%20with%20a%20Parameter2.jpg)\n",
    "    * There are some extra advantages to consider. You could also assign a more intuitive name to a function plus 10 or addition of 10 and the function will still run correctly. This is a sign of good design, on a sheet with 1000 lines of code, if you call all your functions X one, X two, x three and so on, your colleagues will be confused and utterly unhappy. Naming functions clearly and concisely makes your programming code easy to understand and it will be accepted as one of good style."
   ]
  },
  {
   "attachments": {},
   "cell_type": "markdown",
   "metadata": {},
   "source": [
    "## 161. Defining a Function in Python - Part II"
   ]
  },
  {
   "attachments": {},
   "cell_type": "markdown",
   "metadata": {},
   "source": [
    "https://www.udemy.com/course/the-data-science-course-complete-data-science-bootcamp/learn/lecture/10772736#overview"
   ]
  },
  {
   "attachments": {},
   "cell_type": "markdown",
   "metadata": {},
   "source": [
    "* There is another way in which you could organize the definition of your function above (simple and plus_ten).\n",
    "* Print takes a statement, or better, an object, and provides it printed representation in the output cell. It just makes a certain statement visible to the programmer. A good reason to do that would be when you have a huge amount of code and you want to see the intermediary steps of your program printed out, so you can follow the control flow. \n",
    "    * Otherwise, print does not affect the calculation of the output.3\n",
    "    * Differently, return does not visualize the output. It specifies what a certain function is supposed to give back.\n",
    "        * ![Alt text](img/161.%20Defining%20a%20Function%20in%20Python%20-%20Part%20II1.jpg)\n",
    "    * It's important you understand what each of the two keywords does. This will help you a great deal when working with functions. The following could be helpful."
   ]
  },
  {
   "cell_type": "code",
   "execution_count": 33,
   "metadata": {},
   "outputs": [],
   "source": [
    "def plus_ten(a):\n",
    "    result = a + 10\n",
    "    print('Outcome')\n",
    "    return result"
   ]
  },
  {
   "cell_type": "code",
   "execution_count": 34,
   "metadata": {},
   "outputs": [
    {
     "name": "stdout",
     "output_type": "stream",
     "text": [
      "Outcome\n"
     ]
    },
    {
     "data": {
      "text/plain": [
       "12"
      ]
     },
     "execution_count": 34,
     "metadata": {},
     "output_type": "execute_result"
    }
   ],
   "source": [
    "plus_ten(2)"
   ]
  },
  {
   "attachments": {},
   "cell_type": "markdown",
   "metadata": {},
   "source": [
    "## 162. How to Use a Function within a Function"
   ]
  },
  {
   "attachments": {},
   "cell_type": "markdown",
   "metadata": {},
   "source": [
    "https://www.udemy.com/course/the-data-science-course-complete-data-science-bootcamp/learn/lecture/10772744#overview"
   ]
  },
  {
   "attachments": {},
   "cell_type": "markdown",
   "metadata": {},
   "source": [
    "* Say you use w_hours as a parameter, and you are paid $25 per hour.\n",
    "* When you do well in a day, your boss will be very happy to give a bonus of $50 added to your salary."
   ]
  },
  {
   "cell_type": "code",
   "execution_count": 35,
   "metadata": {},
   "outputs": [],
   "source": [
    "def wage(w_hours):\n",
    "    return w_hours * 25\n",
    "\n",
    "def with_bonus(w_hours):\n",
    "    return wage(w_hours) + 50"
   ]
  },
  {
   "cell_type": "code",
   "execution_count": 36,
   "metadata": {},
   "outputs": [
    {
     "data": {
      "text/plain": [
       "200"
      ]
     },
     "execution_count": 36,
     "metadata": {},
     "output_type": "execute_result"
    }
   ],
   "source": [
    "wage(8)"
   ]
  },
  {
   "attachments": {},
   "cell_type": "markdown",
   "metadata": {},
   "source": [
    "## 163. Conditional Statements and Functions"
   ]
  },
  {
   "attachments": {},
   "cell_type": "markdown",
   "metadata": {},
   "source": [
    "https://www.udemy.com/course/the-data-science-course-complete-data-science-bootcamp/learn/lecture/10772748#overview"
   ]
  },
  {
   "attachments": {},
   "cell_type": "markdown",
   "metadata": {},
   "source": [
    "* Combining function and condition statement\n",
    "    * ![Alt text](img/163.%20Conditional%20Statements%20and%20Functions1.jpg)\n",
    "        * ![Alt text](img/163.%20Conditional%20Statements%20and%20Functions2.jpg)\n",
    "    * We have **m** on both sides of the equation, and that is perfectly fine. As a matter of fact, it is not an equation. Remember, that the equality sign stands for assigning the expression on the right side to what is written on the left side.\n",
    "    * ![Alt text](img/163.%20Conditional%20Statements%20and%20Functions3.jpg)"
   ]
  },
  {
   "cell_type": "code",
   "execution_count": 37,
   "metadata": {},
   "outputs": [],
   "source": [
    "def add_ten(m):\n",
    "    if m >= 100:\n",
    "        m = m + 10\n",
    "        return m\n",
    "# To sum up, logically, we mention \"m\" as a parameter. \n",
    "# Then, we substitute its value with a greater value than M, with 10. \n",
    "# At the end, we say from now on, return a value equal to the new m.\n",
    "    else:\n",
    "        return('Save More!')"
   ]
  },
  {
   "cell_type": "code",
   "execution_count": 38,
   "metadata": {},
   "outputs": [
    {
     "data": {
      "text/plain": [
       "120"
      ]
     },
     "execution_count": 38,
     "metadata": {},
     "output_type": "execute_result"
    }
   ],
   "source": [
    "add_ten(110)"
   ]
  },
  {
   "cell_type": "code",
   "execution_count": 39,
   "metadata": {},
   "outputs": [
    {
     "data": {
      "text/plain": [
       "'Save More!'"
      ]
     },
     "execution_count": 39,
     "metadata": {},
     "output_type": "execute_result"
    }
   ],
   "source": [
    "add_ten(50)"
   ]
  },
  {
   "attachments": {},
   "cell_type": "markdown",
   "metadata": {},
   "source": [
    "## 164. Functions Containing a Few Arguments"
   ]
  },
  {
   "attachments": {},
   "cell_type": "markdown",
   "metadata": {},
   "source": [
    "https://www.udemy.com/course/the-data-science-course-complete-data-science-bootcamp/learn/lecture/10772750#overview"
   ]
  },
  {
   "attachments": {},
   "cell_type": "markdown",
   "metadata": {},
   "source": [
    "* In this lesson, we'll learn how to work with more than one parameter in a function. The way this is done in Python is by enlisting all the arguments within the parenthesis, separated by a comma.\n",
    "    * ![Alt text](img/164.%20Functions%20Containing%20a%20Few%20Arguments1.jpg)"
   ]
  },
  {
   "cell_type": "code",
   "execution_count": 40,
   "metadata": {},
   "outputs": [],
   "source": [
    "def subtract_bc(a, b, c):\n",
    "    result = a - b * c\n",
    "    print('Parameter a equals', a)\n",
    "    print('Parameter b equals', b)\n",
    "    print('Parameter c equals', c)\n",
    "    return result"
   ]
  },
  {
   "cell_type": "code",
   "execution_count": 41,
   "metadata": {},
   "outputs": [
    {
     "name": "stdout",
     "output_type": "stream",
     "text": [
      "Parameter a equals 10\n",
      "Parameter b equals 3\n",
      "Parameter c equals 2\n"
     ]
    },
    {
     "data": {
      "text/plain": [
       "4"
      ]
     },
     "execution_count": 41,
     "metadata": {},
     "output_type": "execute_result"
    }
   ],
   "source": [
    "subtract_bc(10, 3, 2)"
   ]
  },
  {
   "cell_type": "code",
   "execution_count": 42,
   "metadata": {},
   "outputs": [
    {
     "name": "stdout",
     "output_type": "stream",
     "text": [
      "Parameter a equals 10\n",
      "Parameter b equals 3\n",
      "Parameter c equals 2\n"
     ]
    },
    {
     "data": {
      "text/plain": [
       "4"
      ]
     },
     "execution_count": 42,
     "metadata": {},
     "output_type": "execute_result"
    }
   ],
   "source": [
    "subtract_bc(b=3, c=2, a=10)"
   ]
  },
  {
   "attachments": {},
   "cell_type": "markdown",
   "metadata": {},
   "source": [
    "## 165. Built-in Functions in Python"
   ]
  },
  {
   "attachments": {},
   "cell_type": "markdown",
   "metadata": {},
   "source": [
    "https://www.udemy.com/course/the-data-science-course-complete-data-science-bootcamp/learn/lecture/10772752#overview"
   ]
  },
  {
   "attachments": {},
   "cell_type": "markdown",
   "metadata": {},
   "source": [
    "* Build-in functions can be applied directly because these functions are already on your computer. This means you won't need to type their code every time you use them.\n",
    "* As a matter of fact, you saw examples of built-in functions in the lesson about data types.\n",
    "```\n",
    "type() = obtains the type of variable you use as an argument\n",
    "```\n",
    "* Built-in function example\n",
    "    * Type()\n",
    "    * int()\n",
    "    * float()\n",
    "    * str()\n",
    "    * max()\n",
    "        * returns the highest value from a sequence of numbers\n",
    "    * min()\n",
    "        * returns the smallest value from a sequence of numbers\n",
    "    * abs()\n",
    "        * allows you to obtain the absolute value of its argument\n",
    "    * sum()\n",
    "        * calculates the sum of all the elements in a list designated as an arguments\n",
    "    * round(x, y) \n",
    "        * returns the float of its argument (x), rounded to a specified number of digits (y) after the decimal point\n",
    "    * pow(x,y)\n",
    "        * return y to the power y\n",
    "    * len()\n",
    "        * returns the number of elements in an object"
   ]
  },
  {
   "cell_type": "code",
   "execution_count": 43,
   "metadata": {},
   "outputs": [
    {
     "name": "stdout",
     "output_type": "stream",
     "text": [
      "30 10 20 21 3.56 3 1024 1024 11\n"
     ]
    }
   ],
   "source": [
    "mx = max(10, 20, 30)\n",
    "\n",
    "mn = min(10, 20, 30)\n",
    "\n",
    "z = -20\n",
    "bs = abs(z)\n",
    "\n",
    "list_1 = [1,2,3,4,5,6]\n",
    "sm = sum(list_1)\n",
    "\n",
    "rnd1 = round(3.555, 2)\n",
    "rnd2 = round(3.2)\n",
    "\n",
    "pw1 = 2 ** 10\n",
    "pw2 = pow(2, 10)\n",
    "\n",
    "ln = len('Mathematics')\n",
    "\n",
    "print(mx, mn, bs, sm, rnd1, rnd2, pw1, pw2, ln)"
   ]
  },
  {
   "attachments": {},
   "cell_type": "markdown",
   "metadata": {},
   "source": [
    "## Quiz 97: Python Functions"
   ]
  },
  {
   "attachments": {},
   "cell_type": "markdown",
   "metadata": {},
   "source": [
    "https://www.udemy.com/course/the-data-science-course-complete-data-science-bootcamp/learn/quiz/4451596#overview"
   ]
  },
  {
   "attachments": {},
   "cell_type": "markdown",
   "metadata": {},
   "source": [
    "1. Which is the correct syntax in Python for defining a function?\n",
    "    * The def keyword, function's name, parentheses, colon\n",
    "2. Which of the following statements regarding \"print\" and \"return\" is true?\n",
    "    * 'print' returns a mere statement"
   ]
  },
  {
   "attachments": {},
   "cell_type": "markdown",
   "metadata": {},
   "source": [
    "# **Section 28: Python - Sequences**"
   ]
  },
  {
   "attachments": {},
   "cell_type": "markdown",
   "metadata": {},
   "source": [
    "## 166. Lists"
   ]
  },
  {
   "attachments": {},
   "cell_type": "markdown",
   "metadata": {},
   "source": [
    "https://www.udemy.com/course/the-data-science-course-complete-data-science-bootcamp/learn/lecture/10772766#content"
   ]
  },
  {
   "attachments": {},
   "cell_type": "markdown",
   "metadata": {},
   "source": [
    "* A **list** is a type of sequence of data points, such as floats, integers or strings. Therefore, understanding lists relates to your ability to organize data, a crucial skill in today's labor market.\n",
    "* List characteristics\n",
    "    * use square brackets []\n",
    "    * use quotation marks ' '\n",
    "* Key feature of lists: \n",
    "    * replacing or deleting items in a list.\n",
    "    * del = removes an item from a list"
   ]
  },
  {
   "cell_type": "code",
   "execution_count": 44,
   "metadata": {},
   "outputs": [
    {
     "data": {
      "text/plain": [
       "['John', 'Leila', 'Georgory', 'Cate']"
      ]
     },
     "execution_count": 44,
     "metadata": {},
     "output_type": "execute_result"
    }
   ],
   "source": [
    "participants = ['John', 'Leila', 'Georgory', 'Cate']\n",
    "participants"
   ]
  },
  {
   "cell_type": "code",
   "execution_count": 45,
   "metadata": {},
   "outputs": [
    {
     "data": {
      "text/plain": [
       "'Georgory'"
      ]
     },
     "execution_count": 45,
     "metadata": {},
     "output_type": "execute_result"
    }
   ],
   "source": [
    "participants[2]"
   ]
  },
  {
   "cell_type": "code",
   "execution_count": 46,
   "metadata": {},
   "outputs": [
    {
     "data": {
      "text/plain": [
       "'Cate'"
      ]
     },
     "execution_count": 46,
     "metadata": {},
     "output_type": "execute_result"
    }
   ],
   "source": [
    "#backward\n",
    "participants[-1]"
   ]
  },
  {
   "attachments": {},
   "cell_type": "markdown",
   "metadata": {},
   "source": [
    "Key feature of lists: \n",
    "    * replacing or deleting items in a list."
   ]
  },
  {
   "cell_type": "code",
   "execution_count": 47,
   "metadata": {},
   "outputs": [
    {
     "data": {
      "text/plain": [
       "['John', 'Leila', 'Georgory', 'Maria']"
      ]
     },
     "execution_count": 47,
     "metadata": {},
     "output_type": "execute_result"
    }
   ],
   "source": [
    "participants[3] = 'Maria'\n",
    "participants"
   ]
  },
  {
   "attachments": {},
   "cell_type": "markdown",
   "metadata": {},
   "source": [
    "Key feature of lists: \n",
    "    * del = removes an item from a list"
   ]
  },
  {
   "cell_type": "code",
   "execution_count": 48,
   "metadata": {},
   "outputs": [
    {
     "data": {
      "text/plain": [
       "['John', 'Leila', 'Maria']"
      ]
     },
     "execution_count": 48,
     "metadata": {},
     "output_type": "execute_result"
    }
   ],
   "source": [
    "del participants[2]\n",
    "participants"
   ]
  },
  {
   "attachments": {},
   "cell_type": "markdown",
   "metadata": {},
   "source": [
    "## Quiz 98: Lists"
   ]
  },
  {
   "attachments": {},
   "cell_type": "markdown",
   "metadata": {},
   "source": [
    "https://www.udemy.com/course/the-data-science-course-complete-data-science-bootcamp/learn/quiz/4451600#overview"
   ]
  },
  {
   "attachments": {},
   "cell_type": "markdown",
   "metadata": {},
   "source": [
    "1. A sequence of which of the following items can be stored in a list?\n",
    "    * Integers, Floats, Strings"
   ]
  },
  {
   "attachments": {},
   "cell_type": "markdown",
   "metadata": {},
   "source": [
    "## 167. Using Methods"
   ]
  },
  {
   "attachments": {},
   "cell_type": "markdown",
   "metadata": {},
   "source": [
    "https://www.udemy.com/course/the-data-science-course-complete-data-science-bootcamp/learn/lecture/10772776#overview"
   ]
  },
  {
   "attachments": {},
   "cell_type": "markdown",
   "metadata": {},
   "source": [
    "* Here is the syntax that allows you to call ready made built-in methods that you do not have to create on your own and can be used in Python directly. After the name of the object, which in this case is the participants list, we'll put a dot called a dot operator. The dot operator allows you to call in or invoke a certain method.\n",
    "\n",
    "* lists elements are directly treated as string values.\n",
    "\n",
    "* .append() or .extend()"
   ]
  },
  {
   "cell_type": "code",
   "execution_count": 49,
   "metadata": {},
   "outputs": [
    {
     "data": {
      "text/plain": [
       "['John', 'Leila', 'Georgory', 'Cate']"
      ]
     },
     "execution_count": 49,
     "metadata": {},
     "output_type": "execute_result"
    }
   ],
   "source": [
    "people = ['John', 'Leila', 'Georgory', 'Cate']\n",
    "people"
   ]
  },
  {
   "cell_type": "code",
   "execution_count": 50,
   "metadata": {},
   "outputs": [
    {
     "data": {
      "text/plain": [
       "['John', 'Leila', 'Georgory', 'Cate', 'Dwayne']"
      ]
     },
     "execution_count": 50,
     "metadata": {},
     "output_type": "execute_result"
    }
   ],
   "source": [
    "people.append('Dwayne')\n",
    "people"
   ]
  },
  {
   "cell_type": "code",
   "execution_count": 51,
   "metadata": {},
   "outputs": [
    {
     "data": {
      "text/plain": [
       "['John', 'Leila', 'Georgory', 'Cate', 'Dwayne', 'George', 'Catherine']"
      ]
     },
     "execution_count": 51,
     "metadata": {},
     "output_type": "execute_result"
    }
   ],
   "source": [
    "people.extend(['George', 'Catherine'])\n",
    "people"
   ]
  },
  {
   "cell_type": "code",
   "execution_count": 52,
   "metadata": {},
   "outputs": [
    {
     "data": {
      "text/plain": [
       "7"
      ]
     },
     "execution_count": 52,
     "metadata": {},
     "output_type": "execute_result"
    }
   ],
   "source": [
    "len(people)"
   ]
  },
  {
   "attachments": {},
   "cell_type": "markdown",
   "metadata": {},
   "source": [
    "## Quiz 99: Using Methods"
   ]
  },
  {
   "attachments": {},
   "cell_type": "markdown",
   "metadata": {},
   "source": [
    "https://www.udemy.com/course/the-data-science-course-complete-data-science-bootcamp/learn/quiz/4451606#overview"
   ]
  },
  {
   "attachments": {},
   "cell_type": "markdown",
   "metadata": {},
   "source": [
    "1. Which is the syntax for invoking a method in Python?\n",
    "    * Name of the object, dot operator, name of the method, parentheses"
   ]
  },
  {
   "attachments": {},
   "cell_type": "markdown",
   "metadata": {},
   "source": [
    "## 168. List Slicing"
   ]
  },
  {
   "attachments": {},
   "cell_type": "markdown",
   "metadata": {},
   "source": [
    "https://www.udemy.com/course/the-data-science-course-complete-data-science-bootcamp/learn/lecture/10772782#overview"
   ]
  },
  {
   "attachments": {},
   "cell_type": "markdown",
   "metadata": {},
   "source": [
    "* To do Slicing:\n",
    "    * To access these elements, we will open square brackets just as we did with indexing and write 1:3. The first number corresponds precisely to the first position of interest, while the second number is one position above the last position we need.\n",
    "        * ![Alt text](img/168.%20List%20Slicing1.jpg)"
   ]
  },
  {
   "cell_type": "code",
   "execution_count": 53,
   "metadata": {},
   "outputs": [
    {
     "data": {
      "text/plain": [
       "['John', 'Leila', 'Georgory', 'Cate', 'Dwayne', 'George', 'Catherine']"
      ]
     },
     "execution_count": 53,
     "metadata": {},
     "output_type": "execute_result"
    }
   ],
   "source": [
    "people"
   ]
  },
  {
   "cell_type": "code",
   "execution_count": 54,
   "metadata": {},
   "outputs": [
    {
     "data": {
      "text/plain": [
       "['Leila', 'Georgory']"
      ]
     },
     "execution_count": 54,
     "metadata": {},
     "output_type": "execute_result"
    }
   ],
   "source": [
    "# To get the first and second position\n",
    "# python start with zero(0)\n",
    "people[1:3]"
   ]
  },
  {
   "cell_type": "code",
   "execution_count": 55,
   "metadata": {},
   "outputs": [
    {
     "data": {
      "text/plain": [
       "['John', 'Leila']"
      ]
     },
     "execution_count": 55,
     "metadata": {},
     "output_type": "execute_result"
    }
   ],
   "source": [
    "# To get the first two names from the list\n",
    "people[:2]"
   ]
  },
  {
   "cell_type": "code",
   "execution_count": 56,
   "metadata": {},
   "outputs": [
    {
     "data": {
      "text/plain": [
       "['George', 'Catherine']"
      ]
     },
     "execution_count": 56,
     "metadata": {},
     "output_type": "execute_result"
    }
   ],
   "source": [
    "# how can I obtain the last two? we have 2 ways\n",
    "people[5:]\n"
   ]
  },
  {
   "cell_type": "code",
   "execution_count": 57,
   "metadata": {},
   "outputs": [
    {
     "data": {
      "text/plain": [
       "['George', 'Catherine']"
      ]
     },
     "execution_count": 57,
     "metadata": {},
     "output_type": "execute_result"
    }
   ],
   "source": [
    "people[-2:]"
   ]
  },
  {
   "attachments": {},
   "cell_type": "markdown",
   "metadata": {},
   "source": [
    "* Additional methods that can be applied to lists.\n",
    "    * Assume you know Maria's in your list, but you don't know her position. In other words, you'd like to obtain the index of the element 'Cate' from the participants list. Just call the index method and indicate the string variable of interest in parentheses.\n",
    "    * .index()"
   ]
  },
  {
   "cell_type": "code",
   "execution_count": 58,
   "metadata": {},
   "outputs": [
    {
     "data": {
      "text/plain": [
       "3"
      ]
     },
     "execution_count": 58,
     "metadata": {},
     "output_type": "execute_result"
    }
   ],
   "source": [
    "people.index('Cate')"
   ]
  },
  {
   "attachments": {},
   "cell_type": "markdown",
   "metadata": {},
   "source": [
    "* It is possible to create a list of lists."
   ]
  },
  {
   "cell_type": "code",
   "execution_count": 59,
   "metadata": {},
   "outputs": [
    {
     "data": {
      "text/plain": [
       "[['John', 'Leila', 'Georgory', 'Cate', 'Dwayne', 'George', 'Catherine'],\n",
       " ['Joshua', 'Britanny']]"
      ]
     },
     "execution_count": 59,
     "metadata": {},
     "output_type": "execute_result"
    }
   ],
   "source": [
    "newcommers = ['Joshua', 'Britanny']\n",
    "bigger_list = [people, newcommers]\n",
    "bigger_list"
   ]
  },
  {
   "attachments": {},
   "cell_type": "markdown",
   "metadata": {},
   "source": [
    "* An important method that could order the names of your participants in alphabetical order is sort.\n",
    "    * .sort()\n",
    "        * sorts object of lists"
   ]
  },
  {
   "cell_type": "code",
   "execution_count": 60,
   "metadata": {},
   "outputs": [
    {
     "data": {
      "text/plain": [
       "['Cate', 'Catherine', 'Dwayne', 'George', 'Georgory', 'John', 'Leila']"
      ]
     },
     "execution_count": 60,
     "metadata": {},
     "output_type": "execute_result"
    }
   ],
   "source": [
    "# Ascending (smallest to largest)\n",
    "people.sort()\n",
    "people"
   ]
  },
  {
   "cell_type": "code",
   "execution_count": 61,
   "metadata": {},
   "outputs": [
    {
     "data": {
      "text/plain": [
       "['Leila', 'John', 'Georgory', 'George', 'Dwayne', 'Catherine', 'Cate']"
      ]
     },
     "execution_count": 61,
     "metadata": {},
     "output_type": "execute_result"
    }
   ],
   "source": [
    "# If we want in reversed order\n",
    "# Descending\n",
    "# Largest to smallest\n",
    "people.sort(reverse=True)\n",
    "people"
   ]
  },
  {
   "attachments": {},
   "cell_type": "markdown",
   "metadata": {},
   "source": [
    "## 169. Tuples"
   ]
  },
  {
   "attachments": {},
   "cell_type": "markdown",
   "metadata": {},
   "source": [
    "https://www.udemy.com/course/the-data-science-course-complete-data-science-bootcamp/learn/lecture/10772786#overview"
   ]
  },
  {
   "attachments": {},
   "cell_type": "markdown",
   "metadata": {},
   "source": [
    "* Characteristics Tuple\n",
    "    * Immutable\n",
    "        * cannot be changed or modified.\n",
    "        * cannot append or delete elements.\n",
    "    * use parentheses ( )\n",
    "* The tuple is the default sequence type in python.\n",
    "* Tuple assignment = Can assign a number of values to the same number of variables.\n",
    "* Tuple can use index using bracket [ ] same with list\n",
    "* Can place tuples within lists, and then each tuple becomes a separate element within the list.\n",
    "* Tuple can be quite useful when dealing with different comma separated values.\n",
    "* Function can provide tuples as return values"
   ]
  },
  {
   "cell_type": "code",
   "execution_count": 62,
   "metadata": {},
   "outputs": [
    {
     "name": "stdout",
     "output_type": "stream",
     "text": [
      "(40, 41, 42)\n",
      "(50, 51, 52)\n",
      "6\n",
      "[(40, 41, 42), (50, 51, 52)]\n",
      "Print of 30\n",
      "Print of 17\n"
     ]
    }
   ],
   "source": [
    "x = (40, 41, 42)\n",
    "y = 50, 51, 52\n",
    "print(x)\n",
    "print(y)\n",
    "\n",
    "a, b, c = 1, 4, 6\n",
    "print(c)\n",
    "\n",
    "x[0]\n",
    "\n",
    "list_1 = [x, y]\n",
    "print(list_1)\n",
    "\n",
    "(age, years_of_school) = '30,17'.split(',')\n",
    "print('Print of',age)\n",
    "print('Print of', years_of_school)"
   ]
  },
  {
   "cell_type": "code",
   "execution_count": 63,
   "metadata": {},
   "outputs": [],
   "source": [
    "def square_info(x):\n",
    "    A = x ** 2\n",
    "    P = 4 * x\n",
    "    print('Area and Perimeter:')\n",
    "    return A,P"
   ]
  },
  {
   "cell_type": "code",
   "execution_count": 64,
   "metadata": {},
   "outputs": [
    {
     "name": "stdout",
     "output_type": "stream",
     "text": [
      "Area and Perimeter:\n"
     ]
    },
    {
     "data": {
      "text/plain": [
       "(9, 12)"
      ]
     },
     "execution_count": 64,
     "metadata": {},
     "output_type": "execute_result"
    }
   ],
   "source": [
    "square_info(3)"
   ]
  },
  {
   "attachments": {},
   "cell_type": "markdown",
   "metadata": {},
   "source": [
    "## 170. Dictionaries"
   ]
  },
  {
   "attachments": {},
   "cell_type": "markdown",
   "metadata": {},
   "source": [
    "https://www.udemy.com/course/the-data-science-course-complete-data-science-bootcamp/learn/lecture/10772790#overview"
   ]
  },
  {
   "attachments": {},
   "cell_type": "markdown",
   "metadata": {},
   "source": [
    "* Dictionaries represent another way of storing data. Each value is associated with a certain key, more precisely, a key and its respective value form a key-value pair.\n",
    "* Characteristic of Dictionaries:\n",
    "    * Use curly braces { }\n",
    "    * have key and value 'key':'value'\n",
    "* we could add a new value to the dictionary\n",
    "* dict also can replace a value\n",
    "\n",
    "* .get()\n",
    "    * the get method gives us the name of the Small Forward of a given team, the machine won't display an error, if we ask for the name of the coach, whose name does not take part in my dictionary.\n",
    "\n",
    "* None is the default value Python returns in cases where an object does not actually exist within a given dictionary."
   ]
  },
  {
   "cell_type": "code",
   "execution_count": 65,
   "metadata": {},
   "outputs": [
    {
     "data": {
      "text/plain": [
       "{'k1': 'cat', 'k2': 'dog', 'k3': 'mouse', 'k4': 'fish'}"
      ]
     },
     "execution_count": 65,
     "metadata": {},
     "output_type": "execute_result"
    }
   ],
   "source": [
    "dict = {'k1': 'cat', 'k2': 'dog', 'k3': 'mouse', 'k4': 'fish'}\n",
    "dict"
   ]
  },
  {
   "cell_type": "code",
   "execution_count": 66,
   "metadata": {},
   "outputs": [
    {
     "data": {
      "text/plain": [
       "'dog'"
      ]
     },
     "execution_count": 66,
     "metadata": {},
     "output_type": "execute_result"
    }
   ],
   "source": [
    "dict['k2']"
   ]
  },
  {
   "cell_type": "code",
   "execution_count": 67,
   "metadata": {},
   "outputs": [
    {
     "data": {
      "text/plain": [
       "{'k1': 'cat', 'k2': 'dog', 'k3': 'mouse', 'k4': 'fish', 'k5': 'parrot'}"
      ]
     },
     "execution_count": 67,
     "metadata": {},
     "output_type": "execute_result"
    }
   ],
   "source": [
    "#add value\n",
    "dict['k5'] = 'parrot'\n",
    "dict"
   ]
  },
  {
   "cell_type": "code",
   "execution_count": 68,
   "metadata": {},
   "outputs": [
    {
     "data": {
      "text/plain": [
       "{'k1': 'cat', 'k2': 'squirrel', 'k3': 'mouse', 'k4': 'fish', 'k5': 'parrot'}"
      ]
     },
     "execution_count": 68,
     "metadata": {},
     "output_type": "execute_result"
    }
   ],
   "source": [
    "dict['k2'] = 'squirrel'\n",
    "dict"
   ]
  },
  {
   "cell_type": "code",
   "execution_count": 69,
   "metadata": {},
   "outputs": [
    {
     "data": {
      "text/plain": [
       "['Jennifer', 'Michael', 'Tommy']"
      ]
     },
     "execution_count": 69,
     "metadata": {},
     "output_type": "execute_result"
    }
   ],
   "source": [
    "#first element is dictional\n",
    "#second element is a list\n",
    "dep_worker = {'dep_1':'Peter', 'dep_2':['Jennifer', 'Michael', 'Tommy']}\n",
    "dep_worker['dep_2']"
   ]
  },
  {
   "cell_type": "code",
   "execution_count": 70,
   "metadata": {},
   "outputs": [
    {
     "name": "stdout",
     "output_type": "stream",
     "text": [
      "{'Point Guard': 'Dirk', 'Shooting Guard': 'Al', 'Small Foward': 'Sean', 'Power Foward': 'Alexander', 'Center': 'Hector'}\n",
      "Hector\n",
      "Sean\n",
      "None\n"
     ]
    }
   ],
   "source": [
    "# There is another way to fill in a dictionary.\n",
    "Team = {}\n",
    "Team['Point Guard'] = 'Dirk'\n",
    "Team['Shooting Guard'] = 'Al'\n",
    "Team['Small Foward'] = 'Sean'\n",
    "Team['Power Foward'] = 'Alexander'\n",
    "Team['Center'] = 'Hector'\n",
    "\n",
    "print(Team)\n",
    "print(Team['Center'])\n",
    "\n",
    "#use .get()\n",
    "print(Team.get('Small Foward'))\n",
    "\n",
    "print(Team.get('Coach'))"
   ]
  },
  {
   "attachments": {},
   "cell_type": "markdown",
   "metadata": {},
   "source": [
    "* None is the default value Python returns in cases where an object does not actually exist within a given dictionary."
   ]
  },
  {
   "attachments": {},
   "cell_type": "markdown",
   "metadata": {},
   "source": [
    "## Quiz 100: Dictionaries"
   ]
  },
  {
   "attachments": {},
   "cell_type": "markdown",
   "metadata": {},
   "source": [
    "https://www.udemy.com/course/the-data-science-course-complete-data-science-bootcamp/learn/quiz/4451768#overview"
   ]
  },
  {
   "attachments": {},
   "cell_type": "markdown",
   "metadata": {},
   "source": [
    "1. Which is the syntax for adding a new value to a dictionary?\n",
    "    * The name of the dictionary, new key name in quotes and within brackets, equality sign, the new value"
   ]
  },
  {
   "attachments": {},
   "cell_type": "markdown",
   "metadata": {},
   "source": [
    "# **Section 29: Python - Iterations**"
   ]
  },
  {
   "attachments": {},
   "cell_type": "markdown",
   "metadata": {},
   "source": [
    "## 171. For Loops"
   ]
  },
  {
   "attachments": {},
   "cell_type": "markdown",
   "metadata": {},
   "source": [
    "https://www.udemy.com/course/the-data-science-course-complete-data-science-bootcamp/learn/lecture/10773856#content"
   ]
  },
  {
   "attachments": {},
   "cell_type": "markdown",
   "metadata": {},
   "source": [
    "* Iteration is the ability to execute a certain code repeatedly.\n",
    "    * example below:\n",
    "        * ![Alt text](img/171.%20For%20Loops1.jpg)\n",
    "        * The loop starts by taking an element N from our list. Then, the computer executes the body of the loop. In our case, it will simply print that variable. When the computer is done with this operation called iteration or pass of the loop, Python will go back to the for statementand pick the next element N that is in the even list. It will then print out and so on and so forth until the loop body has been executed for all available elements in the list."
   ]
  },
  {
   "cell_type": "code",
   "execution_count": 71,
   "metadata": {},
   "outputs": [
    {
     "name": "stdout",
     "output_type": "stream",
     "text": [
      "0\n",
      "2\n",
      "4\n",
      "6\n",
      "8\n",
      "10\n",
      "12\n",
      "14\n",
      "16\n",
      "18\n",
      "20\n"
     ]
    }
   ],
   "source": [
    "even = [0, 2, 4, 6, 8, 10, 12, 14, 16, 18, 20]\n",
    "for n in even:\n",
    "    print(n)\n",
    "# it read: for every element n in the list even: \n",
    "# print n"
   ]
  },
  {
   "cell_type": "code",
   "execution_count": 72,
   "metadata": {},
   "outputs": [
    {
     "name": "stdout",
     "output_type": "stream",
     "text": [
      "0 2 4 6 8 10 12 14 16 18 20 "
     ]
    }
   ],
   "source": [
    "# What if we wanted to see them ordered in a single line?\n",
    "even = [0, 2, 4, 6, 8, 10, 12, 14, 16, 18, 20]\n",
    "for n in even:\n",
    "    print(n, end = ' ')"
   ]
  },
  {
   "attachments": {},
   "cell_type": "markdown",
   "metadata": {},
   "source": [
    "* A comma after the element N, in the parentheses after the print function and an N parameter with a value of an empty string will help us achieve that. Note that to specify an empty string, you need to type an empty space between a pair of double quotes by pressing the space bar on your keyboard once. Thus the comma and the end parameter will indicate every next element from the loop should be placed with a distance of one space on the same row. And if the elements you're about to print are too long, they will be displayed on multiple rows in the output cell."
   ]
  },
  {
   "attachments": {},
   "cell_type": "markdown",
   "metadata": {},
   "source": [
    "## Quiz 101: For Loops"
   ]
  },
  {
   "attachments": {},
   "cell_type": "markdown",
   "metadata": {},
   "source": [
    "https://www.udemy.com/course/the-data-science-course-complete-data-science-bootcamp/learn/quiz/4451648#overview"
   ]
  },
  {
   "attachments": {},
   "cell_type": "markdown",
   "metadata": {},
   "source": [
    "1. Which of the following will work in Python?\n",
    "    * for n in object:"
   ]
  },
  {
   "attachments": {},
   "cell_type": "markdown",
   "metadata": {},
   "source": [
    "## 172. While Loops and Incrementing"
   ]
  },
  {
   "attachments": {},
   "cell_type": "markdown",
   "metadata": {},
   "source": [
    "https://www.udemy.com/course/the-data-science-course-complete-data-science-bootcamp/learn/lecture/10773864#overview"
   ]
  },
  {
   "attachments": {},
   "cell_type": "markdown",
   "metadata": {},
   "source": [
    "* When dealing with **while loop**, becarefull with the code because you can run into an **infinite loop** and your computer will crash\n",
    "    * ![Alt text](img/172.%20While%20Loops%20and%20Incrementing1.jpg)\n",
    "\n",
    "* In programming terms, adding the same number on top of an existing variable during a loop is called incrementing. The amount being progressively added is called an **increment**. In our case, we have an **increment of two**.\n",
    "    * ![Alt text](img/172.%20While%20Loops%20and%20Incrementing2.jpg)"
   ]
  },
  {
   "cell_type": "code",
   "execution_count": 73,
   "metadata": {},
   "outputs": [
    {
     "name": "stdout",
     "output_type": "stream",
     "text": [
      "0 2 4 6 8 10 12 14 16 18 20 "
     ]
    }
   ],
   "source": [
    "x = 0\n",
    "while x <= 20:\n",
    "    print(x, end = ' ')\n",
    "    x = x + 2\n",
    "    # without the code above, it  will become infinite loop"
   ]
  },
  {
   "attachments": {},
   "cell_type": "markdown",
   "metadata": {},
   "source": [
    "* Furthermore, the Python syntax offers a special way to indicate incrementing.\n",
    "* X += 2 shows we are incrementing the value of two on top of the base X just as if we had typed x = x + 2 As you can see, the two outcomes are the same. To conclude, whether you will use a for or a while loop will depend mainly on your personal preferences."
   ]
  },
  {
   "cell_type": "code",
   "execution_count": 74,
   "metadata": {},
   "outputs": [
    {
     "name": "stdout",
     "output_type": "stream",
     "text": [
      "0 2 4 6 8 10 12 14 16 18 20 "
     ]
    }
   ],
   "source": [
    "x = 0\n",
    "while x <= 20:\n",
    "    print(x, end = ' ')\n",
    "    x += 2\n",
    "    #incrementing"
   ]
  },
  {
   "attachments": {},
   "cell_type": "markdown",
   "metadata": {},
   "source": [
    "## 173. Lists with the range() Function"
   ]
  },
  {
   "attachments": {},
   "cell_type": "markdown",
   "metadata": {},
   "source": [
    "https://www.udemy.com/course/the-data-science-course-complete-data-science-bootcamp/learn/lecture/10773870#overview"
   ]
  },
  {
   "attachments": {},
   "cell_type": "markdown",
   "metadata": {},
   "source": [
    "* range() can help us by creating a Python range object, which actually is a mere sequence of integers.\n",
    "    * ![Alt text](img/173.%20Lists%20with%20the%20range()%20Function1.jpg)\n",
    "        * The so-called step value represents the distance between each two consecutive values on the list. The stop value is a required input, while the start and step values are optional. If not provided, the start value will be automatically replaced with a zero and the step value would be assumed to be equal to one. You could also remember the stop value as most important,the start value as less important, and the step value as least important.\n",
    "```\n",
    "range(10)\n",
    "output: range(0, 10)\n",
    "```\n",
    "* For this reason, range of 10 will provide a sequence of 10 elements, starting from zero, implied after not indicating a start value, and ending at the 10th consecutive number, number nine. Python, however, will not display the sequence in the form of a list. Instead, it will show this as a range 0, 10, which stands for a range object with a start value of zero and a stop value of 10.\n",
    "    * use list(range(10)) to display the sequece as list\n",
    "```\n",
    "list(range(10))\n",
    "output: [0, 1, 2, 3, 4, 5, 6, 7, 8, 9]\n",
    "```"
   ]
  },
  {
   "cell_type": "code",
   "execution_count": 75,
   "metadata": {},
   "outputs": [
    {
     "name": "stdout",
     "output_type": "stream",
     "text": [
      "range(3, 7)\n",
      "[3, 4, 5, 6]\n",
      "[1, 3, 5, 7, 9, 11, 13, 15, 17, 19]\n"
     ]
    }
   ],
   "source": [
    "a = range(3, 7)\n",
    "b = list(range(3,7))\n",
    "c = list(range(1,20,2))\n",
    "\n",
    "print(a)\n",
    "print(b)\n",
    "print(c)"
   ]
  },
  {
   "attachments": {},
   "cell_type": "markdown",
   "metadata": {},
   "source": [
    "## Quiz 102: Lists with the range() Function"
   ]
  },
  {
   "attachments": {},
   "cell_type": "markdown",
   "metadata": {},
   "source": [
    "https://www.udemy.com/course/the-data-science-course-complete-data-science-bootcamp/learn/quiz/4451650#overview"
   ]
  },
  {
   "attachments": {},
   "cell_type": "markdown",
   "metadata": {},
   "source": [
    "1. Which is the correct order of the parameters in the range function? The optional parameters are placed between brackets.\n",
    "    * range(start, stop, step)"
   ]
  },
  {
   "attachments": {},
   "cell_type": "markdown",
   "metadata": {},
   "source": [
    "## 174. Conditional Statements and Loops"
   ]
  },
  {
   "attachments": {},
   "cell_type": "markdown",
   "metadata": {},
   "source": [
    "https://www.udemy.com/course/the-data-science-course-complete-data-science-bootcamp/learn/lecture/10773872#overview"
   ]
  },
  {
   "attachments": {},
   "cell_type": "markdown",
   "metadata": {},
   "source": [
    "* To print all the values from two to the power of zero, two to the power of one, and so on until two to the power of nine, we can use the following code: four in range of 10, print two, double star, N, written in parenthesis. I will also have to insert a comma and specify an \"in\" parameter with a value of an empty string after \"in\" because I would like to see the output on a single line."
   ]
  },
  {
   "cell_type": "code",
   "execution_count": 76,
   "metadata": {},
   "outputs": [
    {
     "name": "stdout",
     "output_type": "stream",
     "text": [
      "1 2 4 8 16 32 64 128 256 512 "
     ]
    }
   ],
   "source": [
    "for n in range(10):\n",
    "    print(2 ** n, end = ' ')"
   ]
  },
  {
   "attachments": {},
   "cell_type": "markdown",
   "metadata": {},
   "source": [
    "* create an iteration that includes a conditional in the loop body.\n",
    "    * tell the computer to print all the even values between zero and 19 and state \"odd\" in the places where we have odd numbers.\n",
    "    * If X leaves a remainder of zero when divided by two, which is the same as to say, if X is even, then print X on the same line, \"else,\" which means unless X is even or if X is odd, print \"odd.\""
   ]
  },
  {
   "cell_type": "code",
   "execution_count": 77,
   "metadata": {},
   "outputs": [
    {
     "name": "stdout",
     "output_type": "stream",
     "text": [
      "0 odd 2 odd 4 odd 6 odd 8 odd 10 odd 12 odd 14 odd 16 odd 18 odd "
     ]
    }
   ],
   "source": [
    "for x in range(20):\n",
    "    if x %2 == 0:\n",
    "        print(x, end = ' ')\n",
    "    else:\n",
    "        print(\"odd\", end = ' ')"
   ]
  },
  {
   "attachments": {},
   "cell_type": "markdown",
   "metadata": {},
   "source": [
    "* There are two main ways to program a loop"
   ]
  },
  {
   "cell_type": "code",
   "execution_count": 78,
   "metadata": {},
   "outputs": [
    {
     "name": "stdout",
     "output_type": "stream",
     "text": [
      "0 1 2 "
     ]
    }
   ],
   "source": [
    "# first\n",
    "x = [0, 1, 2]\n",
    "for item in x:\n",
    "    print(item, end = \" \")"
   ]
  },
  {
   "attachments": {},
   "cell_type": "markdown",
   "metadata": {},
   "source": [
    "* ![Alt text](img/174.%20Conditional%20Statements%20and%20Loops1.jpg)\n",
    "* ![Alt text](img/174.%20Conditional%20Statements%20and%20Loops2.jpg)\n",
    "    * the variable item will loop through a new list created by range and that has as many elements as the X list itself. Please note that, in this situation, the second line of our code needs indexing to extract each item from the X list.\n",
    "    * In practice, we will print out the element at position zero from the list X, then the element at position one, and finally, the element at position two. \n",
    "* To conclude, both approaches can lead to the same outcome. Although the second one looks unnecessarily complicated in advanced coding, it might turn out to be a lot more useful, so it is important you know both."
   ]
  },
  {
   "cell_type": "code",
   "execution_count": 79,
   "metadata": {},
   "outputs": [
    {
     "name": "stdout",
     "output_type": "stream",
     "text": [
      "0 1 2 "
     ]
    }
   ],
   "source": [
    "# second\n",
    "for item in range(len(x)):\n",
    "    print(x[item], end = \" \")"
   ]
  },
  {
   "attachments": {},
   "cell_type": "markdown",
   "metadata": {},
   "source": [
    "## 175. Conditional Statements, Functions, and Loops"
   ]
  },
  {
   "attachments": {},
   "cell_type": "markdown",
   "metadata": {},
   "source": [
    "https://www.udemy.com/course/the-data-science-course-complete-data-science-bootcamp/learn/lecture/10773874#overview"
   ]
  },
  {
   "attachments": {},
   "cell_type": "markdown",
   "metadata": {},
   "source": [
    "* how to count the number of items whose value is less than 20 in a list.\n",
    "    * First, define a function that takes as an argument numbers where numbers will be a certain list variable. The trick is to create a variable that, so to speak, departs from zero. Let's call it total.\n",
    "    * The idea is that when certain conditions are verified total will change its value. This is why in such a situation, it is appropriate to call this variable a ruling sum.\n",
    "    * More technically, when we consider X in the numbers list if it is smaller than 20 we will increment the total by one and finally return the total value. This means that if X is less than 20 total will grow by one, and if X is greater than or equal to 20, total will not grow.\n",
    "        * ![Alt text](img/175.%20Conditional%20Statements,%20Functions,%20and%20Loops1.jpg)"
   ]
  },
  {
   "cell_type": "code",
   "execution_count": 80,
   "metadata": {},
   "outputs": [],
   "source": [
    "def count(numbers):\n",
    "    total = 0\n",
    "    for x in numbers:\n",
    "        if x < 20:\n",
    "            total += 1\n",
    "    return total"
   ]
  },
  {
   "cell_type": "code",
   "execution_count": 81,
   "metadata": {},
   "outputs": [
    {
     "data": {
      "text/plain": [
       "4"
      ]
     },
     "execution_count": 81,
     "metadata": {},
     "output_type": "execute_result"
    }
   ],
   "source": [
    "list_1 = [1, 3, 7, 15, 23, 43, 56, 98]\n",
    "count(list_1)"
   ]
  },
  {
   "attachments": {},
   "cell_type": "markdown",
   "metadata": {},
   "source": [
    "* By the way, look how the whole if statement is indented even more to the right. This allows us to separate it logically from the rest of the code in the cell that refers to this function.\n",
    "    * ![Alt text](img/175.%20Conditional%20Statements,%20Functions,%20and%20Loops2.jpg)"
   ]
  },
  {
   "attachments": {},
   "cell_type": "markdown",
   "metadata": {},
   "source": [
    "## 176. How to Iterate over Dictionaries"
   ]
  },
  {
   "attachments": {},
   "cell_type": "markdown",
   "metadata": {},
   "source": [
    "https://www.udemy.com/course/the-data-science-course-complete-data-science-bootcamp/learn/lecture/10773916#overview"
   ]
  },
  {
   "attachments": {},
   "cell_type": "markdown",
   "metadata": {},
   "source": [
    "* We have a couple of examples here. The prices of a box of spaghetti, of a portion of lasagna, and of a hamburger are stored in a dictionary called prices.\n",
    "* Jan went to the supermarket and bought 6 boxes of spaghetti, 10 pieces of lasagna, and no hamburgers. This data was stored in a dictionary named quantity.\n",
    "* Our problem is, how much did Jan spend in the supermarket?\n",
    "    * ![Alt text](img/176.%20How%20to%20Iterate%20over%20Dictionaries1.jpg)\n",
    "* But what are we going to do with it? What is the loop's body going to contain? Before anything else, some variable must account for the amount of money spent.\n",
    "    * ![Alt text](img/176.%20How%20to%20Iterate%20over%20Dictionaries2.jpg)"
   ]
  },
  {
   "cell_type": "code",
   "execution_count": 82,
   "metadata": {},
   "outputs": [
    {
     "name": "stdout",
     "output_type": "stream",
     "text": [
      "74\n"
     ]
    }
   ],
   "source": [
    "prices = {\n",
    "    \"box_of_spaghetti\": 4,\n",
    "    \"lasagna\": 5,\n",
    "    \"hamburger\": 2\n",
    "}\n",
    "quantity = {\n",
    "    \"box_of_spaghetti\": 6,\n",
    "    \"lasagna\": 10,\n",
    "    \"hamburger\": 0\n",
    "}\n",
    "\n",
    "money_spent = 0\n",
    "\n",
    "for i in prices:\n",
    "    money_spent = money_spent + (prices[i] * quantity[i])\n",
    "    \n",
    "print(money_spent)"
   ]
  },
  {
   "attachments": {},
   "cell_type": "markdown",
   "metadata": {},
   "source": [
    "* From a programmer's perspective, the problem looks different. The good thing is that, at the end, this whole thing boiled down to a mere four lines of coding.\n",
    "* As a side note, do you realize that if we put quantity instead of prices here, the outcome will remain the same? So what is the conclusion?\n",
    "    * It does not matter if you loop through prices or through quantity, because the two dictionaries contain the same keys, and this is the reason this loop works correctly too."
   ]
  },
  {
   "attachments": {},
   "cell_type": "markdown",
   "metadata": {},
   "source": [
    "# **Section 30: Python - Advanced Python Tools**"
   ]
  },
  {
   "attachments": {},
   "cell_type": "markdown",
   "metadata": {},
   "source": [
    "## 177. Object Oriented Programming"
   ]
  },
  {
   "attachments": {},
   "cell_type": "markdown",
   "metadata": {},
   "source": [
    "https://www.udemy.com/course/the-data-science-course-complete-data-science-bootcamp/learn/lecture/10773924#content"
   ]
  },
  {
   "attachments": {},
   "cell_type": "markdown",
   "metadata": {},
   "source": [
    "* We can say every value in Python is an object.\n",
    "    * Integers, Floats, Strings, Lists, ect\n",
    "        * ![Alt text](img/177.%20Object%20Oriented%20Programming1.jpg)\n",
    "* Object Oriented Programming (OOP) refers to the concept of interacting with one or more objects. There are several languages supporting OOP:\n",
    "    * Java, PHP, Python, C++, etc\n",
    "* An object contains data, suck as a number or a string, plus the operations allowing us to manipulate the data.\n",
    "    * ![Alt text](img/177.%20Object%20Oriented%20Programming2.jpg)\n",
    "    * Each object belongs to some class, defining the rules for creating that object, and we can attach a certain number of attributes to it. And **the focus on programming is on the object and not the action, as it is in other type of programming**.\n",
    "* ![Alt text](img/177.%20Object%20Oriented%20Programming3.jpg)\n",
    "    * A method is a special function. \n",
    "    * As any other function, a method can have many parameters of various data types, but it will surely contain the object it is applied to as one of them.\n",
    "    * A method belongs to a certain class, while a function exists on its own.\n",
    "    * To avoid confusion between the terms, method and function, the Pythonic syntax is different in the two situations. As we saw in our previous lessons, the method name is not just succeeded by parentheses, it is written after the name of the object it is applied to, and the dot operator."
   ]
  },
  {
   "attachments": {},
   "cell_type": "markdown",
   "metadata": {},
   "source": [
    "## Quiz 103: Object Oriented Programming"
   ]
  },
  {
   "attachments": {},
   "cell_type": "markdown",
   "metadata": {},
   "source": [
    "https://www.udemy.com/course/the-data-science-course-complete-data-science-bootcamp/learn/quiz/4451654#overview"
   ]
  },
  {
   "attachments": {},
   "cell_type": "markdown",
   "metadata": {},
   "source": [
    "1. Which term is an alternative way to refer to an object?\n",
    "    * Instance\n",
    "2. What is the focus of Object-oriented programming (OOP)?\n",
    "    * The Object"
   ]
  },
  {
   "attachments": {},
   "cell_type": "markdown",
   "metadata": {},
   "source": [
    "## 178. Modules and Packages"
   ]
  },
  {
   "attachments": {},
   "cell_type": "markdown",
   "metadata": {},
   "source": [
    "https://www.udemy.com/course/the-data-science-course-complete-data-science-bootcamp/learn/lecture/10773932#overview"
   ]
  },
  {
   "attachments": {},
   "cell_type": "markdown",
   "metadata": {},
   "source": [
    "* A module is a pre-written code containing definitions of variables, functions, and classes. Its charm lies in the fact it can be loaded in all new programs, and we need not rewrite the code manually at the beginning of a new program.\n",
    "* A package is a collection or directory of related Python modules. Technically, you could create your own modules and packages, but things are easier than that. People in the programming community have developed a growing set of packages that are readily available for download, and have been tailored for various types of professions and specializations."
   ]
  },
  {
   "attachments": {},
   "cell_type": "markdown",
   "metadata": {},
   "source": [
    "## Quiz 104: Modules and Packages"
   ]
  },
  {
   "attachments": {},
   "cell_type": "markdown",
   "metadata": {},
   "source": [
    "https://www.udemy.com/course/the-data-science-course-complete-data-science-bootcamp/learn/quiz/4451656#overview"
   ]
  },
  {
   "attachments": {},
   "cell_type": "markdown",
   "metadata": {},
   "source": [
    "1. What is a module?\n",
    "    * Pre-written code containing definitions of functions and classes\n",
    "2. What is a package?\n",
    "    * A collection or directory of related Python modules"
   ]
  },
  {
   "attachments": {},
   "cell_type": "markdown",
   "metadata": {},
   "source": [
    "## 179. What is the Standard Library?"
   ]
  },
  {
   "attachments": {},
   "cell_type": "markdown",
   "metadata": {},
   "source": [
    "https://www.udemy.com/course/the-data-science-course-complete-data-science-bootcamp/learn/lecture/10773940#overview"
   ]
  },
  {
   "attachments": {},
   "cell_type": "markdown",
   "metadata": {},
   "source": [
    "* Python's Standard Library is a collection of modules available as soon as you install Python.\n",
    "* There is a set of modules there at the beginning of your program. You cannot see it, but it contains all those built-in features like the Len function or the list class.\n",
    "    * ![Alt text](img/179.%20What%20is%20the%20Standard%20Library1.jpg)\n",
    "* Python has a broad practical application. To use the language, it is not mandatory to install all the modules there are in the world. So besides the standard library that comes with the normal installation, people download the modules and packages they need.\n",
    "    * ![Alt text](img/179.%20What%20is%20the%20Standard%20Library2.jpg)\n",
    "* Statisticians will be tempted to install a module comprising a large set of statistical functions and methods while a data scientist will likely use a 24/7 package that helps him organize his data into tables and so on and so forth.\n",
    "    * ![Alt text](img/179.%20What%20is%20the%20Standard%20Library3.jpg)"
   ]
  },
  {
   "attachments": {},
   "cell_type": "markdown",
   "metadata": {},
   "source": [
    "## Quiz 105: What is the Standard Library?"
   ]
  },
  {
   "attachments": {},
   "cell_type": "markdown",
   "metadata": {},
   "source": [
    "https://www.udemy.com/course/the-data-science-course-complete-data-science-bootcamp/learn/quiz/4451658#overview"
   ]
  },
  {
   "attachments": {},
   "cell_type": "markdown",
   "metadata": {},
   "source": [
    "1. What is contained in Python’s Standard Library?\n",
    "     * A collection of modules available as soon as you install Python"
   ]
  },
  {
   "attachments": {},
   "cell_type": "markdown",
   "metadata": {},
   "source": [
    "## 180. Importing Modules in Python"
   ]
  },
  {
   "attachments": {},
   "cell_type": "markdown",
   "metadata": {},
   "source": [
    "https://www.udemy.com/course/the-data-science-course-complete-data-science-bootcamp/learn/lecture/10773978#overview"
   ]
  },
  {
   "attachments": {},
   "cell_type": "markdown",
   "metadata": {},
   "source": [
    "* There are four ways to import a module:\n",
    "    * Import the module\n",
    "        ```\n",
    "        import math\n",
    "        math.sqrt(16)\n",
    "        output: 4.0\n",
    "        ```\n",
    "    * Could type from math import, sqrt. The syntax would allow you to omit the name of the module and the DOT operator when calling this function.\n",
    "        ```\n",
    "        from math import sqrt\n",
    "        math(25)\n",
    "        output: 5.0\n",
    "        ```\n",
    "    * An advanced bits of code, you will see how modules or their functions can be renamed simply because using shorter names can be time saving.\n",
    "        ```\n",
    "        from math import sqrt as s\n",
    "        s(36)\n",
    "        output: 6.0\n",
    "        ```\n",
    "        * Modules can be renamed too.\n",
    "            ```\n",
    "            import match as m\n",
    "            m.sqrt(49)\n",
    "            output: 7.0\n",
    "            ```\n",
    "    * The fourth option is usually frowned upon by specialists but can be appropriate for interactive sessions. All the features from math functions can be imported using star(*). Interpreted as import everything from math. The problem is **this option could be problematic for Python in some situations**. Suppose you imported everything from math and then you imported a second module that contains an sqrt function.\n",
    "        ```\n",
    "        from math import *\n",
    "        sqrt(64)\n",
    "        output: 8.0\n",
    "        ```\n",
    "\n",
    "* Conclusion from import packages\n",
    "    * import math\n",
    "    * from math import sqrt\n",
    "    * from math import sqrt as s\n",
    "    * from math import *"
   ]
  },
  {
   "attachments": {},
   "cell_type": "markdown",
   "metadata": {},
   "source": [
    "## Quiz 106: Importing Modules in Python"
   ]
  },
  {
   "attachments": {},
   "cell_type": "markdown",
   "metadata": {},
   "source": [
    "https://www.udemy.com/course/the-data-science-course-complete-data-science-bootcamp/learn/quiz/4451660#overview"
   ]
  },
  {
   "attachments": {},
   "cell_type": "markdown",
   "metadata": {},
   "source": [
    "1. Which of the following would import everything from the math module?\n",
    "    * from math import *\n",
    "2. Which of the following is a technique professional programmers are not likely to use?\n",
    "    * from math import *"
   ]
  }
 ],
 "metadata": {
  "kernelspec": {
   "display_name": "Python 3 (ipykernel)",
   "language": "python",
   "name": "python3"
  },
  "language_info": {
   "codemirror_mode": {
    "name": "ipython",
    "version": 3
   },
   "file_extension": ".py",
   "mimetype": "text/x-python",
   "name": "python",
   "nbconvert_exporter": "python",
   "pygments_lexer": "ipython3",
   "version": "3.9.13"
  },
  "vscode": {
   "interpreter": {
    "hash": "1b600a3438a79bc98971c3547d28f531d0c8ed6c91b96b1480a504fa30005dbe"
   }
  }
 },
 "nbformat": 4,
 "nbformat_minor": 2
}
