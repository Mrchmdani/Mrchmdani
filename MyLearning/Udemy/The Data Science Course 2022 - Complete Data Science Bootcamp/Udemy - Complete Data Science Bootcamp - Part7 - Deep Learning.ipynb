{
 "cells": [
  {
   "attachments": {},
   "cell_type": "markdown",
   "metadata": {},
   "source": [
    "# **Section 41: Part 7: Deep Learning**"
   ]
  },
  {
   "attachments": {},
   "cell_type": "markdown",
   "metadata": {},
   "source": [
    "## 283. What to Expect from this Part?"
   ]
  },
  {
   "attachments": {},
   "cell_type": "markdown",
   "metadata": {},
   "source": [
    "# **Section 42: Deep Learning - Introduction to Neaural Networks**"
   ]
  },
  {
   "attachments": {},
   "cell_type": "markdown",
   "metadata": {},
   "source": [
    "## 284. Introduction to Neural Networks"
   ]
  },
  {
   "attachments": {},
   "cell_type": "markdown",
   "metadata": {},
   "source": [
    "## Quiz 127: Introduction to Neural Networks"
   ]
  },
  {
   "attachments": {},
   "cell_type": "markdown",
   "metadata": {},
   "source": [
    "## 285. Training the Model"
   ]
  },
  {
   "attachments": {},
   "cell_type": "markdown",
   "metadata": {},
   "source": [
    "## Quiz 128: Training the Model"
   ]
  },
  {
   "attachments": {},
   "cell_type": "markdown",
   "metadata": {},
   "source": [
    "## 286. Types of Machine Learning"
   ]
  },
  {
   "attachments": {},
   "cell_type": "markdown",
   "metadata": {},
   "source": [
    "## Quiz 129: Types of Machine Learning"
   ]
  },
  {
   "attachments": {},
   "cell_type": "markdown",
   "metadata": {},
   "source": [
    "## 287. The Linear Model (Linear Algebraic Version)"
   ]
  },
  {
   "attachments": {},
   "cell_type": "markdown",
   "metadata": {},
   "source": [
    "## Quiz 130: The Linear Model"
   ]
  },
  {
   "attachments": {},
   "cell_type": "markdown",
   "metadata": {},
   "source": [
    "## 288. The Linear Model with Multiple Inputs"
   ]
  },
  {
   "attachments": {},
   "cell_type": "markdown",
   "metadata": {},
   "source": [
    "## Quiz 131: The Linear Model with Multiple Inputs"
   ]
  },
  {
   "attachments": {},
   "cell_type": "markdown",
   "metadata": {},
   "source": [
    "## 289. The Linear model with Multiple Inputs and Multiple Outputs"
   ]
  },
  {
   "attachments": {},
   "cell_type": "markdown",
   "metadata": {},
   "source": [
    "## Quiz 132: The Linear model with Multiple Inputs and Multiple Outputs"
   ]
  },
  {
   "attachments": {},
   "cell_type": "markdown",
   "metadata": {},
   "source": [
    "## 290. Graphical Representation of Simple Neural Networks"
   ]
  },
  {
   "attachments": {},
   "cell_type": "markdown",
   "metadata": {},
   "source": [
    "## Quiz 133: Graphical Representation of Simple Neural Networks"
   ]
  },
  {
   "attachments": {},
   "cell_type": "markdown",
   "metadata": {},
   "source": [
    "## 291. What is the Objective Function?"
   ]
  },
  {
   "attachments": {},
   "cell_type": "markdown",
   "metadata": {},
   "source": [
    "## Quiz 134: What is the Objective Function?"
   ]
  },
  {
   "attachments": {},
   "cell_type": "markdown",
   "metadata": {},
   "source": [
    "## 292. Common Objective Functions: L2-norm Loss"
   ]
  },
  {
   "attachments": {},
   "cell_type": "markdown",
   "metadata": {},
   "source": [
    "## Quiz 135: Common Objective Functions: L2-norm Loss"
   ]
  },
  {
   "attachments": {},
   "cell_type": "markdown",
   "metadata": {},
   "source": [
    "## 293. Common Objective Functions: Cross-Entropy Loss"
   ]
  },
  {
   "cell_type": "markdown",
   "metadata": {},
   "source": [
    "## Quiz 136: Common Objective Functions: Cross-Entropy Loss"
   ]
  },
  {
   "attachments": {},
   "cell_type": "markdown",
   "metadata": {},
   "source": [
    "## 294. Optimization Algorithm: 1-Parameter Gradient Descent"
   ]
  },
  {
   "attachments": {},
   "cell_type": "markdown",
   "metadata": {},
   "source": [
    "## Quiz 137: Optimization Algorithm: 1-Parameter Gradient Descent"
   ]
  },
  {
   "attachments": {},
   "cell_type": "markdown",
   "metadata": {},
   "source": [
    "## 295. Optimization Algorithm: n-Parameter Gradient Descent"
   ]
  },
  {
   "attachments": {},
   "cell_type": "markdown",
   "metadata": {},
   "source": [
    "## Quiz 138: Optimization Algorithm: n-Parameter Gradient Descent"
   ]
  },
  {
   "attachments": {},
   "cell_type": "markdown",
   "metadata": {},
   "source": [
    "# **Section 43: Deep Learning - How to Build a Neural Network from Scratch with NumPy**"
   ]
  },
  {
   "attachments": {},
   "cell_type": "markdown",
   "metadata": {},
   "source": [
    "## 296. Basic NN Example (Part 1)\n",
    "## 3min\n",
    "## Play\n",
    "## 297. Basic NN Example (Part 2)\n",
    "## 5min\n",
    "## Play\n",
    "## 298. Basic NN Example (Part 3)\n",
    "## 3min\n",
    "## Play\n",
    "## 299. Basic NN Example (Part 4)\n",
    "## 8min\n",
    "## Start\n",
    "## 300. Basic NN Example Exercises"
   ]
  },
  {
   "attachments": {},
   "cell_type": "markdown",
   "metadata": {},
   "source": [
    "# **Section 44: Deep Learning - TensorFlow 2.0: Introduction**"
   ]
  },
  {
   "attachments": {},
   "cell_type": "markdown",
   "metadata": {},
   "source": [
    "## 301. How to Install TensorFlow 2.0\n",
    "## 5min\n",
    "## Play\n",
    "## 302. TensorFlow Outline and Comparison with Other Libraries\n",
    "## 3min\n",
    "## Play\n",
    "## 303. TensorFlow 1 vs TensorFlow 2\n",
    "## 3min\n",
    "## Play\n",
    "## 304. A Note on TensorFlow 2 Syntax\n",
    "## 1min\n",
    "## Play\n",
    "## 305. Types of File Formats Supporting TensorFlow\n",
    "## 3min\n",
    "## Play\n",
    "## 306. Outlining the Model with TensorFlow 2\n",
    "## 6min\n",
    "## Play\n",
    "## 307. Interpreting the Result and Extracting the Weights and Bias\n",
    "## 4min\n",
    "## Play\n",
    "## 308. Customizing a TensorFlow 2 Model\n",
    "## 3min\n",
    "## Start\n",
    "## 309. Basic NN with TensorFlow: Exercises"
   ]
  },
  {
   "attachments": {},
   "cell_type": "markdown",
   "metadata": {},
   "source": [
    "# **Section 45: Deep Learning - Digging Deeper into NNs: Introducing Deep Neural Networks**"
   ]
  },
  {
   "attachments": {},
   "cell_type": "markdown",
   "metadata": {},
   "source": [
    "## 310. What is a Layer?\n",
    "## 2min\n",
    "## Play\n",
    "## 311. What is a Deep Net?\n",
    "## 2min\n",
    "## Play\n",
    "## 312. Digging into a Deep Net\n",
    "## 5min\n",
    "## Play\n",
    "## 313. Non-Linearities and their Purpose\n",
    "## 3min\n",
    "## Play\n",
    "## 314. Activation Functions\n",
    "## 4min\n",
    "## Play\n",
    "## 315. Activation Functions: Softmax Activation\n",
    "## 3min\n",
    "## Play\n",
    "## 316. Backpropagation\n",
    "## 3min\n",
    "## Play\n",
    "## 317. Backpropagation Picture\n",
    "## 3min\n",
    "## Start\n",
    "## 318. Backpropagation - A Peek into the Mathematics of Optimization"
   ]
  },
  {
   "attachments": {},
   "cell_type": "markdown",
   "metadata": {},
   "source": [
    "# **Section 46: Deep Learning - Overfitting**"
   ]
  },
  {
   "attachments": {},
   "cell_type": "markdown",
   "metadata": {},
   "source": [
    "## 319. What is Overfitting?\n",
    "## 4min\n",
    "## Play\n",
    "## 320. Underfitting and Overfitting for Classification\n",
    "## 2min\n",
    "## Play\n",
    "## 321. What is Validation?\n",
    "## 3min\n",
    "## Play\n",
    "## 322. Training, Validation, and Test Datasets\n",
    "## 3min\n",
    "## Play\n",
    "## 323. N-Fold Cross Validation\n",
    "## 3min\n",
    "## Play\n",
    "## 324. Early Stopping or When to Stop Training"
   ]
  },
  {
   "attachments": {},
   "cell_type": "markdown",
   "metadata": {},
   "source": [
    "# **Section 47: Deep Learning - Initialization**"
   ]
  },
  {
   "attachments": {},
   "cell_type": "markdown",
   "metadata": {},
   "source": [
    "## 325. What is Initialization?\n",
    "## 3min\n",
    "## Play\n",
    "## 326. Types of Simple Initializations\n",
    "## 3min\n",
    "## Play\n",
    "## 327. State-of-the-Art Method - (Xavier) Glorot Initialization"
   ]
  },
  {
   "attachments": {},
   "cell_type": "markdown",
   "metadata": {},
   "source": [
    "# **Section 48: Deep Learning - Digging into Gradient Descent and Learning Rate Schedules**"
   ]
  },
  {
   "attachments": {},
   "cell_type": "markdown",
   "metadata": {},
   "source": [
    "## 328. Stochastic Gradient Descent\n",
    "## 3min\n",
    "## Play\n",
    "## 329. Problems with Gradient Descent\n",
    "## 2min\n",
    "## Play\n",
    "## 330. Momentum\n",
    "## 3min\n",
    "## Play\n",
    "## 331. Learning Rate Schedules, or How to Choose the Optimal Learning Rate\n",
    "## 4min\n",
    "## Play\n",
    "## 332. Learning Rate Schedules Visualized\n",
    "## 2min\n",
    "## Play\n",
    "## 333. Adaptive Learning Rate Schedules (AdaGrad and RMSprop )\n",
    "## 4min\n",
    "## Play\n",
    "## 334. Adam (Adaptive Moment Estimation)"
   ]
  },
  {
   "attachments": {},
   "cell_type": "markdown",
   "metadata": {},
   "source": [
    "# **Section 49: Deep Learning - Preprocessing**"
   ]
  },
  {
   "attachments": {},
   "cell_type": "markdown",
   "metadata": {},
   "source": [
    "## 335. Preprocessing Introduction\n",
    "## 3min\n",
    "## Play\n",
    "## 336. Types of Basic Preprocessing\n",
    "## 1min\n",
    "## Play\n",
    "## 337. Standardization\n",
    "## 5min\n",
    "## Play\n",
    "## 338. Preprocessing Categorical Data\n",
    "## 2min\n",
    "## Play\n",
    "## 339. Binary and One-Hot Encoding"
   ]
  },
  {
   "attachments": {},
   "cell_type": "markdown",
   "metadata": {},
   "source": [
    "# **Section 50: Deep Learning - Classifying on the MNIST Dataset**"
   ]
  },
  {
   "attachments": {},
   "cell_type": "markdown",
   "metadata": {},
   "source": [
    "## 340. MNIST: The Dataset\n",
    "## 2min\n",
    "## Play\n",
    "## 341. MNIST: How to Tackle the MNIST\n",
    "## 3min\n",
    "## Play\n",
    "## 342. MNIST: Importing the Relevant Packages and Loading the Data\n",
    "## 2min\n",
    "## Play\n",
    "## 343. MNIST: Preprocess the Data - Create a Validation Set and Scale It\n",
    "## 5min\n",
    "## Start\n",
    "## 344. MNIST: Preprocess the Data - Scale the Test Data - Exercise\n",
    "## 1min\n",
    "## Play\n",
    "## 345. MNIST: Preprocess the Data - Shuffle and Batch\n",
    "## 7min\n",
    "## Start\n",
    "## 346. MNIST: Preprocess the Data - Shuffle and Batch - Exercise\n",
    "## 1min\n",
    "## Play\n",
    "## 347. MNIST: Outline the Model\n",
    "## 5min\n",
    "## Play\n",
    "## 348. MNIST: Select the Loss and the Optimizer\n",
    "## 2min\n",
    "## Play\n",
    "## 349. MNIST: Learning\n",
    "## 6min\n",
    "## Start\n",
    "## 350. MNIST - Exercises\n",
    "## 1min\n",
    "## Play\n",
    "## 351. MNIST: Testing the Model"
   ]
  },
  {
   "attachments": {},
   "cell_type": "markdown",
   "metadata": {},
   "source": [
    "# **Section 51: Deep Learning - Business Case Example**"
   ]
  },
  {
   "attachments": {},
   "cell_type": "markdown",
   "metadata": {},
   "source": [
    "## 352. Business Case: Exploring the Dataset and Identifying Predictors\n",
    "## 8min\n",
    "## Play\n",
    "## 353. Business Case: Outlining the Solution\n",
    "## 2min\n",
    "## Play\n",
    "## 354. Business Case: Balancing the Dataset\n",
    "## 4min\n",
    "## Play\n",
    "## 355. Business Case: Preprocessing the Data\n",
    "## 12min\n",
    "## Start\n",
    "## 356. Business Case: Preprocessing the Data - Exercise\n",
    "## 1min\n",
    "## Play\n",
    "## 357. Business Case: Load the Preprocessed Data\n",
    "## 3min\n",
    "## Start\n",
    "## 358. Business Case: Load the Preprocessed Data - Exercise\n",
    "## 1min\n",
    "## Play\n",
    "## 359. Business Case: Learning and Interpreting the Result\n",
    "## 4min\n",
    "## Play\n",
    "## 360. Business Case: Setting an Early Stopping Mechanism\n",
    "## 5min\n",
    "## Start\n",
    "## 361. Setting an Early Stopping Mechanism - Exercise\n",
    "## 1min\n",
    "## Play\n",
    "## 362. Business Case: Testing the Model\n",
    "## 1min\n",
    "## Start\n",
    "## 363. Business Case: Final Exercise"
   ]
  },
  {
   "attachments": {},
   "cell_type": "markdown",
   "metadata": {},
   "source": [
    "# **Section 52: Deep Learning - Conclusion**"
   ]
  },
  {
   "attachments": {},
   "cell_type": "markdown",
   "metadata": {},
   "source": [
    "## 364. Summary on What You've Learned\n",
    "## 4min\n",
    "## Play\n",
    "## 365. What's Further out there in terms of Machine Learning\n",
    "## 2min\n",
    "## Start\n",
    "## 366. DeepMind and Deep Learning\n",
    "## 1min\n",
    "## Play\n",
    "## 367. An overview of CNNs\n",
    "## 5min\n",
    "## Play\n",
    "## 368. An Overview of RNNs\n",
    "## 3min\n",
    "## Play\n",
    "## 369. An Overview of non-NN Approaches"
   ]
  }
 ],
 "metadata": {
  "kernelspec": {
   "display_name": "Python 3 (ipykernel)",
   "language": "python",
   "name": "python3"
  },
  "language_info": {
   "codemirror_mode": {
    "name": "ipython",
    "version": 3
   },
   "file_extension": ".py",
   "mimetype": "text/x-python",
   "name": "python",
   "nbconvert_exporter": "python",
   "pygments_lexer": "ipython3",
   "version": "3.9.13 (tags/v3.9.13:6de2ca5, May 17 2022, 16:36:42) [MSC v.1929 64 bit (AMD64)]"
  },
  "vscode": {
   "interpreter": {
    "hash": "1b600a3438a79bc98971c3547d28f531d0c8ed6c91b96b1480a504fa30005dbe"
   }
  }
 },
 "nbformat": 4,
 "nbformat_minor": 2
}
