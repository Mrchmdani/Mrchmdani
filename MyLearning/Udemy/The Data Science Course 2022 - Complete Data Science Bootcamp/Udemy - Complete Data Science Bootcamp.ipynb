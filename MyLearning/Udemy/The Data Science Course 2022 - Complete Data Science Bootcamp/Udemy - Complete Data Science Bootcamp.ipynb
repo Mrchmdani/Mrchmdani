{
 "cells": [
  {
   "cell_type": "markdown",
   "metadata": {},
   "source": [
    "# **01. Part 1: Introduction**"
   ]
  },
  {
   "cell_type": "markdown",
   "metadata": {},
   "source": [
    "Source : https://www.udemy.com/course/the-data-science-course-complete-data-science-bootcamp/"
   ]
  },
  {
   "cell_type": "markdown",
   "metadata": {},
   "source": [
    "# **02. The Field of Data Science - The Various Data Science Disciplines**"
   ]
  },
  {
   "cell_type": "markdown",
   "metadata": {},
   "source": [
    "## Data Science and Business Buzzwords: Why are there so Many?"
   ]
  },
  {
   "cell_type": "markdown",
   "metadata": {},
   "source": [
    "Data Science and Business Buzzwords\n",
    "\n",
    "Job Confucion:\n",
    "\n",
    "1. The constant evolution of the data science industry\n",
    "    * Statistics, 25 years ago, responsible for:\n",
    "        * gathering and cleaning data sets\n",
    "        * applying statistical methods\n",
    "            * growth of data\n",
    "            * radical improvement of technology\n",
    "        * extracting patterns from data\n",
    "    * Data Mining, 20 years ago, responsible for:\n",
    "        * gathering and cleaning data sets\n",
    "        * applying statistical methods\n",
    "            * growth of data\n",
    "            * radical improvement of technology\n",
    "        * extracting patterns from data\n",
    "            * new models\n",
    "        * performing more accurate forecast\n",
    "    * Predictive Analytics, 10 years ago, responsible for:\n",
    "        * gathering and cleaning data sets\n",
    "        * applying statistical methods\n",
    "        * extracting patterns from data\n",
    "        * performing more accurate forecast\n",
    "    * Predictive Analytics, Now, responsible for:\n",
    "        * All Above\n",
    "2. HR Managers\n",
    "    * Label job positions inaccurately"
   ]
  },
  {
   "cell_type": "markdown",
   "metadata": {},
   "source": [
    "## What is the difference between Analysis and Analytics"
   ]
  },
  {
   "cell_type": "markdown",
   "metadata": {},
   "source": [
    "### Analysis vs Analytics"
   ]
  },
  {
   "cell_type": "markdown",
   "metadata": {},
   "source": [
    "1. Analysis\n",
    "    * Perform analysis data that have already happened in the past and explaining how or why something happen\n",
    "        * Separating entire data into multiple data and study them individualy, then examine how they relate to other parts. \n",
    "2. Analytics\n",
    "    * Explore potential future events instead of past events\n",
    "    * Analytics is essentially the application of logical and computational reasoning to the component parts obtained in an analysis.\n",
    "    * Looking for patterns and exploring what you could do with them in the future."
   ]
  },
  {
   "cell_type": "markdown",
   "metadata": {},
   "source": [
    "### Analytics Branches"
   ]
  },
  {
   "cell_type": "markdown",
   "metadata": {},
   "source": [
    "1. Qualitative Analytics (intuition + analysis)\n",
    "    * using your intuition and experience in conjunction with the analysis to plan your next business move.\n",
    "2. Quantitative Analytics (formula + algorithms)\n",
    "    * applying formulas and algorithms to numbers you have gathered from your analysis."
   ]
  },
  {
   "cell_type": "markdown",
   "metadata": {},
   "source": [
    "### To Do:"
   ]
  },
  {
   "cell_type": "markdown",
   "metadata": {},
   "source": [
    "1. Perform qualitative analysis, to explain how or why a story ended the way it did.\n",
    "2. Perform quantitative analysis, working with past data to explain how sales decreased last summer.\n",
    "3. Perform qualitative analytics, to plan next business move.\n",
    "4. Perform qualitative analytics, by applying formulas and algorithms for the future"
   ]
  },
  {
   "cell_type": "markdown",
   "metadata": {},
   "source": [
    "* Analysis != Analytics\n",
    "* Data Analysis != Data Analytics\n",
    "* Business Analysis != Business Analytics"
   ]
  },
  {
   "cell_type": "markdown",
   "metadata": {},
   "source": [
    "## Business Analytics, Data Analytics, and Data Science: An Introduction"
   ]
  },
  {
   "cell_type": "markdown",
   "metadata": {},
   "source": [
    "### Diagram"
   ]
  },
  {
   "cell_type": "markdown",
   "metadata": {},
   "source": [
    "![Alt text](img/365_DataScience_Diagram.jpg)"
   ]
  },
  {
   "cell_type": "markdown",
   "metadata": {},
   "source": [
    "* Business activities would overlap the rectangle because some are data-driven, while others are subjective or experience-driven.\n",
    "* Some of the terms refer to activities that aim to explain past behavior, while others refer to activities used for predicting future behavior.\n",
    "* Data science is a discipline reliant on data availability, while business analytics does not completely rely on data. However, data science incorporates part of data analytics, mostly the part that uses complex mathematical, statistical and programming tools.\n",
    "* Data science can be used to improve the accuracy of predictions based on data extracted from various activities typical for drilling efficiency, and that certainly isn't business analytics."
   ]
  },
  {
   "cell_type": "markdown",
   "metadata": {},
   "source": [
    "## Continuing with BI, ML, and AI"
   ]
  },
  {
   "cell_type": "markdown",
   "metadata": {},
   "source": [
    "![Alt text](img/365_DataScience_Diagram.jpg)"
   ]
  },
  {
   "cell_type": "markdown",
   "metadata": {},
   "source": [
    "### Business Intelegence (BI)"
   ]
  },
  {
   "cell_type": "markdown",
   "metadata": {},
   "source": [
    "* Business intelligence or BI, is the process of analyzing and reporting historical business data.\n",
    "    * After reports and dashboards have been prepared they can be used to make informed strategic and tactical business decisions by end users, such as the general manager.\n",
    "* Business intelligence aims to explain past events using business data."
   ]
  },
  {
   "cell_type": "markdown",
   "metadata": {},
   "source": [
    "### Machine Learning (ML)"
   ]
  },
  {
   "cell_type": "markdown",
   "metadata": {},
   "source": [
    "* The ability of machines to predict outcomes without being explicitly programmed\n",
    "* ML'S about creating and implementing algorithms that let machines receive data and use this data to make predictions, analyze patterns and give recommendations on their own.\n",
    "* Machine learning cannot be implemented without data."
   ]
  },
  {
   "cell_type": "markdown",
   "metadata": {},
   "source": [
    "### Artificial Intelligence (AI)"
   ]
  },
  {
   "cell_type": "markdown",
   "metadata": {},
   "source": [
    "* simulating human knowledge and decision making with computers."
   ]
  },
  {
   "cell_type": "markdown",
   "metadata": {},
   "source": [
    "##  A Breakdown of our Data Science Infographic"
   ]
  },
  {
   "cell_type": "markdown",
   "metadata": {},
   "source": [
    "![Alt text](img/365_DataScience.jpg)"
   ]
  },
  {
   "cell_type": "markdown",
   "metadata": {},
   "source": [
    "# **03. The Field of Data Science - Connecting the Data Science Disciplines**"
   ]
  },
  {
   "cell_type": "markdown",
   "metadata": {},
   "source": [
    "## Applying Traditional Data, Big Data, BI, Traditional Data Science and ML"
   ]
  },
  {
   "cell_type": "markdown",
   "metadata": {},
   "source": [
    "### Data"
   ]
  },
  {
   "cell_type": "markdown",
   "metadata": {},
   "source": [
    "#### Traditional Data"
   ]
  },
  {
   "cell_type": "markdown",
   "metadata": {},
   "source": [
    "* Data in the form of tables containing numeric or text values.\n",
    "* Data that is structured and stored in databases which can be managed from one computer."
   ]
  },
  {
   "cell_type": "markdown",
   "metadata": {},
   "source": [
    "#### Big Data"
   ]
  },
  {
   "cell_type": "markdown",
   "metadata": {},
   "source": [
    "* 'big data' is a term reserved for extremely large data.\n",
    "* the data could be in various formats.\n",
    "* It can be structured, semi-structured or unstructured.\n",
    "* it can be categorised by the letter \"V\"\n",
    "    * the 3Vs of big data\n",
    "    * the 5Vs of big data\n",
    "    * the 7Vs of big data\n",
    "    * the 11Vs of big data\n",
    "        * the vision you have about big data,\n",
    "        * the value big data carries,\n",
    "        * the visualisation tools you use\n",
    "        * the variability and the consistency in big data \n",
    "        * and so on."
   ]
  },
  {
   "cell_type": "markdown",
   "metadata": {},
   "source": [
    "##### Traditional Data vs Big Data"
   ]
  },
  {
   "cell_type": "markdown",
   "metadata": {},
   "source": [
    "* Volume\n",
    "    * Big data needs a whopping amount of memory space. Typically distributed between many computers, its size is measured in terabytes, petabytes and even exabytes.\n",
    "* Variety\n",
    "    * Big data often implies dealing with images, audio files, mobile data and others.\n",
    "* Velocity\n",
    "    * Ones goal is to make extracting patterns from it as quickly as possible. The progress that has been done in this area is remarkable. Outputs from huge data sets can be retrieved in real-time. This means they can be extracted so quickly that a result could be computed immediately, after the source data has been obtained."
   ]
  },
  {
   "cell_type": "markdown",
   "metadata": {},
   "source": [
    "### Data Science"
   ]
  },
  {
   "cell_type": "markdown",
   "metadata": {},
   "source": [
    "* Data Science is a broad subject its an interdisciplinary field that combines: \n",
    "    * statistical, \n",
    "    * mathematical, \n",
    "    * programming, \n",
    "    * problem-solving and \n",
    "    * data-management tools."
   ]
  },
  {
   "cell_type": "markdown",
   "metadata": {},
   "source": [
    "#### BI"
   ]
  },
  {
   "cell_type": "markdown",
   "metadata": {},
   "source": [
    "* Business intelligence is the discipline you need for analyse the past data you have acquired. BI includes technology driven tools involved in the process of analyzing, understanding and reporting available past data.\n",
    "    * This will result  having reports or dashboards and will help on your way to making informed strategic and tactical business decisions.\n",
    "    * extract insights and ideas about your business that will help it grow and give an edge of your competitors, adding stability.\n",
    "* Business intelligence means understanding how your sales grew and why?\n",
    "    * Did competitors lose market share?\n",
    "    * Was there an increase in the price of your products?\n",
    "    * Did you sell a mix of more expensive products?\n",
    "    * How did your profitability margins behave in the same timeframe of a previous year?\n",
    "    * Were there client accounts that were more profitable?\n",
    "*Understanding past business performance in order to improve future performance."
   ]
  },
  {
   "cell_type": "markdown",
   "metadata": {},
   "source": [
    "#### Traditional Data Science"
   ]
  },
  {
   "cell_type": "markdown",
   "metadata": {},
   "source": [
    "* Traditional methods or traditional data science are a set of methods that are derived mainly from statistics and are adapted for business.\n",
    "* Perfect for forecasting future performance with great accuracy.\n",
    "    * regression analyses, \n",
    "    * cluster analyses and \n",
    "    * factor analyses."
   ]
  },
  {
   "cell_type": "markdown",
   "metadata": {},
   "source": [
    "#### Machine Learning"
   ]
  },
  {
   "cell_type": "markdown",
   "metadata": {},
   "source": [
    "* With machine learning in contrast to traditional methods, the responsibility is left for the machine, through mathematics, a significant amount of computer power and applying AI the machine is given the ability to predict outcomes from data without being explicitly programmed too.\n",
    "* ML knows all about creating algorithms that let machines \n",
    "    * receive data, \n",
    "    * perform calculations and \n",
    "    * apply statistical analyses in order to make predictions with unprecedented accuracy."
   ]
  },
  {
   "cell_type": "markdown",
   "metadata": {},
   "source": [
    "# **04. The Field of Data Science - The Benefits of Each Discipline**"
   ]
  },
  {
   "cell_type": "markdown",
   "metadata": {},
   "source": [
    "* There are two types of data, traditional and big data. While different, their role in the business is the same.\n",
    "* Data-driven decisions require well-organized and relevant raw data stored in a digital format data which can be processed and transformed into meaningful and useful information. This is essential for companies when planning and decision-making.\n",
    "* Data is the foundation. It is the material on which you base your analysis. Without data, a decision-maker wouldn't be able to test their decisions and ensure they have taken the right course of action.\n",
    "\n",
    "* The job of the business intelligence analyst is to study the numbers and explain where and why some things went well and others not so well. While having the business context in mind, the business intelligence analyst will present the data in the form of reports and dashboards. They translates raw data into metrics and visualizations which show past trends and characteristics of the business.\n",
    "* Like a translator studying ancient hieroglyphics, Business Intelligence there to find patterns and stories within the pictures, they will stay seemingly meaningless, but what else is needed once the patterns have been interpreted? You can forecast potential future outcomes. The application of any term related to the columns, traditional methods or machine learning, can be said to belong to the field of predictive analytics. While the goal of traditional methods and machine learning are essentially the same and techniques can overlap, there is a difference between the two.\n",
    "* Traditional methods relate to traditional data. They were designed prior to the existence of big data, where the technology simply wasn't as advanced as it is today. They involve applying statistical approaches to create predictive models. If you want to dig deeper, however, or tackle huge amounts of big data utilizing unconventional methods or AI, then you can predict behavior in unprecedented ways, using machine learning techniques and tools. Both techniques are useful for different purposes.\n",
    "    * Traditional methods are better suited for traditional data, while \n",
    "    * Machine learning will have better results when it comes to tackling big data."
   ]
  },
  {
   "cell_type": "markdown",
   "metadata": {},
   "source": [
    "# **05. The Field of Data Science - Popular Data Science Techniques**"
   ]
  },
  {
   "cell_type": "markdown",
   "metadata": {},
   "source": [
    "![Alt text](img/365_DataScience.jpg)"
   ]
  },
  {
   "cell_type": "markdown",
   "metadata": {},
   "source": [
    "## Techniques for Working with Traditional Data"
   ]
  },
  {
   "cell_type": "markdown",
   "metadata": {},
   "source": [
    "* Raw Data / Gathering Data\n",
    "    * Raw data, also called raw facts or primary data, is \n",
    "        * data which cannot be analyzed straight away. \n",
    "        * It is untouched data you have accumulated and stored on the server. \n",
    "        * The gathering of raw data is referred to as data collection.\n",
    "    * Data can be collected in several ways.\n",
    "        * Survey\n",
    "        * Cookies\n",
    "        * etc\n",
    "* Pre-Processing\n",
    "    * Group of operations that will basically convert your raw data into a format that is more understandable and hence useful for further processing. It attempts to fix the problems that can inevitably occur with data gathering.\n",
    "        * Class Labeling\n",
    "            * numerical (can be manipulated)\n",
    "            * categorical (cannot be manipulated)\n",
    "        * Data cleansing / Data cleaning\n",
    "        * Dealing with Missing Value\n",
    "    * Case Specific: \n",
    "        * Data Balancing\n",
    "        * Data Shuffling\n",
    "            * prevent unwanted pattern\n",
    "            * improves predictive performance\n",
    "            * help avooid misleading results\n",
    "* Graph - Visualization associated with relational database management system\n",
    "    * entity-relationship diagram (ER diagram)\n",
    "    * relational schema"
   ]
  },
  {
   "cell_type": "markdown",
   "metadata": {},
   "source": [
    "### Real Life Examples of Traditional Data"
   ]
  },
  {
   "cell_type": "markdown",
   "metadata": {},
   "source": [
    "Numerical vs Categorical"
   ]
  },
  {
   "cell_type": "markdown",
   "metadata": {},
   "source": [
    "![Alt text](img/005.%20numerical%20vs%20categorical1.jpg)\n",
    "![Alt text](img/005.%20numerical%20vs%20categorical2.jpg)"
   ]
  },
  {
   "cell_type": "markdown",
   "metadata": {},
   "source": [
    "![Alt text](img/005.%20numerical%20vs%20categorical3.jpg)\n",
    "![Alt text](img/005.%20numerical%20vs%20categorical4.jpg)"
   ]
  },
  {
   "cell_type": "markdown",
   "metadata": {},
   "source": [
    "## Techniques for Working with Big Data"
   ]
  },
  {
   "cell_type": "markdown",
   "metadata": {},
   "source": [
    "* Some of the approaches used on traditional data can also be implemented on big data.\n",
    "* Collecting and pre-processing big data is essential to help organize the data before doing analyses or making predictions, as is grouping the data into classes or categories.\n",
    "* While working with big data, things can get a little more complex and you have much more variety beyond the simple distinction of numerical and categorical data.\n",
    "    * examples pre=processing of big data can be: \n",
    "        * text data, \n",
    "        * digital image data,\n",
    "        * digital video data, \n",
    "        * digital audio data, \n",
    "        * data cleansing\n",
    "            * a wider range of data cleansing method\n",
    "        * dealing with missing value\n",
    "            * the most crucial with big data.\n",
    "    * Case specific:\n",
    "        * text data mining\n",
    "            * Text data mining represents the process of deriving valuable unstructured data from a text.\n",
    "        * confidentiality - preserving data mining techniques (data masking)\n",
    "            * conceals the original data with random and false data\n",
    "            * allowing you to conduct analysis and \n",
    "            * keep all confidential information in a secure place.\n",
    "* Graph\n",
    "    * relational database"
   ]
  },
  {
   "cell_type": "markdown",
   "metadata": {},
   "source": [
    "### Real Life Examples of Big Data"
   ]
  },
  {
   "cell_type": "markdown",
   "metadata": {},
   "source": [
    "![Alt text](img/005.%20big%20data1.jpg)"
   ]
  },
  {
   "cell_type": "markdown",
   "metadata": {},
   "source": [
    "![Alt text](img/005.%20big%20data2.jpg)"
   ]
  },
  {
   "cell_type": "markdown",
   "metadata": {},
   "source": [
    "## Business Intelligence (BI) Techniques"
   ]
  },
  {
   "cell_type": "markdown",
   "metadata": {},
   "source": [
    "* Business intelligence is the point where all your data skills combine with business knowledge and intuition to explain the past performance of company with conviction.\n",
    "* You would confidently be able to answer questions such as:\n",
    "    * What happened? When did it happen?\n",
    "    * How many units did we sell?\n",
    "    * In which region did we sell the most goods? \n",
    "    * And many more.\n",
    "* A good business intelligence analyst does not look at a problem from only one angle. BI will be able to extract any and all information required to solve this problem.\n",
    "* BI will be capable of answering simple questions from manager, like:\n",
    "    * \"What's the news regarding our email marketing?\"\n",
    "    * \"How did our email marketing perform last quarter in terms of click-through rates and revenue generated\n",
    "    * how does that compare to the performance in the same quarter of last year?\"\n",
    "* Example: How to measure  business performance?\n",
    "    * Collecting Observation\n",
    "        * monthly revenues\n",
    "        * costumer\n",
    "    * quantify information\n",
    "        * representing observations as number\n",
    "    * measure\n",
    "        * the accumulation of observations to show some information\n",
    "* Analyze the Data\n",
    "    * Extract info and present it in the form of:\n",
    "        * metrics\n",
    "            * A metric refers to a value that derives from the measures you have obtained and aims at gauging business performance or progress.\n",
    "            * measure vs matrics\n",
    "                * measure - releated to a simple descriptive meatrics of past performance\n",
    "                * matric = measure + business meaning\n",
    "        * Key performance indicators (KPIs)\n",
    "            * Key = related to main business goals\n",
    "            * Performance = how successfully you have performed within a specified timeframe\n",
    "            * Indicators = generated only from users who have clicked on a link provided in you ad campaign\n",
    "            * KPIs = metrics + business objectives\n",
    "        * Reports\n",
    "        * Dashboard"
   ]
  },
  {
   "cell_type": "markdown",
   "metadata": {},
   "source": [
    "### Real Life Examples of Business Intelligence (BI)"
   ]
  },
  {
   "cell_type": "markdown",
   "metadata": {},
   "source": [
    "* Hotels use price optimization very effectively by raising the price of a room at periods when many people want to visit the hotel and by reducing it to attract visitors when demand is low, they can greatly increase their profits. In order to competently apply such a strategy they must extract the relevant information in real time and compare it with historicals. BI allows you to adjust your strategy to pass data as soon as it is available.\n",
    "\n",
    "* Over and under supply can cause problems in a business. However, implementing effective inventory management means supplying enough stock to meet demand, with the minimal amount of waste and cost. To do this well, you can perform an in depth analysis of past sales transactions for the purpose of identifying seasonality patterns and the times of the year with the highest sales. Additionally, you could track your inventory to identify the months of which you have over or under stocked. A detailed analysis can even pinpoint the day or time of day where the need for a good is highest. If done right, business intelligence will help to efficiently manage your shipment logistics and in turn reduce costs and increase profit."
   ]
  },
  {
   "cell_type": "markdown",
   "metadata": {},
   "source": [
    "## Techniques for Working with Traditional Methods"
   ]
  },
  {
   "cell_type": "markdown",
   "metadata": {},
   "source": [
    "* Regression Analysis is a model used for quantifying causal relationships among the different variables included in your analysis.\n",
    "![Alt text](img/005.%20linear%20regression.jpg)\n",
    "![Alt text](img/005.%20logistic%20regression.jpg)"
   ]
  },
  {
   "cell_type": "markdown",
   "metadata": {},
   "source": [
    "* Cluster Analysis or clustering is the task of grouping a set of objects in such a way that objects in the same group are more similar to each other than to those in other groups.\n",
    "![Alt text](img/005.%20cluster%20regression.jpg)"
   ]
  },
  {
   "cell_type": "markdown",
   "metadata": {},
   "source": [
    "* Factor Analysis is a statistical method used to describe variability among observed, correlated variables in terms of a potentially lower number of unobserved variables called factors.\n",
    "![Alt text](img/005.%20factor%20analysis.jpg)"
   ]
  },
  {
   "cell_type": "markdown",
   "metadata": {},
   "source": [
    "* Time Series Analysis is a specific way of analyzing a sequence of data points collected over an interval of time.\n",
    "![Alt text](img/005.%20time%20series.jpg)"
   ]
  },
  {
   "cell_type": "markdown",
   "metadata": {},
   "source": [
    "### Real Life Examples of Traditional Methods"
   ]
  },
  {
   "cell_type": "markdown",
   "metadata": {},
   "source": [
    "* User Experience (UX)\n",
    "* Sales Forecasting"
   ]
  },
  {
   "cell_type": "markdown",
   "metadata": {},
   "source": [
    "## Machine Learning (ML) Techniques"
   ]
  },
  {
   "cell_type": "markdown",
   "metadata": {},
   "source": [
    "* What is at the core of machine learning? Creating an algorithm, which a computer then uses to find a model that fits the data as best as possible. And makes very accurate predictions based on that.\n",
    "* A machine learning algorithm is like a trial and error process, but the special thing about it is that each consecutive trial is at least as good as the previous one. There are four ingredients: \n",
    "    * data, \n",
    "    * model, \n",
    "    * objective function, and \n",
    "    * optimization algorithm.\n",
    "* Benefit ML\n",
    "    * Can learn more effectively\n",
    "    * improve complex computational models"
   ]
  },
  {
   "cell_type": "markdown",
   "metadata": {},
   "source": [
    "### Types of Machine Learning"
   ]
  },
  {
   "cell_type": "markdown",
   "metadata": {},
   "source": [
    "* Supervised Learning is a subcategory of machine learning and artificial intelligence. It is defined by its use of labeled datasets to train algorithms that to classify data or predict outcomes accurately.\n",
    "    * SVMs\n",
    "    * NNs\n",
    "    * Deep Learning\n",
    "    * Random Forsts\n",
    "    * Boyesian Networks\n",
    "\n",
    "* Unsupervised Learning uses machine learning algorithms to analyze and cluster unlabeled datasets. These algorithms discover hidden patterns or data groupings without the need for human intervention.\n",
    "    * K-means\n",
    "    * Deep Learning\n",
    "\n",
    "* Reiforcement Learning is an approach to machine learning that learns by doing. While other machine learning techniques learn by passively taking input data and finding patterns within it, RL uses training agents to actively make decisions and learn from their outcomes.\n",
    "    * Deep Learning\n"
   ]
  },
  {
   "cell_type": "markdown",
   "metadata": {},
   "source": [
    "### Real Life Examples of Machine Learning (ML)"
   ]
  },
  {
   "cell_type": "markdown",
   "metadata": {},
   "source": [
    "* Fraud Detection\n",
    "* Client Retention"
   ]
  },
  {
   "cell_type": "markdown",
   "metadata": {},
   "source": [
    "# **06. The Field of Data Science - Popular Data Tools**"
   ]
  },
  {
   "cell_type": "markdown",
   "metadata": {},
   "source": [
    "## Necessary Programming Languages and Software Used in Data Science"
   ]
  },
  {
   "cell_type": "markdown",
   "metadata": {},
   "source": [
    "* Programing Language\n",
    "    * R and Python are the two most popular tools across all columns. Their biggest advantage is that they can manipulate data, and are integrated with the multiple data and data science software platforms.\n",
    "        * suitable for mathematical and statistical computations.\n",
    "        * R and Python are adaptable.\n",
    "            * Can solve a wide variety of business and data related problems from beginning to the end.\n",
    "            * R and Python limitations, they are not able to address problems specific to some domains. One example is relational database management systems (SQL)\n",
    "    * SQL\n",
    "        * advantageous with traditional historical data and preparing B-I analysis\n",
    "    * MATLAB\n",
    "        * Ideal for working with mathematical functions or matrix manipulations.\n",
    "* Software\n",
    "* smaller scope and a lot easier to learn\n",
    "    * Excel\n",
    "        * able to do relatively complex computations and good visualizations quickly\n",
    "    * IBM SPSS\n",
    "    * APACHE\n",
    "    * MONGO DB"
   ]
  },
  {
   "cell_type": "markdown",
   "metadata": {},
   "source": [
    "![Alt text](img/006.%20theoretical%20vs%20software%20vs%20programing%20language.jpg)"
   ]
  },
  {
   "cell_type": "markdown",
   "metadata": {},
   "source": [
    "# **07. The Field of Data Science - Careers in Data Science**"
   ]
  },
  {
   "cell_type": "markdown",
   "metadata": {},
   "source": [
    "## Finding the Job - What to Expect and What to Look for"
   ]
  },
  {
   "cell_type": "markdown",
   "metadata": {},
   "source": [
    "![Alt text](img/007.%20job1.jpg)"
   ]
  },
  {
   "cell_type": "markdown",
   "metadata": {},
   "source": [
    "![Alt text](img/007.%20job2.jpg)"
   ]
  },
  {
   "cell_type": "markdown",
   "metadata": {},
   "source": [
    "![Alt text](img/007.%20job3.jpg)"
   ]
  },
  {
   "cell_type": "markdown",
   "metadata": {},
   "source": [
    "# **08. The Field of Data Science - Debunking Common Misconceptions**"
   ]
  },
  {
   "cell_type": "markdown",
   "metadata": {},
   "source": [
    "## Debunking Common Missconceptions"
   ]
  },
  {
   "cell_type": "markdown",
   "metadata": {},
   "source": [
    "![Alt text](img/008.%20debunking%20common%20missconceptions.jpg)"
   ]
  },
  {
   "cell_type": "markdown",
   "metadata": {},
   "source": [
    "![Alt text](img/008.%20debunking%20common%20missconceptions1.jpg)"
   ]
  },
  {
   "cell_type": "markdown",
   "metadata": {},
   "source": [
    "![Alt text](img/008.%20debunking%20common%20missconceptions2.jpg)\n",
    "![Alt text](img/008.%20debunking%20common%20missconceptions2a.jpg)"
   ]
  },
  {
   "cell_type": "markdown",
   "metadata": {},
   "source": [
    "![Alt text](img/008.%20debunking%20common%20missconceptions3.jpg)"
   ]
  },
  {
   "cell_type": "markdown",
   "metadata": {},
   "source": [
    "# **09. Part 2: Probability**"
   ]
  },
  {
   "cell_type": "markdown",
   "metadata": {},
   "source": [
    "## The Basic Probability Formula"
   ]
  },
  {
   "cell_type": "markdown",
   "metadata": {},
   "source": [
    "* Probability and statistical data can predict how likely each outcome is and make the right call for their firm.\n",
    "* Essentially, probability is the chance of something happening.\n",
    "* Academic definition probability is likelihood of an event occurring."
   ]
  },
  {
   "cell_type": "markdown",
   "metadata": {},
   "source": [
    "![Alt text](img/009.%20coin%20flip.jpg)"
   ]
  },
  {
   "cell_type": "markdown",
   "metadata": {},
   "source": [
    "![Alt text](img/009.%20dice1.jpg)\n",
    "![Alt text](img/009.%20dice2.jpg)\n",
    "![Alt text](img/009.%20dice3.jpg)\n",
    "![Alt text](img/009.%20dice4.jpg)\n",
    "![Alt text](img/009.%20lottery.jpg)"
   ]
  },
  {
   "cell_type": "markdown",
   "metadata": {},
   "source": [
    "## Computing Expected Values"
   ]
  },
  {
   "cell_type": "markdown",
   "metadata": {},
   "source": [
    "* Expected values represent what we expect the outcome to be if we run an experiment many times.\n",
    "* expected value is used when trying to predict future events.\n",
    "\n",
    "![Alt text](img/009.%20expected%20values1.jpg)\n",
    "\n",
    "![Alt text](img/009.%20expected%20values2.jpg)"
   ]
  },
  {
   "cell_type": "markdown",
   "metadata": {},
   "source": [
    "* The probabilities we get after conducting experiments are called **experimental probabilities**, whereas the ones we introduced earlier were **theoretical or true probabilities**.\n",
    "![Alt text](img/009.%20experimental%20probabilities1.jpg)\n",
    "\n",
    "![Alt text](img/009.%20experimental%20probabilities2.jpg)"
   ]
  },
  {
   "cell_type": "markdown",
   "metadata": {},
   "source": [
    "---"
   ]
  },
  {
   "cell_type": "markdown",
   "metadata": {},
   "source": [
    "![Alt text](img/009.%20expected%20values3.jpg)\n",
    "\n",
    "![Alt text](img/009.%20expected%20values4.jpg)\n",
    "\n",
    "![Alt text](img/009.%20categorical%20outcomes0.jpg)\n",
    "\n",
    "![Alt text](img/009.%20cathegorical%20outcomes1.jpg)\n",
    "\n",
    "![Alt text](img/009.%20cathegorical%20outcomes2.jpg)"
   ]
  },
  {
   "cell_type": "markdown",
   "metadata": {},
   "source": [
    "---"
   ]
  },
  {
   "cell_type": "markdown",
   "metadata": {},
   "source": [
    "![Alt text](img/009.%20numerical%20outcomes1.jpg)\n",
    "![Alt text](img/009.%20numerical%20outcomes2.jpg)\n",
    "![Alt text](img/009.%20numerical%20outcomes3.jpg)\n",
    "![Alt text](img/009.%20numerical%20outcomes4.jpg)"
   ]
  },
  {
   "cell_type": "markdown",
   "metadata": {},
   "source": [
    "* We can use expected values to make predictions about the future based on past data.\n",
    "* We frequently make predictions using intervals instead of specific values due to the uncertainty the future brings. Meteorologists often use these when forecasting the weather."
   ]
  },
  {
   "cell_type": "markdown",
   "metadata": {},
   "source": [
    "## Frequency Distribution"
   ]
  },
  {
   "cell_type": "markdown",
   "metadata": {},
   "source": [
    "* **Probability frequency distribution** is a collection of the probabilities for each possible outcome.\n",
    "![Alt text](img/009.%20probability%20frequency%20distribution0.jpg)\n",
    "![Alt text](img/009.%20probability%20frequency%20distribution1.jpg)\n",
    "![Alt text](img/009.%20probability%20frequency%20distribution2.jpg)\n",
    "* Knowing the size of the sample space, we can determine the true probabilities for each outcome. We simply divide the frequency for each possible outcome by the size of the sample space.\n",
    "\n"
   ]
  },
  {
   "cell_type": "markdown",
   "metadata": {},
   "source": [
    "## Events and Their Complements"
   ]
  },
  {
   "cell_type": "markdown",
   "metadata": {},
   "source": [
    "* Compliment of an event is everything the event is not.\n",
    "![Alt text](img/009.%20compliment1.jpg)\n",
    "![Alt text](img/009.%20compliment2.jpg)"
   ]
  },
  {
   "cell_type": "markdown",
   "metadata": {},
   "source": [
    "* if we have a sum of probabilities greater than one? Recall that probability of one expresses absolute certainty. By definition we cannot be any sure than being absolutely sure. So a probability of 1.5 does not make intuitive sense.\n",
    "![Alt text](img/009.%20compliment4.jpg)\n",
    "* if we end up with a sum of probabilities less than one, then we have surely not accounted for one or several possible outcomes.\n",
    "* Probability expresses the likelihood of an event occurring, so any probability less than one is not guaranteed to occur.\n",
    "![Alt text](img/009.%20compliment5.jpg)\n",
    "![Alt text](img/009.%20compliment6.jpg)\n",
    "* A` is compliment\n",
    "![Alt text](img/009.%20compliment7.jpg)\n",
    "![Alt text](img/009.%20compliment8.jpg)\n",
    "![Alt text](img/009.%20compliment9.jpg)\n",
    "![Alt text](img/009.%20compliment10.jpg)"
   ]
  },
  {
   "cell_type": "markdown",
   "metadata": {},
   "source": [
    "# **10. Probability - Combinatorics**"
   ]
  },
  {
   "cell_type": "markdown",
   "metadata": {},
   "source": [
    "## Fundamentals of Combinatorics"
   ]
  },
  {
   "cell_type": "markdown",
   "metadata": {},
   "source": [
    "* **Combinatorics** deals with combinations of objects from a specific finite **set**. \n",
    "    * restrictions :\n",
    "        * repetition, \n",
    "        * order, or \n",
    "        * a different criterion.\n",
    "* Parts of combinatorics:\n",
    "    * permutations, \n",
    "    * variations, and \n",
    "    * combinations.\n",
    "* each of these parts to determine the number of favorable outcomes or the number of all elements in a sample space."
   ]
  },
  {
   "cell_type": "markdown",
   "metadata": {},
   "source": [
    "![Alt text](img/010.%20Combinatorics2.jpg)\n",
    "![Alt text](img/010.%20Combinatorics1.jpg)"
   ]
  },
  {
   "cell_type": "markdown",
   "metadata": {},
   "source": [
    "## Permutations and How to Use Them"
   ]
  },
  {
   "cell_type": "markdown",
   "metadata": {},
   "source": [
    "* Permutations represents the number of different possible ways we can arrange a set of elements.\n",
    "    * digits, \n",
    "    * letters, \n",
    "    * objects, or \n",
    "    * even people."
   ]
  },
  {
   "cell_type": "markdown",
   "metadata": {},
   "source": [
    "![Alt text](img/010.%20permutation1.jpg)\n",
    "![Alt text](img/010.%20permutation2.jpg)\n",
    "* The order in which we fill them out is completely up to us.\n",
    "* n = different possible winners.\n",
    "* n-1 =  many possibilities for the second slot\n",
    "* n-2 = possible outcomes for who finishes third"
   ]
  },
  {
   "cell_type": "markdown",
   "metadata": {},
   "source": [
    "## Simple Operations with Factorials"
   ]
  },
  {
   "cell_type": "markdown",
   "metadata": {},
   "source": [
    "![Alt text](img/010.%20factorial1.jpg)\n",
    "![Alt text](img/010.%20factorial2.jpg)\n",
    "![Alt text](img/010.%20factorial3.jpg)\n",
    "![Alt text](img/010.%20factorial4.jpg)\n",
    "![Alt text](img/010.%20factorial5.jpg)\n",
    "![Alt text](img/010.%20factorial6.jpg)\n",
    "![Alt text](img/010.%20factorial7.jpg)"
   ]
  },
  {
   "cell_type": "markdown",
   "metadata": {},
   "source": [
    "## Solving Variations with Repetition"
   ]
  },
  {
   "cell_type": "markdown",
   "metadata": {},
   "source": [
    "* Variations, express the total number of ways we can pick and arrange some elements of a given set.\n",
    "![Alt text](img/010.%20variation1.jpg)\n",
    "![Alt text](img/010.%20variation2.jpg)\n",
    "![Alt text](img/010.%20variation3.jpg)"
   ]
  },
  {
   "cell_type": "markdown",
   "metadata": {},
   "source": [
    "## Solving Variations without Repetition"
   ]
  },
  {
   "cell_type": "markdown",
   "metadata": {},
   "source": [
    "* The further down the order, the fewer options are left with, since nobody is permitted to run multiple legs.\n",
    "* Variations without repetition is because we cannot use the same element twice if we already choose\n",
    "* Variations don't take into account double counting elements.\n",
    "![Alt text](img/010.%20variationwithoutrepetition1.jpg)\n",
    "![Alt text](img/010.%20variationwithoutrepetition2.jpg)"
   ]
  },
  {
   "cell_type": "markdown",
   "metadata": {},
   "source": [
    "## Solving Combinations"
   ]
  },
  {
   "cell_type": "markdown",
   "metadata": {},
   "source": [
    "* Combinations represent the number of different ways we can pick certain elements of a set.\n",
    "* Combination can take double counting element\n",
    "![Alt text](img/010.%20combination1.jpg)\n",
    "![Alt text](img/010.%20combination2.jpg)\n",
    "![Alt text](img/010.%20combination3.jpg)\n",
    "![Alt text](img/010.%20combination4.jpg)\n",
    "![Alt text](img/010.%20combination5.jpg)"
   ]
  },
  {
   "cell_type": "markdown",
   "metadata": {},
   "source": [
    "## Symmetry of Combinations"
   ]
  },
  {
   "cell_type": "markdown",
   "metadata": {},
   "source": [
    "![Alt text](img/010.%20symmetryofcombination1.jpg)\n",
    "![Alt text](img/010.%20symmetryofcombination2.jpg)"
   ]
  },
  {
   "cell_type": "markdown",
   "metadata": {},
   "source": [
    "## A Recap of Combinatorics"
   ]
  },
  {
   "cell_type": "markdown",
   "metadata": {},
   "source": [
    "![Alt text](img/010.%20recapcombination1.jpg)\n",
    "![Alt text](img/010.%20recapcombination2.jpg)\n",
    "![Alt text](img/010.%20recapcombination3.jpg)\n",
    "![Alt text](img/010.%20recapcombination4.jpg)\n",
    "![Alt text](img/010.%20recapcombination5.jpg)\n",
    "![Alt text](img/010.%20recapcombination6.jpg)"
   ]
  },
  {
   "cell_type": "markdown",
   "metadata": {},
   "source": [
    "## A Practical Example of Combinatorics"
   ]
  },
  {
   "cell_type": "markdown",
   "metadata": {},
   "source": [
    "**See:** MyLearning\\Udemy\\The Data Science Course 2022 - Complete Data Science Bootcamp\\s10 A Practical Example of Combinatorics"
   ]
  },
  {
   "cell_type": "markdown",
   "metadata": {},
   "source": [
    "# **11. Probability - Bayesian Inference**"
   ]
  },
  {
   "cell_type": "markdown",
   "metadata": {},
   "source": [
    "## Sets and Events"
   ]
  },
  {
   "cell_type": "markdown",
   "metadata": {},
   "source": [
    "* Every event has a set of outcomes (favourable outcomes)\n",
    "    * example: even number (2, 4, 6, ...)\n",
    "* Values of a set don't always have to be numerical\n",
    "* Any set can be either **empty** or have values in it\n",
    "    * the empty set = the null set"
   ]
  },
  {
   "cell_type": "markdown",
   "metadata": {},
   "source": [
    "* Non-Empty Sets\n",
    "    1. Finite\n",
    "    2. Infinite\n",
    "    * Depending on the number of elements they have."
   ]
  },
  {
   "cell_type": "markdown",
   "metadata": {},
   "source": [
    "![Alt text](img/011.%20sets2.jpg)\n",
    "![Alt text](img/011.%20sets3.jpg)\n",
    "![Alt text](img/011.%20sets4.jpg)\n",
    "![Alt text](img/011.%20sets5.jpg)\n",
    "![Alt text](img/011.%20sets6.jpg)\n",
    "![Alt text](img/011.%20sets7.jpg)\n",
    "![Alt text](img/011.%20sets9.jpg)"
   ]
  },
  {
   "cell_type": "markdown",
   "metadata": {},
   "source": [
    "## Ways sets Can Interact"
   ]
  },
  {
   "cell_type": "markdown",
   "metadata": {},
   "source": [
    "![Alt text](img/011.%20waysets1.jpg)\n",
    "![Alt text](img/011.%20waysets2.jpg)\n",
    "![Alt text](img/011.%20waysets3.jpg)"
   ]
  },
  {
   "cell_type": "markdown",
   "metadata": {},
   "source": [
    "* Intersecting\n",
    "    * The two events can occur at the same time\n",
    "* Completely Overlaping\n",
    "    * One Event can only ever occur if the other one does as well\n",
    "* Conclusion:\n",
    "    * If an outcome is NOT part of a SET, it CANNOT be part of any of its SUBSETS\n",
    "    * An outcome NOT being part of SOME subset, does NOT EXCLUDE it from the entirety of the greater set"
   ]
  },
  {
   "cell_type": "markdown",
   "metadata": {},
   "source": [
    "## Intersection of Sets"
   ]
  },
  {
   "cell_type": "markdown",
   "metadata": {},
   "source": [
    "* Intersections only when we want to denote instances where both events A and B happen simultaneously.\n",
    "\n",
    "![Alt text](img/011.%20intersection1.jpg)\n",
    "![Alt text](img/011.%20intersection2.jpg)\n",
    "![Alt text](img/011.%20intersection3.jpg)\n",
    "![Alt text](img/011.%20intersection4.jpg)\n",
    "![Alt text](img/011.%20intersection5.jpg)"
   ]
  },
  {
   "cell_type": "markdown",
   "metadata": {},
   "source": [
    "## Union of Sets"
   ]
  },
  {
   "cell_type": "markdown",
   "metadata": {},
   "source": [
    "The union of two sets is a combination of all outcomes preferred for either A or B.<br>\n",
    "![Alt text](img/011.%20union1.jpg)<br>\n",
    "To avoid confusion between the two, remember the symbol for union resembles a capital letter U.<br>\n",
    "![Alt text](img/011.%20union2.jpg)\n",
    "![Alt text](img/011.%20union3.jpg)\n",
    "![Alt text](img/011.%20union4.jpg)\n",
    "![Alt text](img/011.%20union5.jpg)"
   ]
  },
  {
   "cell_type": "markdown",
   "metadata": {},
   "source": [
    "## Mutually Exclusive Sets"
   ]
  },
  {
   "cell_type": "markdown",
   "metadata": {},
   "source": [
    "Mutually exclusive sets are sets which are not allowed to have any overlapping elements, graphically their circles never intersect.<br>\n",
    "Mutually exclusive sets have the empty set as their intersection. Therefore, if the intersection of any number of sets is the empty set, then they must be mutually exclusive and vice versa."
   ]
  },
  {
   "cell_type": "markdown",
   "metadata": {},
   "source": [
    "![Alt text](img/011.%20exclusivesets1.jpg)\n",
    "![Alt text](img/011.%20exclusivesets2.jpg)\n",
    "![Alt text](img/011.%20exclusivesets3.jpg)\n",
    "![Alt text](img/011.%20exclusivesets4.jpg)"
   ]
  },
  {
   "cell_type": "markdown",
   "metadata": {},
   "source": [
    "## Dependence and Independence Sets"
   ]
  },
  {
   "cell_type": "markdown",
   "metadata": {},
   "source": [
    "* Independent is the theoretical probability of which remains unaffected by other events.\n",
    "    * Example: is flipping a coin. You always have a 50% chance of getting tails regardless of the result obtained with the previous throw.\n",
    "* Dependence is Probabilities of dependent events vary as conditions change.\n",
    "    * Example: ![Alt text](img/011.%20dependence1.jpg)\n",
    "    ![Alt text](img/011.%20dependence2.jpg)\n",
    "    ![Alt text](img/011.%20dependence3.jpg)\n",
    "    ![Alt text](img/011.%20dependence4.jpg)\n",
    "    * Conditional Probability -> P(A|C) -> Distinguish dependent from independent events"
   ]
  },
  {
   "cell_type": "markdown",
   "metadata": {},
   "source": [
    "## The Conditional Probability Formula"
   ]
  },
  {
   "cell_type": "markdown",
   "metadata": {},
   "source": [
    "* Conditional probability is the likelihood of an event occurring, Assuming a different one has already happened.\n",
    "![Alt text](img/011.%20conditional1.jpg)\n",
    "![Alt text](img/011.%20conditional2.jpg)\n",
    "![Alt text](img/011.%20conditional3.jpg)\n",
    "![Alt text](img/011.%20conditional4.jpg)\n",
    "![Alt text](img/011.%20conditional5.jpg)\n",
    "![Alt text](img/011.%20conditional6.jpg)"
   ]
  },
  {
   "cell_type": "markdown",
   "metadata": {},
   "source": [
    "## The Law of Total Probability"
   ]
  },
  {
   "cell_type": "markdown",
   "metadata": {},
   "source": [
    "* Many scientific papers rely on conducting experiments or surveys.\n",
    "* They often provide summarized statistics we use to analyze and interpret how certain factors affect one another."
   ]
  },
  {
   "cell_type": "markdown",
   "metadata": {},
   "source": [
    "![Alt text](img/011.%20lawoftotalprobability1.jpg)\n",
    "![Alt text](img/011.%20lawoftotalprobability2.jpg)\n",
    "it is more likely for a vegetarian to be female than for of a woman not to eat meat."
   ]
  },
  {
   "cell_type": "markdown",
   "metadata": {},
   "source": [
    "![Alt text](img/011.%20lawoftotalprobability3.jpg)\n",
    "![Alt text](img/011.%20lawoftotalprobability4.jpg)"
   ]
  },
  {
   "cell_type": "markdown",
   "metadata": {},
   "source": [
    "## The Additive Rule"
   ]
  },
  {
   "cell_type": "markdown",
   "metadata": {},
   "source": [
    "![Alt text](img/011.%20additivelaw1.jpg)\n",
    "![Alt text](img/011.%20additivelaw2.jpg)"
   ]
  },
  {
   "cell_type": "markdown",
   "metadata": {},
   "source": [
    "![Alt text](img/011.%20additivelaw3.jpg)\n",
    "![Alt text](img/011.%20additivelaw4.jpg)"
   ]
  },
  {
   "cell_type": "markdown",
   "metadata": {},
   "source": [
    "## The Multiplication Law"
   ]
  },
  {
   "cell_type": "markdown",
   "metadata": {},
   "source": [
    "![Alt text](img/011.%20multiplicationlaw1.jpg)"
   ]
  },
  {
   "cell_type": "markdown",
   "metadata": {},
   "source": [
    "![Alt text](img/011.%20multiplicationlaw2.jpg)"
   ]
  },
  {
   "cell_type": "markdown",
   "metadata": {},
   "source": [
    "![Alt text](img/011.%20multiplicationlaw3.jpg)\n",
    "![Alt text](img/011.%20multiplicationlaw4.jpg)\n",
    "![Alt text](img/011.%20multiplicationlaw5.jpg)\n",
    "![Alt text](img/011.%20multiplicationlaw6.jpg)"
   ]
  },
  {
   "cell_type": "markdown",
   "metadata": {},
   "source": [
    "## Bayes' Law"
   ]
  },
  {
   "cell_type": "markdown",
   "metadata": {},
   "source": [
    "![Alt text](img/011.%20bayeslaw1.jpg)"
   ]
  },
  {
   "cell_type": "markdown",
   "metadata": {},
   "source": [
    "![Alt text](img/011.%20bayeslaw2.jpg)"
   ]
  },
  {
   "cell_type": "markdown",
   "metadata": {},
   "source": [
    "## A Practical Example of Bayesian Inference"
   ]
  },
  {
   "cell_type": "markdown",
   "metadata": {},
   "source": [
    "**See:** MyLearning\\Udemy\\The Data Science Course 2022 - Complete Data Science Bootcamp\\s11 A Practical Example of Bayes Law"
   ]
  },
  {
   "cell_type": "markdown",
   "metadata": {},
   "source": [
    "# **12. Fundamentals of Probability Distributions**"
   ]
  },
  {
   "cell_type": "markdown",
   "metadata": {},
   "source": [
    "## Fundamentals of Probability Distributions"
   ]
  },
  {
   "cell_type": "markdown",
   "metadata": {},
   "source": [
    "* Distribution shows the possible values a variable can take and how frequently they occur.\n",
    "* Assume: \n",
    "    * Y = represents the actual outcome of an event\n",
    "    * y =  represents one of the possible outcomes.\n",
    "    * P(Y=y) or p(y) = **The probability function**\n",
    "    * Example:\n",
    "        * Y -> The number of red marbles we draw out of a bag\n",
    "        * y -> 5\n",
    "        * P(Y=5) or p(5)\n",
    "<br><br>\n",
    "* Probability Frequency Distribution is measure the likelihood of an outcome.\n",
    "* Recorded the frequency for each unique value and divide it by the total number of elements.\n",
    "    * (possible) Finite number of possible outcomes\n",
    "    * (impossible) Infinite number of possibilities\n",
    "* Example: Imagine you are a data scientist and want to analyze the time it takes for your code to run. Any single compilation could take anywhere from a few milliseconds to several days. Often, the result will be between a few milliseconds and a few minutes. If we record time in seconds, we lose precision which is something to be avoided. To do so we need to use the smallest possible measurement of time. Since every milli, micro or even nanosecond could be split in half for greater accuracy no such thing exists.\n",
    "<br><br>"
   ]
  },
  {
   "cell_type": "markdown",
   "metadata": {},
   "source": [
    "![Alt text](img/012.%20distribution1.jpg)\n",
    "![Alt text](img/012.%20distribution2.jpg)\n",
    "![Alt text](img/012.%20distribution3.jpg)"
   ]
  },
  {
   "cell_type": "markdown",
   "metadata": {},
   "source": [
    "![Alt text](img/012.%20variance1.jpg)"
   ]
  },
  {
   "cell_type": "markdown",
   "metadata": {},
   "source": [
    "![Alt text](img/012.%20standarddeviation1.jpg)\n",
    "![Alt text](img/012.%20standarddeviation2.jpg)"
   ]
  },
  {
   "cell_type": "markdown",
   "metadata": {},
   "source": [
    "![Alt text](img/012.%20meanvariance1.jpg)"
   ]
  },
  {
   "cell_type": "markdown",
   "metadata": {},
   "source": [
    "## Types of Probability Distributions"
   ]
  },
  {
   "cell_type": "markdown",
   "metadata": {},
   "source": [
    "![Alt text](img/012.%20typedistribution1.jpg)"
   ]
  },
  {
   "cell_type": "markdown",
   "metadata": {},
   "source": [
    "![Alt text](img/012.%20typedistribution2.jpg)\n",
    "\n",
    "* Discrete Distribution (The probability would be unconnected individual bars)\n",
    "    * Uniform Dstribution\n",
    "        * All outcomes are equally likely -> Equiprobable\n",
    "            * Example: Drawing card from deck or flipping a coin\n",
    "    * Bernoulli Distribution\n",
    "        * Events with only two possible outcomes (True or False)\n",
    "        * Any event with two outcomes can be transformed into a Bernoulli event\n",
    "            * if we carry out several times **Bernoulli Distribution** in a row, it can change to **Binomial Distribution**\n",
    "    * Binomial Distribution\n",
    "        * two outcomes per iteration\n",
    "        * many iteration\n",
    "    * Poisson Distribution\n",
    "        * Test out how unusual an event frequency is for a given interval\n",
    "* Continuous Distribution (The probability distribution would be a curve)\n",
    "    * Normal Distribution\n",
    "        * Often observe in nature\n",
    "            * Numerous reports\n",
    "            * Limited data\n",
    "                * Student's-T distribution\n",
    "                    * A small sample approximation of a Normal distribution\n",
    "                    ![Alt text](img/012.%20typedistribution3.jpg)\n",
    "    * Chi-Squared\n",
    "        * Asymmetric\n",
    "        * Only consists of non-negative value\n",
    "        * The Chi-Squared does not often mirror real life events, but used in **Hypothesis Testing**\n",
    "        * Goodness of fit\n",
    "        ![Alt text](img/012.%20typedistribution4.jpg)\n",
    "    * Exponential distribution\n",
    "        * Events that are rapidly changing early on\n",
    "            * Example: News articles generate hits based on clicks\n",
    "    * Logistic distribution\n",
    "        * Useful in forecast analysis\n",
    "        * Useful for determining a cut-off point for a successful outcomes"
   ]
  },
  {
   "cell_type": "markdown",
   "metadata": {},
   "source": [
    "## Characteristics of Discrete Distributions"
   ]
  },
  {
   "cell_type": "markdown",
   "metadata": {},
   "source": [
    "![Alt text](img/012.%20discretedistribution1.jpg)\n",
    "![Alt text](img/012.%20discretedistribution2.jpg)\n",
    "![Alt text](img/012.%20discretedistribution3.jpg)\n",
    "![Alt text](img/012.%20discretedistribution4.jpg)\n",
    "![Alt text](img/012.%20discretedistribution5.jpg)"
   ]
  },
  {
   "cell_type": "markdown",
   "metadata": {},
   "source": [
    "## Discrete Distributions: The Uniform Distribution"
   ]
  },
  {
   "cell_type": "markdown",
   "metadata": {},
   "source": [
    "![Alt text](img/012.%20uniformdistribution1.jpg)\n",
    "![Alt text](img/012.%20uniformdistribution2.jpg)\n",
    "![Alt text](img/012.%20uniformdistribution3.jpg)\n",
    "\n",
    "* Example: If your friend offers you three, identical chocolate bars, the probability assigned to you choosing one of them also follow the uniform distribution.\n",
    "* One big drawback of uniform distributions is that the expected value provides us no relevant information because all outcomes have the same probability.\n",
    "* The expected value, which is 3.5, brings no predictive power.\n",
    "    * ![Alt text](img/012.%20uniformdistribution4.jpg)\n",
    "    * ![Alt text](img/012.%20uniformdistribution5.jpg)"
   ]
  },
  {
   "cell_type": "markdown",
   "metadata": {},
   "source": [
    "## Discrete Distributions: The Bernoulli Distribution"
   ]
  },
  {
   "cell_type": "markdown",
   "metadata": {},
   "source": [
    "![Alt text](img/012.%20bernoullidistribution1.jpg)\n",
    "* Bernoulli Distribution\n",
    "    1. Have the probabilities of one of the events occurring\n",
    "    2. Have past data indicating some experimental probability\n",
    "* ![Alt text](img/012.%20bernoullidistribution2.jpg)\n",
    "* Have to assign which outcome is zero and which outcome is one\n",
    "    * E(X) = p\n",
    "        * assign 1\n",
    "    * E(X) = 1 - p\n",
    "        * assign 0\n",
    "* ![Alt text](img/012.%20bernoullidistribution3.jpg)\n",
    "![Alt text](img/012.%20bernoullidistribution4.jpg)\n",
    "![Alt text](img/012.%20bernoullidistribution5.jpg)\n",
    "![Alt text](img/012.%20bernoullidistribution6.jpg)\n"
   ]
  },
  {
   "cell_type": "markdown",
   "metadata": {},
   "source": [
    "## Discrete Distributions: The Binomial Distribution"
   ]
  },
  {
   "cell_type": "markdown",
   "metadata": {},
   "source": [
    "* Binomial events are a sequence of identical Bernoulli events.\n",
    "* ![Alt text](img/012.%20binomialdistribution1.jpg)\n",
    "    * ![Alt text](img/012.%20binomialdistribution2.jpg)\n",
    "        * E(Bernoulli Event) -> Which outcome we expect for a single trial\n",
    "        * E(Binomial Event) -> The number of times we expect to get a specific outcome\n",
    "    * ![Alt text](img/012.%20binomialdistribution3.jpg)\n",
    "    * p(y) = The likelihood of getting a given outcome a precise number of times\n",
    "        * ![Alt text](img/012.%20binomialdistribution4.jpg)\n",
    "            * There could exist more than one way to reach our desired outcome\n",
    "            * ![Alt text](img/012.%20binomialdistribution5.jpg)\n",
    "            * ![Alt text](img/012.%20binomialdistribution6.jpg)"
   ]
  },
  {
   "cell_type": "markdown",
   "metadata": {},
   "source": [
    "![Alt text](img/012.%20binomialdistribution7.jpg)\n",
    "![Alt text](img/012.%20binomialdistribution8.jpg)\n",
    "![Alt text](img/012.%20binomialdistribution9.jpg)\n",
    "![Alt text](img/012.%20binomialdistribution10.jpg)"
   ]
  },
  {
   "cell_type": "markdown",
   "metadata": {},
   "source": [
    "## Discrete Distributions: The Poisson Distribution"
   ]
  },
  {
   "cell_type": "markdown",
   "metadata": {},
   "source": [
    "* Poisson Distribution\n",
    "    * The frequency with which an event occurs instead of the probability of an event\n",
    "    * The Poisson distribution requires knowing how often it occurs for a specific period of time or distance.\n",
    "* ![Alt text](img/012.%20poisson%20distribution1.jpg)\n",
    "* The statement above read as \"variable Y follows a Poisson distribution with Lambda equal to four\".\n"
   ]
  },
  {
   "cell_type": "markdown",
   "metadata": {},
   "source": [
    "* Example: A firefly might light up three times in 10 seconds on average.\n",
    "    * 3 times in 10sec\n",
    "    * Y ~ Po(3)\n",
    "* We should use a Poisson distribution if we want to determine the likelihood of it lighting up eight times in 20 seconds.\n",
    "    * 8 times in 20sec\n",
    "* The graph of the Poisson distribution plots, the number of instances the event occurs in a standard interval of time, and the probability for each one.\n",
    "    * ![Alt text](img/012.%20poisson%20distribution2.jpg)"
   ]
  },
  {
   "cell_type": "markdown",
   "metadata": {},
   "source": [
    "![Alt text](img/012.%20poisson%20distribution3.jpg)\n",
    "![Alt text](img/012.%20poisson%20distribution4.jpg)\n",
    "![Alt text](img/012.%20poisson%20distribution5.jpg)\n",
    "![Alt text](img/012.%20poisson%20distribution6.jpg)\n",
    "![Alt text](img/012.%20poisson%20distribution7.jpg)\n",
    "![Alt text](img/012.%20poisson%20distribution8.jpg)\n",
    "![Alt text](img/012.%20poisson%20distribution9.jpg)\n",
    "![Alt text](img/012.%20poisson%20distribution10.jpg)\n",
    "![Alt text](img/012.%20poisson%20distribution11.jpg)"
   ]
  },
  {
   "cell_type": "markdown",
   "metadata": {},
   "source": [
    "## Discrete Distributions: The Continuous Distribution"
   ]
  },
  {
   "cell_type": "markdown",
   "metadata": {},
   "source": [
    "* Continuous Distribution is Events that have many consecutive outcomes (infinitely)\n",
    "    * Sample space is infinite\n",
    "    * Cannot record the frequency of each distinct value\n",
    "    * No longer represent these distributions with a table, but with graph\n",
    "    * ![Alt text](img/012.%20continuousdistribution1.jpg)\n",
    "        * The graphs for continuous distributions slightly resemble the ones for discreet distributions. However, there are more elements in the sample space so there are more bars on the graph.\n",
    "            * ![Alt text](img/012.%20continuousdistribution2.jpg)\n",
    "                * Furthermore, the more bars, the narrower each one must be. This results in a smooth curve that goes along the top of these bars.\n",
    "            * ![Alt text](img/012.%20continuousdistribution3.jpg)"
   ]
  },
  {
   "cell_type": "markdown",
   "metadata": {},
   "source": [
    "* ![Alt text](img/012.%20continuousdistribution4.jpg)\n",
    "    * The greater the denominator becomes, the closer the fraction is to 0, which mean that probabilities are extremely insignificant.\n",
    "    * Thus, it is accepted that the probability for any individual value from a continuous distribution to be equal to zero.\n",
    "        * P(X) = 0\n",
    "        * P(x > X) = P(x >= X)\n",
    "            * Example: For example, the probability of a college student running a mile in under six minutes is the same as them running it for at most six minutes. That is because we consider the likelihood of finishing in exactly six minutes to be zero.\n",
    "                * P(x < 6 min) = P(x <= 6 min)\n",
    "                * p(x = 6) = 0"
   ]
  },
  {
   "cell_type": "markdown",
   "metadata": {},
   "source": [
    "* **Discrete Distribution Probability Graph**\n",
    "    * Probability Density Function (PDF)\n",
    "        * ![Alt text](img/012.%20probability%20density%20functions%20(PDF).jpg)\n",
    "\n",
    "* **Continuous Distribution Probability Graph**\n",
    "    * Cumulative Density Function (CDF)\n",
    "        * ![Alt text](img/012.%20cumulative%20distribution%20function%20(CDF)1.jpg)\n",
    "            * It represents probability of the random variable being lower than or equal to a specific value.\n",
    "        * ![Alt text](img/012.%20cumulative%20distribution%20function%20(CDF)2.jpg)\n",
    "            * Since no value could be lower than or equal to negative infinity, the CDF value for negative infinity would equal zero.\n",
    "            * Since any value would be lower than plus infinity, we would get a one if we plug plus infinity into the distribution function.\n",
    "        * Discrete also have CDF ![Alt text](img/012.%20discrete%20CDF.jpg)\n",
    "            * Used far less frequently.\n",
    "                * Reason: Because we can always add up the PDF values associated with the individual probabilities we are interested in."
   ]
  },
  {
   "cell_type": "markdown",
   "metadata": {},
   "source": [
    "* CDF is useful when we want to estimate the probability of some interval.\n",
    "    * ![Alt text](img/012.%20probability%20of%20interval.jpg)\n",
    "        * Graphically the area under the density curve would represent the chance of getting a value within that interval."
   ]
  },
  {
   "cell_type": "markdown",
   "metadata": {},
   "source": [
    "* ![Alt text](img/012.%20cdf%20vs%20pdf1.jpg)\n",
    "* ![Alt text](img/012.%20cdf%20vs%20pdf2.jpg)\n",
    "    * when dealing with continuous variables we are only given their probability density functions. To understand what its graph looks like, we Should should be able to compute the expected value and variance for any PDF.\n",
    "        * ![Alt text](img/012.%20pdf1.jpg)\n",
    "        * ![Alt text](img/012.%20pdf2.jpg)\n",
    "        * ![Alt text](img/012.%20pdf3.jpg)"
   ]
  },
  {
   "cell_type": "markdown",
   "metadata": {},
   "source": [
    "## Continuous Distributions: The Normal Distribution"
   ]
  },
  {
   "cell_type": "markdown",
   "metadata": {},
   "source": [
    "* ![Alt text](img/012.%20normaldistribution1.jpg)\n",
    "    * It read: variable X follows a normal distribution with mean, mu, and variance, sigma squared.\n",
    "    * When dealing with actual data, we would usually know the numerical values of mu and sigma squared.\n",
    "* Normal distribution frequently appears in nature.\n",
    "    * Example: \n",
    "        * The size of a fully grown male lion follows a normal distribution. Many records suggest that the average lion weighs between 150 and 250 kilograms, or 330 to 550 pounds.\n",
    "        * Specimens also exist fall outside of this range weighing less than 150 or more than 250 kilograms tend to be the exception rather than the rule.\n",
    "        * Such individuals serve as outliers in our set, and the more data we gather, the lower part of the data they represent.\n",
    "* The graph for a normal distribution is bell shaped where the majority of the data is centered around the mean. Thus, values futher away from the mean are less likely to occur.\n",
    "    * ![Alt text](img/012.%20normaldistribution2.jpg)\n",
    "    * ![Alt text](img/012.%20normaldistribution3.jpg)\n",
    "    * ![Alt text](img/012.%20normaldistribution4.jpg)\n",
    "* Another peculiarity of the normal distribution is the 68, 95, 99.7 law.\n",
    "    * This law suggests that for any normally distributed event, 68% of all outcomes fall within one standard deviation away from the mean,\n",
    "        * ![Alt text](img/012.%20normaldistribution5.jpg)\n",
    "    * 95% fall within two standard deviations,\n",
    "        * ![Alt text](img/012.%20normaldistribution6.jpg)\n",
    "    * and 99.7 within three.\n",
    "        * ![Alt text](img/012.%20normaldistribution7.jpg)\n",
    "    * The last part really emphasizes the fact that outliers are extremely rare in normal distributions. It also suggests how much we know about a data set if we only have the information that it is normally distributed.\n",
    "        * ![Alt text](img/012.%20normaldistribution8.jpg)"
   ]
  },
  {
   "cell_type": "markdown",
   "metadata": {},
   "source": [
    "## Continuous Distributions: The Standard Normal Distribution"
   ]
  },
  {
   "cell_type": "markdown",
   "metadata": {},
   "source": [
    "* Transformation is a way in which we can alter every element of a distribution to get a new distribution with similar characteristics.\n",
    "* For normal distributions we can use addition (+), subtraction (-), multiplication (*, and division (/), without changing the type of the distribution.\n",
    "* to every element of a normal distribution the new distribution would still be normal.\n",
    "    * ![Alt text](img/012.%20standardnormaldistribution1.jpg)\n",
    "    * ![Alt text](img/012.%20standardnormaldistribution2.jpg)\n",
    "        * However, if we multiply or divide by a number between zero and one, the opposing effects will occur. For example, dividing by a half is the same as multiplying by two, so the graph will shrink even though we are dividing.\n",
    "            * if 1 > C > 0\n",
    "            * x/(1/2) = 2x\n",
    "* Standardizing is a special kind of transformation in which we make the expected value equal to zero and the variance equal to one.\n",
    "    * E(X) = 0\n",
    "    * Var(X) = 1\n",
    "* In addition to the 68, 95, 99.7 rule, a table exists which summarizes the most commonly used values for the CDF of a standard normal distribution. This table is known as the standard normal distribution table or the Z-score table."
   ]
  },
  {
   "cell_type": "markdown",
   "metadata": {},
   "source": [
    "* HOW TO DO:\n",
    "    * First, move the graph either to the left or to the right until it's mean equals zero. The way we would do that is by adding or subtracting the mean Mu, from every element.\n",
    "        * ![Alt text](img/012.%20standardnormaldistribution4.jpg)\n",
    "    * After this, to make the standardization complete we need to make sure the standard deviation is one. To do so, we would have to divide every element of the newly obtained distribution by the value of the standard deviation, sigma.\n",
    "        * ![Alt text](img/012.%20standardnormaldistribution5.jpg)\n",
    "    * If we denote the standard normal distribution with Z, then for any normally distributed variable Y, Z equals Y minus Mu over sigma.\n",
    "        * ![Alt text](img/012.%20standardnormaldistribution6.jpg)\n",
    "    * Drawback\n",
    "        * ![Alt text](img/012.%20standardnormaldistribution7.jpg)"
   ]
  },
  {
   "cell_type": "markdown",
   "metadata": {},
   "source": [
    "## Continuous Distributions: The Students'T Distribution"
   ]
  },
  {
   "cell_type": "markdown",
   "metadata": {},
   "source": [
    "* ![Alt text](img/012.%20studentdistribution1.jpg)\n",
    "    * We read this next statement as : variable Y follows a student's T distribution with three degrees of freedom.\n",
    "* Student'T Distribution is a small sample size approximation of a normal distribution. In instances where we would assume a normal distribution, were it not for the limited number of observations.\n",
    "* For instance, the average lap times for the entire season of a Formula One race follow a **normal distribution**. But the lap times for the first lap of the Monaco Grand Prix would follow a **student's T distribution**.\n",
    "    * The curve of the student's T distribution is also bell-shaped and symmetric. However, it has fatter tails to accommodate the occurrence of values far away from the mean. That is because if such a value features in our limited data it would be representing a bigger part of the total.\n",
    "    * Another key difference between the student's T distribution and the normal one, is that apart from the mean and variance we must also define the degrees of freedom for the distribution.\n",
    "* ![Alt text](img/012.%20studentdistribution2.jpg)\n",
    "* ![Alt text](img/012.%20studentdistribution3.jpg)\n",
    "* Overall, the student's T distribution is frequently used when conducting statistical analysis. It plays a major role when we want to do hypothesis testing with limited data, since we also have a table summarizing the most important values of its CDF."
   ]
  },
  {
   "cell_type": "markdown",
   "metadata": {},
   "source": [
    "## Continuous Distributions: The Chi-Squared Distribution"
   ]
  },
  {
   "cell_type": "markdown",
   "metadata": {},
   "source": [
    "* ![Alt text](img/012.%20chi-squareddistribution1.jpg)\n",
    "    * we read the following as variable Y follows a chi-squared distribution with three degrees of freedom.\n",
    "* Chi-squared is most featured in statistical analysis when doing hypothesis testing and computing confidence intervals.\n",
    "* ![Alt text](img/012.%20chi-squareddistribution2.jpg)\n",
    "    * Chi-squared Distribution is not symmetric, but asymmetric. Its graph is highly skewed to the right.\n",
    "    * Furthermore, the values depicted on the x-axis start from zero rather than a negative number. This, shows you yet another transformation.\n",
    "    * Elevating the student's T distribution to the second power gives us the chi-squared, and vice versa. Finding the square root of the chi-squared distribution gives us the students t.\n",
    "    * ![Alt text](img/012.%20chi-squareddistribution3.jpg)\n",
    "        * The expected value for any chi-squared distribution is equal to its associated degrees of freedom, k. Its variance is equal to two times the degrees of freedom, or simply two times k."
   ]
  },
  {
   "cell_type": "markdown",
   "metadata": {},
   "source": [
    "## Continuous Distributions: The Exponential Distribution"
   ]
  },
  {
   "cell_type": "markdown",
   "metadata": {},
   "source": [
    "* ![Alt text](img/012.%20exponential%20distribution1.jpg)\n",
    "    * We read the following statement as Variable X follows an exponential distribution with a scale of a half.\n",
    "* Exponential Distribution\n",
    "    * Variables which most closely follow an exponential distribution are ones with a probability that initially decreases before eventually plateauing.\n",
    "        * Example: Number of views for a Youtube vlog. There is a great interest upon release, so it starts off with many views in the first day or two. After most subscribers have had the chance to see the video, the view counter slows down.\n",
    "* ![Alt text](img/012.%20exponential%20distribution2.jpg)\n",
    "    * Graphically, the PDF of such a function would start off very high and sharply decrease within the first few timeframes.\n",
    "* ![Alt text](img/012.%20exponential%20distribution3.jpg)\n",
    "    * In a weird way, the CDF would also resemble a boomerang. However, this one has shifted 90 degrees to the right. As you know, the cumulative distribution eventually approaches one, so that would be the value where it plateaus.\n",
    "* ![Alt text](img/012.%20exponential%20distribution4.jpg)\n",
    "* ![Alt text](img/012.%20exponential%20distribution5.jpg)\n",
    "* ![Alt text](img/012.%20exponential%20distribution6.jpg)\n",
    "* ![Alt text](img/012.%20exponential%20distribution7.jpg)"
   ]
  },
  {
   "cell_type": "markdown",
   "metadata": {},
   "source": [
    "## Continuous Distributions: The Logistics Distribution"
   ]
  },
  {
   "cell_type": "markdown",
   "metadata": {},
   "source": [
    "* ![Alt text](img/012.%20logisticdistribution1.jpg)\n",
    "    * we read the statement below as: variable Y follows a logistic distribution with location 6 and a scale of 3.\n",
    "* Logistics Distribution \n",
    "    * when trying to determine how continuous variable inputs can affect the probability of a binary outcome. This approach is commonly found in forecasting competitive sports events where there exist only two clear outcomes, victory or defeat.\n",
    "        * ![Alt text](img/012.%20logisticdistribution2.jpg)\n",
    "            * Example: we can analyze whether the average speed of a tennis player's serve plays a crucial role in the outcome of the match.\n",
    "        * ![Alt text](img/012.%20logisticdistribution3.jpg)\n",
    "            * Theory suggests there exists some optimal speed which enables the serve to still be accurate enough. Then, most of the shots we convert into points will likely have similar velocities. As tennis players go further away from the optimal speed their shots either become too slow and easy to handle, or too inaccurate.\n",
    "        * ![Alt text](img/012.%20logisticdistribution4.jpg)\n",
    "    * The cumulative distribution function should be a curve that starts off slow, then picks up rather quickly before plateauing around the 1 mark. That is because once we reach values near the mean the probability of converting the point drastically goes up. Once again, the scale would dictate the shape of the graph. In this case, the smaller the scale the later the graph starts to pick up, but the quicker it reaches values close to 1.\n",
    "        * ![Alt text](img/012.%20logisticdistribution5.jpg)\n",
    "    * To avoid confusing mathematical expressions you only need to know it is equal to the square of the scale times pie squared over 3.\n",
    "        * ![Alt text](img/012.%20logisticdistribution6.jpg)"
   ]
  },
  {
   "cell_type": "markdown",
   "metadata": {},
   "source": [
    "## A Practical Example of Probability Distributions"
   ]
  },
  {
   "cell_type": "markdown",
   "metadata": {},
   "source": [
    "* ![Alt text](img/012.%20distributions1.jpg)"
   ]
  },
  {
   "cell_type": "markdown",
   "metadata": {},
   "source": [
    "Visit this file for practical example video: https://www.udemy.com/course/the-data-science-course-complete-data-science-bootcamp/learn/lecture/14242364#content"
   ]
  },
  {
   "cell_type": "markdown",
   "metadata": {},
   "source": [
    "# **13. Probability - Probability in Other Fields**"
   ]
  },
  {
   "cell_type": "markdown",
   "metadata": {},
   "source": [
    "## Probability in Finance"
   ]
  },
  {
   "cell_type": "markdown",
   "metadata": {},
   "source": [
    "https://www.udemy.com/course/the-data-science-course-complete-data-science-bootcamp/learn/lecture/14241874?start=15#overview"
   ]
  },
  {
   "cell_type": "markdown",
   "metadata": {},
   "source": [
    "* Option pricing is an agreement between two parties for the price of a stock or item at a future point in time.\n",
    "    * It allows one of the sides to decide whether to go through with the deal at a later date.\n",
    "    * Since this pact puts one of the parties at a clear disadvantage, the other one must pay them a compensation fee called **the premium**.\n",
    "        * Whoever pays the premium, gets to decide if the deal is going to go through when the predetermined point in the future arrives.\n",
    "    * The pricing aspect of this option represents how much we are willing to pay to receive that pact or what the highest premium we would agree to is."
   ]
  },
  {
   "cell_type": "markdown",
   "metadata": {},
   "source": [
    "* The decision tree describes the different possible payoffs we could get, and their associated probabilities of occurring.\n",
    "    * ![Alt text](img/013.%20probabilityinfinance1.jpg)\n",
    "    * ![Alt text](img/013.%20probabilityinfinance2.jpg)\n",
    "        * Since $300 is greater than zero ( E(P) >= 0 ), this deal is favorable for us, and we should buy the option. \n",
    "            * Usually your counterparty that charges the premium, is also making their calculations. If they have the same information as you they would either make the deal unfavorable for you ( E(P) <= 0 ), or at least a fair deal ( E(P) = 0 ).\n",
    "                * ![Alt text](img/013.%20probabilityinfinance2a.jpg)\n",
    "                * We can assume that on average, institutions writing options are trying to balance the deal out and make it a fair deal. How can they do that? They can charge a higher premium. In fact, if they charged exactly $300 higher for the option the payoff would decrease by that amount, making it a fair deal.\n",
    "    * ![Alt text](img/013.%20probabilityinfinance3.jpg)\n",
    "    * ![Alt text](img/013.%20probabilityinfinance4.jpg)\n",
    "* ![Alt text](img/013.%20probabilityinfinance5.jpg)\n",
    "    * Generally investors use probability to determine whether an investing opportunity is worth their money. Knowing how likely or unlikely certain events are helps experienced businessmen make correct calls.\n",
    "    * Many of the assigned probabilities for these events are ballpark figures. To elaborate, these values are not 100% certain, but rather what we predict they could be."
   ]
  },
  {
   "cell_type": "markdown",
   "metadata": {},
   "source": [
    "## Probability in Statistics"
   ]
  },
  {
   "cell_type": "markdown",
   "metadata": {},
   "source": [
    "* Relation Statistics vs Characteristics\n",
    "    * ![Alt text](img/013.%20probabilityinstatistics1.jpg)\n",
    "        * The field of statistics focuses predominantly on samples and incomplete data.\n",
    "            * Doing so brings some uncertainty to any of the results we reach. This uncertainty is what leads us to rely on some of the most important concepts of probability like expected values or prediction intervals.\n",
    "* In a way, probability lays the groundwork for statistics because it defines terms like mean, variance, or expected value. Statistics tries to analyze numeric and categorical data and see how well it resembles any of the probability distributions.\n",
    "* Statistics introduces many useful concepts based on probability theory.\n",
    "    * Confidence intervals (CI) is uses sample data to define a range with an associated degree of certainty. These degrees of certainty are usually 90%, 95%, or 99% and express the likelihood of the population mean being within that interval.\n",
    "    * A more hand wavy explanation of confidence intervals is that they simply approximate some margins for the mean of the entire population based on a small sample.\n",
    "    * ![Alt text](img/013.%20probabilityinstatistics2.jpg)\n",
    "        * To calculate these confidence intervals, we must know what mean, variance, and standard deviation are."
   ]
  },
  {
   "cell_type": "markdown",
   "metadata": {},
   "source": [
    "* Example: Imagine you are on a trip to see your favorite soccer team in North London.\n",
    "    * You wanna know how much money you should carry with you when you go for a meal before the game, so you gather some data.\n",
    "    * More precisely, you examine the average prices for a main course meal in North London by going through the menus of some 10 restaurants and pubs through Yelp.\n",
    "    * The mean of the data you gathered is 22 pounds 50, so you expect a meal to cost approximately that much.\n",
    "        * when we are uncertain of some outcome, we construct intervals and build our interval around it.\n",
    "    * We know that prices in the region are normally distributed, so the data is symmetric with respect to the mean. Therefore, our interval should be equally far away from the mean in either direction.\n",
    "        * ![Alt text](img/013.%20probabilityinstatistics3.jpg)\n",
    "        * Without going into too much detail, our confidence interval should span between 20 pounds and 25 pounds. This indicates that we are 95% certain the average meal in North London costs somewhere between 20 and 25 pounds."
   ]
  },
  {
   "cell_type": "markdown",
   "metadata": {},
   "source": [
    "* Hypothesis Testing is an idea that can be tested. (H0 : P)\n",
    "    * Example: I may wanna test if the average price of a meal in North London is lower than 30 quid. (H0 : P < $30)\n",
    "    * To do so, I would place the value on the graph and see where it fits.\n",
    "        * ![Alt text](img/013.%20probabilityinstatistics4.jpg)\n",
    "        * If a small part of the data lies to its right, then the statement is probably correct. To determine how small this part is, we need to know several attributes of the data.\n",
    "* Mathematically, the three crucial requirements for conducting successful hypothesis testing are knowing the **mean, variance, and type of the distribution**. With the help of these three and some formulas, we can validate similar statements, again to a specific degree of certainty."
   ]
  },
  {
   "cell_type": "markdown",
   "metadata": {},
   "source": [
    "* ![Alt text](img/013.%20probabilityinstatistics5.jpg)\n",
    "* ![Alt text](img/013.%20probabilityinstatistics6.jpg)\n",
    "    * After finding the distribution we are dealing with, we like to create different models such as regressions.\n",
    "* ![Alt text](img/013.%20probabilityinstatistics7.jpg)\n",
    "    * Since the mathematics behind regressions is complex and computationally expensive, we use computer software to find the appropriate values. We call this Mathematical Modeling.\n",
    "    * It is essentially an extension of statistics that data scientists deal with. \n",
    "    * In fact, what statisticians and mathematicians call mathematical modeling is what data scientists often refer to as supervised machine learning.\n",
    "    * In essence, data science serves as a natural expansion of statistics in the very same way statistics is the natural expansion of probability."
   ]
  },
  {
   "cell_type": "markdown",
   "metadata": {},
   "source": [
    "## Probability in Data Science"
   ]
  },
  {
   "cell_type": "markdown",
   "metadata": {},
   "source": [
    "* ![Alt text](img/013.%20probabilityinscience1.jpg)\n",
    "    * We have this expansive chain of mathematical fields that are fundamentally important to one another.\n",
    "        * The same way probability sets the foundation for statistics, statistics constructs the pillars on which data science is built.\n",
    "        * The more general the issues, the more we rely on the simpler concepts from probability. And the more concrete our interests are,  the more we need to delve into data science.\n",
    "\n",
    "* ![Alt text](img/013.%20probabilityinscience2.jpg)\n",
    "    * Regressions are essentially supervised machine learning. Therefore, any successful data analyst, data scientist or data engineer needs to have a very good understanding of statistics and of course, probability.\n",
    "\n",
    "* ![Alt text](img/013.%20probabilityinscience3.jpg)\n",
    "    * In data analysis, we usually try to analyze past data and use some insight we find to make reasonable predictions about the future.\n",
    "\n",
    "* ![Alt text](img/013.%20probabilityinscience4.jpg)\n",
    "    * in mathematical modeling, we often tend to run artificial simulations to see how well our predictions match up to various possible future outcomes. One such approach is called a Monte Carlo simulation.\n",
    "        * Monte Carlo simulation is generating artificial data with which to test the predictive power of our mathematical models.\n",
    "            * The data is not completely arbitrary\n",
    "            * follows certain restrictions we provide.\n",
    "                * example: if the probability of a specific outcome is 0.4 (P(x) = 0.4), then 40% of the artificially created data must match this outcome.\n",
    "            * This is convenient because we can tweak these restrictions to see how much our model is dependent on the data we have fed it initially.\n",
    "            * This is crucial as many models look well when we train them on our initial data but perform poorly when deployed in the real world.\n",
    "\n",
    "*  Data science relies on expected values much more than you would believe. Most machine learning is an extremely fast-paced trial and error process where the computer adjusts its expectations as it goes through the data. Essentially, the more predictions it makes, the more precise they become.\n",
    "    * The future is uncertain, so data scientists often try to predict what will happen based on information they have about the present and the past. Even though machine and deep learning processes tend to yield very high predictive powers, they're still not 100% certain.\n",
    "    * Each prediction has a probability of being incorrect. That is because there are unpredictable events that can occur in real life, earthquakes, volcanic eruptions or sudden scientific breakthroughs can completely change the anticipated course of events. Thus, even data scientists assigned probabilities to their predictions, however accurate they may be.\n",
    "* Data Science is an expansion of probability, statistics, and programming that implements computational technology to solve more advanced questions.\n",
    "    * Even when using it to predict future outcomes, there is a degree of uncertainty of what the future holds. \n",
    "    * That is why it is fundamental for anybody striving to be a data scientist to understand the basics of probability."
   ]
  },
  {
   "cell_type": "markdown",
   "metadata": {},
   "source": [
    "# **14. Part3: Statistics**"
   ]
  },
  {
   "cell_type": "markdown",
   "metadata": {},
   "source": [
    "## Population and Sample"
   ]
  },
  {
   "cell_type": "markdown",
   "metadata": {},
   "source": [
    "# **15. Statistics - Descriptive Statistics**"
   ]
  },
  {
   "cell_type": "markdown",
   "metadata": {},
   "source": [
    "## Types of Data"
   ]
  },
  {
   "cell_type": "markdown",
   "metadata": {},
   "source": [
    "## Levels of Measurement"
   ]
  },
  {
   "cell_type": "markdown",
   "metadata": {},
   "source": [
    "## Categorical Variables - Visualization Techniques"
   ]
  },
  {
   "cell_type": "markdown",
   "metadata": {},
   "source": [
    "## Categorical Variables Exercise"
   ]
  },
  {
   "cell_type": "markdown",
   "metadata": {},
   "source": [
    "## Numerical Variables - Frequency Distribution Table"
   ]
  },
  {
   "cell_type": "markdown",
   "metadata": {},
   "source": [
    "## Numerical Variables Exercise"
   ]
  },
  {
   "cell_type": "markdown",
   "metadata": {},
   "source": [
    "## The Histogram"
   ]
  },
  {
   "cell_type": "markdown",
   "metadata": {},
   "source": [
    "## Histogram Exercise"
   ]
  },
  {
   "cell_type": "markdown",
   "metadata": {},
   "source": [
    "## Cross Tables and Scatter Plots"
   ]
  },
  {
   "cell_type": "markdown",
   "metadata": {},
   "source": [
    "## Cross Tables and Scatter Plots Exercise"
   ]
  },
  {
   "cell_type": "markdown",
   "metadata": {},
   "source": [
    "## Mean, Median, and Mode"
   ]
  },
  {
   "cell_type": "markdown",
   "metadata": {},
   "source": [
    "## Mean, Median, and Mode Exercise"
   ]
  },
  {
   "cell_type": "markdown",
   "metadata": {},
   "source": [
    "## Skewness"
   ]
  },
  {
   "cell_type": "markdown",
   "metadata": {},
   "source": [
    "## Skewness Exercise"
   ]
  },
  {
   "cell_type": "markdown",
   "metadata": {},
   "source": [
    "## Variance"
   ]
  },
  {
   "cell_type": "markdown",
   "metadata": {},
   "source": [
    "## Variance Exercise"
   ]
  },
  {
   "cell_type": "markdown",
   "metadata": {},
   "source": [
    "## Standard Deviation and Coefficient of Varition"
   ]
  },
  {
   "cell_type": "markdown",
   "metadata": {},
   "source": [
    "## Standard Deviation and Coefficient of Varition Exercise"
   ]
  },
  {
   "cell_type": "markdown",
   "metadata": {},
   "source": [
    "## Covariance"
   ]
  },
  {
   "cell_type": "markdown",
   "metadata": {},
   "source": [
    "## Covariance Exercise"
   ]
  },
  {
   "cell_type": "markdown",
   "metadata": {},
   "source": [
    "## Correlation Coefficient"
   ]
  },
  {
   "cell_type": "markdown",
   "metadata": {},
   "source": [
    "## Correlation Coefficient Exercise"
   ]
  },
  {
   "cell_type": "markdown",
   "metadata": {},
   "source": []
  }
 ],
 "metadata": {
  "kernelspec": {
   "display_name": "Python 3.9.13 64-bit (microsoft store)",
   "language": "python",
   "name": "python3"
  },
  "language_info": {
   "codemirror_mode": {
    "name": "ipython",
    "version": 3
   },
   "file_extension": ".py",
   "mimetype": "text/x-python",
   "name": "python",
   "nbconvert_exporter": "python",
   "pygments_lexer": "ipython3",
   "version": "3.9.13"
  },
  "orig_nbformat": 4,
  "vscode": {
   "interpreter": {
    "hash": "1b600a3438a79bc98971c3547d28f531d0c8ed6c91b96b1480a504fa30005dbe"
   }
  }
 },
 "nbformat": 4,
 "nbformat_minor": 2
}
