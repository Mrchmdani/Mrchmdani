{
 "cells": [
  {
   "cell_type": "markdown",
   "metadata": {},
   "source": [
    "Source : https://www.udemy.com/course/the-data-science-course-complete-data-science-bootcamp/"
   ]
  },
  {
   "cell_type": "markdown",
   "metadata": {},
   "source": [
    "# **02. The Field of Data Science - The Various Data Science Disciplines**"
   ]
  },
  {
   "cell_type": "markdown",
   "metadata": {},
   "source": [
    "## Data Science and Business Buzzwords: Why are there so Many?"
   ]
  },
  {
   "cell_type": "markdown",
   "metadata": {},
   "source": [
    "Data Science and Business Buzzwords\n",
    "\n",
    "Job Confucion:\n",
    "\n",
    "1. The constant evolution of the data science industry\n",
    "    * Statistics, 25 years ago, responsible for:\n",
    "        * gathering and cleaning data sets\n",
    "        * applying statistical methods\n",
    "            * growth of data\n",
    "            * radical improvement of technology\n",
    "        * extracting patterns from data\n",
    "    * Data Mining, 20 years ago, responsible for:\n",
    "        * gathering and cleaning data sets\n",
    "        * applying statistical methods\n",
    "            * growth of data\n",
    "            * radical improvement of technology\n",
    "        * extracting patterns from data\n",
    "            * new models\n",
    "        * performing more accurate forecast\n",
    "    * Predictive Analytics, 10 years ago, responsible for:\n",
    "        * gathering and cleaning data sets\n",
    "        * applying statistical methods\n",
    "        * extracting patterns from data\n",
    "        * performing more accurate forecast\n",
    "    * Predictive Analytics, Now, responsible for:\n",
    "        * All Above\n",
    "2. HR Managers\n",
    "    * Label job positions inaccurately"
   ]
  },
  {
   "cell_type": "markdown",
   "metadata": {},
   "source": [
    "## What is the difference between Analysis and Analytics"
   ]
  },
  {
   "cell_type": "markdown",
   "metadata": {},
   "source": [
    "### Analysis vs Analytics"
   ]
  },
  {
   "cell_type": "markdown",
   "metadata": {},
   "source": [
    "1. Analysis\n",
    "    * Perform analysis data that have already happened in the past and explaining how or why something happen\n",
    "        * Separating entire data into multiple data and study them individualy, then examine how they relate to other parts. \n",
    "2. Analytics\n",
    "    * Explore potential future events instead of past events\n",
    "    * Analytics is essentially the application of logical and computational reasoning to the component parts obtained in an analysis.\n",
    "    * Looking for patterns and exploring what you could do with them in the future."
   ]
  },
  {
   "cell_type": "markdown",
   "metadata": {},
   "source": [
    "### Analytics Branches"
   ]
  },
  {
   "cell_type": "markdown",
   "metadata": {},
   "source": [
    "1. Qualitative Analytics (intuition + analysis)\n",
    "    * using your intuition and experience in conjunction with the analysis to plan your next business move.\n",
    "2. Quantitative Analytics (formula + algorithms)\n",
    "    * applying formulas and algorithms to numbers you have gathered from your analysis."
   ]
  },
  {
   "cell_type": "markdown",
   "metadata": {},
   "source": [
    "### To Do:"
   ]
  },
  {
   "cell_type": "markdown",
   "metadata": {},
   "source": [
    "1. Perform qualitative analysis, to explain how or why a story ended the way it did.\n",
    "2. Perform quantitative analysis, working with past data to explain how sales decreased last summer.\n",
    "3. Perform qualitative analytics, to plan next business move.\n",
    "4. Perform qualitative analytics, by applying formulas and algorithms for the future"
   ]
  },
  {
   "cell_type": "markdown",
   "metadata": {},
   "source": [
    "* Analysis != Analytics\n",
    "* Data Analysis != Data Analytics\n",
    "* Business Analysis != Business Analytics"
   ]
  },
  {
   "cell_type": "markdown",
   "metadata": {},
   "source": [
    "## Business Analytics, Data Analytics, and Data Science: An Introduction"
   ]
  },
  {
   "cell_type": "markdown",
   "metadata": {},
   "source": [
    "### Diagram"
   ]
  },
  {
   "cell_type": "markdown",
   "metadata": {},
   "source": [
    "![Alt text](img/365_DataScience_Diagram.jpg)"
   ]
  },
  {
   "cell_type": "markdown",
   "metadata": {},
   "source": [
    "* Business activities would overlap the rectangle because some are data-driven, while others are subjective or experience-driven.\n",
    "* Some of the terms refer to activities that aim to explain past behavior, while others refer to activities used for predicting future behavior.\n",
    "* Data science is a discipline reliant on data availability, while business analytics does not completely rely on data. However, data science incorporates part of data analytics, mostly the part that uses complex mathematical, statistical and programming tools.\n",
    "* Data science can be used to improve the accuracy of predictions based on data extracted from various activities typical for drilling efficiency, and that certainly isn't business analytics."
   ]
  },
  {
   "cell_type": "markdown",
   "metadata": {},
   "source": [
    "## Continuing with BI, ML, and AI"
   ]
  },
  {
   "cell_type": "markdown",
   "metadata": {},
   "source": [
    "![Alt text](img/365_DataScience_Diagram.jpg)"
   ]
  },
  {
   "cell_type": "markdown",
   "metadata": {},
   "source": [
    "### Business Intelegence (BI)"
   ]
  },
  {
   "cell_type": "markdown",
   "metadata": {},
   "source": [
    "* Business intelligence or BI, is the process of analyzing and reporting historical business data.\n",
    "    * After reports and dashboards have been prepared they can be used to make informed strategic and tactical business decisions by end users, such as the general manager.\n",
    "* Business intelligence aims to explain past events using business data."
   ]
  },
  {
   "cell_type": "markdown",
   "metadata": {},
   "source": [
    "### Machine Learning (ML)"
   ]
  },
  {
   "cell_type": "markdown",
   "metadata": {},
   "source": [
    "* The ability of machines to predict outcomes without being explicitly programmed\n",
    "* ML'S about creating and implementing algorithms that let machines receive data and use this data to make predictions, analyze patterns and give recommendations on their own.\n",
    "* Machine learning cannot be implemented without data."
   ]
  },
  {
   "cell_type": "markdown",
   "metadata": {},
   "source": [
    "### Artificial Intelligence (AI)"
   ]
  },
  {
   "cell_type": "markdown",
   "metadata": {},
   "source": [
    "* simulating human knowledge and decision making with computers."
   ]
  },
  {
   "cell_type": "markdown",
   "metadata": {},
   "source": [
    "##  A Breakdown of our Data Science Infographic"
   ]
  },
  {
   "cell_type": "markdown",
   "metadata": {},
   "source": [
    "![Alt text](img/365_DataScience.png)"
   ]
  },
  {
   "cell_type": "markdown",
   "metadata": {},
   "source": [
    "# **03. The Field of Data Science - Connecting the Data Science Disciplines**"
   ]
  },
  {
   "cell_type": "markdown",
   "metadata": {},
   "source": [
    "## Applying Traditional Data, Big Data, BI, Traditional Data Science and ML"
   ]
  },
  {
   "cell_type": "markdown",
   "metadata": {},
   "source": [
    "### Data"
   ]
  },
  {
   "cell_type": "markdown",
   "metadata": {},
   "source": [
    "#### Traditional Data"
   ]
  },
  {
   "cell_type": "markdown",
   "metadata": {},
   "source": [
    "* Data in the form of tables containing numeric or text values.\n",
    "* Data that is structured and stored in databases which can be managed from one computer."
   ]
  },
  {
   "cell_type": "markdown",
   "metadata": {},
   "source": [
    "#### Big Data"
   ]
  },
  {
   "cell_type": "markdown",
   "metadata": {},
   "source": [
    "* 'big data' is a term reserved for extremely large data.\n",
    "* the data could be in various formats.\n",
    "* It can be structured, semi-structured or unstructured.\n",
    "* it can be categorised by the letter \"V\"\n",
    "    * the 3Vs of big data\n",
    "    * the 5Vs of big data\n",
    "    * the 7Vs of big data\n",
    "    * the 11Vs of big data\n",
    "        * the vision you have about big data,\n",
    "        * the value big data carries,\n",
    "        * the visualisation tools you use\n",
    "        * the variability and the consistency in big data \n",
    "        * and so on."
   ]
  },
  {
   "cell_type": "markdown",
   "metadata": {},
   "source": [
    "##### Traditional Data vs Big Data"
   ]
  },
  {
   "cell_type": "markdown",
   "metadata": {},
   "source": [
    "* Volume\n",
    "    * Big data needs a whopping amount of memory space. Typically distributed between many computers, its size is measured in terabytes, petabytes and even exabytes.\n",
    "* Variety\n",
    "    * Big data often implies dealing with images, audio files, mobile data and others.\n",
    "* Velocity\n",
    "    * Ones goal is to make extracting patterns from it as quickly as possible. The progress that has been done in this area is remarkable. Outputs from huge data sets can be retrieved in real-time. This means they can be extracted so quickly that a result could be computed immediately, after the source data has been obtained."
   ]
  },
  {
   "cell_type": "markdown",
   "metadata": {},
   "source": [
    "### Data Science"
   ]
  },
  {
   "cell_type": "markdown",
   "metadata": {},
   "source": [
    "* Data Science is a broad subject its an interdisciplinary field that combines: \n",
    "    * statistical, \n",
    "    * mathematical, \n",
    "    * programming, \n",
    "    * problem-solving and \n",
    "    * data-management tools."
   ]
  },
  {
   "cell_type": "markdown",
   "metadata": {},
   "source": [
    "#### BI"
   ]
  },
  {
   "cell_type": "markdown",
   "metadata": {},
   "source": [
    "* Business intelligence is the discipline you need for analyse the past data you have acquired. BI includes technology driven tools involved in the process of analyzing, understanding and reporting available past data.\n",
    "    * This will result  having reports or dashboards and will help on your way to making informed strategic and tactical business decisions.\n",
    "    * extract insights and ideas about your business that will help it grow and give an edge of your competitors, adding stability.\n",
    "* Business intelligence means understanding how your sales grew and why?\n",
    "    * Did competitors lose market share?\n",
    "    * Was there an increase in the price of your products?\n",
    "    * Did you sell a mix of more expensive products?\n",
    "    * How did your profitability margins behave in the same timeframe of a previous year?\n",
    "    * Were there client accounts that were more profitable?\n",
    "*Understanding past business performance in order to improve future performance."
   ]
  },
  {
   "cell_type": "markdown",
   "metadata": {},
   "source": [
    "#### Traditional Data Science"
   ]
  },
  {
   "cell_type": "markdown",
   "metadata": {},
   "source": [
    "* Traditional methods or traditional data science are a set of methods that are derived mainly from statistics and are adapted for business.\n",
    "* Perfect for forecasting future performance with great accuracy.\n",
    "    * regression analyses, \n",
    "    * cluster analyses and \n",
    "    * factor analyses."
   ]
  },
  {
   "cell_type": "markdown",
   "metadata": {},
   "source": [
    "#### Machine Learning"
   ]
  },
  {
   "cell_type": "markdown",
   "metadata": {},
   "source": [
    "* With machine learning in contrast to traditional methods, the responsibility is left for the machine, through mathematics, a significant amount of computer power and applying AI the machine is given the ability to predict outcomes from data without being explicitly programmed too.\n",
    "* ML knows all about creating algorithms that let machines \n",
    "    * receive data, \n",
    "    * perform calculations and \n",
    "    * apply statistical analyses in order to make predictions with unprecedented accuracy."
   ]
  },
  {
   "cell_type": "markdown",
   "metadata": {},
   "source": [
    "# **04. The Field of Data Science - The Benefits of Each Discipline**"
   ]
  },
  {
   "cell_type": "markdown",
   "metadata": {},
   "source": [
    "* There are two types of data, traditional and big data. While different, their role in the business is the same.\n",
    "* Data-driven decisions require well-organized and relevant raw data stored in a digital format data which can be processed and transformed into meaningful and useful information. This is essential for companies when planning and decision-making.\n",
    "* Data is the foundation. It is the material on which you base your analysis. Without data, a decision-maker wouldn't be able to test their decisions and ensure they have taken the right course of action.\n",
    "\n",
    "* The job of the business intelligence analyst is to study the numbers and explain where and why some things went well and others not so well. While having the business context in mind, the business intelligence analyst will present the data in the form of reports and dashboards. They translates raw data into metrics and visualizations which show past trends and characteristics of the business.\n",
    "* Like a translator studying ancient hieroglyphics, Business Intelligence there to find patterns and stories within the pictures, they will stay seemingly meaningless, but what else is needed once the patterns have been interpreted? You can forecast potential future outcomes. The application of any term related to the columns, traditional methods or machine learning, can be said to belong to the field of predictive analytics. While the goal of traditional methods and machine learning are essentially the same and techniques can overlap, there is a difference between the two.\n",
    "* Traditional methods relate to traditional data. They were designed prior to the existence of big data, where the technology simply wasn't as advanced as it is today. They involve applying statistical approaches to create predictive models. If you want to dig deeper, however, or tackle huge amounts of big data utilizing unconventional methods or AI, then you can predict behavior in unprecedented ways, using machine learning techniques and tools. Both techniques are useful for different purposes.\n",
    "    * Traditional methods are better suited for traditional data, while \n",
    "    * Machine learning will have better results when it comes to tackling big data."
   ]
  },
  {
   "cell_type": "markdown",
   "metadata": {},
   "source": [
    "# **05. The Field of Data Science - Popular Data Science Techniques**"
   ]
  },
  {
   "cell_type": "markdown",
   "metadata": {},
   "source": [
    "![Alt text](img/365_DataScience.png)"
   ]
  },
  {
   "cell_type": "markdown",
   "metadata": {},
   "source": [
    "## Techniques for Working with Traditional Data"
   ]
  },
  {
   "cell_type": "markdown",
   "metadata": {},
   "source": [
    "* Raw Data / Gathering Data\n",
    "    * Raw data, also called raw facts or primary data, is \n",
    "        * data which cannot be analyzed straight away. \n",
    "        * It is untouched data you have accumulated and stored on the server. \n",
    "        * The gathering of raw data is referred to as data collection.\n",
    "    * Data can be collected in several ways.\n",
    "        * Survey\n",
    "        * Cookies\n",
    "        * etc\n",
    "* Pre-Processing\n",
    "    * Group of operations that will basically convert your raw data into a format that is more understandable and hence useful for further processing. It attempts to fix the problems that can inevitably occur with data gathering.\n",
    "        * Class Labeling\n",
    "            * numerical (can be manipulated)\n",
    "            * categorical (cannot be manipulated)\n",
    "        * Data cleansing / Data cleaning\n",
    "        * Dealing with Missing Value\n",
    "    * Case Specific: \n",
    "        * Data Balancing\n",
    "        * Data Shuffling\n",
    "            * prevent unwanted pattern\n",
    "            * improves predictive performance\n",
    "            * help avooid misleading results\n",
    "* Graph - Visualization associated with relational database management system\n",
    "    * entity-relationship diagram (ER diagram)\n",
    "    * relational schema"
   ]
  },
  {
   "cell_type": "markdown",
   "metadata": {},
   "source": [
    "### Real Life Examples of Traditional Data"
   ]
  },
  {
   "cell_type": "markdown",
   "metadata": {},
   "source": [
    "Numerical vs Categorical"
   ]
  },
  {
   "cell_type": "markdown",
   "metadata": {},
   "source": [
    "![Alt text](img/numerical%20vs%20categorical1.jpg)\n",
    "![Alt text](img/numerical%20vs%20categorical2.jpg)"
   ]
  },
  {
   "cell_type": "markdown",
   "metadata": {},
   "source": [
    "![Alt text](img/numerical%20vs%20categorical3.jpg)\n",
    "![Alt text](img/numerical%20vs%20categorical4.jpg)"
   ]
  },
  {
   "cell_type": "markdown",
   "metadata": {},
   "source": [
    "## Techniques for Working with Big Data"
   ]
  },
  {
   "cell_type": "markdown",
   "metadata": {},
   "source": [
    "* Some of the approaches used on traditional data can also be implemented on big data.\n",
    "* Collecting and pre-processing big data is essential to help organize the data before doing analyses or making predictions, as is grouping the data into classes or categories.\n",
    "* While working with big data, things can get a little more complex and you have much more variety beyond the simple distinction of numerical and categorical data.\n",
    "    * examples pre=processing of big data can be: \n",
    "        * text data, \n",
    "        * digital image data,\n",
    "        * digital video data, \n",
    "        * digital audio data, \n",
    "        * data cleansing\n",
    "            * a wider range of data cleansing method\n",
    "        * dealing with missing value\n",
    "            * the most crucial with big data.\n",
    "    * Case specific:\n",
    "        * text data mining\n",
    "            * Text data mining represents the process of deriving valuable unstructured data from a text.\n",
    "        * confidentiality - preserving data mining techniques (data masking)\n",
    "            * conceals the original data with random and false data\n",
    "            * allowing you to conduct analysis and \n",
    "            * keep all confidential information in a secure place.\n",
    "* Graph\n",
    "    * relational database"
   ]
  },
  {
   "cell_type": "markdown",
   "metadata": {},
   "source": [
    "### Real Life Examples of Big Data"
   ]
  },
  {
   "cell_type": "markdown",
   "metadata": {},
   "source": [
    "![Alt text](img/big%20data1.jpg)"
   ]
  },
  {
   "cell_type": "markdown",
   "metadata": {},
   "source": [
    "![Alt text](img/big%20data2.jpg)"
   ]
  },
  {
   "cell_type": "markdown",
   "metadata": {},
   "source": [
    "## Business Intelligence (BI) Techniques"
   ]
  },
  {
   "cell_type": "markdown",
   "metadata": {},
   "source": [
    "* Business intelligence is the point where all your data skills combine with business knowledge and intuition to explain the past performance of company with conviction.\n",
    "* You would confidently be able to answer questions such as:\n",
    "    * What happened? When did it happen?\n",
    "    * How many units did we sell?\n",
    "    * In which region did we sell the most goods? \n",
    "    * And many more.\n",
    "* A good business intelligence analyst does not look at a problem from only one angle. BI will be able to extract any and all information required to solve this problem.\n",
    "* BI will be capable of answering simple questions from manager, like:\n",
    "    * \"What's the news regarding our email marketing?\"\n",
    "    * \"How did our email marketing perform last quarter in terms of click-through rates and revenue generated\n",
    "    * how does that compare to the performance in the same quarter of last year?\"\n",
    "* Example: How to measure  business performance?\n",
    "    * Collecting Observation\n",
    "        * monthly revenues\n",
    "        * costumer\n",
    "    * quantify information\n",
    "        * representing observations as number\n",
    "    * measure\n",
    "        * the accumulation of observations to show some information\n",
    "* Analyze the Data\n",
    "    * Extract info and present it in the form of:\n",
    "        * metrics\n",
    "            * A metric refers to a value that derives from the measures you have obtained and aims at gauging business performance or progress.\n",
    "            * measure vs matrics\n",
    "                * measure - releated to a simple descriptive meatrics of past performance\n",
    "                * matric = measure + business meaning\n",
    "        * Key performance indicators (KPIs)\n",
    "            * Key = related to main business goals\n",
    "            * Performance = how successfully you have performed within a specified timeframe\n",
    "            * Indicators = generated only from users who have clicked on a link provided in you ad campaign\n",
    "            * KPIs = metrics + business objectives\n",
    "        * Reports\n",
    "        * Dashboard"
   ]
  },
  {
   "cell_type": "markdown",
   "metadata": {},
   "source": [
    "### Real Life Examples of Business Intelligence (BI)"
   ]
  },
  {
   "cell_type": "markdown",
   "metadata": {},
   "source": [
    "* Hotels use price optimization very effectively by raising the price of a room at periods when many people want to visit the hotel and by reducing it to attract visitors when demand is low, they can greatly increase their profits. In order to competently apply such a strategy they must extract the relevant information in real time and compare it with historicals. BI allows you to adjust your strategy to pass data as soon as it is available.\n",
    "\n",
    "* Over and under supply can cause problems in a business. However, implementing effective inventory management means supplying enough stock to meet demand, with the minimal amount of waste and cost. To do this well, you can perform an in depth analysis of past sales transactions for the purpose of identifying seasonality patterns and the times of the year with the highest sales. Additionally, you could track your inventory to identify the months of which you have over or under stocked. A detailed analysis can even pinpoint the day or time of day where the need for a good is highest. If done right, business intelligence will help to efficiently manage your shipment logistics and in turn reduce costs and increase profit."
   ]
  },
  {
   "cell_type": "markdown",
   "metadata": {},
   "source": [
    "## Techniques for Working with Traditional Methods"
   ]
  },
  {
   "cell_type": "markdown",
   "metadata": {},
   "source": [
    "* Regression Analysis is a model used for quantifying causal relationships among the different variables included in your analysis.\n",
    "![Alt text](img/linear%20regression.jpg)\n",
    "![Alt text](img/logistic%20regression.jpg)"
   ]
  },
  {
   "cell_type": "markdown",
   "metadata": {},
   "source": [
    "* Cluster Analysis or clustering is the task of grouping a set of objects in such a way that objects in the same group are more similar to each other than to those in other groups.\n",
    "![Alt text](img/cluster%20regression.jpg)"
   ]
  },
  {
   "cell_type": "markdown",
   "metadata": {},
   "source": [
    "* Factor Analysis is a statistical method used to describe variability among observed, correlated variables in terms of a potentially lower number of unobserved variables called factors.\n",
    "![Alt text](img/factor%20analysis.jpg)"
   ]
  },
  {
   "cell_type": "markdown",
   "metadata": {},
   "source": [
    "* Time Series Analysis is a specific way of analyzing a sequence of data points collected over an interval of time.\n",
    "![Alt text](img/time%20series.jpg)"
   ]
  },
  {
   "cell_type": "markdown",
   "metadata": {},
   "source": [
    "### Real Life Examples of Traditional Methods"
   ]
  },
  {
   "cell_type": "markdown",
   "metadata": {},
   "source": [
    "* User Experience (UX)\n",
    "* Sales Forecasting"
   ]
  },
  {
   "cell_type": "markdown",
   "metadata": {},
   "source": [
    "## Machine Learning (ML) Techniques"
   ]
  },
  {
   "cell_type": "markdown",
   "metadata": {},
   "source": [
    "* What is at the core of machine learning? Creating an algorithm, which a computer then uses to find a model that fits the data as best as possible. And makes very accurate predictions based on that.\n",
    "* A machine learning algorithm is like a trial and error process, but the special thing about it is that each consecutive trial is at least as good as the previous one. There are four ingredients: \n",
    "    * data, \n",
    "    * model, \n",
    "    * objective function, and \n",
    "    * optimization algorithm.\n",
    "* Benefit ML\n",
    "    * Can learn more effectively\n",
    "    * improve complex computational models"
   ]
  },
  {
   "cell_type": "markdown",
   "metadata": {},
   "source": [
    "### Types of Machine Learning"
   ]
  },
  {
   "cell_type": "markdown",
   "metadata": {},
   "source": [
    "* Supervised Learning is a subcategory of machine learning and artificial intelligence. It is defined by its use of labeled datasets to train algorithms that to classify data or predict outcomes accurately.\n",
    "    * SVMs\n",
    "    * NNs\n",
    "    * Deep Learning\n",
    "    * Random Forsts\n",
    "    * Boyesian Networks\n",
    "\n",
    "* Unsupervised Learning uses machine learning algorithms to analyze and cluster unlabeled datasets. These algorithms discover hidden patterns or data groupings without the need for human intervention.\n",
    "    * K-means\n",
    "    * Deep Learning\n",
    "\n",
    "* Reiforcement Learning is an approach to machine learning that learns by doing. While other machine learning techniques learn by passively taking input data and finding patterns within it, RL uses training agents to actively make decisions and learn from their outcomes.\n",
    "    * Deep Learning\n"
   ]
  },
  {
   "cell_type": "markdown",
   "metadata": {},
   "source": [
    "### Real Life Examples of Machine Learning (ML)"
   ]
  },
  {
   "cell_type": "markdown",
   "metadata": {},
   "source": [
    "* Fraud Detection\n",
    "* Client Retention"
   ]
  },
  {
   "cell_type": "markdown",
   "metadata": {},
   "source": [
    "# **06. The Field of Data Science - Popular Data Tools**"
   ]
  },
  {
   "cell_type": "markdown",
   "metadata": {},
   "source": [
    "## Necessary Programming Languages and Software Used in Data Science"
   ]
  },
  {
   "cell_type": "markdown",
   "metadata": {},
   "source": [
    "* Programing Language\n",
    "    * R and Python are the two most popular tools across all columns. Their biggest advantage is that they can manipulate data, and are integrated with the multiple data and data science software platforms.\n",
    "        * suitable for mathematical and statistical computations.\n",
    "        * R and Python are adaptable.\n",
    "            * Can solve a wide variety of business and data related problems from beginning to the end.\n",
    "            * R and Python limitations, they are not able to address problems specific to some domains. One example is relational database management systems (SQL)\n",
    "    * SQL\n",
    "        * advantageous with traditional historical data and preparing B-I analysis\n",
    "    * MATLAB\n",
    "        * Ideal for working with mathematical functions or matrix manipulations.\n",
    "* Software\n",
    "* smaller scope and a lot easier to learn\n",
    "    * Excel\n",
    "        * able to do relatively complex computations and good visualizations quickly\n",
    "    * IBM SPSS\n",
    "    * APACHE\n",
    "    * MONGO DB"
   ]
  },
  {
   "cell_type": "markdown",
   "metadata": {},
   "source": [
    "![Alt text](img/theoretical%20vs%20software%20vs%20programing%20language.jpg)"
   ]
  },
  {
   "cell_type": "markdown",
   "metadata": {},
   "source": [
    "# **07. The Field of Data Science - Careers in Data Science**"
   ]
  },
  {
   "cell_type": "markdown",
   "metadata": {},
   "source": [
    "## Finding the Job - What to Expect and What to Look for"
   ]
  },
  {
   "cell_type": "markdown",
   "metadata": {},
   "source": [
    "![Alt text](img/job1.jpg)"
   ]
  },
  {
   "cell_type": "markdown",
   "metadata": {},
   "source": [
    "![Alt text](img/job2.jpg)"
   ]
  },
  {
   "cell_type": "markdown",
   "metadata": {},
   "source": [
    "![Alt text](img/job3.jpg)"
   ]
  },
  {
   "cell_type": "markdown",
   "metadata": {},
   "source": [
    "# **08. The Field of Data Science - Debunking Common Misconceptions**"
   ]
  },
  {
   "cell_type": "markdown",
   "metadata": {},
   "source": [
    "## Debunking Common Missconceptions"
   ]
  },
  {
   "cell_type": "markdown",
   "metadata": {},
   "source": [
    "![Alt text](img/debunking%20common%20missconceptions.jpg)"
   ]
  },
  {
   "cell_type": "markdown",
   "metadata": {},
   "source": [
    "![Alt text](img/debunking%20common%20missconceptions1.jpg)"
   ]
  },
  {
   "cell_type": "markdown",
   "metadata": {},
   "source": [
    "![Alt text](img/debunking%20common%20missconceptions2.jpg)\n",
    "![Alt text](img/debunking%20common%20missconceptions2a.jpg)"
   ]
  },
  {
   "cell_type": "markdown",
   "metadata": {},
   "source": [
    "![Alt text](img/debunking%20common%20missconceptions3.jpg)"
   ]
  },
  {
   "cell_type": "markdown",
   "metadata": {},
   "source": [
    "# **09. Probability**"
   ]
  },
  {
   "cell_type": "markdown",
   "metadata": {},
   "source": [
    "## The Basic Probability Formula"
   ]
  },
  {
   "cell_type": "markdown",
   "metadata": {},
   "source": [
    "* Probability and statistical data can predict how likely each outcome is and make the right call for their firm.\n",
    "* Essentially, probability is the chance of something happening.\n",
    "* Academic definition probability is likelihood of an event occurring."
   ]
  },
  {
   "cell_type": "markdown",
   "metadata": {},
   "source": [
    "![Alt text](img/coin%20flip.jpg)"
   ]
  },
  {
   "cell_type": "markdown",
   "metadata": {},
   "source": [
    "![Alt text](img/dice.jpg)"
   ]
  },
  {
   "cell_type": "markdown",
   "metadata": {},
   "source": [
    "![Alt text](img/dice2.jpg)"
   ]
  },
  {
   "cell_type": "markdown",
   "metadata": {},
   "source": [
    "![Alt text](img/dice3.jpg)"
   ]
  },
  {
   "cell_type": "markdown",
   "metadata": {},
   "source": [
    "![Alt text](img/dice4.jpg)"
   ]
  },
  {
   "cell_type": "markdown",
   "metadata": {},
   "source": [
    "![Alt text](img/lottery.jpg)"
   ]
  },
  {
   "cell_type": "markdown",
   "metadata": {},
   "source": [
    "## Computing Expected Values"
   ]
  },
  {
   "cell_type": "markdown",
   "metadata": {},
   "source": [
    "* Expected values represent what we expect the outcome to be if we run an experiment many times.\n",
    "* expected value is used when trying to predict future events.\n",
    "<br><br>\n",
    "![Alt text](img/expected%20values1.jpg)\n",
    "<br><br>\n",
    "![Alt text](img/expected%20values2.jpg)"
   ]
  },
  {
   "cell_type": "markdown",
   "metadata": {},
   "source": [
    "* The probabilities we get after conducting experiments are called **experimental probabilities**, whereas the ones we introduced earlier were **theoretical or true probabilities**.\n",
    "![Alt text](img/experimental%20probabilities1.jpg)\n",
    "<br>\n",
    "<br>\n",
    "![Alt text](img/experimental%20probabilities2.jpg)"
   ]
  },
  {
   "cell_type": "markdown",
   "metadata": {},
   "source": [
    "---"
   ]
  },
  {
   "cell_type": "markdown",
   "metadata": {},
   "source": [
    "![Alt text](img/expected%20values3.jpg)\n",
    "<br><br>\n",
    "![Alt text](img/expected%20values4.jpg)\n",
    "<br><br>\n",
    "![Alt text](img/categorical%20outcomes0.jpg)\n",
    "<br><br>\n",
    "![Alt text](img/cathegorical%20outcomes1.jpg)\n",
    "<br><br>\n",
    "![Alt text](img/cathegorical%20outcomes2.jpg)"
   ]
  },
  {
   "cell_type": "markdown",
   "metadata": {},
   "source": [
    "---"
   ]
  },
  {
   "cell_type": "markdown",
   "metadata": {},
   "source": [
    "![Alt text](img/numerical%20outcomes1.jpg)\n",
    "![Alt text](img/numerical%20outcomes2.jpg)\n",
    "![Alt text](img/numerical%20outcomes3.jpg)\n",
    "![Alt text](img/numerical%20outcomes4.jpg)"
   ]
  },
  {
   "cell_type": "markdown",
   "metadata": {},
   "source": [
    "* We can use expected values to make predictions about the future based on past data.\n",
    "* We frequently make predictions using intervals instead of specific values due to the uncertainty the future brings. Meteorologists often use these when forecasting the weather."
   ]
  },
  {
   "cell_type": "markdown",
   "metadata": {},
   "source": [
    "## Frequency Distribution"
   ]
  },
  {
   "cell_type": "markdown",
   "metadata": {},
   "source": [
    "* **Probability frequency distribution** is a collection of the probabilities for each possible outcome.\n",
    "<br><br>\n",
    "![Alt text](img/probability%20frequency%20distribution0.jpg)\n",
    "<br><br>\n",
    "![Alt text](img/probability%20frequency%20distribution1.jpg)\n",
    "<br><br>\n",
    "![Alt text](img/probability%20frequency%20distribution%202.jpg)\n",
    "<br><br>\n",
    "* Knowing the size of the sample space, we can determine the true probabilities for each outcome. We simply divide the frequency for each possible outcome by the size of the sample space.\n",
    "\n"
   ]
  },
  {
   "cell_type": "markdown",
   "metadata": {},
   "source": [
    "## Events and Their Complements"
   ]
  },
  {
   "cell_type": "markdown",
   "metadata": {},
   "source": [
    "* Compliment of an event is everything the event is not.\n",
    "![Alt text](img/compliment1.jpg)\n",
    "![Alt text](img/compliment2.jpg)"
   ]
  },
  {
   "cell_type": "markdown",
   "metadata": {},
   "source": [
    "* if we have a sum of probabilities greater than one? Recall that probability of one expresses absolute certainty. By definition we cannot be any sure than being absolutely sure. So a probability of 1.5 does not make intuitive sense.\n",
    "<br><br>\n",
    "![Alt text](img/compliment4.jpg)\n",
    "<br><br>\n",
    "* if we end up with a sum of probabilities less than one, then we have surely not accounted for one or several possible outcomes.\n",
    "* Probability expresses the likelihood of an event occurring, so any probability less than one is not guaranteed to occur.\n",
    "<br><br>\n",
    "![Alt text](img/compliment5.jpg)\n",
    "<br><br>\n",
    "![Alt text](img/compliment6.jpg)\n",
    "* A` is compliment\n",
    "<br><br>\n",
    "![Alt text](img/compliment7.jpg)\n",
    "<br><br>\n",
    "![Alt text](img/compliment8.jpg)\n",
    "<br><br>\n",
    "![Alt text](img/compliment9.jpg)\n",
    "<br><br>\n",
    "![Alt text](img/compliment10.jpg)"
   ]
  },
  {
   "cell_type": "markdown",
   "metadata": {},
   "source": [
    "# **10. Probability - Combinatorics**"
   ]
  },
  {
   "cell_type": "markdown",
   "metadata": {},
   "source": [
    "## Fundamentals of Combinatorics"
   ]
  },
  {
   "cell_type": "markdown",
   "metadata": {},
   "source": [
    "* **Combinatorics** deals with combinations of objects from a specific finite **set**. \n",
    "    * restrictions :\n",
    "        * repetition, \n",
    "        * order, or \n",
    "        * a different criterion.\n",
    "* Parts of combinatorics:\n",
    "    * permutations, \n",
    "    * variations, and \n",
    "    * combinations.\n",
    "* each of these parts to determine the number of favorable outcomes or the number of all elements in a sample space."
   ]
  },
  {
   "cell_type": "markdown",
   "metadata": {},
   "source": [
    "![Alt text](img/Combinatorics2.jpg)\n",
    "![Alt text](img/Combinatorics1.jpg)"
   ]
  },
  {
   "cell_type": "markdown",
   "metadata": {},
   "source": [
    "## Permutations and How to Use Them"
   ]
  },
  {
   "cell_type": "markdown",
   "metadata": {},
   "source": [
    "* Permutations represents the number of different possible ways we can arrange a set of elements.\n",
    "    * digits, \n",
    "    * letters, \n",
    "    * objects, or \n",
    "    * even people."
   ]
  },
  {
   "cell_type": "markdown",
   "metadata": {},
   "source": [
    "![Alt text](img/permutation1.jpg)\n",
    "![Alt text](img/permutation2.jpg)\n",
    "* The order in which we fill them out is completely up to us.\n",
    "* n = different possible winners.\n",
    "* n-1 =  many possibilities for the second slot\n",
    "* n-2 = possible outcomes for who finishes third"
   ]
  },
  {
   "cell_type": "markdown",
   "metadata": {},
   "source": [
    "## Simple Operations with Factorials"
   ]
  },
  {
   "cell_type": "markdown",
   "metadata": {},
   "source": [
    "![Alt text](img/factorial1.jpg)\n",
    "![Alt text](img/factorial2.jpg)\n",
    "![Alt text](img/factorial3.jpg)\n",
    "![Alt text](img/factorial4.jpg)\n",
    "![Alt text](img/factorial5.jpg)\n",
    "![Alt text](img/factorial6.jpg)\n",
    "![Alt text](img/factorial7.jpg)"
   ]
  },
  {
   "cell_type": "markdown",
   "metadata": {},
   "source": [
    "## Solving Variations with Repetition"
   ]
  },
  {
   "cell_type": "markdown",
   "metadata": {},
   "source": [
    "* Variations, express the total number of ways we can pick and arrange some elements of a given set.\n",
    "![Alt text](img/variation1.jpg)\n",
    "![Alt text](img/variation2.jpg)\n",
    "![Alt text](img/variation3.jpg)"
   ]
  },
  {
   "cell_type": "markdown",
   "metadata": {},
   "source": [
    "## Solving Variations without Repetition"
   ]
  },
  {
   "cell_type": "markdown",
   "metadata": {},
   "source": [
    "* The further down the order, the fewer options are left with, since nobody is permitted to run multiple legs.\n",
    "* Variations without repetition is because we cannot use the same element twice if we already choose\n",
    "* Variations don't take into account double counting elements.\n",
    "![Alt text](img/variationwithoutrepetition1.jpg)\n",
    "![Alt text](img/variationwithoutrepetition2.jpg)"
   ]
  },
  {
   "cell_type": "markdown",
   "metadata": {},
   "source": [
    "## Solving Combinations"
   ]
  },
  {
   "cell_type": "markdown",
   "metadata": {},
   "source": [
    "* Combinations represent the number of different ways we can pick certain elements of a set.\n",
    "* Combination can take double counting element\n",
    "![Alt text](img/combination1.jpg)\n",
    "![Alt text](img/combination2.jpg)\n",
    "![Alt text](img/combination3.jpg)\n",
    "![Alt text](img/combination4.jpg)\n",
    "![Alt text](img/combination5.jpg)"
   ]
  },
  {
   "cell_type": "markdown",
   "metadata": {},
   "source": [
    "## Symmetry of Combinations"
   ]
  },
  {
   "cell_type": "markdown",
   "metadata": {},
   "source": [
    "![Alt text](img/symmetryofcombination1.jpg)\n",
    "![Alt text](img/symmetryofcombination2.jpg)"
   ]
  },
  {
   "cell_type": "markdown",
   "metadata": {},
   "source": [
    "## A Recap of Combinatorics"
   ]
  },
  {
   "cell_type": "markdown",
   "metadata": {},
   "source": [
    "![Alt text](img/recapcombination1.jpg)\n",
    "![Alt text](img/recapcombination2.jpg)\n",
    "![Alt text](img/recapcombination3.jpg)\n",
    "![Alt text](img/recapcombination4.jpg)\n",
    "![Alt text](img/recapcombination5.jpg)\n",
    "![Alt text](img/recapcombination6.jpg)"
   ]
  },
  {
   "cell_type": "markdown",
   "metadata": {},
   "source": [
    "# **11. Probability - Bayesian Inference**"
   ]
  },
  {
   "cell_type": "markdown",
   "metadata": {},
   "source": [
    "## Sets and Events"
   ]
  },
  {
   "cell_type": "markdown",
   "metadata": {},
   "source": [
    "* Every event has a set of outcomes (favourable outcomes)\n",
    "    * example: even number (2, 4, 6, ...)\n",
    "* Values of a set don't always have to be numerical\n",
    "* Any set can be either **empty** or have values in it\n",
    "    * the empty set = the null set"
   ]
  },
  {
   "cell_type": "markdown",
   "metadata": {},
   "source": [
    "* Non-Empty Sets\n",
    "    1. Finite\n",
    "    2. Infinite\n",
    "    * Depending on the number of elements they have."
   ]
  },
  {
   "cell_type": "markdown",
   "metadata": {},
   "source": [
    "![Alt text](img/sets2.jpg)\n",
    "![Alt text](img/sets3.jpg)\n",
    "![Alt text](img/sets4.jpg)\n",
    "![Alt text](img/sets5.jpg)\n",
    "![Alt text](img/sets6.jpg)\n",
    "![Alt text](img/sets7.jpg)\n",
    "![Alt text](img/sets9.jpg)"
   ]
  },
  {
   "cell_type": "markdown",
   "metadata": {},
   "source": [
    "## Ways sets Can Interact"
   ]
  },
  {
   "cell_type": "markdown",
   "metadata": {},
   "source": [
    "![Alt text](img/waysets1.jpg)\n",
    "![Alt text](img/waysets2.jpg)\n",
    "![Alt text](img/waysets3.jpg)"
   ]
  },
  {
   "cell_type": "markdown",
   "metadata": {},
   "source": [
    "* Intersecting\n",
    "    * The two events can occur at the same time\n",
    "* Completely Overlaping\n",
    "    * One Event can only ever occur if the other one does as well\n",
    "* Conclusion:\n",
    "    * If an outcome is NOT part of a SET, it CANNOT be part of any of its SUBSETS\n",
    "    * An outcome NOT being part of SOME subset, does NOT EXCLUDE it from the entirety of the greater set"
   ]
  },
  {
   "cell_type": "markdown",
   "metadata": {},
   "source": [
    "## Intersection of Sets"
   ]
  },
  {
   "cell_type": "markdown",
   "metadata": {},
   "source": [
    "* Intersections only when we want to denote instances where both events A and B happen simultaneously.\n",
    "\n",
    "![Alt text](img/intersection1.jpg)\n",
    "![Alt text](img/intersection2.jpg)\n",
    "![Alt text](img/intersection3.jpg)\n",
    "![Alt text](img/intersection4.jpg)\n",
    "![Alt text](img/intersection5.jpg)"
   ]
  },
  {
   "cell_type": "markdown",
   "metadata": {},
   "source": [
    "## Union of Sets"
   ]
  },
  {
   "cell_type": "markdown",
   "metadata": {},
   "source": [
    "The union of two sets is a combination of all outcomes preferred for either A or B.<br>\n",
    "![Alt text](img/union1.jpg)<br>\n",
    "To avoid confusion between the two, remember the symbol for union resembles a capital letter U.<br>\n",
    "![Alt text](img/union2.jpg)\n",
    "![Alt text](img/union3.jpg)\n",
    "![Alt text](img/union4.jpg)\n",
    "![Alt text](img/union5.jpg)"
   ]
  },
  {
   "cell_type": "markdown",
   "metadata": {},
   "source": [
    "## Mutually Exclusive Sets"
   ]
  },
  {
   "cell_type": "markdown",
   "metadata": {},
   "source": [
    "Mutually exclusive sets are sets which are not allowed to have any overlapping elements, graphically their circles never intersect.<br>\n",
    "Mutually exclusive sets have the empty set as their intersection. Therefore, if the intersection of any number of sets is the empty set, then they must be mutually exclusive and vice versa."
   ]
  },
  {
   "cell_type": "markdown",
   "metadata": {},
   "source": [
    "![Alt text](img/exclusivesets1.jpg)\n",
    "![Alt text](img/exclusivesets2.jpg)\n",
    "![Alt text](img/exclusivesets3.jpg)\n",
    "![Alt text](img/exclusivesets4.jpg)"
   ]
  },
  {
   "cell_type": "markdown",
   "metadata": {},
   "source": [
    "## Dependence and Independence Sets"
   ]
  },
  {
   "cell_type": "markdown",
   "metadata": {},
   "source": [
    "* Independent is the theoretical probability of which remains unaffected by other events.\n",
    "    * Example: is flipping a coin. You always have a 50% chance of getting tails regardless of the result obtained with the previous throw.\n",
    "* Dependence is Probabilities of dependent events vary as conditions change.\n",
    "    * Example: ![Alt text](img/dependence1.jpg)\n",
    "    ![Alt text](img/dependence2.jpg)\n",
    "    ![Alt text](img/dependence3.jpg)\n",
    "    ![Alt text](img/dependence4.jpg)\n",
    "    * Conditional Probability -> P(A|C) -> Distinguish dependent from independent events"
   ]
  },
  {
   "cell_type": "markdown",
   "metadata": {},
   "source": [
    "## The Conditional Probability Formula"
   ]
  },
  {
   "cell_type": "markdown",
   "metadata": {},
   "source": [
    "* Conditional probability is the likelihood of an event occurring, Assuming a different one has already happened.\n",
    "![Alt text](img/conditional1.jpg)\n",
    "![Alt text](img/conditional2.jpg)\n",
    "![Alt text](img/conditional3.jpg)\n",
    "![Alt text](img/conditional4.jpg)\n",
    "![Alt text](img/conditional5.jpg)\n",
    "![Alt text](img/conditional6.jpg)"
   ]
  },
  {
   "cell_type": "markdown",
   "metadata": {},
   "source": [
    "## The Law of Total Probability"
   ]
  },
  {
   "cell_type": "markdown",
   "metadata": {},
   "source": []
  },
  {
   "cell_type": "markdown",
   "metadata": {},
   "source": [
    "## The Additive Rule"
   ]
  },
  {
   "cell_type": "markdown",
   "metadata": {},
   "source": []
  },
  {
   "cell_type": "markdown",
   "metadata": {},
   "source": [
    "## The Multiplication Law"
   ]
  },
  {
   "cell_type": "markdown",
   "metadata": {},
   "source": []
  },
  {
   "cell_type": "markdown",
   "metadata": {},
   "source": [
    "## Bayes' Law"
   ]
  },
  {
   "cell_type": "markdown",
   "metadata": {},
   "source": []
  }
 ],
 "metadata": {
  "kernelspec": {
   "display_name": "Python 3.9.13 64-bit (microsoft store)",
   "language": "python",
   "name": "python3"
  },
  "language_info": {
   "codemirror_mode": {
    "name": "ipython",
    "version": 3
   },
   "file_extension": ".py",
   "mimetype": "text/x-python",
   "name": "python",
   "nbconvert_exporter": "python",
   "pygments_lexer": "ipython3",
   "version": "3.9.13"
  },
  "orig_nbformat": 4,
  "vscode": {
   "interpreter": {
    "hash": "1b600a3438a79bc98971c3547d28f531d0c8ed6c91b96b1480a504fa30005dbe"
   }
  }
 },
 "nbformat": 4,
 "nbformat_minor": 2
}
