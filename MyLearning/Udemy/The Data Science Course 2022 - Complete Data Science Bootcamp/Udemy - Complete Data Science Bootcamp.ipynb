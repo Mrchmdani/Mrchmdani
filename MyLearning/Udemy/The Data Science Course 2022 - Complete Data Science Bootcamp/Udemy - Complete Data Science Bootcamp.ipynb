{
 "cells": [
  {
   "cell_type": "markdown",
   "metadata": {},
   "source": [
    "# **01. Part 1: Introduction**"
   ]
  },
  {
   "cell_type": "markdown",
   "metadata": {},
   "source": [
    "Source : https://www.udemy.com/course/the-data-science-course-complete-data-science-bootcamp/"
   ]
  },
  {
   "cell_type": "markdown",
   "metadata": {},
   "source": [
    "## 1. A Practical Example: What You Will Learn in This Course"
   ]
  },
  {
   "attachments": {},
   "cell_type": "markdown",
   "metadata": {},
   "source": [
    "https://www.udemy.com/course/the-data-science-course-complete-data-science-bootcamp/learn/lecture/10799982"
   ]
  },
  {
   "cell_type": "markdown",
   "metadata": {},
   "source": [
    "## 2. What Does the Course Cover"
   ]
  },
  {
   "attachments": {},
   "cell_type": "markdown",
   "metadata": {},
   "source": [
    "https://www.udemy.com/course/the-data-science-course-complete-data-science-bootcamp/learn/lecture/10762626"
   ]
  },
  {
   "cell_type": "markdown",
   "metadata": {},
   "source": [
    "## 3. Download All Resources and Important FAQ"
   ]
  },
  {
   "attachments": {},
   "cell_type": "markdown",
   "metadata": {},
   "source": [
    "https://www.udemy.com/course/the-data-science-course-complete-data-science-bootcamp/learn/lecture/12955006"
   ]
  },
  {
   "cell_type": "markdown",
   "metadata": {},
   "source": [
    "# **02. The Field of Data Science - The Various Data Science Disciplines**"
   ]
  },
  {
   "cell_type": "markdown",
   "metadata": {},
   "source": [
    "## 4. Data Science and Business Buzzwords: Why are there so Many?"
   ]
  },
  {
   "attachments": {},
   "cell_type": "markdown",
   "metadata": {},
   "source": [
    "https://www.udemy.com/course/the-data-science-course-complete-data-science-bootcamp/learn/lecture/10762750"
   ]
  },
  {
   "cell_type": "markdown",
   "metadata": {},
   "source": [
    "Data Science and Business Buzzwords\n",
    "\n",
    "Job Confucion:\n",
    "\n",
    "1. The constant evolution of the data science industry\n",
    "    * Statistics, 25 years ago, responsible for:\n",
    "        * gathering and cleaning data sets\n",
    "        * applying statistical methods\n",
    "            * growth of data\n",
    "            * radical improvement of technology\n",
    "        * extracting patterns from data\n",
    "    * Data Mining, 20 years ago, responsible for:\n",
    "        * gathering and cleaning data sets\n",
    "        * applying statistical methods\n",
    "            * growth of data\n",
    "            * radical improvement of technology\n",
    "        * extracting patterns from data\n",
    "            * new models\n",
    "        * performing more accurate forecast\n",
    "    * Predictive Analytics, 10 years ago, responsible for:\n",
    "        * gathering and cleaning data sets\n",
    "        * applying statistical methods\n",
    "        * extracting patterns from data\n",
    "        * performing more accurate forecast\n",
    "    * Predictive Analytics, Now, responsible for:\n",
    "        * All Above\n",
    "2. HR Managers\n",
    "    * Label job positions inaccurately"
   ]
  },
  {
   "cell_type": "markdown",
   "metadata": {},
   "source": [
    "## Quiz 1: Data Science and Business Buzzwords: Why are there so Many?"
   ]
  },
  {
   "attachments": {},
   "cell_type": "markdown",
   "metadata": {},
   "source": [
    "https://www.udemy.com/course/the-data-science-course-complete-data-science-bootcamp/learn/quiz/4450874"
   ]
  },
  {
   "cell_type": "markdown",
   "metadata": {},
   "source": [
    "1. Which of the following is not considered a cause of confusion about the precise meaning of the data science buzzwords?\n",
    "    * The speed with which new data science terms are appearing"
   ]
  },
  {
   "cell_type": "markdown",
   "metadata": {},
   "source": [
    "## 5. What is the difference between Analysis and Analytics"
   ]
  },
  {
   "attachments": {},
   "cell_type": "markdown",
   "metadata": {},
   "source": [
    "https://www.udemy.com/course/the-data-science-course-complete-data-science-bootcamp/learn/lecture/10762754"
   ]
  },
  {
   "cell_type": "markdown",
   "metadata": {},
   "source": [
    "### Analysis vs Analytics"
   ]
  },
  {
   "cell_type": "markdown",
   "metadata": {},
   "source": [
    "1. Analysis\n",
    "    * Perform analysis data that have already happened in the past and explaining how or why something happen\n",
    "        * Separating entire data into multiple data and study them individualy, then examine how they relate to other parts. \n",
    "2. Analytics\n",
    "    * Explore potential future events instead of past events\n",
    "    * Analytics is essentially the application of logical and computational reasoning to the component parts obtained in an analysis.\n",
    "    * Looking for patterns and exploring what you could do with them in the future."
   ]
  },
  {
   "cell_type": "markdown",
   "metadata": {},
   "source": [
    "### Analytics Branches"
   ]
  },
  {
   "cell_type": "markdown",
   "metadata": {},
   "source": [
    "1. Qualitative Analytics (intuition + analysis)\n",
    "    * using your intuition and experience in conjunction with the analysis to plan your next business move.\n",
    "2. Quantitative Analytics (formula + algorithms)\n",
    "    * applying formulas and algorithms to numbers you have gathered from your analysis."
   ]
  },
  {
   "cell_type": "markdown",
   "metadata": {},
   "source": [
    "### To Do:"
   ]
  },
  {
   "cell_type": "markdown",
   "metadata": {},
   "source": [
    "1. Perform qualitative analysis, to explain how or why a story ended the way it did.\n",
    "2. Perform quantitative analysis, working with past data to explain how sales decreased last summer.\n",
    "3. Perform qualitative analytics, to plan next business move.\n",
    "4. Perform qualitative analytics, by applying formulas and algorithms for the future"
   ]
  },
  {
   "cell_type": "markdown",
   "metadata": {},
   "source": [
    "* Analysis != Analytics\n",
    "* Data Analysis != Data Analytics\n",
    "* Business Analysis != Business Analytics"
   ]
  },
  {
   "cell_type": "markdown",
   "metadata": {},
   "source": [
    "## Quiz 2: What is the difference between Analysis and Analytics"
   ]
  },
  {
   "attachments": {},
   "cell_type": "markdown",
   "metadata": {},
   "source": [
    "https://www.udemy.com/course/the-data-science-course-complete-data-science-bootcamp/learn/quiz/4450876"
   ]
  },
  {
   "cell_type": "markdown",
   "metadata": {},
   "source": [
    "1. Which of the following is related to the meaning of the term analytics?\n",
    "    * Analytics is the application of logical computational reasoning to the component parts obtained in an analysis"
   ]
  },
  {
   "cell_type": "markdown",
   "metadata": {},
   "source": [
    "## 6. Business Analytics, Data Analytics, and Data Science: An Introduction"
   ]
  },
  {
   "attachments": {},
   "cell_type": "markdown",
   "metadata": {},
   "source": [
    "https://www.udemy.com/course/the-data-science-course-complete-data-science-bootcamp/learn/lecture/10762762"
   ]
  },
  {
   "cell_type": "markdown",
   "metadata": {},
   "source": [
    "### Diagram"
   ]
  },
  {
   "cell_type": "markdown",
   "metadata": {},
   "source": [
    "![Alt text](img/365_DataScience_Diagram.jpg)"
   ]
  },
  {
   "cell_type": "markdown",
   "metadata": {},
   "source": [
    "* Business activities would overlap the rectangle because some are data-driven, while others are subjective or experience-driven.\n",
    "* Some of the terms refer to activities that aim to explain past behavior, while others refer to activities used for predicting future behavior.\n",
    "* Data science is a discipline reliant on data availability, while business analytics does not completely rely on data. However, data science incorporates part of data analytics, mostly the part that uses complex mathematical, statistical and programming tools.\n",
    "* Data science can be used to improve the accuracy of predictions based on data extracted from various activities typical for drilling efficiency, and that certainly isn't business analytics."
   ]
  },
  {
   "cell_type": "markdown",
   "metadata": {},
   "source": [
    "## Quiz 3: Business Analytics, Data Analytics, and Data Science: An Introduction"
   ]
  },
  {
   "attachments": {},
   "cell_type": "markdown",
   "metadata": {},
   "source": [
    "https://www.udemy.com/course/the-data-science-course-complete-data-science-bootcamp/learn/quiz/4450878"
   ]
  },
  {
   "cell_type": "markdown",
   "metadata": {},
   "source": [
    "1. Which of the terms relates to the field of business analytics only?\n",
    "    * Qualitative analytics\n",
    "2. Which of the following is not considered a data analytics activity?\n",
    "    * Business case studies\n",
    "3. Which of the following is considered data science?\n",
    "    * Sales forecasting"
   ]
  },
  {
   "cell_type": "markdown",
   "metadata": {},
   "source": [
    "## 7. Continuing with BI, ML, and AI"
   ]
  },
  {
   "attachments": {},
   "cell_type": "markdown",
   "metadata": {},
   "source": [
    "https://www.udemy.com/course/the-data-science-course-complete-data-science-bootcamp/learn/lecture/10762768"
   ]
  },
  {
   "cell_type": "markdown",
   "metadata": {},
   "source": [
    "![Alt text](img/365_DataScience_Diagram.jpg)"
   ]
  },
  {
   "cell_type": "markdown",
   "metadata": {},
   "source": [
    "### Business Intelegence (BI)"
   ]
  },
  {
   "cell_type": "markdown",
   "metadata": {},
   "source": [
    "* Business intelligence or BI, is the process of analyzing and reporting historical business data.\n",
    "    * After reports and dashboards have been prepared they can be used to make informed strategic and tactical business decisions by end users, such as the general manager.\n",
    "* Business intelligence aims to explain past events using business data."
   ]
  },
  {
   "cell_type": "markdown",
   "metadata": {},
   "source": [
    "### Machine Learning (ML)"
   ]
  },
  {
   "cell_type": "markdown",
   "metadata": {},
   "source": [
    "* The ability of machines to predict outcomes without being explicitly programmed\n",
    "* ML'S about creating and implementing algorithms that let machines receive data and use this data to make predictions, analyze patterns and give recommendations on their own.\n",
    "* Machine learning cannot be implemented without data."
   ]
  },
  {
   "cell_type": "markdown",
   "metadata": {},
   "source": [
    "### Artificial Intelligence (AI)"
   ]
  },
  {
   "cell_type": "markdown",
   "metadata": {},
   "source": [
    "* simulating human knowledge and decision making with computers."
   ]
  },
  {
   "cell_type": "markdown",
   "metadata": {},
   "source": [
    "## Quiz 4: Continuing with BI, ML, and AI"
   ]
  },
  {
   "attachments": {},
   "cell_type": "markdown",
   "metadata": {},
   "source": [
    "https://www.udemy.com/course/the-data-science-course-complete-data-science-bootcamp/learn/quiz/4450880"
   ]
  },
  {
   "cell_type": "markdown",
   "metadata": {},
   "source": [
    "1. Given that all activities can be done with ML and all can be done without ML, choose the best answer. Which of the following is considered Data science but not Machine learning?\n",
    "    * Sales forecasting\n",
    "2. Which of the following is not an example of where Machine Learning is being applied today?\n",
    "    * Symbolic reasoning"
   ]
  },
  {
   "cell_type": "markdown",
   "metadata": {},
   "source": [
    "## 8. A Breakdown of our Data Science Infographic"
   ]
  },
  {
   "attachments": {},
   "cell_type": "markdown",
   "metadata": {},
   "source": [
    "https://www.udemy.com/course/the-data-science-course-complete-data-science-bootcamp/learn/lecture/10762772"
   ]
  },
  {
   "cell_type": "markdown",
   "metadata": {},
   "source": [
    "![Alt text](img/365_DataScience.jpg)"
   ]
  },
  {
   "cell_type": "markdown",
   "metadata": {},
   "source": [
    "## Quiz 5: A Breakdown of our Data Science Infographic"
   ]
  },
  {
   "attachments": {},
   "cell_type": "markdown",
   "metadata": {},
   "source": [
    "https://www.udemy.com/course/the-data-science-course-complete-data-science-bootcamp/learn/quiz/4450882"
   ]
  },
  {
   "cell_type": "markdown",
   "metadata": {},
   "source": [
    "1. From a data scientist’s perspective, the solution of every task begins:\n",
    "    * with a proper dataset"
   ]
  },
  {
   "cell_type": "markdown",
   "metadata": {},
   "source": [
    "# **03. The Field of Data Science - Connecting the Data Science Disciplines**"
   ]
  },
  {
   "cell_type": "markdown",
   "metadata": {},
   "source": [
    "## 9. Applying Traditional Data, Big Data, BI, Traditional Data Science and ML"
   ]
  },
  {
   "attachments": {},
   "cell_type": "markdown",
   "metadata": {},
   "source": [
    "https://www.udemy.com/course/the-data-science-course-complete-data-science-bootcamp/learn/lecture/10762778"
   ]
  },
  {
   "cell_type": "markdown",
   "metadata": {},
   "source": [
    "### Data"
   ]
  },
  {
   "cell_type": "markdown",
   "metadata": {},
   "source": [
    "#### Traditional Data"
   ]
  },
  {
   "cell_type": "markdown",
   "metadata": {},
   "source": [
    "* Data in the form of tables containing numeric or text values.\n",
    "* Data that is structured and stored in databases which can be managed from one computer."
   ]
  },
  {
   "cell_type": "markdown",
   "metadata": {},
   "source": [
    "#### Big Data"
   ]
  },
  {
   "cell_type": "markdown",
   "metadata": {},
   "source": [
    "* 'big data' is a term reserved for extremely large data.\n",
    "* the data could be in various formats.\n",
    "* It can be structured, semi-structured or unstructured.\n",
    "* it can be categorised by the letter \"V\"\n",
    "    * the 3Vs of big data\n",
    "    * the 5Vs of big data\n",
    "    * the 7Vs of big data\n",
    "    * the 11Vs of big data\n",
    "        * the vision you have about big data,\n",
    "        * the value big data carries,\n",
    "        * the visualisation tools you use\n",
    "        * the variability and the consistency in big data \n",
    "        * and so on."
   ]
  },
  {
   "cell_type": "markdown",
   "metadata": {},
   "source": [
    "##### Traditional Data vs Big Data"
   ]
  },
  {
   "cell_type": "markdown",
   "metadata": {},
   "source": [
    "* Volume\n",
    "    * Big data needs a whopping amount of memory space. Typically distributed between many computers, its size is measured in terabytes, petabytes and even exabytes.\n",
    "* Variety\n",
    "    * Big data often implies dealing with images, audio files, mobile data and others.\n",
    "* Velocity\n",
    "    * Ones goal is to make extracting patterns from it as quickly as possible. The progress that has been done in this area is remarkable. Outputs from huge data sets can be retrieved in real-time. This means they can be extracted so quickly that a result could be computed immediately, after the source data has been obtained."
   ]
  },
  {
   "cell_type": "markdown",
   "metadata": {},
   "source": [
    "### Data Science"
   ]
  },
  {
   "cell_type": "markdown",
   "metadata": {},
   "source": [
    "* Data Science is a broad subject its an interdisciplinary field that combines: \n",
    "    * statistical, \n",
    "    * mathematical, \n",
    "    * programming, \n",
    "    * problem-solving and \n",
    "    * data-management tools."
   ]
  },
  {
   "cell_type": "markdown",
   "metadata": {},
   "source": [
    "#### BI"
   ]
  },
  {
   "cell_type": "markdown",
   "metadata": {},
   "source": [
    "* Business intelligence is the discipline you need for analyse the past data you have acquired. BI includes technology driven tools involved in the process of analyzing, understanding and reporting available past data.\n",
    "    * This will result  having reports or dashboards and will help on your way to making informed strategic and tactical business decisions.\n",
    "    * extract insights and ideas about your business that will help it grow and give an edge of your competitors, adding stability.\n",
    "* Business intelligence means understanding how your sales grew and why?\n",
    "    * Did competitors lose market share?\n",
    "    * Was there an increase in the price of your products?\n",
    "    * Did you sell a mix of more expensive products?\n",
    "    * How did your profitability margins behave in the same timeframe of a previous year?\n",
    "    * Were there client accounts that were more profitable?\n",
    "*Understanding past business performance in order to improve future performance."
   ]
  },
  {
   "cell_type": "markdown",
   "metadata": {},
   "source": [
    "#### Traditional Data Science"
   ]
  },
  {
   "cell_type": "markdown",
   "metadata": {},
   "source": [
    "* Traditional methods or traditional data science are a set of methods that are derived mainly from statistics and are adapted for business.\n",
    "* Perfect for forecasting future performance with great accuracy.\n",
    "    * regression analyses, \n",
    "    * cluster analyses and \n",
    "    * factor analyses."
   ]
  },
  {
   "cell_type": "markdown",
   "metadata": {},
   "source": [
    "#### Machine Learning"
   ]
  },
  {
   "cell_type": "markdown",
   "metadata": {},
   "source": [
    "* With machine learning in contrast to traditional methods, the responsibility is left for the machine, through mathematics, a significant amount of computer power and applying AI the machine is given the ability to predict outcomes from data without being explicitly programmed too.\n",
    "* ML knows all about creating algorithms that let machines \n",
    "    * receive data, \n",
    "    * perform calculations and \n",
    "    * apply statistical analyses in order to make predictions with unprecedented accuracy."
   ]
  },
  {
   "cell_type": "markdown",
   "metadata": {},
   "source": [
    "## Quiz 6: Applying Traditional Data, Big Data, BI, Traditional Data Science and ML"
   ]
  },
  {
   "attachments": {},
   "cell_type": "markdown",
   "metadata": {},
   "source": [
    "https://www.udemy.com/course/the-data-science-course-complete-data-science-bootcamp/learn/quiz/4450886"
   ]
  },
  {
   "cell_type": "markdown",
   "metadata": {},
   "source": [
    "1. According to our infographic, which of the following is not considered data science?\n",
    "    * Big Data"
   ]
  },
  {
   "cell_type": "markdown",
   "metadata": {},
   "source": [
    "# **04. The Field of Data Science - The Benefits of Each Discipline**"
   ]
  },
  {
   "cell_type": "markdown",
   "metadata": {},
   "source": [
    "## 10. The Reason Behind These Disciplines"
   ]
  },
  {
   "attachments": {},
   "cell_type": "markdown",
   "metadata": {},
   "source": [
    "https://www.udemy.com/course/the-data-science-course-complete-data-science-bootcamp/learn/lecture/10762786"
   ]
  },
  {
   "cell_type": "markdown",
   "metadata": {},
   "source": [
    "* There are two types of data, traditional and big data. While different, their role in the business is the same.\n",
    "* Data-driven decisions require well-organized and relevant raw data stored in a digital format data which can be processed and transformed into meaningful and useful information. This is essential for companies when planning and decision-making.\n",
    "* Data is the foundation. It is the material on which you base your analysis. Without data, a decision-maker wouldn't be able to test their decisions and ensure they have taken the right course of action.\n",
    "\n",
    "* The job of the business intelligence analyst is to study the numbers and explain where and why some things went well and others not so well. While having the business context in mind, the business intelligence analyst will present the data in the form of reports and dashboards. They translates raw data into metrics and visualizations which show past trends and characteristics of the business.\n",
    "* Like a translator studying ancient hieroglyphics, Business Intelligence there to find patterns and stories within the pictures, they will stay seemingly meaningless, but what else is needed once the patterns have been interpreted? You can forecast potential future outcomes. The application of any term related to the columns, traditional methods or machine learning, can be said to belong to the field of predictive analytics. While the goal of traditional methods and machine learning are essentially the same and techniques can overlap, there is a difference between the two.\n",
    "* Traditional methods relate to traditional data. They were designed prior to the existence of big data, where the technology simply wasn't as advanced as it is today. They involve applying statistical approaches to create predictive models. If you want to dig deeper, however, or tackle huge amounts of big data utilizing unconventional methods or AI, then you can predict behavior in unprecedented ways, using machine learning techniques and tools. Both techniques are useful for different purposes.\n",
    "    * Traditional methods are better suited for traditional data, while \n",
    "    * Machine learning will have better results when it comes to tackling big data."
   ]
  },
  {
   "cell_type": "markdown",
   "metadata": {},
   "source": [
    "## Quiz 7: The Reason Behind These Disciplines"
   ]
  },
  {
   "attachments": {},
   "cell_type": "markdown",
   "metadata": {},
   "source": [
    "https://www.udemy.com/course/the-data-science-course-complete-data-science-bootcamp/learn/quiz/4450888"
   ]
  },
  {
   "cell_type": "markdown",
   "metadata": {},
   "source": [
    "1. Which of the following columns from our infographic contain activities that are said to belong to the field of ‘predictive analytics’ and do not aim at explaining past behaviour? \n",
    "    * Traditional methods"
   ]
  },
  {
   "cell_type": "markdown",
   "metadata": {},
   "source": [
    "# **05. The Field of Data Science - Popular Data Science Techniques**"
   ]
  },
  {
   "cell_type": "markdown",
   "metadata": {},
   "source": [
    "![Alt text](img/365_DataScience.jpg)"
   ]
  },
  {
   "cell_type": "markdown",
   "metadata": {},
   "source": [
    "## 11. Techniques for Working with Traditional Data"
   ]
  },
  {
   "attachments": {},
   "cell_type": "markdown",
   "metadata": {},
   "source": [
    "https://www.udemy.com/course/the-data-science-course-complete-data-science-bootcamp/learn/lecture/10762798"
   ]
  },
  {
   "cell_type": "markdown",
   "metadata": {},
   "source": [
    "* Raw Data / Gathering Data\n",
    "    * Raw data, also called raw facts or primary data, is \n",
    "        * data which cannot be analyzed straight away. \n",
    "        * It is untouched data you have accumulated and stored on the server. \n",
    "        * The gathering of raw data is referred to as data collection.\n",
    "    * Data can be collected in several ways.\n",
    "        * Survey\n",
    "        * Cookies\n",
    "        * etc\n",
    "* Pre-Processing\n",
    "    * Group of operations that will basically convert your raw data into a format that is more understandable and hence useful for further processing. It attempts to fix the problems that can inevitably occur with data gathering.\n",
    "        * Class Labeling\n",
    "            * numerical (can be manipulated)\n",
    "            * categorical (cannot be manipulated)\n",
    "        * Data cleansing / Data cleaning\n",
    "        * Dealing with Missing Value\n",
    "    * Case Specific: \n",
    "        * Data Balancing\n",
    "        * Data Shuffling\n",
    "            * prevent unwanted pattern\n",
    "            * improves predictive performance\n",
    "            * help avooid misleading results\n",
    "* Graph - Visualization associated with relational database management system\n",
    "    * entity-relationship diagram (ER diagram)\n",
    "    * relational schema"
   ]
  },
  {
   "cell_type": "markdown",
   "metadata": {},
   "source": [
    "## Quiz 8: Techniques for Working with Traditional Data"
   ]
  },
  {
   "attachments": {},
   "cell_type": "markdown",
   "metadata": {},
   "source": [
    "https://www.udemy.com/course/the-data-science-course-complete-data-science-bootcamp/learn/quiz/4450892"
   ]
  },
  {
   "cell_type": "markdown",
   "metadata": {},
   "source": [
    "1. Which of the following is related to the pre-processing of a traditional data set?\n",
    "    * Class labelling, Data cleansing, and Dealing with missing values"
   ]
  },
  {
   "cell_type": "markdown",
   "metadata": {},
   "source": [
    "## 12. Real Life Examples of Traditional Data"
   ]
  },
  {
   "attachments": {},
   "cell_type": "markdown",
   "metadata": {},
   "source": [
    "https://www.udemy.com/course/the-data-science-course-complete-data-science-bootcamp/learn/lecture/10762800"
   ]
  },
  {
   "cell_type": "markdown",
   "metadata": {},
   "source": [
    "Numerical vs Categorical"
   ]
  },
  {
   "cell_type": "markdown",
   "metadata": {},
   "source": [
    "* ![Alt text](img/12.%20Real%20Life%20Examples%20of%20Traditional%20Data1.jpg)\n",
    "* ![Alt text](img/12.%20Real%20Life%20Examples%20of%20Traditional%20Data2.jpg)\n",
    "* ![Alt text](img/12.%20Real%20Life%20Examples%20of%20Traditional%20Data3.jpg)\n",
    "* ![Alt text](img/12.%20Real%20Life%20Examples%20of%20Traditional%20Data4.jpg)"
   ]
  },
  {
   "cell_type": "markdown",
   "metadata": {},
   "source": [
    "## 13. Techniques for Working with Big Data"
   ]
  },
  {
   "attachments": {},
   "cell_type": "markdown",
   "metadata": {},
   "source": [
    "https://www.udemy.com/course/the-data-science-course-complete-data-science-bootcamp/learn/lecture/10762804"
   ]
  },
  {
   "cell_type": "markdown",
   "metadata": {},
   "source": [
    "* Some of the approaches used on traditional data can also be implemented on big data.\n",
    "* Collecting and pre-processing big data is essential to help organize the data before doing analyses or making predictions, as is grouping the data into classes or categories.\n",
    "* While working with big data, things can get a little more complex and you have much more variety beyond the simple distinction of numerical and categorical data.\n",
    "    * examples pre=processing of big data can be: \n",
    "        * text data, \n",
    "        * digital image data,\n",
    "        * digital video data, \n",
    "        * digital audio data, \n",
    "        * data cleansing\n",
    "            * a wider range of data cleansing method\n",
    "        * dealing with missing value\n",
    "            * the most crucial with big data.\n",
    "    * Case specific:\n",
    "        * text data mining\n",
    "            * Text data mining represents the process of deriving valuable unstructured data from a text.\n",
    "        * confidentiality - preserving data mining techniques (data masking)\n",
    "            * conceals the original data with random and false data\n",
    "            * allowing you to conduct analysis and \n",
    "            * keep all confidential information in a secure place.\n",
    "* Graph\n",
    "    * relational database"
   ]
  },
  {
   "cell_type": "markdown",
   "metadata": {},
   "source": [
    "## Quiz 9: Techniques for Working with Big Data"
   ]
  },
  {
   "attachments": {},
   "cell_type": "markdown",
   "metadata": {},
   "source": [
    "https://www.udemy.com/course/the-data-science-course-complete-data-science-bootcamp/learn/quiz/4450894"
   ]
  },
  {
   "cell_type": "markdown",
   "metadata": {},
   "source": [
    "1. Which of the following do you encounter when working with big data?\n",
    "    * Text data, Integer, and Digital image data"
   ]
  },
  {
   "cell_type": "markdown",
   "metadata": {},
   "source": [
    "## 14. Real Life Examples of Big Data"
   ]
  },
  {
   "attachments": {},
   "cell_type": "markdown",
   "metadata": {},
   "source": [
    "https://www.udemy.com/course/the-data-science-course-complete-data-science-bootcamp/learn/lecture/10762820"
   ]
  },
  {
   "cell_type": "markdown",
   "metadata": {},
   "source": [
    "* ![Alt text](img/14.%20Real%20Life%20Examples%20of%20Big%20Data1.jpg)\n",
    "* ![Alt text](img/14.%20Real%20Life%20Examples%20of%20Big%20Data2.jpg)"
   ]
  },
  {
   "cell_type": "markdown",
   "metadata": {},
   "source": [
    "## 15. Business Intelligence (BI) Techniques"
   ]
  },
  {
   "attachments": {},
   "cell_type": "markdown",
   "metadata": {},
   "source": [
    "https://www.udemy.com/course/the-data-science-course-complete-data-science-bootcamp/learn/lecture/10762824"
   ]
  },
  {
   "cell_type": "markdown",
   "metadata": {},
   "source": [
    "* Business intelligence is the point where all your data skills combine with business knowledge and intuition to explain the past performance of company with conviction.\n",
    "* You would confidently be able to answer questions such as:\n",
    "    * What happened? When did it happen?\n",
    "    * How many units did we sell?\n",
    "    * In which region did we sell the most goods? \n",
    "    * And many more.\n",
    "* A good business intelligence analyst does not look at a problem from only one angle. BI will be able to extract any and all information required to solve this problem.\n",
    "* BI will be capable of answering simple questions from manager, like:\n",
    "    * \"What's the news regarding our email marketing?\"\n",
    "    * \"How did our email marketing perform last quarter in terms of click-through rates and revenue generated\n",
    "    * how does that compare to the performance in the same quarter of last year?\"\n",
    "* Example: How to measure  business performance?\n",
    "    * Collecting Observation\n",
    "        * monthly revenues\n",
    "        * costumer\n",
    "    * quantify information\n",
    "        * representing observations as number\n",
    "    * measure\n",
    "        * the accumulation of observations to show some information\n",
    "* Analyze the Data\n",
    "    * Extract info and present it in the form of:\n",
    "        * metrics\n",
    "            * A metric refers to a value that derives from the measures you have obtained and aims at gauging business performance or progress.\n",
    "            * measure vs matrics\n",
    "                * measure - releated to a simple descriptive meatrics of past performance\n",
    "                * matric = measure + business meaning\n",
    "        * Key performance indicators (KPIs)\n",
    "            * Key = related to main business goals\n",
    "            * Performance = how successfully you have performed within a specified timeframe\n",
    "            * Indicators = generated only from users who have clicked on a link provided in you ad campaign\n",
    "            * KPIs = metrics + business objectives\n",
    "        * Reports\n",
    "        * Dashboard"
   ]
  },
  {
   "cell_type": "markdown",
   "metadata": {},
   "source": [
    "## Quiz 10: Business Intelligence (BI) Techniques"
   ]
  },
  {
   "attachments": {},
   "cell_type": "markdown",
   "metadata": {},
   "source": [
    "https://www.udemy.com/course/the-data-science-course-complete-data-science-bootcamp/learn/quiz/4450896"
   ]
  },
  {
   "cell_type": "markdown",
   "metadata": {},
   "source": [
    "1. The process of representing observations as numbers is called:\n",
    "    * Quantification\n",
    "2. A measure that has a business meaning attached is called:\n",
    "    * a metric\n",
    "3. A KPI (Key Performance Indicator) can be best defined as: \n",
    "    * a metric that is tightly aligned with your business objectives\n",
    "4. The job of a business intelligence analyst always involves the creation of:\n",
    "    * Reports, Dashboards, and KPIs"
   ]
  },
  {
   "cell_type": "markdown",
   "metadata": {},
   "source": [
    "## 16. Real Life Examples of Business Intelligence (BI)"
   ]
  },
  {
   "attachments": {},
   "cell_type": "markdown",
   "metadata": {},
   "source": [
    "https://www.udemy.com/course/the-data-science-course-complete-data-science-bootcamp/learn/lecture/10762826"
   ]
  },
  {
   "cell_type": "markdown",
   "metadata": {},
   "source": [
    "* Hotels use price optimization very effectively by raising the price of a room at periods when many people want to visit the hotel and by reducing it to attract visitors when demand is low, they can greatly increase their profits. In order to competently apply such a strategy they must extract the relevant information in real time and compare it with historicals. BI allows you to adjust your strategy to pass data as soon as it is available.\n",
    "\n",
    "* Over and under supply can cause problems in a business. However, implementing effective inventory management means supplying enough stock to meet demand, with the minimal amount of waste and cost. To do this well, you can perform an in depth analysis of past sales transactions for the purpose of identifying seasonality patterns and the times of the year with the highest sales. Additionally, you could track your inventory to identify the months of which you have over or under stocked. A detailed analysis can even pinpoint the day or time of day where the need for a good is highest. If done right, business intelligence will help to efficiently manage your shipment logistics and in turn reduce costs and increase profit."
   ]
  },
  {
   "cell_type": "markdown",
   "metadata": {},
   "source": [
    "## 17. Techniques for Working with Traditional Methods"
   ]
  },
  {
   "attachments": {},
   "cell_type": "markdown",
   "metadata": {},
   "source": [
    "https://www.udemy.com/course/the-data-science-course-complete-data-science-bootcamp/learn/lecture/10762828"
   ]
  },
  {
   "cell_type": "markdown",
   "metadata": {},
   "source": [
    "* Regression Analysis is a model used for quantifying causal relationships among the different variables included in your analysis.\n",
    "* ![Alt text](img/17.%20Techniques%20for%20Working%20with%20Traditional%20Methods1.jpg)\n",
    "* ![Alt text](img/17.%20Techniques%20for%20Working%20with%20Traditional%20Methods2.jpg)"
   ]
  },
  {
   "cell_type": "markdown",
   "metadata": {},
   "source": [
    "* Cluster Analysis or clustering is the task of grouping a set of objects in such a way that objects in the same group are more similar to each other than to those in other groups.\n",
    "* ![Alt text](img/17.%20Techniques%20for%20Working%20with%20Traditional%20Methods3.jpg)"
   ]
  },
  {
   "cell_type": "markdown",
   "metadata": {},
   "source": [
    "* Factor Analysis is a statistical method used to describe variability among observed, correlated variables in terms of a potentially lower number of unobserved variables called factors.\n",
    "* ![Alt text](img/17.%20Techniques%20for%20Working%20with%20Traditional%20Methods4.jpg)"
   ]
  },
  {
   "cell_type": "markdown",
   "metadata": {},
   "source": [
    "* Time Series Analysis is a specific way of analyzing a sequence of data points collected over an interval of time.\n",
    "* ![Alt text](img/17.%20Techniques%20for%20Working%20with%20Traditional%20Methods5.jpg)"
   ]
  },
  {
   "cell_type": "markdown",
   "metadata": {},
   "source": [
    "## Quiz 11: Techniques for Working with Traditional Methods"
   ]
  },
  {
   "attachments": {},
   "cell_type": "markdown",
   "metadata": {},
   "source": [
    "https://www.udemy.com/course/the-data-science-course-complete-data-science-bootcamp/learn/quiz/4450898"
   ]
  },
  {
   "cell_type": "markdown",
   "metadata": {},
   "source": [
    "1. In business and statistics, which is the general term that refers to using a model for quantifying causal relationships?\n",
    "    *  regression analysis\n",
    "2. Which technique can be implemented if you want to reduce the dimensionality of a certain statistical problem?\n",
    "    *  factor analysis\n",
    "3. Which technique is associated with plotting values against time, shown always on the horizontal line?\n",
    "    *  time-series analysis\n",
    "4. When the data is divided into a few groups, you should apply:\n",
    "    * cluster analysis"
   ]
  },
  {
   "cell_type": "markdown",
   "metadata": {},
   "source": [
    "## 18. Real Life Examples of Traditional Methods"
   ]
  },
  {
   "attachments": {},
   "cell_type": "markdown",
   "metadata": {},
   "source": [
    "https://www.udemy.com/course/the-data-science-course-complete-data-science-bootcamp/learn/lecture/10762830"
   ]
  },
  {
   "cell_type": "markdown",
   "metadata": {},
   "source": [
    "* User Experience (UX)\n",
    "* Sales Forecasting"
   ]
  },
  {
   "cell_type": "markdown",
   "metadata": {},
   "source": [
    "## 19. Machine Learning (ML) Techniques"
   ]
  },
  {
   "attachments": {},
   "cell_type": "markdown",
   "metadata": {},
   "source": [
    "https://www.udemy.com/course/the-data-science-course-complete-data-science-bootcamp/learn/lecture/10762832"
   ]
  },
  {
   "cell_type": "markdown",
   "metadata": {},
   "source": [
    "* What is at the core of machine learning? Creating an algorithm, which a computer then uses to find a model that fits the data as best as possible. And makes very accurate predictions based on that.\n",
    "* A machine learning algorithm is like a trial and error process, but the special thing about it is that each consecutive trial is at least as good as the previous one. There are four ingredients: \n",
    "    * data, \n",
    "    * model, \n",
    "    * objective function, and \n",
    "    * optimization algorithm.\n",
    "* Benefit ML\n",
    "    * Can learn more effectively\n",
    "    * improve complex computational models"
   ]
  },
  {
   "cell_type": "markdown",
   "metadata": {},
   "source": [
    "## Quiz 12: Machine Learning (ML) Techniques"
   ]
  },
  {
   "attachments": {},
   "cell_type": "markdown",
   "metadata": {},
   "source": [
    "https://www.udemy.com/course/the-data-science-course-complete-data-science-bootcamp/learn/quiz/4450902"
   ]
  },
  {
   "cell_type": "markdown",
   "metadata": {},
   "source": [
    "1. Which of the following statements is true?\n",
    "    * The core of machine learning is creating an algorithm, chich a computer then uses to find a model that fits the data as best as possible\n",
    "    * In machine learning, one does not give the machine instructions on how to find a model. Rather, one provides it with algorithms which give t he machine directions on how to learn on its own.\n",
    "    * A machine learning algorithm is like a trial-and-error process, but the special thing about it, is that each consecutive trial is at least as good as the previous one.\n",
    "2. Which line represents the four ingredients of any machine learning algorithm?\n",
    "    * Data, model, objective function, optimization algorithm"
   ]
  },
  {
   "cell_type": "markdown",
   "metadata": {},
   "source": [
    "## 20. Types of Machine Learning"
   ]
  },
  {
   "attachments": {},
   "cell_type": "markdown",
   "metadata": {},
   "source": [
    "https://www.udemy.com/course/the-data-science-course-complete-data-science-bootcamp/learn/lecture/10762834"
   ]
  },
  {
   "cell_type": "markdown",
   "metadata": {},
   "source": [
    "* Supervised Learning is a subcategory of machine learning and artificial intelligence. It is defined by its use of labeled datasets to train algorithms that to classify data or predict outcomes accurately.\n",
    "    * SVMs\n",
    "    * NNs\n",
    "    * Deep Learning\n",
    "    * Random Forsts\n",
    "    * Boyesian Networks\n",
    "\n",
    "* Unsupervised Learning uses machine learning algorithms to analyze and cluster unlabeled datasets. These algorithms discover hidden patterns or data groupings without the need for human intervention.\n",
    "    * K-means\n",
    "    * Deep Learning\n",
    "\n",
    "* Reiforcement Learning is an approach to machine learning that learns by doing. While other machine learning techniques learn by passively taking input data and finding patterns within it, RL uses training agents to actively make decisions and learn from their outcomes.\n",
    "    * Deep Learning\n"
   ]
  },
  {
   "cell_type": "markdown",
   "metadata": {},
   "source": [
    "## Quiz 13: Types of Machine Learning"
   ]
  },
  {
   "attachments": {},
   "cell_type": "markdown",
   "metadata": {},
   "source": [
    "https://www.udemy.com/course/the-data-science-course-complete-data-science-bootcamp/learn/quiz/4450904"
   ]
  },
  {
   "cell_type": "markdown",
   "metadata": {},
   "source": [
    "1. In which type of machine learning is one always working with unlabelled data?\n",
    "    * Unsupervised learning\n",
    "2. In reinforcement learning, a reward system is being used to improve the machine learning model at hand. The idea of using this reward system is to:\n",
    "    * to maximize the objective function"
   ]
  },
  {
   "cell_type": "markdown",
   "metadata": {},
   "source": [
    "## 21. Real Life Examples of Machine Learning (ML)"
   ]
  },
  {
   "attachments": {},
   "cell_type": "markdown",
   "metadata": {},
   "source": [
    "https://www.udemy.com/course/the-data-science-course-complete-data-science-bootcamp/learn/lecture/10762848"
   ]
  },
  {
   "cell_type": "markdown",
   "metadata": {},
   "source": [
    "* Fraud Detection\n",
    "* Client Retention"
   ]
  },
  {
   "cell_type": "markdown",
   "metadata": {},
   "source": [
    "## Quiz 14: Real Life Examples of Machine Learning (ML)"
   ]
  },
  {
   "attachments": {},
   "cell_type": "markdown",
   "metadata": {},
   "source": [
    "https://www.udemy.com/course/the-data-science-course-complete-data-science-bootcamp/learn/quiz/4450908"
   ]
  },
  {
   "cell_type": "markdown",
   "metadata": {},
   "source": [
    "1. Which of the following is a typical real-life example where big data techniques are being applied?\n",
    "    * Social media\n",
    "2. Which of the following is a typical real-life example where BI techniques are being applied?\n",
    "    * Inventory management\n",
    "3. Which of the following is a typical real-life example where machine learning techniques are being applied?\n",
    "    * Client retention\n",
    "4. Which of the following is a typical real-life example where traditional data techniques are being applied?\n",
    "    * Basic customer data\n",
    "5. Which of the following is a TYPICAL real-life example where traditional data science techniques are being applied?\n",
    "    * Sales forecasting"
   ]
  },
  {
   "cell_type": "markdown",
   "metadata": {},
   "source": [
    "# **06. The Field of Data Science - Popular Data Tools**"
   ]
  },
  {
   "cell_type": "markdown",
   "metadata": {},
   "source": [
    "## 22. Necessary Programming Languages and Software Used in Data Science"
   ]
  },
  {
   "attachments": {},
   "cell_type": "markdown",
   "metadata": {},
   "source": [
    "https://www.udemy.com/course/the-data-science-course-complete-data-science-bootcamp/learn/lecture/10762852"
   ]
  },
  {
   "cell_type": "markdown",
   "metadata": {},
   "source": [
    "* Programing Language\n",
    "    * R and Python are the two most popular tools across all columns. Their biggest advantage is that they can manipulate data, and are integrated with the multiple data and data science software platforms.\n",
    "        * suitable for mathematical and statistical computations.\n",
    "        * R and Python are adaptable.\n",
    "            * Can solve a wide variety of business and data related problems from beginning to the end.\n",
    "            * R and Python limitations, they are not able to address problems specific to some domains. One example is relational database management systems (SQL)\n",
    "    * SQL\n",
    "        * advantageous with traditional historical data and preparing B-I analysis\n",
    "    * MATLAB\n",
    "        * Ideal for working with mathematical functions or matrix manipulations.\n",
    "* Software\n",
    "* smaller scope and a lot easier to learn\n",
    "    * Excel\n",
    "        * able to do relatively complex computations and good visualizations quickly\n",
    "    * IBM SPSS\n",
    "    * APACHE\n",
    "    * MONGO DB"
   ]
  },
  {
   "cell_type": "markdown",
   "metadata": {},
   "source": [
    "![Alt text](img/22.%20Necessary%20Programming%20Languages%20and%20Software%20Used%20in%20Data%20Science1.jpg)"
   ]
  },
  {
   "cell_type": "markdown",
   "metadata": {},
   "source": [
    "## Quiz 15: Necessary Programming Languages and Software Used in Data Science"
   ]
  },
  {
   "attachments": {},
   "cell_type": "markdown",
   "metadata": {},
   "source": [
    "https://www.udemy.com/course/the-data-science-course-complete-data-science-bootcamp/learn/quiz/4450910"
   ]
  },
  {
   "attachments": {},
   "cell_type": "markdown",
   "metadata": {},
   "source": [
    "1. Which software tool(s) are constantly being used across all five categories from our infographic?\n",
    "    * Python and R\n",
    "2. Which software tool is frequently used when working with traditional data or when doing a BI analysis?\n",
    "    * Excel\n",
    "3. https://www.udemy.com/course/the-data-science-course-complete-data-science-bootcamp/learn/quiz/4450910\n",
    "    * Java\n",
    "4. Econometric time-series analysis is the domain of which software tool?\n",
    "    * E-views"
   ]
  },
  {
   "cell_type": "markdown",
   "metadata": {},
   "source": [
    "# **07. The Field of Data Science - Careers in Data Science**"
   ]
  },
  {
   "cell_type": "markdown",
   "metadata": {},
   "source": [
    "## 23. Finding the Job - What to Expect and What to Look for"
   ]
  },
  {
   "attachments": {},
   "cell_type": "markdown",
   "metadata": {},
   "source": [
    "https://www.udemy.com/course/the-data-science-course-complete-data-science-bootcamp/learn/lecture/10762856"
   ]
  },
  {
   "cell_type": "markdown",
   "metadata": {},
   "source": [
    "* ![Alt text](img/23.%20Finding%20the%20Job%20-%20What%20to%20Expect%20and%20What%20to%20Look%20for1.jpg)\n",
    "* ![Alt text](img/23.%20Finding%20the%20Job%20-%20What%20to%20Expect%20and%20What%20to%20Look%20for2.jpg)\n",
    "* ![Alt text](img/23.%20Finding%20the%20Job%20-%20What%20to%20Expect%20and%20What%20to%20Look%20for3.jpg)"
   ]
  },
  {
   "cell_type": "markdown",
   "metadata": {},
   "source": [
    "## Quiz 16: Finding the Job - What to Expect and What to Look for"
   ]
  },
  {
   "attachments": {},
   "cell_type": "markdown",
   "metadata": {},
   "source": [
    "https://www.udemy.com/course/the-data-science-course-complete-data-science-bootcamp/learn/quiz/4450912"
   ]
  },
  {
   "cell_type": "markdown",
   "metadata": {},
   "source": [
    "1. “Her tasks step on the work of the data architect. Her primary job responsibility is to further process the obtained data so that it is ready for analysis.”\n",
    "<br>Her job is:\n",
    "    * Data engineer"
   ]
  },
  {
   "cell_type": "markdown",
   "metadata": {},
   "source": [
    "# **08. The Field of Data Science - Debunking Common Misconceptions**"
   ]
  },
  {
   "cell_type": "markdown",
   "metadata": {},
   "source": [
    "## 24. Debunking Common Misconceptions"
   ]
  },
  {
   "attachments": {},
   "cell_type": "markdown",
   "metadata": {},
   "source": [
    "https://www.udemy.com/course/the-data-science-course-complete-data-science-bootcamp/learn/lecture/10762860"
   ]
  },
  {
   "cell_type": "markdown",
   "metadata": {},
   "source": [
    "* ![Alt text](img/24.%20Debunking%20Common%20Misconceptions1.jpg)\n",
    "* ![Alt text](img/24.%20Debunking%20Common%20Misconceptions2.jpg)\n",
    "* ![Alt text](img/24.%20Debunking%20Common%20Misconceptions3.jpg)\n",
    "* ![Alt text](img/24.%20Debunking%20Common%20Misconceptions4.jpg)\n",
    "* ![Alt text](img/24.%20Debunking%20Common%20Misconceptions5.jpg)"
   ]
  },
  {
   "cell_type": "markdown",
   "metadata": {},
   "source": [
    "## Quiz 17: Debunking Common Misconceptions"
   ]
  },
  {
   "attachments": {},
   "cell_type": "markdown",
   "metadata": {},
   "source": [
    "https://www.udemy.com/course/the-data-science-course-complete-data-science-bootcamp/learn/quiz/4450914"
   ]
  },
  {
   "cell_type": "markdown",
   "metadata": {},
   "source": [
    "1. Which of the following is **false**?\n",
    "    * 200,000 lines of data constitute big data.\n",
    "    * Every type of analysis can be considered BI\n",
    "    * SWOT is a type of quantitative analysis"
   ]
  },
  {
   "cell_type": "markdown",
   "metadata": {},
   "source": [
    "# **09. Part 2: Probability**"
   ]
  },
  {
   "cell_type": "markdown",
   "metadata": {},
   "source": [
    "## 25. The Basic Probability Formula"
   ]
  },
  {
   "attachments": {},
   "cell_type": "markdown",
   "metadata": {},
   "source": [
    "https://www.udemy.com/course/the-data-science-course-complete-data-science-bootcamp/learn/lecture/14241632"
   ]
  },
  {
   "cell_type": "markdown",
   "metadata": {},
   "source": [
    "* Probability and statistical data can predict how likely each outcome is and make the right call for their firm.\n",
    "* Essentially, probability is the chance of something happening.\n",
    "* Academic definition probability is likelihood of an event occurring."
   ]
  },
  {
   "cell_type": "markdown",
   "metadata": {},
   "source": [
    "* ![Alt text](img/25.%20The%20Basic%20Probability%20Formula1.jpg)\n",
    "* ![Alt text](img/25.%20The%20Basic%20Probability%20Formula2.jpg)\n",
    "* ![Alt text](img/25.%20The%20Basic%20Probability%20Formula3.jpg)\n",
    "* ![Alt text](img/25.%20The%20Basic%20Probability%20Formula4.jpg)\n",
    "* ![Alt text](img/25.%20The%20Basic%20Probability%20Formula5.jpg)\n",
    "* ![Alt text](img/25.%20The%20Basic%20Probability%20Formula6.jpg)"
   ]
  },
  {
   "cell_type": "markdown",
   "metadata": {},
   "source": [
    "## Quiz 18: The Basic Probability Formula"
   ]
  },
  {
   "attachments": {},
   "cell_type": "markdown",
   "metadata": {},
   "source": [
    "https://www.udemy.com/course/the-data-science-course-complete-data-science-bootcamp/learn/quiz/4620602"
   ]
  },
  {
   "cell_type": "markdown",
   "metadata": {},
   "source": [
    "1. Why do we express probabilities numerically?\n",
    "    * To compute which event is relatively more likely\n",
    "        * Our goal is to be able to compare the probabilities of events and determine which is the relatively more likely outcome. Option c) is completely wrong and option a) is partially correct. Even though d) seems correct nowadays, mathematicians have examined probability long before the 20th century and the invention of the computer.\n",
    "2. Which of these is our preferred representation of the probability of winning a game of rock-paper-scissors on the first go?<br>\n",
    "Hint: Use the “favored over all” formula.\n",
    "    * 0.3(3)\n",
    "        * not 33.(3)% and 1/3 because Even though a), b) and d) all state the same likelihood as c), one does it as a percentage, one as a fraction and the final one as odds. However, our preferred representation of probabilities is with a real number between 0 and 1, so option c) is correct.\n",
    "3. What is the probability of drawing a spade from a standard deck of playing cards?<br>\n",
    "Hint: A standard deck consists of 52 playing cards, 13 of which are spades.\n",
    "    * 0.25\n",
    "        * We have 13 cards in the suit and 52 in the deck. When we apply the \"favored over all\" formula, we get P(spade) = 13/52 = 0.25."
   ]
  },
  {
   "cell_type": "markdown",
   "metadata": {},
   "source": [
    "## 26. Computing Expected Values"
   ]
  },
  {
   "attachments": {},
   "cell_type": "markdown",
   "metadata": {},
   "source": [
    "https://www.udemy.com/course/the-data-science-course-complete-data-science-bootcamp/learn/lecture/14241646"
   ]
  },
  {
   "cell_type": "markdown",
   "metadata": {},
   "source": [
    "* Expected values represent what we expect the outcome to be if we run an experiment many times.\n",
    "* expected value is used when trying to predict future events.\n",
    "* ![Alt text](img/26.%20Computing%20Expected%20Values1.jpg)\n",
    "* ![Alt text](img/26.%20Computing%20Expected%20Values2.jpg)"
   ]
  },
  {
   "cell_type": "markdown",
   "metadata": {},
   "source": [
    "* The probabilities we get after conducting experiments are called **experimental probabilities**, whereas the ones we introduced earlier were **theoretical or true probabilities**.\n",
    "* ![Alt text](img/26.%20Computing%20Expected%20Values3.jpg)\n",
    "* ![Alt text](img/26.%20Computing%20Expected%20Values4.jpg)"
   ]
  },
  {
   "cell_type": "markdown",
   "metadata": {},
   "source": [
    "---"
   ]
  },
  {
   "cell_type": "markdown",
   "metadata": {},
   "source": [
    "* ![Alt text](img/26.%20Computing%20Expected%20Values5.jpg)\n",
    "* ![Alt text](img/26.%20Computing%20Expected%20Values6.jpg)\n",
    "* ![Alt text](img/26.%20Computing%20Expected%20Values7.jpg)\n",
    "* ![Alt text](img/26.%20Computing%20Expected%20Values8.jpg)\n",
    "* ![Alt text](img/26.%20Computing%20Expected%20Values9.jpg)"
   ]
  },
  {
   "cell_type": "markdown",
   "metadata": {},
   "source": [
    "---"
   ]
  },
  {
   "cell_type": "markdown",
   "metadata": {},
   "source": [
    "* ![Alt text](img/26.%20Computing%20Expected%20Values10.jpg)\n",
    "* ![Alt text](img/26.%20Computing%20Expected%20Values11.jpg)\n",
    "* ![Alt text](img/26.%20Computing%20Expected%20Values12.jpg)\n",
    "* ![Alt text](img/26.%20Computing%20Expected%20Values13.jpg)"
   ]
  },
  {
   "cell_type": "markdown",
   "metadata": {},
   "source": [
    "* We can use expected values to make predictions about the future based on past data.\n",
    "* We frequently make predictions using intervals instead of specific values due to the uncertainty the future brings. Meteorologists often use these when forecasting the weather."
   ]
  },
  {
   "cell_type": "markdown",
   "metadata": {},
   "source": [
    "## Quiz 19: Computing Expected Values"
   ]
  },
  {
   "attachments": {},
   "cell_type": "markdown",
   "metadata": {},
   "source": [
    "https://www.udemy.com/course/the-data-science-course-complete-data-science-bootcamp/learn/quiz/4620604"
   ]
  },
  {
   "cell_type": "markdown",
   "metadata": {},
   "source": [
    "1. Which of the following classifies as an experiment but not a trial?\n",
    "    * Fllipping a coin 20 times and recording the 20 different outcomes.\n",
    "        * In a), we complete 20 different individual trials, which make up one experiment. In b), since we are only recording the last outcome, the previous 19 flips could be considered “practice” flips. Therefore, we have essentially only once completed a full iteration of flipping a coin and recording its outcome, which is a trial. The same goes for option c). It is both an experiment and a trial, because an experiment could consist of a single trial. Since we are not recording any of the outcomes, we do not complete a full trial, so d) does not classify as neither a trial, nor an experiment.\n",
    "2. Why do we use experimental probabilities?\n",
    "    * Because the yare easy to compute and serve as good predictors for theoretical ones.\n",
    "3. Why do we use intervals when forecasting future events?\n",
    "    * Because the expedted value might have a low probability of occuring.\n",
    "    * Because we want to increase the likelihood of our predictions being accurate.\n",
    "    * Because the expected value could be unattainable."
   ]
  },
  {
   "cell_type": "markdown",
   "metadata": {},
   "source": [
    "## 27. Frequency"
   ]
  },
  {
   "attachments": {},
   "cell_type": "markdown",
   "metadata": {},
   "source": [
    "https://www.udemy.com/course/the-data-science-course-complete-data-science-bootcamp/learn/lecture/14241650"
   ]
  },
  {
   "cell_type": "markdown",
   "metadata": {},
   "source": [
    "* **Probability frequency distribution** is a collection of the probabilities for each possible outcome.\n",
    "* ![Alt text](img/27.%20Frequency1.jpg)\n",
    "* ![Alt text](img/27.%20Frequency2.jpg)\n",
    "* ![Alt text](img/27.%20Frequency3.jpg)\n",
    "* Knowing the size of the sample space, we can determine the true probabilities for each outcome. We simply divide the frequency for each possible outcome by the size of the sample space.\n",
    "\n"
   ]
  },
  {
   "cell_type": "markdown",
   "metadata": {},
   "source": [
    "## Quiz 20: Frequency"
   ]
  },
  {
   "attachments": {},
   "cell_type": "markdown",
   "metadata": {},
   "source": [
    "https://www.udemy.com/course/the-data-science-course-complete-data-science-bootcamp/learn/quiz/4620606"
   ]
  },
  {
   "cell_type": "markdown",
   "metadata": {},
   "source": [
    "1. Going back to the example with the 2 standard six-sided dice, why is the probability of rolling a sum of 7 equal to one sixth?\n",
    "    * There are 6 favorable outcomes and 36 outcomes in the sample cpace, so the favorable over all formula results in 6/36, or simply 1 over 6.\n",
    "        * This is correct, because we have 36 possible outcomes when we throw the 2 dice and in 6 of those we get a sum of 7. Thus, we have 6 favorable outcomes and 36 total possible outcomes and we plug these values in the formula to get 1 over 6.\n",
    "2. What does the “frequency” of a value within the sample space represent?\n",
    "    * The number of times the value features in the sample space.\n",
    "        * Correct! Option b) is “probability”, option c) expresses the entire “probability frequency distribution”, option d) is talking about the entire “frequency distribution table”, rather than an individual value.\n",
    "3. Going back to the dice example and the 6 by 6 table, which sum of the two dice has a frequency of 3?\n",
    "    * 4 and 10\n",
    "        * Both 4 and 10 have a frequency of 3, so a) and b) are both correct but incomplete. Option d) is completely wrong since 3 has a frequency of 2."
   ]
  },
  {
   "cell_type": "markdown",
   "metadata": {},
   "source": [
    "## 28. Events and Their Complements"
   ]
  },
  {
   "attachments": {},
   "cell_type": "markdown",
   "metadata": {},
   "source": [
    "https://www.udemy.com/course/the-data-science-course-complete-data-science-bootcamp/learn/lecture/14241664"
   ]
  },
  {
   "cell_type": "markdown",
   "metadata": {},
   "source": [
    "* Compliment of an event is everything the event is not.\n",
    "* ![Alt text](img/28.%20Events%20and%20Their%20Complements1.jpg)\n",
    "* ![Alt text](img/28.%20Events%20and%20Their%20Complements2.jpg)"
   ]
  },
  {
   "cell_type": "markdown",
   "metadata": {},
   "source": [
    "* if we have a sum of probabilities greater than one? Recall that probability of one expresses absolute certainty. By definition we cannot be any sure than being absolutely sure. So a probability of 1.5 does not make intuitive sense.\n",
    "* ![Alt text](img/28.%20Events%20and%20Their%20Complements3.jpg)\n",
    "* if we end up with a sum of probabilities less than one, then we have surely not accounted for one or several possible outcomes.\n",
    "* Probability expresses the likelihood of an event occurring, so any probability less than one is not guaranteed to occur.\n",
    "* ![Alt text](img/28.%20Events%20and%20Their%20Complements4.jpg)\n",
    "* ![Alt text](img/28.%20Events%20and%20Their%20Complements5.jpg)\n",
    "* A` is compliment\n",
    "* ![Alt text](img/28.%20Events%20and%20Their%20Complements6.jpg)\n",
    "* ![Alt text](img/28.%20Events%20and%20Their%20Complements7.jpg)\n",
    "* ![Alt text](img/28.%20Events%20and%20Their%20Complements8.jpg)\n",
    "* ![Alt text](img/28.%20Events%20and%20Their%20Complements9.jpg)"
   ]
  },
  {
   "cell_type": "markdown",
   "metadata": {},
   "source": [
    "## Quiz 21: Events and Their Complements"
   ]
  },
  {
   "attachments": {},
   "cell_type": "markdown",
   "metadata": {},
   "source": [
    "https://www.udemy.com/course/the-data-science-course-complete-data-science-bootcamp/learn/quiz/4620608"
   ]
  },
  {
   "cell_type": "markdown",
   "metadata": {},
   "source": [
    "1. Which of the following statements is TRUE?\n",
    "    * The complement of an event is everything the event is not.\n",
    "    * The event and its complement add up the entire sample space.\n",
    "    * The complement of 'HEADS' is 'TAILS'. \n",
    "2. What is the complement of NOT rolling a 3?\n",
    "    * Rolling a 3\n",
    "        * Remember that the complement of a complement is the event itself. Therefore, the complement of NOT rolling a 3 is simply rolling a 3.\n",
    "3. Which of these are complements?\n",
    "    * Negative numbers and non-negative numbers.\n",
    "        * Option a) omits 0, so they do not complete the sample space. Option b) is wrong because even though they complete the sample space, 0 is a part of both. Option c) is wrong because the two have overlapping values AND still do not complete the sample space. Therefore, d) is the only correct answer since the two cover all numbers without sharing any values in common."
   ]
  },
  {
   "cell_type": "markdown",
   "metadata": {},
   "source": [
    "# **10. Probability - Combinatorics**"
   ]
  },
  {
   "cell_type": "markdown",
   "metadata": {},
   "source": [
    "## 29. Fundamentals of Combinatorics"
   ]
  },
  {
   "attachments": {},
   "cell_type": "markdown",
   "metadata": {},
   "source": [
    "https://www.udemy.com/course/the-data-science-course-complete-data-science-bootcamp/learn/lecture/14241678"
   ]
  },
  {
   "cell_type": "markdown",
   "metadata": {},
   "source": [
    "* **Combinatorics** deals with combinations of objects from a specific finite **set**. \n",
    "    * restrictions :\n",
    "        * repetition, \n",
    "        * order, or \n",
    "        * a different criterion.\n",
    "* Parts of combinatorics:\n",
    "    * permutations, \n",
    "    * variations, and \n",
    "    * combinations.\n",
    "* each of these parts to determine the number of favorable outcomes or the number of all elements in a sample space."
   ]
  },
  {
   "cell_type": "markdown",
   "metadata": {},
   "source": [
    "* ![Alt text](img/29.%20Fundamentals%20of%20Combinatorics1.jpg)\n",
    "* ![Alt text](img/29.%20Fundamentals%20of%20Combinatorics2.jpg)"
   ]
  },
  {
   "cell_type": "markdown",
   "metadata": {},
   "source": [
    "## Quiz 22: Fundamentals of Combinatorics"
   ]
  },
  {
   "attachments": {},
   "cell_type": "markdown",
   "metadata": {},
   "source": [
    "https://www.udemy.com/course/the-data-science-course-complete-data-science-bootcamp/learn/quiz/4620610"
   ]
  },
  {
   "cell_type": "markdown",
   "metadata": {},
   "source": [
    "1. According to the lecture, which of the following is NOT one of the 3 integral parts that make up Combinatorics?\n",
    "    * Probability\n",
    "        * As mentioned in the lecture the 3 integral parts of Combinatorics are Permutations, Variations and Combinations."
   ]
  },
  {
   "cell_type": "markdown",
   "metadata": {},
   "source": [
    "## 30. Permutations and How to Use Them"
   ]
  },
  {
   "attachments": {},
   "cell_type": "markdown",
   "metadata": {},
   "source": [
    "https://www.udemy.com/course/the-data-science-course-complete-data-science-bootcamp/learn/lecture/14241690"
   ]
  },
  {
   "cell_type": "markdown",
   "metadata": {},
   "source": [
    "* Permutations represents the number of different possible ways we can arrange a set of elements.\n",
    "    * digits, \n",
    "    * letters, \n",
    "    * objects, or \n",
    "    * even people."
   ]
  },
  {
   "cell_type": "markdown",
   "metadata": {},
   "source": [
    "* ![Alt text](img/30.%20Permutations%20and%20How%20to%20Use%20Them1.jpg)\n",
    "* ![Alt text](img/30.%20Permutations%20and%20How%20to%20Use%20Them2.jpg)\n",
    "* The order in which we fill them out is completely up to us.\n",
    "* n = different possible winners.\n",
    "* n-1 =  many possibilities for the second slot\n",
    "* n-2 = possible outcomes for who finishes third"
   ]
  },
  {
   "cell_type": "markdown",
   "metadata": {},
   "source": [
    "## Quiz 23: Permutations and How to Use Them"
   ]
  },
  {
   "attachments": {},
   "cell_type": "markdown",
   "metadata": {},
   "source": [
    "https://www.udemy.com/course/the-data-science-course-complete-data-science-bootcamp/learn/quiz/4620612"
   ]
  },
  {
   "cell_type": "markdown",
   "metadata": {},
   "source": [
    "1. Going back to the Formula 1 example from the lecture, in how many ways can the 20 drivers finish the race?\n",
    "    * 20!\n",
    "        * Ten teams of two drivers means there are 20 drivers that take part in the race. Even if a driver does not cross the finish line, they are assigned a finishing position based on when they exited the race. Therefore, we need to calculate a permutation for n = 20, which is 20!.\n",
    "2. When we determine the available options for every position in a permutation, can we start with the middle element?\n",
    "    * Yes, choosing the order is completely up to us.\n",
    "        * When dealing with permutation, we can start from any position in the sample space. Convention dictates that we usually start from the first, but we can begin with any element we desire."
   ]
  },
  {
   "cell_type": "markdown",
   "metadata": {},
   "source": [
    "## 31. Simple Operations with Factorials"
   ]
  },
  {
   "attachments": {},
   "cell_type": "markdown",
   "metadata": {},
   "source": [
    "https://www.udemy.com/course/the-data-science-course-complete-data-science-bootcamp/learn/lecture/14241696"
   ]
  },
  {
   "cell_type": "markdown",
   "metadata": {},
   "source": [
    "* ![Alt text](img/31.%20Simple%20Operations%20with%20Factorials1.jpg)\n",
    "* ![Alt text](img/31.%20Simple%20Operations%20with%20Factorials2.jpg)\n",
    "* ![Alt text](img/31.%20Simple%20Operations%20with%20Factorials3.jpg)\n",
    "* ![Alt text](img/31.%20Simple%20Operations%20with%20Factorials4.jpg)\n",
    "* ![Alt text](img/31.%20Simple%20Operations%20with%20Factorials5.jpg)\n",
    "* ![Alt text](img/31.%20Simple%20Operations%20with%20Factorials6.jpg)\n",
    "* ![Alt text](img/31.%20Simple%20Operations%20with%20Factorials7.jpg)"
   ]
  },
  {
   "cell_type": "markdown",
   "metadata": {},
   "source": [
    "## Quiz 24: Simple Operations with Factorials"
   ]
  },
  {
   "attachments": {},
   "cell_type": "markdown",
   "metadata": {},
   "source": [
    "https://www.udemy.com/course/the-data-science-course-complete-data-science-bootcamp/learn/quiz/4620614"
   ]
  },
  {
   "cell_type": "markdown",
   "metadata": {},
   "source": [
    "1. What is 5! equal to?\n",
    "    * 120\n",
    "        * Correct, because 120 = 1 * 2 * 3 * 4 * 5. Option a) is simply 5, while c) and d) respectively show the values from 4! And 6!.\n",
    "2. Which of the following is NOT equivalent of \"6!\" ?\n",
    "    * 8!/8\n",
    "        * Since n! = (n+1)!/(n+1), then 8!/8 = 7!, which is different from 6!. Therefore, this answer correct.\n",
    "3. Which of the following is equivalent to \"5!/3!\" ?\n",
    "    * 4*5\n",
    "        * Recall that when we have n!/k!, the result is equivalent to the product of all integers from k+1 to n. Since n=5 and k=3, then we have the product of all integers within the closed interval from 4 to 5."
   ]
  },
  {
   "cell_type": "markdown",
   "metadata": {},
   "source": [
    "## 32. Solving Variations with Repetition"
   ]
  },
  {
   "attachments": {},
   "cell_type": "markdown",
   "metadata": {},
   "source": [
    "https://www.udemy.com/course/the-data-science-course-complete-data-science-bootcamp/learn/lecture/14241702"
   ]
  },
  {
   "cell_type": "markdown",
   "metadata": {},
   "source": [
    "* Variations, express the total number of ways we can pick and arrange some elements of a given set.\n",
    "* ![Alt text](img/32.%20Solving%20Variations%20with%20Repetition1.jpg)\n",
    "* ![Alt text](img/32.%20Solving%20Variations%20with%20Repetition2.jpg)\n",
    "* ![Alt text](img/32.%20Solving%20Variations%20with%20Repetition3.jpg)"
   ]
  },
  {
   "cell_type": "markdown",
   "metadata": {},
   "source": [
    "## Quiz 25: Solving Variations with Repetition"
   ]
  },
  {
   "attachments": {},
   "cell_type": "markdown",
   "metadata": {},
   "source": [
    "https://www.udemy.com/course/the-data-science-course-complete-data-science-bootcamp/learn/quiz/4620616"
   ]
  },
  {
   "cell_type": "markdown",
   "metadata": {},
   "source": [
    "1. When do we use Variations instead of Permutations?\n",
    "    * When we are not arranging all elements in the sample space.\n",
    "        * We use Variations when we have to first pick and then arrange some (but not all) elements of the sample space.\n",
    "2. Going back to the combinations lock example from last lecture, imagine the correct code consisted of a single 4-letter word. Remember that we can only use the letters A, B and C. How many possible passcodes are there?<br>\n",
    "**Note: Assuming n and y are some numbers, we denote \"n to the power of y\" as n^y.\n",
    "    * 3^4\n",
    "        * We have 4 different positions and we have 3 possible outcomes for each one. Therefore, we have 3^4, or 81 possible passcodes\n",
    "3. Going back to the combination lock example from the lecture, imagine the correct code consisted of a single 4-letter word. However, this time the passcode can only consist of letters found in the word “password”. How many possible passcodes are there?<br>\n",
    "Hint: How many unique letters can be found in \"password\"?\n",
    "    * 7^4\n",
    "        * Even though “password” is an 8-letter word, it consists of only 7 distinct letters. That means we have 7 options for each position, so there exist 7^4 different possible passcodes."
   ]
  },
  {
   "cell_type": "markdown",
   "metadata": {},
   "source": [
    "## 33. Solving Variations without Repetition"
   ]
  },
  {
   "attachments": {},
   "cell_type": "markdown",
   "metadata": {},
   "source": [
    "https://www.udemy.com/course/the-data-science-course-complete-data-science-bootcamp/learn/lecture/14241708"
   ]
  },
  {
   "cell_type": "markdown",
   "metadata": {},
   "source": [
    "* The further down the order, the fewer options are left with, since nobody is permitted to run multiple legs.\n",
    "* Variations without repetition is because we cannot use the same element twice if we already choose\n",
    "* Variations don't take into account double counting elements.\n",
    "* ![Alt text](img/33.%20Solving%20Variations%20without%20Repetition1.jpg)\n",
    "* ![Alt text](img/33.%20Solving%20Variations%20without%20Repetition2.jpg)"
   ]
  },
  {
   "cell_type": "markdown",
   "metadata": {},
   "source": [
    "## Quiz 26: Solving Variations without Repetition"
   ]
  },
  {
   "attachments": {},
   "cell_type": "markdown",
   "metadata": {},
   "source": [
    "https://www.udemy.com/course/the-data-science-course-complete-data-science-bootcamp/learn/quiz/4620618"
   ]
  },
  {
   "cell_type": "markdown",
   "metadata": {},
   "source": [
    "1. Going back to the relay example from the lecture, what if instead of 5 people on the team, we had 7. We would still have to choose 4 of them and arrange them in what order to run, but in how many ways can we accomplish that?   \n",
    "    * 7!/3!\n",
    "        * In this case, we can plug in 7 for n and 4 for p into the formula from the lecture. Then, n!/(n-p)!=7!/(7-4)!, which is just 7!/3!.\n",
    "2. Going back to the relay example from the lecture, what if instead of 5 people on the team, we had 7. Furthermore, this time we also need to pick a reserve player to be on stand-by.<br>\n",
    "In how many ways can we accomplish that?\n",
    "    * 7!/2!\n",
    "        * In this instance, we have the 4 different legs and also the person on stand-by, which results in a total of 5 positions. Therefore, we need to pick and choose 5 of the 7 people on the team. We simply plug in 7 for n and 5 for p into the formula to get n!/(n-p)!=7!/(7-5)!, or simply 7!/2!.\n",
    "3. Imagine you were asked to order a 3-tier cake for your best friend' s wedding. They asked you to get a cake with a variety of flavors, so you decide to order different batters (cake flavours)  for each tier. The pastry shop you contacted offers 5 different batters, so you want to know how many distinct options you have for the cake.\n",
    "    * 5!/2!\n",
    "        * We need to pick and arrange 3 of the 5 available flavors. Applying the formula we talked about earlier, we get 5!/((5-3)!), or 5!/2! different cakes."
   ]
  },
  {
   "cell_type": "markdown",
   "metadata": {},
   "source": [
    "## 34. Solving Combinations"
   ]
  },
  {
   "attachments": {},
   "cell_type": "markdown",
   "metadata": {},
   "source": [
    "https://www.udemy.com/course/the-data-science-course-complete-data-science-bootcamp/learn/lecture/14241718"
   ]
  },
  {
   "cell_type": "markdown",
   "metadata": {},
   "source": [
    "* Combinations represent the number of different ways we can pick certain elements of a set.\n",
    "* Combination can take double counting element\n",
    "* ![Alt text](img/34.%20Solving%20Combinations1.jpg)\n",
    "* ![Alt text](img/34.%20Solving%20Combinations2.jpg)\n",
    "* ![Alt text](img/34.%20Solving%20Combinations3.jpg)\n",
    "* ![Alt text](img/34.%20Solving%20Combinations4.jpg)\n",
    "* ![Alt text](img/34.%20Solving%20Combinations5.jpg)"
   ]
  },
  {
   "cell_type": "markdown",
   "metadata": {},
   "source": [
    "## Quiz 27: Solving Combinations"
   ]
  },
  {
   "attachments": {},
   "cell_type": "markdown",
   "metadata": {},
   "source": [
    "https://www.udemy.com/course/the-data-science-course-complete-data-science-bootcamp/learn/quiz/4620620"
   ]
  },
  {
   "cell_type": "markdown",
   "metadata": {},
   "source": [
    "1. Which of the following depicts the relationship between permutations, variations and combinations without repetition?\n",
    "    * C = V / P\n",
    "        * As we stated in the lecture, every permutation of a combination is a different variation. Therefore, there are P-times more variations than combinations.\n",
    "2. Imagine you are on a trip to Paris and decide to try some of their famous macaroons. The bakery you go to offers a different size “variety” packs, where you get to choose 3, 5 or 8 macaroons. The only requirement is that they all be different flavors.  <br>\n",
    "How many different 3-macaroon packs can you get, considering there are 8 distinct flavors.\n",
    "    * 8!/(3!5!)\n",
    "        * Since it makes no difference to us what order they put the macarons in the box, we are dealing with combinations instead of variations. There are 8 distinct flavours, but we are only getting 3 macarons. Then n is 8 and p is 3, so we plug these values into the formula from this lecture to get n!/p!(n-p)!=8!/3!5!.\n",
    "3. Now imagine you want to get the medium pack which contains 5 macaroons instead of 3. How many different possible packs can you make?\n",
    "    * 8!/(5!3!)\n",
    "        * Just like the last question, it makes no difference to us what order they put the macaroons in the box, we are dealing with combinations. There are 8 distinct flavors, but we are only getting 5 macaroons. Then n is 8 and p is 5, so we plug these values into the formula from this lecture to get n!/p!(n-p)!=8!/(5!3!)\n",
    "4. Now imagine the same scenario but this time you want the large box of 8 macaroons. How many different variety packs can you get?\n",
    "    * 1\n",
    "        * If we plug in 8 for both n and p, we get that there are n!/p!(n-p)!=8!/(8!0!) different variety packs of 8 macrons. Since 0!=1, 8!/(8!0!)=8!/8! , which is just 1. Because we have only 1 way of getting 8 macrons with different flavors considering we only have 8 distinct fillings."
   ]
  },
  {
   "cell_type": "markdown",
   "metadata": {},
   "source": [
    "## 35. Symmetry of Combinations"
   ]
  },
  {
   "attachments": {},
   "cell_type": "markdown",
   "metadata": {},
   "source": [
    "https://www.udemy.com/course/the-data-science-course-complete-data-science-bootcamp/learn/lecture/14241726"
   ]
  },
  {
   "cell_type": "markdown",
   "metadata": {},
   "source": [
    "* ![Alt text](img/35.%20Symmetry%20of%20Combinations1.jpg)\n",
    "* ![Alt text](img/35.%20Symmetry%20of%20Combinations2.jpg)"
   ]
  },
  {
   "cell_type": "markdown",
   "metadata": {},
   "source": [
    "## Quiz 28: Symmetry of Combinations"
   ]
  },
  {
   "attachments": {},
   "cell_type": "markdown",
   "metadata": {},
   "source": [
    "https://www.udemy.com/course/the-data-science-course-complete-data-science-bootcamp/learn/quiz/4620622"
   ]
  },
  {
   "cell_type": "markdown",
   "metadata": {},
   "source": [
    "1. What is the intuition behind the symmetry of combinations?<br>\n",
    "Note: We're looking for a statement that explains precisely the mathematical symmetry aspect (i.e. objects equal distance apart, have identical characteristics)\n",
    "    * Picking \"p\"-many elements out of \"n\", is the same as omitting \"n-p\"-many elements.\n",
    "        * Despite answers a) & b) being true in general, they are not the reason behind symmetry. The statement in a) states a reason for why symmetry can be useful. The one in b) also shows why we would want to apply symmetry."
   ]
  },
  {
   "cell_type": "markdown",
   "metadata": {},
   "source": [
    "## 36. Solving Combinations with Separate Sample Spaces"
   ]
  },
  {
   "attachments": {},
   "cell_type": "markdown",
   "metadata": {},
   "source": [
    "https://www.udemy.com/course/the-data-science-course-complete-data-science-bootcamp/learn/lecture/14241744"
   ]
  },
  {
   "cell_type": "markdown",
   "metadata": {},
   "source": [
    "## Quiz 29: Solving Combinations with Separate Sample Spaces"
   ]
  },
  {
   "attachments": {},
   "cell_type": "markdown",
   "metadata": {},
   "source": [
    "https://www.udemy.com/course/the-data-science-course-complete-data-science-bootcamp/learn/quiz/4620624"
   ]
  },
  {
   "cell_type": "markdown",
   "metadata": {},
   "source": [
    "1. How many different burger menus can we order from a McDonald's Restaurant if we have a choice of 8 burgers, 3 sizes of fries and 5 different drinks, assuming a menu consist of a burger, some fries and a drink?\n",
    "    * 8*3*5\n",
    "        * We have 3 positions and we have different-sized sample spaces for each one. As mentioned in the lecture, we treat the different parts of the menu as positions. For each of the 3 positions, we have a different number of possible choices: 8 for the burgers, 3 for the fries and 5 for the beverages. Therefore, we have 8×3×5, or 120 different possible menus to chose from."
   ]
  },
  {
   "cell_type": "markdown",
   "metadata": {},
   "source": [
    "## 37. Combinatorics in Real-Life: The Lottery"
   ]
  },
  {
   "attachments": {},
   "cell_type": "markdown",
   "metadata": {},
   "source": [
    "https://www.udemy.com/course/the-data-science-course-complete-data-science-bootcamp/learn/lecture/14241754"
   ]
  },
  {
   "cell_type": "markdown",
   "metadata": {},
   "source": [
    "## Quiz 30: Combinatorics in Real-Life: The Lottery"
   ]
  },
  {
   "attachments": {},
   "cell_type": "markdown",
   "metadata": {},
   "source": [
    "https://www.udemy.com/course/the-data-science-course-complete-data-science-bootcamp/learn/quiz/4620626"
   ]
  },
  {
   "cell_type": "markdown",
   "metadata": {},
   "source": [
    "1. Imagine we bought 5 lottery tickets and we played with the exact same numbers on each one. How does our likelihood of success change compared to having a single ticket?\n",
    "    * Our likelihood of success remains the same, since the number of favorable outcomes remains the same."
   ]
  },
  {
   "cell_type": "markdown",
   "metadata": {},
   "source": [
    "## 38. A Recap of Combinatorics"
   ]
  },
  {
   "attachments": {},
   "cell_type": "markdown",
   "metadata": {},
   "source": [
    "https://www.udemy.com/course/the-data-science-course-complete-data-science-bootcamp/learn/lecture/14241758"
   ]
  },
  {
   "cell_type": "markdown",
   "metadata": {},
   "source": [
    "* ![Alt text](img/38.%20A%20Recap%20of%20Combinatorics1.jpg)\n",
    "* ![Alt text](img/38.%20A%20Recap%20of%20Combinatorics2.jpg)\n",
    "* ![Alt text](img/38.%20A%20Recap%20of%20Combinatorics3.jpg)\n",
    "* ![Alt text](img/38.%20A%20Recap%20of%20Combinatorics4.jpg)\n",
    "* ![Alt text](img/38.%20A%20Recap%20of%20Combinatorics5.jpg)\n",
    "* ![Alt text](img/38.%20A%20Recap%20of%20Combinatorics6.jpg)"
   ]
  },
  {
   "cell_type": "markdown",
   "metadata": {},
   "source": [
    "## 39. A Practical Example of Combinatorics"
   ]
  },
  {
   "attachments": {},
   "cell_type": "markdown",
   "metadata": {},
   "source": [
    "https://www.udemy.com/course/the-data-science-course-complete-data-science-bootcamp/learn/lecture/14242356"
   ]
  },
  {
   "cell_type": "markdown",
   "metadata": {},
   "source": [
    "# **11. Probability - Bayesian Inference**"
   ]
  },
  {
   "cell_type": "markdown",
   "metadata": {},
   "source": [
    "## 40. Sets and Events"
   ]
  },
  {
   "attachments": {},
   "cell_type": "markdown",
   "metadata": {},
   "source": [
    "https://www.udemy.com/course/the-data-science-course-complete-data-science-bootcamp/learn/lecture/14241772"
   ]
  },
  {
   "cell_type": "markdown",
   "metadata": {},
   "source": [
    "* Every event has a set of outcomes (favourable outcomes)\n",
    "    * example: even number (2, 4, 6, ...)\n",
    "* Values of a set don't always have to be numerical\n",
    "* Any set can be either **empty** or have values in it\n",
    "    * the empty set = the null set"
   ]
  },
  {
   "cell_type": "markdown",
   "metadata": {},
   "source": [
    "* Non-Empty Sets\n",
    "    1. Finite\n",
    "    2. Infinite\n",
    "    * Depending on the number of elements they have."
   ]
  },
  {
   "cell_type": "markdown",
   "metadata": {},
   "source": [
    "* ![Alt text](img/40.%20Sets%20and%20Events1.jpg)\n",
    "* ![Alt text](img/40.%20Sets%20and%20Events2.jpg)\n",
    "* ![Alt text](img/40.%20Sets%20and%20Events3.jpg)\n",
    "* ![Alt text](img/40.%20Sets%20and%20Events4.jpg)\n",
    "* ![Alt text](img/40.%20Sets%20and%20Events5.jpg)\n",
    "* ![Alt text](img/40.%20Sets%20and%20Events6.jpg)\n",
    "* ![Alt text](img/40.%20Sets%20and%20Events7.jpg)"
   ]
  },
  {
   "cell_type": "markdown",
   "metadata": {},
   "source": [
    "## Quiz 31: Sets and Events"
   ]
  },
  {
   "attachments": {},
   "cell_type": "markdown",
   "metadata": {},
   "source": [
    "https://www.udemy.com/course/the-data-science-course-complete-data-science-bootcamp/learn/quiz/4620628"
   ]
  },
  {
   "cell_type": "markdown",
   "metadata": {},
   "source": [
    "1. Which of the following is true about events?\n",
    "    * There always exist a set of outcomes that satisfy a given event.\n",
    "        * Because the null set exists, even the outcomes of an impossible event can be described with a set. Option b) is incorrect, since events can have categorical, Boolean or other types of outcomes different from numeric ones. Option c) is wrong, since we indicate individual outcomes or elements of a set with lower-case letters from the Latin alphabet. Option d) is incorrect because we denote events and the sets of outcomes that satisfy them with capital letters.\n",
    "2. How do we interpret the following?\n",
    "    * ![Alt text](img/Quiz%2031%20Sets%20and%20Events1.jpg)\n",
    "    * For any non-negative value x, within the set X.\n",
    "        * Option a) is incorrect because it omits zero as a possible value. The same is true for c). Option d) would be correct if it stated: “greater than or equal to”. Option d) is wrong because the values also have to part of the set X.\n",
    "3. Question 3:\n",
    "    * ![Alt text](img/Quiz%2031%20Sets%20and%20Events2.jpg)\n",
    "    * b is an element of A\n",
    "        * Since B is a subset of A, then any value of B, is also in A. Therefore, since b is a part of the smaller set B, it is also a part of the larger set A. Option a) is incorrect, since elements a and b don’t necessarily have to be comparable like in the EU example from the lecture. Option b) is incorrect because two events being part of the same set (A) does not mean they have identical values. Option d) is incorrect, because it does not necessarily hold true all the time."
   ]
  },
  {
   "cell_type": "markdown",
   "metadata": {},
   "source": [
    "## 41. Ways Sets Can Interact"
   ]
  },
  {
   "attachments": {},
   "cell_type": "markdown",
   "metadata": {},
   "source": [
    "https://www.udemy.com/course/the-data-science-course-complete-data-science-bootcamp/learn/lecture/14241776"
   ]
  },
  {
   "cell_type": "markdown",
   "metadata": {},
   "source": [
    "* ![Alt text](img/41.%20Ways%20Sets%20Can%20Interact1.jpg)\n",
    "* ![Alt text](img/41.%20Ways%20Sets%20Can%20Interact2.jpg)\n",
    "* ![Alt text](img/41.%20Ways%20Sets%20Can%20Interact3.jpg)"
   ]
  },
  {
   "cell_type": "markdown",
   "metadata": {},
   "source": [
    "* Intersecting\n",
    "    * The two events can occur at the same time\n",
    "* Completely Overlaping\n",
    "    * One Event can only ever occur if the other one does as well\n",
    "* Conclusion:\n",
    "    * If an outcome is NOT part of a SET, it CANNOT be part of any of its SUBSETS\n",
    "    * An outcome NOT being part of SOME subset, does NOT EXCLUDE it from the entirety of the greater set"
   ]
  },
  {
   "cell_type": "markdown",
   "metadata": {},
   "source": [
    "## Quiz 32: Ways Sets Can Interact"
   ]
  },
  {
   "attachments": {},
   "cell_type": "markdown",
   "metadata": {},
   "source": [
    "https://www.udemy.com/course/the-data-science-course-complete-data-science-bootcamp/learn/quiz/4620630"
   ]
  },
  {
   "cell_type": "markdown",
   "metadata": {},
   "source": [
    "1. Which of the following does not describe two events with overlapping sets of outcomes?\n",
    "    * Eating meat and being vegan.\n",
    "        * We know that nobody can be simultaneously vegan and eat meat, so these two events do not have any overlapping values.\n",
    "2. If two events can occur at the same time, then their respective circles would....\n",
    "    * Partially overlap.(intersect)\n",
    "        * Answer a) would be correct if one event occurring guarantees the other one occurring as well. Answer c) would be correct if the two can never occur simultaneously. Answer d) is a special case of answer b). If the two circles are tangent, they do overlap, but only at a single point. That would mean they have a solitary overlapping element. Therefore, option d) is not entirely true all the time, while option b) is always completely true."
   ]
  },
  {
   "cell_type": "markdown",
   "metadata": {},
   "source": [
    "## 42. Intersection of Sets"
   ]
  },
  {
   "attachments": {},
   "cell_type": "markdown",
   "metadata": {},
   "source": [
    "https://www.udemy.com/course/the-data-science-course-complete-data-science-bootcamp/learn/lecture/14241778"
   ]
  },
  {
   "cell_type": "markdown",
   "metadata": {},
   "source": [
    "* Intersections only when we want to denote instances where both events A and B happen simultaneously.\n",
    "\n",
    "* ![Alt text](img/42.%20Intersection%20of%20Sets1.jpg)\n",
    "* ![Alt text](img/42.%20Intersection%20of%20Sets2.jpg)\n",
    "* ![Alt text](img/42.%20Intersection%20of%20Sets3.jpg)\n",
    "* ![Alt text](img/42.%20Intersection%20of%20Sets4.jpg)\n",
    "* ![Alt text](img/42.%20Intersection%20of%20Sets5.jpg)"
   ]
  },
  {
   "cell_type": "markdown",
   "metadata": {},
   "source": [
    "## Quiz 33: Intersection of Sets"
   ]
  },
  {
   "attachments": {},
   "cell_type": "markdown",
   "metadata": {},
   "source": [
    "https://www.udemy.com/course/the-data-science-course-complete-data-science-bootcamp/learn/quiz/4620632"
   ]
  },
  {
   "cell_type": "markdown",
   "metadata": {},
   "source": [
    "1. Mark the FALSE statement.<br>\n",
    "If we know that\n",
    "    * ![Alt text](img/Quiz%2033%20Intersection%20of%20Sets1.jpg)\n",
    "    * a is part of B.\n",
    "        * Since element ‘a’ is a part of A, then A contains ‘a’, so the statement in a) is TRUE. The intersection of two sets is always the same, regardless of how we write it down, so A∩B=B∩A and the statement in b) is also TRUE. Since element ‘b’ is part of the intersection, then it is part of both A and B. Similarly to option a), this implies that the set B contains ‘b’, so answer c) is also TRUE. Therefore, d) is the only FALSE statement.\n",
    "2. Mark the pair of sets, whose intersection is NOT the null set.\n",
    "    * Non-positive and non-negative numbers.\n",
    "        * Non-positive and non-negative numbers both include 0, so there exists an element which is part of their intersection. Therefore, it is different from the null set. The answers in a), c) and d) were all sets, whose circles do not overlap in any way.\n",
    "3. Which of the following showcases two sets, whose intersection is the smaller set?\n",
    "    * Black cards and clubs.\n",
    "        * If the intersection of two sets is the smaller set, then one is a subset of the other. Since all Clubs are also black cards, then answer a) is the correct one. Option b) is incorrect since the intersection of Aces and Jacks is the empty set, since no card is simultaneously both. The same can be said for option d), where no card can have multiple suits. Answer c) is not correct since the two sets intersect, but one is not a subset of the other."
   ]
  },
  {
   "cell_type": "markdown",
   "metadata": {},
   "source": [
    "## 43. Union of Sets"
   ]
  },
  {
   "attachments": {},
   "cell_type": "markdown",
   "metadata": {},
   "source": [
    "https://www.udemy.com/course/the-data-science-course-complete-data-science-bootcamp/learn/lecture/14241782"
   ]
  },
  {
   "cell_type": "markdown",
   "metadata": {},
   "source": [
    "* The union of two sets is a combination of all outcomes preferred for either A or B.\n",
    "* ![Alt text](img/43.%20Union%20of%20Sets1.jpg)\n",
    "* To avoid confusion between the two, remember the symbol for union resembles a capital letter U.\n",
    "* ![Alt text](img/43.%20Union%20of%20Sets2.jpg)\n",
    "* ![Alt text](img/43.%20Union%20of%20Sets3.jpg)\n",
    "* ![Alt text](img/43.%20Union%20of%20Sets4.jpg)\n",
    "* ![Alt text](img/43.%20Union%20of%20Sets5.jpg)"
   ]
  },
  {
   "cell_type": "markdown",
   "metadata": {},
   "source": [
    "## Quiz 34: Union of Sets"
   ]
  },
  {
   "attachments": {},
   "cell_type": "markdown",
   "metadata": {},
   "source": [
    "https://www.udemy.com/course/the-data-science-course-complete-data-science-bootcamp/learn/quiz/4620634"
   ]
  },
  {
   "cell_type": "markdown",
   "metadata": {},
   "source": [
    "1. If the intersection of sets A and B (where A is larger than B), is the set B, then their union is....:\n",
    "    * The larger set. (A)\n",
    "        * If the intersection of two sets is the smaller set, then one is a subset of the other. In such cases, the union of the two sets is simply the larger set, so answer a) is correct. Option b) can be correct in the special case, where the two sets are identical. Since we clearly stated one set is bigger, this cannot be the case and option b) is incorrect. Option c) is true for sets, whose intersection is the empty set. Therefore, it could be correct in the special case, where one of A or B is equal to the null set.\n",
    "2. Question 2:\n",
    "    * ![Alt text](img/Quiz%2034%20Union%20of%20Sets1.jpg)\n",
    "    * d)\n",
    "        * Recall that the union symbol resembles the letter “U”. Furthermore, the union of two sets is the same, regardless of the order in which we write them out, so d) is the correct answer.\n",
    "3. There are 8 blond and 10 brown-eyed people in the office. If only Jason and Eve have both features, how many people represent the union of blond and brown-eyed people?\n",
    "    * 16\n",
    "        * Since Jason and Eve have both features, then the intersection of the two sets would only contain two people. Applying the formula we introduced in the lecture, the union is equal to the sum of the two sets, minus their intersection. Therefore, 8 + 10 – 2, or 16 people in the office posses at least one of the features and b) is the correct answer."
   ]
  },
  {
   "cell_type": "markdown",
   "metadata": {},
   "source": [
    "## 44. Mutually Exclusive Sets"
   ]
  },
  {
   "attachments": {},
   "cell_type": "markdown",
   "metadata": {},
   "source": [
    "https://www.udemy.com/course/the-data-science-course-complete-data-science-bootcamp/learn/lecture/14241784"
   ]
  },
  {
   "cell_type": "markdown",
   "metadata": {},
   "source": [
    "Mutually exclusive sets are sets which are not allowed to have any overlapping elements, graphically their circles never intersect.<br>\n",
    "Mutually exclusive sets have the empty set as their intersection. Therefore, if the intersection of any number of sets is the empty set, then they must be mutually exclusive and vice versa."
   ]
  },
  {
   "cell_type": "markdown",
   "metadata": {},
   "source": [
    "* ![Alt text](img/44.%20Mutually%20Exclusive%20Sets1.jpg)\n",
    "* ![Alt text](img/44.%20Mutually%20Exclusive%20Sets2.jpg)\n",
    "* ![Alt text](img/44.%20Mutually%20Exclusive%20Sets3.jpg)\n",
    "* ![Alt text](img/44.%20Mutually%20Exclusive%20Sets4.jpg)"
   ]
  },
  {
   "cell_type": "markdown",
   "metadata": {},
   "source": [
    "## Quiz 35: Mutually Exclusive Sets"
   ]
  },
  {
   "attachments": {},
   "cell_type": "markdown",
   "metadata": {},
   "source": [
    "https://www.udemy.com/course/the-data-science-course-complete-data-science-bootcamp/learn/quiz/4620636"
   ]
  },
  {
   "cell_type": "markdown",
   "metadata": {},
   "source": [
    "1. How do we graphically express two mutually exclusive sets?\n",
    "    * Their circles do not touch\n",
    "        * The circles of mutually exclusive sets should never touch because they do not have even a single value in common. Therefore, a) c) and d) are all incorrect.\n",
    "2. What are the intersection and union of two mutually exclusive sets?\n",
    "    * The union is their sum and the intersection is the empty set.\n",
    "        * As we have stated before, since the sets are mutually exclusive, no element features in both, so their intersection is the empty set. Plugging this into the formula for finding the size of the union, we get that the union equals the sum of these sets. Therefore, answer d) is correct.\n",
    "3. Which statement is correct?\n",
    "    * All complements are mutually exclusive\n",
    "        * Answer c) is correct because all complements are mutually exclusive, but only some mutually exclusive sets are complements.\n",
    "4. Which pair of sets are mutually exclusive, but not complements?\n",
    "    * A: Winning a game.<br>\n",
    "    B: Drawing a game.<br>\n",
    "    * drawing as in finishing in a draw\n",
    "        * Answer b) is correct, because you can not simultaneously win and draw the same game. However, you can also lose this game, so the two are not complements. Option a) is incorrect, because the two are not mutually exclusive, since 2 is both even and prime. Options c) and d) are incorrect, because the sets in either are complements."
   ]
  },
  {
   "cell_type": "markdown",
   "metadata": {},
   "source": [
    "## 45. Dependence and Independence of Sets"
   ]
  },
  {
   "attachments": {},
   "cell_type": "markdown",
   "metadata": {},
   "source": [
    "https://www.udemy.com/course/the-data-science-course-complete-data-science-bootcamp/learn/lecture/14241788"
   ]
  },
  {
   "cell_type": "markdown",
   "metadata": {},
   "source": [
    "* Independent is the theoretical probability of which remains unaffected by other events.\n",
    "    * Example: is flipping a coin. You always have a 50% chance of getting tails regardless of the result obtained with the previous throw.\n",
    "* Dependence is Probabilities of dependent events vary as conditions change.\n",
    "    * Example: \n",
    "    * ![Alt text](img/45.%20Dependence%20and%20Independence%20of%20Sets1.jpg)\n",
    "    * ![Alt text](img/45.%20Dependence%20and%20Independence%20of%20Sets2.jpg)\n",
    "    * ![Alt text](img/45.%20Dependence%20and%20Independence%20of%20Sets3.jpg)\n",
    "    * ![Alt text](img/45.%20Dependence%20and%20Independence%20of%20Sets4.jpg)\n",
    "        * Conditional Probability -> P(A|C) -> Distinguish dependent from independent events"
   ]
  },
  {
   "cell_type": "markdown",
   "metadata": {},
   "source": [
    "## Quiz 36: Dependence and Independence of Sets"
   ]
  },
  {
   "attachments": {},
   "cell_type": "markdown",
   "metadata": {},
   "source": [
    "https://www.udemy.com/course/the-data-science-course-complete-data-science-bootcamp/learn/quiz/4620638"
   ]
  },
  {
   "cell_type": "markdown",
   "metadata": {},
   "source": [
    "1. If the probability of an event remains unaffected by another event, the two are....\n",
    "    * Independent\n",
    "2. If we draw a card from a standard deck of playing cards, which of the following sets of events A and B are independent?<br>\n",
    "* Hint: Compare the Conditional and Unconditional probabilities (e.g. P(A) and P(A|B)) to determine whether the events in each pair are independent. If P(A) = P(A|B), then the two are independent and if not, A and B are dependent.\n",
    "    * Event A - the card being a diamond<br>\n",
    "    Event B - the card being an Ace\n",
    "        * Answer c) is correct, because our chances of drawing an Ace are 1/13, regardless of whether we drew a diamond or not.\n",
    "3. What do we call the probability we use to distinguish dependent from independent events?\n",
    "    * The conditional probability\n",
    "        * We compare the conditional probability of two events to their pure probability to determine whether they are dependent or not."
   ]
  },
  {
   "cell_type": "markdown",
   "metadata": {},
   "source": [
    "## 46. The Conditional Probability Formula"
   ]
  },
  {
   "attachments": {},
   "cell_type": "markdown",
   "metadata": {},
   "source": [
    "https://www.udemy.com/course/the-data-science-course-complete-data-science-bootcamp/learn/lecture/14241794"
   ]
  },
  {
   "cell_type": "markdown",
   "metadata": {},
   "source": [
    "* Conditional probability is the likelihood of an event occurring, Assuming a different one has already happened.\n",
    "* ![Alt text](img/46.%20The%20Conditional%20Probability%20Formula1.jpg)\n",
    "* ![Alt text](img/46.%20The%20Conditional%20Probability%20Formula2.jpg)\n",
    "* ![Alt text](img/46.%20The%20Conditional%20Probability%20Formula3.jpg)\n",
    "* ![Alt text](img/46.%20The%20Conditional%20Probability%20Formula4.jpg)\n",
    "* ![Alt text](img/46.%20The%20Conditional%20Probability%20Formula5.jpg)\n",
    "* ![Alt text](img/46.%20The%20Conditional%20Probability%20Formula6.jpg)"
   ]
  },
  {
   "cell_type": "markdown",
   "metadata": {},
   "source": [
    "## Quiz 37: The Conditional Probability Formula"
   ]
  },
  {
   "attachments": {},
   "cell_type": "markdown",
   "metadata": {},
   "source": [
    "https://www.udemy.com/course/the-data-science-course-complete-data-science-bootcamp/learn/quiz/4620640"
   ]
  },
  {
   "cell_type": "markdown",
   "metadata": {},
   "source": [
    "1. What can you conclude about events A and B, given that P(A) = P(A|B)?\n",
    "    * The two are independent\n",
    "        * By definition, if the occurrence of one event does not alter the likelihood of the other one occurring, then the two are independent. Therefore, a) is the correct answer.\n",
    "2. Applying the Conditional Probability Formula, what is the probability of event A occurring, given event B has occurred if the likelihood of getting their intersection is 0.15 and the likelihood of event B is 0.6?\n",
    "    * 0.25\n",
    "        * According to the formula, P(A|B) = 0.15/0.6 = 0.25.\n",
    "3. What is the difference between P(A|B) and P(B|A)?3\n",
    "    * One indicates the probability of getting A, given B has occured, while the other indicates the likelihood of getting B, ginven A has occured.\n",
    "        * P(A|B) and P(B|A) express the conditional probabilities involving events A and B, so the correct answer is c)."
   ]
  },
  {
   "cell_type": "markdown",
   "metadata": {},
   "source": [
    "## 47. The Law of Total Probability"
   ]
  },
  {
   "attachments": {},
   "cell_type": "markdown",
   "metadata": {},
   "source": [
    "https://www.udemy.com/course/the-data-science-course-complete-data-science-bootcamp/learn/lecture/14241796"
   ]
  },
  {
   "cell_type": "markdown",
   "metadata": {},
   "source": [
    "* Many scientific papers rely on conducting experiments or surveys.\n",
    "* They often provide summarized statistics we use to analyze and interpret how certain factors affect one another."
   ]
  },
  {
   "cell_type": "markdown",
   "metadata": {},
   "source": [
    "* ![Alt text](img/47.%20The%20Law%20of%20Total%20Probability1.jpg)\n",
    "* ![Alt text](img/47.%20The%20Law%20of%20Total%20Probability2.jpg)\n",
    "* it is more likely for a vegetarian to be female than for of a woman not to eat meat."
   ]
  },
  {
   "cell_type": "markdown",
   "metadata": {},
   "source": [
    "* ![Alt text](img/47.%20The%20Law%20of%20Total%20Probability3.jpg)\n",
    "* ![Alt text](img/47.%20The%20Law%20of%20Total%20Probability4.jpg)"
   ]
  },
  {
   "cell_type": "markdown",
   "metadata": {},
   "source": [
    "## 48. The Additive Rule"
   ]
  },
  {
   "attachments": {},
   "cell_type": "markdown",
   "metadata": {},
   "source": [
    "https://www.udemy.com/course/the-data-science-course-complete-data-science-bootcamp/learn/lecture/14241800"
   ]
  },
  {
   "cell_type": "markdown",
   "metadata": {},
   "source": [
    "* ![Alt text](img/48.%20The%20Additive%20Rule1.jpg)\n",
    "* ![Alt text](img/48.%20The%20Additive%20Rule2.jpg)\n",
    "* ![Alt text](img/48.%20The%20Additive%20Rule3.jpg)\n",
    "* ![Alt text](img/48.%20The%20Additive%20Rule4.jpg)"
   ]
  },
  {
   "cell_type": "markdown",
   "metadata": {},
   "source": [
    "## Quiz 38: The Additive Rule"
   ]
  },
  {
   "attachments": {},
   "cell_type": "markdown",
   "metadata": {},
   "source": [
    "https://www.udemy.com/course/the-data-science-course-complete-data-science-bootcamp/learn/quiz/4620642"
   ]
  },
  {
   "cell_type": "markdown",
   "metadata": {},
   "source": [
    "1. Question 1:\n",
    "    * ![Alt text](img/Quiz%2038%20The%20Additive%20Rule1.jpg)\n",
    "    * 0.8\n",
    "        * According to the additive law, P(Union) = P(A) + P(B) - P(Intersection). Plugging in the values, gives us P(Union) = 0.75 + 0.6 - 0.55 = 0.8.\n",
    "2. Question 2:\n",
    "    * ![Alt text](img/Quiz%2038%20The%20Additive%20Rule2.jpg)\n",
    "    * 0.19\n",
    "        * If we rearrange the Additive Law, we get that P(Intersection) = P(A) + P(B) - P(Union). Plugging in the values we are given results in P(Intersection) = 0.65 + 0.44 - 0.9 = 0.19."
   ]
  },
  {
   "cell_type": "markdown",
   "metadata": {},
   "source": [
    "## 49. The Multiplication Law"
   ]
  },
  {
   "attachments": {},
   "cell_type": "markdown",
   "metadata": {},
   "source": [
    "https://www.udemy.com/course/the-data-science-course-complete-data-science-bootcamp/learn/lecture/14241802"
   ]
  },
  {
   "cell_type": "markdown",
   "metadata": {},
   "source": [
    "* ![Alt text](img/49.%20The%20Multiplication%20Law1.jpg)\n",
    "* ![Alt text](img/49.%20The%20Multiplication%20Law2.jpg)\n",
    "* ![Alt text](img/49.%20The%20Multiplication%20Law3.jpg)\n",
    "* ![Alt text](img/49.%20The%20Multiplication%20Law4.jpg)\n",
    "* ![Alt text](img/49.%20The%20Multiplication%20Law5.jpg)\n",
    "* ![Alt text](img/49.%20The%20Multiplication%20Law6.jpg)"
   ]
  },
  {
   "cell_type": "markdown",
   "metadata": {},
   "source": [
    "## Quiz 39: The Multiplication Law"
   ]
  },
  {
   "attachments": {},
   "cell_type": "markdown",
   "metadata": {},
   "source": [
    "https://www.udemy.com/course/the-data-science-course-complete-data-science-bootcamp/learn/quiz/4620644"
   ]
  },
  {
   "cell_type": "markdown",
   "metadata": {},
   "source": [
    "1. How do we interpret the multiplication rule formula for events A and B?\n",
    "    * The probability of both events happening equals the product of the likelihood of A occuring and the conditional probability that B occurs, given A has already occured.\n",
    "        * The correct interpretation of the multiplication rule is represented in option a). Both options b) and c) interpret the conditional probabilities between A and B incorrectly.\n",
    "2. Imagine you are watching your favorite British soccer team and want to know how likely it is that they will win, and your favorite player Mohamed Salah will score. You know that this season, the team has won in 80% of the games he has scored in. Furthermore, you know that he has scored in 70% of all the games the team has played this season.\n",
    "    * 0.56\n",
    "        * If event A is Liverpool winning the game and event B is Salah scoring, then we know that P(A|B)=0.8 and P(B)=0.7. Plugging in these values into the formula gives us P(A∩B)= P(A|B)×P(B)=0.8×0.7=0.56. Therefore, b) is the correct answer."
   ]
  },
  {
   "cell_type": "markdown",
   "metadata": {},
   "source": [
    "## 50. Bayes' Law"
   ]
  },
  {
   "attachments": {},
   "cell_type": "markdown",
   "metadata": {},
   "source": [
    "https://www.udemy.com/course/the-data-science-course-complete-data-science-bootcamp/learn/lecture/14241804"
   ]
  },
  {
   "cell_type": "markdown",
   "metadata": {},
   "source": [
    "* ![Alt text](img/50.%20Bayes'%20Law1.jpg)\n",
    "* ![Alt text](img/50.%20Bayes'%20Law2.jpg)"
   ]
  },
  {
   "cell_type": "markdown",
   "metadata": {},
   "source": [
    "## Quiz 40: Bayes' Law"
   ]
  },
  {
   "attachments": {},
   "cell_type": "markdown",
   "metadata": {},
   "source": [
    "https://www.udemy.com/course/the-data-science-course-complete-data-science-bootcamp/learn/quiz/4620646"
   ]
  },
  {
   "cell_type": "markdown",
   "metadata": {},
   "source": [
    "1. According to the lecture, what is one field where Bayes' Theorem is often used?\n",
    "    * Medicine\n",
    "        * Medicine is one of the fields that most often uses Bayes’ Theorem to compute and compare the conditional probabilities between symptoms to extract valuable insights.\n",
    "2. What is the value of P(A|B), knowing P(B|A) = 0.6, P(A) = 0.4 and P(B) = 0.3?\n",
    "    * 0.8\n",
    "        * Plugging the values we have into Bayes’ Law gives us P(A|B)=(P(B│A)×P(A))/P(B) =(0.6×0.4)/0.3=0.8. Thus, the conditional probability of getting A, given B equals 0.8."
   ]
  },
  {
   "cell_type": "markdown",
   "metadata": {},
   "source": [
    "## 51. A Practical Example of Bayesian Inference"
   ]
  },
  {
   "attachments": {},
   "cell_type": "markdown",
   "metadata": {},
   "source": [
    "https://www.udemy.com/course/the-data-science-course-complete-data-science-bootcamp/learn/lecture/14242362"
   ]
  },
  {
   "cell_type": "markdown",
   "metadata": {},
   "source": [
    "**See:** MyLearning\\Udemy\\The Data Science Course 2022 - Complete Data Science Bootcamp\\s11 A Practical Example of Bayes Law"
   ]
  },
  {
   "cell_type": "markdown",
   "metadata": {},
   "source": [
    "# **12. Fundamentals of Probability Distributions**"
   ]
  },
  {
   "cell_type": "markdown",
   "metadata": {},
   "source": [
    "## 52. Fundamentals of Probability Distributions"
   ]
  },
  {
   "attachments": {},
   "cell_type": "markdown",
   "metadata": {},
   "source": [
    "https://www.udemy.com/course/the-data-science-course-complete-data-science-bootcamp/learn/lecture/14241806"
   ]
  },
  {
   "cell_type": "markdown",
   "metadata": {},
   "source": [
    "* Distribution shows the possible values a variable can take and how frequently they occur.\n",
    "* Assume: \n",
    "    * Y = represents the actual outcome of an event\n",
    "    * y =  represents one of the possible outcomes.\n",
    "    * P(Y=y) or p(y) = **The probability function**\n",
    "    * Example:\n",
    "        * Y -> The number of red marbles we draw out of a bag\n",
    "        * y -> 5\n",
    "        * P(Y=5) or p(5)\n",
    "<br><br>\n",
    "* Probability Frequency Distribution is measure the likelihood of an outcome.\n",
    "* Recorded the frequency for each unique value and divide it by the total number of elements.\n",
    "    * (possible) Finite number of possible outcomes\n",
    "    * (impossible) Infinite number of possibilities\n",
    "* Example: Imagine you are a data scientist and want to analyze the time it takes for your code to run. Any single compilation could take anywhere from a few milliseconds to several days. Often, the result will be between a few milliseconds and a few minutes. If we record time in seconds, we lose precision which is something to be avoided. To do so we need to use the smallest possible measurement of time. Since every milli, micro or even nanosecond could be split in half for greater accuracy no such thing exists.\n",
    "<br><br>"
   ]
  },
  {
   "cell_type": "markdown",
   "metadata": {},
   "source": [
    "* ![Alt text](img/52.%20Fundamentals%20of%20Probability%20Distributions1.jpg)\n",
    "* ![Alt text](img/52.%20Fundamentals%20of%20Probability%20Distributions2.jpg)\n",
    "* ![Alt text](img/52.%20Fundamentals%20of%20Probability%20Distributions3.jpg)"
   ]
  },
  {
   "cell_type": "markdown",
   "metadata": {},
   "source": [
    "* ![Alt text](img/52.%20Fundamentals%20of%20Probability%20Distributions4.jpg)"
   ]
  },
  {
   "cell_type": "markdown",
   "metadata": {},
   "source": [
    "* ![Alt text](img/52.%20Fundamentals%20of%20Probability%20Distributions5.jpg)\n",
    "* ![Alt text](img/52.%20Fundamentals%20of%20Probability%20Distributions6.jpg)"
   ]
  },
  {
   "cell_type": "markdown",
   "metadata": {},
   "source": [
    "* ![Alt text](img/52.%20Fundamentals%20of%20Probability%20Distributions7.jpg)"
   ]
  },
  {
   "cell_type": "markdown",
   "metadata": {},
   "source": [
    "## Quiz 41: Fundamentals of Probability Distributions"
   ]
  },
  {
   "attachments": {},
   "cell_type": "markdown",
   "metadata": {},
   "source": [
    "https://www.udemy.com/course/the-data-science-course-complete-data-science-bootcamp/learn/quiz/4620648"
   ]
  },
  {
   "cell_type": "markdown",
   "metadata": {},
   "source": [
    "1. What is a distribution?\n",
    "    * A collection of all the possible values a variable can take and how frequently they occur in the sample space\n",
    "2. What is the difference between sample data and population data?\n",
    "    * Sample data represents some part of the data, while population data is the same as all the data\n",
    "        * The population data is equivalent to \"all the data\" and the sample data represents only some of the data.\n",
    "3. Which of the following is expressed with the letter s?\n",
    "    * Sample standard deviation\n",
    "        * We use the letter \"s\" to denote the sample standard deviation."
   ]
  },
  {
   "cell_type": "markdown",
   "metadata": {},
   "source": [
    "## 53. Types of Probability Distributions"
   ]
  },
  {
   "cell_type": "markdown",
   "metadata": {},
   "source": [
    "* ![Alt text](img/53.%20Types%20of%20Probability%20Distributions1.jpg)"
   ]
  },
  {
   "cell_type": "markdown",
   "metadata": {},
   "source": [
    "* ![Alt text](img/53.%20Types%20of%20Probability%20Distributions2.jpg)\n",
    "\n",
    "* Discrete Distribution (The probability would be unconnected individual bars)\n",
    "    * Uniform Dstribution\n",
    "        * All outcomes are equally likely -> Equiprobable\n",
    "            * Example: Drawing card from deck or flipping a coin\n",
    "    * Bernoulli Distribution\n",
    "        * Events with only two possible outcomes (True or False)\n",
    "        * Any event with two outcomes can be transformed into a Bernoulli event\n",
    "            * if we carry out several times **Bernoulli Distribution** in a row, it can change to **Binomial Distribution**\n",
    "    * Binomial Distribution\n",
    "        * two outcomes per iteration\n",
    "        * many iteration\n",
    "    * Poisson Distribution\n",
    "        * Test out how unusual an event frequency is for a given interval\n",
    "* Continuous Distribution (The probability distribution would be a curve)\n",
    "    * Normal Distribution\n",
    "        * Often observe in nature\n",
    "            * Numerous reports\n",
    "            * Limited data\n",
    "                * Student's-T distribution\n",
    "                    * A small sample approximation of a Normal distribution\n",
    "                    * ![Alt text](img/53.%20Types%20of%20Probability%20Distributions3.jpg)\n",
    "    * Chi-Squared\n",
    "        * Asymmetric\n",
    "        * Only consists of non-negative value\n",
    "        * The Chi-Squared does not often mirror real life events, but used in **Hypothesis Testing**\n",
    "        * Goodness of fit\n",
    "        * ![Alt text](img/53.%20Types%20of%20Probability%20Distributions4.jpg)\n",
    "    * Exponential distribution\n",
    "        * Events that are rapidly changing early on\n",
    "            * Example: News articles generate hits based on clicks\n",
    "    * Logistic distribution\n",
    "        * Useful in forecast analysis\n",
    "        * Useful for determining a cut-off point for a successful outcomes"
   ]
  },
  {
   "cell_type": "markdown",
   "metadata": {},
   "source": [
    "## Quiz 42: Types of Probability Distributions"
   ]
  },
  {
   "attachments": {},
   "cell_type": "markdown",
   "metadata": {},
   "source": [
    "https://www.udemy.com/course/the-data-science-course-complete-data-science-bootcamp/learn/quiz/4620650"
   ]
  },
  {
   "cell_type": "markdown",
   "metadata": {},
   "source": [
    "1. What are the two main types of distributions based on the type of data we have?\n",
    "    * Discrete and Continuous\n",
    "        * The two main types of distributions are indeed discrete and continuous.\n",
    "2. Why do we group distributions into types?\n",
    "    * Because they share certain features\n",
    "        * Correct. We group distributions based on similar features they posses, since we know specific elegant statistics about the most common ones."
   ]
  },
  {
   "cell_type": "markdown",
   "metadata": {},
   "source": [
    "## 54. Characteristics of Discrete Distributions"
   ]
  },
  {
   "attachments": {},
   "cell_type": "markdown",
   "metadata": {},
   "source": [
    "https://www.udemy.com/course/the-data-science-course-complete-data-science-bootcamp/learn/lecture/14241816"
   ]
  },
  {
   "cell_type": "markdown",
   "metadata": {},
   "source": [
    "* ![Alt text](img/54.%20Characteristics%20of%20Discrete%20Distributions1.jpg)\n",
    "* ![Alt text](img/54.%20Characteristics%20of%20Discrete%20Distributions2.jpg)\n",
    "* ![Alt text](img/54.%20Characteristics%20of%20Discrete%20Distributions3.jpg)\n",
    "* ![Alt text](img/54.%20Characteristics%20of%20Discrete%20Distributions4.jpg)\n",
    "* ![Alt text](img/54.%20Characteristics%20of%20Discrete%20Distributions5.jpg)"
   ]
  },
  {
   "cell_type": "markdown",
   "metadata": {},
   "source": [
    "## Quiz 43: Characteristics of Discrete Distributions"
   ]
  },
  {
   "attachments": {},
   "cell_type": "markdown",
   "metadata": {},
   "source": [
    "https://www.udemy.com/course/the-data-science-course-complete-data-science-bootcamp/learn/quiz/4620652"
   ]
  },
  {
   "cell_type": "markdown",
   "metadata": {},
   "source": [
    "1. How do we compute the probability of an interval for a discrete distribution?\n",
    "    * We add up the probabilities of each individual outcome in the interval occuring\n",
    "        * The probability of the intervals is simply the total likelihood of any of the values within the interval occurring.\n",
    "2. Which of the following is true for any variable Y following a discrete distribution?<br>\n",
    "We use \"<=\" and \">=\" to express \"less than or equal to\" and \"greater than or equal to\" respectively.\n",
    "    * P( Y <= y ) = P( Y < y+1 )\n",
    "        * This is correct because we have no values between \"y\" and \"y+1\", so both intervals mark all values up to (and including) y."
   ]
  },
  {
   "cell_type": "markdown",
   "metadata": {},
   "source": [
    "## 55. Discrete Distributions: The Uniform Distribution"
   ]
  },
  {
   "attachments": {},
   "cell_type": "markdown",
   "metadata": {},
   "source": [
    "https://www.udemy.com/course/the-data-science-course-complete-data-science-bootcamp/learn/lecture/14241820"
   ]
  },
  {
   "cell_type": "markdown",
   "metadata": {},
   "source": [
    "* ![Alt text](img/55.%20Discrete%20Distributions%20The%20Uniform%20Distribution1.jpg)\n",
    "* ![Alt text](img/55.%20Discrete%20Distributions%20The%20Uniform%20Distribution2.jpg)\n",
    "* ![Alt text](img/55.%20Discrete%20Distributions%20The%20Uniform%20Distribution3.jpg)\n",
    "\n",
    "* Example: If your friend offers you three, identical chocolate bars, the probability assigned to you choosing one of them also follow the uniform distribution.\n",
    "* One big drawback of uniform distributions is that the expected value provides us no relevant information because all outcomes have the same probability.\n",
    "* The expected value, which is 3.5, brings no predictive power.\n",
    "    * ![Alt text](img/55.%20Discrete%20Distributions%20The%20Uniform%20Distribution4.jpg)\n",
    "    * ![Alt text](img/55.%20Discrete%20Distributions%20The%20Uniform%20Distribution5.jpg)"
   ]
  },
  {
   "cell_type": "markdown",
   "metadata": {},
   "source": [
    "## Quiz 44: Discrete Distributions: The Uniform Distribution"
   ]
  },
  {
   "attachments": {},
   "cell_type": "markdown",
   "metadata": {},
   "source": [
    "https://www.udemy.com/course/the-data-science-course-complete-data-science-bootcamp/learn/quiz/4620654"
   ]
  },
  {
   "cell_type": "markdown",
   "metadata": {},
   "source": [
    "1. What does it mean for all possible values form a Uniform Distribution to be \"equiprobable\"?\n",
    "    * All the values have the same probability of occuring\n",
    "        * The prefix \"equi-\" means equal, so \"equiprobable\" means equally probable.\n",
    "2. Why do the expected value and variance have no predictive power for a Discrete Uniform Distribution?\n",
    "    * Because the expected value will posses the same probability as any of the other values in the sample space so we can't create prediction intervals\n",
    "        * Since the expected value does not bring any predictive power, we cannot construct an interval around it and be certain it will yield a high probability."
   ]
  },
  {
   "cell_type": "markdown",
   "metadata": {},
   "source": [
    "## 56. Discrete Distributions: The Bernoulli Distribution"
   ]
  },
  {
   "attachments": {},
   "cell_type": "markdown",
   "metadata": {},
   "source": [
    "https://www.udemy.com/course/the-data-science-course-complete-data-science-bootcamp/learn/lecture/14241824"
   ]
  },
  {
   "cell_type": "markdown",
   "metadata": {},
   "source": [
    "* ![Alt text](img/56.%20Discrete%20Distributions%20The%20Bernoulli%20Distribution1.jpg)\n",
    "* Bernoulli Distribution\n",
    "    1. Have the probabilities of one of the events occurring\n",
    "    2. Have past data indicating some experimental probability\n",
    "* ![Alt text](img/56.%20Discrete%20Distributions%20The%20Bernoulli%20Distribution2.jpg)\n",
    "* Have to assign which outcome is zero and which outcome is one\n",
    "    * E(X) = p\n",
    "        * assign 1\n",
    "    * E(X) = 1 - p\n",
    "        * assign 0\n",
    "* ![Alt text](img/56.%20Discrete%20Distributions%20The%20Bernoulli%20Distribution3.jpg)\n",
    "* ![Alt text](img/56.%20Discrete%20Distributions%20The%20Bernoulli%20Distribution4.jpg)\n",
    "* ![Alt text](img/56.%20Discrete%20Distributions%20The%20Bernoulli%20Distribution5.jpg)\n",
    "* ![Alt text](img/56.%20Discrete%20Distributions%20The%20Bernoulli%20Distribution6.jpg)\n"
   ]
  },
  {
   "cell_type": "markdown",
   "metadata": {},
   "source": [
    "## Quiz 45: Discrete Distributions: The Bernoulli Distribution"
   ]
  },
  {
   "attachments": {},
   "cell_type": "markdown",
   "metadata": {},
   "source": [
    "https://www.udemy.com/course/the-data-science-course-complete-data-science-bootcamp/learn/quiz/4620656"
   ]
  },
  {
   "cell_type": "markdown",
   "metadata": {},
   "source": [
    "1. What are the two key characteristics of the Bernoulli Distribution?\n",
    "    * A single trial and only two possible outcomes\n",
    "        * These are the two features of the experiment we require, to define a distribution as Bernoulli."
   ]
  },
  {
   "cell_type": "markdown",
   "metadata": {},
   "source": [
    "## 57. Discrete Distributions: The Binomial Distribution"
   ]
  },
  {
   "attachments": {},
   "cell_type": "markdown",
   "metadata": {},
   "source": [
    "https://www.udemy.com/course/the-data-science-course-complete-data-science-bootcamp/learn/lecture/14241828"
   ]
  },
  {
   "cell_type": "markdown",
   "metadata": {},
   "source": [
    "* Binomial events are a sequence of identical Bernoulli events.\n",
    "* ![Alt text](img/57.%20Discrete%20Distributions%20The%20Binomial%20Distribution1.jpg)\n",
    "    * ![Alt text](img/57.%20Discrete%20Distributions%20The%20Binomial%20Distribution2.jpg)\n",
    "        * E(Bernoulli Event) -> Which outcome we expect for a single trial\n",
    "        * E(Binomial Event) -> The number of times we expect to get a specific outcome\n",
    "    * ![Alt text](img/57.%20Discrete%20Distributions%20The%20Binomial%20Distribution3.jpg)\n",
    "    * p(y) = The likelihood of getting a given outcome a precise number of times\n",
    "        * ![Alt text](img/57.%20Discrete%20Distributions%20The%20Binomial%20Distribution4.jpg)\n",
    "            * There could exist more than one way to reach our desired outcome\n",
    "            * ![Alt text](img/57.%20Discrete%20Distributions%20The%20Binomial%20Distribution5.jpg)\n",
    "            * ![Alt text](img/57.%20Discrete%20Distributions%20The%20Binomial%20Distribution6.jpg)"
   ]
  },
  {
   "cell_type": "markdown",
   "metadata": {},
   "source": [
    "* ![Alt text](img/57.%20Discrete%20Distributions%20The%20Binomial%20Distribution7.jpg)\n",
    "* ![Alt text](img/57.%20Discrete%20Distributions%20The%20Binomial%20Distribution8.jpg)\n",
    "* ![Alt text](img/57.%20Discrete%20Distributions%20The%20Binomial%20Distribution9.jpg)\n",
    "* ![Alt text](img/57.%20Discrete%20Distributions%20The%20Binomial%20Distribution10.jpg)"
   ]
  },
  {
   "cell_type": "markdown",
   "metadata": {},
   "source": [
    "## Quiz 46: Discrete Distributions: The Binomial Distribution"
   ]
  },
  {
   "attachments": {},
   "cell_type": "markdown",
   "metadata": {},
   "source": [
    "https://www.udemy.com/course/the-data-science-course-complete-data-science-bootcamp/learn/quiz/4620660"
   ]
  },
  {
   "cell_type": "markdown",
   "metadata": {},
   "source": [
    "1. What is the relationship between Binomial and Bernoulli events?\n",
    "    * A Binomial event is a sequance of identical Bernoulli events\n",
    "        * This is a correct interpretation since a Binomial event examines the total number of times one of the outcomes of a Bernoulli event appears over the course of many trials."
   ]
  },
  {
   "cell_type": "markdown",
   "metadata": {},
   "source": [
    "## 58. Discrete Distributions: The Poisson Distribution"
   ]
  },
  {
   "attachments": {},
   "cell_type": "markdown",
   "metadata": {},
   "source": [
    "https://www.udemy.com/course/the-data-science-course-complete-data-science-bootcamp/learn/lecture/14241832"
   ]
  },
  {
   "cell_type": "markdown",
   "metadata": {},
   "source": [
    "* Poisson Distribution\n",
    "    * The frequency with which an event occurs instead of the probability of an event\n",
    "    * The Poisson distribution requires knowing how often it occurs for a specific period of time or distance.\n",
    "* ![Alt text](img/58.%20Discrete%20Distributions%20The%20Poisson%20Distribution1.jpg)\n",
    "* The statement above read as \"variable Y follows a Poisson distribution with Lambda equal to four\".\n"
   ]
  },
  {
   "cell_type": "markdown",
   "metadata": {},
   "source": [
    "* Example: A firefly might light up three times in 10 seconds on average.\n",
    "    * 3 times in 10sec\n",
    "    * Y ~ Po(3)\n",
    "* We should use a Poisson distribution if we want to determine the likelihood of it lighting up eight times in 20 seconds.\n",
    "    * 8 times in 20sec\n",
    "* The graph of the Poisson distribution plots, the number of instances the event occurs in a standard interval of time, and the probability for each one.\n",
    "    * ![Alt text](img/58.%20Discrete%20Distributions%20The%20Poisson%20Distribution2.jpg)"
   ]
  },
  {
   "cell_type": "markdown",
   "metadata": {},
   "source": [
    "* ![Alt text](img/58.%20Discrete%20Distributions%20The%20Poisson%20Distribution3.jpg)\n",
    "* ![Alt text](img/58.%20Discrete%20Distributions%20The%20Poisson%20Distribution4.jpg)\n",
    "* ![Alt text](img/58.%20Discrete%20Distributions%20The%20Poisson%20Distribution5.jpg)\n",
    "* ![Alt text](img/58.%20Discrete%20Distributions%20The%20Poisson%20Distribution6.jpg)\n",
    "* ![Alt text](img/58.%20Discrete%20Distributions%20The%20Poisson%20Distribution7.jpg)\n",
    "* ![Alt text](img/58.%20Discrete%20Distributions%20The%20Poisson%20Distribution8.jpg)\n",
    "* ![Alt text](img/58.%20Discrete%20Distributions%20The%20Poisson%20Distribution9.jpg)\n",
    "* ![Alt text](img/58.%20Discrete%20Distributions%20The%20Poisson%20Distribution10.jpg)\n",
    "* ![Alt text](img/58.%20Discrete%20Distributions%20The%20Poisson%20Distribution11.jpg)"
   ]
  },
  {
   "cell_type": "markdown",
   "metadata": {},
   "source": [
    "## Quiz 47: Discrete Distributions: The Poisson Distribution"
   ]
  },
  {
   "attachments": {},
   "cell_type": "markdown",
   "metadata": {},
   "source": [
    "https://www.udemy.com/course/the-data-science-course-complete-data-science-bootcamp/learn/quiz/4620676"
   ]
  },
  {
   "cell_type": "markdown",
   "metadata": {},
   "source": [
    "1. Why does the graph of the Poisson Distribution start from 0 on the X-axis?\n",
    "    * Because we are measuring the frequency of occurence over a given interval of time or distance\n",
    "        * This is correct because no event can happen a negative number of times."
   ]
  },
  {
   "cell_type": "markdown",
   "metadata": {},
   "source": [
    "## 59. Characteristics of Continuous Distributions"
   ]
  },
  {
   "attachments": {},
   "cell_type": "markdown",
   "metadata": {},
   "source": [
    "https://www.udemy.com/course/the-data-science-course-complete-data-science-bootcamp/learn/lecture/14241838"
   ]
  },
  {
   "cell_type": "markdown",
   "metadata": {},
   "source": [
    "* Continuous Distribution is Events that have many consecutive outcomes (infinitely)\n",
    "    * Sample space is infinite\n",
    "    * Cannot record the frequency of each distinct value\n",
    "    * No longer represent these distributions with a table, but with graph\n",
    "    * ![Alt text](img/59.%20Characteristics%20of%20Continuous%20Distributions1.jpg)\n",
    "        * The graphs for continuous distributions slightly resemble the ones for discreet distributions. However, there are more elements in the sample space so there are more bars on the graph.\n",
    "            * ![Alt text](img/59.%20Characteristics%20of%20Continuous%20Distributions2.jpg)\n",
    "                * Furthermore, the more bars, the narrower each one must be. This results in a smooth curve that goes along the top of these bars.\n",
    "            * ![Alt text](img/59.%20Characteristics%20of%20Continuous%20Distributions3.jpg)"
   ]
  },
  {
   "cell_type": "markdown",
   "metadata": {},
   "source": [
    "* ![Alt text](img/59.%20Characteristics%20of%20Continuous%20Distributions4.jpg)\n",
    "    * The greater the denominator becomes, the closer the fraction is to 0, which mean that probabilities are extremely insignificant.\n",
    "    * Thus, it is accepted that the probability for any individual value from a continuous distribution to be equal to zero.\n",
    "        * P(X) = 0\n",
    "        * P(x > X) = P(x >= X)\n",
    "            * Example: For example, the probability of a college student running a mile in under six minutes is the same as them running it for at most six minutes. That is because we consider the likelihood of finishing in exactly six minutes to be zero.\n",
    "                * P(x < 6 min) = P(x <= 6 min)\n",
    "                * p(x = 6) = 0"
   ]
  },
  {
   "cell_type": "markdown",
   "metadata": {},
   "source": [
    "* **Discrete Distribution Probability Graph**\n",
    "    * Probability Density Function (PDF)\n",
    "        * ![Alt text](img/59.%20Characteristics%20of%20Continuous%20Distributions5.jpg)\n",
    "\n",
    "* **Continuous Distribution Probability Graph**\n",
    "    * Cumulative Density Function (CDF)\n",
    "        * ![Alt text](img/59.%20Characteristics%20of%20Continuous%20Distributions6.jpg)\n",
    "            * It represents probability of the random variable being lower than or equal to a specific value.\n",
    "        * ![Alt text](img/59.%20Characteristics%20of%20Continuous%20Distributions7.jpg)\n",
    "            * Since no value could be lower than or equal to negative infinity, the CDF value for negative infinity would equal zero.\n",
    "            * Since any value would be lower than plus infinity, we would get a one if we plug plus infinity into the distribution function.\n",
    "        * Discrete also have CDF ![Alt text](img/59.%20Characteristics%20of%20Continuous%20Distributions8.jpg)\n",
    "            * Used far less frequently.\n",
    "                * Reason: Because we can always add up the PDF values associated with the individual probabilities we are interested in."
   ]
  },
  {
   "cell_type": "markdown",
   "metadata": {},
   "source": [
    "* CDF is useful when we want to estimate the probability of some interval.\n",
    "    * ![Alt text](img/59.%20Characteristics%20of%20Continuous%20Distributions9.jpg)\n",
    "        * Graphically the area under the density curve would represent the chance of getting a value within that interval."
   ]
  },
  {
   "cell_type": "markdown",
   "metadata": {},
   "source": [
    "* ![Alt text](img/59.%20Characteristics%20of%20Continuous%20Distributions10.jpg)\n",
    "* ![Alt text](img/59.%20Characteristics%20of%20Continuous%20Distributions11.jpg)\n",
    "    * when dealing with continuous variables we are only given their probability density functions. To understand what its graph looks like, we Should should be able to compute the expected value and variance for any PDF.\n",
    "        * ![Alt text](img/59.%20Characteristics%20of%20Continuous%20Distributions12.jpg)\n",
    "        * ![Alt text](img/59.%20Characteristics%20of%20Continuous%20Distributions13.jpg)\n",
    "        * ![Alt text](img/59.%20Characteristics%20of%20Continuous%20Distributions14.jpg)"
   ]
  },
  {
   "cell_type": "markdown",
   "metadata": {},
   "source": [
    "## Quiz 48: Characteristics of Continuous Distributions"
   ]
  },
  {
   "attachments": {},
   "cell_type": "markdown",
   "metadata": {},
   "source": [
    "https://www.udemy.com/course/the-data-science-course-complete-data-science-bootcamp/learn/quiz/4620678"
   ]
  },
  {
   "cell_type": "markdown",
   "metadata": {},
   "source": [
    "1. Graphically, what is the relationship between the PDF and the CDF of a continuous distribution?\n",
    "    * The CDF represents the area under the curve of the PDF\n",
    "        * This is correct since the CDF represents the sum of all the PDF values up to that point."
   ]
  },
  {
   "cell_type": "markdown",
   "metadata": {},
   "source": [
    "## 60. Continuous Distributions: The Normal Distribution"
   ]
  },
  {
   "attachments": {},
   "cell_type": "markdown",
   "metadata": {},
   "source": [
    "https://www.udemy.com/course/the-data-science-course-complete-data-science-bootcamp/learn/lecture/14241844"
   ]
  },
  {
   "cell_type": "markdown",
   "metadata": {},
   "source": [
    "* ![Alt text](img/60.%20Continuous%20Distributions%20The%20Normal%20Distribution1.jpg)\n",
    "    * It read: variable X follows a normal distribution with mean, mu, and variance, sigma squared.\n",
    "    * When dealing with actual data, we would usually know the numerical values of mu and sigma squared.\n",
    "* Normal distribution frequently appears in nature.\n",
    "    * Example: \n",
    "        * The size of a fully grown male lion follows a normal distribution. Many records suggest that the average lion weighs between 150 and 250 kilograms, or 330 to 550 pounds.\n",
    "        * Specimens also exist fall outside of this range weighing less than 150 or more than 250 kilograms tend to be the exception rather than the rule.\n",
    "        * Such individuals serve as outliers in our set, and the more data we gather, the lower part of the data they represent.\n",
    "* The graph for a normal distribution is bell shaped where the majority of the data is centered around the mean. Thus, values futher away from the mean are less likely to occur.\n",
    "    * ![Alt text](img/60.%20Continuous%20Distributions%20The%20Normal%20Distribution2.jpg)\n",
    "    * ![Alt text](img/60.%20Continuous%20Distributions%20The%20Normal%20Distribution3.jpg)\n",
    "    * ![Alt text](img/60.%20Continuous%20Distributions%20The%20Normal%20Distribution4.jpg)\n",
    "* Another peculiarity of the normal distribution is the 68, 95, 99.7 law.\n",
    "    * This law suggests that for any normally distributed event, 68% of all outcomes fall within one standard deviation away from the mean,\n",
    "        * ![Alt text](img/60.%20Continuous%20Distributions%20The%20Normal%20Distribution5.jpg)\n",
    "    * 95% fall within two standard deviations,\n",
    "        * ![Alt text](img/60.%20Continuous%20Distributions%20The%20Normal%20Distribution6.jpg)\n",
    "    * and 99.7 within three.\n",
    "        * ![Alt text](img/60.%20Continuous%20Distributions%20The%20Normal%20Distribution7.jpg)\n",
    "    * The last part really emphasizes the fact that outliers are extremely rare in normal distributions. It also suggests how much we know about a data set if we only have the information that it is normally distributed.\n",
    "        * ![Alt text](img/60.%20Continuous%20Distributions%20The%20Normal%20Distribution8.jpg)"
   ]
  },
  {
   "cell_type": "markdown",
   "metadata": {},
   "source": [
    "## Quiz 49: Continuous Distributions: The Normal Distribution"
   ]
  },
  {
   "attachments": {},
   "cell_type": "markdown",
   "metadata": {},
   "source": [
    "https://www.udemy.com/course/the-data-science-course-complete-data-science-bootcamp/learn/quiz/4620680"
   ]
  },
  {
   "cell_type": "markdown",
   "metadata": {},
   "source": [
    "1. Which of the following is a characteristic of the graph of a Normal Distribution?\n",
    "    * Bell-shaped, Symmetric, and Thin tails\n",
    "        * This is the correct answer, since the graph of the Normal Distribution possesses all 3 features."
   ]
  },
  {
   "cell_type": "markdown",
   "metadata": {},
   "source": [
    "## 61. Continuous Distributions: The Standard Normal Distribution"
   ]
  },
  {
   "attachments": {},
   "cell_type": "markdown",
   "metadata": {},
   "source": [
    "https://www.udemy.com/course/the-data-science-course-complete-data-science-bootcamp/learn/lecture/14241848"
   ]
  },
  {
   "cell_type": "markdown",
   "metadata": {},
   "source": [
    "* Transformation is a way in which we can alter every element of a distribution to get a new distribution with similar characteristics.\n",
    "* For normal distributions we can use addition (+), subtraction (-), multiplication (*, and division (/), without changing the type of the distribution.\n",
    "* to every element of a normal distribution the new distribution would still be normal.\n",
    "    * ![Alt text](img/61.%20Continuous%20Distributions%20The%20Standard%20Normal%20Distribution1.jpg)\n",
    "    * ![Alt text](img/61.%20Continuous%20Distributions%20The%20Standard%20Normal%20Distribution2.jpg)\n",
    "        * However, if we multiply or divide by a number between zero and one, the opposing effects will occur. For example, dividing by a half is the same as multiplying by two, so the graph will shrink even though we are dividing.\n",
    "            * if 1 > C > 0\n",
    "            * x/(1/2) = 2x\n",
    "* Standardizing is a special kind of transformation in which we make the expected value equal to zero and the variance equal to one.\n",
    "    * ![Alt text](img/61.%20Continuous%20Distributions%20The%20Standard%20Normal%20Distribution3.jpg)\n",
    "    * E(X) = 0\n",
    "    * Var(X) = 1\n",
    "* In addition to the 68, 95, 99.7 rule, a table exists which summarizes the most commonly used values for the CDF of a standard normal distribution. This table is known as the standard normal distribution table or the Z-score table."
   ]
  },
  {
   "cell_type": "markdown",
   "metadata": {},
   "source": [
    "* HOW TO DO:\n",
    "    * First, move the graph either to the left or to the right until it's mean equals zero. The way we would do that is by adding or subtracting the mean Mu, from every element.\n",
    "        * ![Alt text](img/61.%20Continuous%20Distributions%20The%20Standard%20Normal%20Distribution4.jpg)\n",
    "    * After this, to make the standardization complete we need to make sure the standard deviation is one. To do so, we would have to divide every element of the newly obtained distribution by the value of the standard deviation, sigma.\n",
    "        * ![Alt text](img/61.%20Continuous%20Distributions%20The%20Standard%20Normal%20Distribution5.jpg)\n",
    "    * If we denote the standard normal distribution with Z, then for any normally distributed variable Y, Z equals Y minus Mu over sigma.\n",
    "        * ![Alt text](img/61.%20Continuous%20Distributions%20The%20Standard%20Normal%20Distribution6.jpg)\n",
    "    * Drawback\n",
    "        * ![Alt text](img/61.%20Continuous%20Distributions%20The%20Standard%20Normal%20Distribution7.jpg)"
   ]
  },
  {
   "cell_type": "markdown",
   "metadata": {},
   "source": [
    "## Quiz 50: Continuous Distributions: The Standard Normal Distribution"
   ]
  },
  {
   "attachments": {},
   "cell_type": "markdown",
   "metadata": {},
   "source": [
    "https://www.udemy.com/course/the-data-science-course-complete-data-science-bootcamp/learn/quiz/4620682"
   ]
  },
  {
   "cell_type": "markdown",
   "metadata": {},
   "source": [
    "1. What are the two characteristics of a Standard Normal Distribution?\n",
    "    * Mean of 0 and variance of 1"
   ]
  },
  {
   "cell_type": "markdown",
   "metadata": {},
   "source": [
    "## 62. Continuous Distributions: The Students' T Distribution"
   ]
  },
  {
   "attachments": {},
   "cell_type": "markdown",
   "metadata": {},
   "source": [
    "https://www.udemy.com/course/the-data-science-course-complete-data-science-bootcamp/learn/lecture/14241856"
   ]
  },
  {
   "cell_type": "markdown",
   "metadata": {},
   "source": [
    "* ![Alt text](img/62.%20Continuous%20Distributions%20The%20Students'%20T%20Distribution1.jpg)\n",
    "    * We read this next statement as : variable Y follows a student's T distribution with three degrees of freedom.\n",
    "* Student'T Distribution is a small sample size approximation of a normal distribution. In instances where we would assume a normal distribution, were it not for the limited number of observations.\n",
    "* For instance, the average lap times for the entire season of a Formula One race follow a **normal distribution**. But the lap times for the first lap of the Monaco Grand Prix would follow a **student's T distribution**.\n",
    "    * The curve of the student's T distribution is also bell-shaped and symmetric. However, it has fatter tails to accommodate the occurrence of values far away from the mean. That is because if such a value features in our limited data it would be representing a bigger part of the total.\n",
    "    * Another key difference between the student's T distribution and the normal one, is that apart from the mean and variance we must also define the degrees of freedom for the distribution.\n",
    "* ![Alt text](img/62.%20Continuous%20Distributions%20The%20Students'%20T%20Distribution2.jpg)\n",
    "* ![Alt text](img/62.%20Continuous%20Distributions%20The%20Students'%20T%20Distribution3.jpg)\n",
    "* Overall, the student's T distribution is frequently used when conducting statistical analysis. It plays a major role when we want to do hypothesis testing with limited data, since we also have a table summarizing the most important values of its CDF."
   ]
  },
  {
   "cell_type": "markdown",
   "metadata": {},
   "source": [
    "## Quiz 51: Continuous Distributions: The Students' T Distribution"
   ]
  },
  {
   "attachments": {},
   "cell_type": "markdown",
   "metadata": {},
   "source": [
    "https://www.udemy.com/course/the-data-science-course-complete-data-science-bootcamp/learn/quiz/4620684"
   ]
  },
  {
   "cell_type": "markdown",
   "metadata": {},
   "source": [
    "1. When do we use a Student's T Distribution?\n",
    "    * When we have limited data about a variable, which historically follows a Normal Distribution\n",
    "        * We use a Students' T Distribution in instances where we would use a Normal Distribution, provided we had more data."
   ]
  },
  {
   "cell_type": "markdown",
   "metadata": {},
   "source": [
    "## 63. Continuous Distributions: The Chi-Squared Distribution"
   ]
  },
  {
   "attachments": {},
   "cell_type": "markdown",
   "metadata": {},
   "source": [
    "https://www.udemy.com/course/the-data-science-course-complete-data-science-bootcamp/learn/lecture/14241860"
   ]
  },
  {
   "cell_type": "markdown",
   "metadata": {},
   "source": [
    "* ![Alt text](img/63.%20Continuous%20Distributions%20The%20Chi-Squared%20Distribution1.jpg)\n",
    "    * we read the following as variable Y follows a chi-squared distribution with three degrees of freedom.\n",
    "* Chi-squared is most featured in statistical analysis when doing hypothesis testing and computing confidence intervals.\n",
    "* ![Alt text](img/63.%20Continuous%20Distributions%20The%20Chi-Squared%20Distribution2.jpg)\n",
    "    * Chi-squared Distribution is not symmetric, but asymmetric. Its graph is highly skewed to the right.\n",
    "    * Furthermore, the values depicted on the x-axis start from zero rather than a negative number. This, shows you yet another transformation.\n",
    "    * Elevating the student's T distribution to the second power gives us the chi-squared, and vice versa. Finding the square root of the chi-squared distribution gives us the students t.\n",
    "    * ![Alt text](img/63.%20Continuous%20Distributions%20The%20Chi-Squared%20Distribution3.jpg)\n",
    "        * The expected value for any chi-squared distribution is equal to its associated degrees of freedom, k. Its variance is equal to two times the degrees of freedom, or simply two times k."
   ]
  },
  {
   "cell_type": "markdown",
   "metadata": {},
   "source": [
    "## Quiz 52: Continuous Distributions: The Chi-Squared Distribution"
   ]
  },
  {
   "attachments": {},
   "cell_type": "markdown",
   "metadata": {},
   "source": [
    "https://www.udemy.com/course/the-data-science-course-complete-data-science-bootcamp/learn/quiz/4620686"
   ]
  },
  {
   "cell_type": "markdown",
   "metadata": {},
   "source": [
    "* What is one of the features of the graph of a Chi-Squared Distribution?\n",
    "    * The graph of the Chi-Squared distribution is asymmetric, heavily-skewed to the right and has a fat tail on the right, and no tail on the left."
   ]
  },
  {
   "cell_type": "markdown",
   "metadata": {},
   "source": [
    "## 64. Continuous Distributions: The Exponential Distribution"
   ]
  },
  {
   "attachments": {},
   "cell_type": "markdown",
   "metadata": {},
   "source": [
    "https://www.udemy.com/course/the-data-science-course-complete-data-science-bootcamp/learn/lecture/14241864"
   ]
  },
  {
   "cell_type": "markdown",
   "metadata": {},
   "source": [
    "* ![Alt text](img/64.%20Continuous%20Distributions%20The%20Exponential%20Distribution1.jpg)\n",
    "    * We read the following statement as Variable X follows an exponential distribution with a scale of a half.\n",
    "* Exponential Distribution\n",
    "    * Variables which most closely follow an exponential distribution are ones with a probability that initially decreases before eventually plateauing.\n",
    "        * Example: Number of views for a Youtube vlog. There is a great interest upon release, so it starts off with many views in the first day or two. After most subscribers have had the chance to see the video, the view counter slows down.\n",
    "* ![Alt text](img/64.%20Continuous%20Distributions%20The%20Exponential%20Distribution2.jpg)\n",
    "    * Graphically, the PDF of such a function would start off very high and sharply decrease within the first few timeframes.\n",
    "* ![Alt text](img/64.%20Continuous%20Distributions%20The%20Exponential%20Distribution3.jpg)\n",
    "    * In a weird way, the CDF would also resemble a boomerang. However, this one has shifted 90 degrees to the right. As you know, the cumulative distribution eventually approaches one, so that would be the value where it plateaus.\n",
    "* ![Alt text](img/64.%20Continuous%20Distributions%20The%20Exponential%20Distribution4.jpg)\n",
    "* ![Alt text](img/64.%20Continuous%20Distributions%20The%20Exponential%20Distribution5.jpg)\n",
    "* ![Alt text](img/64.%20Continuous%20Distributions%20The%20Exponential%20Distribution6.jpg)\n",
    "* ![Alt text](img/64.%20Continuous%20Distributions%20The%20Exponential%20Distribution7.jpg)"
   ]
  },
  {
   "cell_type": "markdown",
   "metadata": {},
   "source": [
    "## Quiz 53: Continuous Distributions: The Exponential Distribution"
   ]
  },
  {
   "attachments": {},
   "cell_type": "markdown",
   "metadata": {},
   "source": [
    "https://www.udemy.com/course/the-data-science-course-complete-data-science-bootcamp/learn/quiz/4620690"
   ]
  },
  {
   "cell_type": "markdown",
   "metadata": {},
   "source": [
    "1. Which of the following is correct about the graphs of the Exponential Distribution?\n",
    "    * The CDF plateaus near 1 mark and the PDF plateaus around the 0 mark\n",
    "        * The PDF plateaus around the 0 mark, since the more y increases, the less likely it is to attain such a value, where as the CDF always has to reach the 1 mark."
   ]
  },
  {
   "cell_type": "markdown",
   "metadata": {},
   "source": [
    "## 65. Continuous Distributions: The Logistic Distribution"
   ]
  },
  {
   "attachments": {},
   "cell_type": "markdown",
   "metadata": {},
   "source": [
    "https://www.udemy.com/course/the-data-science-course-complete-data-science-bootcamp/learn/lecture/14241868"
   ]
  },
  {
   "cell_type": "markdown",
   "metadata": {},
   "source": [
    "* ![Alt text](img/65.%20Continuous%20Distributions%20The%20Logistic%20Distribution1.jpg)\n",
    "    * we read the statement below as: variable Y follows a logistic distribution with location 6 and a scale of 3.\n",
    "* Logistics Distribution \n",
    "    * when trying to determine how continuous variable inputs can affect the probability of a binary outcome. This approach is commonly found in forecasting competitive sports events where there exist only two clear outcomes, victory or defeat.\n",
    "        * ![Alt text](img/65.%20Continuous%20Distributions%20The%20Logistic%20Distribution2.jpg)\n",
    "            * Example: we can analyze whether the average speed of a tennis player's serve plays a crucial role in the outcome of the match.\n",
    "        * ![Alt text](img/65.%20Continuous%20Distributions%20The%20Logistic%20Distribution3.jpg)\n",
    "            * Theory suggests there exists some optimal speed which enables the serve to still be accurate enough. Then, most of the shots we convert into points will likely have similar velocities. As tennis players go further away from the optimal speed their shots either become too slow and easy to handle, or too inaccurate.\n",
    "        * ![Alt text](img/65.%20Continuous%20Distributions%20The%20Logistic%20Distribution4.jpg)\n",
    "    * The cumulative distribution function should be a curve that starts off slow, then picks up rather quickly before plateauing around the 1 mark. That is because once we reach values near the mean the probability of converting the point drastically goes up. Once again, the scale would dictate the shape of the graph. In this case, the smaller the scale the later the graph starts to pick up, but the quicker it reaches values close to 1.\n",
    "        * ![Alt text](img/65.%20Continuous%20Distributions%20The%20Logistic%20Distribution5.jpg)\n",
    "    * To avoid confusing mathematical expressions you only need to know it is equal to the square of the scale times pie squared over 3.\n",
    "        * ![Alt text](img/65.%20Continuous%20Distributions%20The%20Logistic%20Distribution6.jpg)"
   ]
  },
  {
   "cell_type": "markdown",
   "metadata": {},
   "source": [
    "## Quiz 54: Continuous Distributions: The Logistic Distribution"
   ]
  },
  {
   "attachments": {},
   "cell_type": "markdown",
   "metadata": {},
   "source": [
    "https://www.udemy.com/course/the-data-science-course-complete-data-science-bootcamp/learn/quiz/4620692"
   ]
  },
  {
   "cell_type": "markdown",
   "metadata": {},
   "source": [
    "1. What is true about the CDF of a Logistic Distribution?\n",
    "    * It follows an S-shape and plateaus around the 1 value\n",
    "    * The probability drastically starts to increase once we reach values close to the mean\n",
    "    * The steeper the curve is, the faster it reaches value close to absolute cretainty (1)\n",
    "        * All 3 features are true for the CDF of a Logistic Distribution."
   ]
  },
  {
   "cell_type": "markdown",
   "metadata": {},
   "source": [
    "## 66. A Practical Example of Probability Distributions"
   ]
  },
  {
   "attachments": {},
   "cell_type": "markdown",
   "metadata": {},
   "source": [
    "https://www.udemy.com/course/the-data-science-course-complete-data-science-bootcamp/learn/lecture/14242364"
   ]
  },
  {
   "cell_type": "markdown",
   "metadata": {},
   "source": [
    "* ![Alt text](img/66.%20A%20Practical%20Example%20of%20Probability%20Distributions1.jpg)"
   ]
  },
  {
   "cell_type": "markdown",
   "metadata": {},
   "source": [
    "# **13. Probability - Probability in Other Fields**"
   ]
  },
  {
   "cell_type": "markdown",
   "metadata": {},
   "source": [
    "## 67. Probability in Finance"
   ]
  },
  {
   "attachments": {},
   "cell_type": "markdown",
   "metadata": {},
   "source": [
    "https://www.udemy.com/course/the-data-science-course-complete-data-science-bootcamp/learn/lecture/14241874?start=15"
   ]
  },
  {
   "cell_type": "markdown",
   "metadata": {},
   "source": [
    "* Option pricing is an agreement between two parties for the price of a stock or item at a future point in time.\n",
    "    * It allows one of the sides to decide whether to go through with the deal at a later date.\n",
    "    * Since this pact puts one of the parties at a clear disadvantage, the other one must pay them a compensation fee called **the premium**.\n",
    "        * Whoever pays the premium, gets to decide if the deal is going to go through when the predetermined point in the future arrives.\n",
    "    * The pricing aspect of this option represents how much we are willing to pay to receive that pact or what the highest premium we would agree to is."
   ]
  },
  {
   "cell_type": "markdown",
   "metadata": {},
   "source": [
    "* The decision tree describes the different possible payoffs we could get, and their associated probabilities of occurring.\n",
    "    * ![Alt text](img/67.%20Probability%20in%20Finance1.jpg)\n",
    "    * ![Alt text](img/67.%20Probability%20in%20Finance2.jpg)\n",
    "        * Since $300 is greater than zero ( E(P) >= 0 ), this deal is favorable for us, and we should buy the option. \n",
    "            * Usually your counterparty that charges the premium, is also making their calculations. If they have the same information as you they would either make the deal unfavorable for you ( E(P) <= 0 ), or at least a fair deal ( E(P) = 0 ).\n",
    "                * ![Alt text](img/67.%20Probability%20in%20Finance3.jpg)\n",
    "                * We can assume that on average, institutions writing options are trying to balance the deal out and make it a fair deal. How can they do that? They can charge a higher premium. In fact, if they charged exactly $300 higher for the option the payoff would decrease by that amount, making it a fair deal.\n",
    "    * ![Alt text](img/67.%20Probability%20in%20Finance4.jpg)\n",
    "    * ![Alt text](img/67.%20Probability%20in%20Finance5.jpg)\n",
    "* ![Alt text](img/67.%20Probability%20in%20Finance6.jpg)\n",
    "    * Generally investors use probability to determine whether an investing opportunity is worth their money. Knowing how likely or unlikely certain events are helps experienced businessmen make correct calls.\n",
    "    * Many of the assigned probabilities for these events are ballpark figures. To elaborate, these values are not 100% certain, but rather what we predict they could be."
   ]
  },
  {
   "cell_type": "markdown",
   "metadata": {},
   "source": [
    "## 68. Probability in Statistics"
   ]
  },
  {
   "attachments": {},
   "cell_type": "markdown",
   "metadata": {},
   "source": [
    "https://www.udemy.com/course/the-data-science-course-complete-data-science-bootcamp/learn/lecture/14241878"
   ]
  },
  {
   "cell_type": "markdown",
   "metadata": {},
   "source": [
    "* Relation Statistics vs Characteristics\n",
    "    * ![Alt text](img/68.%20Probability%20in%20Statistics1.jpg)\n",
    "        * The field of statistics focuses predominantly on samples and incomplete data.\n",
    "            * Doing so brings some uncertainty to any of the results we reach. This uncertainty is what leads us to rely on some of the most important concepts of probability like expected values or prediction intervals.\n",
    "* In a way, probability lays the groundwork for statistics because it defines terms like mean, variance, or expected value. Statistics tries to analyze numeric and categorical data and see how well it resembles any of the probability distributions.\n",
    "* Statistics introduces many useful concepts based on probability theory.\n",
    "    * Confidence intervals (CI) is uses sample data to define a range with an associated degree of certainty. These degrees of certainty are usually 90%, 95%, or 99% and express the likelihood of the population mean being within that interval.\n",
    "    * A more hand wavy explanation of confidence intervals is that they simply approximate some margins for the mean of the entire population based on a small sample.\n",
    "    * ![Alt text](img/68.%20Probability%20in%20Statistics2.jpg)\n",
    "        * To calculate these confidence intervals, we must know what mean, variance, and standard deviation are."
   ]
  },
  {
   "cell_type": "markdown",
   "metadata": {},
   "source": [
    "* Example: Imagine you are on a trip to see your favorite soccer team in North London.\n",
    "    * You wanna know how much money you should carry with you when you go for a meal before the game, so you gather some data.\n",
    "    * More precisely, you examine the average prices for a main course meal in North London by going through the menus of some 10 restaurants and pubs through Yelp.\n",
    "    * The mean of the data you gathered is 22 pounds 50, so you expect a meal to cost approximately that much.\n",
    "        * when we are uncertain of some outcome, we construct intervals and build our interval around it.\n",
    "    * We know that prices in the region are normally distributed, so the data is symmetric with respect to the mean. Therefore, our interval should be equally far away from the mean in either direction.\n",
    "        * ![Alt text](img/68.%20Probability%20in%20Statistics3.jpg)\n",
    "        * Without going into too much detail, our confidence interval should span between 20 pounds and 25 pounds. This indicates that we are 95% certain the average meal in North London costs somewhere between 20 and 25 pounds."
   ]
  },
  {
   "cell_type": "markdown",
   "metadata": {},
   "source": [
    "* Hypothesis Testing is an idea that can be tested. (H0 : P)\n",
    "    * Example: I may wanna test if the average price of a meal in North London is lower than 30 quid. (H0 : P < $30)\n",
    "    * To do so, I would place the value on the graph and see where it fits.\n",
    "        * ![Alt text](img/68.%20Probability%20in%20Statistics4.jpg)\n",
    "        * If a small part of the data lies to its right, then the statement is probably correct. To determine how small this part is, we need to know several attributes of the data.\n",
    "* Mathematically, the three crucial requirements for conducting successful hypothesis testing are knowing the **mean, variance, and type of the distribution**. With the help of these three and some formulas, we can validate similar statements, again to a specific degree of certainty."
   ]
  },
  {
   "cell_type": "markdown",
   "metadata": {},
   "source": [
    "* ![Alt text](img/68.%20Probability%20in%20Statistics5.jpg)\n",
    "* ![Alt text](img/68.%20Probability%20in%20Statistics6.jpg)\n",
    "    * After finding the distribution we are dealing with, we like to create different models such as regressions.\n",
    "* ![Alt text](img/68.%20Probability%20in%20Statistics7.jpg)\n",
    "    * Since the mathematics behind regressions is complex and computationally expensive, we use computer software to find the appropriate values. We call this Mathematical Modeling.\n",
    "    * It is essentially an extension of statistics that data scientists deal with. \n",
    "    * In fact, what statisticians and mathematicians call mathematical modeling is what data scientists often refer to as supervised machine learning.\n",
    "    * In essence, data science serves as a natural expansion of statistics in the very same way statistics is the natural expansion of probability."
   ]
  },
  {
   "cell_type": "markdown",
   "metadata": {},
   "source": [
    "## 69. Probability in Data Science"
   ]
  },
  {
   "attachments": {},
   "cell_type": "markdown",
   "metadata": {},
   "source": [
    "https://www.udemy.com/course/the-data-science-course-complete-data-science-bootcamp/learn/lecture/14241884"
   ]
  },
  {
   "cell_type": "markdown",
   "metadata": {},
   "source": [
    "* ![Alt text](img/69.%20Probability%20in%20Data%20Science1.jpg)\n",
    "    * We have this expansive chain of mathematical fields that are fundamentally important to one another.\n",
    "        * The same way probability sets the foundation for statistics, statistics constructs the pillars on which data science is built.\n",
    "        * The more general the issues, the more we rely on the simpler concepts from probability. And the more concrete our interests are,  the more we need to delve into data science.\n",
    "\n",
    "* ![Alt text](img/69.%20Probability%20in%20Data%20Science2.jpg)\n",
    "    * Regressions are essentially supervised machine learning. Therefore, any successful data analyst, data scientist or data engineer needs to have a very good understanding of statistics and of course, probability.\n",
    "\n",
    "* ![Alt text](img/69.%20Probability%20in%20Data%20Science3.jpg)\n",
    "    * In data analysis, we usually try to analyze past data and use some insight we find to make reasonable predictions about the future.\n",
    "\n",
    "* ![Alt text](img/69.%20Probability%20in%20Data%20Science4.jpg)\n",
    "    * in mathematical modeling, we often tend to run artificial simulations to see how well our predictions match up to various possible future outcomes. One such approach is called a Monte Carlo simulation.\n",
    "        * Monte Carlo simulation is generating artificial data with which to test the predictive power of our mathematical models.\n",
    "            * The data is not completely arbitrary\n",
    "            * follows certain restrictions we provide.\n",
    "                * example: if the probability of a specific outcome is 0.4 (P(x) = 0.4), then 40% of the artificially created data must match this outcome.\n",
    "            * This is convenient because we can tweak these restrictions to see how much our model is dependent on the data we have fed it initially.\n",
    "            * This is crucial as many models look well when we train them on our initial data but perform poorly when deployed in the real world.\n",
    "\n",
    "*  Data science relies on expected values much more than you would believe. Most machine learning is an extremely fast-paced trial and error process where the computer adjusts its expectations as it goes through the data. Essentially, the more predictions it makes, the more precise they become.\n",
    "    * The future is uncertain, so data scientists often try to predict what will happen based on information they have about the present and the past. Even though machine and deep learning processes tend to yield very high predictive powers, they're still not 100% certain.\n",
    "    * Each prediction has a probability of being incorrect. That is because there are unpredictable events that can occur in real life, earthquakes, volcanic eruptions or sudden scientific breakthroughs can completely change the anticipated course of events. Thus, even data scientists assigned probabilities to their predictions, however accurate they may be.\n",
    "* Data Science is an expansion of probability, statistics, and programming that implements computational technology to solve more advanced questions.\n",
    "    * Even when using it to predict future outcomes, there is a degree of uncertainty of what the future holds. \n",
    "    * That is why it is fundamental for anybody striving to be a data scientist to understand the basics of probability."
   ]
  },
  {
   "cell_type": "markdown",
   "metadata": {},
   "source": [
    "# **14. Part3: Statistics**"
   ]
  },
  {
   "cell_type": "markdown",
   "metadata": {},
   "source": [
    "## 70. Population and Sample"
   ]
  },
  {
   "attachments": {},
   "cell_type": "markdown",
   "metadata": {},
   "source": [
    "https://www.udemy.com/course/the-data-science-course-complete-data-science-bootcamp/learn/lecture/10764376"
   ]
  },
  {
   "cell_type": "markdown",
   "metadata": {},
   "source": [
    "* ![Alt text](img/70.%20Population%20and%20Sample1.jpg)\n",
    "* The first step of every statistical analysis you perform is determine whether the data you are dealing with is a population or a sample.\n",
    "    * A *population* is the collection of all items of interest to our study and is usually denoted with an uppercase **N**.\n",
    "        * Hard to observe\n",
    "        * Hard to contact\n",
    "            * The numbers we've obtained when using a population are called *parameters*.\n",
    "    * A *sample* is a subset of the population and is denoted with a lowercase **n**.\n",
    "        * Easy to observe\n",
    "        * easy to contact\n",
    "            * The numbers we've obtained when working with a sample are called *statistics*.\n",
    "* Statistical tests are usually based on sample data, samples are key to accurate statistical insights. They have two defining characteristics, *randomness* and *representativeness*.\n",
    "    * Randomness\n",
    "        * A random sample is collected when each member of the sample is chosen from the population strictly by chance.\n",
    "    * Representativeness\n",
    "        * A representative sample is a subset of the population that accurately reflects the members of the entire population."
   ]
  },
  {
   "cell_type": "markdown",
   "metadata": {},
   "source": [
    "## Quiz 55: Population and Sample"
   ]
  },
  {
   "attachments": {},
   "cell_type": "markdown",
   "metadata": {},
   "source": [
    "https://www.udemy.com/course/the-data-science-course-complete-data-science-bootcamp/learn/quiz/4450986"
   ]
  },
  {
   "cell_type": "markdown",
   "metadata": {},
   "source": [
    "1. The high school principal wants to conduct a survey on student satisfaction for the entire school. You were tasked with contacting your classmates about their opinion and then presenting them to the principal.<br>\n",
    "Would you say this was population or sample data? What is the value you presented called?\n",
    "    * sample, statistic\n",
    "        * You interviewed only one class – your own. This is a sample taken from the population of all students studying in the high school. Since it was a sample, the value associated with it was a statistic.\n",
    "2. You are trying to estimate the average valuation of start-ups in the USA. Imagine you are able to visit 200 start-ups in Silicon Valley in a random manner. What is a possible problem of your study?\n",
    "    * The sample is not representative\n",
    "        * You were estimating a statistic for all start-ups in the USA. However, your sample was taken only from startups in Silicon Valley. While this may be a proxy for California, it does not represent the other 49 states. Therefore, the sample is not representative."
   ]
  },
  {
   "cell_type": "markdown",
   "metadata": {},
   "source": [
    "# **15. Statistics - Descriptive Statistics**"
   ]
  },
  {
   "cell_type": "markdown",
   "metadata": {},
   "source": [
    "## 71. Types of Data"
   ]
  },
  {
   "attachments": {},
   "cell_type": "markdown",
   "metadata": {},
   "source": [
    "https://www.udemy.com/course/the-data-science-course-complete-data-science-bootcamp/learn/lecture/10764384"
   ]
  },
  {
   "cell_type": "markdown",
   "metadata": {},
   "source": [
    "* ![Alt text](img/71.%20Types%20of%20Data1.jpg)\n",
    "* Different types of variables require different types of statistical and visualization approaches. So, To be able to classify the data you are working with is key.\n",
    "* Two main ways to classify the data :\n",
    "    * Type of Data (types)\n",
    "        * Categorical\n",
    "            * Categories or Groups\n",
    "            * Yes or No questrions\n",
    "        * Numerical (Represent Number)\n",
    "            * Discrete\n",
    "                * Usually be counted in a finite matter.\n",
    "                * What is important for a variable to be defined as discrete is that you can imagine each member of the data set.\n",
    "            * Continuous\n",
    "                * Infinite and impossible to count\n",
    "    * Measurement Level\n"
   ]
  },
  {
   "cell_type": "markdown",
   "metadata": {},
   "source": [
    "## Quiz 56: Types of Data"
   ]
  },
  {
   "attachments": {},
   "cell_type": "markdown",
   "metadata": {},
   "source": [
    "https://www.udemy.com/course/the-data-science-course-complete-data-science-bootcamp/learn/quiz/4450990"
   ]
  },
  {
   "cell_type": "markdown",
   "metadata": {},
   "source": [
    "1. A variable represents the weight of a person. What type of data does it represent?\n",
    "    * numerical, continuous\n",
    "        * The data is numerical, as it represents a number. As we said in the lesson, weight is a continuous variable.\n",
    "2. A variable represents the gender of a person. What type of data does it represent?\n",
    "    * categorical"
   ]
  },
  {
   "cell_type": "markdown",
   "metadata": {},
   "source": [
    "## 72. Levels of Measurement"
   ]
  },
  {
   "attachments": {},
   "cell_type": "markdown",
   "metadata": {},
   "source": [
    "https://www.udemy.com/course/the-data-science-course-complete-data-science-bootcamp/learn/lecture/10764386"
   ]
  },
  {
   "cell_type": "markdown",
   "metadata": {},
   "source": [
    "* Qualitative\n",
    "    * Nominal\n",
    "        * Based on category\n",
    "        * Aren't numbers and cannot be ordered\n",
    "    * Ordinal\n",
    "        * Consists of groups and categories which follow a strict order.\n",
    "            * Example: Likert Scale\n",
    "        * \n",
    "* Quantitative\n",
    "    * Interval\n",
    "        * Doesn't have true zero (0)\n",
    "            * Intervals are not as common.\n",
    "                * Example: Temperature is the most common example of an interval variable.. The issue comes from the fact that zero degrees Celsius and zero degrees Fahrenheit are not true zeros.\n",
    "    * Ratio\n",
    "        * Has true zero (0)\n",
    "            * Most things we observe in the real world are ratios.\n",
    "                * Example: For instance, if I have two apples and you have six apples, you would have three times as many as I do. How did I find that out? Well, the ratio of six and two is three.<br>\n",
    "                Other examples are a number of objects in general, distance, and time."
   ]
  },
  {
   "cell_type": "markdown",
   "metadata": {},
   "source": [
    "## Quiz 57: Levels of Measurement"
   ]
  },
  {
   "attachments": {},
   "cell_type": "markdown",
   "metadata": {},
   "source": [
    "https://www.udemy.com/course/the-data-science-course-complete-data-science-bootcamp/learn/quiz/4450992"
   ]
  },
  {
   "cell_type": "markdown",
   "metadata": {},
   "source": [
    "1. A variable represents the gender of a person. What is the level of measurement?\n",
    "    * nominal\n",
    "        * Gender is a nominal variable. There possible categories cannot be put in any order.\n",
    "2. A variable represents the weight of a person. What is the level of measurement?\n",
    "    * ratio\n",
    "        * Weight is a ratio variable. It is quantitative and there is a true zero point."
   ]
  },
  {
   "cell_type": "markdown",
   "metadata": {},
   "source": [
    "## 73. Categorical Variables - Visualization Techniques"
   ]
  },
  {
   "attachments": {},
   "cell_type": "markdown",
   "metadata": {},
   "source": [
    "https://www.udemy.com/course/the-data-science-course-complete-data-science-bootcamp/learn/lecture/10764388"
   ]
  },
  {
   "cell_type": "markdown",
   "metadata": {},
   "source": [
    "* ![Alt text](img/73.%20Categorical%20Variables%20-%20Visualization%20Techniques1.jpg)\n",
    "* It is easier to visualize data if you know its type and measurement level.\n",
    "* The Pareto Principle is designed to show how subtotals change with each additional category and provide us with a better understanding of our data, also known as the 80-20 rule. It states that 80% of the effects come from 20% of the causes.\n",
    "    * A real life example is a statement by Microsoft that by fixing 20% of its software bugs, they managed to solve 80% of the problems customers experience.\n"
   ]
  },
  {
   "cell_type": "markdown",
   "metadata": {},
   "source": [
    "## Quiz 58: Categorical Variables - Visualization Techniques"
   ]
  },
  {
   "attachments": {},
   "cell_type": "markdown",
   "metadata": {},
   "source": [
    "https://www.udemy.com/course/the-data-science-course-complete-data-science-bootcamp/learn/quiz/4545288"
   ]
  },
  {
   "cell_type": "markdown",
   "metadata": {},
   "source": [
    "1. According to the Pareto Principle:\n",
    "    * 80% of mistakes can be avoided by fixing 20% of the causes"
   ]
  },
  {
   "cell_type": "markdown",
   "metadata": {},
   "source": [
    "## 74. Categorical Variables Exercise"
   ]
  },
  {
   "attachments": {},
   "cell_type": "markdown",
   "metadata": {},
   "source": [
    "https://www.udemy.com/course/the-data-science-course-complete-data-science-bootcamp/learn/lecture/10764390"
   ]
  },
  {
   "cell_type": "markdown",
   "metadata": {},
   "source": [
    "## 75. Numerical Variables - Frequency Distribution Table"
   ]
  },
  {
   "attachments": {},
   "cell_type": "markdown",
   "metadata": {},
   "source": [
    "https://www.udemy.com/course/the-data-science-course-complete-data-science-bootcamp/learn/lecture/10764392"
   ]
  },
  {
   "cell_type": "markdown",
   "metadata": {},
   "source": [
    "* Whenever we wanna plot data, it is best to first order it in a table, so as we did with categorical variables.\n",
    "* Statisticians prefer working with groups of data that contain five to 20 intervals.\n",
    "    * This varies from case to case and the correct choice of intervals largely depends on the amount of data we are working with.\n",
    "    * A simple formula that we use is as follows. The interval width is equal to the largest number minus the smallest number divided by the number of desired intervals.\n",
    "    * ![Alt text](img/75.%20Numerical%20Variables%20-%20Frequency%20Distribution%20Table1.jpg)\n",
    "        * In our case, the length of the interval should be 100 minus one divided by five. The result is 19.8.\n",
    "        * Now we wanna round this number up in order to reach a neater representation. Therefore, our intervals will be as follows, one to 21, 21 to 41, 41 to 61, 61 to 81, and 81 to 101. Each interval has a width of 20.\n",
    "        * ![Alt text](img/75.%20Numerical%20Variables%20-%20Frequency%20Distribution%20Table2.jpg)\n",
    "        * A number is included in a particular interval if that number is greater than the lowest bound and equal to or less than the largest bound.\n",
    "        * As we can see from the table, there are two numbers in the first interval, four in the second, three in the third, six in the fourth, and five in the fifth interval. For many analyses, it is useful to calculate the relative frequency of the data points in each interval.\n",
    "            * Relative frequency is the frequency of a given interval as part of the total.\n",
    "            * ![Alt text](img/75.%20Numerical%20Variables%20-%20Frequency%20Distribution%20Table3.jpg)"
   ]
  },
  {
   "cell_type": "markdown",
   "metadata": {},
   "source": [
    "## Quiz 59: Numerical Variables - Frequency Distribution Table"
   ]
  },
  {
   "attachments": {},
   "cell_type": "markdown",
   "metadata": {},
   "source": [
    "https://www.udemy.com/course/the-data-science-course-complete-data-science-bootcamp/learn/quiz/4545290"
   ]
  },
  {
   "cell_type": "markdown",
   "metadata": {},
   "source": [
    "* If the frequency of a variable is 20 and its total frequency of all variables is 120, what is its relative frequency?\n",
    "    * 0.17"
   ]
  },
  {
   "cell_type": "markdown",
   "metadata": {},
   "source": [
    "## 76. Numerical Variables Exercise"
   ]
  },
  {
   "attachments": {},
   "cell_type": "markdown",
   "metadata": {},
   "source": [
    "https://www.udemy.com/course/the-data-science-course-complete-data-science-bootcamp/learn/lecture/10764394"
   ]
  },
  {
   "cell_type": "markdown",
   "metadata": {},
   "source": [
    "## 77. The Histogram"
   ]
  },
  {
   "attachments": {},
   "cell_type": "markdown",
   "metadata": {},
   "source": [
    "https://www.udemy.com/course/the-data-science-course-complete-data-science-bootcamp/learn/lecture/10764396"
   ]
  },
  {
   "cell_type": "markdown",
   "metadata": {},
   "source": [
    "* The most common graph used to represent numerical data is the histogram.\n",
    "* Histogram looks like a bar chart but conveys ver ydifferent information\n",
    "    * * ![Alt text](img/77.%20The%20Histogram1.jpg)\n",
    "        * As in the bar chart, the vertical axis is of numerical type and shows the absolute frequency.\n",
    "        * The horizontal axis is numerical too.\n",
    "        * Each bar has width equal to the interval, and height equal to the frequency.\n",
    "        \n",
    "    * ![Alt text](img/77.%20The%20Histogram2.jpg)\n",
    "        * Notice how the different bars are touching. This is to show that there is continuation between the intervals.\n",
    "        * In the bar chart, different bars represented different categories, so the bars were completely separate.\n",
    "    * ![Alt text](img/77.%20The%20Histogram3.jpg)\n",
    "        * sometimes, it is useful to plot the intervals against the relative rather than the absolute frequency.\n",
    "        * The histogram looks the same visually but gives different information to the audience.\n",
    "        * Relative frequency is made up of percentages.\n"
   ]
  },
  {
   "cell_type": "markdown",
   "metadata": {},
   "source": [
    "## Quiz 60: The Histogram"
   ]
  },
  {
   "attachments": {},
   "cell_type": "markdown",
   "metadata": {},
   "source": [
    "https://www.udemy.com/course/the-data-science-course-complete-data-science-bootcamp/learn/quiz/4545294"
   ]
  },
  {
   "cell_type": "markdown",
   "metadata": {},
   "source": [
    "1. Which is the second most represented age group according to the histogram?\n",
    "* ![Alt text](img/Quiz%2060%20The%20Histogram1.jpg)\n",
    "    * (52, 67)"
   ]
  },
  {
   "cell_type": "markdown",
   "metadata": {},
   "source": [
    "## 78. Histogram Exercise"
   ]
  },
  {
   "attachments": {},
   "cell_type": "markdown",
   "metadata": {},
   "source": [
    "https://www.udemy.com/course/the-data-science-course-complete-data-science-bootcamp/learn/lecture/10764400"
   ]
  },
  {
   "cell_type": "markdown",
   "metadata": {},
   "source": [
    "## 79. Cross Tables and Scatter Plots"
   ]
  },
  {
   "attachments": {},
   "cell_type": "markdown",
   "metadata": {},
   "source": [
    "https://www.udemy.com/course/the-data-science-course-complete-data-science-bootcamp/learn/lecture/10764402"
   ]
  },
  {
   "cell_type": "markdown",
   "metadata": {},
   "source": [
    "* How do we represent relationships between two variables?\n",
    "    * The most common way to represent them is using cross tables or as some statisticians call them contingency tables.\n",
    "    * ![Alt text](img/79.%20Cross%20Tables%20and%20Scatter%20Plots1.jpg)\n",
    "        * Imagine you are an investment manager and you manage stocks, bonds and real estate investments for three different investors. Each of them has a different idea of risk, and hence their money is allocated in a different way among the three asset classes.\n",
    "            * ![Alt text](img/79.%20Cross%20Tables%20and%20Scatter%20Plots2.jpg)\n",
    "                * It represents the holdings of each investor in the different types of assets.\n",
    "                * The name of this type of chart comes from the fact that for each investor, the categories of assets are represented side by side. In this way, we can easily compare asset holdings for a specific investor or among investors.\n",
    "                * All graphs are very easy to create and read once you have identified the type of data you are dealing with and decided on the best way to visualize it.\n",
    "    * Scatter Plot is used when representing two numerical variables.\n",
    "        * example: data gathered by the reading and writing SAT scores of 100 individuals.\n",
    "        * ![Alt text](img/79.%20Cross%20Tables%20and%20Scatter%20Plots3.jpg)\n",
    "            * SAT scores by component range from 200 to 800 points, and that is why our data is bounded within the range of 200 to 800.\n",
    "            * Vertical access shows the writing scores while the horizontal axis contains reading scores.\n",
    "            * There are 100 students, and the results correspond to a specific point on the graph. Each point gives us information about a particular student's performance.\n",
    "        * Scatter plots usually represent lots and lots of observations. When interpreting a scatter plot, a statistician is not expected to look into single data points. He would be much more interested in getting the main idea of how the data is distributed.\n",
    "        * ![Alt text](img/79.%20Cross%20Tables%20and%20Scatter%20Plots4.jpg)\n",
    "            * The first thing we see is that there is an obvious up trend. This is because lower writing scores are usually obtained by students with lower reading scores and higher writing scores have been achieved by students with higher reading scores.\n",
    "            * Students are more likely to do well on both because the two tasks are closely related.\n",
    "        * ![Alt text](img/79.%20Cross%20Tables%20and%20Scatter%20Plots5.jpg)\n",
    "            * Second, we notice a concentration of students in the middle of the graph with scores in the region of 450 to 550 on both reading and writing.\n",
    "                * 500 is the average score one can get so it makes sense that a lot of people fall into that area.\n",
    "        * ![Alt text](img/79.%20Cross%20Tables%20and%20Scatter%20Plots6.jpg)\n",
    "            * Third, there is this group of people with both very high writing and reading scores. The exceptional students tend to be excellent at both components.\n",
    "        * ![Alt text](img/79.%20Cross%20Tables%20and%20Scatter%20Plots7.jpg)\n",
    "            * This is less true for bad students, as their performance tends to deviate when performing different tasks.\n",
    "        * ![Alt text](img/79.%20Cross%20Tables%20and%20Scatter%20Plots8.jpg)\n",
    "            * Finally, we have Jane where she is far away from every other observation as she scored above average on reading, but poorly on writing.\n",
    "            * This observation is called an outlier as it goes against the logic of the whole data set."
   ]
  },
  {
   "cell_type": "markdown",
   "metadata": {},
   "source": [
    "## Quiz 61: Cross Tables and Scatter"
   ]
  },
  {
   "attachments": {},
   "cell_type": "markdown",
   "metadata": {},
   "source": [
    "https://www.udemy.com/course/the-data-science-course-complete-data-science-bootcamp/learn/quiz/4545296"
   ]
  },
  {
   "cell_type": "markdown",
   "metadata": {},
   "source": [
    "1. How would you describe the SAT scores of the indicated group of students?\n",
    "    * ![Alt text](img/Quiz%2061%20Cross%20Tables%20and%20Scatter1.jpg)\n",
    "    * Low math and low verbal"
   ]
  },
  {
   "cell_type": "markdown",
   "metadata": {},
   "source": [
    "## 80. Cross Tables and Scatter Plots Exercise"
   ]
  },
  {
   "attachments": {},
   "cell_type": "markdown",
   "metadata": {},
   "source": [
    "https://www.udemy.com/course/the-data-science-course-complete-data-science-bootcamp/learn/lecture/10764404"
   ]
  },
  {
   "cell_type": "markdown",
   "metadata": {},
   "source": [
    "## 81. Mean, median and mode"
   ]
  },
  {
   "attachments": {},
   "cell_type": "markdown",
   "metadata": {},
   "source": [
    "https://www.udemy.com/course/the-data-science-course-complete-data-science-bootcamp/learn/lecture/10764408"
   ]
  },
  {
   "cell_type": "markdown",
   "metadata": {},
   "source": [
    "* ![Alt text](img/81.%20Mean,%20median%20and%20mode0.jpg)\n",
    "* ![Alt text](img/81.%20Mean,%20median%20and%20mode1.jpg)\n",
    "    * ![Alt text](img/81.%20Mean,%20median%20and%20mode2.jpg)\n",
    "        * Mean also know as the simple average.\n",
    "        * It is denoted by the Greek letter MU for a population and x bar for a sample.\n",
    "        * ![Alt text](img/81.%20Mean,%20median%20and%20mode3.jpg)\n",
    "        * We can find the mean of a data set by adding up all of it's components and then dividing them by their number. \n",
    "        * The mean is the most common measure of central tendency, but it has a huge downside. It is easily affected by outliers. ($66 is outlier on image bellow)\n",
    "    * ![Alt text](img/81.%20Mean,%20median%20and%20mode4.jpg)\n",
    "        * The median is middle number in an ordered data set.\n",
    "        * To calculate the median we have to order our data in ascending order. \n",
    "        * The median of the data set is the number at position n + 1 divided by 2 in the ordered list, where n is the number of observations.\n",
    "        * The median is not affected by outliers\n",
    "    * ![Alt text](img/81.%20Mean,%20median%20and%20mode5.jpg)\n",
    "        * The mode is the value that occurs most often. It can be used for both numerical and categorical data."
   ]
  },
  {
   "cell_type": "markdown",
   "metadata": {},
   "source": [
    "## 82. Mean, Median and Mode Exercise"
   ]
  },
  {
   "attachments": {},
   "cell_type": "markdown",
   "metadata": {},
   "source": [
    "https://www.udemy.com/course/the-data-science-course-complete-data-science-bootcamp/learn/lecture/10764410"
   ]
  },
  {
   "cell_type": "markdown",
   "metadata": {},
   "source": [
    "## 83. Skewness"
   ]
  },
  {
   "attachments": {},
   "cell_type": "markdown",
   "metadata": {},
   "source": [
    "https://www.udemy.com/course/the-data-science-course-complete-data-science-bootcamp/learn/lecture/10764412"
   ]
  },
  {
   "cell_type": "markdown",
   "metadata": {},
   "source": [
    "* The most commonly used tool to measure asymmetry is skewness.\n",
    "    * ![Alt text](img/83.%20Skewness1.jpg)\n",
    "        * Almost always you will use software that performs a calculation for you.\n",
    "* Skewness indicates whether the observationsin a data set are concentrated on one side.\n",
    "    * ![Alt text](img/83.%20Skewness2.jpg)\n",
    "    1.  The direction of the skew is counterintuitive. It does not depend on which side the line is leaning to but rather to which side it's tail is leaning to. \n",
    "        * So right skewness means that the outliers are to the right.\n",
    "        * When we have right skewness, the mean is bigger than the median, and the mode is the value with the highest visual representation.\n",
    "    2. In the second graph, we have plotted a data set that has an equal mean, median and mode. \n",
    "        * The frequency of occurrence is completely symmetrical and we call this a zero or a no skew.\n",
    "        * Most often you'll hear people say that the distribution is symmetrical.\n",
    "    3. For the third data set, we have a mean of 4.9, a median of five, and a mode of six. \n",
    "        * As the mean is lower than the median, we say that there is a negative or a left skew. Once again, the highest point is define by the mode.\n",
    "* Why is skewness important?\n",
    "    * Skewness tells us a lot about where the data is situated.\n",
    "    * The mean, median and mode should be used together to get a good understanding of the data set.\n",
    "    * Measures of asymmetry like skewness are the link between central tendency measures and probability theory which ultimately allows us to get a more complete understanding of the data we are working with."
   ]
  },
  {
   "cell_type": "markdown",
   "metadata": {},
   "source": [
    "## Quiz 62: Skewness"
   ]
  },
  {
   "attachments": {},
   "cell_type": "markdown",
   "metadata": {},
   "source": [
    "https://www.udemy.com/course/the-data-science-course-complete-data-science-bootcamp/learn/quiz/4545298"
   ]
  },
  {
   "cell_type": "markdown",
   "metadata": {},
   "source": [
    "1. Which of the following can be stated about the sample based on the distribution graph?\n",
    "    * ![Alt text](img/Quiz%2062%20Skewness1.jpg)\n",
    "    * Positive skewness"
   ]
  },
  {
   "cell_type": "markdown",
   "metadata": {},
   "source": [
    "## 84. Skewness Exercise"
   ]
  },
  {
   "attachments": {},
   "cell_type": "markdown",
   "metadata": {},
   "source": [
    "https://www.udemy.com/course/the-data-science-course-complete-data-science-bootcamp/learn/lecture/10764416"
   ]
  },
  {
   "cell_type": "markdown",
   "metadata": {},
   "source": [
    "## 85. Variance"
   ]
  },
  {
   "attachments": {},
   "cell_type": "markdown",
   "metadata": {},
   "source": [
    "https://www.udemy.com/course/the-data-science-course-complete-data-science-bootcamp/learn/lecture/10764418"
   ]
  },
  {
   "cell_type": "markdown",
   "metadata": {},
   "source": [
    "* There are many ways to quantify variability such as variance, standard deviation, and coefficient of variation.\n",
    "* In the field of statistics, we will typically use different formulas when working with population data and sample data.\n",
    "* Statisticians have solved the problem by adjusting the algebraic formulas for many statistics to reflect this issue.\n",
    "* ![Alt text](img/85.%20Variance1.jpg)\n",
    "    * Variance measures the dispersion of a set of data points around their mean value.\n",
    "        * Population variance, denoted by sigma squared, is equal to the sum of square differences between the observed values and the population mean divided by the total number of observations.\n",
    "        * Sample variance, on the other hand, is denoted by S squared, and is equal to the sum of squared differences between observed sample values and the sample mean divided by the number of sample observations minus one.\n",
    "    * ![Alt text](img/85.%20Variance2.jpg)\n",
    "    * The main part of the formula is its numerator.\n",
    "        * The closer a number to the mean, the lower the results we will obtain.\n",
    "        * The further away from the mean it lies, the larger this difference.\n",
    "    * Squaring the differences has two main purposes.\n",
    "        * First, by squaring the numbers, we always get non-negative computations.\n",
    "            * It is intuitive that dispersion cannot be negative.\n",
    "            * Dispersion is about distance, and distance cannot be negative. \n",
    "            * If on the other hand, we calculate the difference, and do not elevate to the second degree, we would obtain both positive and negative values that, when summed, would cancel out, leaving us with no information about the dispersion.\n",
    "        * Second, squaring amplifies the effect of large differences.\n",
    "            * For example, if the mean is zero, and you have an observation of 100, the squared spread is 10,000.\n",
    "\n",
    "* ![Alt text](img/85.%20Variance3.jpg)\n",
    "    * Population variance tells us how data points in a specific population are spread out.\n",
    "    * Sample Variance formula is used when our set of observations is a sample drawn from a bigger population"
   ]
  },
  {
   "cell_type": "markdown",
   "metadata": {},
   "source": [
    "## 86. Variance Exercise"
   ]
  },
  {
   "cell_type": "markdown",
   "metadata": {},
   "source": [
    "https://www.udemy.com/course/the-data-science-course-complete-data-science-bootcamp/learn/lecture/10764420#announcements"
   ]
  },
  {
   "cell_type": "markdown",
   "metadata": {},
   "source": [
    "## 87. Standard Deviation and Coefficient of Variation"
   ]
  },
  {
   "cell_type": "markdown",
   "metadata": {},
   "source": [
    "https://www.udemy.com/course/the-data-science-course-complete-data-science-bootcamp/learn/lecture/10764422#announcements"
   ]
  },
  {
   "cell_type": "markdown",
   "metadata": {},
   "source": [
    "* Standard deviation is the most common measure of variability for a single data set.\n",
    "* Coefficient of variation for comparing two or more dataset\n",
    "* ![Alt text](img/87.%20Standard%20Deviation%20and%20Coefficient%20of%20Variation1.jpg)\n",
    "    * The formulas are the square root of the population variance and square root of the sample variance\n",
    "* ![Alt text](img/87.%20Standard%20Deviation%20and%20Coefficient%20of%20Variation2.jpg)\n",
    "* ![Alt text](img/87.%20Standard%20Deviation%20and%20Coefficient%20of%20Variation3.jpg)\n",
    "    * The other measure is the coefficient of variation. It is equal to the standard deviation divided by the mean. Or the standard deviation relative to the mean.\n",
    "    * Another name for the term is relative standard deviation.\n"
   ]
  },
  {
   "cell_type": "markdown",
   "metadata": {},
   "source": [
    "* Example of a comparison between standard deviations.\n",
    "* ![Alt text](img/87.%20Standard%20Deviation%20and%20Coefficient%20of%20Variation4.jpg)\n",
    "    * Prices of pizza at 10 different places \n",
    "        * New York, they range from one to $11.\n",
    "        * The prices for Mexican pesos look more like 18.81 pesos to 206.91 pesos. Given the exchange rate of 18.81 pesos for $1\n",
    "* How to find the standard deviations and coefficients of variation of these two data sets.\n",
    "    * First, we have to see if this is a sample or a population.\n",
    "        * Are there only 11 restaurants in New York? Of course not. This is obviously a sample drawn from all the restaurants in the city. Then we have to use the formulas for sample measures of variability.\n",
    "    * Second, we have to find the mean.\n",
    "        * The mean in dollars is equal to 5.5 and the mean in pesos to 103.46.\n",
    "    * The third step of the process is finding the sample variance.\n",
    "        * we can obtain $10.72 squared and 3793.69 peso squared.\n",
    "    * The respect of sample standard deviations\n",
    "        * are $3.27 and 61.59 pesos.\n",
    "* OBSERVATION\n",
    "    * First, variance gives results in squared units while standard deviation in original units.\n",
    "        * This is the main reason why professionals prefer to use standard deviation as the main measure of variability.\n",
    "    * Second, we got standard deviations of 3.27 and 61.59 for the same pizza at the same 11 restaurants in New York City.\n",
    "        * So, coefficient of variation dividing the standard deviations by the respective means.\n",
    "        * ![Alt text](img/87.%20Standard%20Deviation%20and%20Coefficient%20of%20Variation5.jpg)\n",
    "            * Notice that it is not dollars pesos, dollars squared or peso squared. It is just zero point 60. This shows us the great advantage that the coefficient of variation gives us. We can confidently say that the two data sets have the same variability which is what we expected beforehand.\n",
    "* RECAP\n",
    "    * There are three main measures of variability, variance, standard deviation and coefficient of variation.\n",
    "    * Each of them has different strengths and applications."
   ]
  },
  {
   "cell_type": "markdown",
   "metadata": {},
   "source": [
    "## Quiz 63: Standard Deviation"
   ]
  },
  {
   "cell_type": "markdown",
   "metadata": {},
   "source": [
    "https://www.udemy.com/course/the-data-science-course-complete-data-science-bootcamp/learn/quiz/4545302#announcements"
   ]
  },
  {
   "cell_type": "markdown",
   "metadata": {},
   "source": [
    "1. Johnny wanted to know how many days per week people in his class exercise, so he asked 3 of his friends. The answers he got were 1, 3 and 5. Based on this, which of the following is true about the results Johnny found?<br>\n",
    "(Hint: Do the numbers [1,3,5] represent a population or a sample?)\n",
    "    * ![Alt text](img/Quiz%2063%20Standard%20Deviation1.jpg)"
   ]
  },
  {
   "cell_type": "markdown",
   "metadata": {},
   "source": [
    "## 88. Standard Deviation and Coefficient of Variation Exercise"
   ]
  },
  {
   "cell_type": "markdown",
   "metadata": {},
   "source": [
    "https://www.udemy.com/course/the-data-science-course-complete-data-science-bootcamp/learn/lecture/10764424#announcements"
   ]
  },
  {
   "cell_type": "markdown",
   "metadata": {},
   "source": [
    "## 89. Covariance"
   ]
  },
  {
   "cell_type": "markdown",
   "metadata": {},
   "source": [
    "https://www.udemy.com/course/the-data-science-course-complete-data-science-bootcamp/learn/lecture/10764426#announcements"
   ]
  },
  {
   "cell_type": "markdown",
   "metadata": {},
   "source": [
    "* Covariance is to measure relationship between two variables.\n",
    "* Unlike variance, covariance may be positive (>0), equal to zero (=0), or negative (<0).\n",
    "* ![Alt text](img/89.%20Covariance1.jpg)\n",
    "    * Example:\n",
    "    * ![Alt text](img/89.%20Covariance2.jpg)"
   ]
  },
  {
   "cell_type": "markdown",
   "metadata": {},
   "source": [
    "## Quiz 64: Covariance"
   ]
  },
  {
   "cell_type": "markdown",
   "metadata": {},
   "source": [
    "https://www.udemy.com/course/the-data-science-course-complete-data-science-bootcamp/learn/quiz/4545306#announcements"
   ]
  },
  {
   "cell_type": "markdown",
   "metadata": {},
   "source": [
    "1. What can you conclude from the following statement?<br>\n",
    "Cov (x,y) > Cov (y,x)\n",
    "    * The statement can never be TRUE"
   ]
  },
  {
   "cell_type": "markdown",
   "metadata": {},
   "source": [
    "## 90. Covariance Exercise"
   ]
  },
  {
   "cell_type": "markdown",
   "metadata": {},
   "source": [
    "https://www.udemy.com/course/the-data-science-course-complete-data-science-bootcamp/learn/lecture/10764428#announcements"
   ]
  },
  {
   "cell_type": "markdown",
   "metadata": {},
   "source": [
    "## 91. Correlation Coefficient"
   ]
  },
  {
   "cell_type": "markdown",
   "metadata": {},
   "source": [
    "https://www.udemy.com/course/the-data-science-course-complete-data-science-bootcamp/learn/lecture/10764432#announcements"
   ]
  },
  {
   "cell_type": "markdown",
   "metadata": {},
   "source": [
    "* Correlation adjusts covariance so that the relationship between the two variables becomes easy and intuitive to interpret. \n",
    "* The formulas for the correlation coefficient are the covariance divided by the product of the standard deviations of the two variables.\n",
    "    * ![Alt text](img/91.%20Correlation%20Coefficient1.jpg)\n",
    "        * Left: Sample\n",
    "        * Right: Population\n",
    "\n",
    "* ![Alt text](img/91.%20Correlation%20Coefficient2.jpg)\n",
    "    * Mathematically, there is no way to obtain a correlation value greater than one or a less than minus one.\n",
    "        * -1 <= correlation coefficient <= 1\n",
    "    * We manipulated the strange covariance value in order to get something intuitive.\n",
    "    * We got a sample correlation coefficient of 0.87, so there is a strong relationship between the two values. \n",
    "    * ![Alt text](img/91.%20Correlation%20Coefficient3.jpg)\n",
    "        * The correlation of one, also known as perfect positive correlation, means that the entire variability of one variable is explained by the other variable.\n",
    "            * However, logically we know that size determines the price.\n",
    "    * ![Alt text](img/91.%20Correlation%20Coefficient4.jpg)\n",
    "        * Correlation of zero between two variables means that they are absolutely independent from each other.\n",
    "    * ![Alt text](img/91.%20Correlation%20Coefficient5.jpg)\n",
    "        * Negative correlation coefficient. It can be perfect negative correlation of minus one or much more likely an imperfect negative correlation of a value between minus one and zero.\n",
    "* We must note that the correlation between two variables X and Y is the same as the correlation between Y and X. The formula is completely symmetrical with respect to both variables. Therefore, the correlation of price and size is the same as the one of size and price. This leads us to causality. It is very important for any analyst or researcher to understand the direction of causal relationships.\n",
    "* **Correlation does not imply causation.**"
   ]
  },
  {
   "cell_type": "markdown",
   "metadata": {},
   "source": [
    "## Quiz 65: Correlation"
   ]
  },
  {
   "cell_type": "markdown",
   "metadata": {},
   "source": [
    "https://www.udemy.com/course/the-data-science-course-complete-data-science-bootcamp/learn/quiz/4545308#announcements"
   ]
  },
  {
   "cell_type": "markdown",
   "metadata": {},
   "source": [
    "1. Which of these is true about correlation and causality?\n",
    "    * Causality is an asymmetric relation. (x causes y is different from y causes x)\n",
    "2. What can you conclude from the following statement?<br>\n",
    "Cov (x,y) > Cov (y,x)\n",
    "    * The statement can never be TRUE"
   ]
  },
  {
   "cell_type": "markdown",
   "metadata": {},
   "source": [
    "## 92. Correlation Coefficient Exercise"
   ]
  },
  {
   "cell_type": "markdown",
   "metadata": {},
   "source": [
    "https://www.udemy.com/course/the-data-science-course-complete-data-science-bootcamp/learn/lecture/10764434#announcements"
   ]
  },
  {
   "cell_type": "markdown",
   "metadata": {},
   "source": [
    "# **16. Statistics - Practical Example: Descriptive Statistics**"
   ]
  },
  {
   "cell_type": "markdown",
   "metadata": {},
   "source": [
    "## 93. Practical Example: Descriptive Statistics"
   ]
  },
  {
   "attachments": {},
   "cell_type": "markdown",
   "metadata": {},
   "source": [
    "https://www.udemy.com/course/the-data-science-course-complete-data-science-bootcamp/learn/lecture/10764436"
   ]
  },
  {
   "cell_type": "markdown",
   "metadata": {},
   "source": [
    "* Database: real estate company operating in California\n",
    "    * Note: Names has been altered for confidential reasons\n",
    "* Problem:\n",
    "    * The company is launching a marketing campaign, but it wants to target its audience properly. The management suspects that after some short analysis, marketing results can be improved without the need of investing additional resources.\n",
    "    * We are the data analysts who are going to crunch some numbers and identify which groups of people are most likely to buy our product. Once we have done so we will instruct the marketing team to focus its efforts on these groups.\n",
    "        * The first thing we have to do when we analyze the data is to get acquainted with the table. It illustrates the sales of real estate property for a specific company.\n",
    "        * Second, the table has two parts, left and right. \n",
    "            * ![Alt text](img/93.%20Practical%20Example%20Descriptive%20Statistics1.jpg)\n",
    "            * On the left hand side we have product information.\n",
    "            * ![Alt text](img/93.%20Practical%20Example%20Descriptive%20Statistics2.jpg)\n",
    "            * On the right hand side, we have customer information.\n",
    "        * Identify types of data and levels of measurement for some of them. This is a crucial step as we cannot analyze the data if we don't understand its type.\n",
    "            * ID\n",
    "                * ID is a value that we assign to each item which lets us differentiate between products. It may look numerical to you, but in fact it is categorical. ID variables are like names that we assign to different products.\n",
    "                    * A simple way to check of a variable is numerical or categorical is to interpret its mean (average). The mean ID number shows nothing. Now oppose this to the mean price, for example. It is clear that the mean price is a very valuable piece of information.\n",
    "                * ID's level of measurement: qualitative, nominal\n",
    "            * Age\n",
    "                * Age level of measurement is quantitative, ratio.\n",
    "                    * A rule that is used for verifying ratios is asking the question is there a true zero point? Well, for age, it is obvious that when you were born you are exactly zero years old. That's the true zero point, so we are safe.\n",
    "                    * However, what's truly intriguing is whether age is discreet or continuous. In fact, it may be both. In this case, we can only see age as a whole number. Therefore, it is discreet. However, similar to weight, a variable we discussed earlier in the course, age is a continuous variable.\n",
    "                * When you are dealing with age, you decide it's type depending on your work at hand.\n",
    "            * Age interval\n",
    "                * Age is either continuous or discreet as we are talking about the same variable (Age).\n",
    "                * Age interval level of measurement is in ordinal instead of a ratio.\n",
    "                    * The age groups represent different categories that are ordered but are not numerical. This serves to show that the same variable can have different levels of measurement within the same database.\n",
    "            * Price\n",
    "                * In most corporate analyses, price is central. No matter the data set, it is always a numerical variable that like age may be discreet or continuous depending on your needs. If you are interested, banks and corporations treat it as continuous and so will we.\n",
    "                Price level of measurement here is ratio. \n",
    "            * Gender\n",
    "                * Gender is of categorical type\n",
    "                    * It is very similar to yes and no questions that we have discussed in previous lessons. Such variables are called binary as there are only two possibilities which are always categorical.\n",
    "                * Gender level of measurement is nominal.\n",
    "            * State\n",
    "                * State is categorical variable like ID.\n",
    "                    * In fact, you can label the US states from one to 50 and use numbers instead.\n",
    "                * State level of measurement is nominal.\n",
    "        * Before we can plot the data we have to create the frequency distribution table.\n",
    "            * Gender\n",
    "            * ![Alt text](img/93.%20Practical%20Example%20Descriptive%20Statistics3.jpg)\n",
    "                * Now, we have three possibilities for gender. Male, female or a cell where gender is not available. Since some properties were purchased by companies they have no gender.\n",
    "                * Gender is categorical and the good way to represent it in practice is with a pie chart.\n",
    "                    * We can clearly see that most clients are male. **However, this information is biased.** As the customers in this database are the people who signed the contract. It is very likely that a family bought the apartment, but our data shows us only the person who signed the contract. **Such variables are interesting to see, but it is not a good idea to include them in the data driven decisions we make.**\n",
    "            * Location\n",
    "                * ![Alt text](img/93.%20Practical%20Example%20Descriptive%20Statistics4.jpg)\n",
    "                * State is a categorical variable. We may use a bar chart or a pie chart. However, the Pareto diagram can gives additional information.\n",
    "                * From the graph, you can immediately see that the majority of clients are from California. A possible scenario is to decide to invest in marketing for the top 75% of the locations. This will mean that we can focus on California and Nevada alone.\n",
    "            * Age\n",
    "                * ![Alt text](img/93.%20Practical%20Example%20Descriptive%20Statistics5.jpg)\n",
    "                * Let's first plot the frequency distribution of age. This is done by creating a histogram with an interval length of one.\n",
    "                * Now we can move on to the age interval representation. The options there are 18 to 25, 26 to 35, 36 to 45, 56 to 65, and 65 plus. Most of the data falls between 25 and 60 years which is evident from the frequency distribution graph. We can clearly see that 36 to 45 is the age at which most people purchase a real estate property.\n",
    "                * The mean and median are pretty close so we don't have a lot of outliers.\n",
    "                    * ![Alt text](img/93.%20Practical%20Example%20Descriptive%20Statistics6.jpg)\n",
    "                        * As you may recall, the mean is affected by them while the median is not. Moreover, when the mean is higher than the median we have a positive or right skew. This is confirmed by our histogram.\n",
    "                * Note that age represents the age of the buyer when the deal was sealed. The formula used is the year of the deal minus the year of birth of the buyer.\n",
    "                    * We are doing this because we wanna see the age at which customers buy our product. Their current age is irrelevant. Moreover, real estate is something people rarely buy more than once in their life, so we expect age to be a central variable in our analysis. Let's first plot the frequency distribution of age.\n",
    "                * Finally, we should inspect the variability of age. Before we can do so we have to see if this is sample or population data. The company data is the population of all people who are our customers already. However, our research aims to help the marketing department in identifying future customers. Therefore, our data set is a sample drawn from all the people who will eventually buy property from our company. Hence forth, we will use sample formulas.\n",
    "                    * ![Alt text](img/93.%20Practical%20Example%20Descriptive%20Statistics7.jpg)\n",
    "                    * The result from standard deviation variability of age is around 13 years. This gives us an additional idea of how dispersed the data is.\n",
    "            * Relationship between Age and Price\n",
    "                * Both variables are numerical so we'll have to use a scatter plot.\n",
    "                * ![Alt text](img/93.%20Practical%20Example%20Descriptive%20Statistics8.jpg)\n",
    "                    * It seems that it is pretty dispersed and there isn't an obvious trend.\n",
    "                    * Let's confirm this observation by calculating the co variance of the two variables.\n",
    "                        * We get this enormous valuethat doesn't tell us muchso it's suitable to standardize it by using the correlation coefficient and the value we get is minus 0.17.\n",
    "                        * This correlation is very low. A common practice is to disregard correlations that are below 0.2.\n",
    "    * Conclusion what can we tell the marketing team after this short analysis?\n",
    "        * First, males are more likely to sign the contracts and are potentially a better audience for our ads. However, we don't have any information about their marital status. Thus, this observation is a bit unclear.\n",
    "        * Second, 68% of our sales in the US come from California with Nevada, Oregon, Arizona and Colorado following behind to form 93% of the US customer base.\n",
    "        * Third, 71% of sales were made with customers age between 26 and 55 years old, with a mean of 46 years of age and a standard deviation of 13 years. Moreover, the distribution is right skewed so we expect younger people to buy more property than older people.\n",
    "        * Finally, there is no relationship between the age of a given customer and the price they're willing to pay."
   ]
  },
  {
   "cell_type": "markdown",
   "metadata": {},
   "source": [
    "## 94. Practical Example: Descriptive Statistics Exercise"
   ]
  },
  {
   "attachments": {},
   "cell_type": "markdown",
   "metadata": {},
   "source": [
    "https://www.udemy.com/course/the-data-science-course-complete-data-science-bootcamp/learn/lecture/10764438"
   ]
  },
  {
   "cell_type": "markdown",
   "metadata": {},
   "source": [
    "# **17. Statistics - Inferential Statistics Fundamentals**"
   ]
  },
  {
   "cell_type": "markdown",
   "metadata": {},
   "source": [
    "## 95. Introduction"
   ]
  },
  {
   "attachments": {},
   "cell_type": "markdown",
   "metadata": {},
   "source": [
    "https://www.udemy.com/course/the-data-science-course-complete-data-science-bootcamp/learn/lecture/10764446"
   ]
  },
  {
   "cell_type": "markdown",
   "metadata": {},
   "source": [
    "* Inferential statistics refers to methods that rely on probability theory and distributions in particular to predict population values based on sample data."
   ]
  },
  {
   "cell_type": "markdown",
   "metadata": {},
   "source": [
    "## 96. What is a Distribution"
   ]
  },
  {
   "attachments": {},
   "cell_type": "markdown",
   "metadata": {},
   "source": [
    "https://www.udemy.com/course/the-data-science-course-complete-data-science-bootcamp/learn/lecture/10764448"
   ]
  },
  {
   "cell_type": "markdown",
   "metadata": {},
   "source": [
    "* Distribution or probability distribution is a function that shows the possible values for a variable and how often they occur.\n",
    "    * Distribution of a data set shows us the frequency at which possible values occur within an interval.\n",
    "* Discrete uniform distribution is if all outcomes have an equal chance of occurring.\n",
    "* A distribution is defined by the underlying probabilities and not the graph. The graph is just a visual representation."
   ]
  },
  {
   "cell_type": "markdown",
   "metadata": {},
   "source": [
    "## Quiz 66: What is a Distribution"
   ]
  },
  {
   "attachments": {},
   "cell_type": "markdown",
   "metadata": {},
   "source": [
    "https://www.udemy.com/course/the-data-science-course-complete-data-science-bootcamp/learn/quiz/4450994"
   ]
  },
  {
   "cell_type": "markdown",
   "metadata": {},
   "source": [
    "1. What is a distribution?\n",
    "    * A distribution is a function that shows the possible values for a variable and the probability of their occurence"
   ]
  },
  {
   "cell_type": "markdown",
   "metadata": {},
   "source": [
    "## 97. The Normal Distribution"
   ]
  },
  {
   "attachments": {},
   "cell_type": "markdown",
   "metadata": {},
   "source": [
    "https://www.udemy.com/course/the-data-science-course-complete-data-science-bootcamp/learn/lecture/10764450"
   ]
  },
  {
   "cell_type": "markdown",
   "metadata": {},
   "source": [
    "* Normal and students T distributions\n",
    "    * They approximate a wide variety of random variables.\n",
    "    * Distributions of sample means with large enough sample sizes could be approximated to normal.\n",
    "    * All computable statistics are elegant. \n",
    "    * Decisions based on normal distribution insights have a good track record.\n",
    "\n",
    "* ![Alt text](img/97.%20The%20Normal%20Distribution1.jpg)\n",
    "    * Normal distribution is the most common one and The statistical term for it is Gaussian distribution. Many people call it the Bell Curve as it is shaped like a bell.\n",
    "    * It is symmetrical and it's mean, Median and mode are equal. If you remember the lesson about skewness, you would recognize it has no skew. It is perfectly centered around its mean.\n",
    "    * ![Alt text](img/97.%20The%20Normal%20Distribution2.jpg)\n",
    "        * N stands for normal\n",
    "        * The tilt sign shows it is a distribution\n",
    "        * In brackets we have the mean and the variance of the distribution\n",
    "        * The highest point is located at the mean because it coincides with the mode\n",
    "        * The spread of the graph is determined by the standard deviation.\n",
    "* Normally distributed histogram\n",
    "    * ![Alt text](img/97.%20The%20Normal%20Distribution3.jpg)\n",
    "        * There is a concentration of the observations around the mean, which makes sense as it is equal to the mode.\n",
    "        * it is symmetrical on both sides of the mean.\n",
    "* Normal distribution, Controlling for standard deviation\n",
    "    * ![Alt text](img/97.%20The%20Normal%20Distribution4.jpg)\n",
    "        *  The origin is the zero point.\n",
    "        * Adding it to any graph gives perspective keeping the standard deviation fixed, or in statistical jargon controlling for the standard deviation\n",
    "        * a lower mean would result in the same shape of the distribution, but on the left side of the plane.\n",
    "        * a bigger mean would move the graph to the right.\n",
    "        * This resulted in two new distributions, one with a mean of 470 and a standard deviation of 140 and one with a mean of 960, and a standard deviation of 140.\n",
    "* Normal distribution, Controlling for mean\n",
    "    * ![Alt text](img/97.%20The%20Normal%20Distribution5.jpg)\n",
    "        * Red line - The graph is not moving but is rather reshaping a lower standard deviation results in a lower dispersion so more data in the middle and thinner tails.\n",
    "        * Green line - On the other hand a higher standard deviation will cause the graph to flatten out with less points in the middle and more to the end, or in statistics jargon. Fatter tails."
   ]
  },
  {
   "cell_type": "markdown",
   "metadata": {},
   "source": [
    "## Quiz 67: The Normal Distribution"
   ]
  },
  {
   "attachments": {},
   "cell_type": "markdown",
   "metadata": {},
   "source": [
    "https://www.udemy.com/course/the-data-science-course-complete-data-science-bootcamp/learn/quiz/4450996"
   ]
  },
  {
   "cell_type": "markdown",
   "metadata": {},
   "source": [
    "1. Question 1:<br>\n",
    "Choose the INCORRECT answer. A Normal distribution is one of the most commonly used distribution types, because:\n",
    "    * All variables can be represented by the Normal distribution\n",
    "        * CORRECT\n",
    "        * Distributions of sample means with large enough sample sizes could be approximated to Normal.\n",
    "        * Computable statistics are elegant.\n",
    "        * Decisions based on Normal distribution insights have a good track record."
   ]
  },
  {
   "cell_type": "markdown",
   "metadata": {},
   "source": [
    "## 98. The Standard Normal Distribution"
   ]
  },
  {
   "attachments": {},
   "cell_type": "markdown",
   "metadata": {},
   "source": [
    "https://www.udemy.com/course/the-data-science-course-complete-data-science-bootcamp/learn/lecture/10764452"
   ]
  },
  {
   "cell_type": "markdown",
   "metadata": {},
   "source": [
    "* Standardization is the process of transforming this variable to one with a mean of zero and a standard deviation of one.\n",
    "    * Every distribution can be standardized\n",
    "    * ![Alt text](img/98.%20The%20Standard%20Normal%20Distribution1.jpg)\n",
    "\n",
    "* Normal distribution can also be standardized, the result is called a standard normal distribution.\n",
    "    * ![Alt text](img/98.%20The%20Standard%20Normal%20Distribution2.jpg)\n",
    "\n",
    "* In the last section, we explored shifts in the mean and the standard deviation. \n",
    "    * ![Alt text](img/98.%20The%20Standard%20Normal%20Distribution3.jpg)\n",
    "    * So if we shift the mean by mu and the standard deviation by sigma for any normal distribution, we will arrive at the standard normal distribution.\n",
    "    * ![Alt text](img/98.%20The%20Standard%20Normal%20Distribution4.jpg)\n",
    "    * We use the letter Z to denote it. As said previously, it is mean is zero and its standard deviation one. The standardized variable is called the Z-score and is equal to the original variable minus its mean divided by its standard deviation.\n",
    "    \n",
    "* ![Alt text](img/98.%20The%20Standard%20Normal%20Distribution5.jpg)\n",
    "    * ![Alt text](img/98.%20The%20Standard%20Normal%20Distribution6.jpg)\n",
    "    * ![Alt text](img/98.%20The%20Standard%20Normal%20Distribution7.jpg)\n",
    "    * ![Alt text](img/98.%20The%20Standard%20Normal%20Distribution8.jpg)"
   ]
  },
  {
   "cell_type": "markdown",
   "metadata": {},
   "source": [
    "## Quiz 68: The Standard Normal Distribution"
   ]
  },
  {
   "attachments": {},
   "cell_type": "markdown",
   "metadata": {},
   "source": [
    "https://www.udemy.com/course/the-data-science-course-complete-data-science-bootcamp/learn/quiz/4545310"
   ]
  },
  {
   "cell_type": "markdown",
   "metadata": {},
   "source": [
    "1. Imagine we have a variable X, which follows a Normal Distribution with a mean of 4 and a variance of 9. We want to standardize Z, so what formula do we use for the transformation?\n",
    "    * ![Alt text](img/Quiz%2068%20The%20Standard%20Normal%20Distribution1.jpg)\n",
    "    * a)"
   ]
  },
  {
   "cell_type": "markdown",
   "metadata": {},
   "source": [
    "## 99. The Standard Normal Distribution Exercise"
   ]
  },
  {
   "attachments": {},
   "cell_type": "markdown",
   "metadata": {},
   "source": [
    "https://www.udemy.com/course/the-data-science-course-complete-data-science-bootcamp/learn/lecture/10764464"
   ]
  },
  {
   "cell_type": "markdown",
   "metadata": {},
   "source": [
    "## 100. Central Limit Theorem"
   ]
  },
  {
   "attachments": {},
   "cell_type": "markdown",
   "metadata": {},
   "source": [
    "https://www.udemy.com/course/the-data-science-course-complete-data-science-bootcamp/learn/lecture/10764454"
   ]
  },
  {
   "cell_type": "markdown",
   "metadata": {},
   "source": [
    "* The Central Limit Theorem (CLT) is a statistical concept that states that the sample mean distribution of a random variable will assume a near-normal or normal distribution if the sample size is large enough.\n",
    "* ![Alt text](img/100.%20Central%20Limit%20Theorem1.jpg)\n",
    "* ![Alt text](img/100.%20Central%20Limit%20Theorem2.jpg)"
   ]
  },
  {
   "cell_type": "markdown",
   "metadata": {},
   "source": [
    "## Quiz 69: Central Limit Theorem"
   ]
  },
  {
   "attachments": {},
   "cell_type": "markdown",
   "metadata": {},
   "source": [
    "https://www.udemy.com/course/the-data-science-course-complete-data-science-bootcamp/learn/quiz/4450998"
   ]
  },
  {
   "cell_type": "markdown",
   "metadata": {},
   "source": [
    "1. Choose the CORRECT answer about the central limit theorem.\n",
    "    * The means of the samples we extract will be closer to normally distributed if we extract more sample\n",
    "    * The distribution of the sample means is expected to have a mean equal to the mean of the original dataset.\n",
    "    * The distribution of the sample means is expected to have a variacne equal to the variance of the original dataset, divided by the sample size.\n",
    "        * INCORRECT\n",
    "        * The means of the samples we extract will be closer to normally distributed, the smaller the samples we extract."
   ]
  },
  {
   "cell_type": "markdown",
   "metadata": {},
   "source": [
    "## 101. Standard Error"
   ]
  },
  {
   "attachments": {},
   "cell_type": "markdown",
   "metadata": {},
   "source": [
    "https://www.udemy.com/course/the-data-science-course-complete-data-science-bootcamp/learn/lecture/10764456"
   ]
  },
  {
   "cell_type": "markdown",
   "metadata": {},
   "source": [
    "* The standard error is the standard deviation of the distribution formed by the sample means.\n",
    "    * In other words, the standard deviation of the sampling distribution.\n",
    "    * ![Alt text](img/101.%20Standard%20Error1.jpg)\n",
    "    * ![Alt text](img/101.%20Standard%20Error2.jpg)\n",
    "    * ![Alt text](img/101.%20Standard%20Error3.jpg)\n",
    "* The standard error used for almost all statistical tests because it shows how well you approximated the true mean.\n",
    "* Note that it decreases as the sample size increases. This makes sense, as bigger samples give a better approximation of the population.\n",
    "    * ![Alt text](img/101.%20Standard%20Error4.jpg)"
   ]
  },
  {
   "cell_type": "markdown",
   "metadata": {},
   "source": [
    "## Quiz 70: Standard Error"
   ]
  },
  {
   "attachments": {},
   "cell_type": "markdown",
   "metadata": {},
   "source": [
    "https://www.udemy.com/course/the-data-science-course-complete-data-science-bootcamp/learn/quiz/4545312"
   ]
  },
  {
   "cell_type": "markdown",
   "metadata": {},
   "source": [
    "1. How does sample size (n) affect SE (Standard Error)?\n",
    "    * As sample size increase, it will decrease SE"
   ]
  },
  {
   "cell_type": "markdown",
   "metadata": {},
   "source": [
    "## 102. Estimators and Estimates"
   ]
  },
  {
   "attachments": {},
   "cell_type": "markdown",
   "metadata": {},
   "source": [
    "https://www.udemy.com/course/the-data-science-course-complete-data-science-bootcamp/learn/lecture/10764458"
   ]
  },
  {
   "cell_type": "markdown",
   "metadata": {},
   "source": [
    "\n",
    "* Estimator of a population parameter is depending solely on sample information. A specific value is called an estimate.\n",
    "    * There are two types of estimates:\n",
    "    * Point estimates\n",
    "        * A point estimate is a single number\n",
    "    * Confidence interval estimates.\n",
    "        * Confidence interval, naturally, is an interval.\n",
    "    * ![Alt text](img/102.%20Estimators%20and%20Estimates1.jpg)\n",
    "    * The two are closely related. In fact, the point estimate is located exactly in the middle of the confidence interval.\n",
    "    * However, confidence intervals provide much more information and are preferred when making inferences.\n",
    "\n",
    "* The sample mean x-bar is a point estimate of the population mean mu. Moreover, the sample variance S squared was an estimate of the population variance sigma squared.\n",
    "    * ![Alt text](img/102.%20Estimators%20and%20Estimates2.jpg)\n",
    "* However, they all have two properties: \n",
    "    * Bias\n",
    "    * Efficiency.\n",
    "* ![Alt text](img/102.%20Estimators%20and%20Estimates3.jpg)\n",
    "* Estimators are like judges. We are always looking for the most efficient, unbiased estimators.\n",
    "    * An unbiased estimator has an expected value equal to the population parameter.\n",
    "* The most efficient estimators are the ones with the least variability of outcomes.\n",
    "    * It is enough to know that most efficient means the unbiased estimator with the smallest variance.\n",
    "    \n",
    "* ![Alt text](img/102.%20Estimators%20and%20Estimates4.jpg)\n",
    "* The difference between estimators and statistics.\n",
    "    * The word statistic is the broader term.\n",
    "    * A point estimate is a statistic."
   ]
  },
  {
   "cell_type": "markdown",
   "metadata": {},
   "source": [
    "## Quiz 71: Estimators and Estimates"
   ]
  },
  {
   "attachments": {},
   "cell_type": "markdown",
   "metadata": {},
   "source": [
    "https://www.udemy.com/course/the-data-science-course-complete-data-science-bootcamp/learn/quiz/4451000"
   ]
  },
  {
   "cell_type": "markdown",
   "metadata": {},
   "source": [
    "1. You are given a dataset with a sample mean of 10. In this case, 10 is:\n",
    "    * a point estimate"
   ]
  },
  {
   "cell_type": "markdown",
   "metadata": {},
   "source": [
    "# **18. Statistics - Inferential Statistics: Confidence Interval**"
   ]
  },
  {
   "cell_type": "markdown",
   "metadata": {},
   "source": [
    "## 103. What are Confidence Intervals?"
   ]
  },
  {
   "attachments": {},
   "cell_type": "markdown",
   "metadata": {},
   "source": [
    "https://www.udemy.com/course/the-data-science-course-complete-data-science-bootcamp/learn/lecture/10764472"
   ]
  },
  {
   "cell_type": "markdown",
   "metadata": {},
   "source": [
    "* Confidence Interval is the mean of your estimate plus and minus the variation in that estimate. This is the range of values you expect your estimate to fall between if you redo your test, within a certain level of confidence. Confidence, in statistics, is another way to describe probability.\n",
    "* ![Alt text](img/103.%20What%20are%20Confidence%20Intervals1.jpg)\n",
    "    * The level of confidence. It is denoted by one minus alpha and is called the confidence level of the interval. Alpha is a value between zero and one.\n",
    "* ![Alt text](img/103.%20What%20are%20Confidence%20Intervals2.jpg)\n",
    "    * If we wanna be 95% confident that the parameter is inside the interval, alpha is 5%. If we want to higher competence level of say 99%, alpha will be 1%.\n",
    "* ![Alt text](img/103.%20What%20are%20Confidence%20Intervals3.jpg)\n",
    "    * ![Alt text](img/103.%20What%20are%20Confidence%20Intervals4.jpg)\n",
    "    * The formula for all confidence intervals is, from the point estimate minus the reliability factor times the standard error to the point estimate, plus the reliability factor, times the standard error."
   ]
  },
  {
   "cell_type": "markdown",
   "metadata": {},
   "source": [
    "## Quiz 72: What are Confidence Intervals?"
   ]
  },
  {
   "attachments": {},
   "cell_type": "markdown",
   "metadata": {},
   "source": [
    "https://www.udemy.com/course/the-data-science-course-complete-data-science-bootcamp/learn/quiz/4451002"
   ]
  },
  {
   "cell_type": "markdown",
   "metadata": {},
   "source": [
    "1. How is a confidence interval related to a point estimate?\n",
    "    * The point estimate is the midpoint of the interval."
   ]
  },
  {
   "cell_type": "markdown",
   "metadata": {},
   "source": [
    "## 104. Confidence Intervals; Population Variance Known; Z-score"
   ]
  },
  {
   "cell_type": "markdown",
   "metadata": {},
   "source": [
    "https://www.udemy.com/course/the-data-science-course-complete-data-science-bootcamp/learn/lecture/10764476#content"
   ]
  },
  {
   "cell_type": "markdown",
   "metadata": {},
   "source": [
    "* ![Alt text](img/104.%20Confidence%20Intervals;%20Population%20Variance%20Known;%20Z-score1.jpg)\n",
    "    * Confidence Interval is the range within which you expect the population parameter to be, and its estimation is based on the data we have in our sample.\n",
    "    * There can be two main situations when we calculate the confidence intervals for a population. When the population variance is known and when it is unknown. Depending on which situation we are in we would use a different calculation method.\n",
    "    * The whole field of statistics exists because we almost never have population data. Even if we do have population we may not be able to analyze it. It may be so much that it doesn't make sense to be used all at once.\n",
    "* ![Alt text](img/104.%20Confidence%20Intervals;%20Population%20Variance%20Known;%20Z-score2.jpg)\n",
    "* ![Alt text](img/104.%20Confidence%20Intervals;%20Population%20Variance%20Known;%20Z-score3.jpg)\n",
    "    * The formula for the competence interval with a known variance is :\n",
    "        * The population mean will fall between the sample mean minus z of alpha divided by two times the standard error. And the sample mean plus z of alpha divided by two times the standard error.\n",
    "            * The sample mean is the point estimate.\n",
    "            * z is the standardized variable that has a standard normal distribution\n",
    "            * alpha is confidence level\n",
    "                * common confidence levels is 90%, 95%, 99%\n",
    "                    * which mean alpha is 10%, 5%, 1%\n",
    "                * 95% confidence interval means you are sure that in 95% of the cases, the true population parameter would fall into the specified interval.\n",
    "            * The z of alpha comes from the standard normal distribution table.\n",
    "                * Values for the 95% confidence interval. Alpha is 0.05. Therefore, we are looking for z of alpha divided by two, or 0.025. In the table, this will match the value of one minus 0.025, or 0.9775. The corresponding z comes from the sum of the row and column table headers associated with this cell. In our case, the value is 1.9 plus 0.06, or 1.96.\n",
    "                    * ![Alt text](img/104.%20Confidence%20Intervals;%20Population%20Variance%20Known;%20Z-score4.jpg)\n",
    "                * If we wanna be 99% certain of the outcome. Alpha is 0.01. We look at the table for the value of one minus 0.005, which is equal to 0.995. If there is no such value. When this happens, we just have to round to the nearest value available.\n",
    "                    * ![Alt text](img/104.%20Confidence%20Intervals;%20Population%20Variance%20Known;%20Z-score6.jpg)\n",
    "    * Using 95% Confidence Level\n",
    "        * ![Alt text](img/104.%20Confidence%20Intervals;%20Population%20Variance%20Known;%20Z-score5.jpg)\n",
    "    * Using 99% Confidence Level\n",
    "        * ![Alt text](img/104.%20Confidence%20Intervals;%20Population%20Variance%20Known;%20Z-score7.jpg)\n",
    "    * Note: there is a tradeoff between the level of confidence we chose and the estimation precision.\n",
    "        * ![Alt text](img/104.%20Confidence%20Intervals;%20Population%20Variance%20Known;%20Z-score8.jpg)"
   ]
  },
  {
   "cell_type": "markdown",
   "metadata": {},
   "source": [
    "## 105. Confidence Intervals; Population Variance Known; Z-score; Exercise"
   ]
  },
  {
   "attachments": {},
   "cell_type": "markdown",
   "metadata": {},
   "source": [
    "https://www.udemy.com/course/the-data-science-course-complete-data-science-bootcamp/learn/lecture/10764478"
   ]
  },
  {
   "cell_type": "markdown",
   "metadata": {},
   "source": [
    "## 106. Confidence Interval Clarifications"
   ]
  },
  {
   "attachments": {},
   "cell_type": "markdown",
   "metadata": {},
   "source": [
    "https://www.udemy.com/course/the-data-science-course-complete-data-science-bootcamp/learn/lecture/11725242"
   ]
  },
  {
   "cell_type": "markdown",
   "metadata": {},
   "source": [
    "* ![Alt text](img/106.%20Confidence%20Interval%20Clarifications1.jpg)\n",
    "    * Here is a graph of a normal distribution.\n",
    "        * the sample mean is, in the middle of the graph.\n",
    "        * the majority of observations will be around the mean and the rest, far away from it.\n",
    "* ![Alt text](img/106.%20Confidence%20Interval%20Clarifications2.jpg)\n",
    "    * There is the lower limit and the upper limit. A 95% confidence interval would imply that we are 95% confident that the true population mean falls within this interval. There is 2.5% chance that it will be on the left of the lower limit and 2.5% chance it will be on the right. Overall, there is 5% chance that our confidence interval does not contain the true population mean. So when alpha is 0.05 or 5%, we have alpha divided by two or 2.5% chance that the true mean is on the left of the interval and 2.5% on the right.\n",
    "* ![Alt text](img/106.%20Confidence%20Interval%20Clarifications3.jpg)\n",
    "    * Using the Z score in the formula, we are implicitly starting from a standard normal distribution. Therefore, the mean is zero. The lower limit is -Z while the upper one Z. For a 95% confidence interval. Using the Z-table, we can find that these limits are -1.96 and 1.96.\n",
    "* ![Alt text](img/106.%20Confidence%20Interval%20Clarifications4.jpg)\n",
    "    * if we are looking at a 90% confidence interval? The interval looks like this and there is a 10% chance that the true mean is outside the interval, 5% on each side.\n",
    "*   ![Alt text](img/106.%20Confidence%20Interval%20Clarifications5.jpg)\n",
    "    * When confidence is lower, the confidence interval itself is smaller. Similarly, for a 99% confidence interval, we would have a higher confidence, but a much larger confidence interval.\n",
    "    * There is a trade off between the level of confidence and the range of the interval. \n",
    "        * 100% confidence interval is completely useless as I must include all ages possible in order to gain 100% confidence.\n",
    "        * 99% confidence gives us a much narrower range but is still not insightful enough for this particular problem. There is always a trade off which depends on the problem at hand.\n",
    "        * But, 95% is the accepted norm as we don't compromise with accuracy too much but still get a relatively narrow interval.\n"
   ]
  },
  {
   "cell_type": "markdown",
   "metadata": {},
   "source": [
    "## 107. Student's T Distribution"
   ]
  },
  {
   "attachments": {},
   "cell_type": "markdown",
   "metadata": {},
   "source": [
    "https://www.udemy.com/course/the-data-science-course-complete-data-science-bootcamp/learn/lecture/10764482"
   ]
  },
  {
   "cell_type": "markdown",
   "metadata": {},
   "source": [
    "* Story of Student's T Statistics\n",
    "    * William Gosset was an English statistician who trying develop a way to extract small samples, but still come up with meaningful predictions.\n",
    "    * Ronald Fisher, stepping on the findings of Gosset, introduced the T-statistic, and the name that stuck with the corresponding distribution even today is Student's T.\n",
    "* The Student's T distribution is one of the biggest breakthroughs in statistics, as it allowed inferences through small samples with an unknown population variance.\n",
    "    * This setting can be applied to a big part of the statistical problems we face today, and is an important part of this course.\n",
    "* ![Alt text](img/107.%20Student's%20T%20Distribution1.jpg)\n",
    "    * the students T distribution looks much like a normal distribution, but generally has fatter tails.\n",
    "    * Fatter tails, as you may remember, allows for a higher dispersion of variables, and there is more uncertainty.\n",
    "    * In the same way that the Z-statistic is related to the standard normal distribution, The T-statistic is related to the Student's T distribution.\n",
    "* ![Alt text](img/107.%20Student's%20T%20Distribution2.jpg)\n",
    "    * The formula that allows us to calculate it is:\n",
    "        *  T with N minus one degrees of freedom, and a significance level of alpha equals the sample mean minus the population mean, divided by the standard error of the sample.\n",
    "        * formula very similar to the Z-statistic.\n",
    "            * ![Alt text](img/107.%20Student's%20T%20Distribution3.jpg)\n",
    "    * The last characteristic of the Student's T statistic, is that there are degrees of freedom.\n",
    "        * ![Alt text](img/107.%20Student's%20T%20Distribution4.jpg)\n",
    "            * Usually for a sample of N, we have N minus one degrees of freedom. So for a sample of 20 observations, the degrees of freedom are 19.\n",
    "            * Much like the standard normal distribution table, we also have a Student's T table.\n",
    "                * ![Alt text](img/107.%20Student's%20T%20Distribution5.jpg)\n",
    "                    * The rows indicate different degrees of freedom, abbreviated as df, while the columns, common alphas.\n",
    "                    * Note : after the 30th row, the numbers don't vary that much. Actually, after 30 degrees of freedom, the T-statistic table becomes almost the same as the Z-statistic.\n",
    "                    * A common rule of thumb is, that for a sample containing more than 50 observations, we use the Z-table instead of the T-table."
   ]
  },
  {
   "cell_type": "markdown",
   "metadata": {},
   "source": [
    "## Quiz 73: Student's T Distribution"
   ]
  },
  {
   "attachments": {},
   "cell_type": "markdown",
   "metadata": {},
   "source": [
    "https://www.udemy.com/course/the-data-science-course-complete-data-science-bootcamp/learn/quiz/4451004"
   ]
  },
  {
   "cell_type": "markdown",
   "metadata": {},
   "source": [
    "1. The Student’s T distribution:\n",
    "    * Approximates the Normal distribution but has fatter tails\n",
    "        * The Student’s T distribution approximates the Normal distribution but has fatter tails. This means the probability of values being far away from the mean is bigger. For big enough samples, the Student’s T distribution coincides with the Normal distribution."
   ]
  },
  {
   "cell_type": "markdown",
   "metadata": {},
   "source": [
    "## 108. Confidence Intervals; Population Variance Unknown; T-score"
   ]
  },
  {
   "attachments": {},
   "cell_type": "markdown",
   "metadata": {},
   "source": [
    "https://www.udemy.com/course/the-data-science-course-complete-data-science-bootcamp/learn/lecture/10764486"
   ]
  },
  {
   "cell_type": "markdown",
   "metadata": {},
   "source": [
    "* Question : How much the mean data scientist salary is?\n",
    "    * This time we don't have population variance\n",
    "    * sample of only nine compensations you found on Glassdoor\n",
    "    * ![Alt text](img/108.%20Confidence%20Intervals;%20Population%20Variance%20Unknown;%20T-score1.jpg)\n",
    "* ![Alt text](img/108.%20Confidence%20Intervals;%20Population%20Variance%20Unknown;%20T-score2.jpg)\n",
    "* There are two key differences between confidence interval for the mean of a population with an unknown variance vs variance is known.\n",
    "    * First, instead of a z-statistic, we have a t-statistic.\n",
    "    * Second, instead of population standard deviation, we have sample standard deviation.\n",
    "* The logic behind constructing confidence intervals in both cases is the same. The only two inputs that change are the statistic at hand and the standard deviation.\n",
    "    * When population variance is known, population standard deviation goes with the z-statistic.\n",
    "    * When population variance is unknown, sample standard deviation goes with the t-statistic.\n",
    "* Answer:\n",
    "    * First, we need to specify the degrees of freedom. For the student's T distribution, there are n-1 degrees of freedom. Our sample consists of nine observations, so we have eight degrees of freedom.\n",
    "    * Second, we have to find alpha divided by 2. Once again, this depends on the confidence level that we want to obtain.\n",
    "    * In this example, we are going to use a confidence level of 95%. This means that alpha is equal to 5%, therefore, half of alpha would be 2.5%. You can now see that the associated t-statistic is 2.31.\n",
    "        * ![Alt text](img/108.%20Confidence%20Intervals;%20Population%20Variance%20Unknown;%20T-score3.jpg)\n",
    "        * Note that some t-tables you will find in books or online, have a CI row. The abbreviation stands for confidence interval. Instead of finding alpha, we can just check the 95% confidence interval and get the same result.\n",
    "* ![Alt text](img/108.%20Confidence%20Intervals;%20Population%20Variance%20Unknown;%20T-score4.jpg)\n",
    "    * When we know the population variance, we get a narrower confidence interval. \n",
    "    * When we do not know the population variance, there is a higher uncertainty that is reflected by wider boundaries for our interval.\n"
   ]
  },
  {
   "cell_type": "markdown",
   "metadata": {},
   "source": [
    "## 109. Confidence Intervals; Population Variance Unknown; T-score; Exercise"
   ]
  },
  {
   "attachments": {},
   "cell_type": "markdown",
   "metadata": {},
   "source": [
    "https://www.udemy.com/course/the-data-science-course-complete-data-science-bootcamp/learn/lecture/10764488"
   ]
  },
  {
   "cell_type": "markdown",
   "metadata": {},
   "source": [
    "## 110. Margin of Error"
   ]
  },
  {
   "attachments": {},
   "cell_type": "markdown",
   "metadata": {},
   "source": [
    "https://www.udemy.com/course/the-data-science-course-complete-data-science-bootcamp/learn/lecture/10764494"
   ]
  },
  {
   "cell_type": "markdown",
   "metadata": {},
   "source": [
    "* ![Alt text](img/110.%20Margin%20of%20Error1.jpg)\n",
    "    * When the population variance is known, the margin of error is equal to this expression, and in the case of population variance unknown, the margin of error is equal to this expression instead.\n",
    "* ![Alt text](img/110.%20Margin%20of%20Error2.jpg)\n",
    "* The confidence intervals summarized:\n",
    "    * The true population mean falls in the interval defined by the sample mean plus minus the margin of error.\n",
    "    * Getting a smaller margin of error means that the confidence interval would be narrower. As we want a better prediction, it is in our interest to have the narrowest possible confidence interval.\n",
    "* ![Alt text](img/110.%20Margin%20of%20Error3.jpg)\n",
    "* We can control the margin of error.\n",
    "    * The statistic and the standard deviation are in the numerator, so smaller statistics and smaller standard deviations will reduce the margin of error.\n",
    "* ![Alt text](img/110.%20Margin%20of%20Error4.jpg)\n",
    "    * A higher level of confidence increases the statistic. A higher statistic means a higher margin of error. This leads to a wider confidence interval.\n",
    "\n",
    "* Example Confidence Level:\n",
    "    * ![Alt text](img/110.%20Margin%20of%20Error5.jpg)\n",
    "        * You took an exam and you wanna make a prediction about the mean grade obtained by all exam takers as A, B, C, D, and F are all the possible grades. We are 100% confident that the mean grade will be in the confidence interval from F to A.\n",
    "    * ![Alt text](img/110.%20Margin%20of%20Error6.jpg)\n",
    "        * if we lower the confidence level to 99%, we may end up with a confidence interval from F+ to A-. Remember, the interpretation in 99% of the cases the population mean falls in the interval.\n",
    "    * ![Alt text](img/110.%20Margin%20of%20Error7.jpg)\n",
    "        * So with a 50% confidence level, in 50% of the cases the true mean will fall in the specified interval. The only scenario under which this is possible is if the interval is narrower. Therefore, if the standard deviation and the sample size are kept constant, a lower confidence level results in a narrower interval.\n",
    "* Example Standard Deviation:\n",
    "    * ![Alt text](img/110.%20Margin%20of%20Error8.jpg)\n",
    "        * A lower standard deviation means that the data set is more concentrated around the mean, so we have a better chance to get it right.\n",
    "* Example Sample size in the denominator:\n",
    "    * ![Alt text](img/110.%20Margin%20of%20Error9.jpg)\n",
    "        * Higher sample sizes will decrease the margin of error. This is also quite intuitive. The more observations you have in your sample the more certain you are in the prediction.\n",
    "* Conclusion:\n",
    "    * The conclusion is that the more observations there are in the sample, the higher the chances of getting a good idea about the true mean of the entire population."
   ]
  },
  {
   "cell_type": "markdown",
   "metadata": {},
   "source": [
    "## Quiz 74: Margin of Error"
   ]
  },
  {
   "attachments": {},
   "cell_type": "markdown",
   "metadata": {},
   "source": [
    "https://www.udemy.com/course/the-data-science-course-complete-data-science-bootcamp/learn/quiz/4451010"
   ]
  },
  {
   "cell_type": "markdown",
   "metadata": {},
   "source": [
    "1. Which of the following would decrease the margin of error?\n",
    "    * A lower statistic and a higher sample size\n",
    "        * A higher statistic increases the ME. A higher standard deviation increases the ME. A higher sample size decreases the ME. Therefore: a) and c) are ambiguous. as we don’t know which effect is stronger. With b), the ME will definitely increase. In d) both statements decrease the ME."
   ]
  },
  {
   "cell_type": "markdown",
   "metadata": {},
   "source": [
    "## 111. Confidence intervals. Two means. Dependent samples"
   ]
  },
  {
   "attachments": {},
   "cell_type": "markdown",
   "metadata": {},
   "source": [
    "https://www.udemy.com/course/the-data-science-course-complete-data-science-bootcamp/learn/lecture/10764502"
   ]
  },
  {
   "cell_type": "markdown",
   "metadata": {},
   "source": [
    "* We will explore confidence intervals looking into two populations. \n",
    "    * These cases are more important as they have a wide range of real-world applications.\n",
    "    * In some cases, the samples that we have taken from the two populations will be dependent on each other and in others, they will be independent.\n",
    "        * ![Alt text](img/111.%20Confidence%20intervals.%20Two%20means.%20Dependent%20samples1.jpg)\n",
    "        * Dependent samples can occur in several situations.\n",
    "            * First, when we are researching the same subject over time.\n",
    "                * examples are weight loss and blood samples, because we are looking at the same person before and after.\n",
    "            * when investigating couples or families. \n",
    "                * For instance, habits of husbands and wives.\n",
    "            * Finally, we can have the same people, but in samples relating to different things. So instead of a before and after situation, we are looking at cause and effect.\n",
    "                * For example, when applying to university in the US, you sit the SAT and based on it, you either get admitted or you don't. The applicant is the same person. However, the samples are different. One relates to the SAT, the other to the admittance outcome.\n",
    "* ![Alt text](img/111.%20Confidence%20intervals.%20Two%20means.%20Dependent%20samples2.jpg)\n",
    "\n",
    "* In statistics, many concepts are similar to each other and you will quickly see that you have already acquired the intuition that allows you to understand these concepts pretty fast.\n",
    "\n",
    "* Dependent samples\n",
    "    * This statistical test is often used when developing medicine.\n",
    "        * Let's say you have developed a pill that increases the concentration of magnesium in the blood. It is very promising, but there is no data to support your claim. After testing the drug in a laboratory, it is time to see its actual effect on people.\n",
    "        * What you would typically do is take a sample of 10 people and test their magnesium levels before and after taking the pill.\n",
    "        * It is clear that it is the same people we are testing, thus the samples are dependent.\n",
    "            * An important note when dealing with biology, normality is so often observed that we immediately assume that such variables are normally distributed.\n",
    "        * the magnesium levels are stated in milligrams per deciliter and a healthy person would usually have somewhere between 1.7 and 2.2 milligrams of magnesium per deciliter.\n",
    "        * ![Alt text](img/111.%20Confidence%20intervals.%20Two%20means.%20Dependent%20samples3.jpg)\n",
    "            * The purpose of this test was to determine whether the drug is effective. Based on small sample, it most likely is."
   ]
  },
  {
   "cell_type": "markdown",
   "metadata": {},
   "source": [
    "## 112. Confidence intervals. Two means. Dependent samples Exercise"
   ]
  },
  {
   "attachments": {},
   "cell_type": "markdown",
   "metadata": {},
   "source": [
    "https://www.udemy.com/course/the-data-science-course-complete-data-science-bootcamp/learn/lecture/10764506"
   ]
  },
  {
   "cell_type": "markdown",
   "metadata": {},
   "source": [
    "## 113. Confidence intervals. Two means. Independent Samples (Part 1)"
   ]
  },
  {
   "attachments": {},
   "cell_type": "markdown",
   "metadata": {},
   "source": [
    "https://www.udemy.com/course/the-data-science-course-complete-data-science-bootcamp/learn/lecture/10764510"
   ]
  },
  {
   "cell_type": "markdown",
   "metadata": {},
   "source": [
    "* ![Alt text](img/113.%20Confidence%20intervals.%20Two%20means.%20Independent%20Samples%20(Part%201)1.jpg)\n",
    "    * Independent samples, we can further distinguish three cases:\n",
    "        * when the population variance is known,\n",
    "        * when the population variance is unknown but assumed to be equal,and \n",
    "        * when it is unknown and assumed to be different.\n",
    "\n",
    "* Independent samples when the population variance is known Example:\n",
    "    * University grades in the UK expressed in percentages.\n",
    "    * Samples are taken from two departments, engineering and management.\n",
    "    * ![Alt text](img/113.%20Confidence%20intervals.%20Two%20means.%20Independent%20Samples%20(Part%201)2.jpg)\n",
    "    * ![Alt text](img/113.%20Confidence%20intervals.%20Two%20means.%20Independent%20Samples%20(Part%201)3.jpg)\n",
    "    * Problem: We wanna find a 95% confidence interval for the difference between the grades of the students from engineering and management.\n",
    "        * Formula: The variance of the difference between the two means is equal to the variance of the grades received by engineering student, divided by the sample size of engineering students, plus the variance of grades obtained by management students, divided by the sample size of management students. The underlying logic is that dispersion is additive. More variables means higher or equal variability.\n",
    "        \n",
    "        * ![Alt text](img/113.%20Confidence%20intervals.%20Two%20means.%20Independent%20Samples%20(Part%201)4.jpg)\n",
    "        * Conclusion: \n",
    "            * We are 95% confident that the true mean difference between engineering and management grades falls into this interval. \n",
    "            * Know that this time the whole interval is negative. This is because we were calculating engineering grade minus management grade. As the engineers were consistently getting lower grades, the difference is negative. \n",
    "            * Had we calculated the difference as management minus engineering, we would've obtained a confidence interval between 4.72 and 9.28. Completely symmetrical around zero."
   ]
  },
  {
   "cell_type": "markdown",
   "metadata": {},
   "source": [
    "## 114. Confidence intervals. Two means. Independent Samples (Part 1). Exercise"
   ]
  },
  {
   "attachments": {},
   "cell_type": "markdown",
   "metadata": {},
   "source": [
    "https://www.udemy.com/course/the-data-science-course-complete-data-science-bootcamp/learn/lecture/10764512"
   ]
  },
  {
   "cell_type": "markdown",
   "metadata": {},
   "source": [
    "## 115. Confidence intervals. Two means. Independent Samples (Part 2)"
   ]
  },
  {
   "attachments": {},
   "cell_type": "markdown",
   "metadata": {},
   "source": [
    "https://www.udemy.com/course/the-data-science-course-complete-data-science-bootcamp/learn/lecture/10764516"
   ]
  },
  {
   "cell_type": "markdown",
   "metadata": {},
   "source": [
    "* ![Alt text](img/115.%20Confidence%20intervals.%20Two%20means.%20Independent%20Samples%20(Part%202)1.jpg)\n",
    "* Independent samples, variance is unknown but assumed to be equal\n",
    "    * Problem: Estimate the difference of price of apples in NY and LA\n",
    "    * Sample 10 grocery shop NY and 8 grocery shop LA\n",
    "    * You don't know what the population variance of apples in New York or LA is, **but you assume it should be the same for NY and LA or EQUAL.**\n",
    "    * So you calculate the mean price in NY and LA and obtained $3.94 and $3.25 respectively.\n",
    "    * standard deviations are 18 cents and 27 cents.\n",
    "        * we assume that the population variances are equal so we have to estimate them. \n",
    "        * The unbiased estimator in this case is called the pooled sample variance and we could use the following formula to calculate it.\n",
    "    * ![Alt text](img/115.%20Confidence%20intervals.%20Two%20means.%20Independent%20Samples%20(Part%202)2.jpg)\n",
    "    * ![Alt text](img/115.%20Confidence%20intervals.%20Two%20means.%20Independent%20Samples%20(Part%202)3.jpg)\n",
    "    * ![Alt text](img/115.%20Confidence%20intervals.%20Two%20means.%20Independent%20Samples%20(Part%202)4.jpg)\n",
    "        * Conclusion: \n",
    "            * we are 95% confident that the actual difference between the two populations, price of apples in New York and in LA, is somewhere between **0.47 and 0.92**. Therefore, it is clear that **apples in New York are much more expensive than in LA**."
   ]
  },
  {
   "cell_type": "markdown",
   "metadata": {},
   "source": [
    "## 116. Confidence intervals. Two means. Independent Samples (Part 2). Exercise"
   ]
  },
  {
   "attachments": {},
   "cell_type": "markdown",
   "metadata": {},
   "source": [
    "https://www.udemy.com/course/the-data-science-course-complete-data-science-bootcamp/learn/lecture/10764518"
   ]
  },
  {
   "cell_type": "markdown",
   "metadata": {},
   "source": [
    "## 117. Confidence intervals. Two means. Independent Samples (Part 3)"
   ]
  },
  {
   "attachments": {},
   "cell_type": "markdown",
   "metadata": {},
   "source": [
    "https://www.udemy.com/course/the-data-science-course-complete-data-science-bootcamp/learn/lecture/10764522"
   ]
  },
  {
   "cell_type": "markdown",
   "metadata": {},
   "source": [
    "* Confidence interval formula\n",
    "    * ![Alt text](img/117.%20Confidence%20intervals.%20Two%20means.%20Independent%20Samples%20(Part%203)1.jpg)\n",
    "        * we have the differences of the means of the two samples. The variances are the sample variances of each of the two variables and here are the respective sample sizes.\n",
    "* The degrees of freedom\n",
    "    * ![Alt text](img/117.%20Confidence%20intervals.%20Two%20means.%20Independent%20Samples%20(Part%203)2.jpg)"
   ]
  },
  {
   "cell_type": "markdown",
   "metadata": {},
   "source": [
    "# **19. Statistics - Practical Example: Inferential Statistics**"
   ]
  },
  {
   "cell_type": "markdown",
   "metadata": {},
   "source": [
    "## 118. Practical Example: Inferential Statistics"
   ]
  },
  {
   "attachments": {},
   "cell_type": "markdown",
   "metadata": {},
   "source": [
    "https://www.udemy.com/course/the-data-science-course-complete-data-science-bootcamp/learn/lecture/10764530"
   ]
  },
  {
   "cell_type": "markdown",
   "metadata": {},
   "source": [
    "## 119. Practical Example: Inferential Statistics Exercise"
   ]
  },
  {
   "attachments": {},
   "cell_type": "markdown",
   "metadata": {},
   "source": [
    "https://www.udemy.com/course/the-data-science-course-complete-data-science-bootcamp/learn/lecture/10764532"
   ]
  },
  {
   "cell_type": "markdown",
   "metadata": {},
   "source": [
    "# **20. Statistics - Hypothesis Testing**"
   ]
  },
  {
   "cell_type": "markdown",
   "metadata": {},
   "source": [
    "## 120. Null vs Alternative Hypothesis"
   ]
  },
  {
   "attachments": {},
   "cell_type": "markdown",
   "metadata": {},
   "source": [
    "https://www.udemy.com/course/the-data-science-course-complete-data-science-bootcamp/learn/lecture/10764538"
   ]
  },
  {
   "cell_type": "markdown",
   "metadata": {},
   "source": [
    "* ![Alt text](img/120.%20Null%20vs%20Alternative%20Hypothesis1.jpg)\n",
    "* Four steps in data-driven decision making:\n",
    "    *  First, you must formulate a hypothesis. \n",
    "    * Second, once you have formulated a hypothesis, you will have to find the right test for your hypothesis. \n",
    "    * Third, you execute the test. \n",
    "    * And fourth, you make a decision based on the result.\n",
    "* ![Alt text](img/120.%20Null%20vs%20Alternative%20Hypothesis2.jpg)\n",
    "* Hypothesis is an idea that can be tested.\n",
    "    * If there no data to test it, then it cannot be hypothesis\n",
    "* ![Alt text](img/120.%20Null%20vs%20Alternative%20Hypothesis3.jpg)\n",
    "    * The null hypothesis, denoted H zero, and the alternative hypothesis denoted H one or H A.\n",
    "    * The null hypothesis is the one to be tested, and the alternative is everything else.\n",
    "        * ![Alt text](img/120.%20Null%20vs%20Alternative%20Hypothesis4.jpg)\n",
    "            * If result close to the hypothesis then null hypothesis accepted (diterima), otherwise rejected\n",
    "            * The concept of the null hypothesis is similar to innocent until proven guilty.\n",
    "            * this was an example of a two-sided or a two-tailed test.\n",
    "        * It is important to note that outcomes of tests refer to the **population parameter** rather than the sample statistic.\n",
    "        *  ![Alt text](img/120.%20Null%20vs%20Alternative%20Hypothesis5.jpg)\n",
    "            * In statistics, the null hypothesis is the statement we are trying to reject. Therefore, the null hypothesis is the present state of affairs, while the alternative, is our personal opinion.\n",
    "            * this was an example of a one-sided or a one-tailed test.\n"
   ]
  },
  {
   "cell_type": "markdown",
   "metadata": {},
   "source": [
    "## 121. Further Reading on Null and Alternative Hypothesis"
   ]
  },
  {
   "attachments": {},
   "cell_type": "markdown",
   "metadata": {},
   "source": [
    "https://www.udemy.com/course/the-data-science-course-complete-data-science-bootcamp/learn/lecture/10786160"
   ]
  },
  {
   "cell_type": "markdown",
   "metadata": {},
   "source": [
    "* First, we'd like to note that, conventionally, we always include the equality sign in the null hypothesis.\n",
    "\n",
    "    * Student question: \n",
    "    * As per the above logic, in the video tutorial of the salary of the data scientist, the null hypothesis should have been: Data Scientists do not make an average of $113,000. Also in the second example, the null Hypothesis should have been: The average salary should be less than or equal to $125,000. \n",
    "    * Please explain further. Also please share some further documentation/reference material.\n",
    "\n",
    "* Now note that the statement is above is NOT true. This confusion motivated us to clarify further. \n",
    "\n",
    "* Instructor's answer (with some adjustments as 2-3 answers were combined):\n",
    "\n",
    "* 'I see why you would ask this question, as I asked the same one right after I was introduced to hypothesis testing.\n",
    "\n",
    "* In statistics, the null hypothesis is the statement we are trying to reject. Think of it as the 'status-quo'. The alternative, therefore, is the change or innovation. \n",
    "\n",
    "    * Example 1: So, for the data scientist salary example, the null would be:  the mean data scientist salary is $113,000. Then we will try to reject the null with a statistical test. So, usually, your personal opinion (e.g. data scientists don't earn exactly that much) is the alternative hypothesis.\n",
    "\n",
    "    * Example 2: Our friend Paul told us that the mean salary is >=$125,000 (status-quo, null). Our opinion is that he may be wrong, so we are testing that. Therefore, the alternative is: the mean data scientist salary is lower than $125,000.\n",
    "\n",
    "* It surely is counter-intuitive in the beginning, but later on, when you start doing the exercises, you will understand the mechanics. '"
   ]
  },
  {
   "cell_type": "markdown",
   "metadata": {},
   "source": [
    "## Quiz 75: Null vs Alternative Hypothesis"
   ]
  },
  {
   "attachments": {},
   "cell_type": "markdown",
   "metadata": {},
   "source": [
    "https://www.udemy.com/course/the-data-science-course-complete-data-science-bootcamp/learn/quiz/4451018"
   ]
  },
  {
   "cell_type": "markdown",
   "metadata": {},
   "source": [
    "1. You want to check if your height is above average, compared to your classmates. State the null and alternative hypotheses of this test.\n",
    "    * **H0:** My height is lower or equal to the average height in the class.<br>\n",
    "    **H1:** My height is higher than the average height in the class.\n",
    "        * The null is the status quo (you are 'shorter'), while the alternative is the 'change or innovation' (you are looking for this answer). Therefore, the null hypothesis of the test is ‘lower or equal’. You have to include ‘equal’ in the null hypothesis, as conventionally, the equality sign is always included in the null.\n",
    "2. You want to test if the Obama administration issued fewer executive orders than the Bush administration. State the null and alternative hypotheses of this test.\n",
    "    * **H0:** The Obama administration issued at least as many executive orders as the Bush administration.<br>\n",
    "    **H1:** The Obama administration issued fewewr executive orders than the Bush administration.\n",
    "        * We want to test if the Obama administration issued fewer executive orders than the Bush administration. Therefore, the null hypothesis is: ‘The Obama administration issued at least as many executive orders as the Bush administration.’ The alternative hypothesis encompasses everything else; therefore, the alternative is: The Obama administration issued fewer executive orders than the Bush administration. Answer c) the null hypothesis is right, but the alternative was wrong. The answer is d)."
   ]
  },
  {
   "cell_type": "markdown",
   "metadata": {},
   "source": [
    "## 122. Rejection Region and Significance Level"
   ]
  },
  {
   "attachments": {},
   "cell_type": "markdown",
   "metadata": {},
   "source": [
    "https://www.udemy.com/course/the-data-science-course-complete-data-science-bootcamp/learn/lecture/10764544"
   ]
  },
  {
   "cell_type": "markdown",
   "metadata": {},
   "source": [
    "* ![Alt text](img/122.%20Rejection%20Region%20and%20Significance%20Level1.jpg)\n",
    "    * The significance level is denoted by alpha and is the probability of rejecting the null hypothesis if it is true. So the probability of making this error, typical values for alpha are 0.01, 0.05, and 0.1. It is a value that you select based on the certainty you need.\n",
    "    * In most cases, the choice of alpha is determined by the context you are operating in but 0.05 is the most commonly used value.\n",
    "* ![Alt text](img/122.%20Rejection%20Region%20and%20Significance%20Level2.jpg)\n",
    "    * The formula for population of grades is normally distributed is, Z equals the sample mean, minus the hypothesized mean, divided by the standard error.\n",
    "* ![Alt text](img/122.%20Rejection%20Region%20and%20Significance%20Level3.jpg)\n",
    "    * The idea is the following, we are standardizing or scaling the sample mean we got, if the sample mean is close enough to the hypothesized mean, then Z will be close to zero, otherwise it will be far away from it. Naturally, if the sample mean is exactly equal to the hypothesized mean, Z will be zero. In all these cases, we would accept the null hypothesis.\n",
    "* ![Alt text](img/122.%20Rejection%20Region%20and%20Significance%20Level4.jpg)\n",
    "    * Since we are conducting a two sided or a two tail test, there are two cutoff lines, one on each side. When we calculate Z, we will get a value. If this value falls into the middle part then we cannot reject the null. If it falls outside, in the shaded region then we reject the null hypothesis. That is why the shaded part is called rejection region.\n",
    "    * the area that is cut off actually depends on the significance level. The level of significance, alpha, is 0.05. Then we have alpha divided by 2, or 0.025 on the left side and 0.025 on the right side. Now, these are values we can check from the Z table. When alpha is 0.025, Z is 1.96, so 1.96 on the right side and -1.96 on the left side. Therefore, if the value we get for Z from the test is lower than minus 1.96 or higher than 1.96, we will reject the null hypothesis. Otherwise, we will accept it.\n",
    "* ![Alt text](img/122.%20Rejection%20Region%20and%20Significance%20Level5.jpg)\n",
    "    * We scale the sample mean with respect to the hypothesized value. If Z is close to zero, then we cannot reject the null. If it is far away from zero then we reject the null hypothesis."
   ]
  },
  {
   "cell_type": "markdown",
   "metadata": {},
   "source": [
    "* ![Alt text](img/122.%20Rejection%20Region%20and%20Significance%20Level6.jpg)\n",
    "    * Example: Paul says, \"Data scientists earn more than $125,000.\" So, H zero, is mu zero, is bigger or equal to $125,000. The alternative is that mu zero is lower than $125,000. Using the same level of significance, this time, the whole rejection region is on the left, so the rejection region has an area of alpha.Looking at the Z table that corresponds to a Z score of 1.645, and since it is on the left, it is with a minus sign. Now, when calculating our test statistic Z, if we get a value lower than -1.645, we would reject the null hypothesis as we have statistical evidence that the data scientists salary is less than $125,000. Otherwise, we would accept it.\n",
    "* ![Alt text](img/122.%20Rejection%20Region%20and%20Significance%20Level7.jpg)\n",
    "    * Say the university dean told you that the average GPA students get is lower than 70%. In that case, the null hypothesis is mu zero is lower or equal to 70%, while the alternative, mu zero is bigger than 70%. In this situation, the rejection region is on the right side, so if the test statistic is bigger than the cutoff Z score, we would reject the null. Otherwise we wouldn't."
   ]
  },
  {
   "cell_type": "markdown",
   "metadata": {},
   "source": [
    "## Quiz 76: Rejection Region and Significance Level"
   ]
  },
  {
   "attachments": {},
   "cell_type": "markdown",
   "metadata": {},
   "source": [
    "https://www.udemy.com/course/the-data-science-course-complete-data-science-bootcamp/learn/quiz/4451020"
   ]
  },
  {
   "cell_type": "markdown",
   "metadata": {},
   "source": [
    "1. Which value is NOT typical when assigning a significance level?\n",
    "    * 0.5\n",
    "    * 0.5 is a very high level of significance. Testing with it will not give much credibility to your test. There is 50% chance you are wrong.\n",
    "2. If your test value falls into the rejection region:\n",
    "    * You will reject the null hypothesis.\n",
    "    * If the test value falls into the rejection region, you will reject the null hypothesis. ‘You will reject the test’ is a meaningless phrase, as the test is not accepted or rejected; it is executed. The outcome of the test is rejection or acceptance of the null hypothesis. Similarly, rejecting the significance level has no meaning."
   ]
  },
  {
   "cell_type": "markdown",
   "metadata": {},
   "source": [
    "## 123. Type I Error and Type II Error"
   ]
  },
  {
   "attachments": {},
   "cell_type": "markdown",
   "metadata": {},
   "source": [
    "https://www.udemy.com/course/the-data-science-course-complete-data-science-bootcamp/learn/lecture/10764546"
   ]
  },
  {
   "cell_type": "markdown",
   "metadata": {},
   "source": [
    "* In general, we can have two types of errors,\n",
    "    * ![Alt text](img/123.%20Type%20I%20Error%20and%20Type%20II%20Error1.jpg)\n",
    "        * Type one error is when you reject a true null hypothesis. It is also called a false positive. The probability of making this error is alpha, the level of significance. Since you, the researcher, choose the alpha, the responsibility for making this error lies solely on you.\n",
    "    * ![Alt text](img/123.%20Type%20I%20Error%20and%20Type%20II%20Error2.jpg)\n",
    "        * Type two error is when you accept a false null hypothesis. The probability of making this error is denoted by beta. Beta depends mainly on sample size and magnitude of the effect. So if your topic is difficult to test due to hard sampling or the effect you are looking for is almost negligible, it is more likely to make this type of error.\n",
    "* ![Alt text](img/123.%20Type%20I%20Error%20and%20Type%20II%20Error3.jpg)\n",
    "    * We should also mention that the probability of rejecting a false null hypothesis is equal to one minus beta. This is the researcher's goal, to reject a false null hypothesis, therefore, one minus beta is called the power of the test. Most often, researchers increase the power of a test by increasing the sample size. \n",
    "* ![Alt text](img/123.%20Type%20I%20Error%20and%20Type%20II%20Error4.jpg)\n",
    "    * This is a common table statisticians use to summarize the types of errors."
   ]
  },
  {
   "cell_type": "markdown",
   "metadata": {},
   "source": [
    "## Quiz 77: Type I Error and Type II Error"
   ]
  },
  {
   "attachments": {},
   "cell_type": "markdown",
   "metadata": {},
   "source": [
    "https://www.udemy.com/course/the-data-science-course-complete-data-science-bootcamp/learn/quiz/4451022"
   ]
  },
  {
   "cell_type": "markdown",
   "metadata": {},
   "source": [
    "1. Type II error is also known as:\n",
    "    * False Negative\n",
    "2. Type I error or false positive comprises:\n",
    "    * rejecting a null hypothesis that is true\n",
    "3. What is another way to call the probability of rejecting a null hypothesis that is false?\n",
    "    * Power of the test\n",
    "4. You are taking a pregnancy test. The null hypothesis of this test is: I am not pregnant. In reality, you are not pregnant, but the test says you are. Which type of error occurred?\n",
    "    * Type I error\n",
    "        * This is a Type I error. You rejected a null hypothesis that is true. It is also called a false positive, although in this case, it is counter intuitive. While usually no error is made (that’s why hypothesis testing is so wide-spread), it is impossible to make both errors at the same time."
   ]
  },
  {
   "cell_type": "markdown",
   "metadata": {},
   "source": [
    "## 124. Test for the Mean. Population Variance Known"
   ]
  },
  {
   "attachments": {},
   "cell_type": "markdown",
   "metadata": {},
   "source": [
    "https://www.udemy.com/course/the-data-science-course-complete-data-science-bootcamp/learn/lecture/10764550"
   ]
  },
  {
   "cell_type": "markdown",
   "metadata": {},
   "source": [
    "* ![Alt text](img/124.%20Test%20for%20the%20Mean.%20Population%20Variance%20Known1.jpg)\n",
    "    * similar to confidence intervals for a single population, and confidence intervals for two populations\n",
    "    * ![Alt text](img/124.%20Test%20for%20the%20Mean.%20Population%20Variance%20Known2.jpg)\n",
    "        * In the next few videos, we will run tests for a single mean with both known variance and unknown variance."
   ]
  },
  {
   "cell_type": "markdown",
   "metadata": {},
   "source": [
    "* ![Alt text](img/124.%20Test%20for%20the%20Mean.%20Population%20Variance%20Known3.jpg)\n",
    "    * Testing is done by standardizing the variable at hand and comparing it to the z, which follows a standard normal distribution.\n",
    "    * We standardize a variable by subtracting the mean and dividing by the standard deviation. Since it is a sample, we use the standard error. \n",
    "* ![Alt text](img/124.%20Test%20for%20the%20Mean.%20Population%20Variance%20Known4.jpg)\n",
    "    * Thus, the formula for standardization becomes Z is equal to the sample mean minus the value of interest from the null hypothesis divided by the standard error. In this way, we obtain a distribution with a mean of 0 and a standard deviation of 1. \n",
    "    * This Z should not be mistaken with z. The Z is the standardized variable associated with the test and will be called the **Z-score** from now on. \n",
    "    * The z is the one from the table that we've talked about before, and henceforth will be referred to as the critical value.\n",
    "* ![Alt text](img/124.%20Test%20for%20the%20Mean.%20Population%20Variance%20Known5.jpg)\n",
    "    * The z is normally distributed with a mean and standard deviation of 1. The Z is normally distributed with a mean of X bar minus mu zero and a standard deviation of 1.\n",
    "    * Standardization lets us compare the means. The closer the difference of X bar and mu zero to zero, the closer Z-score itself to zero. This implies a higher chance to accept the null hypothesis.\n",
    "* ![Alt text](img/124.%20Test%20for%20the%20Mean.%20Population%20Variance%20Known6.jpg)\n",
    "* ![Alt text](img/124.%20Test%20for%20the%20Mean.%20Population%20Variance%20Known7.jpg)\n",
    "* ![Alt text](img/124.%20Test%20for%20the%20Mean.%20Population%20Variance%20Known8.jpg)"
   ]
  },
  {
   "cell_type": "markdown",
   "metadata": {},
   "source": [
    "## 125. Test for the Mean. Population Variance Known Exercise"
   ]
  },
  {
   "attachments": {},
   "cell_type": "markdown",
   "metadata": {},
   "source": [
    "https://www.udemy.com/course/the-data-science-course-complete-data-science-bootcamp/learn/lecture/10764556"
   ]
  },
  {
   "cell_type": "markdown",
   "metadata": {},
   "source": [
    "## 126. p-value"
   ]
  },
  {
   "attachments": {},
   "cell_type": "markdown",
   "metadata": {},
   "source": [
    "https://www.udemy.com/course/the-data-science-course-complete-data-science-bootcamp/learn/lecture/10764560"
   ]
  },
  {
   "cell_type": "markdown",
   "metadata": {},
   "source": [
    "* ![Alt text](img/126.%20p-value1.jpg)\n",
    "    * P value  is the most common way to test hypotheses. Instead of testing at preassigned levels of significance we can find the smallest level of significance at which we can still reject the null hypothesis given the observed sample statistic.\n",
    "    * ![Alt text](img/126.%20p-value2.jpg)\n",
    "        * We rejected the null hypothesis as significance levels of 0.05 and 0.01 but we wanted to know how much lower we could go.\n",
    "    * ![Alt text](img/126.%20p-value3.jpg)\n",
    "        * We could check the Z table for plus 4.67 which gives us the same result as minus 4.67. In most Z tables, you would not even find this value as it is so large. Thus, we round up to the closest value available and get 0.0001.\n",
    "            * ![Alt text](img/126.%20p-value4.jpg)\n",
    "    * ![Alt text](img/126.%20p-value5.jpg)\n",
    "        * after choosing a significance level of alpha you compare the P value to it.\n",
    "    * ![Alt text](img/126.%20p-value6.jpg)\n",
    "        * ![Alt text](img/126.%20p-value7.jpg)\n",
    "        * ![Alt text](img/126.%20p-value8.jpg)"
   ]
  },
  {
   "cell_type": "markdown",
   "metadata": {},
   "source": [
    "* So where are P values used? \n",
    "    * ![Alt text](img/126.%20p-value9.jpg)\n",
    "    * Most statistical software packages run tests and then provide us with a series of results. One of them is P value. It is then up to the researcher to decide whether the variable is statistically significant or not. Generally, software is designed to calculate the P value to the third digit after the separator. The point is, when you start conducting your own research you would love to be able to see the three zeros after the dot. The closer to zero your P value is the more significant is the result you've obtained.\n",
    "* The final consideration is that the P value is an extremely powerful measure as it works for all distributions. \n",
    "    * ![Alt text](img/126.%20p-value10.jpg)\n",
    "    * No matter if we are dealing with the normal, students T, binomial or uniform distribution, whatever the test the P value rationale holds. **If the P value is lower than the level of significance you reject the null hypothesis**. Having said that, you would normally use the P value in the presence of a digital medium. \n",
    "        * Throughout this course, I recommend that you use online P value calculators to support your studies and double check your answers when doing exercises. \n",
    "        * Please download the PDF that comes with this lesson as it will include detailed instructions for how to use online P value calculators."
   ]
  },
  {
   "cell_type": "markdown",
   "metadata": {},
   "source": [
    "## Quiz 78: p-value"
   ]
  },
  {
   "attachments": {},
   "cell_type": "markdown",
   "metadata": {},
   "source": [
    "https://www.udemy.com/course/the-data-science-course-complete-data-science-bootcamp/learn/quiz/4451024"
   ]
  },
  {
   "cell_type": "markdown",
   "metadata": {},
   "source": [
    "1. You have a z-score of 2.31. What is the p-value of this test?\n",
    "    * not enough information\n",
    "    * Since we haven’t specified if this is a one-tailed or a two-tailed test, there is not enough information to answer this question.\n",
    "2. You have a z-score of 2.31 for a one-tailed test. What is the p-value of this test?\n",
    "    * 0.010\n",
    "    * The p-value for a one-tailed test is 0.010. The p-value for a two-tailed test is twice as big, therefore 0.021 (while 0.020 is good enough – differences occur due to rounding).\n",
    "3. What do we do when the p-value is lower than the level of significance?\n",
    "    * Reject the null hypothesis\n",
    "4. If we have a p-value of 0.001 and a significance level of 1% we reject the null hypothesis.\n",
    "    * True"
   ]
  },
  {
   "cell_type": "markdown",
   "metadata": {},
   "source": [
    "## 127. Test for the Mean. Population Variance Unknown"
   ]
  },
  {
   "attachments": {},
   "cell_type": "markdown",
   "metadata": {},
   "source": [
    "https://www.udemy.com/course/the-data-science-course-complete-data-science-bootcamp/learn/lecture/10764568"
   ]
  },
  {
   "cell_type": "markdown",
   "metadata": {},
   "source": [
    "* ![Alt text](img/127.%20Test%20for%20the%20Mean.%20Population%20Variance%20Unknown%20Exercise1.jpg)\n",
    "    * Example:\n",
    "        * Task: estimate if the email open rate of one of the firm's competitors is above your company's open rate of 40%. \n",
    "            * Null hypothesis mean open rate is lower or equal to 40%.\n",
    "            * Alternative hypothesis mean open rate is higher than 40%.\n",
    "                * ![Alt text](img/127.%20Test%20for%20the%20Mean.%20Population%20Variance%20Unknown%20Exercise2.jpg)\n",
    "                * ![Alt text](img/127.%20Test%20for%20the%20Mean.%20Population%20Variance%20Unknown%20Exercise3.jpg)\n",
    "                * ![Alt text](img/127.%20Test%20for%20the%20Mean.%20Population%20Variance%20Unknown%20Exercise4.jpg)\n",
    "                * ![Alt text](img/127.%20Test%20for%20the%20Mean.%20Population%20Variance%20Unknown%20Exercise5.jpg)\n",
    "                    * If the absolute value of the T score is lower than the statistic from the table, we cannot reject the null hypothesis. Therefore, we must accept it.\n",
    "                * ![Alt text](img/127.%20Test%20for%20the%20Mean.%20Population%20Variance%20Unknown%20Exercise6.jpg)"
   ]
  },
  {
   "cell_type": "markdown",
   "metadata": {},
   "source": [
    "## 128. Test for the Mean. Population Variance Unknown Exercise"
   ]
  },
  {
   "attachments": {},
   "cell_type": "markdown",
   "metadata": {},
   "source": [
    "https://www.udemy.com/course/the-data-science-course-complete-data-science-bootcamp/learn/lecture/10764574"
   ]
  },
  {
   "cell_type": "markdown",
   "metadata": {},
   "source": [
    "## 129. Test for the Mean. Dependent Samples"
   ]
  },
  {
   "attachments": {},
   "cell_type": "markdown",
   "metadata": {},
   "source": [
    "https://www.udemy.com/course/the-data-science-course-complete-data-science-bootcamp/learn/lecture/10764578"
   ]
  },
  {
   "attachments": {},
   "cell_type": "markdown",
   "metadata": {},
   "source": [
    "* ![Alt text](img/129.%20Test%20for%20the%20Mean.%20Dependent%20Samples1.jpg)\n",
    "* ![Alt text](img/129.%20Test%20for%20the%20Mean.%20Dependent%20Samples2.jpg)\n",
    "* ![Alt text](img/129.%20Test%20for%20the%20Mean.%20Dependent%20Samples3.jpg)\n",
    "* ![Alt text](img/129.%20Test%20for%20the%20Mean.%20Dependent%20Samples4.jpg)\n",
    "* ![Alt text](img/129.%20Test%20for%20the%20Mean.%20Dependent%20Samples5.jpg)\n",
    "* ![Alt text](img/129.%20Test%20for%20the%20Mean.%20Dependent%20Samples6.jpg) \n",
    "* ![Alt text](img/129.%20Test%20for%20the%20Mean.%20Dependent%20Samples7.jpg) \n",
    "* ![Alt text](img/129.%20Test%20for%20the%20Mean.%20Dependent%20Samples8.jpg) \n",
    "* ![Alt text](img/129.%20Test%20for%20the%20Mean.%20Dependent%20Samples9.jpg) \n",
    "* ![Alt text](img/129.%20Test%20for%20the%20Mean.%20Dependent%20Samples10.jpg)\n",
    "* "
   ]
  },
  {
   "cell_type": "markdown",
   "metadata": {},
   "source": [
    "## 130. Test for the Mean. Dependent Samples Exercise"
   ]
  },
  {
   "attachments": {},
   "cell_type": "markdown",
   "metadata": {},
   "source": [
    "https://www.udemy.com/course/the-data-science-course-complete-data-science-bootcamp/learn/lecture/10764582"
   ]
  },
  {
   "cell_type": "markdown",
   "metadata": {},
   "source": [
    "## 131. Test for the mean. Independent Samples (Part 1)"
   ]
  },
  {
   "attachments": {},
   "cell_type": "markdown",
   "metadata": {},
   "source": [
    "https://www.udemy.com/course/the-data-science-course-complete-data-science-bootcamp/learn/lecture/10764584"
   ]
  },
  {
   "attachments": {},
   "cell_type": "markdown",
   "metadata": {},
   "source": [
    "* ![Alt text](img/131.%20Test%20for%20the%20mean.%20Independent%20Samples%20(Part%201)1.jpg)\n",
    "* ![Alt text](img/131.%20Test%20for%20the%20mean.%20Independent%20Samples%20(Part%201)2.jpg)\n",
    "* ![Alt text](img/131.%20Test%20for%20the%20mean.%20Independent%20Samples%20(Part%201)3.jpg)\n",
    "* ![Alt text](img/131.%20Test%20for%20the%20mean.%20Independent%20Samples%20(Part%201)4.jpg)\n",
    "* ![Alt text](img/131.%20Test%20for%20the%20mean.%20Independent%20Samples%20(Part%201)5.jpg)\n",
    "* ![Alt text](img/131.%20Test%20for%20the%20mean.%20Independent%20Samples%20(Part%201)6.jpg)\n",
    "* ![Alt text](img/131.%20Test%20for%20the%20mean.%20Independent%20Samples%20(Part%201)7.jpg)"
   ]
  },
  {
   "cell_type": "markdown",
   "metadata": {},
   "source": [
    "## 132. Test for the mean. Independent Samples (Part 1). Exercise"
   ]
  },
  {
   "attachments": {},
   "cell_type": "markdown",
   "metadata": {},
   "source": [
    "https://www.udemy.com/course/the-data-science-course-complete-data-science-bootcamp/learn/lecture/12698175"
   ]
  },
  {
   "cell_type": "markdown",
   "metadata": {},
   "source": [
    "## 133. Test for the mean. Independent Samples (Part 2)"
   ]
  },
  {
   "attachments": {},
   "cell_type": "markdown",
   "metadata": {},
   "source": [
    "https://www.udemy.com/course/the-data-science-course-complete-data-science-bootcamp/learn/lecture/10764592"
   ]
  },
  {
   "attachments": {},
   "cell_type": "markdown",
   "metadata": {},
   "source": [
    "* ![Alt text](img/133.%20Test%20for%20the%20mean.%20Independent%20Samples%20(Part%202)1.jpg)\n",
    "* ![Alt text](img/133.%20Test%20for%20the%20mean.%20Independent%20Samples%20(Part%202)2.jpg)\n",
    "* ![Alt text](img/133.%20Test%20for%20the%20mean.%20Independent%20Samples%20(Part%202)3.jpg)\n",
    "* ![Alt text](img/133.%20Test%20for%20the%20mean.%20Independent%20Samples%20(Part%202)4.jpg)\n",
    "* ![Alt text](img/133.%20Test%20for%20the%20mean.%20Independent%20Samples%20(Part%202)5.jpg)\n",
    "* ![Alt text](img/133.%20Test%20for%20the%20mean.%20Independent%20Samples%20(Part%202)6.jpg)\n",
    "* ![Alt text](img/133.%20Test%20for%20the%20mean.%20Independent%20Samples%20(Part%202)7.jpg)\n",
    "* ![Alt text](img/133.%20Test%20for%20the%20mean.%20Independent%20Samples%20(Part%202)8.jpg)\n",
    "* ![Alt text](img/133.%20Test%20for%20the%20mean.%20Independent%20Samples%20(Part%202)9.jpg)"
   ]
  },
  {
   "cell_type": "markdown",
   "metadata": {},
   "source": [
    "## Quiz 79: Test for the mean. Independent Samples (Part 2)"
   ]
  },
  {
   "attachments": {},
   "cell_type": "markdown",
   "metadata": {},
   "source": [
    "https://www.udemy.com/course/the-data-science-course-complete-data-science-bootcamp/learn/quiz/4545316"
   ]
  },
  {
   "cell_type": "markdown",
   "metadata": {},
   "source": [
    "## 134. Test for the mean. Independent Samples (Part 2). Exercise"
   ]
  },
  {
   "attachments": {},
   "cell_type": "markdown",
   "metadata": {},
   "source": [
    "https://www.udemy.com/course/the-data-science-course-complete-data-science-bootcamp/learn/lecture/10764586"
   ]
  },
  {
   "cell_type": "markdown",
   "metadata": {},
   "source": [
    "# **21. Statistics - Practical Example: Hypothesis Testing**"
   ]
  },
  {
   "cell_type": "markdown",
   "metadata": {},
   "source": [
    "## 135. Practical Example: Hypothesis Testing"
   ]
  },
  {
   "attachments": {},
   "cell_type": "markdown",
   "metadata": {},
   "source": [
    "https://www.udemy.com/course/the-data-science-course-complete-data-science-bootcamp/learn/lecture/10764600"
   ]
  },
  {
   "attachments": {},
   "cell_type": "markdown",
   "metadata": {},
   "source": [
    "* ![Alt text](img/135.%20Practical%20Example%20Hypothesis%20Testing0.jpg)\n",
    "* ![Alt text](img/135.%20Practical%20Example%20Hypothesis%20Testing1.jpg)\n",
    "* ![Alt text](img/135.%20Practical%20Example%20Hypothesis%20Testing2.jpg)\n",
    "* ![Alt text](img/135.%20Practical%20Example%20Hypothesis%20Testing3.jpg)\n",
    "* ![Alt text](img/135.%20Practical%20Example%20Hypothesis%20Testing4.jpg)\n",
    "* ![Alt text](img/135.%20Practical%20Example%20Hypothesis%20Testing5.jpg)\n",
    "* ![Alt text](img/135.%20Practical%20Example%20Hypothesis%20Testing6.jpg)"
   ]
  },
  {
   "cell_type": "markdown",
   "metadata": {},
   "source": [
    "## 136. Practical Example: Hypothesis Testing Exercise"
   ]
  },
  {
   "attachments": {},
   "cell_type": "markdown",
   "metadata": {},
   "source": [
    "https://www.udemy.com/course/the-data-science-course-complete-data-science-bootcamp/learn/lecture/10764602"
   ]
  },
  {
   "attachments": {},
   "cell_type": "markdown",
   "metadata": {},
   "source": [
    "# **Section 22: Part 4: Introduction to Python**"
   ]
  },
  {
   "attachments": {},
   "cell_type": "markdown",
   "metadata": {},
   "source": [
    "## 137. Introduction to Programming"
   ]
  },
  {
   "attachments": {},
   "cell_type": "markdown",
   "metadata": {},
   "source": [
    "https://www.udemy.com/course/the-data-science-course-complete-data-science-bootcamp/learn/lecture/10772510"
   ]
  },
  {
   "attachments": {},
   "cell_type": "markdown",
   "metadata": {},
   "source": [
    "## Quiz 80: Introduction to Programming"
   ]
  },
  {
   "attachments": {},
   "cell_type": "markdown",
   "metadata": {},
   "source": [
    "https://www.udemy.com/course/the-data-science-course-complete-data-science-bootcamp/learn/quiz/4451546#learning-tools"
   ]
  },
  {
   "attachments": {},
   "cell_type": "markdown",
   "metadata": {},
   "source": [
    "## 138. Why Python?"
   ]
  },
  {
   "attachments": {},
   "cell_type": "markdown",
   "metadata": {},
   "source": [
    "https://www.udemy.com/course/the-data-science-course-complete-data-science-bootcamp/learn/lecture/10772524#learning-tools"
   ]
  },
  {
   "attachments": {},
   "cell_type": "markdown",
   "metadata": {},
   "source": [
    "## Quiz 81: Why Python?"
   ]
  },
  {
   "attachments": {},
   "cell_type": "markdown",
   "metadata": {},
   "source": [
    "https://www.udemy.com/course/the-data-science-course-complete-data-science-bootcamp/learn/quiz/4451548#learning-tools"
   ]
  },
  {
   "attachments": {},
   "cell_type": "markdown",
   "metadata": {},
   "source": [
    "## 139. Why Jupyter?"
   ]
  },
  {
   "attachments": {},
   "cell_type": "markdown",
   "metadata": {},
   "source": [
    "https://www.udemy.com/course/the-data-science-course-complete-data-science-bootcamp/learn/lecture/10772526#learning-tools"
   ]
  },
  {
   "attachments": {},
   "cell_type": "markdown",
   "metadata": {},
   "source": [
    "## Quiz 82: Why Jupyter?"
   ]
  },
  {
   "attachments": {},
   "cell_type": "markdown",
   "metadata": {},
   "source": [
    "https://www.udemy.com/course/the-data-science-course-complete-data-science-bootcamp/learn/quiz/4451550#learning-tools"
   ]
  },
  {
   "attachments": {},
   "cell_type": "markdown",
   "metadata": {},
   "source": [
    "## 140. Installing Python and Jupyter"
   ]
  },
  {
   "attachments": {},
   "cell_type": "markdown",
   "metadata": {},
   "source": [
    "https://www.udemy.com/course/the-data-science-course-complete-data-science-bootcamp/learn/lecture/10772552#learning-tools"
   ]
  },
  {
   "attachments": {},
   "cell_type": "markdown",
   "metadata": {},
   "source": [
    "## https://www.udemy.com/course/the-data-science-course-complete-data-science-bootcamp/learn/lecture/10772552#learning-tools"
   ]
  },
  {
   "attachments": {},
   "cell_type": "markdown",
   "metadata": {},
   "source": [
    "https://www.udemy.com/course/the-data-science-course-complete-data-science-bootcamp/learn/lecture/10772582#learning-tools"
   ]
  },
  {
   "attachments": {},
   "cell_type": "markdown",
   "metadata": {},
   "source": [
    "## 142. Prerequisites for Coding in the Jupyter Notebooks"
   ]
  },
  {
   "attachments": {},
   "cell_type": "markdown",
   "metadata": {},
   "source": [
    "https://www.udemy.com/course/the-data-science-course-complete-data-science-bootcamp/learn/lecture/10772590#learning-tools"
   ]
  },
  {
   "attachments": {},
   "cell_type": "markdown",
   "metadata": {},
   "source": [
    "## Quiz 83: Jupyter's Interface"
   ]
  },
  {
   "attachments": {},
   "cell_type": "markdown",
   "metadata": {},
   "source": [
    "https://www.udemy.com/course/the-data-science-course-complete-data-science-bootcamp/learn/quiz/4451560#learning-tools"
   ]
  },
  {
   "attachments": {},
   "cell_type": "markdown",
   "metadata": {},
   "source": [
    "# **Section 23: Python - Variables and Data Types**"
   ]
  },
  {
   "attachments": {},
   "cell_type": "markdown",
   "metadata": {},
   "source": [
    "## 143. Variables"
   ]
  },
  {
   "attachments": {},
   "cell_type": "markdown",
   "metadata": {},
   "source": [
    "https://www.udemy.com/course/the-data-science-course-complete-data-science-bootcamp/learn/lecture/10772630#learning-tools"
   ]
  },
  {
   "attachments": {},
   "cell_type": "markdown",
   "metadata": {},
   "source": [
    "* Variable is to store information / data input\n",
    "* PYTHON is CASE SENSITIVE\n",
    "\n",
    "```\n",
    "x = 5\n",
    "```\n",
    "\n",
    "* 'x' is variable\n",
    "* '5' is value"
   ]
  },
  {
   "attachments": {},
   "cell_type": "markdown",
   "metadata": {},
   "source": [
    "## Quiz 84: Variables"
   ]
  },
  {
   "attachments": {},
   "cell_type": "markdown",
   "metadata": {},
   "source": [
    "https://www.udemy.com/course/the-data-science-course-complete-data-science-bootcamp/learn/quiz/4451562#overview"
   ]
  },
  {
   "attachments": {},
   "cell_type": "markdown",
   "metadata": {},
   "source": [
    "1. The variable 'x' has been created and the value of 20 has been assigned to it. Which of the following code will not produce an output of 20?\n",
    "    * 'X', because python is case sensitive and the correct answer is 'x' with lower case"
   ]
  },
  {
   "attachments": {},
   "cell_type": "markdown",
   "metadata": {},
   "source": [
    "## 144. Numbers and Boolean Values in Python"
   ]
  },
  {
   "attachments": {},
   "cell_type": "markdown",
   "metadata": {},
   "source": [
    "https://www.udemy.com/course/the-data-science-course-complete-data-science-bootcamp/learn/lecture/10772634#overview"
   ]
  },
  {
   "attachments": {},
   "cell_type": "markdown",
   "metadata": {},
   "source": [
    "* Integers\n",
    "    * positive or negative whole numbers; without a decimal point\n",
    "    * 5 is integer\n",
    "```\n",
    "x1 = 5\n",
    "```\n",
    "* type(var)\n",
    "    * type is for verify data type\n",
    "```\n",
    "type(x1)\n",
    "```\n",
    "* Floats\n",
    "    * Real numbers; with decimal point\n",
    "```\n",
    "x2 = 0.5\n",
    "```\n",
    "* int()\n",
    "    * convert the variable into an integer\n",
    "* float()\n",
    "    * * convert the variable into an float\n",
    "* Boolean values:\n",
    "    * A 'True' or 'False' value (case sensitive)\n",
    "```\n",
    "x3 = True\n",
    "```"
   ]
  },
  {
   "cell_type": "code",
   "execution_count": 2,
   "metadata": {},
   "outputs": [
    {
     "data": {
      "text/plain": [
       "int"
      ]
     },
     "execution_count": 2,
     "metadata": {},
     "output_type": "execute_result"
    }
   ],
   "source": [
    "x1 = 5\n",
    "type(x1)"
   ]
  },
  {
   "cell_type": "code",
   "execution_count": 3,
   "metadata": {},
   "outputs": [
    {
     "data": {
      "text/plain": [
       "float"
      ]
     },
     "execution_count": 3,
     "metadata": {},
     "output_type": "execute_result"
    }
   ],
   "source": [
    "x2 = 0.5\n",
    "type(x2)"
   ]
  },
  {
   "cell_type": "code",
   "execution_count": 4,
   "metadata": {},
   "outputs": [
    {
     "data": {
      "text/plain": [
       "1"
      ]
     },
     "execution_count": 4,
     "metadata": {},
     "output_type": "execute_result"
    }
   ],
   "source": [
    "int(1.5)"
   ]
  },
  {
   "cell_type": "code",
   "execution_count": 5,
   "metadata": {},
   "outputs": [
    {
     "data": {
      "text/plain": [
       "5.0"
      ]
     },
     "execution_count": 5,
     "metadata": {},
     "output_type": "execute_result"
    }
   ],
   "source": [
    "float(5)"
   ]
  },
  {
   "cell_type": "code",
   "execution_count": 6,
   "metadata": {},
   "outputs": [
    {
     "data": {
      "text/plain": [
       "True"
      ]
     },
     "execution_count": 6,
     "metadata": {},
     "output_type": "execute_result"
    }
   ],
   "source": [
    "x3 = True\n",
    "x3"
   ]
  },
  {
   "attachments": {},
   "cell_type": "markdown",
   "metadata": {},
   "source": [
    "## Quiz 85: Numbers and Boolean Values in Python"
   ]
  },
  {
   "attachments": {},
   "cell_type": "markdown",
   "metadata": {},
   "source": [
    "https://www.udemy.com/course/the-data-science-course-complete-data-science-bootcamp/learn/quiz/4451564#overview"
   ]
  },
  {
   "attachments": {},
   "cell_type": "markdown",
   "metadata": {},
   "source": [
    "1. Which of the following values is of Boolean type?\n",
    "    * False, True"
   ]
  },
  {
   "attachments": {},
   "cell_type": "markdown",
   "metadata": {},
   "source": [
    "## 145. Python Strings"
   ]
  },
  {
   "attachments": {},
   "cell_type": "markdown",
   "metadata": {},
   "source": [
    "https://www.udemy.com/course/the-data-science-course-complete-data-science-bootcamp/learn/lecture/10772636#overview"
   ]
  },
  {
   "attachments": {},
   "cell_type": "markdown",
   "metadata": {},
   "source": [
    "* Strings\n",
    "    * Text values composed of a sequence of character\n",
    "    * character with ' ' or \" \" or \"\"\" \"\"\"\n",
    "```\n",
    "'Apple'\n",
    "```"
   ]
  },
  {
   "attachments": {},
   "cell_type": "markdown",
   "metadata": {},
   "source": [
    "## Quiz 86: Python Strings"
   ]
  },
  {
   "attachments": {},
   "cell_type": "markdown",
   "metadata": {},
   "source": [
    "https://www.udemy.com/course/the-data-science-course-complete-data-science-bootcamp/learn/quiz/4451566#overview"
   ]
  },
  {
   "attachments": {},
   "cell_type": "markdown",
   "metadata": {},
   "source": [
    "1. Which of the following codes is correct?\n",
    "    * 'Peter'\n",
    "    * print(\"Peter\")\n",
    "    * \"Peter\"\n",
    "2. You have assigned the string \"Joshua\" to the variable x. After you type x and execute, which output will you get?\n",
    "    * 'Joshua'\n",
    "3. Which line of code would lead to the following output in Jupyter?\n",
    "    * ![Alt text](img/Quiz%2086%20Python%20Strings.jpg)\n",
    "    * \"Aren't you hungry?\""
   ]
  },
  {
   "attachments": {},
   "cell_type": "markdown",
   "metadata": {},
   "source": [
    "# Section 24: Python - Basic Python Syntax"
   ]
  },
  {
   "attachments": {},
   "cell_type": "markdown",
   "metadata": {},
   "source": [
    "## 146. Using Arithmetic Operators in Python"
   ]
  },
  {
   "attachments": {},
   "cell_type": "markdown",
   "metadata": {},
   "source": [
    "https://www.udemy.com/course/the-data-science-course-complete-data-science-bootcamp/learn/lecture/10772640#overview"
   ]
  },
  {
   "attachments": {},
   "cell_type": "markdown",
   "metadata": {},
   "source": [
    "* Arithmetic Operators\n",
    "    * Addition (+)\n",
    "    * Subtration (-)\n",
    "    * Division (/)\n",
    "    * Remainder (%)\n",
    "    * Multiplication (*)\n",
    "    * Power (**)\n",
    "    * //\n",
    "\n",
    "* Different Python 2 vs Python 3\n",
    "    * ![Alt text](img/146.%20Using%20Arithmetic%20Operators%20in%20Python1.jpg)\n",
    "    * "
   ]
  },
  {
   "cell_type": "code",
   "execution_count": 7,
   "metadata": {},
   "outputs": [
    {
     "name": "stdout",
     "output_type": "stream",
     "text": [
      "3 -2 5.0 5.333333333333333 1 15 27\n"
     ]
    }
   ],
   "source": [
    "x1 = 1 + 2\n",
    "x2 = 3 - 5\n",
    "x3 = 15/3\n",
    "x4 = 16/3\n",
    "x5 = 16%3\n",
    "x6 = 5*3\n",
    "x7 = 3**3\n",
    "print(x1, x2, x3, x4, x5, x6, x7)"
   ]
  },
  {
   "attachments": {},
   "cell_type": "markdown",
   "metadata": {},
   "source": [
    "## Quiz 87: Using Arithmetic Operators in Python"
   ]
  },
  {
   "attachments": {},
   "cell_type": "markdown",
   "metadata": {},
   "source": [
    "https://www.udemy.com/course/the-data-science-course-complete-data-science-bootcamp/learn/quiz/4451568#overview"
   ]
  },
  {
   "attachments": {},
   "cell_type": "markdown",
   "metadata": {},
   "source": [
    "1. When executed, which of the following will result in an output of 36?\n",
    "    * 6*6"
   ]
  },
  {
   "attachments": {},
   "cell_type": "markdown",
   "metadata": {},
   "source": [
    "## 147. The Double Equality Sign"
   ]
  },
  {
   "attachments": {},
   "cell_type": "markdown",
   "metadata": {},
   "source": [
    "https://www.udemy.com/course/the-data-science-course-complete-data-science-bootcamp/learn/lecture/10772644#overview"
   ]
  },
  {
   "attachments": {},
   "cell_type": "markdown",
   "metadata": {},
   "source": [
    "* '==' mean 'equal'\n",
    "    * The machine will respond with a boolean value. It will either return **true or false**."
   ]
  },
  {
   "cell_type": "code",
   "execution_count": 8,
   "metadata": {},
   "outputs": [
    {
     "data": {
      "text/plain": [
       "True"
      ]
     },
     "execution_count": 8,
     "metadata": {},
     "output_type": "execute_result"
    }
   ],
   "source": [
    "y = 5 ** 3\n",
    "y == 125\n",
    "\n",
    "# is y equal to 125?"
   ]
  },
  {
   "cell_type": "code",
   "execution_count": 9,
   "metadata": {},
   "outputs": [
    {
     "data": {
      "text/plain": [
       "False"
      ]
     },
     "execution_count": 9,
     "metadata": {},
     "output_type": "execute_result"
    }
   ],
   "source": [
    "y = 5 ** 3\n",
    "y == 126\n",
    "\n",
    "# is y equal to 125?"
   ]
  },
  {
   "attachments": {},
   "cell_type": "markdown",
   "metadata": {},
   "source": [
    "## Quiz 88: The Double Equality Sign"
   ]
  },
  {
   "attachments": {},
   "cell_type": "markdown",
   "metadata": {},
   "source": [
    "https://www.udemy.com/course/the-data-science-course-complete-data-science-bootcamp/learn/quiz/4451570#overview"
   ]
  },
  {
   "attachments": {},
   "cell_type": "markdown",
   "metadata": {},
   "source": [
    "1. What will result from the following:   100 == 100?\n",
    "    * True"
   ]
  },
  {
   "attachments": {},
   "cell_type": "markdown",
   "metadata": {},
   "source": [
    "## 148. How to Reassign Values"
   ]
  },
  {
   "attachments": {},
   "cell_type": "markdown",
   "metadata": {},
   "source": [
    "https://www.udemy.com/course/the-data-science-course-complete-data-science-bootcamp/learn/lecture/10772656#overview"
   ]
  },
  {
   "attachments": {},
   "cell_type": "markdown",
   "metadata": {},
   "source": [
    "* Python reassigns values to its objects, therefore, remember the last command is valid and older commands are overwritten."
   ]
  },
  {
   "cell_type": "code",
   "execution_count": 10,
   "metadata": {},
   "outputs": [
    {
     "name": "stdout",
     "output_type": "stream",
     "text": [
      "1\n",
      "3\n",
      "8\n",
      "12\n"
     ]
    }
   ],
   "source": [
    "z = 1\n",
    "print(z)\n",
    "\n",
    "z = 3\n",
    "print(z)\n",
    "\n",
    "x = z + 5\n",
    "print(x)\n",
    "\n",
    "z = 7\n",
    "x = z + 5\n",
    "print(x)"
   ]
  },
  {
   "attachments": {},
   "cell_type": "markdown",
   "metadata": {},
   "source": [
    "## Quiz 89: How to Reassign Values"
   ]
  },
  {
   "attachments": {},
   "cell_type": "markdown",
   "metadata": {},
   "source": [
    "https://www.udemy.com/course/the-data-science-course-complete-data-science-bootcamp/learn/quiz/4451572#overview"
   ]
  },
  {
   "attachments": {},
   "cell_type": "markdown",
   "metadata": {},
   "source": [
    "1. Initially, you have bound the value of 20 to the variable x. Later, in your code, you have bound the value of 13 to the same variable x. Then you execute x + 16. What number will you get?\n",
    "    * 29"
   ]
  },
  {
   "attachments": {},
   "cell_type": "markdown",
   "metadata": {},
   "source": [
    "## 149. Add Comments"
   ]
  },
  {
   "attachments": {},
   "cell_type": "markdown",
   "metadata": {},
   "source": [
    "https://www.udemy.com/course/the-data-science-course-complete-data-science-bootcamp/learn/lecture/10772658#overview"
   ]
  },
  {
   "attachments": {},
   "cell_type": "markdown",
   "metadata": {},
   "source": [
    "* How to leave a comment:\n",
    "    * Put hash sign (#) at the beginning of each line you would like to insert as a comment.\n",
    "    * Comments are sentences not executed by the computer."
   ]
  },
  {
   "cell_type": "code",
   "execution_count": 11,
   "metadata": {},
   "outputs": [
    {
     "data": {
      "text/plain": [
       "5"
      ]
     },
     "execution_count": 11,
     "metadata": {},
     "output_type": "execute_result"
    }
   ],
   "source": [
    "# 'x' is a variable\n",
    "# This is just a comment and not code!\n",
    "\n",
    "x = 5\n",
    "x"
   ]
  },
  {
   "attachments": {},
   "cell_type": "markdown",
   "metadata": {},
   "source": [
    "## Quiz 90: Add Comments"
   ]
  },
  {
   "attachments": {},
   "cell_type": "markdown",
   "metadata": {},
   "source": [
    "https://www.udemy.com/course/the-data-science-course-complete-data-science-bootcamp/learn/quiz/4451574#overview"
   ]
  },
  {
   "attachments": {},
   "cell_type": "markdown",
   "metadata": {},
   "source": [
    "1. Which is the symbol that allows you to leave a comment in a code cell?\n",
    "    * #"
   ]
  },
  {
   "attachments": {},
   "cell_type": "markdown",
   "metadata": {},
   "source": [
    "## 150. Understanding Line Continuation"
   ]
  },
  {
   "attachments": {},
   "cell_type": "markdown",
   "metadata": {},
   "source": [
    "https://www.udemy.com/course/the-data-science-course-complete-data-science-bootcamp/learn/lecture/10772662#overview"
   ]
  },
  {
   "attachments": {},
   "cell_type": "markdown",
   "metadata": {},
   "source": [
    "* 2.0 * 1.5 + 5 could be written in two lines and the machine could still read it as one command. This could be achieved by putting a back slash where you would like the end of the first line to be. It indicates you will continue the same command on a new line."
   ]
  },
  {
   "cell_type": "code",
   "execution_count": 12,
   "metadata": {},
   "outputs": [
    {
     "data": {
      "text/plain": [
       "8.0"
      ]
     },
     "execution_count": 12,
     "metadata": {},
     "output_type": "execute_result"
    }
   ],
   "source": [
    "2.0 * 1.5 + 5"
   ]
  },
  {
   "cell_type": "code",
   "execution_count": 13,
   "metadata": {},
   "outputs": [
    {
     "data": {
      "text/plain": [
       "8.0"
      ]
     },
     "execution_count": 13,
     "metadata": {},
     "output_type": "execute_result"
    }
   ],
   "source": [
    "# back slash for indicating first line to be and can be continue at the next line\n",
    "2.0 * 1.5 + \\\n",
    "5"
   ]
  },
  {
   "attachments": {},
   "cell_type": "markdown",
   "metadata": {},
   "source": [
    "## 151. Indexing Elements"
   ]
  },
  {
   "attachments": {},
   "cell_type": "markdown",
   "metadata": {},
   "source": [
    "https://www.udemy.com/course/the-data-science-course-complete-data-science-bootcamp/learn/lecture/10772664#overview"
   ]
  },
  {
   "attachments": {},
   "cell_type": "markdown",
   "metadata": {},
   "source": [
    "* Python count from zero, not from one.\n"
   ]
  },
  {
   "cell_type": "code",
   "execution_count": 14,
   "metadata": {},
   "outputs": [
    {
     "data": {
      "text/plain": [
       "'d'"
      ]
     },
     "execution_count": 14,
     "metadata": {},
     "output_type": "execute_result"
    }
   ],
   "source": [
    "'Friday'[3]"
   ]
  },
  {
   "cell_type": "code",
   "execution_count": 15,
   "metadata": {},
   "outputs": [
    {
     "data": {
      "text/plain": [
       "'a'"
      ]
     },
     "execution_count": 15,
     "metadata": {},
     "output_type": "execute_result"
    }
   ],
   "source": [
    "'Friday'[4]"
   ]
  },
  {
   "attachments": {},
   "cell_type": "markdown",
   "metadata": {},
   "source": [
    "## Quiz 91: Indexing Elements"
   ]
  },
  {
   "attachments": {},
   "cell_type": "markdown",
   "metadata": {},
   "source": [
    "https://www.udemy.com/course/the-data-science-course-complete-data-science-bootcamp/learn/quiz/4451576#overview"
   ]
  },
  {
   "attachments": {},
   "cell_type": "markdown",
   "metadata": {},
   "source": [
    "1. What will be the output of the following command: print('Holidays!'[6])?\n",
    "    * y"
   ]
  },
  {
   "attachments": {},
   "cell_type": "markdown",
   "metadata": {},
   "source": [
    "## 152. Structuring with Indentation"
   ]
  },
  {
   "attachments": {},
   "cell_type": "markdown",
   "metadata": {},
   "source": [
    "https://www.udemy.com/course/the-data-science-course-complete-data-science-bootcamp/learn/lecture/10772680#overview"
   ]
  },
  {
   "attachments": {},
   "cell_type": "markdown",
   "metadata": {},
   "source": [
    "* Let's define a function, five. That takes as an argument, an unknown X. It will be a simple one. \n",
    "    * X will be reassigned the value of five, and \n",
    "    * the function will return the value of five for us.\n",
    "* ![Alt text](img/152.%20Structuring%20with%20Indentation1.jpg)"
   ]
  },
  {
   "cell_type": "code",
   "execution_count": 16,
   "metadata": {},
   "outputs": [
    {
     "name": "stdout",
     "output_type": "stream",
     "text": [
      "5\n"
     ]
    }
   ],
   "source": [
    "def five(X):\n",
    "    x = 5\n",
    "    return x\n",
    "print(five(3))"
   ]
  },
  {
   "attachments": {},
   "cell_type": "markdown",
   "metadata": {},
   "source": [
    "## Quiz 92: Structuring with Indentation"
   ]
  },
  {
   "attachments": {},
   "cell_type": "markdown",
   "metadata": {},
   "source": [
    "https://www.udemy.com/course/the-data-science-course-complete-data-science-bootcamp/learn/quiz/4451580#overview"
   ]
  },
  {
   "attachments": {},
   "cell_type": "markdown",
   "metadata": {},
   "source": [
    "1. Which keyboard button allows you to indent in Jupyter?\n",
    "    * Tab"
   ]
  },
  {
   "attachments": {},
   "cell_type": "markdown",
   "metadata": {},
   "source": [
    "## 153. Comparison Operators"
   ]
  },
  {
   "attachments": {},
   "cell_type": "markdown",
   "metadata": {},
   "source": [
    "https://www.udemy.com/course/the-data-science-course-complete-data-science-bootcamp/learn/lecture/10772684#content"
   ]
  },
  {
   "attachments": {},
   "cell_type": "markdown",
   "metadata": {},
   "source": [
    "* '!=' is 'Not equal to'\n",
    "* '>' is 'Greater than'\n",
    "* '<' is 'Less than'\n",
    "* '>=' is 'Greater than or equal to'\n",
    "* '<=' is 'Less than or equal to'"
   ]
  },
  {
   "cell_type": "code",
   "execution_count": 17,
   "metadata": {},
   "outputs": [
    {
     "name": "stdout",
     "output_type": "stream",
     "text": [
      "is 10 equal to 20 devide by 2 ? True\n",
      "is 10 not equal to 10 ? False\n",
      "is 10 not equal to 15 ? True\n",
      "is 100 Greater than 50 ? True\n",
      "is 20 Less than or equal to 15 ? False\n"
     ]
    }
   ],
   "source": [
    "x = 10 == 20/2\n",
    "print('is 10 equal to 20 devide by 2 ?', x)\n",
    "\n",
    "x1 = 10 != 10\n",
    "print('is 10 not equal to 10 ?', x1)\n",
    "\n",
    "x2 = 10 != 15\n",
    "print('is 10 not equal to 15 ?', x2)\n",
    "\n",
    "x3 = 100 > 50\n",
    "print('is 100 Greater than 50 ?', x3)\n",
    "\n",
    "x4 = 20 <= 15\n",
    "print('is 20 Less than or equal to 15 ?', x4)"
   ]
  },
  {
   "attachments": {},
   "cell_type": "markdown",
   "metadata": {},
   "source": [
    "## Quiz 93: Comparison Operators"
   ]
  },
  {
   "attachments": {},
   "cell_type": "markdown",
   "metadata": {},
   "source": [
    "https://www.udemy.com/course/the-data-science-course-complete-data-science-bootcamp/learn/quiz/4451582#overview"
   ]
  },
  {
   "attachments": {},
   "cell_type": "markdown",
   "metadata": {},
   "source": [
    "1. Which of the following operators stands for \"not equal to\" in Python?\n",
    "    * !=\n",
    "2. How should one write \"5 is greater than or equal to 3\"?\n",
    "    * 5 >= 3"
   ]
  },
  {
   "attachments": {},
   "cell_type": "markdown",
   "metadata": {},
   "source": [
    "## 154. Logical and Identity Operators"
   ]
  },
  {
   "attachments": {},
   "cell_type": "markdown",
   "metadata": {},
   "source": [
    "https://www.udemy.com/course/the-data-science-course-complete-data-science-bootcamp/learn/lecture/10772688#overview"
   ]
  },
  {
   "attachments": {},
   "cell_type": "markdown",
   "metadata": {},
   "source": [
    "![Logic Gates](https://miro.medium.com/max/720/1*4JomFrSIYLoTs_8x4ZqGNA.jpeg)"
   ]
  },
  {
   "attachments": {},
   "cell_type": "markdown",
   "metadata": {},
   "source": [
    "### Logical Operators"
   ]
  },
  {
   "attachments": {},
   "cell_type": "markdown",
   "metadata": {},
   "source": [
    "* Logical Operators = Boolean Operators:\n",
    "    * NOT\n",
    "        * Not leads to the opposite of the given statement.\n",
    "        * Not true leads to false. \n",
    "        * Not false leads to true.\n",
    "    * AND\n",
    "        * And checks whether the two statements around it are true.\n",
    "    * OR\n",
    "        * Or checks whether at least one of the two statements is true.\n",
    "* They compare a certain amount of statements and return Boolean values true or false, hence their second name, Boolean operators. Let's start by providing an example with and.\n",
    "* The Boolean operators can be applied not only to Boolean values."
   ]
  },
  {
   "cell_type": "code",
   "execution_count": 18,
   "metadata": {},
   "outputs": [
    {
     "name": "stdout",
     "output_type": "stream",
     "text": [
      "True False False\n",
      "True True False\n",
      "False True\n"
     ]
    }
   ],
   "source": [
    "and1 = True and True\n",
    "and2 = True and False\n",
    "and3 = False and False\n",
    "print(and1, and2, and3)\n",
    "or1 = True or True\n",
    "or2 = True or False\n",
    "or3 = False or False\n",
    "print(or1, or2, or3)\n",
    "not1 = not True\n",
    "not2 = not False\n",
    "print(not1, not2)"
   ]
  },
  {
   "cell_type": "code",
   "execution_count": 19,
   "metadata": {},
   "outputs": [
    {
     "data": {
      "text/plain": [
       "False"
      ]
     },
     "execution_count": 19,
     "metadata": {},
     "output_type": "execute_result"
    }
   ],
   "source": [
    "3 > 5 and 10 <= 20"
   ]
  },
  {
   "cell_type": "code",
   "execution_count": 20,
   "metadata": {},
   "outputs": [
    {
     "name": "stdout",
     "output_type": "stream",
     "text": [
      "False False True\n"
     ]
    }
   ],
   "source": [
    "a = True and not True\n",
    "b = False or not True and True\n",
    "c = True and not True or True\n",
    "print(a, b, c)\n",
    "\n",
    "# In these occasions, you must respect the order of importance of these three operators. \n",
    "# It is 'not' comes first, then we have 'and', and finally 'or'."
   ]
  },
  {
   "attachments": {},
   "cell_type": "markdown",
   "metadata": {},
   "source": [
    "![Alt text](img/154.%20Logical%20and%20Identity%20Operators1.jpg)"
   ]
  },
  {
   "attachments": {},
   "cell_type": "markdown",
   "metadata": {},
   "source": [
    "### Identity Operators"
   ]
  },
  {
   "attachments": {},
   "cell_type": "markdown",
   "metadata": {},
   "source": [
    "* The identity operators are the words is and is not.\n",
    "    * is\n",
    "    * is not\n",
    "* They function similar to the double equality sign and the exclamation mark and equality sign"
   ]
  },
  {
   "cell_type": "code",
   "execution_count": 21,
   "metadata": {},
   "outputs": [
    {
     "name": "stdout",
     "output_type": "stream",
     "text": [
      "False False True True\n"
     ]
    },
    {
     "name": "stderr",
     "output_type": "stream",
     "text": [
      "<>:1: SyntaxWarning: \"is\" with a literal. Did you mean \"==\"?\n",
      "<>:3: SyntaxWarning: \"is not\" with a literal. Did you mean \"!=\"?\n",
      "<>:1: SyntaxWarning: \"is\" with a literal. Did you mean \"==\"?\n",
      "<>:3: SyntaxWarning: \"is not\" with a literal. Did you mean \"!=\"?\n",
      "C:\\Users\\cilit\\AppData\\Local\\Temp\\ipykernel_18520\\2347623204.py:1: SyntaxWarning: \"is\" with a literal. Did you mean \"==\"?\n",
      "  a = 5 is 6\n",
      "C:\\Users\\cilit\\AppData\\Local\\Temp\\ipykernel_18520\\2347623204.py:3: SyntaxWarning: \"is not\" with a literal. Did you mean \"!=\"?\n",
      "  c = 5 is not 6\n"
     ]
    }
   ],
   "source": [
    "a = 5 is 6\n",
    "b = 5 == 6\n",
    "c = 5 is not 6\n",
    "d = 5 != 6\n",
    "print(a, b, c, d)"
   ]
  },
  {
   "attachments": {},
   "cell_type": "markdown",
   "metadata": {},
   "source": [
    "## Quiz 94: Logical and Identity Operators"
   ]
  },
  {
   "attachments": {},
   "cell_type": "markdown",
   "metadata": {},
   "source": [
    "https://www.udemy.com/course/the-data-science-course-complete-data-science-bootcamp/learn/quiz/4451584#overview"
   ]
  },
  {
   "attachments": {},
   "cell_type": "markdown",
   "metadata": {},
   "source": [
    "1. Which is the correct order of precedence of the logical operators in Python (from highest to lowest)?\n",
    "    * not - and - or\n",
    "2. What would be the output of the following command: True or False or False and True?\n",
    "    * True"
   ]
  },
  {
   "attachments": {},
   "cell_type": "markdown",
   "metadata": {},
   "source": [
    "# Section 26: Python - Conditional Statements"
   ]
  },
  {
   "attachments": {},
   "cell_type": "markdown",
   "metadata": {},
   "source": [
    "## 155. The IF Statement"
   ]
  },
  {
   "attachments": {},
   "cell_type": "markdown",
   "metadata": {},
   "source": [
    "https://www.udemy.com/course/the-data-science-course-complete-data-science-bootcamp/learn/lecture/10772698#content"
   ]
  },
  {
   "attachments": {},
   "cell_type": "markdown",
   "metadata": {},
   "source": [
    "* IF statement is conditional statements in Python\n",
    "    * What you can use it for is intuitive, but it is very important to learn the syntax.\n",
    "    ```\n",
    "    if condition:\n",
    "        conditional code\n",
    "    ```\n",
    "* Example:\n",
    "    * If five equals 15 divided by three, then print \"Hooray!\"\n",
    "* Steps:\n",
    "    * First, don't forget we should use the double-equality sign here because we are checking whether five is equal to 15 divided by three, and we are not assigning the value of 15 divided by three to be five. Five is not a variable name. It is a number.\n",
    "    * Now, it is crucial to place a colon. The colon will tell the computer what to do if the condition we just wrote has been satisfied. For achieving good legibility, we advise you to write the print statement on a new line. Please remember, it should be indented. Otherwise, you will run into an error.\n",
    "            "
   ]
  },
  {
   "cell_type": "code",
   "execution_count": 22,
   "metadata": {},
   "outputs": [
    {
     "name": "stdout",
     "output_type": "stream",
     "text": [
      "Hooray!\n"
     ]
    }
   ],
   "source": [
    "if 5 == 15/3:\n",
    "    print('Hooray!')"
   ]
  },
  {
   "attachments": {},
   "cell_type": "markdown",
   "metadata": {},
   "source": [
    "* Will it work if we check for five being equal to 18 divided by three? It is not supposed to, since five differs from six. We got nothing, because we have not told the machine what to do if the provided condition is not satisfied. So there is no reason for the machine to print out \"Hooray!\""
   ]
  },
  {
   "cell_type": "code",
   "execution_count": 23,
   "metadata": {},
   "outputs": [],
   "source": [
    "if 5 == 18/3:\n",
    "    print('Hooray!')"
   ]
  },
  {
   "attachments": {},
   "cell_type": "markdown",
   "metadata": {},
   "source": [
    "* The graph could help you imagine the process of the conditionals.\n",
    "    * ![Alt text](img/155.%20The%20IF%20Statement1.jpg)\n",
    "* Before it displays the outcome of the operation, the machine follows these logical steps. If the conditional code is not to be executed because of the if condition is not true, our program will directly lead us to some other output, or, as it is in this case, to nothing. After any of the two situations, the machine will go to the next black point and will progress from there on."
   ]
  },
  {
   "cell_type": "code",
   "execution_count": 24,
   "metadata": {},
   "outputs": [
    {
     "name": "stdout",
     "output_type": "stream",
     "text": [
      "Hooray\n"
     ]
    }
   ],
   "source": [
    "# Let's try with an inequality sign, which can be written with an exclamation mark and an equal sign.\n",
    "if 5 != 3 * 6 :\n",
    "    print('Hooray')"
   ]
  },
  {
   "attachments": {},
   "cell_type": "markdown",
   "metadata": {},
   "source": [
    "## Quiz 95: The IF Statement"
   ]
  },
  {
   "attachments": {},
   "cell_type": "markdown",
   "metadata": {},
   "source": [
    "https://www.udemy.com/course/the-data-science-course-complete-data-science-bootcamp/learn/quiz/4451586#overview"
   ]
  },
  {
   "attachments": {},
   "cell_type": "markdown",
   "metadata": {},
   "source": [
    "1. An If statement contains the keyword \"If\" and a conditional statement. What comes after these two components?\n",
    "    * colon (:)"
   ]
  },
  {
   "attachments": {},
   "cell_type": "markdown",
   "metadata": {},
   "source": [
    "## 156. The ELSE Statement"
   ]
  },
  {
   "attachments": {},
   "cell_type": "markdown",
   "metadata": {},
   "source": [
    "* 'Else' will tell the computer to execute the successive command in all other cases.\n",
    "* ![Alt text](img/156.%20The%20ELSE%20Statement1.jpg)\n",
    "* Note:\n",
    "    * Don't fall into the trap of organizing your code on a whim. There is a strict manner to do that, and indentation plays a key role again. Should you put the else keyword just underneath the first print word, nothing will happen. Remember to place the if and the else keywords on the same vertical line."
   ]
  },
  {
   "cell_type": "code",
   "execution_count": 25,
   "metadata": {},
   "outputs": [
    {
     "name": "stdout",
     "output_type": "stream",
     "text": [
      "Case 2\n"
     ]
    }
   ],
   "source": [
    "#longer version\n",
    "x = 1\n",
    "if x > 3 :\n",
    "    print('Case 1')\n",
    "if x <= 3 :\n",
    "    print('Case 2')"
   ]
  },
  {
   "cell_type": "code",
   "execution_count": 26,
   "metadata": {},
   "outputs": [
    {
     "name": "stdout",
     "output_type": "stream",
     "text": [
      "Case 2\n"
     ]
    }
   ],
   "source": [
    "#shorter version\n",
    "x = 1\n",
    "if x > 3 :\n",
    "    print('Case 1')\n",
    "else:\n",
    "    print('Case 2')"
   ]
  },
  {
   "attachments": {},
   "cell_type": "markdown",
   "metadata": {},
   "source": [
    "* ![Alt text](img/156.%20The%20ELSE%20Statement2.jpg)"
   ]
  },
  {
   "attachments": {},
   "cell_type": "markdown",
   "metadata": {},
   "source": [
    "## 157. The ELIF Statement"
   ]
  },
  {
   "attachments": {},
   "cell_type": "markdown",
   "metadata": {},
   "source": [
    "https://www.udemy.com/course/the-data-science-course-complete-data-science-bootcamp/learn/lecture/10764550"
   ]
  },
  {
   "attachments": {},
   "cell_type": "markdown",
   "metadata": {},
   "source": [
    "* Adding a second if statement to one of our expressions. This is done with the help of the **elif** keyword\n",
    "* If y is not greater than five, the computer will think else if y is less than five, written elif y < 5. Then I will print out Less. And the else statement follows as a till with the respective block that says return Equal."
   ]
  },
  {
   "cell_type": "code",
   "execution_count": 27,
   "metadata": {},
   "outputs": [],
   "source": [
    "def compare_to_five(y):\n",
    "    if y > 5:\n",
    "        return 'Greater'\n",
    "    elif y < 0:\n",
    "        return 'Negative'\n",
    "    elif y < 5:\n",
    "        return 'Less'\n",
    "    else:\n",
    "        return 'Equal'"
   ]
  },
  {
   "attachments": {},
   "cell_type": "markdown",
   "metadata": {},
   "source": [
    "* Let's confirm we wrote the code correctly. We can print out the compare_to_five function with a value of y equal to 10 in the following way."
   ]
  },
  {
   "cell_type": "code",
   "execution_count": 28,
   "metadata": {},
   "outputs": [
    {
     "name": "stdout",
     "output_type": "stream",
     "text": [
      "Greater\n",
      "Less\n",
      "Equal\n",
      "Negative\n"
     ]
    }
   ],
   "source": [
    "print(compare_to_five(10))\n",
    "print(compare_to_five(2))\n",
    "print(compare_to_five(5))\n",
    "print(compare_to_five(-3))"
   ]
  },
  {
   "attachments": {},
   "cell_type": "markdown",
   "metadata": {},
   "source": [
    "* ![Alt text](img/157.%20The%20ELIF%20Statement1.jpg)"
   ]
  },
  {
   "attachments": {},
   "cell_type": "markdown",
   "metadata": {},
   "source": [
    "## 158. A Note on Boolean Values"
   ]
  },
  {
   "attachments": {},
   "cell_type": "markdown",
   "metadata": {},
   "source": [
    "https://www.udemy.com/course/the-data-science-course-complete-data-science-bootcamp/learn/lecture/10764550"
   ]
  },
  {
   "cell_type": "code",
   "execution_count": 29,
   "metadata": {},
   "outputs": [
    {
     "name": "stdout",
     "output_type": "stream",
     "text": [
      "Incorrect\n"
     ]
    }
   ],
   "source": [
    "x = 2\n",
    "if x > 4:\n",
    "    print('Correct')\n",
    "else:\n",
    "    print('Incorrect')"
   ]
  },
  {
   "attachments": {},
   "cell_type": "markdown",
   "metadata": {},
   "source": [
    "* ![Alt text](img/158.%20A%20Note%20on%20Boolean%20Values1.jpg)\n",
    "    * What you see next is the following if-else construction, if the value of the x variable is greater than four, print out \"Correct\". In all other cases, print \"Incorrect\". So, which is the Boolean element we have in this computational logic? Basically, after you insert your if statement, the computer will attach a Boolean value to it. Depending on the value of its outcome, true or false, it will produce one of the suggested outputs, \"Correct\" or \"Incorrect\". If the first statement is true, that is, if x is greater than four, the machine will print the corresponding statement, \"Correct\", else, which means if the statement x greater than four is untrue, or more precisely, false, the statement \"Incorrect\" will be printed. From a certain perspective, everything in a computer system is Boolean, comprising sequences of zeros and ones, false and true.This is why we are paying attention to the Boolean value. It helps us understand general computational logic and the way conditionals work in Python.\n",
    "* ![Alt text](img/158.%20A%20Note%20on%20Boolean%20Values2.jpg)"
   ]
  },
  {
   "attachments": {},
   "cell_type": "markdown",
   "metadata": {},
   "source": [
    "## Quiz 96: A Note on Boolean Values"
   ]
  },
  {
   "attachments": {},
   "cell_type": "markdown",
   "metadata": {},
   "source": [
    "https://www.udemy.com/course/the-data-science-course-complete-data-science-bootcamp/learn/quiz/4451590#overview"
   ]
  },
  {
   "attachments": {},
   "cell_type": "markdown",
   "metadata": {},
   "source": [
    "1. Mark the pair of values that doesn't match Boolean logic.\n",
    "    * Big and Small"
   ]
  },
  {
   "attachments": {},
   "cell_type": "markdown",
   "metadata": {},
   "source": [
    "# Section 27: Python - Python Functions"
   ]
  },
  {
   "attachments": {},
   "cell_type": "markdown",
   "metadata": {},
   "source": [
    "## 159. Defining a Function in Python"
   ]
  },
  {
   "attachments": {},
   "cell_type": "markdown",
   "metadata": {},
   "source": [
    "https://www.udemy.com/course/the-data-science-course-complete-data-science-bootcamp/learn/lecture/10772718#overview"
   ]
  },
  {
   "attachments": {},
   "cell_type": "markdown",
   "metadata": {},
   "source": [
    "* Creating Function\n",
    "    * To tell the computer you are about to create a function, just write **def** at the beginning of the line.\n",
    "    * Def is neither a command nor a function. It is a keyword.\n",
    "        * ![Alt text](img/159.%20Defining%20a%20Function%20in%20Python1.jpg)"
   ]
  },
  {
   "cell_type": "code",
   "execution_count": 30,
   "metadata": {},
   "outputs": [],
   "source": [
    "def simple():\n",
    "    print('My first function')"
   ]
  },
  {
   "cell_type": "code",
   "execution_count": 31,
   "metadata": {},
   "outputs": [
    {
     "name": "stdout",
     "output_type": "stream",
     "text": [
      "My first function\n"
     ]
    }
   ],
   "source": [
    "simple()"
   ]
  },
  {
   "attachments": {},
   "cell_type": "markdown",
   "metadata": {},
   "source": [
    "## 160. How to Create a Function with a Parameter"
   ]
  },
  {
   "attachments": {},
   "cell_type": "markdown",
   "metadata": {},
   "source": [
    "https://www.udemy.com/course/the-data-science-course-complete-data-science-bootcamp/learn/lecture/10772726#overview"
   ]
  },
  {
   "attachments": {},
   "cell_type": "markdown",
   "metadata": {},
   "source": [
    "* Creating Function with Parameters\n",
    "    * ![Alt text](img/160.%20How%20to%20Create%20a%20Function%20with%20a%20Parameter1.jpg)\n",
    "        * Return is returns a value from the function"
   ]
  },
  {
   "cell_type": "code",
   "execution_count": 32,
   "metadata": {},
   "outputs": [],
   "source": [
    "def plus_ten(a):\n",
    "    return a + 10"
   ]
  },
  {
   "cell_type": "code",
   "execution_count": 33,
   "metadata": {},
   "outputs": [
    {
     "data": {
      "text/plain": [
       "12"
      ]
     },
     "execution_count": 33,
     "metadata": {},
     "output_type": "execute_result"
    }
   ],
   "source": [
    "plus_ten(2)"
   ]
  },
  {
   "attachments": {},
   "cell_type": "markdown",
   "metadata": {},
   "source": [
    "* Pay attention to the following. \n",
    "    * When we define a function, we specify in parentheses a parameter. In the plus 10 function, A is a parameter. Later, when we call this function, it is correct to say we provide an argument not a parameter, so we can say call plus 10 with an argument of two, call plus 10 with an argument of five. People often confuse print and return and the type of situations when we can apply them.\n",
    "* To understand the concept better, try to imagine the following.\n",
    "    * There is an argument X, which serves as an input in a function like the one we have here. The function in this case is x plus 10. Given that X is an input, we can think of it as a value we already know, so the combination of X and the function will give us the output value Y.Well, in programming return regards the value of Y, it just says to the machine after the operations executed by the function F, return me to the value of y. Return plays a connection between the second and the third step of the process. In other words a function can take an input of one or more variables and return single output composed of one or more values. This is why return can be used only once in a function. Therefore, we can say the concept of a function applies to programming almost perfectly.\n",
    "        * ![Alt text](img/160.%20How%20to%20Create%20a%20Function%20with%20a%20Parameter2.jpg)\n",
    "    * There are some extra advantages to consider. You could also assign a more intuitive name to a function plus 10 or addition of 10 and the function will still run correctly. This is a sign of good design, on a sheet with 1000 lines of code, if you call all your functions X one, X two, x three and so on, your colleagues will be confused and utterly unhappy. Naming functions clearly and concisely makes your programming code easy to understand and it will be accepted as one of good style."
   ]
  },
  {
   "attachments": {},
   "cell_type": "markdown",
   "metadata": {},
   "source": [
    "## 161. Defining a Function in Python - Part II"
   ]
  },
  {
   "attachments": {},
   "cell_type": "markdown",
   "metadata": {},
   "source": [
    "https://www.udemy.com/course/the-data-science-course-complete-data-science-bootcamp/learn/lecture/10772736#overview"
   ]
  },
  {
   "attachments": {},
   "cell_type": "markdown",
   "metadata": {},
   "source": [
    "* There is another way in which you could organize the definition of your function above (simple and plus_ten).\n",
    "* Print takes a statement, or better, an object, and provides it printed representation in the output cell. It just makes a certain statement visible to the programmer. A good reason to do that would be when you have a huge amount of code and you want to see the intermediary steps of your program printed out, so you can follow the control flow. \n",
    "    * Otherwise, print does not affect the calculation of the output.3\n",
    "    * Differently, return does not visualize the output. It specifies what a certain function is supposed to give back.\n",
    "        * ![Alt text](img/161.%20Defining%20a%20Function%20in%20Python%20-%20Part%20II1.jpg)\n",
    "    * It's important you understand what each of the two keywords does. This will help you a great deal when working with functions. The following could be helpful."
   ]
  },
  {
   "cell_type": "code",
   "execution_count": 34,
   "metadata": {},
   "outputs": [],
   "source": [
    "def plus_ten(a):\n",
    "    result = a + 10\n",
    "    print('Outcome')\n",
    "    return result"
   ]
  },
  {
   "cell_type": "code",
   "execution_count": 35,
   "metadata": {},
   "outputs": [
    {
     "name": "stdout",
     "output_type": "stream",
     "text": [
      "Outcome\n"
     ]
    },
    {
     "data": {
      "text/plain": [
       "12"
      ]
     },
     "execution_count": 35,
     "metadata": {},
     "output_type": "execute_result"
    }
   ],
   "source": [
    "plus_ten(2)"
   ]
  },
  {
   "attachments": {},
   "cell_type": "markdown",
   "metadata": {},
   "source": [
    "## 162. How to Use a Function within a Function"
   ]
  },
  {
   "attachments": {},
   "cell_type": "markdown",
   "metadata": {},
   "source": [
    "https://www.udemy.com/course/the-data-science-course-complete-data-science-bootcamp/learn/lecture/10772744#overview"
   ]
  },
  {
   "attachments": {},
   "cell_type": "markdown",
   "metadata": {},
   "source": [
    "* Say you use w_hours as a parameter, and you are paid $25 per hour.\n",
    "* When you do well in a day, your boss will be very happy to give a bonus of $50 added to your salary."
   ]
  },
  {
   "cell_type": "code",
   "execution_count": 36,
   "metadata": {},
   "outputs": [],
   "source": [
    "def wage(w_hours):\n",
    "    return w_hours * 25\n",
    "\n",
    "def with_bonus(w_hours):\n",
    "    return wage(w_hours) + 50"
   ]
  },
  {
   "cell_type": "code",
   "execution_count": 37,
   "metadata": {},
   "outputs": [
    {
     "data": {
      "text/plain": [
       "200"
      ]
     },
     "execution_count": 37,
     "metadata": {},
     "output_type": "execute_result"
    }
   ],
   "source": [
    "wage(8)"
   ]
  },
  {
   "attachments": {},
   "cell_type": "markdown",
   "metadata": {},
   "source": [
    "## 163. Conditional Statements and Functions"
   ]
  },
  {
   "attachments": {},
   "cell_type": "markdown",
   "metadata": {},
   "source": [
    "https://www.udemy.com/course/the-data-science-course-complete-data-science-bootcamp/learn/lecture/10772748#overview"
   ]
  },
  {
   "attachments": {},
   "cell_type": "markdown",
   "metadata": {},
   "source": [
    "* Combining function and condition statement\n",
    "    * ![Alt text](img/163.%20Conditional%20Statements%20and%20Functions1.jpg)\n",
    "        * ![Alt text](img/163.%20Conditional%20Statements%20and%20Functions2.jpg)\n",
    "    * We have **m** on both sides of the equation, and that is perfectly fine. As a matter of fact, it is not an equation. Remember, that the equality sign stands for assigning the expression on the right side to what is written on the left side.\n",
    "    * ![Alt text](img/163.%20Conditional%20Statements%20and%20Functions3.jpg)"
   ]
  },
  {
   "cell_type": "code",
   "execution_count": 38,
   "metadata": {},
   "outputs": [],
   "source": [
    "def add_ten(m):\n",
    "    if m >= 100:\n",
    "        m = m + 10\n",
    "        return m\n",
    "# To sum up, logically, we mention \"m\" as a parameter. \n",
    "# Then, we substitute its value with a greater value than M, with 10. \n",
    "# At the end, we say from now on, return a value equal to the new m.\n",
    "    else:\n",
    "        return('Save More!')"
   ]
  },
  {
   "cell_type": "code",
   "execution_count": 39,
   "metadata": {},
   "outputs": [
    {
     "data": {
      "text/plain": [
       "120"
      ]
     },
     "execution_count": 39,
     "metadata": {},
     "output_type": "execute_result"
    }
   ],
   "source": [
    "add_ten(110)"
   ]
  },
  {
   "cell_type": "code",
   "execution_count": 40,
   "metadata": {},
   "outputs": [
    {
     "data": {
      "text/plain": [
       "'Save More!'"
      ]
     },
     "execution_count": 40,
     "metadata": {},
     "output_type": "execute_result"
    }
   ],
   "source": [
    "add_ten(50)"
   ]
  },
  {
   "attachments": {},
   "cell_type": "markdown",
   "metadata": {},
   "source": [
    "## 164. Functions Containing a Few Arguments"
   ]
  },
  {
   "attachments": {},
   "cell_type": "markdown",
   "metadata": {},
   "source": [
    "https://www.udemy.com/course/the-data-science-course-complete-data-science-bootcamp/learn/lecture/10772750#overview"
   ]
  },
  {
   "attachments": {},
   "cell_type": "markdown",
   "metadata": {},
   "source": [
    "* In this lesson, we'll learn how to work with more than one parameter in a function. The way this is done in Python is by enlisting all the arguments within the parenthesis, separated by a comma.\n",
    "    * ![Alt text](img/164.%20Functions%20Containing%20a%20Few%20Arguments1.jpg)"
   ]
  },
  {
   "cell_type": "code",
   "execution_count": 41,
   "metadata": {},
   "outputs": [],
   "source": [
    "def subtract_bc(a, b, c):\n",
    "    result = a - b * c\n",
    "    print('Parameter a equals', a)\n",
    "    print('Parameter b equals', b)\n",
    "    print('Parameter c equals', c)\n",
    "    return result"
   ]
  },
  {
   "cell_type": "code",
   "execution_count": 42,
   "metadata": {},
   "outputs": [
    {
     "name": "stdout",
     "output_type": "stream",
     "text": [
      "Parameter a equals 10\n",
      "Parameter b equals 3\n",
      "Parameter c equals 2\n"
     ]
    },
    {
     "data": {
      "text/plain": [
       "4"
      ]
     },
     "execution_count": 42,
     "metadata": {},
     "output_type": "execute_result"
    }
   ],
   "source": [
    "subtract_bc(10, 3, 2)"
   ]
  },
  {
   "cell_type": "code",
   "execution_count": 43,
   "metadata": {},
   "outputs": [
    {
     "name": "stdout",
     "output_type": "stream",
     "text": [
      "Parameter a equals 10\n",
      "Parameter b equals 3\n",
      "Parameter c equals 2\n"
     ]
    },
    {
     "data": {
      "text/plain": [
       "4"
      ]
     },
     "execution_count": 43,
     "metadata": {},
     "output_type": "execute_result"
    }
   ],
   "source": [
    "subtract_bc(b=3, c=2, a=10)"
   ]
  },
  {
   "attachments": {},
   "cell_type": "markdown",
   "metadata": {},
   "source": [
    "## 165. Built-in Functions in Python"
   ]
  },
  {
   "attachments": {},
   "cell_type": "markdown",
   "metadata": {},
   "source": [
    "https://www.udemy.com/course/the-data-science-course-complete-data-science-bootcamp/learn/lecture/10772752#overview"
   ]
  },
  {
   "attachments": {},
   "cell_type": "markdown",
   "metadata": {},
   "source": [
    "* Build-in functions can be applied directly because these functions are already on your computer. This means you won't need to type their code every time you use them.\n",
    "* As a matter of fact, you saw examples of built-in functions in the lesson about data types.\n",
    "```\n",
    "type() = obtains the type of variable you use as an argument\n",
    "```\n",
    "* Built-in function example\n",
    "    * Type()\n",
    "    * int()\n",
    "    * float()\n",
    "    * str()\n",
    "    * max()\n",
    "        * returns the highest value from a sequence of numbers\n",
    "    * min()\n",
    "        * returns the smallest value from a sequence of numbers\n",
    "    * abs()\n",
    "        * allows you to obtain the absolute value of its argument\n",
    "    * sum()\n",
    "        * calculates the sum of all the elements in a list designated as an arguments\n",
    "    * round(x, y) \n",
    "        * returns the float of its argument (x), rounded to a specified number of digits (y) after the decimal point\n",
    "    * pow(x,y)\n",
    "        * return y to the power y\n",
    "    * len()\n",
    "        * returns the number of elements in an object"
   ]
  },
  {
   "cell_type": "code",
   "execution_count": 44,
   "metadata": {},
   "outputs": [
    {
     "name": "stdout",
     "output_type": "stream",
     "text": [
      "30 10 20 21 3.56 3 1024 1024 11\n"
     ]
    }
   ],
   "source": [
    "mx = max(10, 20, 30)\n",
    "\n",
    "mn = min(10, 20, 30)\n",
    "\n",
    "z = -20\n",
    "bs = abs(z)\n",
    "\n",
    "list_1 = [1,2,3,4,5,6]\n",
    "sm = sum(list_1)\n",
    "\n",
    "rnd1 = round(3.555, 2)\n",
    "rnd2 = round(3.2)\n",
    "\n",
    "pw1 = 2 ** 10\n",
    "pw2 = pow(2, 10)\n",
    "\n",
    "ln = len('Mathematics')\n",
    "\n",
    "print(mx, mn, bs, sm, rnd1, rnd2, pw1, pw2, ln)"
   ]
  },
  {
   "attachments": {},
   "cell_type": "markdown",
   "metadata": {},
   "source": [
    "## Quiz 97: Python Functions"
   ]
  },
  {
   "attachments": {},
   "cell_type": "markdown",
   "metadata": {},
   "source": [
    "https://www.udemy.com/course/the-data-science-course-complete-data-science-bootcamp/learn/quiz/4451596#overview"
   ]
  },
  {
   "attachments": {},
   "cell_type": "markdown",
   "metadata": {},
   "source": [
    "1. Which is the correct syntax in Python for defining a function?\n",
    "    * The def keyword, function's name, parentheses, colon\n",
    "2. Which of the following statements regarding \"print\" and \"return\" is true?\n",
    "    * 'print' returns a mere statement"
   ]
  },
  {
   "attachments": {},
   "cell_type": "markdown",
   "metadata": {},
   "source": [
    "# **Section 28: Python - Sequences**"
   ]
  },
  {
   "attachments": {},
   "cell_type": "markdown",
   "metadata": {},
   "source": [
    "## 166. Lists"
   ]
  },
  {
   "attachments": {},
   "cell_type": "markdown",
   "metadata": {},
   "source": [
    "https://www.udemy.com/course/the-data-science-course-complete-data-science-bootcamp/learn/lecture/10772766#content"
   ]
  },
  {
   "attachments": {},
   "cell_type": "markdown",
   "metadata": {},
   "source": [
    "* A **list** is a type of sequence of data points, such as floats, integers or strings. Therefore, understanding lists relates to your ability to organize data, a crucial skill in today's labor market.\n",
    "* List characteristics\n",
    "    * use square brackets []\n",
    "    * use quotation marks ' '\n",
    "* Key feature of lists: \n",
    "    * replacing or deleting items in a list.\n",
    "    * del = removes an item from a list"
   ]
  },
  {
   "cell_type": "code",
   "execution_count": 45,
   "metadata": {},
   "outputs": [
    {
     "data": {
      "text/plain": [
       "['John', 'Leila', 'Georgory', 'Cate']"
      ]
     },
     "execution_count": 45,
     "metadata": {},
     "output_type": "execute_result"
    }
   ],
   "source": [
    "participants = ['John', 'Leila', 'Georgory', 'Cate']\n",
    "participants"
   ]
  },
  {
   "cell_type": "code",
   "execution_count": 46,
   "metadata": {},
   "outputs": [
    {
     "data": {
      "text/plain": [
       "'Georgory'"
      ]
     },
     "execution_count": 46,
     "metadata": {},
     "output_type": "execute_result"
    }
   ],
   "source": [
    "participants[2]"
   ]
  },
  {
   "cell_type": "code",
   "execution_count": 47,
   "metadata": {},
   "outputs": [
    {
     "data": {
      "text/plain": [
       "'Cate'"
      ]
     },
     "execution_count": 47,
     "metadata": {},
     "output_type": "execute_result"
    }
   ],
   "source": [
    "#backward\n",
    "participants[-1]"
   ]
  },
  {
   "attachments": {},
   "cell_type": "markdown",
   "metadata": {},
   "source": [
    "Key feature of lists: \n",
    "    * replacing or deleting items in a list."
   ]
  },
  {
   "cell_type": "code",
   "execution_count": 48,
   "metadata": {},
   "outputs": [
    {
     "data": {
      "text/plain": [
       "['John', 'Leila', 'Georgory', 'Maria']"
      ]
     },
     "execution_count": 48,
     "metadata": {},
     "output_type": "execute_result"
    }
   ],
   "source": [
    "participants[3] = 'Maria'\n",
    "participants"
   ]
  },
  {
   "attachments": {},
   "cell_type": "markdown",
   "metadata": {},
   "source": [
    "Key feature of lists: \n",
    "    * del = removes an item from a list"
   ]
  },
  {
   "cell_type": "code",
   "execution_count": 49,
   "metadata": {},
   "outputs": [
    {
     "data": {
      "text/plain": [
       "['John', 'Leila', 'Maria']"
      ]
     },
     "execution_count": 49,
     "metadata": {},
     "output_type": "execute_result"
    }
   ],
   "source": [
    "del participants[2]\n",
    "participants"
   ]
  },
  {
   "attachments": {},
   "cell_type": "markdown",
   "metadata": {},
   "source": [
    "## Quiz 98: Lists"
   ]
  },
  {
   "attachments": {},
   "cell_type": "markdown",
   "metadata": {},
   "source": [
    "https://www.udemy.com/course/the-data-science-course-complete-data-science-bootcamp/learn/quiz/4451600#overview"
   ]
  },
  {
   "attachments": {},
   "cell_type": "markdown",
   "metadata": {},
   "source": [
    "1. A sequence of which of the following items can be stored in a list?\n",
    "    * Integers, Floats, Strings"
   ]
  },
  {
   "attachments": {},
   "cell_type": "markdown",
   "metadata": {},
   "source": [
    "## 167. Using Methods"
   ]
  },
  {
   "attachments": {},
   "cell_type": "markdown",
   "metadata": {},
   "source": [
    "https://www.udemy.com/course/the-data-science-course-complete-data-science-bootcamp/learn/lecture/10772776#overview"
   ]
  },
  {
   "attachments": {},
   "cell_type": "markdown",
   "metadata": {},
   "source": [
    "* Here is the syntax that allows you to call ready made built-in methods that you do not have to create on your own and can be used in Python directly. After the name of the object, which in this case is the participants list, we'll put a dot called a dot operator. The dot operator allows you to call in or invoke a certain method.\n",
    "\n",
    "* lists elements are directly treated as string values.\n",
    "\n",
    "* .append() or .extend()"
   ]
  },
  {
   "cell_type": "code",
   "execution_count": 50,
   "metadata": {},
   "outputs": [
    {
     "data": {
      "text/plain": [
       "['John', 'Leila', 'Georgory', 'Cate']"
      ]
     },
     "execution_count": 50,
     "metadata": {},
     "output_type": "execute_result"
    }
   ],
   "source": [
    "people = ['John', 'Leila', 'Georgory', 'Cate']\n",
    "people"
   ]
  },
  {
   "cell_type": "code",
   "execution_count": 51,
   "metadata": {},
   "outputs": [
    {
     "data": {
      "text/plain": [
       "['John', 'Leila', 'Georgory', 'Cate', 'Dwayne']"
      ]
     },
     "execution_count": 51,
     "metadata": {},
     "output_type": "execute_result"
    }
   ],
   "source": [
    "people.append('Dwayne')\n",
    "people"
   ]
  },
  {
   "cell_type": "code",
   "execution_count": 52,
   "metadata": {},
   "outputs": [
    {
     "data": {
      "text/plain": [
       "['John', 'Leila', 'Georgory', 'Cate', 'Dwayne', 'George', 'Catherine']"
      ]
     },
     "execution_count": 52,
     "metadata": {},
     "output_type": "execute_result"
    }
   ],
   "source": [
    "people.extend(['George', 'Catherine'])\n",
    "people"
   ]
  },
  {
   "cell_type": "code",
   "execution_count": 55,
   "metadata": {},
   "outputs": [
    {
     "data": {
      "text/plain": [
       "7"
      ]
     },
     "execution_count": 55,
     "metadata": {},
     "output_type": "execute_result"
    }
   ],
   "source": [
    "len(people)"
   ]
  },
  {
   "attachments": {},
   "cell_type": "markdown",
   "metadata": {},
   "source": [
    "## Quiz 99: Using Methods"
   ]
  },
  {
   "attachments": {},
   "cell_type": "markdown",
   "metadata": {},
   "source": [
    "https://www.udemy.com/course/the-data-science-course-complete-data-science-bootcamp/learn/quiz/4451606#overview"
   ]
  },
  {
   "attachments": {},
   "cell_type": "markdown",
   "metadata": {},
   "source": [
    "1. Which is the syntax for invoking a method in Python?\n",
    "    * Name of the object, dot operator, name of the method, parentheses"
   ]
  },
  {
   "attachments": {},
   "cell_type": "markdown",
   "metadata": {},
   "source": [
    "## 168. List Slicing"
   ]
  },
  {
   "attachments": {},
   "cell_type": "markdown",
   "metadata": {},
   "source": [
    "https://www.udemy.com/course/the-data-science-course-complete-data-science-bootcamp/learn/lecture/10772782#overview"
   ]
  },
  {
   "attachments": {},
   "cell_type": "markdown",
   "metadata": {},
   "source": [
    "* To do Slicing:\n",
    "    * To access these elements, we will open square brackets just as we did with indexing and write 1:3. The first number corresponds precisely to the first position of interest, while the second number is one position above the last position we need.\n",
    "        * ![Alt text](img/168.%20List%20Slicing1.jpg)"
   ]
  },
  {
   "cell_type": "code",
   "execution_count": 71,
   "metadata": {},
   "outputs": [
    {
     "data": {
      "text/plain": [
       "['John', 'Leila', 'Georgory', 'Cate', 'Dwayne', 'George', 'Catherine']"
      ]
     },
     "execution_count": 71,
     "metadata": {},
     "output_type": "execute_result"
    }
   ],
   "source": [
    "people"
   ]
  },
  {
   "cell_type": "code",
   "execution_count": 75,
   "metadata": {},
   "outputs": [
    {
     "data": {
      "text/plain": [
       "['Leila', 'Georgory']"
      ]
     },
     "execution_count": 75,
     "metadata": {},
     "output_type": "execute_result"
    }
   ],
   "source": [
    "# To get the first and second position\n",
    "# python start with zero(0)\n",
    "people[1:3]"
   ]
  },
  {
   "cell_type": "code",
   "execution_count": 74,
   "metadata": {},
   "outputs": [
    {
     "data": {
      "text/plain": [
       "['John', 'Leila']"
      ]
     },
     "execution_count": 74,
     "metadata": {},
     "output_type": "execute_result"
    }
   ],
   "source": [
    "# To get the first two names from the list\n",
    "people[:2]"
   ]
  },
  {
   "cell_type": "code",
   "execution_count": 73,
   "metadata": {},
   "outputs": [
    {
     "data": {
      "text/plain": [
       "['George', 'Catherine']"
      ]
     },
     "execution_count": 73,
     "metadata": {},
     "output_type": "execute_result"
    }
   ],
   "source": [
    "# how can I obtain the last two? we have 2 ways\n",
    "people[5:]\n"
   ]
  },
  {
   "cell_type": "code",
   "execution_count": 76,
   "metadata": {},
   "outputs": [
    {
     "data": {
      "text/plain": [
       "['George', 'Catherine']"
      ]
     },
     "execution_count": 76,
     "metadata": {},
     "output_type": "execute_result"
    }
   ],
   "source": [
    "people[-2:]"
   ]
  },
  {
   "attachments": {},
   "cell_type": "markdown",
   "metadata": {},
   "source": [
    "* Additional methods that can be applied to lists.\n",
    "    * Assume you know Maria's in your list, but you don't know her position. In other words, you'd like to obtain the index of the element 'Cate' from the participants list. Just call the index method and indicate the string variable of interest in parentheses.\n",
    "    * .index()"
   ]
  },
  {
   "cell_type": "code",
   "execution_count": 78,
   "metadata": {},
   "outputs": [
    {
     "data": {
      "text/plain": [
       "3"
      ]
     },
     "execution_count": 78,
     "metadata": {},
     "output_type": "execute_result"
    }
   ],
   "source": [
    "people.index('Cate')"
   ]
  },
  {
   "attachments": {},
   "cell_type": "markdown",
   "metadata": {},
   "source": [
    "* It is possible to create a list of lists."
   ]
  },
  {
   "cell_type": "code",
   "execution_count": 79,
   "metadata": {},
   "outputs": [
    {
     "data": {
      "text/plain": [
       "[['John', 'Leila', 'Georgory', 'Cate', 'Dwayne', 'George', 'Catherine'],\n",
       " ['Joshua', 'Britanny']]"
      ]
     },
     "execution_count": 79,
     "metadata": {},
     "output_type": "execute_result"
    }
   ],
   "source": [
    "newcommers = ['Joshua', 'Britanny']\n",
    "bigger_list = [people, newcommers]\n",
    "bigger_list"
   ]
  },
  {
   "attachments": {},
   "cell_type": "markdown",
   "metadata": {},
   "source": [
    "* An important method that could order the names of your participants in alphabetical order is sort.\n",
    "    * .sort()\n",
    "        * sorts object of lists"
   ]
  },
  {
   "cell_type": "code",
   "execution_count": 82,
   "metadata": {},
   "outputs": [
    {
     "data": {
      "text/plain": [
       "['Cate', 'Catherine', 'Dwayne', 'George', 'Georgory', 'John', 'Leila']"
      ]
     },
     "execution_count": 82,
     "metadata": {},
     "output_type": "execute_result"
    }
   ],
   "source": [
    "# Ascending (smallest to largest)\n",
    "people.sort()\n",
    "people"
   ]
  },
  {
   "cell_type": "code",
   "execution_count": 81,
   "metadata": {},
   "outputs": [
    {
     "data": {
      "text/plain": [
       "['Leila', 'John', 'Georgory', 'George', 'Dwayne', 'Catherine', 'Cate']"
      ]
     },
     "execution_count": 81,
     "metadata": {},
     "output_type": "execute_result"
    }
   ],
   "source": [
    "# If we want in reversed order\n",
    "# Descending\n",
    "# Largest to smallest\n",
    "people.sort(reverse=True)\n",
    "people"
   ]
  },
  {
   "attachments": {},
   "cell_type": "markdown",
   "metadata": {},
   "source": [
    "## 169. Tuples"
   ]
  },
  {
   "attachments": {},
   "cell_type": "markdown",
   "metadata": {},
   "source": [
    "https://www.udemy.com/course/the-data-science-course-complete-data-science-bootcamp/learn/lecture/10772786#overview"
   ]
  },
  {
   "attachments": {},
   "cell_type": "markdown",
   "metadata": {},
   "source": [
    "* Characteristics Tuple\n",
    "    * Immutable\n",
    "        * cannot be changed or modified.\n",
    "        * cannot append or delete elements.\n",
    "    * use parentheses ( )\n",
    "* The tuple is the default sequence type in python.\n",
    "* Tuple assignment = Can assign a number of values to the same number of variables.\n",
    "* Tuple can use index using bracket [ ] same with list\n",
    "* Can place tuples within lists, and then each tuple becomes a separate element within the list.\n",
    "* Tuple can be quite useful when dealing with different comma separated values.\n",
    "* Function can provide tuples as return values"
   ]
  },
  {
   "cell_type": "code",
   "execution_count": 90,
   "metadata": {},
   "outputs": [
    {
     "name": "stdout",
     "output_type": "stream",
     "text": [
      "(40, 41, 42)\n",
      "(50, 51, 52)\n",
      "6\n",
      "[(40, 41, 42), (50, 51, 52)]\n",
      "Print of  30\n",
      "Print of  17\n"
     ]
    }
   ],
   "source": [
    "x = (40, 41, 42)\n",
    "y = 50, 51, 52\n",
    "print(x)\n",
    "print(y)\n",
    "\n",
    "a, b, c = 1, 4, 6\n",
    "print(c)\n",
    "\n",
    "x[0]\n",
    "\n",
    "list_1 = [x, y]\n",
    "print(list_1)\n",
    "\n",
    "(age, years_of_school) = '30,17'.split(',')\n",
    "print('Print of',age)\n",
    "print('Print of', years_of_school)"
   ]
  },
  {
   "cell_type": "code",
   "execution_count": 91,
   "metadata": {},
   "outputs": [],
   "source": [
    "def square_info(x):\n",
    "    A = x ** 2\n",
    "    P = 4 * x\n",
    "    print('Area and Perimeter:')\n",
    "    return A,P"
   ]
  },
  {
   "cell_type": "code",
   "execution_count": 92,
   "metadata": {},
   "outputs": [
    {
     "name": "stdout",
     "output_type": "stream",
     "text": [
      "Area and Perimeter:\n"
     ]
    },
    {
     "data": {
      "text/plain": [
       "(9, 12)"
      ]
     },
     "execution_count": 92,
     "metadata": {},
     "output_type": "execute_result"
    }
   ],
   "source": [
    "square_info(3)"
   ]
  },
  {
   "attachments": {},
   "cell_type": "markdown",
   "metadata": {},
   "source": [
    "## 170. Dictionaries"
   ]
  },
  {
   "attachments": {},
   "cell_type": "markdown",
   "metadata": {},
   "source": [
    "https://www.udemy.com/course/the-data-science-course-complete-data-science-bootcamp/learn/lecture/10772790#overview"
   ]
  },
  {
   "attachments": {},
   "cell_type": "markdown",
   "metadata": {},
   "source": [
    "* Dictionaries represent another way of storing data. Each value is associated with a certain key, more precisely, a key and its respective value form a key-value pair.\n",
    "* Characteristic of Dictionaries:\n",
    "    * Use curly braces { }\n",
    "    * have key and value 'key':'value'\n",
    "* we could add a new value to the dictionary\n",
    "* dict also can replace a value\n",
    "\n",
    "* .get()\n",
    "    * the get method gives us the name of the Small Forward of a given team, the machine won't display an error, if we ask for the name of the coach, whose name does not take part in my dictionary.\n",
    "\n",
    "* None is the default value Python returns in cases where an object does not actually exist within a given dictionary."
   ]
  },
  {
   "cell_type": "code",
   "execution_count": 93,
   "metadata": {},
   "outputs": [
    {
     "data": {
      "text/plain": [
       "{'k1': 'cat', 'k2': 'dog', 'k3': 'mouse', 'k4': 'fish'}"
      ]
     },
     "execution_count": 93,
     "metadata": {},
     "output_type": "execute_result"
    }
   ],
   "source": [
    "dict = {'k1': 'cat', 'k2': 'dog', 'k3': 'mouse', 'k4': 'fish'}\n",
    "dict"
   ]
  },
  {
   "cell_type": "code",
   "execution_count": 94,
   "metadata": {},
   "outputs": [
    {
     "data": {
      "text/plain": [
       "'dog'"
      ]
     },
     "execution_count": 94,
     "metadata": {},
     "output_type": "execute_result"
    }
   ],
   "source": [
    "dict['k2']"
   ]
  },
  {
   "cell_type": "code",
   "execution_count": 95,
   "metadata": {},
   "outputs": [
    {
     "data": {
      "text/plain": [
       "{'k1': 'cat', 'k2': 'dog', 'k3': 'mouse', 'k4': 'fish', 'k5': 'parrot'}"
      ]
     },
     "execution_count": 95,
     "metadata": {},
     "output_type": "execute_result"
    }
   ],
   "source": [
    "#add value\n",
    "dict['k5'] = 'parrot'\n",
    "dict"
   ]
  },
  {
   "cell_type": "code",
   "execution_count": 96,
   "metadata": {},
   "outputs": [
    {
     "data": {
      "text/plain": [
       "{'k1': 'cat', 'k2': 'squirrel', 'k3': 'mouse', 'k4': 'fish', 'k5': 'parrot'}"
      ]
     },
     "execution_count": 96,
     "metadata": {},
     "output_type": "execute_result"
    }
   ],
   "source": [
    "dict['k2'] = 'squirrel'\n",
    "dict"
   ]
  },
  {
   "cell_type": "code",
   "execution_count": 97,
   "metadata": {},
   "outputs": [
    {
     "data": {
      "text/plain": [
       "['Jennifer', 'Michael', 'Tommy']"
      ]
     },
     "execution_count": 97,
     "metadata": {},
     "output_type": "execute_result"
    }
   ],
   "source": [
    "#first element is dictional\n",
    "#second element is a list\n",
    "dep_worker = {'dep_1':'Peter', 'dep_2':['Jennifer', 'Michael', 'Tommy']}\n",
    "dep_worker['dep_2']"
   ]
  },
  {
   "cell_type": "code",
   "execution_count": 101,
   "metadata": {},
   "outputs": [
    {
     "name": "stdout",
     "output_type": "stream",
     "text": [
      "{'Point Guard': 'Dirk', 'Shooting Guard': 'Al', 'Small Foward': 'Sean', 'Power Foward': 'Alexander', 'Center': 'Hector'}\n",
      "Hector\n",
      "Sean\n",
      "None\n"
     ]
    }
   ],
   "source": [
    "# There is another way to fill in a dictionary.\n",
    "Team = {}\n",
    "Team['Point Guard'] = 'Dirk'\n",
    "Team['Shooting Guard'] = 'Al'\n",
    "Team['Small Foward'] = 'Sean'\n",
    "Team['Power Foward'] = 'Alexander'\n",
    "Team['Center'] = 'Hector'\n",
    "\n",
    "print(Team)\n",
    "print(Team['Center'])\n",
    "\n",
    "#use .get()\n",
    "print(Team.get('Small Foward'))\n",
    "\n",
    "print(Team.get('Coach'))"
   ]
  },
  {
   "attachments": {},
   "cell_type": "markdown",
   "metadata": {},
   "source": [
    "* None is the default value Python returns in cases where an object does not actually exist within a given dictionary."
   ]
  },
  {
   "attachments": {},
   "cell_type": "markdown",
   "metadata": {},
   "source": [
    "## Quiz 100: Dictionaries"
   ]
  },
  {
   "attachments": {},
   "cell_type": "markdown",
   "metadata": {},
   "source": [
    "https://www.udemy.com/course/the-data-science-course-complete-data-science-bootcamp/learn/quiz/4451768#overview"
   ]
  },
  {
   "attachments": {},
   "cell_type": "markdown",
   "metadata": {},
   "source": [
    "1. Which is the syntax for adding a new value to a dictionary?\n",
    "    * The name of the dictionary, new key name in quotes and within brackets, equality sign, the new value"
   ]
  },
  {
   "attachments": {},
   "cell_type": "markdown",
   "metadata": {},
   "source": [
    "# Section 29: Python - Iterations"
   ]
  },
  {
   "attachments": {},
   "cell_type": "markdown",
   "metadata": {},
   "source": [
    "## 171. For Loops"
   ]
  },
  {
   "attachments": {},
   "cell_type": "markdown",
   "metadata": {},
   "source": [
    "https://www.udemy.com/course/the-data-science-course-complete-data-science-bootcamp/learn/lecture/10773856#content"
   ]
  },
  {
   "attachments": {},
   "cell_type": "markdown",
   "metadata": {},
   "source": [
    "* Iteration is the ability to execute a certain code repeatedly.\n",
    "    * example below:\n",
    "        * ![Alt text](img/171.%20For%20Loops1.jpg)\n",
    "        * The loop starts by taking an element N from our list. Then, the computer executes the body of the loop. In our case, it will simply print that variable. When the computer is done with this operation called iteration or pass of the loop, Python will go back to the for statementand pick the next element N that is in the even list. It will then print out and so on and so forth until the loop body has been executed for all available elements in the list."
   ]
  },
  {
   "cell_type": "code",
   "execution_count": 102,
   "metadata": {},
   "outputs": [
    {
     "name": "stdout",
     "output_type": "stream",
     "text": [
      "0\n",
      "2\n",
      "4\n",
      "6\n",
      "8\n",
      "10\n",
      "12\n",
      "14\n",
      "16\n",
      "18\n",
      "20\n"
     ]
    }
   ],
   "source": [
    "even = [0, 2, 4, 6, 8, 10, 12, 14, 16, 18, 20]\n",
    "for n in even:\n",
    "    print(n)\n",
    "# it read: for every element n in the list even: \n",
    "# print n"
   ]
  },
  {
   "cell_type": "code",
   "execution_count": 103,
   "metadata": {},
   "outputs": [
    {
     "name": "stdout",
     "output_type": "stream",
     "text": [
      "0 2 4 6 8 10 12 14 16 18 20 "
     ]
    }
   ],
   "source": [
    "# What if we wanted to see them ordered in a single line?\n",
    "even = [0, 2, 4, 6, 8, 10, 12, 14, 16, 18, 20]\n",
    "for n in even:\n",
    "    print(n, end = ' ')"
   ]
  },
  {
   "attachments": {},
   "cell_type": "markdown",
   "metadata": {},
   "source": [
    "* A comma after the element N, in the parentheses after the print function and an N parameter with a value of an empty string will help us achieve that. Note that to specify an empty string, you need to type an empty space between a pair of double quotes by pressing the space bar on your keyboard once. Thus the comma and the end parameter will indicate every next element from the loop should be placed with a distance of one space on the same row. And if the elements you're about to print are too long, they will be displayed on multiple rows in the output cell."
   ]
  },
  {
   "attachments": {},
   "cell_type": "markdown",
   "metadata": {},
   "source": [
    "## Quiz 101: For Loops"
   ]
  },
  {
   "attachments": {},
   "cell_type": "markdown",
   "metadata": {},
   "source": [
    "https://www.udemy.com/course/the-data-science-course-complete-data-science-bootcamp/learn/quiz/4451648#overview"
   ]
  },
  {
   "attachments": {},
   "cell_type": "markdown",
   "metadata": {},
   "source": [
    "1. Which of the following will work in Python?\n",
    "    * for n in object:"
   ]
  },
  {
   "attachments": {},
   "cell_type": "markdown",
   "metadata": {},
   "source": [
    "## 172. While Loops and Incrementing"
   ]
  },
  {
   "attachments": {},
   "cell_type": "markdown",
   "metadata": {},
   "source": [
    "https://www.udemy.com/course/the-data-science-course-complete-data-science-bootcamp/learn/lecture/10773864#overview"
   ]
  },
  {
   "attachments": {},
   "cell_type": "markdown",
   "metadata": {},
   "source": [
    "* When dealing with **while loop**, becarefull with the code because you can run into an **infinite loop** and your computer will crash\n",
    "    * ![Alt text](img/172.%20While%20Loops%20and%20Incrementing1.jpg)\n",
    "\n",
    "* In programming terms, adding the same number on top of an existing variable during a loop is called incrementing. The amount being progressively added is called an **increment**. In our case, we have an **increment of two**.\n",
    "    * ![Alt text](img/172.%20While%20Loops%20and%20Incrementing2.jpg)"
   ]
  },
  {
   "cell_type": "code",
   "execution_count": 104,
   "metadata": {},
   "outputs": [
    {
     "name": "stdout",
     "output_type": "stream",
     "text": [
      "0 2 4 6 8 10 12 14 16 18 20 "
     ]
    }
   ],
   "source": [
    "x = 0\n",
    "while x <= 20:\n",
    "    print(x, end = ' ')\n",
    "    x = x + 2\n",
    "    # without the code above, it  will become infinite loop"
   ]
  },
  {
   "attachments": {},
   "cell_type": "markdown",
   "metadata": {},
   "source": [
    "* Furthermore, the Python syntax offers a special way to indicate incrementing.\n",
    "* X += 2 shows we are incrementing the value of two on top of the base X just as if we had typed x = x + 2 As you can see, the two outcomes are the same. To conclude, whether you will use a for or a while loop will depend mainly on your personal preferences."
   ]
  },
  {
   "cell_type": "code",
   "execution_count": null,
   "metadata": {},
   "outputs": [],
   "source": [
    "x = 0\n",
    "while x <= 20:\n",
    "    print(x, end = ' ')\n",
    "    x =+ 2\n",
    "    #incrementing"
   ]
  },
  {
   "attachments": {},
   "cell_type": "markdown",
   "metadata": {},
   "source": [
    "## 173. Lists with the range() Function"
   ]
  },
  {
   "attachments": {},
   "cell_type": "markdown",
   "metadata": {},
   "source": [
    "https://www.udemy.com/course/the-data-science-course-complete-data-science-bootcamp/learn/lecture/10773870#overview"
   ]
  },
  {
   "attachments": {},
   "cell_type": "markdown",
   "metadata": {},
   "source": [
    "* range() can help us by creating a Python range object, which actually is a mere sequence of integers.\n",
    "    * ![Alt text](img/173.%20Lists%20with%20the%20range()%20Function1.jpg)\n",
    "        * The so-called step value represents the distance between each two consecutive values on the list. The stop value is a required input, while the start and step values are optional. If not provided, the start value will be automatically replaced with a zero and the step value would be assumed to be equal to one. You could also remember the stop value as most important,the start value as less important, and the step value as least important.\n",
    "```\n",
    "range(10)\n",
    "output: range(0, 10)\n",
    "```\n",
    "* For this reason, range of 10 will provide a sequence of 10 elements, starting from zero, implied after not indicating a start value, and ending at the 10th consecutive number, number nine. Python, however, will not display the sequence in the form of a list. Instead, it will show this as a range 0, 10, which stands for a range object with a start value of zero and a stop value of 10.\n",
    "    * use list(range(10)) to display the sequece as list\n",
    "```\n",
    "list(range(10))\n",
    "output: [0, 1, 2, 3, 4, 5, 6, 7, 8, 9]\n",
    "```"
   ]
  },
  {
   "cell_type": "code",
   "execution_count": 106,
   "metadata": {},
   "outputs": [
    {
     "name": "stdout",
     "output_type": "stream",
     "text": [
      "range(3, 7)\n",
      "[3, 4, 5, 6]\n",
      "[1, 3, 5, 7, 9, 11, 13, 15, 17, 19]\n"
     ]
    }
   ],
   "source": [
    "a = range(3, 7)\n",
    "b = list(range(3,7))\n",
    "c = list(range(1,20,2))\n",
    "\n",
    "print(a)\n",
    "print(b)\n",
    "print(c)"
   ]
  },
  {
   "attachments": {},
   "cell_type": "markdown",
   "metadata": {},
   "source": [
    "## Quiz 102: Lists with the range() Function"
   ]
  },
  {
   "attachments": {},
   "cell_type": "markdown",
   "metadata": {},
   "source": [
    "https://www.udemy.com/course/the-data-science-course-complete-data-science-bootcamp/learn/quiz/4451650#overview"
   ]
  },
  {
   "attachments": {},
   "cell_type": "markdown",
   "metadata": {},
   "source": [
    "1. Which is the correct order of the parameters in the range function? The optional parameters are placed between brackets.\n",
    "    * range(start, stop, step)"
   ]
  },
  {
   "attachments": {},
   "cell_type": "markdown",
   "metadata": {},
   "source": [
    "## 174. Conditional Statements and Loops"
   ]
  },
  {
   "attachments": {},
   "cell_type": "markdown",
   "metadata": {},
   "source": [
    "https://www.udemy.com/course/the-data-science-course-complete-data-science-bootcamp/learn/lecture/10773872#overview"
   ]
  },
  {
   "attachments": {},
   "cell_type": "markdown",
   "metadata": {},
   "source": [
    "* To print all the values from two to the power of zero, two to the power of one, and so on until two to the power of nine, we can use the following code: four in range of 10, print two, double star, N, written in parenthesis. I will also have to insert a comma and specify an \"in\" parameter with a value of an empty string after \"in\" because I would like to see the output on a single line."
   ]
  },
  {
   "cell_type": "code",
   "execution_count": 107,
   "metadata": {},
   "outputs": [
    {
     "name": "stdout",
     "output_type": "stream",
     "text": [
      "1 2 4 8 16 32 64 128 256 512 "
     ]
    }
   ],
   "source": [
    "for n in range(10):\n",
    "    print(2 ** n, end = ' ')"
   ]
  },
  {
   "attachments": {},
   "cell_type": "markdown",
   "metadata": {},
   "source": [
    "* create an iteration that includes a conditional in the loop body.\n",
    "    * tell the computer to print all the even values between zero and 19 and state \"odd\" in the places where we have odd numbers.\n",
    "    * If X leaves a remainder of zero when divided by two, which is the same as to say, if X is even, then print X on the same line, \"else,\" which means unless X is even or if X is odd, print \"odd.\""
   ]
  },
  {
   "cell_type": "code",
   "execution_count": 108,
   "metadata": {},
   "outputs": [
    {
     "name": "stdout",
     "output_type": "stream",
     "text": [
      "0 odd 2 odd 4 odd 6 odd 8 odd 10 odd 12 odd 14 odd 16 odd 18 odd "
     ]
    }
   ],
   "source": [
    "for x in range(20):\n",
    "    if x %2 == 0:\n",
    "        print(x, end = ' ')\n",
    "    else:\n",
    "        print(\"odd\", end = ' ')"
   ]
  },
  {
   "attachments": {},
   "cell_type": "markdown",
   "metadata": {},
   "source": [
    "* There are two main ways to program a loop"
   ]
  },
  {
   "cell_type": "code",
   "execution_count": null,
   "metadata": {},
   "outputs": [],
   "source": [
    "# first\n",
    "x = [0, 1, 2]\n",
    "for item in x:\n",
    "    print(item, end = \" \")"
   ]
  },
  {
   "attachments": {},
   "cell_type": "markdown",
   "metadata": {},
   "source": [
    "* ![Alt text](img/174.%20Conditional%20Statements%20and%20Loops1.jpg)\n",
    "* ![Alt text](img/174.%20Conditional%20Statements%20and%20Loops2.jpg)\n",
    "    * the variable item will loop through a new list created by range and that has as many elements as the X list itself. Please note that, in this situation, the second line of our code needs indexing to extract each item from the X list.\n",
    "    * In practice, we will print out the element at position zero from the list X, then the element at position one, and finally, the element at position two. \n",
    "* To conclude, both approaches can lead to the same outcome. Although the second one looks unnecessarily complicated in advanced coding, it might turn out to be a lot more useful, so it is important you know both."
   ]
  },
  {
   "cell_type": "code",
   "execution_count": null,
   "metadata": {},
   "outputs": [],
   "source": [
    "# second\n",
    "for item in range(len(x)):\n",
    "    print(x[item], end = \" \")"
   ]
  },
  {
   "attachments": {},
   "cell_type": "markdown",
   "metadata": {},
   "source": [
    "## 175. Conditional Statements, Functions, and Loops"
   ]
  },
  {
   "attachments": {},
   "cell_type": "markdown",
   "metadata": {},
   "source": [
    "https://www.udemy.com/course/the-data-science-course-complete-data-science-bootcamp/learn/lecture/10773874#overview"
   ]
  },
  {
   "attachments": {},
   "cell_type": "markdown",
   "metadata": {},
   "source": [
    "* how to count the number of items whose value is less than 20 in a list.\n",
    "    * First, define a function that takes as an argument numbers where numbers will be a certain list variable. The trick is to create a variable that, so to speak, departs from zero. Let's call it total.\n",
    "    * The idea is that when certain conditions are verified total will change its value. This is why in such a situation, it is appropriate to call this variable a ruling sum.\n",
    "    * More technically, when we consider X in the numbers list if it is smaller than 20 we will increment the total by one and finally return the total value. This means that if X is less than 20 total will grow by one, and if X is greater than or equal to 20, total will not grow.\n",
    "        * ![Alt text](img/175.%20Conditional%20Statements,%20Functions,%20and%20Loops1.jpg)"
   ]
  },
  {
   "cell_type": "code",
   "execution_count": 113,
   "metadata": {},
   "outputs": [],
   "source": [
    "def count(numbers):\n",
    "    total = 0\n",
    "    for x in numbers:\n",
    "        if x < 20:\n",
    "            total += 1\n",
    "    return total"
   ]
  },
  {
   "cell_type": "code",
   "execution_count": 114,
   "metadata": {},
   "outputs": [
    {
     "data": {
      "text/plain": [
       "4"
      ]
     },
     "execution_count": 114,
     "metadata": {},
     "output_type": "execute_result"
    }
   ],
   "source": [
    "list_1 = [1, 3, 7, 15, 23, 43, 56, 98]\n",
    "count(list_1)"
   ]
  },
  {
   "attachments": {},
   "cell_type": "markdown",
   "metadata": {},
   "source": [
    "* By the way, look how the whole if statement is indented even more to the right. This allows us to separate it logically from the rest of the code in the cell that refers to this function.\n",
    "    * ![Alt text](img/175.%20Conditional%20Statements,%20Functions,%20and%20Loops2.jpg)"
   ]
  },
  {
   "attachments": {},
   "cell_type": "markdown",
   "metadata": {},
   "source": [
    "## 176. How to Iterate over Dictionaries"
   ]
  },
  {
   "attachments": {},
   "cell_type": "markdown",
   "metadata": {},
   "source": [
    "https://www.udemy.com/course/the-data-science-course-complete-data-science-bootcamp/learn/lecture/10773916#overview"
   ]
  },
  {
   "attachments": {},
   "cell_type": "markdown",
   "metadata": {},
   "source": [
    "* We have a couple of examples here. The prices of a box of spaghetti, of a portion of lasagna, and of a hamburger are stored in a dictionary called prices.\n",
    "* Jan went to the supermarket and bought 6 boxes of spaghetti, 10 pieces of lasagna, and no hamburgers. This data was stored in a dictionary named quantity.\n",
    "* Our problem is, how much did Jan spend in the supermarket?\n",
    "    * ![Alt text](img/176.%20How%20to%20Iterate%20over%20Dictionaries1.jpg)\n",
    "* But what are we going to do with it? What is the loop's body going to contain? Before anything else, some variable must account for the amount of money spent.\n",
    "    * ![Alt text](img/176.%20How%20to%20Iterate%20over%20Dictionaries2.jpg)"
   ]
  },
  {
   "cell_type": "code",
   "execution_count": 117,
   "metadata": {},
   "outputs": [
    {
     "name": "stdout",
     "output_type": "stream",
     "text": [
      "74\n"
     ]
    }
   ],
   "source": [
    "prices = {\n",
    "    \"box_of_spaghetti\": 4,\n",
    "    \"lasagna\": 5,\n",
    "    \"hamburger\": 2\n",
    "}\n",
    "quantity = {\n",
    "    \"box_of_spaghetti\": 6,\n",
    "    \"lasagna\": 10,\n",
    "    \"hamburger\": 0\n",
    "}\n",
    "\n",
    "money_spent = 0\n",
    "\n",
    "for i in prices:\n",
    "    money_spent = money_spent + (prices[i] * quantity[i])\n",
    "    \n",
    "print(money_spent)"
   ]
  },
  {
   "attachments": {},
   "cell_type": "markdown",
   "metadata": {},
   "source": [
    "* From a programmer's perspective, the problem looks different. The good thing is that, at the end, this whole thing boiled down to a mere four lines of coding.\n",
    "* As a side note, do you realize that if we put quantity instead of prices here, the outcome will remain the same? So what is the conclusion?\n",
    "    * It does not matter if you loop through prices or through quantity, because the two dictionaries contain the same keys, and this is the reason this loop works correctly too."
   ]
  },
  {
   "attachments": {},
   "cell_type": "markdown",
   "metadata": {},
   "source": [
    "# Section 30: Python - Advanced Python Tools"
   ]
  },
  {
   "attachments": {},
   "cell_type": "markdown",
   "metadata": {},
   "source": [
    "## 177. Object Oriented Programming"
   ]
  },
  {
   "attachments": {},
   "cell_type": "markdown",
   "metadata": {},
   "source": [
    "https://www.udemy.com/course/the-data-science-course-complete-data-science-bootcamp/learn/lecture/10773924#content"
   ]
  },
  {
   "attachments": {},
   "cell_type": "markdown",
   "metadata": {},
   "source": [
    "* We can say every value in Python is an object.\n",
    "    * Integers, Floats, Strings, Lists, ect\n",
    "        * ![Alt text](img/177.%20Object%20Oriented%20Programming1.jpg)\n",
    "* Object Oriented Programming (OOP) refers to the concept of interacting with one or more objects. There are several languages supporting OOP:\n",
    "    * Java, PHP, Python, C++, etc\n",
    "* An object contains data, suck as a number or a string, plus the operations allowing us to manipulate the data.\n",
    "    * ![Alt text](img/177.%20Object%20Oriented%20Programming2.jpg)\n",
    "    * Each object belongs to some class, defining the rules for creating that object, and we can attach a certain number of attributes to it. And **the focus on programming is on the object and not the action, as it is in other type of programming**.\n",
    "* ![Alt text](img/177.%20Object%20Oriented%20Programming3.jpg)\n",
    "    * A method is a special function. \n",
    "    * As any other function, a method can have many parameters of various data types, but it will surely contain the object it is applied to as one of them.\n",
    "    * A method belongs to a certain class, while a function exists on its own.\n",
    "    * To avoid confusion between the terms, method and function, the Pythonic syntax is different in the two situations. As we saw in our previous lessons, the method name is not just succeeded by parentheses, it is written after the name of the object it is applied to, and the dot operator."
   ]
  },
  {
   "attachments": {},
   "cell_type": "markdown",
   "metadata": {},
   "source": [
    "## Quiz 103: Object Oriented Programming"
   ]
  },
  {
   "attachments": {},
   "cell_type": "markdown",
   "metadata": {},
   "source": [
    "https://www.udemy.com/course/the-data-science-course-complete-data-science-bootcamp/learn/quiz/4451654#overview"
   ]
  },
  {
   "attachments": {},
   "cell_type": "markdown",
   "metadata": {},
   "source": [
    "1. Which term is an alternative way to refer to an object?\n",
    "    * Instance\n",
    "2. What is the focus of Object-oriented programming (OOP)?\n",
    "    * The Object"
   ]
  },
  {
   "attachments": {},
   "cell_type": "markdown",
   "metadata": {},
   "source": [
    "## 178. Modules and Packages"
   ]
  },
  {
   "attachments": {},
   "cell_type": "markdown",
   "metadata": {},
   "source": [
    "https://www.udemy.com/course/the-data-science-course-complete-data-science-bootcamp/learn/lecture/10773932#overview"
   ]
  },
  {
   "attachments": {},
   "cell_type": "markdown",
   "metadata": {},
   "source": [
    "* A module is a pre-written code containing definitions of variables, functions, and classes. Its charm lies in the fact it can be loaded in all new programs, and we need not rewrite the code manually at the beginning of a new program.\n",
    "* A package is a collection or directory of related Python modules. Technically, you could create your own modules and packages, but things are easier than that. People in the programming community have developed a growing set of packages that are readily available for download, and have been tailored for various types of professions and specializations."
   ]
  },
  {
   "attachments": {},
   "cell_type": "markdown",
   "metadata": {},
   "source": [
    "## Quiz 104: Modules and Packages"
   ]
  },
  {
   "attachments": {},
   "cell_type": "markdown",
   "metadata": {},
   "source": [
    "https://www.udemy.com/course/the-data-science-course-complete-data-science-bootcamp/learn/quiz/4451656#overview"
   ]
  },
  {
   "attachments": {},
   "cell_type": "markdown",
   "metadata": {},
   "source": [
    "1. What is a module?\n",
    "    * Pre-written code containing definitions of functions and classes\n",
    "2. What is a package?\n",
    "    * A collection or directory of related Python modules"
   ]
  },
  {
   "attachments": {},
   "cell_type": "markdown",
   "metadata": {},
   "source": [
    "## 179. What is the Standard Library?"
   ]
  },
  {
   "attachments": {},
   "cell_type": "markdown",
   "metadata": {},
   "source": [
    "https://www.udemy.com/course/the-data-science-course-complete-data-science-bootcamp/learn/lecture/10773940#overview"
   ]
  },
  {
   "attachments": {},
   "cell_type": "markdown",
   "metadata": {},
   "source": [
    "* Python's Standard Library is a collection of modules available as soon as you install Python.\n",
    "* There is a set of modules there at the beginning of your program. You cannot see it, but it contains all those built-in features like the Len function or the list class.\n",
    "    * ![Alt text](img/179.%20What%20is%20the%20Standard%20Library1.jpg)\n",
    "* Python has a broad practical application. To use the language, it is not mandatory to install all the modules there are in the world. So besides the standard library that comes with the normal installation, people download the modules and packages they need.\n",
    "    * ![Alt text](img/179.%20What%20is%20the%20Standard%20Library2.jpg)\n",
    "* Statisticians will be tempted to install a module comprising a large set of statistical functions and methods while a data scientist will likely use a 24/7 package that helps him organize his data into tables and so on and so forth.\n",
    "    * ![Alt text](img/179.%20What%20is%20the%20Standard%20Library3.jpg)"
   ]
  },
  {
   "attachments": {},
   "cell_type": "markdown",
   "metadata": {},
   "source": [
    "## Quiz 105: What is the Standard Library?"
   ]
  },
  {
   "attachments": {},
   "cell_type": "markdown",
   "metadata": {},
   "source": [
    "https://www.udemy.com/course/the-data-science-course-complete-data-science-bootcamp/learn/quiz/4451658#overview"
   ]
  },
  {
   "attachments": {},
   "cell_type": "markdown",
   "metadata": {},
   "source": [
    "1. What is contained in Python’s Standard Library?\n",
    "     * A collection of modules available as soon as you install Python"
   ]
  },
  {
   "attachments": {},
   "cell_type": "markdown",
   "metadata": {},
   "source": [
    "## 180. Importing Modules in Python"
   ]
  },
  {
   "attachments": {},
   "cell_type": "markdown",
   "metadata": {},
   "source": [
    "https://www.udemy.com/course/the-data-science-course-complete-data-science-bootcamp/learn/lecture/10773978#overview"
   ]
  },
  {
   "attachments": {},
   "cell_type": "markdown",
   "metadata": {},
   "source": [
    "* There are four ways to import a module:\n",
    "    * Import the module\n",
    "        ```\n",
    "        import math\n",
    "        math.sqrt(16)\n",
    "        output: 4.0\n",
    "        ```\n",
    "    * Could type from math import, sqrt. The syntax would allow you to omit the name of the module and the DOT operator when calling this function.\n",
    "        ```\n",
    "        from math import sqrt\n",
    "        math(25)\n",
    "        output: 5.0\n",
    "        ```\n",
    "    * An advanced bits of code, you will see how modules or their functions can be renamed simply because using shorter names can be time saving.\n",
    "        ```\n",
    "        from math import sqrt as s\n",
    "        s(36)\n",
    "        output: 6.0\n",
    "        ```\n",
    "        * Modules can be renamed too.\n",
    "            ```\n",
    "            import match as m\n",
    "            m.sqrt(49)\n",
    "            output: 7.0\n",
    "            ```\n",
    "    * The fourth option is usually frowned upon by specialists but can be appropriate for interactive sessions. All the features from math functions can be imported using star(*). Interpreted as import everything from math. The problem is **this option could be problematic for Python in some situations**. Suppose you imported everything from math and then you imported a second module that contains an sqrt function.\n",
    "        ```\n",
    "        from math import *\n",
    "        sqrt(64)\n",
    "        output: 8.0\n",
    "        ```\n",
    "\n",
    "* Conclusion from import packages\n",
    "    * import math\n",
    "    * from math import sqrt\n",
    "    * from math import sqrt as s\n",
    "    * from math import *"
   ]
  },
  {
   "attachments": {},
   "cell_type": "markdown",
   "metadata": {},
   "source": [
    "## Quiz 106: Importing Modules in Python"
   ]
  },
  {
   "attachments": {},
   "cell_type": "markdown",
   "metadata": {},
   "source": [
    "https://www.udemy.com/course/the-data-science-course-complete-data-science-bootcamp/learn/quiz/4451660#overview"
   ]
  },
  {
   "attachments": {},
   "cell_type": "markdown",
   "metadata": {},
   "source": [
    "1. Which of the following would import everything from the math module?\n",
    "    * from math import *\n",
    "2. Which of the following is a technique professional programmers are not likely to use?\n",
    "    * from math import *"
   ]
  },
  {
   "attachments": {},
   "cell_type": "markdown",
   "metadata": {},
   "source": [
    "# Section 31: Part 5: Advanced Statistical Methods in Python"
   ]
  },
  {
   "attachments": {},
   "cell_type": "markdown",
   "metadata": {},
   "source": [
    "## 181. Introduction to Regression Analysis"
   ]
  },
  {
   "attachments": {},
   "cell_type": "markdown",
   "metadata": {},
   "source": [
    "https://www.udemy.com/course/the-data-science-course-complete-data-science-bootcamp/learn/lecture/10776980#content"
   ]
  },
  {
   "attachments": {},
   "cell_type": "markdown",
   "metadata": {},
   "source": [
    "* Regression analysis is one of the most common methods of prediction. It is used whenever we have a causal relationship between variables. A great deal of predictive modeling in practice is done through regression analysis.\n",
    "    * ![Alt text](img/181.%20Introduction%20to%20Regression%20Analysis1.jpg)\n",
    "* It becomes extremely powerful when complimented by techniques like factor analysis, and you can truly find many academic papers based on it. Moreover, fundamentals of regression analysis are used in supervised machine learning. So you can see how regressions are a must for data science.\n",
    "    * ![Alt text](img/181.%20Introduction%20to%20Regression%20Analysis2.jpg)\n",
    "\n",
    "* Example:\n",
    "    * The general point is the following, among other factors, the amount of money you spend depends on the amount of money you earn.\n",
    "    * In the same way the amount of time you devote to this course is affected by your motivation to learn additional statistical methods. You can quantify these relationships and many others using regression analysis.\n",
    "        * * ![Alt text](img/181.%20Introduction%20to%20Regression%20Analysis3.jpg)\n",
    "* Typical step-by-step approach is start with a simple linear regression model, and before long, we'll be dealing with a multiple regression model.\n",
    "    * ![Alt text](img/181.%20Introduction%20to%20Regression%20Analysis4.jpg)"
   ]
  },
  {
   "attachments": {},
   "cell_type": "markdown",
   "metadata": {},
   "source": [
    "## Quiz 107: Introduction to Regression Analysis"
   ]
  },
  {
   "attachments": {},
   "cell_type": "markdown",
   "metadata": {},
   "source": [
    "* Are you ready for regression analysis?\n",
    "    * Yes"
   ]
  },
  {
   "attachments": {},
   "cell_type": "markdown",
   "metadata": {},
   "source": [
    "# Section 32: Advanced Statistical Methods - Linear Regression with StatsModels"
   ]
  },
  {
   "attachments": {},
   "cell_type": "markdown",
   "metadata": {},
   "source": [
    "## 182. The Linear Regression Model"
   ]
  },
  {
   "attachments": {},
   "cell_type": "markdown",
   "metadata": {},
   "source": [
    "https://www.udemy.com/course/the-data-science-course-complete-data-science-bootcamp/learn/lecture/10776984#content"
   ]
  },
  {
   "attachments": {},
   "cell_type": "markdown",
   "metadata": {},
   "source": [
    "* A linear regression is a linear approximation of a casual relationship between two or more variables.\n",
    "    * Regression models are highly valuable. As they are one of the most common ways to make inferences and predictions.\n",
    "* The Process:\n",
    "    * Get sample data.\n",
    "    * Design a model that explains the data.\n",
    "    * And then make predictions for the whole population.\n",
    "    * ![Alt text](img/182.%20The%20Linear%20Regression%20Model1.jpg)\n",
    "* There is a dependent variable, labeled 'Y' being predicted. And independent variables, labeled 'X1', 'X2', and so forth. These are the predictors. 'Y' is a function of the 'X' variables, and the regression model is a linear approximation of this function.\n",
    "    * ![Alt text](img/182.%20The%20Linear%20Regression%20Model2.jpg)\n",
    "* The easiest regression model is the simple linear regression.\n",
    "    * ![Alt text](img/182.%20The%20Linear%20Regression%20Model3.jpg)\n",
    "        * 'Y' is equal to beta zero plus beta one times 'X' plus epsilon.\n",
    "        * 'Y' is the variable we are trying to predict, and is called the dependent variable.\n",
    "        * 'X' is an independent variable.\n",
    "        * But to have a regression, 'Y' must depend on 'X' in some causal way. Whenever there is a change in 'X', such change must translate into a change in 'Y'.\n",
    "\n",
    "* Simple Linear Regression Equation\n",
    "    * ![Alt text](img/182.%20The%20Linear%20Regression%20Model4.jpg)\n",
    "    * The 'Y' here is referred to as 'Y' hat. Whenever we have a hat symbol, it is an estimated or predicted value. 'B' zero is the estimate of the regression constant Beta zero. While 'B' one is the estimate of Beta one and 'X' is the sample data for the independent variable."
   ]
  },
  {
   "attachments": {},
   "cell_type": "markdown",
   "metadata": {},
   "source": [
    "## Quiz 108: The Linear Regression Model"
   ]
  },
  {
   "attachments": {},
   "cell_type": "markdown",
   "metadata": {},
   "source": [
    "https://www.udemy.com/course/the-data-science-course-complete-data-science-bootcamp/learn/quiz/4451910#overview"
   ]
  },
  {
   "attachments": {},
   "cell_type": "markdown",
   "metadata": {},
   "source": [
    "1. You have an ice-cream shop. You noticed a relationship between the number of cones you order and the number of ice-creams you sell. Is this a suitable situation for regression analysis?\n",
    "    * No\n",
    "    * While it is true that, if you run out of cones, you cannot sell anymore ice-creams, this is not regression analysis material. The two variables go hand-in-hand as (usually) each ice-cream requires a cone.\n",
    "2. You are trying to predict the amount of beer consumed in the US, depending on the state. Is this regression material?\n",
    "    * Yes\n",
    "    * Yes, logic shows us that, in different states, people drink different amounts of beer. Some states are warmer; other are colder etc. While many more things will be a part of this regression, such as gender, income etc., this is a good basis for regression analysis."
   ]
  },
  {
   "attachments": {},
   "cell_type": "markdown",
   "metadata": {},
   "source": [
    "## 183. Correlation vs Regression"
   ]
  },
  {
   "attachments": {},
   "cell_type": "markdown",
   "metadata": {},
   "source": [
    "https://www.udemy.com/course/the-data-science-course-complete-data-science-bootcamp/learn/lecture/10776986#overview"
   ]
  },
  {
   "attachments": {},
   "cell_type": "markdown",
   "metadata": {},
   "source": [
    "* The relationship between correlation analysis and regression analysis.\n",
    "    * Correlation does not imply causation.\n",
    "        * First, correlation measures the degree of relationship between two variables. Regression analysis is about how one variable affects another, or what changes it causes to the other.\n",
    "        * Second, correlation doesn't capture causality but the degree of interrelation between the two variables. Regression is based on causality. It shows no degree of connection but cause and effect.\n",
    "        * Third, a property of correlation is that the correlation between x and y is the same as between y and x. This you can easily see from the formula which is symmetrical. Regressions of y on x and x on y yield different results. Think about our example with income and education. Predicting income based on education makes sense, but the opposite does not.\n",
    "        * Finally, the two methods have a very different graphical representation. Linear regression analysis is known for the best fitting line that goes through the data points and minimizes the distance between them, while correlation is a single point.\n",
    "    * ![Alt text](img/183.%20Correlation%20vs%20Regression1.jpg)"
   ]
  },
  {
   "attachments": {},
   "cell_type": "markdown",
   "metadata": {},
   "source": [
    "## Quiz 109: Correlation vs Regression"
   ]
  },
  {
   "attachments": {},
   "cell_type": "markdown",
   "metadata": {},
   "source": [
    "https://www.udemy.com/course/the-data-science-course-complete-data-science-bootcamp/learn/quiz/4451912#overview"
   ]
  },
  {
   "attachments": {},
   "cell_type": "markdown",
   "metadata": {},
   "source": [
    "1. Which statement is false?\n",
    "    * Correlation could be represted as a line\n",
    "    * Correlation is a single point. It cannot be represented as a line.\n",
    "        * What about statement that is True?\n",
    "            * Correlation does not imply causation\n",
    "            * Correlation is symmetrical regarding both variables\n",
    "            * Correlation does not capture the direction of the causal relationship"
   ]
  },
  {
   "attachments": {},
   "cell_type": "markdown",
   "metadata": {},
   "source": [
    "## 184. Geometrical Representation of the Linear Regression Model"
   ]
  },
  {
   "attachments": {},
   "cell_type": "markdown",
   "metadata": {},
   "source": [
    "https://www.udemy.com/course/the-data-science-course-complete-data-science-bootcamp/learn/lecture/10776988#overview"
   ]
  },
  {
   "attachments": {},
   "cell_type": "markdown",
   "metadata": {},
   "source": [
    "* When we plot the data points on an XY plane the regression line is the best fitting line through the data points.\n",
    "    * ![Alt text](img/184.%20Geometrical%20Representation%20of%20the%20Linear%20Regression%20Model1.jpg)\n",
    "    * The gray points that are scattered are the observed values.\n",
    "    * B0 is a constant and is the intercept of the regression line with the Y axis.\n",
    "    * B1 is the slope of the regression line. It shows how much Y changes for each unit change of X.\n",
    "    * The distance between the observed values and the regression line is the estimator of the error term epsilon. It's point estimate is called residual.\n",
    "    * If you draw a perpendicular from an observed point to the regression line, the intercept between that perpendicular and the regression line is a point with a y value equal to Y hat, as we said earlier, given an x, Y hat is the value predicted by the regression line."
   ]
  },
  {
   "attachments": {},
   "cell_type": "markdown",
   "metadata": {},
   "source": [
    "## Quiz 110: Geometrical Representation of the Linear Regression Model"
   ]
  },
  {
   "attachments": {},
   "cell_type": "markdown",
   "metadata": {},
   "source": [
    "https://www.udemy.com/course/the-data-science-course-complete-data-science-bootcamp/learn/quiz/4545320#overview"
   ]
  },
  {
   "attachments": {},
   "cell_type": "markdown",
   "metadata": {},
   "source": [
    "1. Assume you have the following sample regression ŷ = 6 + x. If we draw the regression line, what would be its slope?\n",
    "    * 1\n",
    "    * The slope of the line is the coefficient in front of x"
   ]
  },
  {
   "attachments": {},
   "cell_type": "markdown",
   "metadata": {},
   "source": [
    "## 185. Python Packages Installation"
   ]
  },
  {
   "attachments": {},
   "cell_type": "markdown",
   "metadata": {},
   "source": [
    "https://www.udemy.com/course/the-data-science-course-complete-data-science-bootcamp/learn/lecture/10776992#overview"
   ]
  },
  {
   "attachments": {},
   "cell_type": "markdown",
   "metadata": {},
   "source": [
    "* ![Alt text](img/185.%20Python%20Packages%20Installation1.jpg)\n",
    "* Python packages for data science\n",
    "    * NumPy\n",
    "        * Third party package allowing us to work with multidimensional arrays. They represent a powerful way to organize and process data. Because of that, NumPy is a fundamental library for those who attempt to manipulate larger chunks of information.\n",
    "    * Pandas\n",
    "        * package that enhances NumPy even further. It allows us to organize data in a tabular form and to attach descriptive labels to the rows and the columns of the table, not just numbers, as it is with NumPy. In addition, Pandas is endowed with a broad gamma of tools facilitating our work with various data formats and missing data. Therefore, if you wanna do data science with Python, Pandas is an essential package you will need.\n",
    "    * SciPy\n",
    "        * Python ecosystem containing a lot of tools for scientific calculations, suitable for the fields of mathematics, machine learning, engineering, and more.\n",
    "    * StatsModels\n",
    "        * another package built on top of NumPy and SciPy, which also integrates with Pandas. We will mainly create regressions in StatsModels, as they provide very good summaries, unmatched for educational purposes.\n",
    "    * Matplotlib\n",
    "        * two dimensional plotting library, specially designed for visualization of NumPy computations. In addition, it contains a large set of tools that can help you adjust a graph to your liking.\n",
    "    * Seaborn\n",
    "        * Python visualization library based on Matplotlib. It provides a high level interface for drawing attractive statistical graphics.\n",
    "    * scikit-learn\n",
    "        * one of the most widely-used machine learning libraries.\n",
    "* StatsModels vs Scikit-learn\n",
    "    * StatsModels to create and discuss regressions, but we will also provide the relevant code in sklearn. Think about it in the following way, sklearn is the real deal, but StatsModels makes it easier to understand the real deal. The final sections of the chorus will be based predominantly on sklearn."
   ]
  },
  {
   "attachments": {},
   "cell_type": "markdown",
   "metadata": {},
   "source": [
    "* Write in code for install\n",
    "    * pip install numpy\n",
    "    * pip install pandas\n",
    "    * pip install scipy\n",
    "    * pip install statsmodels\n",
    "    * pip install matplotlib\n",
    "    * pip install seaborn\n",
    "    * pip install scikit-learn"
   ]
  },
  {
   "attachments": {},
   "cell_type": "markdown",
   "metadata": {},
   "source": [
    "## 186. First Regression in Python"
   ]
  },
  {
   "attachments": {},
   "cell_type": "markdown",
   "metadata": {},
   "source": [
    "https://www.udemy.com/course/the-data-science-course-complete-data-science-bootcamp/learn/lecture/10776994#overview"
   ]
  },
  {
   "attachments": {},
   "cell_type": "markdown",
   "metadata": {},
   "source": [
    "#### Import the relevant libraries"
   ]
  },
  {
   "cell_type": "code",
   "execution_count": 14,
   "metadata": {},
   "outputs": [],
   "source": [
    "import numpy as np\n",
    "import pandas as pd\n",
    "import matplotlib.pyplot as plt\n",
    "import statsmodels.api as sm"
   ]
  },
  {
   "attachments": {},
   "cell_type": "markdown",
   "metadata": {},
   "source": [
    "#### Load the data"
   ]
  },
  {
   "cell_type": "code",
   "execution_count": 15,
   "metadata": {},
   "outputs": [
    {
     "data": {
      "text/html": [
       "<div>\n",
       "<style scoped>\n",
       "    .dataframe tbody tr th:only-of-type {\n",
       "        vertical-align: middle;\n",
       "    }\n",
       "\n",
       "    .dataframe tbody tr th {\n",
       "        vertical-align: top;\n",
       "    }\n",
       "\n",
       "    .dataframe thead th {\n",
       "        text-align: right;\n",
       "    }\n",
       "</style>\n",
       "<table border=\"1\" class=\"dataframe\">\n",
       "  <thead>\n",
       "    <tr style=\"text-align: right;\">\n",
       "      <th></th>\n",
       "      <th>SAT</th>\n",
       "      <th>GPA</th>\n",
       "    </tr>\n",
       "  </thead>\n",
       "  <tbody>\n",
       "    <tr>\n",
       "      <th>0</th>\n",
       "      <td>1714</td>\n",
       "      <td>2.40</td>\n",
       "    </tr>\n",
       "    <tr>\n",
       "      <th>1</th>\n",
       "      <td>1664</td>\n",
       "      <td>2.52</td>\n",
       "    </tr>\n",
       "    <tr>\n",
       "      <th>2</th>\n",
       "      <td>1760</td>\n",
       "      <td>2.54</td>\n",
       "    </tr>\n",
       "    <tr>\n",
       "      <th>3</th>\n",
       "      <td>1685</td>\n",
       "      <td>2.74</td>\n",
       "    </tr>\n",
       "    <tr>\n",
       "      <th>4</th>\n",
       "      <td>1693</td>\n",
       "      <td>2.83</td>\n",
       "    </tr>\n",
       "    <tr>\n",
       "      <th>...</th>\n",
       "      <td>...</td>\n",
       "      <td>...</td>\n",
       "    </tr>\n",
       "    <tr>\n",
       "      <th>79</th>\n",
       "      <td>1936</td>\n",
       "      <td>3.71</td>\n",
       "    </tr>\n",
       "    <tr>\n",
       "      <th>80</th>\n",
       "      <td>1810</td>\n",
       "      <td>3.71</td>\n",
       "    </tr>\n",
       "    <tr>\n",
       "      <th>81</th>\n",
       "      <td>1987</td>\n",
       "      <td>3.73</td>\n",
       "    </tr>\n",
       "    <tr>\n",
       "      <th>82</th>\n",
       "      <td>1962</td>\n",
       "      <td>3.76</td>\n",
       "    </tr>\n",
       "    <tr>\n",
       "      <th>83</th>\n",
       "      <td>2050</td>\n",
       "      <td>3.81</td>\n",
       "    </tr>\n",
       "  </tbody>\n",
       "</table>\n",
       "<p>84 rows × 2 columns</p>\n",
       "</div>"
      ],
      "text/plain": [
       "     SAT   GPA\n",
       "0   1714  2.40\n",
       "1   1664  2.52\n",
       "2   1760  2.54\n",
       "3   1685  2.74\n",
       "4   1693  2.83\n",
       "..   ...   ...\n",
       "79  1936  3.71\n",
       "80  1810  3.71\n",
       "81  1987  3.73\n",
       "82  1962  3.76\n",
       "83  2050  3.81\n",
       "\n",
       "[84 rows x 2 columns]"
      ]
     },
     "execution_count": 15,
     "metadata": {},
     "output_type": "execute_result"
    }
   ],
   "source": [
    "data = pd.read_csv('csv/1.01. Simple linear regression.csv')\n",
    "data"
   ]
  },
  {
   "cell_type": "code",
   "execution_count": 16,
   "metadata": {},
   "outputs": [
    {
     "data": {
      "text/html": [
       "<div>\n",
       "<style scoped>\n",
       "    .dataframe tbody tr th:only-of-type {\n",
       "        vertical-align: middle;\n",
       "    }\n",
       "\n",
       "    .dataframe tbody tr th {\n",
       "        vertical-align: top;\n",
       "    }\n",
       "\n",
       "    .dataframe thead th {\n",
       "        text-align: right;\n",
       "    }\n",
       "</style>\n",
       "<table border=\"1\" class=\"dataframe\">\n",
       "  <thead>\n",
       "    <tr style=\"text-align: right;\">\n",
       "      <th></th>\n",
       "      <th>SAT</th>\n",
       "      <th>GPA</th>\n",
       "    </tr>\n",
       "  </thead>\n",
       "  <tbody>\n",
       "    <tr>\n",
       "      <th>count</th>\n",
       "      <td>84.000000</td>\n",
       "      <td>84.000000</td>\n",
       "    </tr>\n",
       "    <tr>\n",
       "      <th>mean</th>\n",
       "      <td>1845.273810</td>\n",
       "      <td>3.330238</td>\n",
       "    </tr>\n",
       "    <tr>\n",
       "      <th>std</th>\n",
       "      <td>104.530661</td>\n",
       "      <td>0.271617</td>\n",
       "    </tr>\n",
       "    <tr>\n",
       "      <th>min</th>\n",
       "      <td>1634.000000</td>\n",
       "      <td>2.400000</td>\n",
       "    </tr>\n",
       "    <tr>\n",
       "      <th>25%</th>\n",
       "      <td>1772.000000</td>\n",
       "      <td>3.190000</td>\n",
       "    </tr>\n",
       "    <tr>\n",
       "      <th>50%</th>\n",
       "      <td>1846.000000</td>\n",
       "      <td>3.380000</td>\n",
       "    </tr>\n",
       "    <tr>\n",
       "      <th>75%</th>\n",
       "      <td>1934.000000</td>\n",
       "      <td>3.502500</td>\n",
       "    </tr>\n",
       "    <tr>\n",
       "      <th>max</th>\n",
       "      <td>2050.000000</td>\n",
       "      <td>3.810000</td>\n",
       "    </tr>\n",
       "  </tbody>\n",
       "</table>\n",
       "</div>"
      ],
      "text/plain": [
       "               SAT        GPA\n",
       "count    84.000000  84.000000\n",
       "mean   1845.273810   3.330238\n",
       "std     104.530661   0.271617\n",
       "min    1634.000000   2.400000\n",
       "25%    1772.000000   3.190000\n",
       "50%    1846.000000   3.380000\n",
       "75%    1934.000000   3.502500\n",
       "max    2050.000000   3.810000"
      ]
     },
     "execution_count": 16,
     "metadata": {},
     "output_type": "execute_result"
    }
   ],
   "source": [
    "data.describe()\n",
    "# sample 84 student\n",
    "# SAT = Total score of Critical Reading + Mathematics + Writing\n",
    "# GPA = Grade Point average (at graduation from University)"
   ]
  },
  {
   "attachments": {},
   "cell_type": "markdown",
   "metadata": {},
   "source": [
    "#### Create first regression -> to predicts the GPA of a student based on SAT score."
   ]
  },
  {
   "attachments": {},
   "cell_type": "markdown",
   "metadata": {},
   "source": [
    "* Timeline:\n",
    "    * ![Alt text](img/186.%20First%20Regression%20in%20Python1.jpg)\n",
    "    * You sit the SAT and get a score. With this score, you apply to college. The next four years you attend college and graduate, receiving many grades forming your GPA, so that's the timeline.\n",
    "* ![Alt text](img/186.%20First%20Regression%20in%20Python2.jpg)"
   ]
  },
  {
   "attachments": {},
   "cell_type": "markdown",
   "metadata": {},
   "source": [
    "##### Define the dependent and the independent variables"
   ]
  },
  {
   "attachments": {},
   "cell_type": "markdown",
   "metadata": {},
   "source": [
    "* Formula:\n",
    "    * ![Alt text](img/186.%20First%20Regression%20in%20Python3.jpg)"
   ]
  },
  {
   "cell_type": "code",
   "execution_count": 17,
   "metadata": {},
   "outputs": [],
   "source": [
    "y = data['GPA']\n",
    "x1 = data['SAT']"
   ]
  },
  {
   "attachments": {},
   "cell_type": "markdown",
   "metadata": {},
   "source": [
    "#### Explore the data"
   ]
  },
  {
   "cell_type": "code",
   "execution_count": 18,
   "metadata": {},
   "outputs": [
    {
     "data": {
      "image/png": "[encoded data removed]",
      "text/plain": [
       "<Figure size 432x288 with 1 Axes>"
      ]
     },
     "metadata": {},
     "output_type": "display_data"
    }
   ],
   "source": [
    "plt.scatter(x1,y)\n",
    "plt.xlabel('SAT', fontsize=20)\n",
    "plt.ylabel('GPA', fontsize=20)\n",
    "plt.show()"
   ]
  },
  {
   "attachments": {},
   "cell_type": "markdown",
   "metadata": {},
   "source": [
    "* Each point on the graph represents a different student. \n",
    "    * For instance, this is a student who scored around 1900 on the SAT and graduated with a 3.4 GPA. \n",
    "    * Observing all data points, we can see that there is a strong relationship between SAT and GPA. \n",
    "    * In general, the higher the SAT of a student, the higher their GPA."
   ]
  },
  {
   "attachments": {},
   "cell_type": "markdown",
   "metadata": {},
   "source": [
    "#### Regression"
   ]
  },
  {
   "attachments": {},
   "cell_type": "markdown",
   "metadata": {},
   "source": [
    "* Next, we need to create a new variable which call X.\n",
    "    * We have our X one, but we don't have an X zero. In fact, in the regression equation, there is no explicit X zero.\n",
    "    * The coefficient B zero is alone. That can be represented as B zero times one\n",
    "    * ![Alt text](img/186.%20First%20Regression%20in%20Python4.jpg)\n",
    "        * So if there was an X zero, it would always be one. It is really practical for computational purposes to incorporate this notion into the equation, and that's how we estimate the intercept B zero.\n",
    "* In terms of code, stats models uses the method add constant. So let's declare a new variable X equals SM dot add underscore constant X one.\n",
    "* Right after we do that, we will create another variable named results which will contain the output of the ordinary lease squares regression, or OLS.\n",
    "* As arguments, we must add the dependent variable Y and the newly defined x.\n",
    "* At the end, we will need the fit method, which you can think of as a method that will apply a specific estimation technique to obtain the fit of the model."
   ]
  },
  {
   "cell_type": "code",
   "execution_count": 19,
   "metadata": {},
   "outputs": [
    {
     "data": {
      "text/html": [
       "<table class=\"simpletable\">\n",
       "<caption>OLS Regression Results</caption>\n",
       "<tr>\n",
       "  <th>Dep. Variable:</th>           <td>GPA</td>       <th>  R-squared:         </th> <td>   0.406</td>\n",
       "</tr>\n",
       "<tr>\n",
       "  <th>Model:</th>                   <td>OLS</td>       <th>  Adj. R-squared:    </th> <td>   0.399</td>\n",
       "</tr>\n",
       "<tr>\n",
       "  <th>Method:</th>             <td>Least Squares</td>  <th>  F-statistic:       </th> <td>   56.05</td>\n",
       "</tr>\n",
       "<tr>\n",
       "  <th>Date:</th>             <td>Mon, 26 Dec 2022</td> <th>  Prob (F-statistic):</th> <td>7.20e-11</td>\n",
       "</tr>\n",
       "<tr>\n",
       "  <th>Time:</th>                 <td>19:32:40</td>     <th>  Log-Likelihood:    </th> <td>  12.672</td>\n",
       "</tr>\n",
       "<tr>\n",
       "  <th>No. Observations:</th>      <td>    84</td>      <th>  AIC:               </th> <td>  -21.34</td>\n",
       "</tr>\n",
       "<tr>\n",
       "  <th>Df Residuals:</th>          <td>    82</td>      <th>  BIC:               </th> <td>  -16.48</td>\n",
       "</tr>\n",
       "<tr>\n",
       "  <th>Df Model:</th>              <td>     1</td>      <th>                     </th>     <td> </td>   \n",
       "</tr>\n",
       "<tr>\n",
       "  <th>Covariance Type:</th>      <td>nonrobust</td>    <th>                     </th>     <td> </td>   \n",
       "</tr>\n",
       "</table>\n",
       "<table class=\"simpletable\">\n",
       "<tr>\n",
       "    <td></td>       <th>coef</th>     <th>std err</th>      <th>t</th>      <th>P>|t|</th>  <th>[0.025</th>    <th>0.975]</th>  \n",
       "</tr>\n",
       "<tr>\n",
       "  <th>const</th> <td>    0.2750</td> <td>    0.409</td> <td>    0.673</td> <td> 0.503</td> <td>   -0.538</td> <td>    1.088</td>\n",
       "</tr>\n",
       "<tr>\n",
       "  <th>SAT</th>   <td>    0.0017</td> <td>    0.000</td> <td>    7.487</td> <td> 0.000</td> <td>    0.001</td> <td>    0.002</td>\n",
       "</tr>\n",
       "</table>\n",
       "<table class=\"simpletable\">\n",
       "<tr>\n",
       "  <th>Omnibus:</th>       <td>12.839</td> <th>  Durbin-Watson:     </th> <td>   0.950</td>\n",
       "</tr>\n",
       "<tr>\n",
       "  <th>Prob(Omnibus):</th> <td> 0.002</td> <th>  Jarque-Bera (JB):  </th> <td>  16.155</td>\n",
       "</tr>\n",
       "<tr>\n",
       "  <th>Skew:</th>          <td>-0.722</td> <th>  Prob(JB):          </th> <td>0.000310</td>\n",
       "</tr>\n",
       "<tr>\n",
       "  <th>Kurtosis:</th>      <td> 4.590</td> <th>  Cond. No.          </th> <td>3.29e+04</td>\n",
       "</tr>\n",
       "</table><br/><br/>Notes:<br/>[1] Standard Errors assume that the covariance matrix of the errors is correctly specified.<br/>[2] The condition number is large, 3.29e+04. This might indicate that there are<br/>strong multicollinearity or other numerical problems."
      ],
      "text/plain": [
       "<class 'statsmodels.iolib.summary.Summary'>\n",
       "\"\"\"\n",
       "                            OLS Regression Results                            \n",
       "==============================================================================\n",
       "Dep. Variable:                    GPA   R-squared:                       0.406\n",
       "Model:                            OLS   Adj. R-squared:                  0.399\n",
       "Method:                 Least Squares   F-statistic:                     56.05\n",
       "Date:                Mon, 26 Dec 2022   Prob (F-statistic):           7.20e-11\n",
       "Time:                        19:32:40   Log-Likelihood:                 12.672\n",
       "No. Observations:                  84   AIC:                            -21.34\n",
       "Df Residuals:                      82   BIC:                            -16.48\n",
       "Df Model:                           1                                         \n",
       "Covariance Type:            nonrobust                                         \n",
       "==============================================================================\n",
       "                 coef    std err          t      P>|t|      [0.025      0.975]\n",
       "------------------------------------------------------------------------------\n",
       "const          0.2750      0.409      0.673      0.503      -0.538       1.088\n",
       "SAT            0.0017      0.000      7.487      0.000       0.001       0.002\n",
       "==============================================================================\n",
       "Omnibus:                       12.839   Durbin-Watson:                   0.950\n",
       "Prob(Omnibus):                  0.002   Jarque-Bera (JB):               16.155\n",
       "Skew:                          -0.722   Prob(JB):                     0.000310\n",
       "Kurtosis:                       4.590   Cond. No.                     3.29e+04\n",
       "==============================================================================\n",
       "\n",
       "Notes:\n",
       "[1] Standard Errors assume that the covariance matrix of the errors is correctly specified.\n",
       "[2] The condition number is large, 3.29e+04. This might indicate that there are\n",
       "strong multicollinearity or other numerical problems.\n",
       "\"\"\""
      ]
     },
     "execution_count": 19,
     "metadata": {},
     "output_type": "execute_result"
    }
   ],
   "source": [
    "x = sm.add_constant(x1)\n",
    "results = sm.OLS(y, x).fit()\n",
    "results.summary()"
   ]
  },
  {
   "cell_type": "code",
   "execution_count": 20,
   "metadata": {},
   "outputs": [
    {
     "data": {
      "text/plain": [
       "<function matplotlib.pyplot.show(close=None, block=None)>"
      ]
     },
     "execution_count": 20,
     "metadata": {},
     "output_type": "execute_result"
    },
    {
     "data": {
      "image/png": "[encoded data removed]",
      "text/plain": [
       "<Figure size 432x288 with 1 Axes>"
      ]
     },
     "metadata": {},
     "output_type": "display_data"
    }
   ],
   "source": [
    "plt.scatter(x1, y)\n",
    "yhat = 0.0017 * x1 + 0.275\n",
    "fig = plt.plot(x1, yhat, lw=4, c='orange', label='regression line')\n",
    "plt.xlabel('SAT', fontsize=20)\n",
    "plt.ylabel('GAP', fontsize=20)\n",
    "plt.show"
   ]
  },
  {
   "attachments": {},
   "cell_type": "markdown",
   "metadata": {},
   "source": [
    "* based on regression line (orange) there is a strong relationship between SAT and GPA. "
   ]
  },
  {
   "attachments": {},
   "cell_type": "markdown",
   "metadata": {},
   "source": [
    "## 187. First Regression in Python Exercise"
   ]
  },
  {
   "attachments": {},
   "cell_type": "markdown",
   "metadata": {},
   "source": [
    "https://www.udemy.com/course/the-data-science-course-complete-data-science-bootcamp/learn/lecture/10887944#overview"
   ]
  },
  {
   "attachments": {},
   "cell_type": "markdown",
   "metadata": {},
   "source": [
    "## 188. Using Seaborn for Graphs"
   ]
  },
  {
   "attachments": {},
   "cell_type": "markdown",
   "metadata": {},
   "source": [
    "https://www.udemy.com/course/the-data-science-course-complete-data-science-bootcamp/learn/lecture/10776998#overview"
   ]
  },
  {
   "attachments": {},
   "cell_type": "markdown",
   "metadata": {},
   "source": [
    "* this lecture continue from section 32 no.186\n",
    "\n",
    "* Import seaborn as the conventional SNS and add the following line of code, sns.set(). \n",
    "    * This method overrides the style and the graphics of all matplotlib graphs."
   ]
  },
  {
   "cell_type": "code",
   "execution_count": 12,
   "metadata": {},
   "outputs": [
    {
     "data": {
      "text/plain": [
       "<function matplotlib.pyplot.show(close=None, block=None)>"
      ]
     },
     "execution_count": 12,
     "metadata": {},
     "output_type": "execute_result"
    },
    {
     "data": {
      "image/png": "[encoded data removed]",
      "text/plain": [
       "<Figure size 432x288 with 1 Axes>"
      ]
     },
     "metadata": {},
     "output_type": "display_data"
    }
   ],
   "source": [
    "import seaborn as sns\n",
    "sns.set()\n",
    "\n",
    "plt.scatter(x1, y)\n",
    "yhat = 0.0017 * x1 + 0.275\n",
    "fig = plt.plot(x1, yhat, lw=4, c='orange', label='regression line')\n",
    "plt.xlabel('SAT', fontsize=20)\n",
    "plt.ylabel('GAP', fontsize=20)\n",
    "plt.show"
   ]
  },
  {
   "attachments": {},
   "cell_type": "markdown",
   "metadata": {},
   "source": [
    "* Difference matplotlib default style vs Seaborn\n",
    "    * ![Alt text](img/188.%20Using%20Seaborn%20for%20Graphs1.jpg)"
   ]
  },
  {
   "attachments": {},
   "cell_type": "markdown",
   "metadata": {},
   "source": [
    "## 189. How to Interpret the Regression Table"
   ]
  },
  {
   "attachments": {},
   "cell_type": "markdown",
   "metadata": {},
   "source": [
    "## Quiz 111: How to Interpret the Regression Table"
   ]
  },
  {
   "attachments": {},
   "cell_type": "markdown",
   "metadata": {},
   "source": [
    "## 190. Decomposition of Variability"
   ]
  },
  {
   "attachments": {},
   "cell_type": "markdown",
   "metadata": {},
   "source": [
    "## Quiz 112: Decomposition of Variability"
   ]
  },
  {
   "attachments": {},
   "cell_type": "markdown",
   "metadata": {},
   "source": [
    "## 191. What is the OLS?"
   ]
  },
  {
   "attachments": {},
   "cell_type": "markdown",
   "metadata": {},
   "source": [
    "## Quiz 113: What is the OLS"
   ]
  },
  {
   "attachments": {},
   "cell_type": "markdown",
   "metadata": {},
   "source": [
    "## 192. R-Squared"
   ]
  },
  {
   "attachments": {},
   "cell_type": "markdown",
   "metadata": {},
   "source": [
    "## Quiz 114: R-Squared"
   ]
  },
  {
   "attachments": {},
   "cell_type": "markdown",
   "metadata": {},
   "source": [
    "## "
   ]
  },
  {
   "attachments": {},
   "cell_type": "markdown",
   "metadata": {},
   "source": [
    "## "
   ]
  },
  {
   "attachments": {},
   "cell_type": "markdown",
   "metadata": {},
   "source": [
    "## "
   ]
  },
  {
   "attachments": {},
   "cell_type": "markdown",
   "metadata": {},
   "source": [
    "## "
   ]
  },
  {
   "attachments": {},
   "cell_type": "markdown",
   "metadata": {},
   "source": [
    "## "
   ]
  },
  {
   "attachments": {},
   "cell_type": "markdown",
   "metadata": {},
   "source": [
    "## "
   ]
  },
  {
   "attachments": {},
   "cell_type": "markdown",
   "metadata": {},
   "source": [
    "## "
   ]
  },
  {
   "attachments": {},
   "cell_type": "markdown",
   "metadata": {},
   "source": [
    "## "
   ]
  },
  {
   "attachments": {},
   "cell_type": "markdown",
   "metadata": {},
   "source": [
    "## "
   ]
  },
  {
   "attachments": {},
   "cell_type": "markdown",
   "metadata": {},
   "source": [
    "## "
   ]
  },
  {
   "attachments": {},
   "cell_type": "markdown",
   "metadata": {},
   "source": [
    "## "
   ]
  },
  {
   "attachments": {},
   "cell_type": "markdown",
   "metadata": {},
   "source": [
    "## "
   ]
  },
  {
   "attachments": {},
   "cell_type": "markdown",
   "metadata": {},
   "source": [
    "## "
   ]
  },
  {
   "attachments": {},
   "cell_type": "markdown",
   "metadata": {},
   "source": [
    "## "
   ]
  },
  {
   "attachments": {},
   "cell_type": "markdown",
   "metadata": {},
   "source": [
    "## "
   ]
  },
  {
   "attachments": {},
   "cell_type": "markdown",
   "metadata": {},
   "source": [
    "## "
   ]
  },
  {
   "attachments": {},
   "cell_type": "markdown",
   "metadata": {},
   "source": [
    "## "
   ]
  },
  {
   "attachments": {},
   "cell_type": "markdown",
   "metadata": {},
   "source": [
    "## "
   ]
  },
  {
   "attachments": {},
   "cell_type": "markdown",
   "metadata": {},
   "source": [
    "## "
   ]
  },
  {
   "attachments": {},
   "cell_type": "markdown",
   "metadata": {},
   "source": [
    "## "
   ]
  },
  {
   "attachments": {},
   "cell_type": "markdown",
   "metadata": {},
   "source": [
    "## "
   ]
  },
  {
   "attachments": {},
   "cell_type": "markdown",
   "metadata": {},
   "source": [
    "## "
   ]
  },
  {
   "attachments": {},
   "cell_type": "markdown",
   "metadata": {},
   "source": [
    "## "
   ]
  },
  {
   "attachments": {},
   "cell_type": "markdown",
   "metadata": {},
   "source": [
    "## "
   ]
  },
  {
   "attachments": {},
   "cell_type": "markdown",
   "metadata": {},
   "source": [
    "## "
   ]
  },
  {
   "attachments": {},
   "cell_type": "markdown",
   "metadata": {},
   "source": [
    "## "
   ]
  },
  {
   "attachments": {},
   "cell_type": "markdown",
   "metadata": {},
   "source": [
    "## "
   ]
  },
  {
   "attachments": {},
   "cell_type": "markdown",
   "metadata": {},
   "source": [
    "## "
   ]
  }
 ],
 "metadata": {
  "kernelspec": {
   "display_name": "Python 3 (ipykernel)",
   "language": "python",
   "name": "python3"
  },
  "language_info": {
   "codemirror_mode": {
    "name": "ipython",
    "version": 3
   },
   "file_extension": ".py",
   "mimetype": "text/x-python",
   "name": "python",
   "nbconvert_exporter": "python",
   "pygments_lexer": "ipython3",
   "version": "3.9.13"
  },
  "vscode": {
   "interpreter": {
    "hash": "1b600a3438a79bc98971c3547d28f531d0c8ed6c91b96b1480a504fa30005dbe"
   }
  }
 },
 "nbformat": 4,
 "nbformat_minor": 2
}
