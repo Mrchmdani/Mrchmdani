{
 "cells": [
  {
   "cell_type": "markdown",
   "metadata": {},
   "source": [
    "# **The Field of Data Science - The Various Data Science Disciplines**"
   ]
  },
  {
   "cell_type": "markdown",
   "metadata": {},
   "source": [
    "## Data Science and Business Buzzwords: Why are there so Many?"
   ]
  },
  {
   "cell_type": "markdown",
   "metadata": {},
   "source": [
    "https://www.udemy.com/course/the-data-science-course-complete-data-science-bootcamp/learn/lecture/10762750#overview"
   ]
  },
  {
   "cell_type": "markdown",
   "metadata": {},
   "source": [
    "Data Science and Business Buzzwords\n",
    "\n",
    "Job Confucion:\n",
    "\n",
    "1. The constant evolution of the data science industry\n",
    "    * Statistics, 25 years ago, responsible for:\n",
    "        * gathering and cleaning data sets\n",
    "        * applying statistical methods\n",
    "            * growth of data\n",
    "            * radical improvement of technology\n",
    "        * extracting patterns from data\n",
    "    * Data Mining, 20 years ago, responsible for:\n",
    "        * gathering and cleaning data sets\n",
    "        * applying statistical methods\n",
    "            * growth of data\n",
    "            * radical improvement of technology\n",
    "        * extracting patterns from data\n",
    "            * new models\n",
    "        * performing more accurate forecast\n",
    "    * Predictive Analytics, 10 years ago, responsible for:\n",
    "        * gathering and cleaning data sets\n",
    "        * applying statistical methods\n",
    "        * extracting patterns from data\n",
    "        * performing more accurate forecast\n",
    "    * Predictive Analytics, Now, responsible for:\n",
    "        * All Above\n",
    "2. HR Managers\n",
    "    * Label job positions inaccurately"
   ]
  },
  {
   "cell_type": "markdown",
   "metadata": {},
   "source": [
    "## What is the difference between Analysis and Analytics"
   ]
  },
  {
   "cell_type": "markdown",
   "metadata": {},
   "source": [
    "https://www.udemy.com/course/the-data-science-course-complete-data-science-bootcamp/learn/lecture/10762754#content"
   ]
  },
  {
   "cell_type": "markdown",
   "metadata": {},
   "source": [
    "1. Analysis\n",
    "    * Perform analysis data that have already happened in the past and explaining how or why something happen\n",
    "        * Separating entire data into multiple data and study them individualy, then examine how they relate to other parts. \n",
    "2. Analytics\n",
    "    * Explore potential future events instead of past events\n",
    "    * Analytics is essentially the application of logical and computational reasoning to the component parts obtained in an analysis.\n",
    "    * Looking for patterns and exploring what you could do with them in the future."
   ]
  },
  {
   "cell_type": "markdown",
   "metadata": {},
   "source": [
    "Analytics Branches\n",
    "1. Qualitative Analytics (intuition + analysis)\n",
    "    * using your intuition and experience in conjunction with the analysis to plan your next business move.\n",
    "2. Quantitative Analytics (formula + algorithms)\n",
    "    * applying formulas and algorithms to numbers you have gathered from your analysis."
   ]
  },
  {
   "cell_type": "markdown",
   "metadata": {},
   "source": [
    "To Do:\n",
    "1. Perform qualitative analysis, to explain how or why a story ended the way it did.\n",
    "2. Perform quantitative analysis, working with past data to explain how sales decreased last summer.\n",
    "3. Perform qualitative analytics, to plan next business move.\n",
    "4. Perform qualitative analytics, by applying formulas and algorithms for the future"
   ]
  },
  {
   "cell_type": "markdown",
   "metadata": {},
   "source": [
    "* Analysis != Analytics\n",
    "* Data Analysis != Data Analytics\n",
    "* Business Analysis != Business Analytics"
   ]
  },
  {
   "cell_type": "markdown",
   "metadata": {},
   "source": [
    "## Business Analytics, Data Analytics, and Data Science: An Introduction"
   ]
  },
  {
   "cell_type": "code",
   "execution_count": 3,
   "metadata": {},
   "outputs": [
    {
     "data": {
      "text/html": [
       "<img src=\"https://github.com/Mrchmdani/Mrchmdani/blob/master/MyLearning/Udemy/The%20Data%20Science%20Course%202022%20-%20Complete%20Data%20Science%20Bootcamp/img/1.%20Business%20Analytics,%20Data%20Analytics,%20and%20Data%20Science.jpg\"/>"
      ],
      "text/plain": [
       "<IPython.core.display.Image object>"
      ]
     },
     "execution_count": 3,
     "metadata": {},
     "output_type": "execute_result"
    }
   ],
   "source": [
    "from IPython.display import Image\n",
    "Image(url= \"https://github.com/Mrchmdani/Mrchmdani/blob/master/MyLearning/Udemy/The%20Data%20Science%20Course%202022%20-%20Complete%20Data%20Science%20Bootcamp/img/1.%20Business%20Analytics,%20Data%20Analytics,%20and%20Data%20Science.jpg\")\n"
   ]
  },
  {
   "cell_type": "markdown",
   "metadata": {},
   "source": [
    "* Business activities would overlap the rectangle because some are data-driven, while others are subjective or experience-driven.\n",
    "* Some of the terms refer to activities that aim to explain past behavior, while others refer to activities used for predicting future behavior.\n",
    "* Data science is a discipline reliant on data availability, while business analytics does not completely rely on data. However, data science incorporates part of data analytics, mostly the part that uses complex mathematical, statistical and programming tools.\n",
    "* Data science can be used to improve the accuracy of predictions based on data extracted from various activities typical for drilling efficiency, and that certainly isn't business analytics."
   ]
  },
  {
   "cell_type": "markdown",
   "metadata": {},
   "source": [
    "## Continuing with BI, ML, and AI"
   ]
  },
  {
   "cell_type": "markdown",
   "metadata": {},
   "source": []
  }
 ],
 "metadata": {
  "kernelspec": {
   "display_name": "Python 3.9.13 64-bit (microsoft store)",
   "language": "python",
   "name": "python3"
  },
  "language_info": {
   "codemirror_mode": {
    "name": "ipython",
    "version": 3
   },
   "file_extension": ".py",
   "mimetype": "text/x-python",
   "name": "python",
   "nbconvert_exporter": "python",
   "pygments_lexer": "ipython3",
   "version": "3.9.13"
  },
  "orig_nbformat": 4,
  "vscode": {
   "interpreter": {
    "hash": "1b600a3438a79bc98971c3547d28f531d0c8ed6c91b96b1480a504fa30005dbe"
   }
  }
 },
 "nbformat": 4,
 "nbformat_minor": 2
}
