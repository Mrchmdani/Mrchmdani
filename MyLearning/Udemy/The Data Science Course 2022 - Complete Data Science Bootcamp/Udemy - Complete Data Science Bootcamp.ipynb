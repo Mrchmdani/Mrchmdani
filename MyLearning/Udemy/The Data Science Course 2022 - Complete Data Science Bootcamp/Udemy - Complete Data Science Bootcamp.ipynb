{
 "cells": [
  {
   "cell_type": "markdown",
   "metadata": {},
   "source": [
    "# **The Field of Data Science - The Various Data Science Disciplines**"
   ]
  },
  {
   "cell_type": "markdown",
   "metadata": {},
   "source": [
    "## Data Science and Business Buzzwords: Why are there so Many?"
   ]
  },
  {
   "cell_type": "markdown",
   "metadata": {},
   "source": [
    "https://www.udemy.com/course/the-data-science-course-complete-data-science-bootcamp/learn/lecture/10762750#overview"
   ]
  },
  {
   "cell_type": "markdown",
   "metadata": {},
   "source": [
    "Data Science and Business Buzzwords\n",
    "\n",
    "Job Confucion:\n",
    "\n",
    "1. The constant evolution of the data science industry\n",
    "    * Statistics, 25 years ago, responsible for:\n",
    "        * gathering and cleaning data sets\n",
    "        * applying statistical methods\n",
    "            * growth of data\n",
    "            * radical improvement of technology\n",
    "        * extracting patterns from data\n",
    "    * Data Mining, 20 years ago, responsible for:\n",
    "        * gathering and cleaning data sets\n",
    "        * applying statistical methods\n",
    "            * growth of data\n",
    "            * radical improvement of technology\n",
    "        * extracting patterns from data\n",
    "            * new models\n",
    "        * performing more accurate forecast\n",
    "    * Predictive Analytics, 10 years ago, responsible for:\n",
    "        * gathering and cleaning data sets\n",
    "        * applying statistical methods\n",
    "        * extracting patterns from data\n",
    "        * performing more accurate forecast\n",
    "    * Predictive Analytics, Now, responsible for:\n",
    "        * All Above\n",
    "2. HR Managers\n",
    "    * Label job positions inaccurately"
   ]
  },
  {
   "cell_type": "markdown",
   "metadata": {},
   "source": [
    "## What is the difference between Analysis and Analytics"
   ]
  },
  {
   "cell_type": "markdown",
   "metadata": {},
   "source": [
    "https://www.udemy.com/course/the-data-science-course-complete-data-science-bootcamp/learn/lecture/10762754#content"
   ]
  },
  {
   "cell_type": "markdown",
   "metadata": {},
   "source": [
    "### Analysis vs Analytics"
   ]
  },
  {
   "cell_type": "markdown",
   "metadata": {},
   "source": [
    "1. Analysis\n",
    "    * Perform analysis data that have already happened in the past and explaining how or why something happen\n",
    "        * Separating entire data into multiple data and study them individualy, then examine how they relate to other parts. \n",
    "2. Analytics\n",
    "    * Explore potential future events instead of past events\n",
    "    * Analytics is essentially the application of logical and computational reasoning to the component parts obtained in an analysis.\n",
    "    * Looking for patterns and exploring what you could do with them in the future."
   ]
  },
  {
   "cell_type": "markdown",
   "metadata": {},
   "source": [
    "### Analytics Branches"
   ]
  },
  {
   "cell_type": "markdown",
   "metadata": {},
   "source": [
    "1. Qualitative Analytics (intuition + analysis)\n",
    "    * using your intuition and experience in conjunction with the analysis to plan your next business move.\n",
    "2. Quantitative Analytics (formula + algorithms)\n",
    "    * applying formulas and algorithms to numbers you have gathered from your analysis."
   ]
  },
  {
   "cell_type": "markdown",
   "metadata": {},
   "source": [
    "### To Do:"
   ]
  },
  {
   "cell_type": "markdown",
   "metadata": {},
   "source": [
    "1. Perform qualitative analysis, to explain how or why a story ended the way it did.\n",
    "2. Perform quantitative analysis, working with past data to explain how sales decreased last summer.\n",
    "3. Perform qualitative analytics, to plan next business move.\n",
    "4. Perform qualitative analytics, by applying formulas and algorithms for the future"
   ]
  },
  {
   "cell_type": "markdown",
   "metadata": {},
   "source": [
    "* Analysis != Analytics\n",
    "* Data Analysis != Data Analytics\n",
    "* Business Analysis != Business Analytics"
   ]
  },
  {
   "cell_type": "markdown",
   "metadata": {},
   "source": [
    "## Business Analytics, Data Analytics, and Data Science: An Introduction"
   ]
  },
  {
   "cell_type": "markdown",
   "metadata": {},
   "source": [
    "https://www.udemy.com/course/the-data-science-course-complete-data-science-bootcamp/learn/lecture/10762762#overview"
   ]
  },
  {
   "cell_type": "markdown",
   "metadata": {},
   "source": [
    "### Diagram"
   ]
  },
  {
   "cell_type": "markdown",
   "metadata": {},
   "source": [
    "![Alt text](img/365_DataScience_Diagram.jpg)"
   ]
  },
  {
   "cell_type": "markdown",
   "metadata": {},
   "source": [
    "* Business activities would overlap the rectangle because some are data-driven, while others are subjective or experience-driven.\n",
    "* Some of the terms refer to activities that aim to explain past behavior, while others refer to activities used for predicting future behavior.\n",
    "* Data science is a discipline reliant on data availability, while business analytics does not completely rely on data. However, data science incorporates part of data analytics, mostly the part that uses complex mathematical, statistical and programming tools.\n",
    "* Data science can be used to improve the accuracy of predictions based on data extracted from various activities typical for drilling efficiency, and that certainly isn't business analytics."
   ]
  },
  {
   "cell_type": "markdown",
   "metadata": {},
   "source": [
    "## Continuing with BI, ML, and AI"
   ]
  },
  {
   "cell_type": "markdown",
   "metadata": {},
   "source": [
    "https://www.udemy.com/course/the-data-science-course-complete-data-science-bootcamp/learn/lecture/10762768#content"
   ]
  },
  {
   "cell_type": "markdown",
   "metadata": {},
   "source": [
    "![Alt text](img/365_DataScience_Diagram.jpg)"
   ]
  },
  {
   "cell_type": "markdown",
   "metadata": {},
   "source": [
    "### Business Intelegence (BI)"
   ]
  },
  {
   "cell_type": "markdown",
   "metadata": {},
   "source": [
    "* Business intelligence or BI, is the process of analyzing and reporting historical business data.\n",
    "    * After reports and dashboards have been prepared they can be used to make informed strategic and tactical business decisions by end users, such as the general manager.\n",
    "* Business intelligence aims to explain past events using business data."
   ]
  },
  {
   "cell_type": "markdown",
   "metadata": {},
   "source": [
    "### Machine Learning (ML)"
   ]
  },
  {
   "cell_type": "markdown",
   "metadata": {},
   "source": [
    "* The ability of machines to predict outcomes without being explicitly programmed\n",
    "* ML'S about creating and implementing algorithms that let machines receive data and use this data to make predictions, analyze patterns and give recommendations on their own.\n",
    "* Machine learning cannot be implemented without data."
   ]
  },
  {
   "cell_type": "markdown",
   "metadata": {},
   "source": [
    "### Artificial Intelligence (AI)"
   ]
  },
  {
   "cell_type": "markdown",
   "metadata": {},
   "source": [
    "* simulating human knowledge and decision making with computers."
   ]
  },
  {
   "cell_type": "markdown",
   "metadata": {},
   "source": [
    "##  A Breakdown of our Data Science Infographic"
   ]
  },
  {
   "cell_type": "markdown",
   "metadata": {},
   "source": [
    "https://www.udemy.com/course/the-data-science-course-complete-data-science-bootcamp/learn/lecture/10762772#content"
   ]
  },
  {
   "cell_type": "markdown",
   "metadata": {},
   "source": [
    "![Alt text](img/365_DataScience.png)"
   ]
  },
  {
   "cell_type": "markdown",
   "metadata": {},
   "source": [
    "## Applying Traditional Data, Big Data, BI, Traditional Data Science and ML"
   ]
  },
  {
   "cell_type": "markdown",
   "metadata": {},
   "source": [
    "### Data"
   ]
  },
  {
   "cell_type": "markdown",
   "metadata": {},
   "source": [
    "#### Traditional Data"
   ]
  },
  {
   "cell_type": "markdown",
   "metadata": {},
   "source": [
    "* Data in the form of tables containing numeric or text values.\n",
    "* Data that is structured and stored in databases which can be managed from one computer."
   ]
  },
  {
   "cell_type": "markdown",
   "metadata": {},
   "source": [
    "#### Big Data"
   ]
  },
  {
   "cell_type": "markdown",
   "metadata": {},
   "source": [
    "* 'big data' is a term reserved for extremely large data.\n",
    "* the data could be in various formats.\n",
    "* It can be structured, semi-structured or unstructured.\n",
    "* it can be categorised by the letter \"V\"\n",
    "    * the 3Vs of big data\n",
    "    * the 5Vs of big data\n",
    "    * the 7Vs of big data\n",
    "    * the 11Vs of big data\n",
    "        * the vision you have about big data,\n",
    "        * the value big data carries,\n",
    "        * the visualisation tools you use\n",
    "        * the variability and the consistency in big data \n",
    "        * and so on."
   ]
  },
  {
   "cell_type": "markdown",
   "metadata": {},
   "source": [
    "##### Traditional Data vs Big Data"
   ]
  },
  {
   "cell_type": "markdown",
   "metadata": {},
   "source": [
    "* Volume\n",
    "    * Big data needs a whopping amount of memory space. Typically distributed between many computers, its size is measured in terabytes, petabytes and even exabytes.\n",
    "* Variety\n",
    "    * Big data often implies dealing with images, audio files, mobile data and others.\n",
    "* Velocity\n",
    "    * Ones goal is to make extracting patterns from it as quickly as possible. The progress that has been done in this area is remarkable. Outputs from huge data sets can be retrieved in real-time. This means they can be extracted so quickly that a result could be computed immediately, after the source data has been obtained."
   ]
  },
  {
   "cell_type": "markdown",
   "metadata": {},
   "source": [
    "### Data Science"
   ]
  },
  {
   "cell_type": "markdown",
   "metadata": {},
   "source": [
    "* Data Science is a broad subject its an interdisciplinary field that combines: \n",
    "    * statistical, \n",
    "    * mathematical, \n",
    "    * programming, \n",
    "    * problem-solving and \n",
    "    * data-management tools."
   ]
  },
  {
   "cell_type": "markdown",
   "metadata": {},
   "source": [
    "#### BI"
   ]
  },
  {
   "cell_type": "markdown",
   "metadata": {},
   "source": [
    "* Business intelligence is the discipline you need for analyse the past data you have acquired. BI includes technology driven tools involved in the process of analyzing, understanding and reporting available past data.\n",
    "    * This will result  having reports or dashboards and will help on your way to making informed strategic and tactical business decisions.\n",
    "    * extract insights and ideas about your business that will help it grow and give an edge of your competitors, adding stability.\n",
    "* Business intelligence means understanding how your sales grew and why?\n",
    "    * Did competitors lose market share?\n",
    "    * Was there an increase in the price of your products?\n",
    "    * Did you sell a mix of more expensive products?\n",
    "    * How did your profitability margins behave in the same timeframe of a previous year?\n",
    "    * Were there client accounts that were more profitable?\n",
    "*Understanding past business performance in order to improve future performance."
   ]
  },
  {
   "cell_type": "markdown",
   "metadata": {},
   "source": [
    "#### Traditional Data Science"
   ]
  },
  {
   "cell_type": "markdown",
   "metadata": {},
   "source": [
    "* Traditional methods or traditional data science are a set of methods that are derived mainly from statistics and are adapted for business.\n",
    "* Perfect for forecasting future performance with great accuracy.\n",
    "    * regression analyses, \n",
    "    * cluster analyses and \n",
    "    * factor analyses."
   ]
  },
  {
   "cell_type": "markdown",
   "metadata": {},
   "source": [
    "#### Machine Learning"
   ]
  },
  {
   "cell_type": "markdown",
   "metadata": {},
   "source": [
    "* With machine learning in contrast to traditional methods, the responsibility is left for the machine, through mathematics, a significant amount of computer power and applying AI the machine is given the ability to predict outcomes from data without being explicitly programmed too.\n",
    "* ML knows all about creating algorithms that let machines \n",
    "    * receive data, \n",
    "    * perform calculations and \n",
    "    * apply statistical analyses in order to make predictions with unprecedented accuracy."
   ]
  },
  {
   "cell_type": "markdown",
   "metadata": {},
   "source": [
    "# The Field of Data Science - The Benefits of Each Discipline"
   ]
  },
  {
   "cell_type": "markdown",
   "metadata": {},
   "source": []
  }
 ],
 "metadata": {
  "kernelspec": {
   "display_name": "Python 3.9.13 64-bit (microsoft store)",
   "language": "python",
   "name": "python3"
  },
  "language_info": {
   "codemirror_mode": {
    "name": "ipython",
    "version": 3
   },
   "file_extension": ".py",
   "mimetype": "text/x-python",
   "name": "python",
   "nbconvert_exporter": "python",
   "pygments_lexer": "ipython3",
   "version": "3.9.13"
  },
  "orig_nbformat": 4,
  "vscode": {
   "interpreter": {
    "hash": "1b600a3438a79bc98971c3547d28f531d0c8ed6c91b96b1480a504fa30005dbe"
   }
  }
 },
 "nbformat": 4,
 "nbformat_minor": 2
}
