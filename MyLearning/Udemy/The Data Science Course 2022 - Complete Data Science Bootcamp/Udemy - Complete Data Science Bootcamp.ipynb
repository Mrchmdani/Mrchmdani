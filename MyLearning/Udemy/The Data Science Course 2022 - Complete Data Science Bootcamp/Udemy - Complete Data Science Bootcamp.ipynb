{
 "cells": [
  {
   "cell_type": "markdown",
   "metadata": {},
   "source": [
    "# **01. Part 1: Introduction**"
   ]
  },
  {
   "cell_type": "markdown",
   "metadata": {},
   "source": [
    "Source : https://www.udemy.com/course/the-data-science-course-complete-data-science-bootcamp/"
   ]
  },
  {
   "cell_type": "markdown",
   "metadata": {},
   "source": [
    "## 1. A Practical Example: What You Will Learn in This Course"
   ]
  },
  {
   "cell_type": "markdown",
   "metadata": {},
   "source": [
    "https://www.udemy.com/course/the-data-science-course-complete-data-science-bootcamp/learn/lecture/10799982#overview"
   ]
  },
  {
   "cell_type": "markdown",
   "metadata": {},
   "source": [
    "## 2. What Does the Course Cover"
   ]
  },
  {
   "cell_type": "markdown",
   "metadata": {},
   "source": [
    "https://www.udemy.com/course/the-data-science-course-complete-data-science-bootcamp/learn/lecture/10762626#overview"
   ]
  },
  {
   "cell_type": "markdown",
   "metadata": {},
   "source": [
    "## 3. Download All Resources and Important FAQ"
   ]
  },
  {
   "cell_type": "markdown",
   "metadata": {},
   "source": [
    "https://www.udemy.com/course/the-data-science-course-complete-data-science-bootcamp/learn/lecture/12955006#overview"
   ]
  },
  {
   "cell_type": "markdown",
   "metadata": {},
   "source": [
    "# **02. The Field of Data Science - The Various Data Science Disciplines**"
   ]
  },
  {
   "cell_type": "markdown",
   "metadata": {},
   "source": [
    "## 4. Data Science and Business Buzzwords: Why are there so Many?"
   ]
  },
  {
   "cell_type": "markdown",
   "metadata": {},
   "source": [
    "https://www.udemy.com/course/the-data-science-course-complete-data-science-bootcamp/learn/lecture/10762750#overview"
   ]
  },
  {
   "cell_type": "markdown",
   "metadata": {},
   "source": [
    "Data Science and Business Buzzwords\n",
    "\n",
    "Job Confucion:\n",
    "\n",
    "1. The constant evolution of the data science industry\n",
    "    * Statistics, 25 years ago, responsible for:\n",
    "        * gathering and cleaning data sets\n",
    "        * applying statistical methods\n",
    "            * growth of data\n",
    "            * radical improvement of technology\n",
    "        * extracting patterns from data\n",
    "    * Data Mining, 20 years ago, responsible for:\n",
    "        * gathering and cleaning data sets\n",
    "        * applying statistical methods\n",
    "            * growth of data\n",
    "            * radical improvement of technology\n",
    "        * extracting patterns from data\n",
    "            * new models\n",
    "        * performing more accurate forecast\n",
    "    * Predictive Analytics, 10 years ago, responsible for:\n",
    "        * gathering and cleaning data sets\n",
    "        * applying statistical methods\n",
    "        * extracting patterns from data\n",
    "        * performing more accurate forecast\n",
    "    * Predictive Analytics, Now, responsible for:\n",
    "        * All Above\n",
    "2. HR Managers\n",
    "    * Label job positions inaccurately"
   ]
  },
  {
   "cell_type": "markdown",
   "metadata": {},
   "source": [
    "## Quiz 1: Data Science and Business Buzzwords: Why are there so Many?"
   ]
  },
  {
   "cell_type": "markdown",
   "metadata": {},
   "source": [
    "https://www.udemy.com/course/the-data-science-course-complete-data-science-bootcamp/learn/quiz/4450874#overview"
   ]
  },
  {
   "cell_type": "markdown",
   "metadata": {},
   "source": [
    "1. Which of the following is not considered a cause of confusion about the precise meaning of the data science buzzwords?\n",
    "    * The speed with which new data science terms are appearing"
   ]
  },
  {
   "cell_type": "markdown",
   "metadata": {},
   "source": [
    "## 5. What is the difference between Analysis and Analytics"
   ]
  },
  {
   "cell_type": "markdown",
   "metadata": {},
   "source": [
    "https://www.udemy.com/course/the-data-science-course-complete-data-science-bootcamp/learn/lecture/10762754#overview"
   ]
  },
  {
   "cell_type": "markdown",
   "metadata": {},
   "source": [
    "### Analysis vs Analytics"
   ]
  },
  {
   "cell_type": "markdown",
   "metadata": {},
   "source": [
    "1. Analysis\n",
    "    * Perform analysis data that have already happened in the past and explaining how or why something happen\n",
    "        * Separating entire data into multiple data and study them individualy, then examine how they relate to other parts. \n",
    "2. Analytics\n",
    "    * Explore potential future events instead of past events\n",
    "    * Analytics is essentially the application of logical and computational reasoning to the component parts obtained in an analysis.\n",
    "    * Looking for patterns and exploring what you could do with them in the future."
   ]
  },
  {
   "cell_type": "markdown",
   "metadata": {},
   "source": [
    "### Analytics Branches"
   ]
  },
  {
   "cell_type": "markdown",
   "metadata": {},
   "source": [
    "1. Qualitative Analytics (intuition + analysis)\n",
    "    * using your intuition and experience in conjunction with the analysis to plan your next business move.\n",
    "2. Quantitative Analytics (formula + algorithms)\n",
    "    * applying formulas and algorithms to numbers you have gathered from your analysis."
   ]
  },
  {
   "cell_type": "markdown",
   "metadata": {},
   "source": [
    "### To Do:"
   ]
  },
  {
   "cell_type": "markdown",
   "metadata": {},
   "source": [
    "1. Perform qualitative analysis, to explain how or why a story ended the way it did.\n",
    "2. Perform quantitative analysis, working with past data to explain how sales decreased last summer.\n",
    "3. Perform qualitative analytics, to plan next business move.\n",
    "4. Perform qualitative analytics, by applying formulas and algorithms for the future"
   ]
  },
  {
   "cell_type": "markdown",
   "metadata": {},
   "source": [
    "* Analysis != Analytics\n",
    "* Data Analysis != Data Analytics\n",
    "* Business Analysis != Business Analytics"
   ]
  },
  {
   "cell_type": "markdown",
   "metadata": {},
   "source": [
    "## Quiz 2: What is the difference between Analysis and Analytics"
   ]
  },
  {
   "cell_type": "markdown",
   "metadata": {},
   "source": [
    "https://www.udemy.com/course/the-data-science-course-complete-data-science-bootcamp/learn/quiz/4450876#overview"
   ]
  },
  {
   "cell_type": "markdown",
   "metadata": {},
   "source": [
    "1. Which of the following is related to the meaning of the term analytics?\n",
    "    * Analytics is the application of logical computational reasoning to the component parts obtained in an analysis"
   ]
  },
  {
   "cell_type": "markdown",
   "metadata": {},
   "source": [
    "## 6. Business Analytics, Data Analytics, and Data Science: An Introduction"
   ]
  },
  {
   "cell_type": "markdown",
   "metadata": {},
   "source": [
    "https://www.udemy.com/course/the-data-science-course-complete-data-science-bootcamp/learn/lecture/10762762#overview"
   ]
  },
  {
   "cell_type": "markdown",
   "metadata": {},
   "source": [
    "### Diagram"
   ]
  },
  {
   "cell_type": "markdown",
   "metadata": {},
   "source": [
    "![Alt text](img/365_DataScience_Diagram.jpg)"
   ]
  },
  {
   "cell_type": "markdown",
   "metadata": {},
   "source": [
    "* Business activities would overlap the rectangle because some are data-driven, while others are subjective or experience-driven.\n",
    "* Some of the terms refer to activities that aim to explain past behavior, while others refer to activities used for predicting future behavior.\n",
    "* Data science is a discipline reliant on data availability, while business analytics does not completely rely on data. However, data science incorporates part of data analytics, mostly the part that uses complex mathematical, statistical and programming tools.\n",
    "* Data science can be used to improve the accuracy of predictions based on data extracted from various activities typical for drilling efficiency, and that certainly isn't business analytics."
   ]
  },
  {
   "cell_type": "markdown",
   "metadata": {},
   "source": [
    "## Quiz 3: Business Analytics, Data Analytics, and Data Science: An Introduction"
   ]
  },
  {
   "cell_type": "markdown",
   "metadata": {},
   "source": [
    "https://www.udemy.com/course/the-data-science-course-complete-data-science-bootcamp/learn/quiz/4450878#overview"
   ]
  },
  {
   "cell_type": "markdown",
   "metadata": {},
   "source": [
    "1. Which of the terms relates to the field of business analytics only?\n",
    "    * Qualitative analytics\n",
    "2. Which of the following is not considered a data analytics activity?\n",
    "    * Business case studies\n",
    "3. Which of the following is considered data science?\n",
    "    * Sales forecasting"
   ]
  },
  {
   "cell_type": "markdown",
   "metadata": {},
   "source": [
    "## 7. Continuing with BI, ML, and AI"
   ]
  },
  {
   "cell_type": "markdown",
   "metadata": {},
   "source": [
    "https://www.udemy.com/course/the-data-science-course-complete-data-science-bootcamp/learn/lecture/10762768#overview"
   ]
  },
  {
   "cell_type": "markdown",
   "metadata": {},
   "source": [
    "![Alt text](img/365_DataScience_Diagram.jpg)"
   ]
  },
  {
   "cell_type": "markdown",
   "metadata": {},
   "source": [
    "### Business Intelegence (BI)"
   ]
  },
  {
   "cell_type": "markdown",
   "metadata": {},
   "source": [
    "* Business intelligence or BI, is the process of analyzing and reporting historical business data.\n",
    "    * After reports and dashboards have been prepared they can be used to make informed strategic and tactical business decisions by end users, such as the general manager.\n",
    "* Business intelligence aims to explain past events using business data."
   ]
  },
  {
   "cell_type": "markdown",
   "metadata": {},
   "source": [
    "### Machine Learning (ML)"
   ]
  },
  {
   "cell_type": "markdown",
   "metadata": {},
   "source": [
    "* The ability of machines to predict outcomes without being explicitly programmed\n",
    "* ML'S about creating and implementing algorithms that let machines receive data and use this data to make predictions, analyze patterns and give recommendations on their own.\n",
    "* Machine learning cannot be implemented without data."
   ]
  },
  {
   "cell_type": "markdown",
   "metadata": {},
   "source": [
    "### Artificial Intelligence (AI)"
   ]
  },
  {
   "cell_type": "markdown",
   "metadata": {},
   "source": [
    "* simulating human knowledge and decision making with computers."
   ]
  },
  {
   "cell_type": "markdown",
   "metadata": {},
   "source": [
    "## Quiz 4: Continuing with BI, ML, and AI"
   ]
  },
  {
   "cell_type": "markdown",
   "metadata": {},
   "source": [
    "https://www.udemy.com/course/the-data-science-course-complete-data-science-bootcamp/learn/quiz/4450880#overview"
   ]
  },
  {
   "cell_type": "markdown",
   "metadata": {},
   "source": [
    "1. Given that all activities can be done with ML and all can be done without ML, choose the best answer. Which of the following is considered Data science but not Machine learning?\n",
    "    * Sales forecasting\n",
    "2. Which of the following is not an example of where Machine Learning is being applied today?\n",
    "    * Symbolic reasoning"
   ]
  },
  {
   "cell_type": "markdown",
   "metadata": {},
   "source": [
    "## 8. A Breakdown of our Data Science Infographic"
   ]
  },
  {
   "cell_type": "markdown",
   "metadata": {},
   "source": [
    "https://www.udemy.com/course/the-data-science-course-complete-data-science-bootcamp/learn/lecture/10762772#overview"
   ]
  },
  {
   "cell_type": "markdown",
   "metadata": {},
   "source": [
    "![Alt text](img/365_DataScience.jpg)"
   ]
  },
  {
   "cell_type": "markdown",
   "metadata": {},
   "source": [
    "## Quiz 5: A Breakdown of our Data Science Infographic"
   ]
  },
  {
   "cell_type": "markdown",
   "metadata": {},
   "source": [
    "https://www.udemy.com/course/the-data-science-course-complete-data-science-bootcamp/learn/quiz/4450882#overview"
   ]
  },
  {
   "cell_type": "markdown",
   "metadata": {},
   "source": [
    "1. From a data scientist’s perspective, the solution of every task begins:\n",
    "    * with a proper dataset"
   ]
  },
  {
   "cell_type": "markdown",
   "metadata": {},
   "source": [
    "# **03. The Field of Data Science - Connecting the Data Science Disciplines**"
   ]
  },
  {
   "cell_type": "markdown",
   "metadata": {},
   "source": [
    "## 9. Applying Traditional Data, Big Data, BI, Traditional Data Science and ML"
   ]
  },
  {
   "cell_type": "markdown",
   "metadata": {},
   "source": [
    "https://www.udemy.com/course/the-data-science-course-complete-data-science-bootcamp/learn/lecture/10762778#overview"
   ]
  },
  {
   "cell_type": "markdown",
   "metadata": {},
   "source": [
    "### Data"
   ]
  },
  {
   "cell_type": "markdown",
   "metadata": {},
   "source": [
    "#### Traditional Data"
   ]
  },
  {
   "cell_type": "markdown",
   "metadata": {},
   "source": [
    "* Data in the form of tables containing numeric or text values.\n",
    "* Data that is structured and stored in databases which can be managed from one computer."
   ]
  },
  {
   "cell_type": "markdown",
   "metadata": {},
   "source": [
    "#### Big Data"
   ]
  },
  {
   "cell_type": "markdown",
   "metadata": {},
   "source": [
    "* 'big data' is a term reserved for extremely large data.\n",
    "* the data could be in various formats.\n",
    "* It can be structured, semi-structured or unstructured.\n",
    "* it can be categorised by the letter \"V\"\n",
    "    * the 3Vs of big data\n",
    "    * the 5Vs of big data\n",
    "    * the 7Vs of big data\n",
    "    * the 11Vs of big data\n",
    "        * the vision you have about big data,\n",
    "        * the value big data carries,\n",
    "        * the visualisation tools you use\n",
    "        * the variability and the consistency in big data \n",
    "        * and so on."
   ]
  },
  {
   "cell_type": "markdown",
   "metadata": {},
   "source": [
    "##### Traditional Data vs Big Data"
   ]
  },
  {
   "cell_type": "markdown",
   "metadata": {},
   "source": [
    "* Volume\n",
    "    * Big data needs a whopping amount of memory space. Typically distributed between many computers, its size is measured in terabytes, petabytes and even exabytes.\n",
    "* Variety\n",
    "    * Big data often implies dealing with images, audio files, mobile data and others.\n",
    "* Velocity\n",
    "    * Ones goal is to make extracting patterns from it as quickly as possible. The progress that has been done in this area is remarkable. Outputs from huge data sets can be retrieved in real-time. This means they can be extracted so quickly that a result could be computed immediately, after the source data has been obtained."
   ]
  },
  {
   "cell_type": "markdown",
   "metadata": {},
   "source": [
    "### Data Science"
   ]
  },
  {
   "cell_type": "markdown",
   "metadata": {},
   "source": [
    "* Data Science is a broad subject its an interdisciplinary field that combines: \n",
    "    * statistical, \n",
    "    * mathematical, \n",
    "    * programming, \n",
    "    * problem-solving and \n",
    "    * data-management tools."
   ]
  },
  {
   "cell_type": "markdown",
   "metadata": {},
   "source": [
    "#### BI"
   ]
  },
  {
   "cell_type": "markdown",
   "metadata": {},
   "source": [
    "* Business intelligence is the discipline you need for analyse the past data you have acquired. BI includes technology driven tools involved in the process of analyzing, understanding and reporting available past data.\n",
    "    * This will result  having reports or dashboards and will help on your way to making informed strategic and tactical business decisions.\n",
    "    * extract insights and ideas about your business that will help it grow and give an edge of your competitors, adding stability.\n",
    "* Business intelligence means understanding how your sales grew and why?\n",
    "    * Did competitors lose market share?\n",
    "    * Was there an increase in the price of your products?\n",
    "    * Did you sell a mix of more expensive products?\n",
    "    * How did your profitability margins behave in the same timeframe of a previous year?\n",
    "    * Were there client accounts that were more profitable?\n",
    "*Understanding past business performance in order to improve future performance."
   ]
  },
  {
   "cell_type": "markdown",
   "metadata": {},
   "source": [
    "#### Traditional Data Science"
   ]
  },
  {
   "cell_type": "markdown",
   "metadata": {},
   "source": [
    "* Traditional methods or traditional data science are a set of methods that are derived mainly from statistics and are adapted for business.\n",
    "* Perfect for forecasting future performance with great accuracy.\n",
    "    * regression analyses, \n",
    "    * cluster analyses and \n",
    "    * factor analyses."
   ]
  },
  {
   "cell_type": "markdown",
   "metadata": {},
   "source": [
    "#### Machine Learning"
   ]
  },
  {
   "cell_type": "markdown",
   "metadata": {},
   "source": [
    "* With machine learning in contrast to traditional methods, the responsibility is left for the machine, through mathematics, a significant amount of computer power and applying AI the machine is given the ability to predict outcomes from data without being explicitly programmed too.\n",
    "* ML knows all about creating algorithms that let machines \n",
    "    * receive data, \n",
    "    * perform calculations and \n",
    "    * apply statistical analyses in order to make predictions with unprecedented accuracy."
   ]
  },
  {
   "cell_type": "markdown",
   "metadata": {},
   "source": [
    "## Quiz 6: Applying Traditional Data, Big Data, BI, Traditional Data Science and ML"
   ]
  },
  {
   "cell_type": "markdown",
   "metadata": {},
   "source": [
    "https://www.udemy.com/course/the-data-science-course-complete-data-science-bootcamp/learn/quiz/4450886#overview"
   ]
  },
  {
   "cell_type": "markdown",
   "metadata": {},
   "source": [
    "1. According to our infographic, which of the following is not considered data science?\n",
    "    * Big Data"
   ]
  },
  {
   "cell_type": "markdown",
   "metadata": {},
   "source": [
    "# **04. The Field of Data Science - The Benefits of Each Discipline**"
   ]
  },
  {
   "cell_type": "markdown",
   "metadata": {},
   "source": [
    "## 10. The Reason Behind These Disciplines"
   ]
  },
  {
   "cell_type": "markdown",
   "metadata": {},
   "source": [
    "https://www.udemy.com/course/the-data-science-course-complete-data-science-bootcamp/learn/lecture/10762786#overview"
   ]
  },
  {
   "cell_type": "markdown",
   "metadata": {},
   "source": [
    "* There are two types of data, traditional and big data. While different, their role in the business is the same.\n",
    "* Data-driven decisions require well-organized and relevant raw data stored in a digital format data which can be processed and transformed into meaningful and useful information. This is essential for companies when planning and decision-making.\n",
    "* Data is the foundation. It is the material on which you base your analysis. Without data, a decision-maker wouldn't be able to test their decisions and ensure they have taken the right course of action.\n",
    "\n",
    "* The job of the business intelligence analyst is to study the numbers and explain where and why some things went well and others not so well. While having the business context in mind, the business intelligence analyst will present the data in the form of reports and dashboards. They translates raw data into metrics and visualizations which show past trends and characteristics of the business.\n",
    "* Like a translator studying ancient hieroglyphics, Business Intelligence there to find patterns and stories within the pictures, they will stay seemingly meaningless, but what else is needed once the patterns have been interpreted? You can forecast potential future outcomes. The application of any term related to the columns, traditional methods or machine learning, can be said to belong to the field of predictive analytics. While the goal of traditional methods and machine learning are essentially the same and techniques can overlap, there is a difference between the two.\n",
    "* Traditional methods relate to traditional data. They were designed prior to the existence of big data, where the technology simply wasn't as advanced as it is today. They involve applying statistical approaches to create predictive models. If you want to dig deeper, however, or tackle huge amounts of big data utilizing unconventional methods or AI, then you can predict behavior in unprecedented ways, using machine learning techniques and tools. Both techniques are useful for different purposes.\n",
    "    * Traditional methods are better suited for traditional data, while \n",
    "    * Machine learning will have better results when it comes to tackling big data."
   ]
  },
  {
   "cell_type": "markdown",
   "metadata": {},
   "source": [
    "## Quiz 7: The Reason Behind These Disciplines"
   ]
  },
  {
   "cell_type": "markdown",
   "metadata": {},
   "source": [
    "https://www.udemy.com/course/the-data-science-course-complete-data-science-bootcamp/learn/quiz/4450888#overview"
   ]
  },
  {
   "cell_type": "markdown",
   "metadata": {},
   "source": [
    "1. Which of the following columns from our infographic contain activities that are said to belong to the field of ‘predictive analytics’ and do not aim at explaining past behaviour? \n",
    "    * Traditional methods"
   ]
  },
  {
   "cell_type": "markdown",
   "metadata": {},
   "source": [
    "# **05. The Field of Data Science - Popular Data Science Techniques**"
   ]
  },
  {
   "cell_type": "markdown",
   "metadata": {},
   "source": [
    "![Alt text](img/365_DataScience.jpg)"
   ]
  },
  {
   "cell_type": "markdown",
   "metadata": {},
   "source": [
    "## 11. Techniques for Working with Traditional Data"
   ]
  },
  {
   "cell_type": "markdown",
   "metadata": {},
   "source": [
    "https://www.udemy.com/course/the-data-science-course-complete-data-science-bootcamp/learn/lecture/10762798#overview"
   ]
  },
  {
   "cell_type": "markdown",
   "metadata": {},
   "source": [
    "* Raw Data / Gathering Data\n",
    "    * Raw data, also called raw facts or primary data, is \n",
    "        * data which cannot be analyzed straight away. \n",
    "        * It is untouched data you have accumulated and stored on the server. \n",
    "        * The gathering of raw data is referred to as data collection.\n",
    "    * Data can be collected in several ways.\n",
    "        * Survey\n",
    "        * Cookies\n",
    "        * etc\n",
    "* Pre-Processing\n",
    "    * Group of operations that will basically convert your raw data into a format that is more understandable and hence useful for further processing. It attempts to fix the problems that can inevitably occur with data gathering.\n",
    "        * Class Labeling\n",
    "            * numerical (can be manipulated)\n",
    "            * categorical (cannot be manipulated)\n",
    "        * Data cleansing / Data cleaning\n",
    "        * Dealing with Missing Value\n",
    "    * Case Specific: \n",
    "        * Data Balancing\n",
    "        * Data Shuffling\n",
    "            * prevent unwanted pattern\n",
    "            * improves predictive performance\n",
    "            * help avooid misleading results\n",
    "* Graph - Visualization associated with relational database management system\n",
    "    * entity-relationship diagram (ER diagram)\n",
    "    * relational schema"
   ]
  },
  {
   "cell_type": "markdown",
   "metadata": {},
   "source": [
    "## Quiz 8: Techniques for Working with Traditional Data"
   ]
  },
  {
   "cell_type": "markdown",
   "metadata": {},
   "source": [
    "https://www.udemy.com/course/the-data-science-course-complete-data-science-bootcamp/learn/quiz/4450892#overview"
   ]
  },
  {
   "cell_type": "markdown",
   "metadata": {},
   "source": [
    "1. Which of the following is related to the pre-processing of a traditional data set?\n",
    "    * Class labelling, Data cleansing, and Dealing with missing values"
   ]
  },
  {
   "cell_type": "markdown",
   "metadata": {},
   "source": [
    "## 12. Real Life Examples of Traditional Data"
   ]
  },
  {
   "cell_type": "markdown",
   "metadata": {},
   "source": [
    "https://www.udemy.com/course/the-data-science-course-complete-data-science-bootcamp/learn/lecture/10762800#overview"
   ]
  },
  {
   "cell_type": "markdown",
   "metadata": {},
   "source": [
    "Numerical vs Categorical"
   ]
  },
  {
   "cell_type": "markdown",
   "metadata": {},
   "source": [
    "* ![Alt text](img/12.%20Real%20Life%20Examples%20of%20Traditional%20Data1.jpg)\n",
    "* ![Alt text](img/12.%20Real%20Life%20Examples%20of%20Traditional%20Data2.jpg)\n",
    "* ![Alt text](img/12.%20Real%20Life%20Examples%20of%20Traditional%20Data3.jpg)\n",
    "* ![Alt text](img/12.%20Real%20Life%20Examples%20of%20Traditional%20Data4.jpg)"
   ]
  },
  {
   "cell_type": "markdown",
   "metadata": {},
   "source": [
    "## 13. Techniques for Working with Big Data"
   ]
  },
  {
   "cell_type": "markdown",
   "metadata": {},
   "source": [
    "https://www.udemy.com/course/the-data-science-course-complete-data-science-bootcamp/learn/lecture/10762804#overview"
   ]
  },
  {
   "cell_type": "markdown",
   "metadata": {},
   "source": [
    "* Some of the approaches used on traditional data can also be implemented on big data.\n",
    "* Collecting and pre-processing big data is essential to help organize the data before doing analyses or making predictions, as is grouping the data into classes or categories.\n",
    "* While working with big data, things can get a little more complex and you have much more variety beyond the simple distinction of numerical and categorical data.\n",
    "    * examples pre=processing of big data can be: \n",
    "        * text data, \n",
    "        * digital image data,\n",
    "        * digital video data, \n",
    "        * digital audio data, \n",
    "        * data cleansing\n",
    "            * a wider range of data cleansing method\n",
    "        * dealing with missing value\n",
    "            * the most crucial with big data.\n",
    "    * Case specific:\n",
    "        * text data mining\n",
    "            * Text data mining represents the process of deriving valuable unstructured data from a text.\n",
    "        * confidentiality - preserving data mining techniques (data masking)\n",
    "            * conceals the original data with random and false data\n",
    "            * allowing you to conduct analysis and \n",
    "            * keep all confidential information in a secure place.\n",
    "* Graph\n",
    "    * relational database"
   ]
  },
  {
   "cell_type": "markdown",
   "metadata": {},
   "source": [
    "## Quiz 9: Techniques for Working with Big Data"
   ]
  },
  {
   "cell_type": "markdown",
   "metadata": {},
   "source": [
    "https://www.udemy.com/course/the-data-science-course-complete-data-science-bootcamp/learn/quiz/4450894#overview"
   ]
  },
  {
   "cell_type": "markdown",
   "metadata": {},
   "source": [
    "1. Which of the following do you encounter when working with big data?\n",
    "    * Text data, Integer, and Digital image data"
   ]
  },
  {
   "cell_type": "markdown",
   "metadata": {},
   "source": [
    "## 14. Real Life Examples of Big Data"
   ]
  },
  {
   "cell_type": "markdown",
   "metadata": {},
   "source": [
    "https://www.udemy.com/course/the-data-science-course-complete-data-science-bootcamp/learn/lecture/10762820#overview"
   ]
  },
  {
   "cell_type": "markdown",
   "metadata": {},
   "source": [
    "* ![Alt text](img/14.%20Real%20Life%20Examples%20of%20Big%20Data1.jpg)\n",
    "* ![Alt text](img/14.%20Real%20Life%20Examples%20of%20Big%20Data2.jpg)"
   ]
  },
  {
   "cell_type": "markdown",
   "metadata": {},
   "source": [
    "## 15. Business Intelligence (BI) Techniques"
   ]
  },
  {
   "cell_type": "markdown",
   "metadata": {},
   "source": [
    "https://www.udemy.com/course/the-data-science-course-complete-data-science-bootcamp/learn/lecture/10762824#overview"
   ]
  },
  {
   "cell_type": "markdown",
   "metadata": {},
   "source": [
    "* Business intelligence is the point where all your data skills combine with business knowledge and intuition to explain the past performance of company with conviction.\n",
    "* You would confidently be able to answer questions such as:\n",
    "    * What happened? When did it happen?\n",
    "    * How many units did we sell?\n",
    "    * In which region did we sell the most goods? \n",
    "    * And many more.\n",
    "* A good business intelligence analyst does not look at a problem from only one angle. BI will be able to extract any and all information required to solve this problem.\n",
    "* BI will be capable of answering simple questions from manager, like:\n",
    "    * \"What's the news regarding our email marketing?\"\n",
    "    * \"How did our email marketing perform last quarter in terms of click-through rates and revenue generated\n",
    "    * how does that compare to the performance in the same quarter of last year?\"\n",
    "* Example: How to measure  business performance?\n",
    "    * Collecting Observation\n",
    "        * monthly revenues\n",
    "        * costumer\n",
    "    * quantify information\n",
    "        * representing observations as number\n",
    "    * measure\n",
    "        * the accumulation of observations to show some information\n",
    "* Analyze the Data\n",
    "    * Extract info and present it in the form of:\n",
    "        * metrics\n",
    "            * A metric refers to a value that derives from the measures you have obtained and aims at gauging business performance or progress.\n",
    "            * measure vs matrics\n",
    "                * measure - releated to a simple descriptive meatrics of past performance\n",
    "                * matric = measure + business meaning\n",
    "        * Key performance indicators (KPIs)\n",
    "            * Key = related to main business goals\n",
    "            * Performance = how successfully you have performed within a specified timeframe\n",
    "            * Indicators = generated only from users who have clicked on a link provided in you ad campaign\n",
    "            * KPIs = metrics + business objectives\n",
    "        * Reports\n",
    "        * Dashboard"
   ]
  },
  {
   "cell_type": "markdown",
   "metadata": {},
   "source": [
    "## Quiz 10: Business Intelligence (BI) Techniques"
   ]
  },
  {
   "cell_type": "markdown",
   "metadata": {},
   "source": [
    "https://www.udemy.com/course/the-data-science-course-complete-data-science-bootcamp/learn/quiz/4450896#overview"
   ]
  },
  {
   "cell_type": "markdown",
   "metadata": {},
   "source": [
    "1. The process of representing observations as numbers is called:\n",
    "    * Quantification\n",
    "2. A measure that has a business meaning attached is called:\n",
    "    * a metric\n",
    "3. A KPI (Key Performance Indicator) can be best defined as: \n",
    "    * a metric that is tightly aligned with your business objectives\n",
    "4. The job of a business intelligence analyst always involves the creation of:\n",
    "    * Reports, Dashboards, and KPIs"
   ]
  },
  {
   "cell_type": "markdown",
   "metadata": {},
   "source": [
    "## 16. Real Life Examples of Business Intelligence (BI)"
   ]
  },
  {
   "cell_type": "markdown",
   "metadata": {},
   "source": [
    "https://www.udemy.com/course/the-data-science-course-complete-data-science-bootcamp/learn/lecture/10762826#overview"
   ]
  },
  {
   "cell_type": "markdown",
   "metadata": {},
   "source": [
    "* Hotels use price optimization very effectively by raising the price of a room at periods when many people want to visit the hotel and by reducing it to attract visitors when demand is low, they can greatly increase their profits. In order to competently apply such a strategy they must extract the relevant information in real time and compare it with historicals. BI allows you to adjust your strategy to pass data as soon as it is available.\n",
    "\n",
    "* Over and under supply can cause problems in a business. However, implementing effective inventory management means supplying enough stock to meet demand, with the minimal amount of waste and cost. To do this well, you can perform an in depth analysis of past sales transactions for the purpose of identifying seasonality patterns and the times of the year with the highest sales. Additionally, you could track your inventory to identify the months of which you have over or under stocked. A detailed analysis can even pinpoint the day or time of day where the need for a good is highest. If done right, business intelligence will help to efficiently manage your shipment logistics and in turn reduce costs and increase profit."
   ]
  },
  {
   "cell_type": "markdown",
   "metadata": {},
   "source": [
    "## 17. Techniques for Working with Traditional Methods"
   ]
  },
  {
   "cell_type": "markdown",
   "metadata": {},
   "source": [
    "https://www.udemy.com/course/the-data-science-course-complete-data-science-bootcamp/learn/lecture/10762828#overview"
   ]
  },
  {
   "cell_type": "markdown",
   "metadata": {},
   "source": [
    "* Regression Analysis is a model used for quantifying causal relationships among the different variables included in your analysis.\n",
    "* ![Alt text](img/17.%20Techniques%20for%20Working%20with%20Traditional%20Methods1.jpg)\n",
    "* ![Alt text](img/17.%20Techniques%20for%20Working%20with%20Traditional%20Methods2.jpg)"
   ]
  },
  {
   "cell_type": "markdown",
   "metadata": {},
   "source": [
    "* Cluster Analysis or clustering is the task of grouping a set of objects in such a way that objects in the same group are more similar to each other than to those in other groups.\n",
    "* ![Alt text](img/17.%20Techniques%20for%20Working%20with%20Traditional%20Methods3.jpg)"
   ]
  },
  {
   "cell_type": "markdown",
   "metadata": {},
   "source": [
    "* Factor Analysis is a statistical method used to describe variability among observed, correlated variables in terms of a potentially lower number of unobserved variables called factors.\n",
    "* ![Alt text](img/17.%20Techniques%20for%20Working%20with%20Traditional%20Methods4.jpg)"
   ]
  },
  {
   "cell_type": "markdown",
   "metadata": {},
   "source": [
    "* Time Series Analysis is a specific way of analyzing a sequence of data points collected over an interval of time.\n",
    "* ![Alt text](img/17.%20Techniques%20for%20Working%20with%20Traditional%20Methods5.jpg)"
   ]
  },
  {
   "cell_type": "markdown",
   "metadata": {},
   "source": [
    "## Quiz 11: Techniques for Working with Traditional Methods"
   ]
  },
  {
   "cell_type": "markdown",
   "metadata": {},
   "source": [
    "https://www.udemy.com/course/the-data-science-course-complete-data-science-bootcamp/learn/quiz/4450898#overview"
   ]
  },
  {
   "cell_type": "markdown",
   "metadata": {},
   "source": [
    "1. In business and statistics, which is the general term that refers to using a model for quantifying causal relationships?\n",
    "    *  regression analysis\n",
    "2. Which technique can be implemented if you want to reduce the dimensionality of a certain statistical problem?\n",
    "    *  factor analysis\n",
    "3. Which technique is associated with plotting values against time, shown always on the horizontal line?\n",
    "    *  time-series analysis\n",
    "4. When the data is divided into a few groups, you should apply:\n",
    "    * cluster analysis"
   ]
  },
  {
   "cell_type": "markdown",
   "metadata": {},
   "source": [
    "## 18. Real Life Examples of Traditional Methods"
   ]
  },
  {
   "cell_type": "markdown",
   "metadata": {},
   "source": [
    "https://www.udemy.com/course/the-data-science-course-complete-data-science-bootcamp/learn/lecture/10762830#overview"
   ]
  },
  {
   "cell_type": "markdown",
   "metadata": {},
   "source": [
    "* User Experience (UX)\n",
    "* Sales Forecasting"
   ]
  },
  {
   "cell_type": "markdown",
   "metadata": {},
   "source": [
    "## 19. Machine Learning (ML) Techniques"
   ]
  },
  {
   "cell_type": "markdown",
   "metadata": {},
   "source": [
    "https://www.udemy.com/course/the-data-science-course-complete-data-science-bootcamp/learn/lecture/10762832#overview"
   ]
  },
  {
   "cell_type": "markdown",
   "metadata": {},
   "source": [
    "* What is at the core of machine learning? Creating an algorithm, which a computer then uses to find a model that fits the data as best as possible. And makes very accurate predictions based on that.\n",
    "* A machine learning algorithm is like a trial and error process, but the special thing about it is that each consecutive trial is at least as good as the previous one. There are four ingredients: \n",
    "    * data, \n",
    "    * model, \n",
    "    * objective function, and \n",
    "    * optimization algorithm.\n",
    "* Benefit ML\n",
    "    * Can learn more effectively\n",
    "    * improve complex computational models"
   ]
  },
  {
   "cell_type": "markdown",
   "metadata": {},
   "source": [
    "## Quiz 12: Machine Learning (ML) Techniques"
   ]
  },
  {
   "cell_type": "markdown",
   "metadata": {},
   "source": [
    "https://www.udemy.com/course/the-data-science-course-complete-data-science-bootcamp/learn/quiz/4450902#overview"
   ]
  },
  {
   "cell_type": "markdown",
   "metadata": {},
   "source": [
    "1. Which of the following statements is true?\n",
    "    * The core of machine learning is creating an algorithm, chich a computer then uses to find a model that fits the data as best as possible\n",
    "    * In machine learning, one does not give the machine instructions on how to find a model. Rather, one provides it with algorithms which give t he machine directions on how to learn on its own.\n",
    "    * A machine learning algorithm is like a trial-and-error process, but the special thing about it, is that each consecutive trial is at least as good as the previous one.\n",
    "2. Which line represents the four ingredients of any machine learning algorithm?\n",
    "    * Data, model, objective function, optimization algorithm"
   ]
  },
  {
   "cell_type": "markdown",
   "metadata": {},
   "source": [
    "## 20. Types of Machine Learning"
   ]
  },
  {
   "cell_type": "markdown",
   "metadata": {},
   "source": [
    "https://www.udemy.com/course/the-data-science-course-complete-data-science-bootcamp/learn/lecture/10762834#overview"
   ]
  },
  {
   "cell_type": "markdown",
   "metadata": {},
   "source": [
    "* Supervised Learning is a subcategory of machine learning and artificial intelligence. It is defined by its use of labeled datasets to train algorithms that to classify data or predict outcomes accurately.\n",
    "    * SVMs\n",
    "    * NNs\n",
    "    * Deep Learning\n",
    "    * Random Forsts\n",
    "    * Boyesian Networks\n",
    "\n",
    "* Unsupervised Learning uses machine learning algorithms to analyze and cluster unlabeled datasets. These algorithms discover hidden patterns or data groupings without the need for human intervention.\n",
    "    * K-means\n",
    "    * Deep Learning\n",
    "\n",
    "* Reiforcement Learning is an approach to machine learning that learns by doing. While other machine learning techniques learn by passively taking input data and finding patterns within it, RL uses training agents to actively make decisions and learn from their outcomes.\n",
    "    * Deep Learning\n"
   ]
  },
  {
   "cell_type": "markdown",
   "metadata": {},
   "source": [
    "## Quiz 13: Types of Machine Learning"
   ]
  },
  {
   "cell_type": "markdown",
   "metadata": {},
   "source": [
    "https://www.udemy.com/course/the-data-science-course-complete-data-science-bootcamp/learn/quiz/4450904#overview"
   ]
  },
  {
   "cell_type": "markdown",
   "metadata": {},
   "source": [
    "1. In which type of machine learning is one always working with unlabelled data?\n",
    "    * Unsupervised learning\n",
    "2. In reinforcement learning, a reward system is being used to improve the machine learning model at hand. The idea of using this reward system is to:\n",
    "    * to maximize the objective function"
   ]
  },
  {
   "cell_type": "markdown",
   "metadata": {},
   "source": [
    "## 21. Real Life Examples of Machine Learning (ML)"
   ]
  },
  {
   "cell_type": "markdown",
   "metadata": {},
   "source": [
    "https://www.udemy.com/course/the-data-science-course-complete-data-science-bootcamp/learn/lecture/10762848#overview"
   ]
  },
  {
   "cell_type": "markdown",
   "metadata": {},
   "source": [
    "* Fraud Detection\n",
    "* Client Retention"
   ]
  },
  {
   "cell_type": "markdown",
   "metadata": {},
   "source": [
    "## Quiz 14: Real Life Examples of Machine Learning (ML)"
   ]
  },
  {
   "cell_type": "markdown",
   "metadata": {},
   "source": [
    "https://www.udemy.com/course/the-data-science-course-complete-data-science-bootcamp/learn/quiz/4450908#overview"
   ]
  },
  {
   "cell_type": "markdown",
   "metadata": {},
   "source": [
    "1. Which of the following is a typical real-life example where big data techniques are being applied?\n",
    "    * Social media\n",
    "2. Which of the following is a typical real-life example where BI techniques are being applied?\n",
    "    * Inventory management\n",
    "3. Which of the following is a typical real-life example where machine learning techniques are being applied?\n",
    "    * Client retention\n",
    "4. Which of the following is a typical real-life example where traditional data techniques are being applied?\n",
    "    * Basic customer data\n",
    "5. Which of the following is a TYPICAL real-life example where traditional data science techniques are being applied?\n",
    "    * Sales forecasting"
   ]
  },
  {
   "cell_type": "markdown",
   "metadata": {},
   "source": [
    "# **06. The Field of Data Science - Popular Data Tools**"
   ]
  },
  {
   "cell_type": "markdown",
   "metadata": {},
   "source": [
    "## 22. Necessary Programming Languages and Software Used in Data Science"
   ]
  },
  {
   "cell_type": "markdown",
   "metadata": {},
   "source": [
    "https://www.udemy.com/course/the-data-science-course-complete-data-science-bootcamp/learn/lecture/10762852#overview"
   ]
  },
  {
   "cell_type": "markdown",
   "metadata": {},
   "source": [
    "* Programing Language\n",
    "    * R and Python are the two most popular tools across all columns. Their biggest advantage is that they can manipulate data, and are integrated with the multiple data and data science software platforms.\n",
    "        * suitable for mathematical and statistical computations.\n",
    "        * R and Python are adaptable.\n",
    "            * Can solve a wide variety of business and data related problems from beginning to the end.\n",
    "            * R and Python limitations, they are not able to address problems specific to some domains. One example is relational database management systems (SQL)\n",
    "    * SQL\n",
    "        * advantageous with traditional historical data and preparing B-I analysis\n",
    "    * MATLAB\n",
    "        * Ideal for working with mathematical functions or matrix manipulations.\n",
    "* Software\n",
    "* smaller scope and a lot easier to learn\n",
    "    * Excel\n",
    "        * able to do relatively complex computations and good visualizations quickly\n",
    "    * IBM SPSS\n",
    "    * APACHE\n",
    "    * MONGO DB"
   ]
  },
  {
   "cell_type": "markdown",
   "metadata": {},
   "source": [
    "![Alt text](img/22.%20Necessary%20Programming%20Languages%20and%20Software%20Used%20in%20Data%20Science1.jpg)"
   ]
  },
  {
   "cell_type": "markdown",
   "metadata": {},
   "source": [
    "## Quiz 15: Necessary Programming Languages and Software Used in Data Science"
   ]
  },
  {
   "cell_type": "markdown",
   "metadata": {},
   "source": [
    "https://www.udemy.com/course/the-data-science-course-complete-data-science-bootcamp/learn/quiz/4450910#overview"
   ]
  },
  {
   "cell_type": "markdown",
   "metadata": {},
   "source": [
    "1. Which software tool(s) are constantly being used across all five categories from our infographic?\n",
    "    * Python and R\n",
    "2. Which software tool is frequently used when working with traditional data or when doing a BI analysis?\n",
    "    * Excel\n",
    "3. https://www.udemy.com/course/the-data-science-course-complete-data-science-bootcamp/learn/quiz/4450910#overview\n",
    "    * Java\n",
    "4. Econometric time-series analysis is the domain of which software tool?\n",
    "    * E-views"
   ]
  },
  {
   "cell_type": "markdown",
   "metadata": {},
   "source": [
    "# **07. The Field of Data Science - Careers in Data Science**"
   ]
  },
  {
   "cell_type": "markdown",
   "metadata": {},
   "source": [
    "## 23. Finding the Job - What to Expect and What to Look for"
   ]
  },
  {
   "cell_type": "markdown",
   "metadata": {},
   "source": [
    "https://www.udemy.com/course/the-data-science-course-complete-data-science-bootcamp/learn/lecture/10762856#overview"
   ]
  },
  {
   "cell_type": "markdown",
   "metadata": {},
   "source": [
    "* ![Alt text](img/23.%20Finding%20the%20Job%20-%20What%20to%20Expect%20and%20What%20to%20Look%20for1.jpg)\n",
    "* ![Alt text](img/23.%20Finding%20the%20Job%20-%20What%20to%20Expect%20and%20What%20to%20Look%20for2.jpg)\n",
    "* ![Alt text](img/23.%20Finding%20the%20Job%20-%20What%20to%20Expect%20and%20What%20to%20Look%20for3.jpg)"
   ]
  },
  {
   "cell_type": "markdown",
   "metadata": {},
   "source": [
    "## Quiz 16: Finding the Job - What to Expect and What to Look for"
   ]
  },
  {
   "cell_type": "markdown",
   "metadata": {},
   "source": [
    "https://www.udemy.com/course/the-data-science-course-complete-data-science-bootcamp/learn/quiz/4450912#overview"
   ]
  },
  {
   "cell_type": "markdown",
   "metadata": {},
   "source": [
    "1. “Her tasks step on the work of the data architect. Her primary job responsibility is to further process the obtained data so that it is ready for analysis.”\n",
    "<br>Her job is:\n",
    "    * Data engineer"
   ]
  },
  {
   "cell_type": "markdown",
   "metadata": {},
   "source": [
    "# **08. The Field of Data Science - Debunking Common Misconceptions**"
   ]
  },
  {
   "cell_type": "markdown",
   "metadata": {},
   "source": [
    "## 24. Debunking Common Misconceptions"
   ]
  },
  {
   "cell_type": "markdown",
   "metadata": {},
   "source": [
    "https://www.udemy.com/course/the-data-science-course-complete-data-science-bootcamp/learn/lecture/10762860#overview"
   ]
  },
  {
   "cell_type": "markdown",
   "metadata": {},
   "source": [
    "* ![Alt text](img/24.%20Debunking%20Common%20Misconceptions1.jpg)\n",
    "* ![Alt text](img/24.%20Debunking%20Common%20Misconceptions2.jpg)\n",
    "* ![Alt text](img/24.%20Debunking%20Common%20Misconceptions3.jpg)\n",
    "* ![Alt text](img/24.%20Debunking%20Common%20Misconceptions4.jpg)\n",
    "* ![Alt text](img/24.%20Debunking%20Common%20Misconceptions5.jpg)"
   ]
  },
  {
   "cell_type": "markdown",
   "metadata": {},
   "source": [
    "## Quiz 17: Debunking Common Misconceptions"
   ]
  },
  {
   "cell_type": "markdown",
   "metadata": {},
   "source": [
    "https://www.udemy.com/course/the-data-science-course-complete-data-science-bootcamp/learn/quiz/4450914#overview"
   ]
  },
  {
   "cell_type": "markdown",
   "metadata": {},
   "source": [
    "1. Which of the following is **false**?\n",
    "    * 200,000 lines of data constitute big data.\n",
    "    * Every type of analysis can be considered BI\n",
    "    * SWOT is a type of quantitative analysis"
   ]
  },
  {
   "cell_type": "markdown",
   "metadata": {},
   "source": [
    "# **09. Part 2: Probability**"
   ]
  },
  {
   "cell_type": "markdown",
   "metadata": {},
   "source": [
    "## 25. The Basic Probability Formula"
   ]
  },
  {
   "cell_type": "markdown",
   "metadata": {},
   "source": [
    "https://www.udemy.com/course/the-data-science-course-complete-data-science-bootcamp/learn/lecture/14241632#overview"
   ]
  },
  {
   "cell_type": "markdown",
   "metadata": {},
   "source": [
    "* Probability and statistical data can predict how likely each outcome is and make the right call for their firm.\n",
    "* Essentially, probability is the chance of something happening.\n",
    "* Academic definition probability is likelihood of an event occurring."
   ]
  },
  {
   "cell_type": "markdown",
   "metadata": {},
   "source": [
    "* ![Alt text](img/25.%20The%20Basic%20Probability%20Formula1.jpg)\n",
    "* ![Alt text](img/25.%20The%20Basic%20Probability%20Formula2.jpg)\n",
    "* ![Alt text](img/25.%20The%20Basic%20Probability%20Formula3.jpg)\n",
    "* ![Alt text](img/25.%20The%20Basic%20Probability%20Formula4.jpg)\n",
    "* ![Alt text](img/25.%20The%20Basic%20Probability%20Formula5.jpg)\n",
    "* ![Alt text](img/25.%20The%20Basic%20Probability%20Formula6.jpg)"
   ]
  },
  {
   "cell_type": "markdown",
   "metadata": {},
   "source": [
    "## Quiz 18: The Basic Probability Formula"
   ]
  },
  {
   "cell_type": "markdown",
   "metadata": {},
   "source": [
    "https://www.udemy.com/course/the-data-science-course-complete-data-science-bootcamp/learn/quiz/4620602#overview"
   ]
  },
  {
   "cell_type": "markdown",
   "metadata": {},
   "source": [
    "1. Why do we express probabilities numerically?\n",
    "    * To compute which event is relatively more likely\n",
    "        * Our goal is to be able to compare the probabilities of events and determine which is the relatively more likely outcome. Option c) is completely wrong and option a) is partially correct. Even though d) seems correct nowadays, mathematicians have examined probability long before the 20th century and the invention of the computer.\n",
    "2. Which of these is our preferred representation of the probability of winning a game of rock-paper-scissors on the first go?<br>\n",
    "Hint: Use the “favored over all” formula.\n",
    "    * 0.3(3)\n",
    "        * not 33.(3)% and 1/3 because Even though a), b) and d) all state the same likelihood as c), one does it as a percentage, one as a fraction and the final one as odds. However, our preferred representation of probabilities is with a real number between 0 and 1, so option c) is correct.\n",
    "3. What is the probability of drawing a spade from a standard deck of playing cards?<br>\n",
    "Hint: A standard deck consists of 52 playing cards, 13 of which are spades.\n",
    "    * 0.25\n",
    "        * We have 13 cards in the suit and 52 in the deck. When we apply the \"favored over all\" formula, we get P(spade) = 13/52 = 0.25."
   ]
  },
  {
   "cell_type": "markdown",
   "metadata": {},
   "source": [
    "## 26. Computing Expected Values"
   ]
  },
  {
   "cell_type": "markdown",
   "metadata": {},
   "source": [
    "https://www.udemy.com/course/the-data-science-course-complete-data-science-bootcamp/learn/lecture/14241646#overview"
   ]
  },
  {
   "cell_type": "markdown",
   "metadata": {},
   "source": [
    "* Expected values represent what we expect the outcome to be if we run an experiment many times.\n",
    "* expected value is used when trying to predict future events.\n",
    "* ![Alt text](img/26.%20Computing%20Expected%20Values1.jpg)\n",
    "* ![Alt text](img/26.%20Computing%20Expected%20Values2.jpg)"
   ]
  },
  {
   "cell_type": "markdown",
   "metadata": {},
   "source": [
    "* The probabilities we get after conducting experiments are called **experimental probabilities**, whereas the ones we introduced earlier were **theoretical or true probabilities**.\n",
    "* ![Alt text](img/26.%20Computing%20Expected%20Values3.jpg)\n",
    "* ![Alt text](img/26.%20Computing%20Expected%20Values4.jpg)"
   ]
  },
  {
   "cell_type": "markdown",
   "metadata": {},
   "source": [
    "---"
   ]
  },
  {
   "cell_type": "markdown",
   "metadata": {},
   "source": [
    "* ![Alt text](img/26.%20Computing%20Expected%20Values5.jpg)\n",
    "* ![Alt text](img/26.%20Computing%20Expected%20Values6.jpg)\n",
    "* ![Alt text](img/26.%20Computing%20Expected%20Values7.jpg)\n",
    "* ![Alt text](img/26.%20Computing%20Expected%20Values8.jpg)\n",
    "* ![Alt text](img/26.%20Computing%20Expected%20Values9.jpg)"
   ]
  },
  {
   "cell_type": "markdown",
   "metadata": {},
   "source": [
    "---"
   ]
  },
  {
   "cell_type": "markdown",
   "metadata": {},
   "source": [
    "* ![Alt text](img/26.%20Computing%20Expected%20Values10.jpg)\n",
    "* ![Alt text](img/26.%20Computing%20Expected%20Values11.jpg)\n",
    "* ![Alt text](img/26.%20Computing%20Expected%20Values12.jpg)\n",
    "* ![Alt text](img/26.%20Computing%20Expected%20Values13.jpg)"
   ]
  },
  {
   "cell_type": "markdown",
   "metadata": {},
   "source": [
    "* We can use expected values to make predictions about the future based on past data.\n",
    "* We frequently make predictions using intervals instead of specific values due to the uncertainty the future brings. Meteorologists often use these when forecasting the weather."
   ]
  },
  {
   "cell_type": "markdown",
   "metadata": {},
   "source": [
    "## Quiz 19: Computing Expected Values"
   ]
  },
  {
   "cell_type": "markdown",
   "metadata": {},
   "source": [
    "https://www.udemy.com/course/the-data-science-course-complete-data-science-bootcamp/learn/quiz/4620604#overview"
   ]
  },
  {
   "cell_type": "markdown",
   "metadata": {},
   "source": [
    "1. Which of the following classifies as an experiment but not a trial?\n",
    "    * Fllipping a coin 20 times and recording the 20 different outcomes.\n",
    "        * In a), we complete 20 different individual trials, which make up one experiment. In b), since we are only recording the last outcome, the previous 19 flips could be considered “practice” flips. Therefore, we have essentially only once completed a full iteration of flipping a coin and recording its outcome, which is a trial. The same goes for option c). It is both an experiment and a trial, because an experiment could consist of a single trial. Since we are not recording any of the outcomes, we do not complete a full trial, so d) does not classify as neither a trial, nor an experiment.\n",
    "2. Why do we use experimental probabilities?\n",
    "    * Because the yare easy to compute and serve as good predictors for theoretical ones.\n",
    "3. Why do we use intervals when forecasting future events?\n",
    "    * Because the expedted value might have a low probability of occuring.\n",
    "    * Because we want to increase the likelihood of our predictions being accurate.\n",
    "    * Because the expected value could be unattainable."
   ]
  },
  {
   "cell_type": "markdown",
   "metadata": {},
   "source": [
    "## 27. Frequency"
   ]
  },
  {
   "cell_type": "markdown",
   "metadata": {},
   "source": [
    "https://www.udemy.com/course/the-data-science-course-complete-data-science-bootcamp/learn/lecture/14241650#overview"
   ]
  },
  {
   "cell_type": "markdown",
   "metadata": {},
   "source": [
    "* **Probability frequency distribution** is a collection of the probabilities for each possible outcome.\n",
    "* ![Alt text](img/27.%20Frequency1.jpg)\n",
    "* ![Alt text](img/27.%20Frequency2.jpg)\n",
    "* ![Alt text](img/27.%20Frequency3.jpg)\n",
    "* Knowing the size of the sample space, we can determine the true probabilities for each outcome. We simply divide the frequency for each possible outcome by the size of the sample space.\n",
    "\n"
   ]
  },
  {
   "cell_type": "markdown",
   "metadata": {},
   "source": [
    "## Quiz 20: Frequency"
   ]
  },
  {
   "cell_type": "markdown",
   "metadata": {},
   "source": [
    "https://www.udemy.com/course/the-data-science-course-complete-data-science-bootcamp/learn/quiz/4620606#overview"
   ]
  },
  {
   "cell_type": "markdown",
   "metadata": {},
   "source": [
    "1. Going back to the example with the 2 standard six-sided dice, why is the probability of rolling a sum of 7 equal to one sixth?\n",
    "    * There are 6 favorable outcomes and 36 outcomes in the sample cpace, so the favorable over all formula results in 6/36, or simply 1 over 6.\n",
    "        * This is correct, because we have 36 possible outcomes when we throw the 2 dice and in 6 of those we get a sum of 7. Thus, we have 6 favorable outcomes and 36 total possible outcomes and we plug these values in the formula to get 1 over 6.\n",
    "2. What does the “frequency” of a value within the sample space represent?\n",
    "    * The number of times the value features in the sample space.\n",
    "        * Correct! Option b) is “probability”, option c) expresses the entire “probability frequency distribution”, option d) is talking about the entire “frequency distribution table”, rather than an individual value.\n",
    "3. Going back to the dice example and the 6 by 6 table, which sum of the two dice has a frequency of 3?\n",
    "    * 4 and 10\n",
    "        * Both 4 and 10 have a frequency of 3, so a) and b) are both correct but incomplete. Option d) is completely wrong since 3 has a frequency of 2."
   ]
  },
  {
   "cell_type": "markdown",
   "metadata": {},
   "source": [
    "## 28. Events and Their Complements"
   ]
  },
  {
   "cell_type": "markdown",
   "metadata": {},
   "source": [
    "https://www.udemy.com/course/the-data-science-course-complete-data-science-bootcamp/learn/lecture/14241664#overview"
   ]
  },
  {
   "cell_type": "markdown",
   "metadata": {},
   "source": [
    "* Compliment of an event is everything the event is not.\n",
    "* ![Alt text](img/28.%20Events%20and%20Their%20Complements1.jpg)\n",
    "* ![Alt text](img/28.%20Events%20and%20Their%20Complements2.jpg)"
   ]
  },
  {
   "cell_type": "markdown",
   "metadata": {},
   "source": [
    "* if we have a sum of probabilities greater than one? Recall that probability of one expresses absolute certainty. By definition we cannot be any sure than being absolutely sure. So a probability of 1.5 does not make intuitive sense.\n",
    "* ![Alt text](img/28.%20Events%20and%20Their%20Complements3.jpg)\n",
    "* if we end up with a sum of probabilities less than one, then we have surely not accounted for one or several possible outcomes.\n",
    "* Probability expresses the likelihood of an event occurring, so any probability less than one is not guaranteed to occur.\n",
    "* ![Alt text](img/28.%20Events%20and%20Their%20Complements4.jpg)\n",
    "* ![Alt text](img/28.%20Events%20and%20Their%20Complements5.jpg)\n",
    "* A` is compliment\n",
    "* ![Alt text](img/28.%20Events%20and%20Their%20Complements6.jpg)\n",
    "* ![Alt text](img/28.%20Events%20and%20Their%20Complements7.jpg)\n",
    "* ![Alt text](img/28.%20Events%20and%20Their%20Complements8.jpg)\n",
    "* ![Alt text](img/28.%20Events%20and%20Their%20Complements9.jpg)"
   ]
  },
  {
   "cell_type": "markdown",
   "metadata": {},
   "source": [
    "## Quiz 21: Events and Their Complements"
   ]
  },
  {
   "cell_type": "markdown",
   "metadata": {},
   "source": [
    "https://www.udemy.com/course/the-data-science-course-complete-data-science-bootcamp/learn/quiz/4620608#overview"
   ]
  },
  {
   "cell_type": "markdown",
   "metadata": {},
   "source": [
    "1. Which of the following statements is TRUE?\n",
    "    * The complement of an event is everything the event is not.\n",
    "    * The event and its complement add up the entire sample space.\n",
    "    * The complement of 'HEADS' is 'TAILS'. \n",
    "2. What is the complement of NOT rolling a 3?\n",
    "    * Rolling a 3\n",
    "        * Remember that the complement of a complement is the event itself. Therefore, the complement of NOT rolling a 3 is simply rolling a 3.\n",
    "3. Which of these are complements?\n",
    "    * Negative numbers and non-negative numbers.\n",
    "        * Option a) omits 0, so they do not complete the sample space. Option b) is wrong because even though they complete the sample space, 0 is a part of both. Option c) is wrong because the two have overlapping values AND still do not complete the sample space. Therefore, d) is the only correct answer since the two cover all numbers without sharing any values in common."
   ]
  },
  {
   "cell_type": "markdown",
   "metadata": {},
   "source": [
    "# **10. Probability - Combinatorics**"
   ]
  },
  {
   "cell_type": "markdown",
   "metadata": {},
   "source": [
    "## 29. Fundamentals of Combinatorics"
   ]
  },
  {
   "cell_type": "markdown",
   "metadata": {},
   "source": [
    "https://www.udemy.com/course/the-data-science-course-complete-data-science-bootcamp/learn/lecture/14241678#overview"
   ]
  },
  {
   "cell_type": "markdown",
   "metadata": {},
   "source": [
    "* **Combinatorics** deals with combinations of objects from a specific finite **set**. \n",
    "    * restrictions :\n",
    "        * repetition, \n",
    "        * order, or \n",
    "        * a different criterion.\n",
    "* Parts of combinatorics:\n",
    "    * permutations, \n",
    "    * variations, and \n",
    "    * combinations.\n",
    "* each of these parts to determine the number of favorable outcomes or the number of all elements in a sample space."
   ]
  },
  {
   "cell_type": "markdown",
   "metadata": {},
   "source": [
    "* ![Alt text](img/29.%20Fundamentals%20of%20Combinatorics1.jpg)\n",
    "* ![Alt text](img/29.%20Fundamentals%20of%20Combinatorics2.jpg)"
   ]
  },
  {
   "cell_type": "markdown",
   "metadata": {},
   "source": [
    "## Quiz 22: Fundamentals of Combinatorics"
   ]
  },
  {
   "cell_type": "markdown",
   "metadata": {},
   "source": [
    "https://www.udemy.com/course/the-data-science-course-complete-data-science-bootcamp/learn/quiz/4620610#overview"
   ]
  },
  {
   "cell_type": "markdown",
   "metadata": {},
   "source": [
    "1. According to the lecture, which of the following is NOT one of the 3 integral parts that make up Combinatorics?\n",
    "    * Probability\n",
    "        * As mentioned in the lecture the 3 integral parts of Combinatorics are Permutations, Variations and Combinations."
   ]
  },
  {
   "cell_type": "markdown",
   "metadata": {},
   "source": [
    "## 30. Permutations and How to Use Them"
   ]
  },
  {
   "cell_type": "markdown",
   "metadata": {},
   "source": [
    "https://www.udemy.com/course/the-data-science-course-complete-data-science-bootcamp/learn/lecture/14241690#overview"
   ]
  },
  {
   "cell_type": "markdown",
   "metadata": {},
   "source": [
    "* Permutations represents the number of different possible ways we can arrange a set of elements.\n",
    "    * digits, \n",
    "    * letters, \n",
    "    * objects, or \n",
    "    * even people."
   ]
  },
  {
   "cell_type": "markdown",
   "metadata": {},
   "source": [
    "* ![Alt text](img/30.%20Permutations%20and%20How%20to%20Use%20Them1.jpg)\n",
    "* ![Alt text](img/30.%20Permutations%20and%20How%20to%20Use%20Them2.jpg)\n",
    "* The order in which we fill them out is completely up to us.\n",
    "* n = different possible winners.\n",
    "* n-1 =  many possibilities for the second slot\n",
    "* n-2 = possible outcomes for who finishes third"
   ]
  },
  {
   "cell_type": "markdown",
   "metadata": {},
   "source": [
    "## Quiz 23: Permutations and How to Use Them"
   ]
  },
  {
   "cell_type": "markdown",
   "metadata": {},
   "source": [
    "https://www.udemy.com/course/the-data-science-course-complete-data-science-bootcamp/learn/quiz/4620612#overview"
   ]
  },
  {
   "cell_type": "markdown",
   "metadata": {},
   "source": [
    "1. Going back to the Formula 1 example from the lecture, in how many ways can the 20 drivers finish the race?\n",
    "    * 20!\n",
    "        * Ten teams of two drivers means there are 20 drivers that take part in the race. Even if a driver does not cross the finish line, they are assigned a finishing position based on when they exited the race. Therefore, we need to calculate a permutation for n = 20, which is 20!.\n",
    "2. When we determine the available options for every position in a permutation, can we start with the middle element?\n",
    "    * Yes, choosing the order is completely up to us.\n",
    "        * When dealing with permutation, we can start from any position in the sample space. Convention dictates that we usually start from the first, but we can begin with any element we desire."
   ]
  },
  {
   "cell_type": "markdown",
   "metadata": {},
   "source": [
    "## 31. Simple Operations with Factorials"
   ]
  },
  {
   "cell_type": "markdown",
   "metadata": {},
   "source": [
    "https://www.udemy.com/course/the-data-science-course-complete-data-science-bootcamp/learn/lecture/14241696#overview"
   ]
  },
  {
   "cell_type": "markdown",
   "metadata": {},
   "source": [
    "* ![Alt text](img/31.%20Simple%20Operations%20with%20Factorials1.jpg)\n",
    "* ![Alt text](img/31.%20Simple%20Operations%20with%20Factorials2.jpg)\n",
    "* ![Alt text](img/31.%20Simple%20Operations%20with%20Factorials3.jpg)\n",
    "* ![Alt text](img/31.%20Simple%20Operations%20with%20Factorials4.jpg)\n",
    "* ![Alt text](img/31.%20Simple%20Operations%20with%20Factorials5.jpg)\n",
    "* ![Alt text](img/31.%20Simple%20Operations%20with%20Factorials6.jpg)\n",
    "* ![Alt text](img/31.%20Simple%20Operations%20with%20Factorials7.jpg)"
   ]
  },
  {
   "cell_type": "markdown",
   "metadata": {},
   "source": [
    "## Quiz 24: Simple Operations with Factorials"
   ]
  },
  {
   "cell_type": "markdown",
   "metadata": {},
   "source": [
    "https://www.udemy.com/course/the-data-science-course-complete-data-science-bootcamp/learn/quiz/4620614#overview"
   ]
  },
  {
   "cell_type": "markdown",
   "metadata": {},
   "source": [
    "1. What is 5! equal to?\n",
    "    * 120\n",
    "        * Correct, because 120 = 1 * 2 * 3 * 4 * 5. Option a) is simply 5, while c) and d) respectively show the values from 4! And 6!.\n",
    "2. Which of the following is NOT equivalent of \"6!\" ?\n",
    "    * 8!/8\n",
    "        * Since n! = (n+1)!/(n+1), then 8!/8 = 7!, which is different from 6!. Therefore, this answer correct.\n",
    "3. Which of the following is equivalent to \"5!/3!\" ?\n",
    "    * 4*5\n",
    "        * Recall that when we have n!/k!, the result is equivalent to the product of all integers from k+1 to n. Since n=5 and k=3, then we have the product of all integers within the closed interval from 4 to 5."
   ]
  },
  {
   "cell_type": "markdown",
   "metadata": {},
   "source": [
    "## 32. Solving Variations with Repetition"
   ]
  },
  {
   "cell_type": "markdown",
   "metadata": {},
   "source": [
    "https://www.udemy.com/course/the-data-science-course-complete-data-science-bootcamp/learn/lecture/14241702#overview"
   ]
  },
  {
   "cell_type": "markdown",
   "metadata": {},
   "source": [
    "* Variations, express the total number of ways we can pick and arrange some elements of a given set.\n",
    "* ![Alt text](img/32.%20Solving%20Variations%20with%20Repetition1.jpg)\n",
    "* ![Alt text](img/32.%20Solving%20Variations%20with%20Repetition2.jpg)\n",
    "* ![Alt text](img/32.%20Solving%20Variations%20with%20Repetition3.jpg)"
   ]
  },
  {
   "cell_type": "markdown",
   "metadata": {},
   "source": [
    "## Quiz 25: Solving Variations with Repetition"
   ]
  },
  {
   "cell_type": "markdown",
   "metadata": {},
   "source": [
    "https://www.udemy.com/course/the-data-science-course-complete-data-science-bootcamp/learn/quiz/4620616#overview"
   ]
  },
  {
   "cell_type": "markdown",
   "metadata": {},
   "source": [
    "1. When do we use Variations instead of Permutations?\n",
    "    * When we are not arranging all elements in the sample space.\n",
    "        * We use Variations when we have to first pick and then arrange some (but not all) elements of the sample space.\n",
    "2. Going back to the combinations lock example from last lecture, imagine the correct code consisted of a single 4-letter word. Remember that we can only use the letters A, B and C. How many possible passcodes are there?<br>\n",
    "**Note: Assuming n and y are some numbers, we denote \"n to the power of y\" as n^y.\n",
    "    * 3^4\n",
    "        * We have 4 different positions and we have 3 possible outcomes for each one. Therefore, we have 3^4, or 81 possible passcodes\n",
    "3. Going back to the combination lock example from the lecture, imagine the correct code consisted of a single 4-letter word. However, this time the passcode can only consist of letters found in the word “password”. How many possible passcodes are there?<br>\n",
    "Hint: How many unique letters can be found in \"password\"?\n",
    "    * 7^4\n",
    "        * Even though “password” is an 8-letter word, it consists of only 7 distinct letters. That means we have 7 options for each position, so there exist 7^4 different possible passcodes."
   ]
  },
  {
   "cell_type": "markdown",
   "metadata": {},
   "source": [
    "## 33. Solving Variations without Repetition"
   ]
  },
  {
   "cell_type": "markdown",
   "metadata": {},
   "source": [
    "https://www.udemy.com/course/the-data-science-course-complete-data-science-bootcamp/learn/lecture/14241708#overview"
   ]
  },
  {
   "cell_type": "markdown",
   "metadata": {},
   "source": [
    "* The further down the order, the fewer options are left with, since nobody is permitted to run multiple legs.\n",
    "* Variations without repetition is because we cannot use the same element twice if we already choose\n",
    "* Variations don't take into account double counting elements.\n",
    "* ![Alt text](img/33.%20Solving%20Variations%20without%20Repetition1.jpg)\n",
    "* ![Alt text](img/33.%20Solving%20Variations%20without%20Repetition2.jpg)"
   ]
  },
  {
   "cell_type": "markdown",
   "metadata": {},
   "source": [
    "## Quiz 26: Solving Variations without Repetition"
   ]
  },
  {
   "cell_type": "markdown",
   "metadata": {},
   "source": [
    "https://www.udemy.com/course/the-data-science-course-complete-data-science-bootcamp/learn/quiz/4620618#overview"
   ]
  },
  {
   "cell_type": "markdown",
   "metadata": {},
   "source": [
    "1. Going back to the relay example from the lecture, what if instead of 5 people on the team, we had 7. We would still have to choose 4 of them and arrange them in what order to run, but in how many ways can we accomplish that?   \n",
    "    * 7!/3!\n",
    "        * In this case, we can plug in 7 for n and 4 for p into the formula from the lecture. Then, n!/(n-p)!=7!/(7-4)!, which is just 7!/3!.\n",
    "2. Going back to the relay example from the lecture, what if instead of 5 people on the team, we had 7. Furthermore, this time we also need to pick a reserve player to be on stand-by.<br>\n",
    "In how many ways can we accomplish that?\n",
    "    * 7!/2!\n",
    "        * In this instance, we have the 4 different legs and also the person on stand-by, which results in a total of 5 positions. Therefore, we need to pick and choose 5 of the 7 people on the team. We simply plug in 7 for n and 5 for p into the formula to get n!/(n-p)!=7!/(7-5)!, or simply 7!/2!.\n",
    "3. Imagine you were asked to order a 3-tier cake for your best friend' s wedding. They asked you to get a cake with a variety of flavors, so you decide to order different batters (cake flavours)  for each tier. The pastry shop you contacted offers 5 different batters, so you want to know how many distinct options you have for the cake.\n",
    "    * 5!/2!\n",
    "        * We need to pick and arrange 3 of the 5 available flavors. Applying the formula we talked about earlier, we get 5!/((5-3)!), or 5!/2! different cakes."
   ]
  },
  {
   "cell_type": "markdown",
   "metadata": {},
   "source": [
    "## 34. Solving Combinations"
   ]
  },
  {
   "cell_type": "markdown",
   "metadata": {},
   "source": [
    "https://www.udemy.com/course/the-data-science-course-complete-data-science-bootcamp/learn/lecture/14241718#overview"
   ]
  },
  {
   "cell_type": "markdown",
   "metadata": {},
   "source": [
    "* Combinations represent the number of different ways we can pick certain elements of a set.\n",
    "* Combination can take double counting element\n",
    "* ![Alt text](img/34.%20Solving%20Combinations1.jpg)\n",
    "* ![Alt text](img/34.%20Solving%20Combinations2.jpg)\n",
    "* ![Alt text](img/34.%20Solving%20Combinations3.jpg)\n",
    "* ![Alt text](img/34.%20Solving%20Combinations4.jpg)\n",
    "* ![Alt text](img/34.%20Solving%20Combinations5.jpg)"
   ]
  },
  {
   "cell_type": "markdown",
   "metadata": {},
   "source": [
    "## Quiz 27: Solving Combinations"
   ]
  },
  {
   "cell_type": "markdown",
   "metadata": {},
   "source": [
    "https://www.udemy.com/course/the-data-science-course-complete-data-science-bootcamp/learn/quiz/4620620#overview"
   ]
  },
  {
   "cell_type": "markdown",
   "metadata": {},
   "source": [
    "1. Which of the following depicts the relationship between permutations, variations and combinations without repetition?\n",
    "    * C = V / P\n",
    "        * As we stated in the lecture, every permutation of a combination is a different variation. Therefore, there are P-times more variations than combinations.\n",
    "2. Imagine you are on a trip to Paris and decide to try some of their famous macaroons. The bakery you go to offers a different size “variety” packs, where you get to choose 3, 5 or 8 macaroons. The only requirement is that they all be different flavors.  <br>\n",
    "How many different 3-macaroon packs can you get, considering there are 8 distinct flavors.\n",
    "    * 8!/(3!5!)\n",
    "        * Since it makes no difference to us what order they put the macarons in the box, we are dealing with combinations instead of variations. There are 8 distinct flavours, but we are only getting 3 macarons. Then n is 8 and p is 3, so we plug these values into the formula from this lecture to get n!/p!(n-p)!=8!/3!5!.\n",
    "3. Now imagine you want to get the medium pack which contains 5 macaroons instead of 3. How many different possible packs can you make?\n",
    "    * 8!/(5!3!)\n",
    "        * Just like the last question, it makes no difference to us what order they put the macaroons in the box, we are dealing with combinations. There are 8 distinct flavors, but we are only getting 5 macaroons. Then n is 8 and p is 5, so we plug these values into the formula from this lecture to get n!/p!(n-p)!=8!/(5!3!)\n",
    "4. Now imagine the same scenario but this time you want the large box of 8 macaroons. How many different variety packs can you get?\n",
    "    * 1\n",
    "        * If we plug in 8 for both n and p, we get that there are n!/p!(n-p)!=8!/(8!0!) different variety packs of 8 macrons. Since 0!=1, 8!/(8!0!)=8!/8! , which is just 1. Because we have only 1 way of getting 8 macrons with different flavors considering we only have 8 distinct fillings."
   ]
  },
  {
   "cell_type": "markdown",
   "metadata": {},
   "source": [
    "## 35. Symmetry of Combinations"
   ]
  },
  {
   "cell_type": "markdown",
   "metadata": {},
   "source": [
    "https://www.udemy.com/course/the-data-science-course-complete-data-science-bootcamp/learn/lecture/14241726#overview"
   ]
  },
  {
   "cell_type": "markdown",
   "metadata": {},
   "source": [
    "* ![Alt text](img/35.%20Symmetry%20of%20Combinations1.jpg)\n",
    "* ![Alt text](img/35.%20Symmetry%20of%20Combinations2.jpg)"
   ]
  },
  {
   "cell_type": "markdown",
   "metadata": {},
   "source": [
    "## Quiz 28: Symmetry of Combinations"
   ]
  },
  {
   "cell_type": "markdown",
   "metadata": {},
   "source": [
    "https://www.udemy.com/course/the-data-science-course-complete-data-science-bootcamp/learn/quiz/4620622#overview"
   ]
  },
  {
   "cell_type": "markdown",
   "metadata": {},
   "source": [
    "1. What is the intuition behind the symmetry of combinations?<br>\n",
    "Note: We're looking for a statement that explains precisely the mathematical symmetry aspect (i.e. objects equal distance apart, have identical characteristics)\n",
    "    * Picking \"p\"-many elements out of \"n\", is the same as omitting \"n-p\"-many elements.\n",
    "        * Despite answers a) & b) being true in general, they are not the reason behind symmetry. The statement in a) states a reason for why symmetry can be useful. The one in b) also shows why we would want to apply symmetry."
   ]
  },
  {
   "cell_type": "markdown",
   "metadata": {},
   "source": [
    "## 36. Solving Combinations with Separate Sample Spaces"
   ]
  },
  {
   "cell_type": "markdown",
   "metadata": {},
   "source": [
    "https://www.udemy.com/course/the-data-science-course-complete-data-science-bootcamp/learn/lecture/14241744#overview"
   ]
  },
  {
   "cell_type": "markdown",
   "metadata": {},
   "source": [
    "## Quiz 29: Solving Combinations with Separate Sample Spaces"
   ]
  },
  {
   "cell_type": "markdown",
   "metadata": {},
   "source": [
    "https://www.udemy.com/course/the-data-science-course-complete-data-science-bootcamp/learn/quiz/4620624#overview"
   ]
  },
  {
   "cell_type": "markdown",
   "metadata": {},
   "source": [
    "1. How many different burger menus can we order from a McDonald's Restaurant if we have a choice of 8 burgers, 3 sizes of fries and 5 different drinks, assuming a menu consist of a burger, some fries and a drink?\n",
    "    * 8*3*5\n",
    "        * We have 3 positions and we have different-sized sample spaces for each one. As mentioned in the lecture, we treat the different parts of the menu as positions. For each of the 3 positions, we have a different number of possible choices: 8 for the burgers, 3 for the fries and 5 for the beverages. Therefore, we have 8×3×5, or 120 different possible menus to chose from."
   ]
  },
  {
   "cell_type": "markdown",
   "metadata": {},
   "source": [
    "## 37. Combinatorics in Real-Life: The Lottery"
   ]
  },
  {
   "cell_type": "markdown",
   "metadata": {},
   "source": [
    "https://www.udemy.com/course/the-data-science-course-complete-data-science-bootcamp/learn/lecture/14241754#overview"
   ]
  },
  {
   "cell_type": "markdown",
   "metadata": {},
   "source": [
    "## Quiz 30: Combinatorics in Real-Life: The Lottery"
   ]
  },
  {
   "cell_type": "markdown",
   "metadata": {},
   "source": [
    "https://www.udemy.com/course/the-data-science-course-complete-data-science-bootcamp/learn/quiz/4620626#overview"
   ]
  },
  {
   "cell_type": "markdown",
   "metadata": {},
   "source": [
    "1. Imagine we bought 5 lottery tickets and we played with the exact same numbers on each one. How does our likelihood of success change compared to having a single ticket?\n",
    "    * Our likelihood of success remains the same, since the number of favorable outcomes remains the same."
   ]
  },
  {
   "cell_type": "markdown",
   "metadata": {},
   "source": [
    "## 38. A Recap of Combinatorics"
   ]
  },
  {
   "cell_type": "markdown",
   "metadata": {},
   "source": [
    "https://www.udemy.com/course/the-data-science-course-complete-data-science-bootcamp/learn/lecture/14241758#overview"
   ]
  },
  {
   "cell_type": "markdown",
   "metadata": {},
   "source": [
    "* ![Alt text](img/38.%20A%20Recap%20of%20Combinatorics1.jpg)\n",
    "* ![Alt text](img/38.%20A%20Recap%20of%20Combinatorics2.jpg)\n",
    "* ![Alt text](img/38.%20A%20Recap%20of%20Combinatorics3.jpg)\n",
    "* ![Alt text](img/38.%20A%20Recap%20of%20Combinatorics4.jpg)\n",
    "* ![Alt text](img/38.%20A%20Recap%20of%20Combinatorics5.jpg)\n",
    "* ![Alt text](img/38.%20A%20Recap%20of%20Combinatorics6.jpg)"
   ]
  },
  {
   "cell_type": "markdown",
   "metadata": {},
   "source": [
    "## 39. A Practical Example of Combinatorics"
   ]
  },
  {
   "cell_type": "markdown",
   "metadata": {},
   "source": [
    "https://www.udemy.com/course/the-data-science-course-complete-data-science-bootcamp/learn/lecture/14242356#overview"
   ]
  },
  {
   "cell_type": "markdown",
   "metadata": {},
   "source": [
    "# **11. Probability - Bayesian Inference**"
   ]
  },
  {
   "cell_type": "markdown",
   "metadata": {},
   "source": [
    "## 40. Sets and Events"
   ]
  },
  {
   "cell_type": "markdown",
   "metadata": {},
   "source": [
    "https://www.udemy.com/course/the-data-science-course-complete-data-science-bootcamp/learn/lecture/14241772#overview"
   ]
  },
  {
   "cell_type": "markdown",
   "metadata": {},
   "source": [
    "* Every event has a set of outcomes (favourable outcomes)\n",
    "    * example: even number (2, 4, 6, ...)\n",
    "* Values of a set don't always have to be numerical\n",
    "* Any set can be either **empty** or have values in it\n",
    "    * the empty set = the null set"
   ]
  },
  {
   "cell_type": "markdown",
   "metadata": {},
   "source": [
    "* Non-Empty Sets\n",
    "    1. Finite\n",
    "    2. Infinite\n",
    "    * Depending on the number of elements they have."
   ]
  },
  {
   "cell_type": "markdown",
   "metadata": {},
   "source": [
    "* ![Alt text](img/40.%20Sets%20and%20Events1.jpg)\n",
    "* ![Alt text](img/40.%20Sets%20and%20Events2.jpg)\n",
    "* ![Alt text](img/40.%20Sets%20and%20Events3.jpg)\n",
    "* ![Alt text](img/40.%20Sets%20and%20Events4.jpg)\n",
    "* ![Alt text](img/40.%20Sets%20and%20Events5.jpg)\n",
    "* ![Alt text](img/40.%20Sets%20and%20Events6.jpg)\n",
    "* ![Alt text](img/40.%20Sets%20and%20Events7.jpg)"
   ]
  },
  {
   "cell_type": "markdown",
   "metadata": {},
   "source": [
    "## Quiz 31: Sets and Events"
   ]
  },
  {
   "cell_type": "markdown",
   "metadata": {},
   "source": [
    "https://www.udemy.com/course/the-data-science-course-complete-data-science-bootcamp/learn/quiz/4620628#overview"
   ]
  },
  {
   "cell_type": "markdown",
   "metadata": {},
   "source": [
    "1. Which of the following is true about events?\n",
    "    * There always exist a set of outcomes that satisfy a given event.\n",
    "        * Because the null set exists, even the outcomes of an impossible event can be described with a set. Option b) is incorrect, since events can have categorical, Boolean or other types of outcomes different from numeric ones. Option c) is wrong, since we indicate individual outcomes or elements of a set with lower-case letters from the Latin alphabet. Option d) is incorrect because we denote events and the sets of outcomes that satisfy them with capital letters.\n",
    "2. How do we interpret the following?\n",
    "    * ![Alt text](img/Quiz%2031%20Sets%20and%20Events1.jpg)\n",
    "    * For any non-negative value x, within the set X.\n",
    "        * Option a) is incorrect because it omits zero as a possible value. The same is true for c). Option d) would be correct if it stated: “greater than or equal to”. Option d) is wrong because the values also have to part of the set X.\n",
    "3. Question 3:\n",
    "    * ![Alt text](img/Quiz%2031%20Sets%20and%20Events2.jpg)\n",
    "    * b is an element of A\n",
    "        * Since B is a subset of A, then any value of B, is also in A. Therefore, since b is a part of the smaller set B, it is also a part of the larger set A. Option a) is incorrect, since elements a and b don’t necessarily have to be comparable like in the EU example from the lecture. Option b) is incorrect because two events being part of the same set (A) does not mean they have identical values. Option d) is incorrect, because it does not necessarily hold true all the time."
   ]
  },
  {
   "cell_type": "markdown",
   "metadata": {},
   "source": [
    "## 41. Ways Sets Can Interact"
   ]
  },
  {
   "cell_type": "markdown",
   "metadata": {},
   "source": [
    "https://www.udemy.com/course/the-data-science-course-complete-data-science-bootcamp/learn/lecture/14241776#overview"
   ]
  },
  {
   "cell_type": "markdown",
   "metadata": {},
   "source": [
    "* ![Alt text](img/41.%20Ways%20Sets%20Can%20Interact1.jpg)\n",
    "* ![Alt text](img/41.%20Ways%20Sets%20Can%20Interact2.jpg)\n",
    "* ![Alt text](img/41.%20Ways%20Sets%20Can%20Interact3.jpg)"
   ]
  },
  {
   "cell_type": "markdown",
   "metadata": {},
   "source": [
    "* Intersecting\n",
    "    * The two events can occur at the same time\n",
    "* Completely Overlaping\n",
    "    * One Event can only ever occur if the other one does as well\n",
    "* Conclusion:\n",
    "    * If an outcome is NOT part of a SET, it CANNOT be part of any of its SUBSETS\n",
    "    * An outcome NOT being part of SOME subset, does NOT EXCLUDE it from the entirety of the greater set"
   ]
  },
  {
   "cell_type": "markdown",
   "metadata": {},
   "source": [
    "## Quiz 32: Ways Sets Can Interact"
   ]
  },
  {
   "cell_type": "markdown",
   "metadata": {},
   "source": [
    "https://www.udemy.com/course/the-data-science-course-complete-data-science-bootcamp/learn/quiz/4620630#overview"
   ]
  },
  {
   "cell_type": "markdown",
   "metadata": {},
   "source": [
    "1. Which of the following does not describe two events with overlapping sets of outcomes?\n",
    "    * Eating meat and being vegan.\n",
    "        * We know that nobody can be simultaneously vegan and eat meat, so these two events do not have any overlapping values.\n",
    "2. If two events can occur at the same time, then their respective circles would....\n",
    "    * Partially overlap.(intersect)\n",
    "        * Answer a) would be correct if one event occurring guarantees the other one occurring as well. Answer c) would be correct if the two can never occur simultaneously. Answer d) is a special case of answer b). If the two circles are tangent, they do overlap, but only at a single point. That would mean they have a solitary overlapping element. Therefore, option d) is not entirely true all the time, while option b) is always completely true."
   ]
  },
  {
   "cell_type": "markdown",
   "metadata": {},
   "source": [
    "## 42. Intersection of Sets"
   ]
  },
  {
   "cell_type": "markdown",
   "metadata": {},
   "source": [
    "https://www.udemy.com/course/the-data-science-course-complete-data-science-bootcamp/learn/lecture/14241778#overview"
   ]
  },
  {
   "cell_type": "markdown",
   "metadata": {},
   "source": [
    "* Intersections only when we want to denote instances where both events A and B happen simultaneously.\n",
    "\n",
    "* ![Alt text](img/42.%20Intersection%20of%20Sets1.jpg)\n",
    "* ![Alt text](img/42.%20Intersection%20of%20Sets2.jpg)\n",
    "* ![Alt text](img/42.%20Intersection%20of%20Sets3.jpg)\n",
    "* ![Alt text](img/42.%20Intersection%20of%20Sets4.jpg)\n",
    "* ![Alt text](img/42.%20Intersection%20of%20Sets5.jpg)"
   ]
  },
  {
   "cell_type": "markdown",
   "metadata": {},
   "source": [
    "## Quiz 33: Intersection of Sets"
   ]
  },
  {
   "cell_type": "markdown",
   "metadata": {},
   "source": [
    "https://www.udemy.com/course/the-data-science-course-complete-data-science-bootcamp/learn/quiz/4620632#overview"
   ]
  },
  {
   "cell_type": "markdown",
   "metadata": {},
   "source": [
    "1. Mark the FALSE statement.<br>\n",
    "If we know that\n",
    "    * ![Alt text](img/Quiz%2033%20Intersection%20of%20Sets1.jpg)\n",
    "    * a is part of B.\n",
    "        * Since element ‘a’ is a part of A, then A contains ‘a’, so the statement in a) is TRUE. The intersection of two sets is always the same, regardless of how we write it down, so A∩B=B∩A and the statement in b) is also TRUE. Since element ‘b’ is part of the intersection, then it is part of both A and B. Similarly to option a), this implies that the set B contains ‘b’, so answer c) is also TRUE. Therefore, d) is the only FALSE statement.\n",
    "2. Mark the pair of sets, whose intersection is NOT the null set.\n",
    "    * Non-positive and non-negative numbers.\n",
    "        * Non-positive and non-negative numbers both include 0, so there exists an element which is part of their intersection. Therefore, it is different from the null set. The answers in a), c) and d) were all sets, whose circles do not overlap in any way.\n",
    "3. Which of the following showcases two sets, whose intersection is the smaller set?\n",
    "    * Black cards and clubs.\n",
    "        * If the intersection of two sets is the smaller set, then one is a subset of the other. Since all Clubs are also black cards, then answer a) is the correct one. Option b) is incorrect since the intersection of Aces and Jacks is the empty set, since no card is simultaneously both. The same can be said for option d), where no card can have multiple suits. Answer c) is not correct since the two sets intersect, but one is not a subset of the other."
   ]
  },
  {
   "cell_type": "markdown",
   "metadata": {},
   "source": [
    "## 43. Union of Sets"
   ]
  },
  {
   "cell_type": "markdown",
   "metadata": {},
   "source": [
    "https://www.udemy.com/course/the-data-science-course-complete-data-science-bootcamp/learn/lecture/14241782#overview"
   ]
  },
  {
   "cell_type": "markdown",
   "metadata": {},
   "source": [
    "* The union of two sets is a combination of all outcomes preferred for either A or B.\n",
    "* ![Alt text](img/43.%20Union%20of%20Sets1.jpg)\n",
    "* To avoid confusion between the two, remember the symbol for union resembles a capital letter U.\n",
    "* ![Alt text](img/43.%20Union%20of%20Sets2.jpg)\n",
    "* ![Alt text](img/43.%20Union%20of%20Sets3.jpg)\n",
    "* ![Alt text](img/43.%20Union%20of%20Sets4.jpg)\n",
    "* ![Alt text](img/43.%20Union%20of%20Sets5.jpg)"
   ]
  },
  {
   "cell_type": "markdown",
   "metadata": {},
   "source": [
    "## Quiz 34: Union of Sets"
   ]
  },
  {
   "cell_type": "markdown",
   "metadata": {},
   "source": [
    "https://www.udemy.com/course/the-data-science-course-complete-data-science-bootcamp/learn/quiz/4620634#overview"
   ]
  },
  {
   "cell_type": "markdown",
   "metadata": {},
   "source": [
    "1. If the intersection of sets A and B (where A is larger than B), is the set B, then their union is....:\n",
    "    * The larger set. (A)\n",
    "        * If the intersection of two sets is the smaller set, then one is a subset of the other. In such cases, the union of the two sets is simply the larger set, so answer a) is correct. Option b) can be correct in the special case, where the two sets are identical. Since we clearly stated one set is bigger, this cannot be the case and option b) is incorrect. Option c) is true for sets, whose intersection is the empty set. Therefore, it could be correct in the special case, where one of A or B is equal to the null set.\n",
    "2. Question 2:\n",
    "    * ![Alt text](img/Quiz%2034%20Union%20of%20Sets1.jpg)\n",
    "    * d)\n",
    "        * Recall that the union symbol resembles the letter “U”. Furthermore, the union of two sets is the same, regardless of the order in which we write them out, so d) is the correct answer.\n",
    "3. There are 8 blond and 10 brown-eyed people in the office. If only Jason and Eve have both features, how many people represent the union of blond and brown-eyed people?\n",
    "    * 16\n",
    "        * Since Jason and Eve have both features, then the intersection of the two sets would only contain two people. Applying the formula we introduced in the lecture, the union is equal to the sum of the two sets, minus their intersection. Therefore, 8 + 10 – 2, or 16 people in the office posses at least one of the features and b) is the correct answer."
   ]
  },
  {
   "cell_type": "markdown",
   "metadata": {},
   "source": [
    "## 44. Mutually Exclusive Sets"
   ]
  },
  {
   "cell_type": "markdown",
   "metadata": {},
   "source": [
    "https://www.udemy.com/course/the-data-science-course-complete-data-science-bootcamp/learn/lecture/14241784#overview"
   ]
  },
  {
   "cell_type": "markdown",
   "metadata": {},
   "source": [
    "Mutually exclusive sets are sets which are not allowed to have any overlapping elements, graphically their circles never intersect.<br>\n",
    "Mutually exclusive sets have the empty set as their intersection. Therefore, if the intersection of any number of sets is the empty set, then they must be mutually exclusive and vice versa."
   ]
  },
  {
   "cell_type": "markdown",
   "metadata": {},
   "source": [
    "* ![Alt text](img/44.%20Mutually%20Exclusive%20Sets1.jpg)\n",
    "* ![Alt text](img/44.%20Mutually%20Exclusive%20Sets2.jpg)\n",
    "* ![Alt text](img/44.%20Mutually%20Exclusive%20Sets3.jpg)\n",
    "* ![Alt text](img/44.%20Mutually%20Exclusive%20Sets4.jpg)"
   ]
  },
  {
   "cell_type": "markdown",
   "metadata": {},
   "source": [
    "## Quiz 35: Mutually Exclusive Sets"
   ]
  },
  {
   "cell_type": "markdown",
   "metadata": {},
   "source": [
    "https://www.udemy.com/course/the-data-science-course-complete-data-science-bootcamp/learn/quiz/4620636#overview"
   ]
  },
  {
   "cell_type": "markdown",
   "metadata": {},
   "source": [
    "1. How do we graphically express two mutually exclusive sets?\n",
    "    * Their circles do not touch\n",
    "        * The circles of mutually exclusive sets should never touch because they do not have even a single value in common. Therefore, a) c) and d) are all incorrect.\n",
    "2. What are the intersection and union of two mutually exclusive sets?\n",
    "    * The union is their sum and the intersection is the empty set.\n",
    "        * As we have stated before, since the sets are mutually exclusive, no element features in both, so their intersection is the empty set. Plugging this into the formula for finding the size of the union, we get that the union equals the sum of these sets. Therefore, answer d) is correct.\n",
    "3. Which statement is correct?\n",
    "    * All complements are mutually exclusive\n",
    "        * Answer c) is correct because all complements are mutually exclusive, but only some mutually exclusive sets are complements.\n",
    "4. Which pair of sets are mutually exclusive, but not complements?\n",
    "    * A: Winning a game.<br>\n",
    "    B: Drawing a game.<br>\n",
    "    * drawing as in finishing in a draw\n",
    "        * Answer b) is correct, because you can not simultaneously win and draw the same game. However, you can also lose this game, so the two are not complements. Option a) is incorrect, because the two are not mutually exclusive, since 2 is both even and prime. Options c) and d) are incorrect, because the sets in either are complements."
   ]
  },
  {
   "cell_type": "markdown",
   "metadata": {},
   "source": [
    "## 45. Dependence and Independence of Sets"
   ]
  },
  {
   "cell_type": "markdown",
   "metadata": {},
   "source": [
    "https://www.udemy.com/course/the-data-science-course-complete-data-science-bootcamp/learn/lecture/14241788#overview"
   ]
  },
  {
   "cell_type": "markdown",
   "metadata": {},
   "source": [
    "* Independent is the theoretical probability of which remains unaffected by other events.\n",
    "    * Example: is flipping a coin. You always have a 50% chance of getting tails regardless of the result obtained with the previous throw.\n",
    "* Dependence is Probabilities of dependent events vary as conditions change.\n",
    "    * Example: \n",
    "    * ![Alt text](img/45.%20Dependence%20and%20Independence%20of%20Sets1.jpg)\n",
    "    * ![Alt text](img/45.%20Dependence%20and%20Independence%20of%20Sets2.jpg)\n",
    "    * ![Alt text](img/45.%20Dependence%20and%20Independence%20of%20Sets3.jpg)\n",
    "    * ![Alt text](img/45.%20Dependence%20and%20Independence%20of%20Sets4.jpg)\n",
    "        * Conditional Probability -> P(A|C) -> Distinguish dependent from independent events"
   ]
  },
  {
   "cell_type": "markdown",
   "metadata": {},
   "source": [
    "## Quiz 36: Dependence and Independence of Sets"
   ]
  },
  {
   "cell_type": "markdown",
   "metadata": {},
   "source": [
    "https://www.udemy.com/course/the-data-science-course-complete-data-science-bootcamp/learn/quiz/4620638#overview"
   ]
  },
  {
   "cell_type": "markdown",
   "metadata": {},
   "source": [
    "1. If the probability of an event remains unaffected by another event, the two are....\n",
    "    * Independent\n",
    "2. If we draw a card from a standard deck of playing cards, which of the following sets of events A and B are independent?<br>\n",
    "* Hint: Compare the Conditional and Unconditional probabilities (e.g. P(A) and P(A|B)) to determine whether the events in each pair are independent. If P(A) = P(A|B), then the two are independent and if not, A and B are dependent.\n",
    "    * Event A - the card being a diamond<br>\n",
    "    Event B - the card being an Ace\n",
    "        * Answer c) is correct, because our chances of drawing an Ace are 1/13, regardless of whether we drew a diamond or not.\n",
    "3. What do we call the probability we use to distinguish dependent from independent events?\n",
    "    * The conditional probability\n",
    "        * We compare the conditional probability of two events to their pure probability to determine whether they are dependent or not."
   ]
  },
  {
   "cell_type": "markdown",
   "metadata": {},
   "source": [
    "## 46. The Conditional Probability Formula"
   ]
  },
  {
   "cell_type": "markdown",
   "metadata": {},
   "source": [
    "https://www.udemy.com/course/the-data-science-course-complete-data-science-bootcamp/learn/lecture/14241794#overview"
   ]
  },
  {
   "cell_type": "markdown",
   "metadata": {},
   "source": [
    "* Conditional probability is the likelihood of an event occurring, Assuming a different one has already happened.\n",
    "* ![Alt text](img/46.%20The%20Conditional%20Probability%20Formula1.jpg)\n",
    "* ![Alt text](img/46.%20The%20Conditional%20Probability%20Formula2.jpg)\n",
    "* ![Alt text](img/46.%20The%20Conditional%20Probability%20Formula3.jpg)\n",
    "* ![Alt text](img/46.%20The%20Conditional%20Probability%20Formula4.jpg)\n",
    "* ![Alt text](img/46.%20The%20Conditional%20Probability%20Formula5.jpg)\n",
    "* ![Alt text](img/46.%20The%20Conditional%20Probability%20Formula6.jpg)"
   ]
  },
  {
   "cell_type": "markdown",
   "metadata": {},
   "source": [
    "## Quiz 37: The Conditional Probability Formula"
   ]
  },
  {
   "cell_type": "markdown",
   "metadata": {},
   "source": [
    "https://www.udemy.com/course/the-data-science-course-complete-data-science-bootcamp/learn/quiz/4620640#overview"
   ]
  },
  {
   "cell_type": "markdown",
   "metadata": {},
   "source": [
    "1. What can you conclude about events A and B, given that P(A) = P(A|B)?\n",
    "    * The two are independent\n",
    "        * By definition, if the occurrence of one event does not alter the likelihood of the other one occurring, then the two are independent. Therefore, a) is the correct answer.\n",
    "2. Applying the Conditional Probability Formula, what is the probability of event A occurring, given event B has occurred if the likelihood of getting their intersection is 0.15 and the likelihood of event B is 0.6?\n",
    "    * 0.25\n",
    "        * According to the formula, P(A|B) = 0.15/0.6 = 0.25.\n",
    "3. What is the difference between P(A|B) and P(B|A)?3\n",
    "    * One indicates the probability of getting A, given B has occured, while the other indicates the likelihood of getting B, ginven A has occured.\n",
    "        * P(A|B) and P(B|A) express the conditional probabilities involving events A and B, so the correct answer is c)."
   ]
  },
  {
   "cell_type": "markdown",
   "metadata": {},
   "source": [
    "## 47. The Law of Total Probability"
   ]
  },
  {
   "cell_type": "markdown",
   "metadata": {},
   "source": [
    "https://www.udemy.com/course/the-data-science-course-complete-data-science-bootcamp/learn/lecture/14241796#overview"
   ]
  },
  {
   "cell_type": "markdown",
   "metadata": {},
   "source": [
    "* Many scientific papers rely on conducting experiments or surveys.\n",
    "* They often provide summarized statistics we use to analyze and interpret how certain factors affect one another."
   ]
  },
  {
   "cell_type": "markdown",
   "metadata": {},
   "source": [
    "* ![Alt text](img/47.%20The%20Law%20of%20Total%20Probability1.jpg)\n",
    "* ![Alt text](img/47.%20The%20Law%20of%20Total%20Probability2.jpg)\n",
    "* it is more likely for a vegetarian to be female than for of a woman not to eat meat."
   ]
  },
  {
   "cell_type": "markdown",
   "metadata": {},
   "source": [
    "* ![Alt text](img/47.%20The%20Law%20of%20Total%20Probability3.jpg)\n",
    "* ![Alt text](img/47.%20The%20Law%20of%20Total%20Probability4.jpg)"
   ]
  },
  {
   "cell_type": "markdown",
   "metadata": {},
   "source": [
    "## 48. The Additive Rule"
   ]
  },
  {
   "cell_type": "markdown",
   "metadata": {},
   "source": [
    "https://www.udemy.com/course/the-data-science-course-complete-data-science-bootcamp/learn/lecture/14241800#overview"
   ]
  },
  {
   "cell_type": "markdown",
   "metadata": {},
   "source": [
    "* ![Alt text](img/48.%20The%20Additive%20Rule1.jpg)\n",
    "* ![Alt text](img/48.%20The%20Additive%20Rule2.jpg)\n",
    "* ![Alt text](img/48.%20The%20Additive%20Rule3.jpg)\n",
    "* ![Alt text](img/48.%20The%20Additive%20Rule4.jpg)"
   ]
  },
  {
   "cell_type": "markdown",
   "metadata": {},
   "source": [
    "## Quiz 38: The Additive Rule"
   ]
  },
  {
   "cell_type": "markdown",
   "metadata": {},
   "source": [
    "https://www.udemy.com/course/the-data-science-course-complete-data-science-bootcamp/learn/quiz/4620642#overview"
   ]
  },
  {
   "cell_type": "markdown",
   "metadata": {},
   "source": [
    "1. Question 1:\n",
    "    * ![Alt text](img/Quiz%2038%20The%20Additive%20Rule1.jpg)\n",
    "    * 0.8\n",
    "        * According to the additive law, P(Union) = P(A) + P(B) - P(Intersection). Plugging in the values, gives us P(Union) = 0.75 + 0.6 - 0.55 = 0.8.\n",
    "2. Question 2:\n",
    "    * ![Alt text](img/Quiz%2038%20The%20Additive%20Rule2.jpg)\n",
    "    * 0.19\n",
    "        * If we rearrange the Additive Law, we get that P(Intersection) = P(A) + P(B) - P(Union). Plugging in the values we are given results in P(Intersection) = 0.65 + 0.44 - 0.9 = 0.19."
   ]
  },
  {
   "cell_type": "markdown",
   "metadata": {},
   "source": [
    "## 49. The Multiplication Law"
   ]
  },
  {
   "cell_type": "markdown",
   "metadata": {},
   "source": [
    "https://www.udemy.com/course/the-data-science-course-complete-data-science-bootcamp/learn/lecture/14241802#overview"
   ]
  },
  {
   "cell_type": "markdown",
   "metadata": {},
   "source": [
    "* ![Alt text](img/49.%20The%20Multiplication%20Law1.jpg)\n",
    "* ![Alt text](img/49.%20The%20Multiplication%20Law2.jpg)\n",
    "* ![Alt text](img/49.%20The%20Multiplication%20Law3.jpg)\n",
    "* ![Alt text](img/49.%20The%20Multiplication%20Law4.jpg)\n",
    "* ![Alt text](img/49.%20The%20Multiplication%20Law5.jpg)\n",
    "* ![Alt text](img/49.%20The%20Multiplication%20Law6.jpg)"
   ]
  },
  {
   "cell_type": "markdown",
   "metadata": {},
   "source": [
    "## Quiz 39: The Multiplication Law"
   ]
  },
  {
   "cell_type": "markdown",
   "metadata": {},
   "source": [
    "https://www.udemy.com/course/the-data-science-course-complete-data-science-bootcamp/learn/quiz/4620644#overview"
   ]
  },
  {
   "cell_type": "markdown",
   "metadata": {},
   "source": [
    "1. How do we interpret the multiplication rule formula for events A and B?\n",
    "    * The probability of both events happening equals the product of the likelihood of A occuring and the conditional probability that B occurs, given A has already occured.\n",
    "        * The correct interpretation of the multiplication rule is represented in option a). Both options b) and c) interpret the conditional probabilities between A and B incorrectly.\n",
    "2. Imagine you are watching your favorite British soccer team and want to know how likely it is that they will win, and your favorite player Mohamed Salah will score. You know that this season, the team has won in 80% of the games he has scored in. Furthermore, you know that he has scored in 70% of all the games the team has played this season.\n",
    "    * 0.56\n",
    "        * If event A is Liverpool winning the game and event B is Salah scoring, then we know that P(A|B)=0.8 and P(B)=0.7. Plugging in these values into the formula gives us P(A∩B)= P(A|B)×P(B)=0.8×0.7=0.56. Therefore, b) is the correct answer."
   ]
  },
  {
   "cell_type": "markdown",
   "metadata": {},
   "source": [
    "## 50. Bayes' Law"
   ]
  },
  {
   "cell_type": "markdown",
   "metadata": {},
   "source": [
    "https://www.udemy.com/course/the-data-science-course-complete-data-science-bootcamp/learn/lecture/14241804#overview"
   ]
  },
  {
   "cell_type": "markdown",
   "metadata": {},
   "source": [
    "* ![Alt text](img/50.%20Bayes'%20Law1.jpg)\n",
    "* ![Alt text](img/50.%20Bayes'%20Law2.jpg)"
   ]
  },
  {
   "cell_type": "markdown",
   "metadata": {},
   "source": [
    "## Quiz 40: Bayes' Law"
   ]
  },
  {
   "cell_type": "markdown",
   "metadata": {},
   "source": [
    "https://www.udemy.com/course/the-data-science-course-complete-data-science-bootcamp/learn/quiz/4620646#overview"
   ]
  },
  {
   "cell_type": "markdown",
   "metadata": {},
   "source": [
    "1. According to the lecture, what is one field where Bayes' Theorem is often used?\n",
    "    * Medicine\n",
    "        * Medicine is one of the fields that most often uses Bayes’ Theorem to compute and compare the conditional probabilities between symptoms to extract valuable insights.\n",
    "2. What is the value of P(A|B), knowing P(B|A) = 0.6, P(A) = 0.4 and P(B) = 0.3?\n",
    "    * 0.8\n",
    "        * Plugging the values we have into Bayes’ Law gives us P(A|B)=(P(B│A)×P(A))/P(B) =(0.6×0.4)/0.3=0.8. Thus, the conditional probability of getting A, given B equals 0.8."
   ]
  },
  {
   "cell_type": "markdown",
   "metadata": {},
   "source": [
    "## 51. A Practical Example of Bayesian Inference"
   ]
  },
  {
   "cell_type": "markdown",
   "metadata": {},
   "source": [
    "https://www.udemy.com/course/the-data-science-course-complete-data-science-bootcamp/learn/lecture/14242362#overview"
   ]
  },
  {
   "cell_type": "markdown",
   "metadata": {},
   "source": [
    "**See:** MyLearning\\Udemy\\The Data Science Course 2022 - Complete Data Science Bootcamp\\s11 A Practical Example of Bayes Law"
   ]
  },
  {
   "cell_type": "markdown",
   "metadata": {},
   "source": [
    "# **12. Fundamentals of Probability Distributions**"
   ]
  },
  {
   "cell_type": "markdown",
   "metadata": {},
   "source": [
    "## 52. Fundamentals of Probability Distributions"
   ]
  },
  {
   "cell_type": "markdown",
   "metadata": {},
   "source": [
    "https://www.udemy.com/course/the-data-science-course-complete-data-science-bootcamp/learn/lecture/14241806#overview"
   ]
  },
  {
   "cell_type": "markdown",
   "metadata": {},
   "source": [
    "* Distribution shows the possible values a variable can take and how frequently they occur.\n",
    "* Assume: \n",
    "    * Y = represents the actual outcome of an event\n",
    "    * y =  represents one of the possible outcomes.\n",
    "    * P(Y=y) or p(y) = **The probability function**\n",
    "    * Example:\n",
    "        * Y -> The number of red marbles we draw out of a bag\n",
    "        * y -> 5\n",
    "        * P(Y=5) or p(5)\n",
    "<br><br>\n",
    "* Probability Frequency Distribution is measure the likelihood of an outcome.\n",
    "* Recorded the frequency for each unique value and divide it by the total number of elements.\n",
    "    * (possible) Finite number of possible outcomes\n",
    "    * (impossible) Infinite number of possibilities\n",
    "* Example: Imagine you are a data scientist and want to analyze the time it takes for your code to run. Any single compilation could take anywhere from a few milliseconds to several days. Often, the result will be between a few milliseconds and a few minutes. If we record time in seconds, we lose precision which is something to be avoided. To do so we need to use the smallest possible measurement of time. Since every milli, micro or even nanosecond could be split in half for greater accuracy no such thing exists.\n",
    "<br><br>"
   ]
  },
  {
   "cell_type": "markdown",
   "metadata": {},
   "source": [
    "* ![Alt text](img/52.%20Fundamentals%20of%20Probability%20Distributions1.jpg)\n",
    "* ![Alt text](img/52.%20Fundamentals%20of%20Probability%20Distributions2.jpg)\n",
    "* ![Alt text](img/52.%20Fundamentals%20of%20Probability%20Distributions3.jpg)"
   ]
  },
  {
   "cell_type": "markdown",
   "metadata": {},
   "source": [
    "* ![Alt text](img/52.%20Fundamentals%20of%20Probability%20Distributions4.jpg)"
   ]
  },
  {
   "cell_type": "markdown",
   "metadata": {},
   "source": [
    "* ![Alt text](img/52.%20Fundamentals%20of%20Probability%20Distributions5.jpg)\n",
    "* ![Alt text](img/52.%20Fundamentals%20of%20Probability%20Distributions6.jpg)"
   ]
  },
  {
   "cell_type": "markdown",
   "metadata": {},
   "source": [
    "* ![Alt text](img/52.%20Fundamentals%20of%20Probability%20Distributions7.jpg)"
   ]
  },
  {
   "cell_type": "markdown",
   "metadata": {},
   "source": [
    "## Quiz 41: Fundamentals of Probability Distributions"
   ]
  },
  {
   "cell_type": "markdown",
   "metadata": {},
   "source": [
    "https://www.udemy.com/course/the-data-science-course-complete-data-science-bootcamp/learn/quiz/4620648#overview"
   ]
  },
  {
   "cell_type": "markdown",
   "metadata": {},
   "source": [
    "1. What is a distribution?\n",
    "    * A collection of all the possible values a variable can take and how frequently they occur in the sample space\n",
    "2. What is the difference between sample data and population data?\n",
    "    * Sample data represents some part of the data, while population data is the same as all the data\n",
    "        * The population data is equivalent to \"all the data\" and the sample data represents only some of the data.\n",
    "3. Which of the following is expressed with the letter s?\n",
    "    * Sample standard deviation\n",
    "        * We use the letter \"s\" to denote the sample standard deviation."
   ]
  },
  {
   "cell_type": "markdown",
   "metadata": {},
   "source": [
    "## 53. Types of Probability Distributions"
   ]
  },
  {
   "cell_type": "markdown",
   "metadata": {},
   "source": [
    "* ![Alt text](img/53.%20Types%20of%20Probability%20Distributions1.jpg)"
   ]
  },
  {
   "cell_type": "markdown",
   "metadata": {},
   "source": [
    "* ![Alt text](img/53.%20Types%20of%20Probability%20Distributions2.jpg)\n",
    "\n",
    "* Discrete Distribution (The probability would be unconnected individual bars)\n",
    "    * Uniform Dstribution\n",
    "        * All outcomes are equally likely -> Equiprobable\n",
    "            * Example: Drawing card from deck or flipping a coin\n",
    "    * Bernoulli Distribution\n",
    "        * Events with only two possible outcomes (True or False)\n",
    "        * Any event with two outcomes can be transformed into a Bernoulli event\n",
    "            * if we carry out several times **Bernoulli Distribution** in a row, it can change to **Binomial Distribution**\n",
    "    * Binomial Distribution\n",
    "        * two outcomes per iteration\n",
    "        * many iteration\n",
    "    * Poisson Distribution\n",
    "        * Test out how unusual an event frequency is for a given interval\n",
    "* Continuous Distribution (The probability distribution would be a curve)\n",
    "    * Normal Distribution\n",
    "        * Often observe in nature\n",
    "            * Numerous reports\n",
    "            * Limited data\n",
    "                * Student's-T distribution\n",
    "                    * A small sample approximation of a Normal distribution\n",
    "                    * ![Alt text](img/53.%20Types%20of%20Probability%20Distributions3.jpg)\n",
    "    * Chi-Squared\n",
    "        * Asymmetric\n",
    "        * Only consists of non-negative value\n",
    "        * The Chi-Squared does not often mirror real life events, but used in **Hypothesis Testing**\n",
    "        * Goodness of fit\n",
    "        * ![Alt text](img/53.%20Types%20of%20Probability%20Distributions4.jpg)\n",
    "    * Exponential distribution\n",
    "        * Events that are rapidly changing early on\n",
    "            * Example: News articles generate hits based on clicks\n",
    "    * Logistic distribution\n",
    "        * Useful in forecast analysis\n",
    "        * Useful for determining a cut-off point for a successful outcomes"
   ]
  },
  {
   "cell_type": "markdown",
   "metadata": {},
   "source": [
    "## Quiz 42: Types of Probability Distributions"
   ]
  },
  {
   "cell_type": "markdown",
   "metadata": {},
   "source": [
    "https://www.udemy.com/course/the-data-science-course-complete-data-science-bootcamp/learn/quiz/4620650#overview"
   ]
  },
  {
   "cell_type": "markdown",
   "metadata": {},
   "source": [
    "1. What are the two main types of distributions based on the type of data we have?\n",
    "    * Discrete and Continuous\n",
    "        * The two main types of distributions are indeed discrete and continuous.\n",
    "2. Why do we group distributions into types?\n",
    "    * Because they share certain features\n",
    "        * Correct. We group distributions based on similar features they posses, since we know specific elegant statistics about the most common ones."
   ]
  },
  {
   "cell_type": "markdown",
   "metadata": {},
   "source": [
    "## 54. Characteristics of Discrete Distributions"
   ]
  },
  {
   "cell_type": "markdown",
   "metadata": {},
   "source": [
    "https://www.udemy.com/course/the-data-science-course-complete-data-science-bootcamp/learn/lecture/14241816#overview"
   ]
  },
  {
   "cell_type": "markdown",
   "metadata": {},
   "source": [
    "* ![Alt text](img/54.%20Characteristics%20of%20Discrete%20Distributions1.jpg)\n",
    "* ![Alt text](img/54.%20Characteristics%20of%20Discrete%20Distributions2.jpg)\n",
    "* ![Alt text](img/54.%20Characteristics%20of%20Discrete%20Distributions3.jpg)\n",
    "* ![Alt text](img/54.%20Characteristics%20of%20Discrete%20Distributions4.jpg)\n",
    "* ![Alt text](img/54.%20Characteristics%20of%20Discrete%20Distributions5.jpg)"
   ]
  },
  {
   "cell_type": "markdown",
   "metadata": {},
   "source": [
    "## Quiz 43: Characteristics of Discrete Distributions"
   ]
  },
  {
   "cell_type": "markdown",
   "metadata": {},
   "source": [
    "https://www.udemy.com/course/the-data-science-course-complete-data-science-bootcamp/learn/quiz/4620652#overview"
   ]
  },
  {
   "cell_type": "markdown",
   "metadata": {},
   "source": [
    "1. How do we compute the probability of an interval for a discrete distribution?\n",
    "    * We add up the probabilities of each individual outcome in the interval occuring\n",
    "        * The probability of the intervals is simply the total likelihood of any of the values within the interval occurring.\n",
    "2. Which of the following is true for any variable Y following a discrete distribution?<br>\n",
    "We use \"<=\" and \">=\" to express \"less than or equal to\" and \"greater than or equal to\" respectively.\n",
    "    * P( Y <= y ) = P( Y < y+1 )\n",
    "        * This is correct because we have no values between \"y\" and \"y+1\", so both intervals mark all values up to (and including) y."
   ]
  },
  {
   "cell_type": "markdown",
   "metadata": {},
   "source": [
    "## 55. Discrete Distributions: The Uniform Distribution"
   ]
  },
  {
   "cell_type": "markdown",
   "metadata": {},
   "source": [
    "https://www.udemy.com/course/the-data-science-course-complete-data-science-bootcamp/learn/lecture/14241820#overview"
   ]
  },
  {
   "cell_type": "markdown",
   "metadata": {},
   "source": [
    "* ![Alt text](img/55.%20Discrete%20Distributions%20The%20Uniform%20Distribution1.jpg)\n",
    "* ![Alt text](img/55.%20Discrete%20Distributions%20The%20Uniform%20Distribution2.jpg)\n",
    "* ![Alt text](img/55.%20Discrete%20Distributions%20The%20Uniform%20Distribution3.jpg)\n",
    "\n",
    "* Example: If your friend offers you three, identical chocolate bars, the probability assigned to you choosing one of them also follow the uniform distribution.\n",
    "* One big drawback of uniform distributions is that the expected value provides us no relevant information because all outcomes have the same probability.\n",
    "* The expected value, which is 3.5, brings no predictive power.\n",
    "    * ![Alt text](img/55.%20Discrete%20Distributions%20The%20Uniform%20Distribution4.jpg)\n",
    "    * ![Alt text](img/55.%20Discrete%20Distributions%20The%20Uniform%20Distribution5.jpg)"
   ]
  },
  {
   "cell_type": "markdown",
   "metadata": {},
   "source": [
    "## Quiz 44: Discrete Distributions: The Uniform Distribution"
   ]
  },
  {
   "cell_type": "markdown",
   "metadata": {},
   "source": [
    "https://www.udemy.com/course/the-data-science-course-complete-data-science-bootcamp/learn/quiz/4620654#overview"
   ]
  },
  {
   "cell_type": "markdown",
   "metadata": {},
   "source": [
    "1. What does it mean for all possible values form a Uniform Distribution to be \"equiprobable\"?\n",
    "    * All the values have the same probability of occuring\n",
    "        * The prefix \"equi-\" means equal, so \"equiprobable\" means equally probable.\n",
    "2. Why do the expected value and variance have no predictive power for a Discrete Uniform Distribution?\n",
    "    * Because the expected value will posses the same probability as any of the other values in the sample space so we can't create prediction intervals\n",
    "        * Since the expected value does not bring any predictive power, we cannot construct an interval around it and be certain it will yield a high probability."
   ]
  },
  {
   "cell_type": "markdown",
   "metadata": {},
   "source": [
    "## 56. Discrete Distributions: The Bernoulli Distribution"
   ]
  },
  {
   "cell_type": "markdown",
   "metadata": {},
   "source": [
    "https://www.udemy.com/course/the-data-science-course-complete-data-science-bootcamp/learn/lecture/14241824#overview"
   ]
  },
  {
   "cell_type": "markdown",
   "metadata": {},
   "source": [
    "* ![Alt text](img/56.%20Discrete%20Distributions%20The%20Bernoulli%20Distribution1.jpg)\n",
    "* Bernoulli Distribution\n",
    "    1. Have the probabilities of one of the events occurring\n",
    "    2. Have past data indicating some experimental probability\n",
    "* ![Alt text](img/56.%20Discrete%20Distributions%20The%20Bernoulli%20Distribution2.jpg)\n",
    "* Have to assign which outcome is zero and which outcome is one\n",
    "    * E(X) = p\n",
    "        * assign 1\n",
    "    * E(X) = 1 - p\n",
    "        * assign 0\n",
    "* ![Alt text](img/56.%20Discrete%20Distributions%20The%20Bernoulli%20Distribution3.jpg)\n",
    "* ![Alt text](img/56.%20Discrete%20Distributions%20The%20Bernoulli%20Distribution4.jpg)\n",
    "* ![Alt text](img/56.%20Discrete%20Distributions%20The%20Bernoulli%20Distribution5.jpg)\n",
    "* ![Alt text](img/56.%20Discrete%20Distributions%20The%20Bernoulli%20Distribution6.jpg)\n"
   ]
  },
  {
   "cell_type": "markdown",
   "metadata": {},
   "source": [
    "## Quiz 45: Discrete Distributions: The Bernoulli Distribution"
   ]
  },
  {
   "cell_type": "markdown",
   "metadata": {},
   "source": [
    "https://www.udemy.com/course/the-data-science-course-complete-data-science-bootcamp/learn/quiz/4620656#overview"
   ]
  },
  {
   "cell_type": "markdown",
   "metadata": {},
   "source": [
    "1. What are the two key characteristics of the Bernoulli Distribution?\n",
    "    * A single trial and only two possible outcomes\n",
    "        * These are the two features of the experiment we require, to define a distribution as Bernoulli."
   ]
  },
  {
   "cell_type": "markdown",
   "metadata": {},
   "source": [
    "## 57. Discrete Distributions: The Binomial Distribution"
   ]
  },
  {
   "cell_type": "markdown",
   "metadata": {},
   "source": [
    "https://www.udemy.com/course/the-data-science-course-complete-data-science-bootcamp/learn/lecture/14241828#overview"
   ]
  },
  {
   "cell_type": "markdown",
   "metadata": {},
   "source": [
    "* Binomial events are a sequence of identical Bernoulli events.\n",
    "* ![Alt text](img/57.%20Discrete%20Distributions%20The%20Binomial%20Distribution1.jpg)\n",
    "    * ![Alt text](img/57.%20Discrete%20Distributions%20The%20Binomial%20Distribution2.jpg)\n",
    "        * E(Bernoulli Event) -> Which outcome we expect for a single trial\n",
    "        * E(Binomial Event) -> The number of times we expect to get a specific outcome\n",
    "    * ![Alt text](img/57.%20Discrete%20Distributions%20The%20Binomial%20Distribution3.jpg)\n",
    "    * p(y) = The likelihood of getting a given outcome a precise number of times\n",
    "        * ![Alt text](img/57.%20Discrete%20Distributions%20The%20Binomial%20Distribution4.jpg)\n",
    "            * There could exist more than one way to reach our desired outcome\n",
    "            * ![Alt text](img/57.%20Discrete%20Distributions%20The%20Binomial%20Distribution5.jpg)\n",
    "            * ![Alt text](img/57.%20Discrete%20Distributions%20The%20Binomial%20Distribution6.jpg)"
   ]
  },
  {
   "cell_type": "markdown",
   "metadata": {},
   "source": [
    "* ![Alt text](img/57.%20Discrete%20Distributions%20The%20Binomial%20Distribution7.jpg)\n",
    "* ![Alt text](img/57.%20Discrete%20Distributions%20The%20Binomial%20Distribution8.jpg)\n",
    "* ![Alt text](img/57.%20Discrete%20Distributions%20The%20Binomial%20Distribution9.jpg)\n",
    "* ![Alt text](img/57.%20Discrete%20Distributions%20The%20Binomial%20Distribution10.jpg)"
   ]
  },
  {
   "cell_type": "markdown",
   "metadata": {},
   "source": [
    "## Quiz 46: Discrete Distributions: The Binomial Distribution"
   ]
  },
  {
   "cell_type": "markdown",
   "metadata": {},
   "source": [
    "https://www.udemy.com/course/the-data-science-course-complete-data-science-bootcamp/learn/quiz/4620660#overview"
   ]
  },
  {
   "cell_type": "markdown",
   "metadata": {},
   "source": [
    "1. What is the relationship between Binomial and Bernoulli events?\n",
    "    * A Binomial event is a sequance of identical Bernoulli events\n",
    "        * This is a correct interpretation since a Binomial event examines the total number of times one of the outcomes of a Bernoulli event appears over the course of many trials."
   ]
  },
  {
   "cell_type": "markdown",
   "metadata": {},
   "source": [
    "## 58. Discrete Distributions: The Poisson Distribution"
   ]
  },
  {
   "cell_type": "markdown",
   "metadata": {},
   "source": [
    "https://www.udemy.com/course/the-data-science-course-complete-data-science-bootcamp/learn/lecture/14241832#overview"
   ]
  },
  {
   "cell_type": "markdown",
   "metadata": {},
   "source": [
    "* Poisson Distribution\n",
    "    * The frequency with which an event occurs instead of the probability of an event\n",
    "    * The Poisson distribution requires knowing how often it occurs for a specific period of time or distance.\n",
    "* ![Alt text](img/58.%20Discrete%20Distributions%20The%20Poisson%20Distribution1.jpg)\n",
    "* The statement above read as \"variable Y follows a Poisson distribution with Lambda equal to four\".\n"
   ]
  },
  {
   "cell_type": "markdown",
   "metadata": {},
   "source": [
    "* Example: A firefly might light up three times in 10 seconds on average.\n",
    "    * 3 times in 10sec\n",
    "    * Y ~ Po(3)\n",
    "* We should use a Poisson distribution if we want to determine the likelihood of it lighting up eight times in 20 seconds.\n",
    "    * 8 times in 20sec\n",
    "* The graph of the Poisson distribution plots, the number of instances the event occurs in a standard interval of time, and the probability for each one.\n",
    "    * ![Alt text](img/58.%20Discrete%20Distributions%20The%20Poisson%20Distribution2.jpg)"
   ]
  },
  {
   "cell_type": "markdown",
   "metadata": {},
   "source": [
    "* ![Alt text](img/58.%20Discrete%20Distributions%20The%20Poisson%20Distribution3.jpg)\n",
    "* ![Alt text](img/58.%20Discrete%20Distributions%20The%20Poisson%20Distribution4.jpg)\n",
    "* ![Alt text](img/58.%20Discrete%20Distributions%20The%20Poisson%20Distribution5.jpg)\n",
    "* ![Alt text](img/58.%20Discrete%20Distributions%20The%20Poisson%20Distribution6.jpg)\n",
    "* ![Alt text](img/58.%20Discrete%20Distributions%20The%20Poisson%20Distribution7.jpg)\n",
    "* ![Alt text](img/58.%20Discrete%20Distributions%20The%20Poisson%20Distribution8.jpg)\n",
    "* ![Alt text](img/58.%20Discrete%20Distributions%20The%20Poisson%20Distribution9.jpg)\n",
    "* ![Alt text](img/58.%20Discrete%20Distributions%20The%20Poisson%20Distribution10.jpg)\n",
    "* ![Alt text](img/58.%20Discrete%20Distributions%20The%20Poisson%20Distribution11.jpg)"
   ]
  },
  {
   "cell_type": "markdown",
   "metadata": {},
   "source": [
    "## Quiz 47: Discrete Distributions: The Poisson Distribution"
   ]
  },
  {
   "cell_type": "markdown",
   "metadata": {},
   "source": [
    "https://www.udemy.com/course/the-data-science-course-complete-data-science-bootcamp/learn/quiz/4620676#overview"
   ]
  },
  {
   "cell_type": "markdown",
   "metadata": {},
   "source": [
    "1. Why does the graph of the Poisson Distribution start from 0 on the X-axis?\n",
    "    * Because we are measuring the frequency of occurence over a given interval of time or distance\n",
    "        * This is correct because no event can happen a negative number of times."
   ]
  },
  {
   "cell_type": "markdown",
   "metadata": {},
   "source": [
    "## 59. Characteristics of Continuous Distributions"
   ]
  },
  {
   "cell_type": "markdown",
   "metadata": {},
   "source": [
    "https://www.udemy.com/course/the-data-science-course-complete-data-science-bootcamp/learn/lecture/14241838#overview"
   ]
  },
  {
   "cell_type": "markdown",
   "metadata": {},
   "source": [
    "* Continuous Distribution is Events that have many consecutive outcomes (infinitely)\n",
    "    * Sample space is infinite\n",
    "    * Cannot record the frequency of each distinct value\n",
    "    * No longer represent these distributions with a table, but with graph\n",
    "    * ![Alt text](img/59.%20Characteristics%20of%20Continuous%20Distributions1.jpg)\n",
    "        * The graphs for continuous distributions slightly resemble the ones for discreet distributions. However, there are more elements in the sample space so there are more bars on the graph.\n",
    "            * ![Alt text](img/59.%20Characteristics%20of%20Continuous%20Distributions2.jpg)\n",
    "                * Furthermore, the more bars, the narrower each one must be. This results in a smooth curve that goes along the top of these bars.\n",
    "            * ![Alt text](img/59.%20Characteristics%20of%20Continuous%20Distributions3.jpg)"
   ]
  },
  {
   "cell_type": "markdown",
   "metadata": {},
   "source": [
    "* ![Alt text](img/59.%20Characteristics%20of%20Continuous%20Distributions4.jpg)\n",
    "    * The greater the denominator becomes, the closer the fraction is to 0, which mean that probabilities are extremely insignificant.\n",
    "    * Thus, it is accepted that the probability for any individual value from a continuous distribution to be equal to zero.\n",
    "        * P(X) = 0\n",
    "        * P(x > X) = P(x >= X)\n",
    "            * Example: For example, the probability of a college student running a mile in under six minutes is the same as them running it for at most six minutes. That is because we consider the likelihood of finishing in exactly six minutes to be zero.\n",
    "                * P(x < 6 min) = P(x <= 6 min)\n",
    "                * p(x = 6) = 0"
   ]
  },
  {
   "cell_type": "markdown",
   "metadata": {},
   "source": [
    "* **Discrete Distribution Probability Graph**\n",
    "    * Probability Density Function (PDF)\n",
    "        * ![Alt text](img/59.%20Characteristics%20of%20Continuous%20Distributions5.jpg)\n",
    "\n",
    "* **Continuous Distribution Probability Graph**\n",
    "    * Cumulative Density Function (CDF)\n",
    "        * ![Alt text](img/59.%20Characteristics%20of%20Continuous%20Distributions6.jpg)\n",
    "            * It represents probability of the random variable being lower than or equal to a specific value.\n",
    "        * ![Alt text](img/59.%20Characteristics%20of%20Continuous%20Distributions7.jpg)\n",
    "            * Since no value could be lower than or equal to negative infinity, the CDF value for negative infinity would equal zero.\n",
    "            * Since any value would be lower than plus infinity, we would get a one if we plug plus infinity into the distribution function.\n",
    "        * Discrete also have CDF ![Alt text](img/59.%20Characteristics%20of%20Continuous%20Distributions8.jpg)\n",
    "            * Used far less frequently.\n",
    "                * Reason: Because we can always add up the PDF values associated with the individual probabilities we are interested in."
   ]
  },
  {
   "cell_type": "markdown",
   "metadata": {},
   "source": [
    "* CDF is useful when we want to estimate the probability of some interval.\n",
    "    * ![Alt text](img/59.%20Characteristics%20of%20Continuous%20Distributions9.jpg)\n",
    "        * Graphically the area under the density curve would represent the chance of getting a value within that interval."
   ]
  },
  {
   "cell_type": "markdown",
   "metadata": {},
   "source": [
    "* ![Alt text](img/59.%20Characteristics%20of%20Continuous%20Distributions10.jpg)\n",
    "* ![Alt text](img/59.%20Characteristics%20of%20Continuous%20Distributions11.jpg)\n",
    "    * when dealing with continuous variables we are only given their probability density functions. To understand what its graph looks like, we Should should be able to compute the expected value and variance for any PDF.\n",
    "        * ![Alt text](img/59.%20Characteristics%20of%20Continuous%20Distributions12.jpg)\n",
    "        * ![Alt text](img/59.%20Characteristics%20of%20Continuous%20Distributions13.jpg)\n",
    "        * ![Alt text](img/59.%20Characteristics%20of%20Continuous%20Distributions14.jpg)"
   ]
  },
  {
   "cell_type": "markdown",
   "metadata": {},
   "source": [
    "## Quiz 48: Characteristics of Continuous Distributions"
   ]
  },
  {
   "cell_type": "markdown",
   "metadata": {},
   "source": [
    "https://www.udemy.com/course/the-data-science-course-complete-data-science-bootcamp/learn/quiz/4620678#overview"
   ]
  },
  {
   "cell_type": "markdown",
   "metadata": {},
   "source": [
    "1. Graphically, what is the relationship between the PDF and the CDF of a continuous distribution?\n",
    "    * The CDF represents the area under the curve of the PDF\n",
    "        * This is correct since the CDF represents the sum of all the PDF values up to that point."
   ]
  },
  {
   "cell_type": "markdown",
   "metadata": {},
   "source": [
    "## 60. Continuous Distributions: The Normal Distribution"
   ]
  },
  {
   "cell_type": "markdown",
   "metadata": {},
   "source": [
    "https://www.udemy.com/course/the-data-science-course-complete-data-science-bootcamp/learn/lecture/14241844#overview"
   ]
  },
  {
   "cell_type": "markdown",
   "metadata": {},
   "source": [
    "* ![Alt text](img/60.%20Continuous%20Distributions%20The%20Normal%20Distribution1.jpg)\n",
    "    * It read: variable X follows a normal distribution with mean, mu, and variance, sigma squared.\n",
    "    * When dealing with actual data, we would usually know the numerical values of mu and sigma squared.\n",
    "* Normal distribution frequently appears in nature.\n",
    "    * Example: \n",
    "        * The size of a fully grown male lion follows a normal distribution. Many records suggest that the average lion weighs between 150 and 250 kilograms, or 330 to 550 pounds.\n",
    "        * Specimens also exist fall outside of this range weighing less than 150 or more than 250 kilograms tend to be the exception rather than the rule.\n",
    "        * Such individuals serve as outliers in our set, and the more data we gather, the lower part of the data they represent.\n",
    "* The graph for a normal distribution is bell shaped where the majority of the data is centered around the mean. Thus, values futher away from the mean are less likely to occur.\n",
    "    * ![Alt text](img/60.%20Continuous%20Distributions%20The%20Normal%20Distribution2.jpg)\n",
    "    * ![Alt text](img/60.%20Continuous%20Distributions%20The%20Normal%20Distribution3.jpg)\n",
    "    * ![Alt text](img/60.%20Continuous%20Distributions%20The%20Normal%20Distribution4.jpg)\n",
    "* Another peculiarity of the normal distribution is the 68, 95, 99.7 law.\n",
    "    * This law suggests that for any normally distributed event, 68% of all outcomes fall within one standard deviation away from the mean,\n",
    "        * ![Alt text](img/60.%20Continuous%20Distributions%20The%20Normal%20Distribution5.jpg)\n",
    "    * 95% fall within two standard deviations,\n",
    "        * ![Alt text](img/60.%20Continuous%20Distributions%20The%20Normal%20Distribution6.jpg)\n",
    "    * and 99.7 within three.\n",
    "        * ![Alt text](img/60.%20Continuous%20Distributions%20The%20Normal%20Distribution7.jpg)\n",
    "    * The last part really emphasizes the fact that outliers are extremely rare in normal distributions. It also suggests how much we know about a data set if we only have the information that it is normally distributed.\n",
    "        * ![Alt text](img/60.%20Continuous%20Distributions%20The%20Normal%20Distribution8.jpg)"
   ]
  },
  {
   "cell_type": "markdown",
   "metadata": {},
   "source": [
    "## Quiz 49: Continuous Distributions: The Normal Distribution"
   ]
  },
  {
   "cell_type": "markdown",
   "metadata": {},
   "source": [
    "https://www.udemy.com/course/the-data-science-course-complete-data-science-bootcamp/learn/quiz/4620680#overview"
   ]
  },
  {
   "cell_type": "markdown",
   "metadata": {},
   "source": [
    "1. Which of the following is a characteristic of the graph of a Normal Distribution?\n",
    "    * Bell-shaped, Symmetric, and Thin tails\n",
    "        * This is the correct answer, since the graph of the Normal Distribution possesses all 3 features."
   ]
  },
  {
   "cell_type": "markdown",
   "metadata": {},
   "source": [
    "## 61. Continuous Distributions: The Standard Normal Distribution"
   ]
  },
  {
   "cell_type": "markdown",
   "metadata": {},
   "source": [
    "https://www.udemy.com/course/the-data-science-course-complete-data-science-bootcamp/learn/lecture/14241848#overview"
   ]
  },
  {
   "cell_type": "markdown",
   "metadata": {},
   "source": [
    "* Transformation is a way in which we can alter every element of a distribution to get a new distribution with similar characteristics.\n",
    "* For normal distributions we can use addition (+), subtraction (-), multiplication (*, and division (/), without changing the type of the distribution.\n",
    "* to every element of a normal distribution the new distribution would still be normal.\n",
    "    * ![Alt text](img/61.%20Continuous%20Distributions%20The%20Standard%20Normal%20Distribution1.jpg)\n",
    "    * ![Alt text](img/61.%20Continuous%20Distributions%20The%20Standard%20Normal%20Distribution2.jpg)\n",
    "        * However, if we multiply or divide by a number between zero and one, the opposing effects will occur. For example, dividing by a half is the same as multiplying by two, so the graph will shrink even though we are dividing.\n",
    "            * if 1 > C > 0\n",
    "            * x/(1/2) = 2x\n",
    "* Standardizing is a special kind of transformation in which we make the expected value equal to zero and the variance equal to one.\n",
    "    * ![Alt text](img/61.%20Continuous%20Distributions%20The%20Standard%20Normal%20Distribution3.jpg)\n",
    "    * E(X) = 0\n",
    "    * Var(X) = 1\n",
    "* In addition to the 68, 95, 99.7 rule, a table exists which summarizes the most commonly used values for the CDF of a standard normal distribution. This table is known as the standard normal distribution table or the Z-score table."
   ]
  },
  {
   "cell_type": "markdown",
   "metadata": {},
   "source": [
    "* HOW TO DO:\n",
    "    * First, move the graph either to the left or to the right until it's mean equals zero. The way we would do that is by adding or subtracting the mean Mu, from every element.\n",
    "        * ![Alt text](img/61.%20Continuous%20Distributions%20The%20Standard%20Normal%20Distribution4.jpg)\n",
    "    * After this, to make the standardization complete we need to make sure the standard deviation is one. To do so, we would have to divide every element of the newly obtained distribution by the value of the standard deviation, sigma.\n",
    "        * ![Alt text](img/61.%20Continuous%20Distributions%20The%20Standard%20Normal%20Distribution5.jpg)\n",
    "    * If we denote the standard normal distribution with Z, then for any normally distributed variable Y, Z equals Y minus Mu over sigma.\n",
    "        * ![Alt text](img/61.%20Continuous%20Distributions%20The%20Standard%20Normal%20Distribution6.jpg)\n",
    "    * Drawback\n",
    "        * ![Alt text](img/61.%20Continuous%20Distributions%20The%20Standard%20Normal%20Distribution7.jpg)"
   ]
  },
  {
   "cell_type": "markdown",
   "metadata": {},
   "source": [
    "## Quiz 50: Continuous Distributions: The Standard Normal Distribution"
   ]
  },
  {
   "cell_type": "markdown",
   "metadata": {},
   "source": [
    "https://www.udemy.com/course/the-data-science-course-complete-data-science-bootcamp/learn/quiz/4620682#overview"
   ]
  },
  {
   "cell_type": "markdown",
   "metadata": {},
   "source": [
    "1. What are the two characteristics of a Standard Normal Distribution?\n",
    "    * Mean of 0 and variance of 1"
   ]
  },
  {
   "cell_type": "markdown",
   "metadata": {},
   "source": [
    "## 62. Continuous Distributions: The Students' T Distribution"
   ]
  },
  {
   "cell_type": "markdown",
   "metadata": {},
   "source": [
    "https://www.udemy.com/course/the-data-science-course-complete-data-science-bootcamp/learn/lecture/14241856#overview"
   ]
  },
  {
   "cell_type": "markdown",
   "metadata": {},
   "source": [
    "* ![Alt text](img/62.%20Continuous%20Distributions%20The%20Students'%20T%20Distribution1.jpg)\n",
    "    * We read this next statement as : variable Y follows a student's T distribution with three degrees of freedom.\n",
    "* Student'T Distribution is a small sample size approximation of a normal distribution. In instances where we would assume a normal distribution, were it not for the limited number of observations.\n",
    "* For instance, the average lap times for the entire season of a Formula One race follow a **normal distribution**. But the lap times for the first lap of the Monaco Grand Prix would follow a **student's T distribution**.\n",
    "    * The curve of the student's T distribution is also bell-shaped and symmetric. However, it has fatter tails to accommodate the occurrence of values far away from the mean. That is because if such a value features in our limited data it would be representing a bigger part of the total.\n",
    "    * Another key difference between the student's T distribution and the normal one, is that apart from the mean and variance we must also define the degrees of freedom for the distribution.\n",
    "* ![Alt text](img/62.%20Continuous%20Distributions%20The%20Students'%20T%20Distribution2.jpg)\n",
    "* ![Alt text](img/62.%20Continuous%20Distributions%20The%20Students'%20T%20Distribution3.jpg)\n",
    "* Overall, the student's T distribution is frequently used when conducting statistical analysis. It plays a major role when we want to do hypothesis testing with limited data, since we also have a table summarizing the most important values of its CDF."
   ]
  },
  {
   "cell_type": "markdown",
   "metadata": {},
   "source": [
    "## Quiz 51: Continuous Distributions: The Students' T Distribution"
   ]
  },
  {
   "cell_type": "markdown",
   "metadata": {},
   "source": [
    "https://www.udemy.com/course/the-data-science-course-complete-data-science-bootcamp/learn/quiz/4620684#overview"
   ]
  },
  {
   "cell_type": "markdown",
   "metadata": {},
   "source": [
    "1. When do we use a Student's T Distribution?\n",
    "    * When we have limited data about a variable, which historically follows a Normal Distribution\n",
    "        * We use a Students' T Distribution in instances where we would use a Normal Distribution, provided we had more data."
   ]
  },
  {
   "cell_type": "markdown",
   "metadata": {},
   "source": [
    "## 63. Continuous Distributions: The Chi-Squared Distribution"
   ]
  },
  {
   "cell_type": "markdown",
   "metadata": {},
   "source": [
    "https://www.udemy.com/course/the-data-science-course-complete-data-science-bootcamp/learn/lecture/14241860#overview"
   ]
  },
  {
   "cell_type": "markdown",
   "metadata": {},
   "source": [
    "* ![Alt text](img/63.%20Continuous%20Distributions%20The%20Chi-Squared%20Distribution1.jpg)\n",
    "    * we read the following as variable Y follows a chi-squared distribution with three degrees of freedom.\n",
    "* Chi-squared is most featured in statistical analysis when doing hypothesis testing and computing confidence intervals.\n",
    "* ![Alt text](img/63.%20Continuous%20Distributions%20The%20Chi-Squared%20Distribution2.jpg)\n",
    "    * Chi-squared Distribution is not symmetric, but asymmetric. Its graph is highly skewed to the right.\n",
    "    * Furthermore, the values depicted on the x-axis start from zero rather than a negative number. This, shows you yet another transformation.\n",
    "    * Elevating the student's T distribution to the second power gives us the chi-squared, and vice versa. Finding the square root of the chi-squared distribution gives us the students t.\n",
    "    * ![Alt text](img/63.%20Continuous%20Distributions%20The%20Chi-Squared%20Distribution3.jpg)\n",
    "        * The expected value for any chi-squared distribution is equal to its associated degrees of freedom, k. Its variance is equal to two times the degrees of freedom, or simply two times k."
   ]
  },
  {
   "cell_type": "markdown",
   "metadata": {},
   "source": [
    "## Quiz 52: Continuous Distributions: The Chi-Squared Distribution"
   ]
  },
  {
   "cell_type": "markdown",
   "metadata": {},
   "source": [
    "https://www.udemy.com/course/the-data-science-course-complete-data-science-bootcamp/learn/quiz/4620686#overview"
   ]
  },
  {
   "cell_type": "markdown",
   "metadata": {},
   "source": [
    "* What is one of the features of the graph of a Chi-Squared Distribution?\n",
    "    * The graph of the Chi-Squared distribution is asymmetric, heavily-skewed to the right and has a fat tail on the right, and no tail on the left."
   ]
  },
  {
   "cell_type": "markdown",
   "metadata": {},
   "source": [
    "## 64. Continuous Distributions: The Exponential Distribution"
   ]
  },
  {
   "cell_type": "markdown",
   "metadata": {},
   "source": [
    "https://www.udemy.com/course/the-data-science-course-complete-data-science-bootcamp/learn/lecture/14241864#overview"
   ]
  },
  {
   "cell_type": "markdown",
   "metadata": {},
   "source": [
    "* ![Alt text](img/64.%20Continuous%20Distributions%20The%20Exponential%20Distribution1.jpg)\n",
    "    * We read the following statement as Variable X follows an exponential distribution with a scale of a half.\n",
    "* Exponential Distribution\n",
    "    * Variables which most closely follow an exponential distribution are ones with a probability that initially decreases before eventually plateauing.\n",
    "        * Example: Number of views for a Youtube vlog. There is a great interest upon release, so it starts off with many views in the first day or two. After most subscribers have had the chance to see the video, the view counter slows down.\n",
    "* ![Alt text](img/64.%20Continuous%20Distributions%20The%20Exponential%20Distribution2.jpg)\n",
    "    * Graphically, the PDF of such a function would start off very high and sharply decrease within the first few timeframes.\n",
    "* ![Alt text](img/64.%20Continuous%20Distributions%20The%20Exponential%20Distribution3.jpg)\n",
    "    * In a weird way, the CDF would also resemble a boomerang. However, this one has shifted 90 degrees to the right. As you know, the cumulative distribution eventually approaches one, so that would be the value where it plateaus.\n",
    "* ![Alt text](img/64.%20Continuous%20Distributions%20The%20Exponential%20Distribution4.jpg)\n",
    "* ![Alt text](img/64.%20Continuous%20Distributions%20The%20Exponential%20Distribution5.jpg)\n",
    "* ![Alt text](img/64.%20Continuous%20Distributions%20The%20Exponential%20Distribution6.jpg)\n",
    "* ![Alt text](img/64.%20Continuous%20Distributions%20The%20Exponential%20Distribution7.jpg)"
   ]
  },
  {
   "cell_type": "markdown",
   "metadata": {},
   "source": [
    "## Quiz 53: Continuous Distributions: The Exponential Distribution"
   ]
  },
  {
   "cell_type": "markdown",
   "metadata": {},
   "source": [
    "https://www.udemy.com/course/the-data-science-course-complete-data-science-bootcamp/learn/quiz/4620690#overview"
   ]
  },
  {
   "cell_type": "markdown",
   "metadata": {},
   "source": [
    "1. Which of the following is correct about the graphs of the Exponential Distribution?\n",
    "    * The CDF plateaus near 1 mark and the PDF plateaus around the 0 mark\n",
    "        * The PDF plateaus around the 0 mark, since the more y increases, the less likely it is to attain such a value, where as the CDF always has to reach the 1 mark."
   ]
  },
  {
   "cell_type": "markdown",
   "metadata": {},
   "source": [
    "## 65. Continuous Distributions: The Logistic Distribution"
   ]
  },
  {
   "cell_type": "markdown",
   "metadata": {},
   "source": [
    "https://www.udemy.com/course/the-data-science-course-complete-data-science-bootcamp/learn/lecture/14241868#overview"
   ]
  },
  {
   "cell_type": "markdown",
   "metadata": {},
   "source": [
    "* ![Alt text](img/65.%20Continuous%20Distributions%20The%20Logistic%20Distribution1.jpg)\n",
    "    * we read the statement below as: variable Y follows a logistic distribution with location 6 and a scale of 3.\n",
    "* Logistics Distribution \n",
    "    * when trying to determine how continuous variable inputs can affect the probability of a binary outcome. This approach is commonly found in forecasting competitive sports events where there exist only two clear outcomes, victory or defeat.\n",
    "        * ![Alt text](img/65.%20Continuous%20Distributions%20The%20Logistic%20Distribution2.jpg)\n",
    "            * Example: we can analyze whether the average speed of a tennis player's serve plays a crucial role in the outcome of the match.\n",
    "        * ![Alt text](img/65.%20Continuous%20Distributions%20The%20Logistic%20Distribution3.jpg)\n",
    "            * Theory suggests there exists some optimal speed which enables the serve to still be accurate enough. Then, most of the shots we convert into points will likely have similar velocities. As tennis players go further away from the optimal speed their shots either become too slow and easy to handle, or too inaccurate.\n",
    "        * ![Alt text](img/65.%20Continuous%20Distributions%20The%20Logistic%20Distribution4.jpg)\n",
    "    * The cumulative distribution function should be a curve that starts off slow, then picks up rather quickly before plateauing around the 1 mark. That is because once we reach values near the mean the probability of converting the point drastically goes up. Once again, the scale would dictate the shape of the graph. In this case, the smaller the scale the later the graph starts to pick up, but the quicker it reaches values close to 1.\n",
    "        * ![Alt text](img/65.%20Continuous%20Distributions%20The%20Logistic%20Distribution5.jpg)\n",
    "    * To avoid confusing mathematical expressions you only need to know it is equal to the square of the scale times pie squared over 3.\n",
    "        * ![Alt text](img/65.%20Continuous%20Distributions%20The%20Logistic%20Distribution6.jpg)"
   ]
  },
  {
   "cell_type": "markdown",
   "metadata": {},
   "source": [
    "## Quiz 54: Continuous Distributions: The Logistic Distribution"
   ]
  },
  {
   "cell_type": "markdown",
   "metadata": {},
   "source": [
    "https://www.udemy.com/course/the-data-science-course-complete-data-science-bootcamp/learn/quiz/4620692#overview"
   ]
  },
  {
   "cell_type": "markdown",
   "metadata": {},
   "source": [
    "1. What is true about the CDF of a Logistic Distribution?\n",
    "    * It follows an S-shape and plateaus around the 1 value\n",
    "    * The probability drastically starts to increase once we reach values close to the mean\n",
    "    * The steeper the curve is, the faster it reaches value close to absolute cretainty (1)\n",
    "        * All 3 features are true for the CDF of a Logistic Distribution."
   ]
  },
  {
   "cell_type": "markdown",
   "metadata": {},
   "source": [
    "## 66. A Practical Example of Probability Distributions"
   ]
  },
  {
   "cell_type": "markdown",
   "metadata": {},
   "source": [
    "https://www.udemy.com/course/the-data-science-course-complete-data-science-bootcamp/learn/lecture/14242364#overview"
   ]
  },
  {
   "cell_type": "markdown",
   "metadata": {},
   "source": [
    "* ![Alt text](img/66.%20A%20Practical%20Example%20of%20Probability%20Distributions1.jpg)"
   ]
  },
  {
   "cell_type": "markdown",
   "metadata": {},
   "source": [
    "# **13. Probability - Probability in Other Fields**"
   ]
  },
  {
   "cell_type": "markdown",
   "metadata": {},
   "source": [
    "## 67. Probability in Finance"
   ]
  },
  {
   "cell_type": "markdown",
   "metadata": {},
   "source": [
    "https://www.udemy.com/course/the-data-science-course-complete-data-science-bootcamp/learn/lecture/14241874?start=15#overview"
   ]
  },
  {
   "cell_type": "markdown",
   "metadata": {},
   "source": [
    "* Option pricing is an agreement between two parties for the price of a stock or item at a future point in time.\n",
    "    * It allows one of the sides to decide whether to go through with the deal at a later date.\n",
    "    * Since this pact puts one of the parties at a clear disadvantage, the other one must pay them a compensation fee called **the premium**.\n",
    "        * Whoever pays the premium, gets to decide if the deal is going to go through when the predetermined point in the future arrives.\n",
    "    * The pricing aspect of this option represents how much we are willing to pay to receive that pact or what the highest premium we would agree to is."
   ]
  },
  {
   "cell_type": "markdown",
   "metadata": {},
   "source": [
    "* The decision tree describes the different possible payoffs we could get, and their associated probabilities of occurring.\n",
    "    * ![Alt text](img/67.%20Probability%20in%20Finance1.jpg)\n",
    "    * ![Alt text](img/67.%20Probability%20in%20Finance2.jpg)\n",
    "        * Since $300 is greater than zero ( E(P) >= 0 ), this deal is favorable for us, and we should buy the option. \n",
    "            * Usually your counterparty that charges the premium, is also making their calculations. If they have the same information as you they would either make the deal unfavorable for you ( E(P) <= 0 ), or at least a fair deal ( E(P) = 0 ).\n",
    "                * ![Alt text](img/67.%20Probability%20in%20Finance3.jpg)\n",
    "                * We can assume that on average, institutions writing options are trying to balance the deal out and make it a fair deal. How can they do that? They can charge a higher premium. In fact, if they charged exactly $300 higher for the option the payoff would decrease by that amount, making it a fair deal.\n",
    "    * ![Alt text](img/67.%20Probability%20in%20Finance4.jpg)\n",
    "    * ![Alt text](img/67.%20Probability%20in%20Finance5.jpg)\n",
    "* ![Alt text](img/67.%20Probability%20in%20Finance6.jpg)\n",
    "    * Generally investors use probability to determine whether an investing opportunity is worth their money. Knowing how likely or unlikely certain events are helps experienced businessmen make correct calls.\n",
    "    * Many of the assigned probabilities for these events are ballpark figures. To elaborate, these values are not 100% certain, but rather what we predict they could be."
   ]
  },
  {
   "cell_type": "markdown",
   "metadata": {},
   "source": [
    "## 68. Probability in Statistics"
   ]
  },
  {
   "cell_type": "markdown",
   "metadata": {},
   "source": [
    "https://www.udemy.com/course/the-data-science-course-complete-data-science-bootcamp/learn/lecture/14241878#overview"
   ]
  },
  {
   "cell_type": "markdown",
   "metadata": {},
   "source": [
    "* Relation Statistics vs Characteristics\n",
    "    * ![Alt text](img/68.%20Probability%20in%20Statistics1.jpg)\n",
    "        * The field of statistics focuses predominantly on samples and incomplete data.\n",
    "            * Doing so brings some uncertainty to any of the results we reach. This uncertainty is what leads us to rely on some of the most important concepts of probability like expected values or prediction intervals.\n",
    "* In a way, probability lays the groundwork for statistics because it defines terms like mean, variance, or expected value. Statistics tries to analyze numeric and categorical data and see how well it resembles any of the probability distributions.\n",
    "* Statistics introduces many useful concepts based on probability theory.\n",
    "    * Confidence intervals (CI) is uses sample data to define a range with an associated degree of certainty. These degrees of certainty are usually 90%, 95%, or 99% and express the likelihood of the population mean being within that interval.\n",
    "    * A more hand wavy explanation of confidence intervals is that they simply approximate some margins for the mean of the entire population based on a small sample.\n",
    "    * ![Alt text](img/68.%20Probability%20in%20Statistics2.jpg)\n",
    "        * To calculate these confidence intervals, we must know what mean, variance, and standard deviation are."
   ]
  },
  {
   "cell_type": "markdown",
   "metadata": {},
   "source": [
    "* Example: Imagine you are on a trip to see your favorite soccer team in North London.\n",
    "    * You wanna know how much money you should carry with you when you go for a meal before the game, so you gather some data.\n",
    "    * More precisely, you examine the average prices for a main course meal in North London by going through the menus of some 10 restaurants and pubs through Yelp.\n",
    "    * The mean of the data you gathered is 22 pounds 50, so you expect a meal to cost approximately that much.\n",
    "        * when we are uncertain of some outcome, we construct intervals and build our interval around it.\n",
    "    * We know that prices in the region are normally distributed, so the data is symmetric with respect to the mean. Therefore, our interval should be equally far away from the mean in either direction.\n",
    "        * ![Alt text](img/68.%20Probability%20in%20Statistics3.jpg)\n",
    "        * Without going into too much detail, our confidence interval should span between 20 pounds and 25 pounds. This indicates that we are 95% certain the average meal in North London costs somewhere between 20 and 25 pounds."
   ]
  },
  {
   "cell_type": "markdown",
   "metadata": {},
   "source": [
    "* Hypothesis Testing is an idea that can be tested. (H0 : P)\n",
    "    * Example: I may wanna test if the average price of a meal in North London is lower than 30 quid. (H0 : P < $30)\n",
    "    * To do so, I would place the value on the graph and see where it fits.\n",
    "        * ![Alt text](img/68.%20Probability%20in%20Statistics4.jpg)\n",
    "        * If a small part of the data lies to its right, then the statement is probably correct. To determine how small this part is, we need to know several attributes of the data.\n",
    "* Mathematically, the three crucial requirements for conducting successful hypothesis testing are knowing the **mean, variance, and type of the distribution**. With the help of these three and some formulas, we can validate similar statements, again to a specific degree of certainty."
   ]
  },
  {
   "cell_type": "markdown",
   "metadata": {},
   "source": [
    "* ![Alt text](img/68.%20Probability%20in%20Statistics5.jpg)\n",
    "* ![Alt text](img/68.%20Probability%20in%20Statistics6.jpg)\n",
    "    * After finding the distribution we are dealing with, we like to create different models such as regressions.\n",
    "* ![Alt text](img/68.%20Probability%20in%20Statistics7.jpg)\n",
    "    * Since the mathematics behind regressions is complex and computationally expensive, we use computer software to find the appropriate values. We call this Mathematical Modeling.\n",
    "    * It is essentially an extension of statistics that data scientists deal with. \n",
    "    * In fact, what statisticians and mathematicians call mathematical modeling is what data scientists often refer to as supervised machine learning.\n",
    "    * In essence, data science serves as a natural expansion of statistics in the very same way statistics is the natural expansion of probability."
   ]
  },
  {
   "cell_type": "markdown",
   "metadata": {},
   "source": [
    "## 69. Probability in Data Science"
   ]
  },
  {
   "cell_type": "markdown",
   "metadata": {},
   "source": [
    "https://www.udemy.com/course/the-data-science-course-complete-data-science-bootcamp/learn/lecture/14241884#overview"
   ]
  },
  {
   "cell_type": "markdown",
   "metadata": {},
   "source": [
    "* ![Alt text](img/69.%20Probability%20in%20Data%20Science1.jpg)\n",
    "    * We have this expansive chain of mathematical fields that are fundamentally important to one another.\n",
    "        * The same way probability sets the foundation for statistics, statistics constructs the pillars on which data science is built.\n",
    "        * The more general the issues, the more we rely on the simpler concepts from probability. And the more concrete our interests are,  the more we need to delve into data science.\n",
    "\n",
    "* ![Alt text](img/69.%20Probability%20in%20Data%20Science2.jpg)\n",
    "    * Regressions are essentially supervised machine learning. Therefore, any successful data analyst, data scientist or data engineer needs to have a very good understanding of statistics and of course, probability.\n",
    "\n",
    "* ![Alt text](img/69.%20Probability%20in%20Data%20Science3.jpg)\n",
    "    * In data analysis, we usually try to analyze past data and use some insight we find to make reasonable predictions about the future.\n",
    "\n",
    "* ![Alt text](img/69.%20Probability%20in%20Data%20Science4.jpg)\n",
    "    * in mathematical modeling, we often tend to run artificial simulations to see how well our predictions match up to various possible future outcomes. One such approach is called a Monte Carlo simulation.\n",
    "        * Monte Carlo simulation is generating artificial data with which to test the predictive power of our mathematical models.\n",
    "            * The data is not completely arbitrary\n",
    "            * follows certain restrictions we provide.\n",
    "                * example: if the probability of a specific outcome is 0.4 (P(x) = 0.4), then 40% of the artificially created data must match this outcome.\n",
    "            * This is convenient because we can tweak these restrictions to see how much our model is dependent on the data we have fed it initially.\n",
    "            * This is crucial as many models look well when we train them on our initial data but perform poorly when deployed in the real world.\n",
    "\n",
    "*  Data science relies on expected values much more than you would believe. Most machine learning is an extremely fast-paced trial and error process where the computer adjusts its expectations as it goes through the data. Essentially, the more predictions it makes, the more precise they become.\n",
    "    * The future is uncertain, so data scientists often try to predict what will happen based on information they have about the present and the past. Even though machine and deep learning processes tend to yield very high predictive powers, they're still not 100% certain.\n",
    "    * Each prediction has a probability of being incorrect. That is because there are unpredictable events that can occur in real life, earthquakes, volcanic eruptions or sudden scientific breakthroughs can completely change the anticipated course of events. Thus, even data scientists assigned probabilities to their predictions, however accurate they may be.\n",
    "* Data Science is an expansion of probability, statistics, and programming that implements computational technology to solve more advanced questions.\n",
    "    * Even when using it to predict future outcomes, there is a degree of uncertainty of what the future holds. \n",
    "    * That is why it is fundamental for anybody striving to be a data scientist to understand the basics of probability."
   ]
  },
  {
   "cell_type": "markdown",
   "metadata": {},
   "source": [
    "# **14. Part3: Statistics**"
   ]
  },
  {
   "cell_type": "markdown",
   "metadata": {},
   "source": [
    "## 70. Population and Sample"
   ]
  },
  {
   "cell_type": "markdown",
   "metadata": {},
   "source": [
    "https://www.udemy.com/course/the-data-science-course-complete-data-science-bootcamp/learn/lecture/10764376#overview"
   ]
  },
  {
   "cell_type": "markdown",
   "metadata": {},
   "source": [
    "* ![Alt text](img/70.%20Population%20and%20Sample1.jpg)\n",
    "* The first step of every statistical analysis you perform is determine whether the data you are dealing with is a population or a sample.\n",
    "    * A *population* is the collection of all items of interest to our study and is usually denoted with an uppercase **N**.\n",
    "        * Hard to observe\n",
    "        * Hard to contact\n",
    "            * The numbers we've obtained when using a population are called *parameters*.\n",
    "    * A *sample* is a subset of the population and is denoted with a lowercase **n**.\n",
    "        * Easy to observe\n",
    "        * easy to contact\n",
    "            * The numbers we've obtained when working with a sample are called *statistics*.\n",
    "* Statistical tests are usually based on sample data, samples are key to accurate statistical insights. They have two defining characteristics, *randomness* and *representativeness*.\n",
    "    * Randomness\n",
    "        * A random sample is collected when each member of the sample is chosen from the population strictly by chance.\n",
    "    * Representativeness\n",
    "        * A representative sample is a subset of the population that accurately reflects the members of the entire population."
   ]
  },
  {
   "cell_type": "markdown",
   "metadata": {},
   "source": [
    "## Quiz 55: Population and Sample"
   ]
  },
  {
   "cell_type": "markdown",
   "metadata": {},
   "source": [
    "https://www.udemy.com/course/the-data-science-course-complete-data-science-bootcamp/learn/quiz/4450986#overview"
   ]
  },
  {
   "cell_type": "markdown",
   "metadata": {},
   "source": [
    "1. The high school principal wants to conduct a survey on student satisfaction for the entire school. You were tasked with contacting your classmates about their opinion and then presenting them to the principal.<br>\n",
    "Would you say this was population or sample data? What is the value you presented called?\n",
    "    * sample, statistic\n",
    "        * You interviewed only one class – your own. This is a sample taken from the population of all students studying in the high school. Since it was a sample, the value associated with it was a statistic.\n",
    "2. You are trying to estimate the average valuation of start-ups in the USA. Imagine you are able to visit 200 start-ups in Silicon Valley in a random manner. What is a possible problem of your study?\n",
    "    * The sample is not representative\n",
    "        * You were estimating a statistic for all start-ups in the USA. However, your sample was taken only from startups in Silicon Valley. While this may be a proxy for California, it does not represent the other 49 states. Therefore, the sample is not representative."
   ]
  },
  {
   "cell_type": "markdown",
   "metadata": {},
   "source": [
    "# **15. Statistics - Descriptive Statistics**"
   ]
  },
  {
   "cell_type": "markdown",
   "metadata": {},
   "source": [
    "## 71. Types of Data"
   ]
  },
  {
   "cell_type": "markdown",
   "metadata": {},
   "source": [
    "https://www.udemy.com/course/the-data-science-course-complete-data-science-bootcamp/learn/lecture/10764384#overview"
   ]
  },
  {
   "cell_type": "markdown",
   "metadata": {},
   "source": [
    "* ![Alt text](img/71.%20Types%20of%20Data1.jpg)\n",
    "* Different types of variables require different types of statistical and visualization approaches. So, To be able to classify the data you are working with is key.\n",
    "* Two main ways to classify the data :\n",
    "    * Type of Data (types)\n",
    "        * Categorical\n",
    "            * Categories or Groups\n",
    "            * Yes or No questrions\n",
    "        * Numerical (Represent Number)\n",
    "            * Discrete\n",
    "                * Usually be counted in a finite matter.\n",
    "                * What is important for a variable to be defined as discrete is that you can imagine each member of the data set.\n",
    "            * Continuous\n",
    "                * Infinite and impossible to count\n",
    "    * Measurement Level\n"
   ]
  },
  {
   "cell_type": "markdown",
   "metadata": {},
   "source": [
    "## Quiz 56: Types of Data"
   ]
  },
  {
   "cell_type": "markdown",
   "metadata": {},
   "source": [
    "https://www.udemy.com/course/the-data-science-course-complete-data-science-bootcamp/learn/quiz/4450990#overview"
   ]
  },
  {
   "cell_type": "markdown",
   "metadata": {},
   "source": [
    "1. A variable represents the weight of a person. What type of data does it represent?\n",
    "    * numerical, continuous\n",
    "        * The data is numerical, as it represents a number. As we said in the lesson, weight is a continuous variable.\n",
    "2. A variable represents the gender of a person. What type of data does it represent?\n",
    "    * categorical"
   ]
  },
  {
   "cell_type": "markdown",
   "metadata": {},
   "source": [
    "## 72. Levels of Measurement"
   ]
  },
  {
   "cell_type": "markdown",
   "metadata": {},
   "source": [
    "https://www.udemy.com/course/the-data-science-course-complete-data-science-bootcamp/learn/lecture/10764386#overview"
   ]
  },
  {
   "cell_type": "markdown",
   "metadata": {},
   "source": [
    "* Qualitative\n",
    "    * Nominal\n",
    "        * Based on category\n",
    "        * Aren't numbers and cannot be ordered\n",
    "    * Ordinal\n",
    "        * Consists of groups and categories which follow a strict order.\n",
    "            * Example: Likert Scale\n",
    "        * \n",
    "* Quantitative\n",
    "    * Interval\n",
    "        * Doesn't have true zero (0)\n",
    "            * Intervals are not as common.\n",
    "                * Example: Temperature is the most common example of an interval variable.. The issue comes from the fact that zero degrees Celsius and zero degrees Fahrenheit are not true zeros.\n",
    "    * Ratio\n",
    "        * Has true zero (0)\n",
    "            * Most things we observe in the real world are ratios.\n",
    "                * Example: For instance, if I have two apples and you have six apples, you would have three times as many as I do. How did I find that out? Well, the ratio of six and two is three.<br>\n",
    "                Other examples are a number of objects in general, distance, and time."
   ]
  },
  {
   "cell_type": "markdown",
   "metadata": {},
   "source": [
    "## Quiz 57: Levels of Measurement"
   ]
  },
  {
   "cell_type": "markdown",
   "metadata": {},
   "source": [
    "https://www.udemy.com/course/the-data-science-course-complete-data-science-bootcamp/learn/quiz/4450992#overview"
   ]
  },
  {
   "cell_type": "markdown",
   "metadata": {},
   "source": [
    "1. A variable represents the gender of a person. What is the level of measurement?\n",
    "    * nominal\n",
    "        * Gender is a nominal variable. There possible categories cannot be put in any order.\n",
    "2. A variable represents the weight of a person. What is the level of measurement?\n",
    "    * ratio\n",
    "        * Weight is a ratio variable. It is quantitative and there is a true zero point."
   ]
  },
  {
   "cell_type": "markdown",
   "metadata": {},
   "source": [
    "## 73. Categorical Variables - Visualization Techniques"
   ]
  },
  {
   "cell_type": "markdown",
   "metadata": {},
   "source": [
    "https://www.udemy.com/course/the-data-science-course-complete-data-science-bootcamp/learn/lecture/10764388#overview"
   ]
  },
  {
   "cell_type": "markdown",
   "metadata": {},
   "source": [
    "* ![Alt text](img/73.%20Categorical%20Variables%20-%20Visualization%20Techniques1.jpg)\n",
    "* It is easier to visualize data if you know its type and measurement level.\n",
    "* The Pareto Principle is designed to show how subtotals change with each additional category and provide us with a better understanding of our data, also known as the 80-20 rule. It states that 80% of the effects come from 20% of the causes.\n",
    "    * A real life example is a statement by Microsoft that by fixing 20% of its software bugs, they managed to solve 80% of the problems customers experience.\n"
   ]
  },
  {
   "cell_type": "markdown",
   "metadata": {},
   "source": [
    "## Quiz 58: Categorical Variables - Visualization Techniques"
   ]
  },
  {
   "cell_type": "markdown",
   "metadata": {},
   "source": [
    "https://www.udemy.com/course/the-data-science-course-complete-data-science-bootcamp/learn/quiz/4545288#overview"
   ]
  },
  {
   "cell_type": "markdown",
   "metadata": {},
   "source": [
    "1. According to the Pareto Principle:\n",
    "    * 80% of mistakes can be avoided by fixing 20% of the causes"
   ]
  },
  {
   "cell_type": "markdown",
   "metadata": {},
   "source": [
    "## 74. Categorical Variables Exercise"
   ]
  },
  {
   "cell_type": "markdown",
   "metadata": {},
   "source": [
    "https://www.udemy.com/course/the-data-science-course-complete-data-science-bootcamp/learn/lecture/10764390#overview"
   ]
  },
  {
   "cell_type": "markdown",
   "metadata": {},
   "source": [
    "## 75. Numerical Variables - Frequency Distribution Table"
   ]
  },
  {
   "cell_type": "markdown",
   "metadata": {},
   "source": [
    "https://www.udemy.com/course/the-data-science-course-complete-data-science-bootcamp/learn/lecture/10764392#overview"
   ]
  },
  {
   "cell_type": "markdown",
   "metadata": {},
   "source": [
    "* Whenever we wanna plot data, it is best to first order it in a table, so as we did with categorical variables.\n",
    "* Statisticians prefer working with groups of data that contain five to 20 intervals.\n",
    "    * This varies from case to case and the correct choice of intervals largely depends on the amount of data we are working with.\n",
    "    * A simple formula that we use is as follows. The interval width is equal to the largest number minus the smallest number divided by the number of desired intervals.\n",
    "    * ![Alt text](img/75.%20Numerical%20Variables%20-%20Frequency%20Distribution%20Table1.jpg)\n",
    "        * In our case, the length of the interval should be 100 minus one divided by five. The result is 19.8.\n",
    "        * Now we wanna round this number up in order to reach a neater representation. Therefore, our intervals will be as follows, one to 21, 21 to 41, 41 to 61, 61 to 81, and 81 to 101. Each interval has a width of 20.\n",
    "        * ![Alt text](img/75.%20Numerical%20Variables%20-%20Frequency%20Distribution%20Table2.jpg)\n",
    "        * A number is included in a particular interval if that number is greater than the lowest bound and equal to or less than the largest bound.\n",
    "        * As we can see from the table, there are two numbers in the first interval, four in the second, three in the third, six in the fourth, and five in the fifth interval. For many analyses, it is useful to calculate the relative frequency of the data points in each interval.\n",
    "            * Relative frequency is the frequency of a given interval as part of the total.\n",
    "            * ![Alt text](img/75.%20Numerical%20Variables%20-%20Frequency%20Distribution%20Table3.jpg)"
   ]
  },
  {
   "cell_type": "markdown",
   "metadata": {},
   "source": [
    "## Quiz 59: Numerical Variables - Frequency Distribution Table"
   ]
  },
  {
   "cell_type": "markdown",
   "metadata": {},
   "source": [
    "https://www.udemy.com/course/the-data-science-course-complete-data-science-bootcamp/learn/quiz/4545290#overview"
   ]
  },
  {
   "cell_type": "markdown",
   "metadata": {},
   "source": [
    "* If the frequency of a variable is 20 and its total frequency of all variables is 120, what is its relative frequency?\n",
    "    * 0.17"
   ]
  },
  {
   "cell_type": "markdown",
   "metadata": {},
   "source": [
    "## 76. Numerical Variables Exercise"
   ]
  },
  {
   "cell_type": "markdown",
   "metadata": {},
   "source": [
    "https://www.udemy.com/course/the-data-science-course-complete-data-science-bootcamp/learn/lecture/10764394#overview"
   ]
  },
  {
   "cell_type": "markdown",
   "metadata": {},
   "source": [
    "## 77. The Histogram"
   ]
  },
  {
   "cell_type": "markdown",
   "metadata": {},
   "source": [
    "https://www.udemy.com/course/the-data-science-course-complete-data-science-bootcamp/learn/lecture/10764396#overview"
   ]
  },
  {
   "cell_type": "markdown",
   "metadata": {},
   "source": [
    "* The most common graph used to represent numerical data is the histogram.\n",
    "* Histogram looks like a bar chart but conveys ver ydifferent information\n",
    "    * * ![Alt text](img/77.%20The%20Histogram1.jpg)\n",
    "        * As in the bar chart, the vertical axis is of numerical type and shows the absolute frequency.\n",
    "        * The horizontal axis is numerical too.\n",
    "        * Each bar has width equal to the interval, and height equal to the frequency.\n",
    "        \n",
    "    * ![Alt text](img/77.%20The%20Histogram2.jpg)\n",
    "        * Notice how the different bars are touching. This is to show that there is continuation between the intervals.\n",
    "        * In the bar chart, different bars represented different categories, so the bars were completely separate.\n",
    "    * ![Alt text](img/77.%20The%20Histogram3.jpg)\n",
    "        * sometimes, it is useful to plot the intervals against the relative rather than the absolute frequency.\n",
    "        * The histogram looks the same visually but gives different information to the audience.\n",
    "        * Relative frequency is made up of percentages.\n"
   ]
  },
  {
   "cell_type": "markdown",
   "metadata": {},
   "source": [
    "## Quiz 60: The Histogram"
   ]
  },
  {
   "cell_type": "markdown",
   "metadata": {},
   "source": [
    "https://www.udemy.com/course/the-data-science-course-complete-data-science-bootcamp/learn/quiz/4545294#overview"
   ]
  },
  {
   "cell_type": "markdown",
   "metadata": {},
   "source": [
    "1. Which is the second most represented age group according to the histogram?\n",
    "* ![Alt text](img/Quiz%2060%20The%20Histogram1.jpg)\n",
    "    * (52, 67)"
   ]
  },
  {
   "cell_type": "markdown",
   "metadata": {},
   "source": [
    "## 78. Histogram Exercise"
   ]
  },
  {
   "cell_type": "markdown",
   "metadata": {},
   "source": [
    "https://www.udemy.com/course/the-data-science-course-complete-data-science-bootcamp/learn/lecture/10764400#overview"
   ]
  },
  {
   "cell_type": "markdown",
   "metadata": {},
   "source": [
    "## 79. Cross Tables and Scatter Plots"
   ]
  },
  {
   "cell_type": "markdown",
   "metadata": {},
   "source": [
    "https://www.udemy.com/course/the-data-science-course-complete-data-science-bootcamp/learn/lecture/10764402#overview"
   ]
  },
  {
   "cell_type": "markdown",
   "metadata": {},
   "source": [
    "* How do we represent relationships between two variables?\n",
    "    * The most common way to represent them is using cross tables or as some statisticians call them contingency tables.\n",
    "    * ![Alt text](img/79.%20Cross%20Tables%20and%20Scatter%20Plots1.jpg)\n",
    "        * Imagine you are an investment manager and you manage stocks, bonds and real estate investments for three different investors. Each of them has a different idea of risk, and hence their money is allocated in a different way among the three asset classes.\n",
    "            * ![Alt text](img/79.%20Cross%20Tables%20and%20Scatter%20Plots2.jpg)\n",
    "                * It represents the holdings of each investor in the different types of assets.\n",
    "                * The name of this type of chart comes from the fact that for each investor, the categories of assets are represented side by side. In this way, we can easily compare asset holdings for a specific investor or among investors.\n",
    "                * All graphs are very easy to create and read once you have identified the type of data you are dealing with and decided on the best way to visualize it.\n",
    "    * Scatter Plot is used when representing two numerical variables.\n",
    "        * example: data gathered by the reading and writing SAT scores of 100 individuals.\n",
    "        * ![Alt text](img/79.%20Cross%20Tables%20and%20Scatter%20Plots3.jpg)\n",
    "            * SAT scores by component range from 200 to 800 points, and that is why our data is bounded within the range of 200 to 800.\n",
    "            * Vertical access shows the writing scores while the horizontal axis contains reading scores.\n",
    "            * There are 100 students, and the results correspond to a specific point on the graph. Each point gives us information about a particular student's performance.\n",
    "        * Scatter plots usually represent lots and lots of observations. When interpreting a scatter plot, a statistician is not expected to look into single data points. He would be much more interested in getting the main idea of how the data is distributed.\n",
    "        * ![Alt text](img/79.%20Cross%20Tables%20and%20Scatter%20Plots4.jpg)\n",
    "            * The first thing we see is that there is an obvious up trend. This is because lower writing scores are usually obtained by students with lower reading scores and higher writing scores have been achieved by students with higher reading scores.\n",
    "            * Students are more likely to do well on both because the two tasks are closely related.\n",
    "        * ![Alt text](img/79.%20Cross%20Tables%20and%20Scatter%20Plots5.jpg)\n",
    "            * Second, we notice a concentration of students in the middle of the graph with scores in the region of 450 to 550 on both reading and writing.\n",
    "                * 500 is the average score one can get so it makes sense that a lot of people fall into that area.\n",
    "        * ![Alt text](img/79.%20Cross%20Tables%20and%20Scatter%20Plots6.jpg)\n",
    "            * Third, there is this group of people with both very high writing and reading scores. The exceptional students tend to be excellent at both components.\n",
    "        * ![Alt text](img/79.%20Cross%20Tables%20and%20Scatter%20Plots7.jpg)\n",
    "            * This is less true for bad students, as their performance tends to deviate when performing different tasks.\n",
    "        * ![Alt text](img/79.%20Cross%20Tables%20and%20Scatter%20Plots8.jpg)\n",
    "            * Finally, we have Jane where she is far away from every other observation as she scored above average on reading, but poorly on writing.\n",
    "            * This observation is called an outlier as it goes against the logic of the whole data set."
   ]
  },
  {
   "cell_type": "markdown",
   "metadata": {},
   "source": [
    "## Quiz 61: Cross Tables and Scatter"
   ]
  },
  {
   "cell_type": "markdown",
   "metadata": {},
   "source": [
    "https://www.udemy.com/course/the-data-science-course-complete-data-science-bootcamp/learn/quiz/4545296#overview"
   ]
  },
  {
   "cell_type": "markdown",
   "metadata": {},
   "source": [
    "1. How would you describe the SAT scores of the indicated group of students?\n",
    "    * ![Alt text](img/Quiz%2061%20Cross%20Tables%20and%20Scatter1.jpg)\n",
    "    * Low math and low verbal"
   ]
  },
  {
   "cell_type": "markdown",
   "metadata": {},
   "source": [
    "## 80. Cross Tables and Scatter Plots Exercise"
   ]
  },
  {
   "cell_type": "markdown",
   "metadata": {},
   "source": [
    "https://www.udemy.com/course/the-data-science-course-complete-data-science-bootcamp/learn/lecture/10764404#overview"
   ]
  },
  {
   "cell_type": "markdown",
   "metadata": {},
   "source": [
    "## 81. Mean, median and mode"
   ]
  },
  {
   "cell_type": "markdown",
   "metadata": {},
   "source": [
    "https://www.udemy.com/course/the-data-science-course-complete-data-science-bootcamp/learn/lecture/10764408#overview"
   ]
  },
  {
   "cell_type": "markdown",
   "metadata": {},
   "source": [
    "* ![Alt text](img/81.%20Mean,%20median%20and%20mode0.jpg)\n",
    "* ![Alt text](img/81.%20Mean,%20median%20and%20mode1.jpg)\n",
    "    * ![Alt text](img/81.%20Mean,%20median%20and%20mode2.jpg)\n",
    "        * Mean also know as the simple average.\n",
    "        * It is denoted by the Greek letter MU for a population and x bar for a sample.\n",
    "        * ![Alt text](img/81.%20Mean,%20median%20and%20mode3.jpg)\n",
    "        * We can find the mean of a data set by adding up all of it's components and then dividing them by their number. \n",
    "        * The mean is the most common measure of central tendency, but it has a huge downside. It is easily affected by outliers. ($66 is outlier on image bellow)\n",
    "    * ![Alt text](img/81.%20Mean,%20median%20and%20mode4.jpg)\n",
    "        * The median is middle number in an ordered data set.\n",
    "        * To calculate the median we have to order our data in ascending order. \n",
    "        * The median of the data set is the number at position n + 1 divided by 2 in the ordered list, where n is the number of observations.\n",
    "        * The median is not affected by outliers\n",
    "    * ![Alt text](img/81.%20Mean,%20median%20and%20mode5.jpg)\n",
    "        * The mode is the value that occurs most often. It can be used for both numerical and categorical data."
   ]
  },
  {
   "cell_type": "markdown",
   "metadata": {},
   "source": [
    "## 82. Mean, Median and Mode Exercise"
   ]
  },
  {
   "cell_type": "markdown",
   "metadata": {},
   "source": [
    "https://www.udemy.com/course/the-data-science-course-complete-data-science-bootcamp/learn/lecture/10764410#overview"
   ]
  },
  {
   "cell_type": "markdown",
   "metadata": {},
   "source": [
    "## 83. Skewness"
   ]
  },
  {
   "cell_type": "markdown",
   "metadata": {},
   "source": [
    "https://www.udemy.com/course/the-data-science-course-complete-data-science-bootcamp/learn/lecture/10764412#overview"
   ]
  },
  {
   "cell_type": "markdown",
   "metadata": {},
   "source": [
    "* The most commonly used tool to measure asymmetry is skewness.\n",
    "    * ![Alt text](img/83.%20Skewness1.jpg)\n",
    "        * Almost always you will use software that performs a calculation for you.\n",
    "* Skewness indicates whether the observationsin a data set are concentrated on one side.\n",
    "    * ![Alt text](img/83.%20Skewness2.jpg)\n",
    "    1.  The direction of the skew is counterintuitive. It does not depend on which side the line is leaning to but rather to which side it's tail is leaning to. \n",
    "        * So right skewness means that the outliers are to the right.\n",
    "        * When we have right skewness, the mean is bigger than the median, and the mode is the value with the highest visual representation.\n",
    "    2. In the second graph, we have plotted a data set that has an equal mean, median and mode. \n",
    "        * The frequency of occurrence is completely symmetrical and we call this a zero or a no skew.\n",
    "        * Most often you'll hear people say that the distribution is symmetrical.\n",
    "    3. For the third data set, we have a mean of 4.9, a median of five, and a mode of six. \n",
    "        * As the mean is lower than the median, we say that there is a negative or a left skew. Once again, the highest point is define by the mode.\n",
    "* Why is skewness important?\n",
    "    * Skewness tells us a lot about where the data is situated.\n",
    "    * The mean, median and mode should be used together to get a good understanding of the data set.\n",
    "    * Measures of asymmetry like skewness are the link between central tendency measures and probability theory which ultimately allows us to get a more complete understanding of the data we are working with."
   ]
  },
  {
   "cell_type": "markdown",
   "metadata": {},
   "source": [
    "## Quiz 62: Skewness"
   ]
  },
  {
   "cell_type": "markdown",
   "metadata": {},
   "source": [
    "https://www.udemy.com/course/the-data-science-course-complete-data-science-bootcamp/learn/quiz/4545298#overview"
   ]
  },
  {
   "cell_type": "markdown",
   "metadata": {},
   "source": [
    "1. Which of the following can be stated about the sample based on the distribution graph?\n",
    "    * ![Alt text](img/Quiz%2062%20Skewness1.jpg)\n",
    "    * Positive skewness"
   ]
  },
  {
   "cell_type": "markdown",
   "metadata": {},
   "source": [
    "## 84. Skewness Exercise"
   ]
  },
  {
   "cell_type": "markdown",
   "metadata": {},
   "source": [
    "https://www.udemy.com/course/the-data-science-course-complete-data-science-bootcamp/learn/lecture/10764416#overview"
   ]
  },
  {
   "cell_type": "markdown",
   "metadata": {},
   "source": [
    "## 85. Variance"
   ]
  },
  {
   "cell_type": "markdown",
   "metadata": {},
   "source": [
    "https://www.udemy.com/course/the-data-science-course-complete-data-science-bootcamp/learn/lecture/10764418#overview"
   ]
  },
  {
   "cell_type": "markdown",
   "metadata": {},
   "source": [
    "* There are many ways to quantify variability such as variance, standard deviation, and coefficient of variation.\n",
    "* In the field of statistics, we will typically use different formulas when working with population data and sample data.\n",
    "* Statisticians have solved the problem by adjusting the algebraic formulas for many statistics to reflect this issue.\n",
    "* ![Alt text](img/85.%20Variance1.jpg)\n",
    "    * Variance measures the dispersion of a set of data points around their mean value.\n",
    "        * Population variance, denoted by sigma squared, is equal to the sum of square differences between the observed values and the population mean divided by the total number of observations.\n",
    "        * Sample variance, on the other hand, is denoted by S squared, and is equal to the sum of squared differences between observed sample values and the sample mean divided by the number of sample observations minus one.\n",
    "    * ![Alt text](img/85.%20Variance2.jpg)\n",
    "    * The main part of the formula is its numerator.\n",
    "        * The closer a number to the mean, the lower the results we will obtain.\n",
    "        * The further away from the mean it lies, the larger this difference.\n",
    "    * Squaring the differences has two main purposes.\n",
    "        * First, by squaring the numbers, we always get non-negative computations.\n",
    "            * It is intuitive that dispersion cannot be negative.\n",
    "            * Dispersion is about distance, and distance cannot be negative. \n",
    "            * If on the other hand, we calculate the difference, and do not elevate to the second degree, we would obtain both positive and negative values that, when summed, would cancel out, leaving us with no information about the dispersion.\n",
    "        * Second, squaring amplifies the effect of large differences.\n",
    "            * For example, if the mean is zero, and you have an observation of 100, the squared spread is 10,000.\n",
    "\n",
    "* ![Alt text](img/85.%20Variance3.jpg)\n",
    "    * Population variance tells us how data points in a specific population are spread out.\n",
    "    * Sample Variance formula is used when our set of observations is a sample drawn from a bigger population"
   ]
  },
  {
   "cell_type": "markdown",
   "metadata": {},
   "source": [
    "## 86. Variance Exercise"
   ]
  },
  {
   "cell_type": "markdown",
   "metadata": {},
   "source": [
    "https://www.udemy.com/course/the-data-science-course-complete-data-science-bootcamp/learn/lecture/10764420#announcements"
   ]
  },
  {
   "cell_type": "markdown",
   "metadata": {},
   "source": [
    "## 87. Standard Deviation and Coefficient of Variation"
   ]
  },
  {
   "cell_type": "markdown",
   "metadata": {},
   "source": [
    "https://www.udemy.com/course/the-data-science-course-complete-data-science-bootcamp/learn/lecture/10764422#announcements"
   ]
  },
  {
   "cell_type": "markdown",
   "metadata": {},
   "source": [
    "* Standard deviation is the most common measure of variability for a single data set.\n",
    "* Coefficient of variation for comparing two or more dataset\n",
    "* ![Alt text](img/87.%20Standard%20Deviation%20and%20Coefficient%20of%20Variation1.jpg)\n",
    "    * The formulas are the square root of the population variance and square root of the sample variance\n",
    "* ![Alt text](img/87.%20Standard%20Deviation%20and%20Coefficient%20of%20Variation2.jpg)\n",
    "* ![Alt text](img/87.%20Standard%20Deviation%20and%20Coefficient%20of%20Variation3.jpg)\n",
    "    * The other measure is the coefficient of variation. It is equal to the standard deviation divided by the mean. Or the standard deviation relative to the mean.\n",
    "    * Another name for the term is relative standard deviation.\n"
   ]
  },
  {
   "cell_type": "markdown",
   "metadata": {},
   "source": [
    "* Example of a comparison between standard deviations.\n",
    "* ![Alt text](img/87.%20Standard%20Deviation%20and%20Coefficient%20of%20Variation4.jpg)\n",
    "    * Prices of pizza at 10 different places \n",
    "        * New York, they range from one to $11.\n",
    "        * The prices for Mexican pesos look more like 18.81 pesos to 206.91 pesos. Given the exchange rate of 18.81 pesos for $1\n",
    "* How to find the standard deviations and coefficients of variation of these two data sets.\n",
    "    * First, we have to see if this is a sample or a population.\n",
    "        * Are there only 11 restaurants in New York? Of course not. This is obviously a sample drawn from all the restaurants in the city. Then we have to use the formulas for sample measures of variability.\n",
    "    * Second, we have to find the mean.\n",
    "        * The mean in dollars is equal to 5.5 and the mean in pesos to 103.46.\n",
    "    * The third step of the process is finding the sample variance.\n",
    "        * we can obtain $10.72 squared and 3793.69 peso squared.\n",
    "    * The respect of sample standard deviations\n",
    "        * are $3.27 and 61.59 pesos.\n",
    "* OBSERVATION\n",
    "    * First, variance gives results in squared units while standard deviation in original units.\n",
    "        * This is the main reason why professionals prefer to use standard deviation as the main measure of variability.\n",
    "    * Second, we got standard deviations of 3.27 and 61.59 for the same pizza at the same 11 restaurants in New York City.\n",
    "        * So, coefficient of variation dividing the standard deviations by the respective means.\n",
    "        * ![Alt text](img/87.%20Standard%20Deviation%20and%20Coefficient%20of%20Variation5.jpg)\n",
    "            * Notice that it is not dollars pesos, dollars squared or peso squared. It is just zero point 60. This shows us the great advantage that the coefficient of variation gives us. We can confidently say that the two data sets have the same variability which is what we expected beforehand.\n",
    "* RECAP\n",
    "    * There are three main measures of variability, variance, standard deviation and coefficient of variation.\n",
    "    * Each of them has different strengths and applications."
   ]
  },
  {
   "cell_type": "markdown",
   "metadata": {},
   "source": [
    "## Quiz 63: Standard Deviation"
   ]
  },
  {
   "cell_type": "markdown",
   "metadata": {},
   "source": [
    "https://www.udemy.com/course/the-data-science-course-complete-data-science-bootcamp/learn/quiz/4545302#announcements"
   ]
  },
  {
   "cell_type": "markdown",
   "metadata": {},
   "source": [
    "1. Johnny wanted to know how many days per week people in his class exercise, so he asked 3 of his friends. The answers he got were 1, 3 and 5. Based on this, which of the following is true about the results Johnny found?<br>\n",
    "(Hint: Do the numbers [1,3,5] represent a population or a sample?)\n",
    "    * ![Alt text](img/Quiz%2063%20Standard%20Deviation1.jpg)"
   ]
  },
  {
   "cell_type": "markdown",
   "metadata": {},
   "source": [
    "## 88. Standard Deviation and Coefficient of Variation Exercise"
   ]
  },
  {
   "cell_type": "markdown",
   "metadata": {},
   "source": [
    "https://www.udemy.com/course/the-data-science-course-complete-data-science-bootcamp/learn/lecture/10764424#announcements"
   ]
  },
  {
   "cell_type": "markdown",
   "metadata": {},
   "source": [
    "## 89. Covariance"
   ]
  },
  {
   "cell_type": "markdown",
   "metadata": {},
   "source": [
    "https://www.udemy.com/course/the-data-science-course-complete-data-science-bootcamp/learn/lecture/10764426#announcements"
   ]
  },
  {
   "cell_type": "markdown",
   "metadata": {},
   "source": []
  },
  {
   "cell_type": "markdown",
   "metadata": {},
   "source": [
    "## Quiz 64: Covariance"
   ]
  },
  {
   "cell_type": "markdown",
   "metadata": {},
   "source": [
    "https://www.udemy.com/course/the-data-science-course-complete-data-science-bootcamp/learn/quiz/4545306#announcements"
   ]
  },
  {
   "cell_type": "markdown",
   "metadata": {},
   "source": []
  },
  {
   "cell_type": "markdown",
   "metadata": {},
   "source": [
    "## 90. Covariance Exercise"
   ]
  },
  {
   "cell_type": "markdown",
   "metadata": {},
   "source": [
    "https://www.udemy.com/course/the-data-science-course-complete-data-science-bootcamp/learn/lecture/10764428#announcements"
   ]
  },
  {
   "cell_type": "markdown",
   "metadata": {},
   "source": [
    "## 91. Correlation Coefficient"
   ]
  },
  {
   "cell_type": "markdown",
   "metadata": {},
   "source": [
    "https://www.udemy.com/course/the-data-science-course-complete-data-science-bootcamp/learn/lecture/10764432#announcements"
   ]
  },
  {
   "cell_type": "markdown",
   "metadata": {},
   "source": []
  },
  {
   "cell_type": "markdown",
   "metadata": {},
   "source": [
    "## Quiz 65: Correlation"
   ]
  },
  {
   "cell_type": "markdown",
   "metadata": {},
   "source": [
    "https://www.udemy.com/course/the-data-science-course-complete-data-science-bootcamp/learn/quiz/4545308#announcements"
   ]
  },
  {
   "cell_type": "markdown",
   "metadata": {},
   "source": []
  },
  {
   "cell_type": "markdown",
   "metadata": {},
   "source": [
    "## 92. Correlation Coefficient Exercise"
   ]
  },
  {
   "cell_type": "markdown",
   "metadata": {},
   "source": [
    "https://www.udemy.com/course/the-data-science-course-complete-data-science-bootcamp/learn/lecture/10764434#announcements"
   ]
  }
 ],
 "metadata": {
  "kernelspec": {
   "display_name": "Python 3.9.13 64-bit (microsoft store)",
   "language": "python",
   "name": "python3"
  },
  "language_info": {
   "codemirror_mode": {
    "name": "ipython",
    "version": 3
   },
   "file_extension": ".py",
   "mimetype": "text/x-python",
   "name": "python",
   "nbconvert_exporter": "python",
   "pygments_lexer": "ipython3",
   "version": "3.9.13"
  },
  "orig_nbformat": 4,
  "vscode": {
   "interpreter": {
    "hash": "1b600a3438a79bc98971c3547d28f531d0c8ed6c91b96b1480a504fa30005dbe"
   }
  }
 },
 "nbformat": 4,
 "nbformat_minor": 2
}
