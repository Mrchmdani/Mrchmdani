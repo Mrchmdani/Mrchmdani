{
 "cells": [
  {
   "cell_type": "markdown",
   "metadata": {},
   "source": [
    "# **14. Part3: Statistics**"
   ]
  },
  {
   "cell_type": "markdown",
   "metadata": {},
   "source": [
    "## 70. Population and Sample"
   ]
  },
  {
   "attachments": {},
   "cell_type": "markdown",
   "metadata": {},
   "source": [
    "https://www.udemy.com/course/the-data-science-course-complete-data-science-bootcamp/learn/lecture/10764376"
   ]
  },
  {
   "cell_type": "markdown",
   "metadata": {},
   "source": [
    "* ![Alt text](img/70.%20Population%20and%20Sample1.jpg)\n",
    "* The first step of every statistical analysis you perform is determine whether the data you are dealing with is a population or a sample.\n",
    "    * A *population* is the collection of all items of interest to our study and is usually denoted with an uppercase **N**.\n",
    "        * Hard to observe\n",
    "        * Hard to contact\n",
    "            * The numbers we've obtained when using a population are called *parameters*.\n",
    "    * A *sample* is a subset of the population and is denoted with a lowercase **n**.\n",
    "        * Easy to observe\n",
    "        * easy to contact\n",
    "            * The numbers we've obtained when working with a sample are called *statistics*.\n",
    "* Statistical tests are usually based on sample data, samples are key to accurate statistical insights. They have two defining characteristics, *randomness* and *representativeness*.\n",
    "    * Randomness\n",
    "        * A random sample is collected when each member of the sample is chosen from the population strictly by chance.\n",
    "    * Representativeness\n",
    "        * A representative sample is a subset of the population that accurately reflects the members of the entire population."
   ]
  },
  {
   "cell_type": "markdown",
   "metadata": {},
   "source": [
    "## Quiz 55: Population and Sample"
   ]
  },
  {
   "attachments": {},
   "cell_type": "markdown",
   "metadata": {},
   "source": [
    "https://www.udemy.com/course/the-data-science-course-complete-data-science-bootcamp/learn/quiz/4450986"
   ]
  },
  {
   "cell_type": "markdown",
   "metadata": {},
   "source": [
    "1. The high school principal wants to conduct a survey on student satisfaction for the entire school. You were tasked with contacting your classmates about their opinion and then presenting them to the principal.<br>\n",
    "Would you say this was population or sample data? What is the value you presented called?\n",
    "    * sample, statistic\n",
    "        * You interviewed only one class – your own. This is a sample taken from the population of all students studying in the high school. Since it was a sample, the value associated with it was a statistic.\n",
    "2. You are trying to estimate the average valuation of start-ups in the USA. Imagine you are able to visit 200 start-ups in Silicon Valley in a random manner. What is a possible problem of your study?\n",
    "    * The sample is not representative\n",
    "        * You were estimating a statistic for all start-ups in the USA. However, your sample was taken only from startups in Silicon Valley. While this may be a proxy for California, it does not represent the other 49 states. Therefore, the sample is not representative."
   ]
  },
  {
   "cell_type": "markdown",
   "metadata": {},
   "source": [
    "# **15. Statistics - Descriptive Statistics**"
   ]
  },
  {
   "cell_type": "markdown",
   "metadata": {},
   "source": [
    "## 71. Types of Data"
   ]
  },
  {
   "attachments": {},
   "cell_type": "markdown",
   "metadata": {},
   "source": [
    "https://www.udemy.com/course/the-data-science-course-complete-data-science-bootcamp/learn/lecture/10764384"
   ]
  },
  {
   "cell_type": "markdown",
   "metadata": {},
   "source": [
    "* ![Alt text](img/71.%20Types%20of%20Data1.jpg)\n",
    "* Different types of variables require different types of statistical and visualization approaches. So, To be able to classify the data you are working with is key.\n",
    "* Two main ways to classify the data :\n",
    "    * Type of Data (types)\n",
    "        * Categorical\n",
    "            * Categories or Groups\n",
    "            * Yes or No questrions\n",
    "        * Numerical (Represent Number)\n",
    "            * Discrete\n",
    "                * Usually be counted in a finite matter.\n",
    "                * What is important for a variable to be defined as discrete is that you can imagine each member of the data set.\n",
    "            * Continuous\n",
    "                * Infinite and impossible to count\n",
    "    * Measurement Level\n"
   ]
  },
  {
   "cell_type": "markdown",
   "metadata": {},
   "source": [
    "## Quiz 56: Types of Data"
   ]
  },
  {
   "attachments": {},
   "cell_type": "markdown",
   "metadata": {},
   "source": [
    "https://www.udemy.com/course/the-data-science-course-complete-data-science-bootcamp/learn/quiz/4450990"
   ]
  },
  {
   "cell_type": "markdown",
   "metadata": {},
   "source": [
    "1. A variable represents the weight of a person. What type of data does it represent?\n",
    "    * numerical, continuous\n",
    "        * The data is numerical, as it represents a number. As we said in the lesson, weight is a continuous variable.\n",
    "2. A variable represents the gender of a person. What type of data does it represent?\n",
    "    * categorical"
   ]
  },
  {
   "cell_type": "markdown",
   "metadata": {},
   "source": [
    "## 72. Levels of Measurement"
   ]
  },
  {
   "attachments": {},
   "cell_type": "markdown",
   "metadata": {},
   "source": [
    "https://www.udemy.com/course/the-data-science-course-complete-data-science-bootcamp/learn/lecture/10764386"
   ]
  },
  {
   "cell_type": "markdown",
   "metadata": {},
   "source": [
    "* Qualitative\n",
    "    * Nominal\n",
    "        * Based on category\n",
    "        * Aren't numbers and cannot be ordered\n",
    "    * Ordinal\n",
    "        * Consists of groups and categories which follow a strict order.\n",
    "            * Example: Likert Scale\n",
    "        * \n",
    "* Quantitative\n",
    "    * Interval\n",
    "        * Doesn't have true zero (0)\n",
    "            * Intervals are not as common.\n",
    "                * Example: Temperature is the most common example of an interval variable.. The issue comes from the fact that zero degrees Celsius and zero degrees Fahrenheit are not true zeros.\n",
    "    * Ratio\n",
    "        * Has true zero (0)\n",
    "            * Most things we observe in the real world are ratios.\n",
    "                * Example: For instance, if I have two apples and you have six apples, you would have three times as many as I do. How did I find that out? Well, the ratio of six and two is three.<br>\n",
    "                Other examples are a number of objects in general, distance, and time."
   ]
  },
  {
   "cell_type": "markdown",
   "metadata": {},
   "source": [
    "## Quiz 57: Levels of Measurement"
   ]
  },
  {
   "attachments": {},
   "cell_type": "markdown",
   "metadata": {},
   "source": [
    "https://www.udemy.com/course/the-data-science-course-complete-data-science-bootcamp/learn/quiz/4450992"
   ]
  },
  {
   "cell_type": "markdown",
   "metadata": {},
   "source": [
    "1. A variable represents the gender of a person. What is the level of measurement?\n",
    "    * nominal\n",
    "        * Gender is a nominal variable. There possible categories cannot be put in any order.\n",
    "2. A variable represents the weight of a person. What is the level of measurement?\n",
    "    * ratio\n",
    "        * Weight is a ratio variable. It is quantitative and there is a true zero point."
   ]
  },
  {
   "cell_type": "markdown",
   "metadata": {},
   "source": [
    "## 73. Categorical Variables - Visualization Techniques"
   ]
  },
  {
   "attachments": {},
   "cell_type": "markdown",
   "metadata": {},
   "source": [
    "https://www.udemy.com/course/the-data-science-course-complete-data-science-bootcamp/learn/lecture/10764388"
   ]
  },
  {
   "cell_type": "markdown",
   "metadata": {},
   "source": [
    "* ![Alt text](img/73.%20Categorical%20Variables%20-%20Visualization%20Techniques1.jpg)\n",
    "* It is easier to visualize data if you know its type and measurement level.\n",
    "* The Pareto Principle is designed to show how subtotals change with each additional category and provide us with a better understanding of our data, also known as the 80-20 rule. It states that 80% of the effects come from 20% of the causes.\n",
    "    * A real life example is a statement by Microsoft that by fixing 20% of its software bugs, they managed to solve 80% of the problems customers experience.\n"
   ]
  },
  {
   "cell_type": "markdown",
   "metadata": {},
   "source": [
    "## Quiz 58: Categorical Variables - Visualization Techniques"
   ]
  },
  {
   "attachments": {},
   "cell_type": "markdown",
   "metadata": {},
   "source": [
    "https://www.udemy.com/course/the-data-science-course-complete-data-science-bootcamp/learn/quiz/4545288"
   ]
  },
  {
   "cell_type": "markdown",
   "metadata": {},
   "source": [
    "1. According to the Pareto Principle:\n",
    "    * 80% of mistakes can be avoided by fixing 20% of the causes"
   ]
  },
  {
   "cell_type": "markdown",
   "metadata": {},
   "source": [
    "## 74. Categorical Variables Exercise"
   ]
  },
  {
   "attachments": {},
   "cell_type": "markdown",
   "metadata": {},
   "source": [
    "https://www.udemy.com/course/the-data-science-course-complete-data-science-bootcamp/learn/lecture/10764390"
   ]
  },
  {
   "cell_type": "markdown",
   "metadata": {},
   "source": [
    "## 75. Numerical Variables - Frequency Distribution Table"
   ]
  },
  {
   "attachments": {},
   "cell_type": "markdown",
   "metadata": {},
   "source": [
    "https://www.udemy.com/course/the-data-science-course-complete-data-science-bootcamp/learn/lecture/10764392"
   ]
  },
  {
   "cell_type": "markdown",
   "metadata": {},
   "source": [
    "* Whenever we wanna plot data, it is best to first order it in a table, so as we did with categorical variables.\n",
    "* Statisticians prefer working with groups of data that contain five to 20 intervals.\n",
    "    * This varies from case to case and the correct choice of intervals largely depends on the amount of data we are working with.\n",
    "    * A simple formula that we use is as follows. The interval width is equal to the largest number minus the smallest number divided by the number of desired intervals.\n",
    "    * ![Alt text](img/75.%20Numerical%20Variables%20-%20Frequency%20Distribution%20Table1.jpg)\n",
    "        * In our case, the length of the interval should be 100 minus one divided by five. The result is 19.8.\n",
    "        * Now we wanna round this number up in order to reach a neater representation. Therefore, our intervals will be as follows, one to 21, 21 to 41, 41 to 61, 61 to 81, and 81 to 101. Each interval has a width of 20.\n",
    "        * ![Alt text](img/75.%20Numerical%20Variables%20-%20Frequency%20Distribution%20Table2.jpg)\n",
    "        * A number is included in a particular interval if that number is greater than the lowest bound and equal to or less than the largest bound.\n",
    "        * As we can see from the table, there are two numbers in the first interval, four in the second, three in the third, six in the fourth, and five in the fifth interval. For many analyses, it is useful to calculate the relative frequency of the data points in each interval.\n",
    "            * Relative frequency is the frequency of a given interval as part of the total.\n",
    "            * ![Alt text](img/75.%20Numerical%20Variables%20-%20Frequency%20Distribution%20Table3.jpg)"
   ]
  },
  {
   "cell_type": "markdown",
   "metadata": {},
   "source": [
    "## Quiz 59: Numerical Variables - Frequency Distribution Table"
   ]
  },
  {
   "attachments": {},
   "cell_type": "markdown",
   "metadata": {},
   "source": [
    "https://www.udemy.com/course/the-data-science-course-complete-data-science-bootcamp/learn/quiz/4545290"
   ]
  },
  {
   "cell_type": "markdown",
   "metadata": {},
   "source": [
    "* If the frequency of a variable is 20 and its total frequency of all variables is 120, what is its relative frequency?\n",
    "    * 0.17"
   ]
  },
  {
   "cell_type": "markdown",
   "metadata": {},
   "source": [
    "## 76. Numerical Variables Exercise"
   ]
  },
  {
   "attachments": {},
   "cell_type": "markdown",
   "metadata": {},
   "source": [
    "https://www.udemy.com/course/the-data-science-course-complete-data-science-bootcamp/learn/lecture/10764394"
   ]
  },
  {
   "cell_type": "markdown",
   "metadata": {},
   "source": [
    "## 77. The Histogram"
   ]
  },
  {
   "attachments": {},
   "cell_type": "markdown",
   "metadata": {},
   "source": [
    "https://www.udemy.com/course/the-data-science-course-complete-data-science-bootcamp/learn/lecture/10764396"
   ]
  },
  {
   "cell_type": "markdown",
   "metadata": {},
   "source": [
    "* The most common graph used to represent numerical data is the histogram.\n",
    "* Histogram looks like a bar chart but conveys ver ydifferent information\n",
    "    * * ![Alt text](img/77.%20The%20Histogram1.jpg)\n",
    "        * As in the bar chart, the vertical axis is of numerical type and shows the absolute frequency.\n",
    "        * The horizontal axis is numerical too.\n",
    "        * Each bar has width equal to the interval, and height equal to the frequency.\n",
    "        \n",
    "    * ![Alt text](img/77.%20The%20Histogram2.jpg)\n",
    "        * Notice how the different bars are touching. This is to show that there is continuation between the intervals.\n",
    "        * In the bar chart, different bars represented different categories, so the bars were completely separate.\n",
    "    * ![Alt text](img/77.%20The%20Histogram3.jpg)\n",
    "        * sometimes, it is useful to plot the intervals against the relative rather than the absolute frequency.\n",
    "        * The histogram looks the same visually but gives different information to the audience.\n",
    "        * Relative frequency is made up of percentages.\n"
   ]
  },
  {
   "cell_type": "markdown",
   "metadata": {},
   "source": [
    "## Quiz 60: The Histogram"
   ]
  },
  {
   "attachments": {},
   "cell_type": "markdown",
   "metadata": {},
   "source": [
    "https://www.udemy.com/course/the-data-science-course-complete-data-science-bootcamp/learn/quiz/4545294"
   ]
  },
  {
   "cell_type": "markdown",
   "metadata": {},
   "source": [
    "1. Which is the second most represented age group according to the histogram?\n",
    "* ![Alt text](img/Quiz%2060%20The%20Histogram1.jpg)\n",
    "    * (52, 67)"
   ]
  },
  {
   "cell_type": "markdown",
   "metadata": {},
   "source": [
    "## 78. Histogram Exercise"
   ]
  },
  {
   "attachments": {},
   "cell_type": "markdown",
   "metadata": {},
   "source": [
    "https://www.udemy.com/course/the-data-science-course-complete-data-science-bootcamp/learn/lecture/10764400"
   ]
  },
  {
   "cell_type": "markdown",
   "metadata": {},
   "source": [
    "## 79. Cross Tables and Scatter Plots"
   ]
  },
  {
   "attachments": {},
   "cell_type": "markdown",
   "metadata": {},
   "source": [
    "https://www.udemy.com/course/the-data-science-course-complete-data-science-bootcamp/learn/lecture/10764402"
   ]
  },
  {
   "cell_type": "markdown",
   "metadata": {},
   "source": [
    "* How do we represent relationships between two variables?\n",
    "    * The most common way to represent them is using cross tables or as some statisticians call them contingency tables.\n",
    "    * ![Alt text](img/79.%20Cross%20Tables%20and%20Scatter%20Plots1.jpg)\n",
    "        * Imagine you are an investment manager and you manage stocks, bonds and real estate investments for three different investors. Each of them has a different idea of risk, and hence their money is allocated in a different way among the three asset classes.\n",
    "            * ![Alt text](img/79.%20Cross%20Tables%20and%20Scatter%20Plots2.jpg)\n",
    "                * It represents the holdings of each investor in the different types of assets.\n",
    "                * The name of this type of chart comes from the fact that for each investor, the categories of assets are represented side by side. In this way, we can easily compare asset holdings for a specific investor or among investors.\n",
    "                * All graphs are very easy to create and read once you have identified the type of data you are dealing with and decided on the best way to visualize it.\n",
    "    * Scatter Plot is used when representing two numerical variables.\n",
    "        * example: data gathered by the reading and writing SAT scores of 100 individuals.\n",
    "        * ![Alt text](img/79.%20Cross%20Tables%20and%20Scatter%20Plots3.jpg)\n",
    "            * SAT scores by component range from 200 to 800 points, and that is why our data is bounded within the range of 200 to 800.\n",
    "            * Vertical access shows the writing scores while the horizontal axis contains reading scores.\n",
    "            * There are 100 students, and the results correspond to a specific point on the graph. Each point gives us information about a particular student's performance.\n",
    "        * Scatter plots usually represent lots and lots of observations. When interpreting a scatter plot, a statistician is not expected to look into single data points. He would be much more interested in getting the main idea of how the data is distributed.\n",
    "        * ![Alt text](img/79.%20Cross%20Tables%20and%20Scatter%20Plots4.jpg)\n",
    "            * The first thing we see is that there is an obvious up trend. This is because lower writing scores are usually obtained by students with lower reading scores and higher writing scores have been achieved by students with higher reading scores.\n",
    "            * Students are more likely to do well on both because the two tasks are closely related.\n",
    "        * ![Alt text](img/79.%20Cross%20Tables%20and%20Scatter%20Plots5.jpg)\n",
    "            * Second, we notice a concentration of students in the middle of the graph with scores in the region of 450 to 550 on both reading and writing.\n",
    "                * 500 is the average score one can get so it makes sense that a lot of people fall into that area.\n",
    "        * ![Alt text](img/79.%20Cross%20Tables%20and%20Scatter%20Plots6.jpg)\n",
    "            * Third, there is this group of people with both very high writing and reading scores. The exceptional students tend to be excellent at both components.\n",
    "        * ![Alt text](img/79.%20Cross%20Tables%20and%20Scatter%20Plots7.jpg)\n",
    "            * This is less true for bad students, as their performance tends to deviate when performing different tasks.\n",
    "        * ![Alt text](img/79.%20Cross%20Tables%20and%20Scatter%20Plots8.jpg)\n",
    "            * Finally, we have Jane where she is far away from every other observation as she scored above average on reading, but poorly on writing.\n",
    "            * This observation is called an outlier as it goes against the logic of the whole data set."
   ]
  },
  {
   "cell_type": "markdown",
   "metadata": {},
   "source": [
    "## Quiz 61: Cross Tables and Scatter"
   ]
  },
  {
   "attachments": {},
   "cell_type": "markdown",
   "metadata": {},
   "source": [
    "https://www.udemy.com/course/the-data-science-course-complete-data-science-bootcamp/learn/quiz/4545296"
   ]
  },
  {
   "cell_type": "markdown",
   "metadata": {},
   "source": [
    "1. How would you describe the SAT scores of the indicated group of students?\n",
    "    * ![Alt text](img/Quiz%2061%20Cross%20Tables%20and%20Scatter1.jpg)\n",
    "    * Low math and low verbal"
   ]
  },
  {
   "cell_type": "markdown",
   "metadata": {},
   "source": [
    "## 80. Cross Tables and Scatter Plots Exercise"
   ]
  },
  {
   "attachments": {},
   "cell_type": "markdown",
   "metadata": {},
   "source": [
    "https://www.udemy.com/course/the-data-science-course-complete-data-science-bootcamp/learn/lecture/10764404"
   ]
  },
  {
   "cell_type": "markdown",
   "metadata": {},
   "source": [
    "## 81. Mean, median and mode"
   ]
  },
  {
   "attachments": {},
   "cell_type": "markdown",
   "metadata": {},
   "source": [
    "https://www.udemy.com/course/the-data-science-course-complete-data-science-bootcamp/learn/lecture/10764408"
   ]
  },
  {
   "cell_type": "markdown",
   "metadata": {},
   "source": [
    "* ![Alt text](img/81.%20Mean,%20median%20and%20mode0.jpg)\n",
    "* ![Alt text](img/81.%20Mean,%20median%20and%20mode1.jpg)\n",
    "    * ![Alt text](img/81.%20Mean,%20median%20and%20mode2.jpg)\n",
    "        * Mean also know as the simple average.\n",
    "        * It is denoted by the Greek letter MU for a population and x bar for a sample.\n",
    "        * ![Alt text](img/81.%20Mean,%20median%20and%20mode3.jpg)\n",
    "        * We can find the mean of a data set by adding up all of it's components and then dividing them by their number. \n",
    "        * The mean is the most common measure of central tendency, but it has a huge downside. It is easily affected by outliers. ($66 is outlier on image bellow)\n",
    "    * ![Alt text](img/81.%20Mean,%20median%20and%20mode4.jpg)\n",
    "        * The median is middle number in an ordered data set.\n",
    "        * To calculate the median we have to order our data in ascending order. \n",
    "        * The median of the data set is the number at position n + 1 divided by 2 in the ordered list, where n is the number of observations.\n",
    "        * The median is not affected by outliers\n",
    "    * ![Alt text](img/81.%20Mean,%20median%20and%20mode5.jpg)\n",
    "        * The mode is the value that occurs most often. It can be used for both numerical and categorical data."
   ]
  },
  {
   "cell_type": "markdown",
   "metadata": {},
   "source": [
    "## 82. Mean, Median and Mode Exercise"
   ]
  },
  {
   "attachments": {},
   "cell_type": "markdown",
   "metadata": {},
   "source": [
    "https://www.udemy.com/course/the-data-science-course-complete-data-science-bootcamp/learn/lecture/10764410"
   ]
  },
  {
   "cell_type": "markdown",
   "metadata": {},
   "source": [
    "## 83. Skewness"
   ]
  },
  {
   "attachments": {},
   "cell_type": "markdown",
   "metadata": {},
   "source": [
    "https://www.udemy.com/course/the-data-science-course-complete-data-science-bootcamp/learn/lecture/10764412"
   ]
  },
  {
   "cell_type": "markdown",
   "metadata": {},
   "source": [
    "* The most commonly used tool to measure asymmetry is skewness.\n",
    "    * ![Alt text](img/83.%20Skewness1.jpg)\n",
    "        * Almost always you will use software that performs a calculation for you.\n",
    "* Skewness indicates whether the observationsin a data set are concentrated on one side.\n",
    "    * ![Alt text](img/83.%20Skewness2.jpg)\n",
    "    1.  The direction of the skew is counterintuitive. It does not depend on which side the line is leaning to but rather to which side it's tail is leaning to. \n",
    "        * So right skewness means that the outliers are to the right.\n",
    "        * When we have right skewness, the mean is bigger than the median, and the mode is the value with the highest visual representation.\n",
    "    2. In the second graph, we have plotted a data set that has an equal mean, median and mode. \n",
    "        * The frequency of occurrence is completely symmetrical and we call this a zero or a no skew.\n",
    "        * Most often you'll hear people say that the distribution is symmetrical.\n",
    "    3. For the third data set, we have a mean of 4.9, a median of five, and a mode of six. \n",
    "        * As the mean is lower than the median, we say that there is a negative or a left skew. Once again, the highest point is define by the mode.\n",
    "* Why is skewness important?\n",
    "    * Skewness tells us a lot about where the data is situated.\n",
    "    * The mean, median and mode should be used together to get a good understanding of the data set.\n",
    "    * Measures of asymmetry like skewness are the link between central tendency measures and probability theory which ultimately allows us to get a more complete understanding of the data we are working with."
   ]
  },
  {
   "cell_type": "markdown",
   "metadata": {},
   "source": [
    "## Quiz 62: Skewness"
   ]
  },
  {
   "attachments": {},
   "cell_type": "markdown",
   "metadata": {},
   "source": [
    "https://www.udemy.com/course/the-data-science-course-complete-data-science-bootcamp/learn/quiz/4545298"
   ]
  },
  {
   "cell_type": "markdown",
   "metadata": {},
   "source": [
    "1. Which of the following can be stated about the sample based on the distribution graph?\n",
    "    * ![Alt text](img/Quiz%2062%20Skewness1.jpg)\n",
    "    * Positive skewness"
   ]
  },
  {
   "cell_type": "markdown",
   "metadata": {},
   "source": [
    "## 84. Skewness Exercise"
   ]
  },
  {
   "attachments": {},
   "cell_type": "markdown",
   "metadata": {},
   "source": [
    "https://www.udemy.com/course/the-data-science-course-complete-data-science-bootcamp/learn/lecture/10764416"
   ]
  },
  {
   "cell_type": "markdown",
   "metadata": {},
   "source": [
    "## 85. Variance"
   ]
  },
  {
   "attachments": {},
   "cell_type": "markdown",
   "metadata": {},
   "source": [
    "https://www.udemy.com/course/the-data-science-course-complete-data-science-bootcamp/learn/lecture/10764418"
   ]
  },
  {
   "cell_type": "markdown",
   "metadata": {},
   "source": [
    "* There are many ways to quantify variability such as variance, standard deviation, and coefficient of variation.\n",
    "* In the field of statistics, we will typically use different formulas when working with population data and sample data.\n",
    "* Statisticians have solved the problem by adjusting the algebraic formulas for many statistics to reflect this issue.\n",
    "* ![Alt text](img/85.%20Variance1.jpg)\n",
    "    * Variance measures the dispersion of a set of data points around their mean value.\n",
    "        * Population variance, denoted by sigma squared, is equal to the sum of square differences between the observed values and the population mean divided by the total number of observations.\n",
    "        * Sample variance, on the other hand, is denoted by S squared, and is equal to the sum of squared differences between observed sample values and the sample mean divided by the number of sample observations minus one.\n",
    "    * ![Alt text](img/85.%20Variance2.jpg)\n",
    "    * The main part of the formula is its numerator.\n",
    "        * The closer a number to the mean, the lower the results we will obtain.\n",
    "        * The further away from the mean it lies, the larger this difference.\n",
    "    * Squaring the differences has two main purposes.\n",
    "        * First, by squaring the numbers, we always get non-negative computations.\n",
    "            * It is intuitive that dispersion cannot be negative.\n",
    "            * Dispersion is about distance, and distance cannot be negative. \n",
    "            * If on the other hand, we calculate the difference, and do not elevate to the second degree, we would obtain both positive and negative values that, when summed, would cancel out, leaving us with no information about the dispersion.\n",
    "        * Second, squaring amplifies the effect of large differences.\n",
    "            * For example, if the mean is zero, and you have an observation of 100, the squared spread is 10,000.\n",
    "\n",
    "* ![Alt text](img/85.%20Variance3.jpg)\n",
    "    * Population variance tells us how data points in a specific population are spread out.\n",
    "    * Sample Variance formula is used when our set of observations is a sample drawn from a bigger population"
   ]
  },
  {
   "cell_type": "markdown",
   "metadata": {},
   "source": [
    "## 86. Variance Exercise"
   ]
  },
  {
   "cell_type": "markdown",
   "metadata": {},
   "source": [
    "https://www.udemy.com/course/the-data-science-course-complete-data-science-bootcamp/learn/lecture/10764420#announcements"
   ]
  },
  {
   "cell_type": "markdown",
   "metadata": {},
   "source": [
    "## 87. Standard Deviation and Coefficient of Variation"
   ]
  },
  {
   "cell_type": "markdown",
   "metadata": {},
   "source": [
    "https://www.udemy.com/course/the-data-science-course-complete-data-science-bootcamp/learn/lecture/10764422#announcements"
   ]
  },
  {
   "cell_type": "markdown",
   "metadata": {},
   "source": [
    "* Standard deviation is the most common measure of variability for a single data set.\n",
    "* Coefficient of variation for comparing two or more dataset\n",
    "* ![Alt text](img/87.%20Standard%20Deviation%20and%20Coefficient%20of%20Variation1.jpg)\n",
    "    * The formulas are the square root of the population variance and square root of the sample variance\n",
    "* ![Alt text](img/87.%20Standard%20Deviation%20and%20Coefficient%20of%20Variation2.jpg)\n",
    "* ![Alt text](img/87.%20Standard%20Deviation%20and%20Coefficient%20of%20Variation3.jpg)\n",
    "    * The other measure is the coefficient of variation. It is equal to the standard deviation divided by the mean. Or the standard deviation relative to the mean.\n",
    "    * Another name for the term is relative standard deviation.\n"
   ]
  },
  {
   "cell_type": "markdown",
   "metadata": {},
   "source": [
    "* Example of a comparison between standard deviations.\n",
    "* ![Alt text](img/87.%20Standard%20Deviation%20and%20Coefficient%20of%20Variation4.jpg)\n",
    "    * Prices of pizza at 10 different places \n",
    "        * New York, they range from one to $11.\n",
    "        * The prices for Mexican pesos look more like 18.81 pesos to 206.91 pesos. Given the exchange rate of 18.81 pesos for $1\n",
    "* How to find the standard deviations and coefficients of variation of these two data sets.\n",
    "    * First, we have to see if this is a sample or a population.\n",
    "        * Are there only 11 restaurants in New York? Of course not. This is obviously a sample drawn from all the restaurants in the city. Then we have to use the formulas for sample measures of variability.\n",
    "    * Second, we have to find the mean.\n",
    "        * The mean in dollars is equal to 5.5 and the mean in pesos to 103.46.\n",
    "    * The third step of the process is finding the sample variance.\n",
    "        * we can obtain $10.72 squared and 3793.69 peso squared.\n",
    "    * The respect of sample standard deviations\n",
    "        * are $3.27 and 61.59 pesos.\n",
    "* OBSERVATION\n",
    "    * First, variance gives results in squared units while standard deviation in original units.\n",
    "        * This is the main reason why professionals prefer to use standard deviation as the main measure of variability.\n",
    "    * Second, we got standard deviations of 3.27 and 61.59 for the same pizza at the same 11 restaurants in New York City.\n",
    "        * So, coefficient of variation dividing the standard deviations by the respective means.\n",
    "        * ![Alt text](img/87.%20Standard%20Deviation%20and%20Coefficient%20of%20Variation5.jpg)\n",
    "            * Notice that it is not dollars pesos, dollars squared or peso squared. It is just zero point 60. This shows us the great advantage that the coefficient of variation gives us. We can confidently say that the two data sets have the same variability which is what we expected beforehand.\n",
    "* RECAP\n",
    "    * There are three main measures of variability, variance, standard deviation and coefficient of variation.\n",
    "    * Each of them has different strengths and applications."
   ]
  },
  {
   "cell_type": "markdown",
   "metadata": {},
   "source": [
    "## Quiz 63: Standard Deviation"
   ]
  },
  {
   "cell_type": "markdown",
   "metadata": {},
   "source": [
    "https://www.udemy.com/course/the-data-science-course-complete-data-science-bootcamp/learn/quiz/4545302#announcements"
   ]
  },
  {
   "cell_type": "markdown",
   "metadata": {},
   "source": [
    "1. Johnny wanted to know how many days per week people in his class exercise, so he asked 3 of his friends. The answers he got were 1, 3 and 5. Based on this, which of the following is true about the results Johnny found?<br>\n",
    "(Hint: Do the numbers [1,3,5] represent a population or a sample?)\n",
    "    * ![Alt text](img/Quiz%2063%20Standard%20Deviation1.jpg)"
   ]
  },
  {
   "cell_type": "markdown",
   "metadata": {},
   "source": [
    "## 88. Standard Deviation and Coefficient of Variation Exercise"
   ]
  },
  {
   "cell_type": "markdown",
   "metadata": {},
   "source": [
    "https://www.udemy.com/course/the-data-science-course-complete-data-science-bootcamp/learn/lecture/10764424#announcements"
   ]
  },
  {
   "cell_type": "markdown",
   "metadata": {},
   "source": [
    "## 89. Covariance"
   ]
  },
  {
   "cell_type": "markdown",
   "metadata": {},
   "source": [
    "https://www.udemy.com/course/the-data-science-course-complete-data-science-bootcamp/learn/lecture/10764426#announcements"
   ]
  },
  {
   "cell_type": "markdown",
   "metadata": {},
   "source": [
    "* Covariance is to measure relationship between two variables.\n",
    "* Unlike variance, covariance may be positive (>0), equal to zero (=0), or negative (<0).\n",
    "* ![Alt text](img/89.%20Covariance1.jpg)\n",
    "    * Example:\n",
    "    * ![Alt text](img/89.%20Covariance2.jpg)"
   ]
  },
  {
   "cell_type": "markdown",
   "metadata": {},
   "source": [
    "## Quiz 64: Covariance"
   ]
  },
  {
   "cell_type": "markdown",
   "metadata": {},
   "source": [
    "https://www.udemy.com/course/the-data-science-course-complete-data-science-bootcamp/learn/quiz/4545306#announcements"
   ]
  },
  {
   "cell_type": "markdown",
   "metadata": {},
   "source": [
    "1. What can you conclude from the following statement?<br>\n",
    "Cov (x,y) > Cov (y,x)\n",
    "    * The statement can never be TRUE"
   ]
  },
  {
   "cell_type": "markdown",
   "metadata": {},
   "source": [
    "## 90. Covariance Exercise"
   ]
  },
  {
   "cell_type": "markdown",
   "metadata": {},
   "source": [
    "https://www.udemy.com/course/the-data-science-course-complete-data-science-bootcamp/learn/lecture/10764428#announcements"
   ]
  },
  {
   "cell_type": "markdown",
   "metadata": {},
   "source": [
    "## 91. Correlation Coefficient"
   ]
  },
  {
   "cell_type": "markdown",
   "metadata": {},
   "source": [
    "https://www.udemy.com/course/the-data-science-course-complete-data-science-bootcamp/learn/lecture/10764432#announcements"
   ]
  },
  {
   "cell_type": "markdown",
   "metadata": {},
   "source": [
    "* Correlation adjusts covariance so that the relationship between the two variables becomes easy and intuitive to interpret. \n",
    "* The formulas for the correlation coefficient are the covariance divided by the product of the standard deviations of the two variables.\n",
    "    * ![Alt text](img/91.%20Correlation%20Coefficient1.jpg)\n",
    "        * Left: Sample\n",
    "        * Right: Population\n",
    "\n",
    "* ![Alt text](img/91.%20Correlation%20Coefficient2.jpg)\n",
    "    * Mathematically, there is no way to obtain a correlation value greater than one or a less than minus one.\n",
    "        * -1 <= correlation coefficient <= 1\n",
    "    * We manipulated the strange covariance value in order to get something intuitive.\n",
    "    * We got a sample correlation coefficient of 0.87, so there is a strong relationship between the two values. \n",
    "    * ![Alt text](img/91.%20Correlation%20Coefficient3.jpg)\n",
    "        * The correlation of one, also known as perfect positive correlation, means that the entire variability of one variable is explained by the other variable.\n",
    "            * However, logically we know that size determines the price.\n",
    "    * ![Alt text](img/91.%20Correlation%20Coefficient4.jpg)\n",
    "        * Correlation of zero between two variables means that they are absolutely independent from each other.\n",
    "    * ![Alt text](img/91.%20Correlation%20Coefficient5.jpg)\n",
    "        * Negative correlation coefficient. It can be perfect negative correlation of minus one or much more likely an imperfect negative correlation of a value between minus one and zero.\n",
    "* We must note that the correlation between two variables X and Y is the same as the correlation between Y and X. The formula is completely symmetrical with respect to both variables. Therefore, the correlation of price and size is the same as the one of size and price. This leads us to causality. It is very important for any analyst or researcher to understand the direction of causal relationships.\n",
    "* **Correlation does not imply causation.**"
   ]
  },
  {
   "cell_type": "markdown",
   "metadata": {},
   "source": [
    "## Quiz 65: Correlation"
   ]
  },
  {
   "cell_type": "markdown",
   "metadata": {},
   "source": [
    "https://www.udemy.com/course/the-data-science-course-complete-data-science-bootcamp/learn/quiz/4545308#announcements"
   ]
  },
  {
   "cell_type": "markdown",
   "metadata": {},
   "source": [
    "1. Which of these is true about correlation and causality?\n",
    "    * Causality is an asymmetric relation. (x causes y is different from y causes x)\n",
    "2. What can you conclude from the following statement?<br>\n",
    "Cov (x,y) > Cov (y,x)\n",
    "    * The statement can never be TRUE"
   ]
  },
  {
   "cell_type": "markdown",
   "metadata": {},
   "source": [
    "## 92. Correlation Coefficient Exercise"
   ]
  },
  {
   "cell_type": "markdown",
   "metadata": {},
   "source": [
    "https://www.udemy.com/course/the-data-science-course-complete-data-science-bootcamp/learn/lecture/10764434#announcements"
   ]
  },
  {
   "cell_type": "markdown",
   "metadata": {},
   "source": [
    "# **16. Statistics - Practical Example: Descriptive Statistics**"
   ]
  },
  {
   "cell_type": "markdown",
   "metadata": {},
   "source": [
    "## 93. Practical Example: Descriptive Statistics"
   ]
  },
  {
   "attachments": {},
   "cell_type": "markdown",
   "metadata": {},
   "source": [
    "https://www.udemy.com/course/the-data-science-course-complete-data-science-bootcamp/learn/lecture/10764436"
   ]
  },
  {
   "cell_type": "markdown",
   "metadata": {},
   "source": [
    "* Database: real estate company operating in California\n",
    "    * Note: Names has been altered for confidential reasons\n",
    "* Problem:\n",
    "    * The company is launching a marketing campaign, but it wants to target its audience properly. The management suspects that after some short analysis, marketing results can be improved without the need of investing additional resources.\n",
    "    * We are the data analysts who are going to crunch some numbers and identify which groups of people are most likely to buy our product. Once we have done so we will instruct the marketing team to focus its efforts on these groups.\n",
    "        * The first thing we have to do when we analyze the data is to get acquainted with the table. It illustrates the sales of real estate property for a specific company.\n",
    "        * Second, the table has two parts, left and right. \n",
    "            * ![Alt text](img/93.%20Practical%20Example%20Descriptive%20Statistics1.jpg)\n",
    "            * On the left hand side we have product information.\n",
    "            * ![Alt text](img/93.%20Practical%20Example%20Descriptive%20Statistics2.jpg)\n",
    "            * On the right hand side, we have customer information.\n",
    "        * Identify types of data and levels of measurement for some of them. This is a crucial step as we cannot analyze the data if we don't understand its type.\n",
    "            * ID\n",
    "                * ID is a value that we assign to each item which lets us differentiate between products. It may look numerical to you, but in fact it is categorical. ID variables are like names that we assign to different products.\n",
    "                    * A simple way to check of a variable is numerical or categorical is to interpret its mean (average). The mean ID number shows nothing. Now oppose this to the mean price, for example. It is clear that the mean price is a very valuable piece of information.\n",
    "                * ID's level of measurement: qualitative, nominal\n",
    "            * Age\n",
    "                * Age level of measurement is quantitative, ratio.\n",
    "                    * A rule that is used for verifying ratios is asking the question is there a true zero point? Well, for age, it is obvious that when you were born you are exactly zero years old. That's the true zero point, so we are safe.\n",
    "                    * However, what's truly intriguing is whether age is discreet or continuous. In fact, it may be both. In this case, we can only see age as a whole number. Therefore, it is discreet. However, similar to weight, a variable we discussed earlier in the course, age is a continuous variable.\n",
    "                * When you are dealing with age, you decide it's type depending on your work at hand.\n",
    "            * Age interval\n",
    "                * Age is either continuous or discreet as we are talking about the same variable (Age).\n",
    "                * Age interval level of measurement is in ordinal instead of a ratio.\n",
    "                    * The age groups represent different categories that are ordered but are not numerical. This serves to show that the same variable can have different levels of measurement within the same database.\n",
    "            * Price\n",
    "                * In most corporate analyses, price is central. No matter the data set, it is always a numerical variable that like age may be discreet or continuous depending on your needs. If you are interested, banks and corporations treat it as continuous and so will we.\n",
    "                Price level of measurement here is ratio. \n",
    "            * Gender\n",
    "                * Gender is of categorical type\n",
    "                    * It is very similar to yes and no questions that we have discussed in previous lessons. Such variables are called binary as there are only two possibilities which are always categorical.\n",
    "                * Gender level of measurement is nominal.\n",
    "            * State\n",
    "                * State is categorical variable like ID.\n",
    "                    * In fact, you can label the US states from one to 50 and use numbers instead.\n",
    "                * State level of measurement is nominal.\n",
    "        * Before we can plot the data we have to create the frequency distribution table.\n",
    "            * Gender\n",
    "            * ![Alt text](img/93.%20Practical%20Example%20Descriptive%20Statistics3.jpg)\n",
    "                * Now, we have three possibilities for gender. Male, female or a cell where gender is not available. Since some properties were purchased by companies they have no gender.\n",
    "                * Gender is categorical and the good way to represent it in practice is with a pie chart.\n",
    "                    * We can clearly see that most clients are male. **However, this information is biased.** As the customers in this database are the people who signed the contract. It is very likely that a family bought the apartment, but our data shows us only the person who signed the contract. **Such variables are interesting to see, but it is not a good idea to include them in the data driven decisions we make.**\n",
    "            * Location\n",
    "                * ![Alt text](img/93.%20Practical%20Example%20Descriptive%20Statistics4.jpg)\n",
    "                * State is a categorical variable. We may use a bar chart or a pie chart. However, the Pareto diagram can gives additional information.\n",
    "                * From the graph, you can immediately see that the majority of clients are from California. A possible scenario is to decide to invest in marketing for the top 75% of the locations. This will mean that we can focus on California and Nevada alone.\n",
    "            * Age\n",
    "                * ![Alt text](img/93.%20Practical%20Example%20Descriptive%20Statistics5.jpg)\n",
    "                * Let's first plot the frequency distribution of age. This is done by creating a histogram with an interval length of one.\n",
    "                * Now we can move on to the age interval representation. The options there are 18 to 25, 26 to 35, 36 to 45, 56 to 65, and 65 plus. Most of the data falls between 25 and 60 years which is evident from the frequency distribution graph. We can clearly see that 36 to 45 is the age at which most people purchase a real estate property.\n",
    "                * The mean and median are pretty close so we don't have a lot of outliers.\n",
    "                    * ![Alt text](img/93.%20Practical%20Example%20Descriptive%20Statistics6.jpg)\n",
    "                        * As you may recall, the mean is affected by them while the median is not. Moreover, when the mean is higher than the median we have a positive or right skew. This is confirmed by our histogram.\n",
    "                * Note that age represents the age of the buyer when the deal was sealed. The formula used is the year of the deal minus the year of birth of the buyer.\n",
    "                    * We are doing this because we wanna see the age at which customers buy our product. Their current age is irrelevant. Moreover, real estate is something people rarely buy more than once in their life, so we expect age to be a central variable in our analysis. Let's first plot the frequency distribution of age.\n",
    "                * Finally, we should inspect the variability of age. Before we can do so we have to see if this is sample or population data. The company data is the population of all people who are our customers already. However, our research aims to help the marketing department in identifying future customers. Therefore, our data set is a sample drawn from all the people who will eventually buy property from our company. Hence forth, we will use sample formulas.\n",
    "                    * ![Alt text](img/93.%20Practical%20Example%20Descriptive%20Statistics7.jpg)\n",
    "                    * The result from standard deviation variability of age is around 13 years. This gives us an additional idea of how dispersed the data is.\n",
    "            * Relationship between Age and Price\n",
    "                * Both variables are numerical so we'll have to use a scatter plot.\n",
    "                * ![Alt text](img/93.%20Practical%20Example%20Descriptive%20Statistics8.jpg)\n",
    "                    * It seems that it is pretty dispersed and there isn't an obvious trend.\n",
    "                    * Let's confirm this observation by calculating the co variance of the two variables.\n",
    "                        * We get this enormous valuethat doesn't tell us muchso it's suitable to standardize it by using the correlation coefficient and the value we get is minus 0.17.\n",
    "                        * This correlation is very low. A common practice is to disregard correlations that are below 0.2.\n",
    "    * Conclusion what can we tell the marketing team after this short analysis?\n",
    "        * First, males are more likely to sign the contracts and are potentially a better audience for our ads. However, we don't have any information about their marital status. Thus, this observation is a bit unclear.\n",
    "        * Second, 68% of our sales in the US come from California with Nevada, Oregon, Arizona and Colorado following behind to form 93% of the US customer base.\n",
    "        * Third, 71% of sales were made with customers age between 26 and 55 years old, with a mean of 46 years of age and a standard deviation of 13 years. Moreover, the distribution is right skewed so we expect younger people to buy more property than older people.\n",
    "        * Finally, there is no relationship between the age of a given customer and the price they're willing to pay."
   ]
  },
  {
   "cell_type": "markdown",
   "metadata": {},
   "source": [
    "## 94. Practical Example: Descriptive Statistics Exercise"
   ]
  },
  {
   "attachments": {},
   "cell_type": "markdown",
   "metadata": {},
   "source": [
    "https://www.udemy.com/course/the-data-science-course-complete-data-science-bootcamp/learn/lecture/10764438"
   ]
  },
  {
   "cell_type": "markdown",
   "metadata": {},
   "source": [
    "# **17. Statistics - Inferential Statistics Fundamentals**"
   ]
  },
  {
   "cell_type": "markdown",
   "metadata": {},
   "source": [
    "## 95. Introduction"
   ]
  },
  {
   "attachments": {},
   "cell_type": "markdown",
   "metadata": {},
   "source": [
    "https://www.udemy.com/course/the-data-science-course-complete-data-science-bootcamp/learn/lecture/10764446"
   ]
  },
  {
   "cell_type": "markdown",
   "metadata": {},
   "source": [
    "* Inferential statistics refers to methods that rely on probability theory and distributions in particular to predict population values based on sample data."
   ]
  },
  {
   "cell_type": "markdown",
   "metadata": {},
   "source": [
    "## 96. What is a Distribution"
   ]
  },
  {
   "attachments": {},
   "cell_type": "markdown",
   "metadata": {},
   "source": [
    "https://www.udemy.com/course/the-data-science-course-complete-data-science-bootcamp/learn/lecture/10764448"
   ]
  },
  {
   "cell_type": "markdown",
   "metadata": {},
   "source": [
    "* Distribution or probability distribution is a function that shows the possible values for a variable and how often they occur.\n",
    "    * Distribution of a data set shows us the frequency at which possible values occur within an interval.\n",
    "* Discrete uniform distribution is if all outcomes have an equal chance of occurring.\n",
    "* A distribution is defined by the underlying probabilities and not the graph. The graph is just a visual representation."
   ]
  },
  {
   "cell_type": "markdown",
   "metadata": {},
   "source": [
    "## Quiz 66: What is a Distribution"
   ]
  },
  {
   "attachments": {},
   "cell_type": "markdown",
   "metadata": {},
   "source": [
    "https://www.udemy.com/course/the-data-science-course-complete-data-science-bootcamp/learn/quiz/4450994"
   ]
  },
  {
   "cell_type": "markdown",
   "metadata": {},
   "source": [
    "1. What is a distribution?\n",
    "    * A distribution is a function that shows the possible values for a variable and the probability of their occurence"
   ]
  },
  {
   "cell_type": "markdown",
   "metadata": {},
   "source": [
    "## 97. The Normal Distribution"
   ]
  },
  {
   "attachments": {},
   "cell_type": "markdown",
   "metadata": {},
   "source": [
    "https://www.udemy.com/course/the-data-science-course-complete-data-science-bootcamp/learn/lecture/10764450"
   ]
  },
  {
   "cell_type": "markdown",
   "metadata": {},
   "source": [
    "* Normal and students T distributions\n",
    "    * They approximate a wide variety of random variables.\n",
    "    * Distributions of sample means with large enough sample sizes could be approximated to normal.\n",
    "    * All computable statistics are elegant. \n",
    "    * Decisions based on normal distribution insights have a good track record.\n",
    "\n",
    "* ![Alt text](img/97.%20The%20Normal%20Distribution1.jpg)\n",
    "    * Normal distribution is the most common one and The statistical term for it is Gaussian distribution. Many people call it the Bell Curve as it is shaped like a bell.\n",
    "    * It is symmetrical and it's mean, Median and mode are equal. If you remember the lesson about skewness, you would recognize it has no skew. It is perfectly centered around its mean.\n",
    "    * ![Alt text](img/97.%20The%20Normal%20Distribution2.jpg)\n",
    "        * N stands for normal\n",
    "        * The tilt sign shows it is a distribution\n",
    "        * In brackets we have the mean and the variance of the distribution\n",
    "        * The highest point is located at the mean because it coincides with the mode\n",
    "        * The spread of the graph is determined by the standard deviation.\n",
    "* Normally distributed histogram\n",
    "    * ![Alt text](img/97.%20The%20Normal%20Distribution3.jpg)\n",
    "        * There is a concentration of the observations around the mean, which makes sense as it is equal to the mode.\n",
    "        * it is symmetrical on both sides of the mean.\n",
    "* Normal distribution, Controlling for standard deviation\n",
    "    * ![Alt text](img/97.%20The%20Normal%20Distribution4.jpg)\n",
    "        *  The origin is the zero point.\n",
    "        * Adding it to any graph gives perspective keeping the standard deviation fixed, or in statistical jargon controlling for the standard deviation\n",
    "        * a lower mean would result in the same shape of the distribution, but on the left side of the plane.\n",
    "        * a bigger mean would move the graph to the right.\n",
    "        * This resulted in two new distributions, one with a mean of 470 and a standard deviation of 140 and one with a mean of 960, and a standard deviation of 140.\n",
    "* Normal distribution, Controlling for mean\n",
    "    * ![Alt text](img/97.%20The%20Normal%20Distribution5.jpg)\n",
    "        * Red line - The graph is not moving but is rather reshaping a lower standard deviation results in a lower dispersion so more data in the middle and thinner tails.\n",
    "        * Green line - On the other hand a higher standard deviation will cause the graph to flatten out with less points in the middle and more to the end, or in statistics jargon. Fatter tails."
   ]
  },
  {
   "cell_type": "markdown",
   "metadata": {},
   "source": [
    "## Quiz 67: The Normal Distribution"
   ]
  },
  {
   "attachments": {},
   "cell_type": "markdown",
   "metadata": {},
   "source": [
    "https://www.udemy.com/course/the-data-science-course-complete-data-science-bootcamp/learn/quiz/4450996"
   ]
  },
  {
   "cell_type": "markdown",
   "metadata": {},
   "source": [
    "1. Question 1:<br>\n",
    "Choose the INCORRECT answer. A Normal distribution is one of the most commonly used distribution types, because:\n",
    "    * All variables can be represented by the Normal distribution\n",
    "        * CORRECT\n",
    "        * Distributions of sample means with large enough sample sizes could be approximated to Normal.\n",
    "        * Computable statistics are elegant.\n",
    "        * Decisions based on Normal distribution insights have a good track record."
   ]
  },
  {
   "cell_type": "markdown",
   "metadata": {},
   "source": [
    "## 98. The Standard Normal Distribution"
   ]
  },
  {
   "attachments": {},
   "cell_type": "markdown",
   "metadata": {},
   "source": [
    "https://www.udemy.com/course/the-data-science-course-complete-data-science-bootcamp/learn/lecture/10764452"
   ]
  },
  {
   "cell_type": "markdown",
   "metadata": {},
   "source": [
    "* Standardization is the process of transforming this variable to one with a mean of zero and a standard deviation of one.\n",
    "    * Every distribution can be standardized\n",
    "    * ![Alt text](img/98.%20The%20Standard%20Normal%20Distribution1.jpg)\n",
    "\n",
    "* Normal distribution can also be standardized, the result is called a standard normal distribution.\n",
    "    * ![Alt text](img/98.%20The%20Standard%20Normal%20Distribution2.jpg)\n",
    "\n",
    "* In the last section, we explored shifts in the mean and the standard deviation. \n",
    "    * ![Alt text](img/98.%20The%20Standard%20Normal%20Distribution3.jpg)\n",
    "    * So if we shift the mean by mu and the standard deviation by sigma for any normal distribution, we will arrive at the standard normal distribution.\n",
    "    * ![Alt text](img/98.%20The%20Standard%20Normal%20Distribution4.jpg)\n",
    "    * We use the letter Z to denote it. As said previously, it is mean is zero and its standard deviation one. The standardized variable is called the Z-score and is equal to the original variable minus its mean divided by its standard deviation.\n",
    "    \n",
    "* ![Alt text](img/98.%20The%20Standard%20Normal%20Distribution5.jpg)\n",
    "    * ![Alt text](img/98.%20The%20Standard%20Normal%20Distribution6.jpg)\n",
    "    * ![Alt text](img/98.%20The%20Standard%20Normal%20Distribution7.jpg)\n",
    "    * ![Alt text](img/98.%20The%20Standard%20Normal%20Distribution8.jpg)"
   ]
  },
  {
   "cell_type": "markdown",
   "metadata": {},
   "source": [
    "## Quiz 68: The Standard Normal Distribution"
   ]
  },
  {
   "attachments": {},
   "cell_type": "markdown",
   "metadata": {},
   "source": [
    "https://www.udemy.com/course/the-data-science-course-complete-data-science-bootcamp/learn/quiz/4545310"
   ]
  },
  {
   "cell_type": "markdown",
   "metadata": {},
   "source": [
    "1. Imagine we have a variable X, which follows a Normal Distribution with a mean of 4 and a variance of 9. We want to standardize Z, so what formula do we use for the transformation?\n",
    "    * ![Alt text](img/Quiz%2068%20The%20Standard%20Normal%20Distribution1.jpg)\n",
    "    * a)"
   ]
  },
  {
   "cell_type": "markdown",
   "metadata": {},
   "source": [
    "## 99. The Standard Normal Distribution Exercise"
   ]
  },
  {
   "attachments": {},
   "cell_type": "markdown",
   "metadata": {},
   "source": [
    "https://www.udemy.com/course/the-data-science-course-complete-data-science-bootcamp/learn/lecture/10764464"
   ]
  },
  {
   "cell_type": "markdown",
   "metadata": {},
   "source": [
    "## 100. Central Limit Theorem"
   ]
  },
  {
   "attachments": {},
   "cell_type": "markdown",
   "metadata": {},
   "source": [
    "https://www.udemy.com/course/the-data-science-course-complete-data-science-bootcamp/learn/lecture/10764454"
   ]
  },
  {
   "cell_type": "markdown",
   "metadata": {},
   "source": [
    "* The Central Limit Theorem (CLT) is a statistical concept that states that the sample mean distribution of a random variable will assume a near-normal or normal distribution if the sample size is large enough.\n",
    "* ![Alt text](img/100.%20Central%20Limit%20Theorem1.jpg)\n",
    "* ![Alt text](img/100.%20Central%20Limit%20Theorem2.jpg)"
   ]
  },
  {
   "cell_type": "markdown",
   "metadata": {},
   "source": [
    "## Quiz 69: Central Limit Theorem"
   ]
  },
  {
   "attachments": {},
   "cell_type": "markdown",
   "metadata": {},
   "source": [
    "https://www.udemy.com/course/the-data-science-course-complete-data-science-bootcamp/learn/quiz/4450998"
   ]
  },
  {
   "cell_type": "markdown",
   "metadata": {},
   "source": [
    "1. Choose the CORRECT answer about the central limit theorem.\n",
    "    * The means of the samples we extract will be closer to normally distributed if we extract more sample\n",
    "    * The distribution of the sample means is expected to have a mean equal to the mean of the original dataset.\n",
    "    * The distribution of the sample means is expected to have a variacne equal to the variance of the original dataset, divided by the sample size.\n",
    "        * INCORRECT\n",
    "        * The means of the samples we extract will be closer to normally distributed, the smaller the samples we extract."
   ]
  },
  {
   "cell_type": "markdown",
   "metadata": {},
   "source": [
    "## 101. Standard Error"
   ]
  },
  {
   "attachments": {},
   "cell_type": "markdown",
   "metadata": {},
   "source": [
    "https://www.udemy.com/course/the-data-science-course-complete-data-science-bootcamp/learn/lecture/10764456"
   ]
  },
  {
   "cell_type": "markdown",
   "metadata": {},
   "source": [
    "* The standard error is the standard deviation of the distribution formed by the sample means.\n",
    "    * In other words, the standard deviation of the sampling distribution.\n",
    "    * ![Alt text](img/101.%20Standard%20Error1.jpg)\n",
    "    * ![Alt text](img/101.%20Standard%20Error2.jpg)\n",
    "    * ![Alt text](img/101.%20Standard%20Error3.jpg)\n",
    "* The standard error used for almost all statistical tests because it shows how well you approximated the true mean.\n",
    "* Note that it decreases as the sample size increases. This makes sense, as bigger samples give a better approximation of the population.\n",
    "    * ![Alt text](img/101.%20Standard%20Error4.jpg)"
   ]
  },
  {
   "cell_type": "markdown",
   "metadata": {},
   "source": [
    "## Quiz 70: Standard Error"
   ]
  },
  {
   "attachments": {},
   "cell_type": "markdown",
   "metadata": {},
   "source": [
    "https://www.udemy.com/course/the-data-science-course-complete-data-science-bootcamp/learn/quiz/4545312"
   ]
  },
  {
   "cell_type": "markdown",
   "metadata": {},
   "source": [
    "1. How does sample size (n) affect SE (Standard Error)?\n",
    "    * As sample size increase, it will decrease SE"
   ]
  },
  {
   "cell_type": "markdown",
   "metadata": {},
   "source": [
    "## 102. Estimators and Estimates"
   ]
  },
  {
   "attachments": {},
   "cell_type": "markdown",
   "metadata": {},
   "source": [
    "https://www.udemy.com/course/the-data-science-course-complete-data-science-bootcamp/learn/lecture/10764458"
   ]
  },
  {
   "cell_type": "markdown",
   "metadata": {},
   "source": [
    "\n",
    "* Estimator of a population parameter is depending solely on sample information. A specific value is called an estimate.\n",
    "    * There are two types of estimates:\n",
    "    * Point estimates\n",
    "        * A point estimate is a single number\n",
    "    * Confidence interval estimates.\n",
    "        * Confidence interval, naturally, is an interval.\n",
    "    * ![Alt text](img/102.%20Estimators%20and%20Estimates1.jpg)\n",
    "    * The two are closely related. In fact, the point estimate is located exactly in the middle of the confidence interval.\n",
    "    * However, confidence intervals provide much more information and are preferred when making inferences.\n",
    "\n",
    "* The sample mean x-bar is a point estimate of the population mean mu. Moreover, the sample variance S squared was an estimate of the population variance sigma squared.\n",
    "    * ![Alt text](img/102.%20Estimators%20and%20Estimates2.jpg)\n",
    "* However, they all have two properties: \n",
    "    * Bias\n",
    "    * Efficiency.\n",
    "* ![Alt text](img/102.%20Estimators%20and%20Estimates3.jpg)\n",
    "* Estimators are like judges. We are always looking for the most efficient, unbiased estimators.\n",
    "    * An unbiased estimator has an expected value equal to the population parameter.\n",
    "* The most efficient estimators are the ones with the least variability of outcomes.\n",
    "    * It is enough to know that most efficient means the unbiased estimator with the smallest variance.\n",
    "    \n",
    "* ![Alt text](img/102.%20Estimators%20and%20Estimates4.jpg)\n",
    "* The difference between estimators and statistics.\n",
    "    * The word statistic is the broader term.\n",
    "    * A point estimate is a statistic."
   ]
  },
  {
   "cell_type": "markdown",
   "metadata": {},
   "source": [
    "## Quiz 71: Estimators and Estimates"
   ]
  },
  {
   "attachments": {},
   "cell_type": "markdown",
   "metadata": {},
   "source": [
    "https://www.udemy.com/course/the-data-science-course-complete-data-science-bootcamp/learn/quiz/4451000"
   ]
  },
  {
   "cell_type": "markdown",
   "metadata": {},
   "source": [
    "1. You are given a dataset with a sample mean of 10. In this case, 10 is:\n",
    "    * a point estimate"
   ]
  },
  {
   "cell_type": "markdown",
   "metadata": {},
   "source": [
    "# **18. Statistics - Inferential Statistics: Confidence Interval**"
   ]
  },
  {
   "cell_type": "markdown",
   "metadata": {},
   "source": [
    "## 103. What are Confidence Intervals?"
   ]
  },
  {
   "attachments": {},
   "cell_type": "markdown",
   "metadata": {},
   "source": [
    "https://www.udemy.com/course/the-data-science-course-complete-data-science-bootcamp/learn/lecture/10764472"
   ]
  },
  {
   "cell_type": "markdown",
   "metadata": {},
   "source": [
    "* Confidence Interval is the mean of your estimate plus and minus the variation in that estimate. This is the range of values you expect your estimate to fall between if you redo your test, within a certain level of confidence. Confidence, in statistics, is another way to describe probability.\n",
    "* ![Alt text](img/103.%20What%20are%20Confidence%20Intervals1.jpg)\n",
    "    * The level of confidence. It is denoted by one minus alpha and is called the confidence level of the interval. Alpha is a value between zero and one.\n",
    "* ![Alt text](img/103.%20What%20are%20Confidence%20Intervals2.jpg)\n",
    "    * If we wanna be 95% confident that the parameter is inside the interval, alpha is 5%. If we want to higher competence level of say 99%, alpha will be 1%.\n",
    "* ![Alt text](img/103.%20What%20are%20Confidence%20Intervals3.jpg)\n",
    "    * ![Alt text](img/103.%20What%20are%20Confidence%20Intervals4.jpg)\n",
    "    * The formula for all confidence intervals is, from the point estimate minus the reliability factor times the standard error to the point estimate, plus the reliability factor, times the standard error."
   ]
  },
  {
   "cell_type": "markdown",
   "metadata": {},
   "source": [
    "## Quiz 72: What are Confidence Intervals?"
   ]
  },
  {
   "attachments": {},
   "cell_type": "markdown",
   "metadata": {},
   "source": [
    "https://www.udemy.com/course/the-data-science-course-complete-data-science-bootcamp/learn/quiz/4451002"
   ]
  },
  {
   "cell_type": "markdown",
   "metadata": {},
   "source": [
    "1. How is a confidence interval related to a point estimate?\n",
    "    * The point estimate is the midpoint of the interval."
   ]
  },
  {
   "cell_type": "markdown",
   "metadata": {},
   "source": [
    "## 104. Confidence Intervals; Population Variance Known; Z-score"
   ]
  },
  {
   "cell_type": "markdown",
   "metadata": {},
   "source": [
    "https://www.udemy.com/course/the-data-science-course-complete-data-science-bootcamp/learn/lecture/10764476#content"
   ]
  },
  {
   "cell_type": "markdown",
   "metadata": {},
   "source": [
    "* ![Alt text](img/104.%20Confidence%20Intervals;%20Population%20Variance%20Known;%20Z-score1.jpg)\n",
    "    * Confidence Interval is the range within which you expect the population parameter to be, and its estimation is based on the data we have in our sample.\n",
    "    * There can be two main situations when we calculate the confidence intervals for a population. When the population variance is known and when it is unknown. Depending on which situation we are in we would use a different calculation method.\n",
    "    * The whole field of statistics exists because we almost never have population data. Even if we do have population we may not be able to analyze it. It may be so much that it doesn't make sense to be used all at once.\n",
    "* ![Alt text](img/104.%20Confidence%20Intervals;%20Population%20Variance%20Known;%20Z-score2.jpg)\n",
    "* ![Alt text](img/104.%20Confidence%20Intervals;%20Population%20Variance%20Known;%20Z-score3.jpg)\n",
    "    * The formula for the competence interval with a known variance is :\n",
    "        * The population mean will fall between the sample mean minus z of alpha divided by two times the standard error. And the sample mean plus z of alpha divided by two times the standard error.\n",
    "            * The sample mean is the point estimate.\n",
    "            * z is the standardized variable that has a standard normal distribution\n",
    "            * alpha is confidence level\n",
    "                * common confidence levels is 90%, 95%, 99%\n",
    "                    * which mean alpha is 10%, 5%, 1%\n",
    "                * 95% confidence interval means you are sure that in 95% of the cases, the true population parameter would fall into the specified interval.\n",
    "            * The z of alpha comes from the standard normal distribution table.\n",
    "                * Values for the 95% confidence interval. Alpha is 0.05. Therefore, we are looking for z of alpha divided by two, or 0.025. In the table, this will match the value of one minus 0.025, or 0.9775. The corresponding z comes from the sum of the row and column table headers associated with this cell. In our case, the value is 1.9 plus 0.06, or 1.96.\n",
    "                    * ![Alt text](img/104.%20Confidence%20Intervals;%20Population%20Variance%20Known;%20Z-score4.jpg)\n",
    "                * If we wanna be 99% certain of the outcome. Alpha is 0.01. We look at the table for the value of one minus 0.005, which is equal to 0.995. If there is no such value. When this happens, we just have to round to the nearest value available.\n",
    "                    * ![Alt text](img/104.%20Confidence%20Intervals;%20Population%20Variance%20Known;%20Z-score6.jpg)\n",
    "    * Using 95% Confidence Level\n",
    "        * ![Alt text](img/104.%20Confidence%20Intervals;%20Population%20Variance%20Known;%20Z-score5.jpg)\n",
    "    * Using 99% Confidence Level\n",
    "        * ![Alt text](img/104.%20Confidence%20Intervals;%20Population%20Variance%20Known;%20Z-score7.jpg)\n",
    "    * Note: there is a tradeoff between the level of confidence we chose and the estimation precision.\n",
    "        * ![Alt text](img/104.%20Confidence%20Intervals;%20Population%20Variance%20Known;%20Z-score8.jpg)"
   ]
  },
  {
   "cell_type": "markdown",
   "metadata": {},
   "source": [
    "## 105. Confidence Intervals; Population Variance Known; Z-score; Exercise"
   ]
  },
  {
   "attachments": {},
   "cell_type": "markdown",
   "metadata": {},
   "source": [
    "https://www.udemy.com/course/the-data-science-course-complete-data-science-bootcamp/learn/lecture/10764478"
   ]
  },
  {
   "cell_type": "markdown",
   "metadata": {},
   "source": [
    "## 106. Confidence Interval Clarifications"
   ]
  },
  {
   "attachments": {},
   "cell_type": "markdown",
   "metadata": {},
   "source": [
    "https://www.udemy.com/course/the-data-science-course-complete-data-science-bootcamp/learn/lecture/11725242"
   ]
  },
  {
   "cell_type": "markdown",
   "metadata": {},
   "source": [
    "* ![Alt text](img/106.%20Confidence%20Interval%20Clarifications1.jpg)\n",
    "    * Here is a graph of a normal distribution.\n",
    "        * the sample mean is, in the middle of the graph.\n",
    "        * the majority of observations will be around the mean and the rest, far away from it.\n",
    "* ![Alt text](img/106.%20Confidence%20Interval%20Clarifications2.jpg)\n",
    "    * There is the lower limit and the upper limit. A 95% confidence interval would imply that we are 95% confident that the true population mean falls within this interval. There is 2.5% chance that it will be on the left of the lower limit and 2.5% chance it will be on the right. Overall, there is 5% chance that our confidence interval does not contain the true population mean. So when alpha is 0.05 or 5%, we have alpha divided by two or 2.5% chance that the true mean is on the left of the interval and 2.5% on the right.\n",
    "* ![Alt text](img/106.%20Confidence%20Interval%20Clarifications3.jpg)\n",
    "    * Using the Z score in the formula, we are implicitly starting from a standard normal distribution. Therefore, the mean is zero. The lower limit is -Z while the upper one Z. For a 95% confidence interval. Using the Z-table, we can find that these limits are -1.96 and 1.96.\n",
    "* ![Alt text](img/106.%20Confidence%20Interval%20Clarifications4.jpg)\n",
    "    * if we are looking at a 90% confidence interval? The interval looks like this and there is a 10% chance that the true mean is outside the interval, 5% on each side.\n",
    "*   ![Alt text](img/106.%20Confidence%20Interval%20Clarifications5.jpg)\n",
    "    * When confidence is lower, the confidence interval itself is smaller. Similarly, for a 99% confidence interval, we would have a higher confidence, but a much larger confidence interval.\n",
    "    * There is a trade off between the level of confidence and the range of the interval. \n",
    "        * 100% confidence interval is completely useless as I must include all ages possible in order to gain 100% confidence.\n",
    "        * 99% confidence gives us a much narrower range but is still not insightful enough for this particular problem. There is always a trade off which depends on the problem at hand.\n",
    "        * But, 95% is the accepted norm as we don't compromise with accuracy too much but still get a relatively narrow interval.\n"
   ]
  },
  {
   "cell_type": "markdown",
   "metadata": {},
   "source": [
    "## 107. Student's T Distribution"
   ]
  },
  {
   "attachments": {},
   "cell_type": "markdown",
   "metadata": {},
   "source": [
    "https://www.udemy.com/course/the-data-science-course-complete-data-science-bootcamp/learn/lecture/10764482"
   ]
  },
  {
   "cell_type": "markdown",
   "metadata": {},
   "source": [
    "* Story of Student's T Statistics\n",
    "    * William Gosset was an English statistician who trying develop a way to extract small samples, but still come up with meaningful predictions.\n",
    "    * Ronald Fisher, stepping on the findings of Gosset, introduced the T-statistic, and the name that stuck with the corresponding distribution even today is Student's T.\n",
    "* The Student's T distribution is one of the biggest breakthroughs in statistics, as it allowed inferences through small samples with an unknown population variance.\n",
    "    * This setting can be applied to a big part of the statistical problems we face today, and is an important part of this course.\n",
    "* ![Alt text](img/107.%20Student's%20T%20Distribution1.jpg)\n",
    "    * the students T distribution looks much like a normal distribution, but generally has fatter tails.\n",
    "    * Fatter tails, as you may remember, allows for a higher dispersion of variables, and there is more uncertainty.\n",
    "    * In the same way that the Z-statistic is related to the standard normal distribution, The T-statistic is related to the Student's T distribution.\n",
    "* ![Alt text](img/107.%20Student's%20T%20Distribution2.jpg)\n",
    "    * The formula that allows us to calculate it is:\n",
    "        *  T with N minus one degrees of freedom, and a significance level of alpha equals the sample mean minus the population mean, divided by the standard error of the sample.\n",
    "        * formula very similar to the Z-statistic.\n",
    "            * ![Alt text](img/107.%20Student's%20T%20Distribution3.jpg)\n",
    "    * The last characteristic of the Student's T statistic, is that there are degrees of freedom.\n",
    "        * ![Alt text](img/107.%20Student's%20T%20Distribution4.jpg)\n",
    "            * Usually for a sample of N, we have N minus one degrees of freedom. So for a sample of 20 observations, the degrees of freedom are 19.\n",
    "            * Much like the standard normal distribution table, we also have a Student's T table.\n",
    "                * ![Alt text](img/107.%20Student's%20T%20Distribution5.jpg)\n",
    "                    * The rows indicate different degrees of freedom, abbreviated as df, while the columns, common alphas.\n",
    "                    * Note : after the 30th row, the numbers don't vary that much. Actually, after 30 degrees of freedom, the T-statistic table becomes almost the same as the Z-statistic.\n",
    "                    * A common rule of thumb is, that for a sample containing more than 50 observations, we use the Z-table instead of the T-table."
   ]
  },
  {
   "cell_type": "markdown",
   "metadata": {},
   "source": [
    "## Quiz 73: Student's T Distribution"
   ]
  },
  {
   "attachments": {},
   "cell_type": "markdown",
   "metadata": {},
   "source": [
    "https://www.udemy.com/course/the-data-science-course-complete-data-science-bootcamp/learn/quiz/4451004"
   ]
  },
  {
   "cell_type": "markdown",
   "metadata": {},
   "source": [
    "1. The Student’s T distribution:\n",
    "    * Approximates the Normal distribution but has fatter tails\n",
    "        * The Student’s T distribution approximates the Normal distribution but has fatter tails. This means the probability of values being far away from the mean is bigger. For big enough samples, the Student’s T distribution coincides with the Normal distribution."
   ]
  },
  {
   "cell_type": "markdown",
   "metadata": {},
   "source": [
    "## 108. Confidence Intervals; Population Variance Unknown; T-score"
   ]
  },
  {
   "attachments": {},
   "cell_type": "markdown",
   "metadata": {},
   "source": [
    "https://www.udemy.com/course/the-data-science-course-complete-data-science-bootcamp/learn/lecture/10764486"
   ]
  },
  {
   "cell_type": "markdown",
   "metadata": {},
   "source": [
    "* Question : How much the mean data scientist salary is?\n",
    "    * This time we don't have population variance\n",
    "    * sample of only nine compensations you found on Glassdoor\n",
    "    * ![Alt text](img/108.%20Confidence%20Intervals;%20Population%20Variance%20Unknown;%20T-score1.jpg)\n",
    "* ![Alt text](img/108.%20Confidence%20Intervals;%20Population%20Variance%20Unknown;%20T-score2.jpg)\n",
    "* There are two key differences between confidence interval for the mean of a population with an unknown variance vs variance is known.\n",
    "    * First, instead of a z-statistic, we have a t-statistic.\n",
    "    * Second, instead of population standard deviation, we have sample standard deviation.\n",
    "* The logic behind constructing confidence intervals in both cases is the same. The only two inputs that change are the statistic at hand and the standard deviation.\n",
    "    * When population variance is known, population standard deviation goes with the z-statistic.\n",
    "    * When population variance is unknown, sample standard deviation goes with the t-statistic.\n",
    "* Answer:\n",
    "    * First, we need to specify the degrees of freedom. For the student's T distribution, there are n-1 degrees of freedom. Our sample consists of nine observations, so we have eight degrees of freedom.\n",
    "    * Second, we have to find alpha divided by 2. Once again, this depends on the confidence level that we want to obtain.\n",
    "    * In this example, we are going to use a confidence level of 95%. This means that alpha is equal to 5%, therefore, half of alpha would be 2.5%. You can now see that the associated t-statistic is 2.31.\n",
    "        * ![Alt text](img/108.%20Confidence%20Intervals;%20Population%20Variance%20Unknown;%20T-score3.jpg)\n",
    "        * Note that some t-tables you will find in books or online, have a CI row. The abbreviation stands for confidence interval. Instead of finding alpha, we can just check the 95% confidence interval and get the same result.\n",
    "* ![Alt text](img/108.%20Confidence%20Intervals;%20Population%20Variance%20Unknown;%20T-score4.jpg)\n",
    "    * When we know the population variance, we get a narrower confidence interval. \n",
    "    * When we do not know the population variance, there is a higher uncertainty that is reflected by wider boundaries for our interval.\n"
   ]
  },
  {
   "cell_type": "markdown",
   "metadata": {},
   "source": [
    "## 109. Confidence Intervals; Population Variance Unknown; T-score; Exercise"
   ]
  },
  {
   "attachments": {},
   "cell_type": "markdown",
   "metadata": {},
   "source": [
    "https://www.udemy.com/course/the-data-science-course-complete-data-science-bootcamp/learn/lecture/10764488"
   ]
  },
  {
   "cell_type": "markdown",
   "metadata": {},
   "source": [
    "## 110. Margin of Error"
   ]
  },
  {
   "attachments": {},
   "cell_type": "markdown",
   "metadata": {},
   "source": [
    "https://www.udemy.com/course/the-data-science-course-complete-data-science-bootcamp/learn/lecture/10764494"
   ]
  },
  {
   "cell_type": "markdown",
   "metadata": {},
   "source": [
    "* ![Alt text](img/110.%20Margin%20of%20Error1.jpg)\n",
    "    * When the population variance is known, the margin of error is equal to this expression, and in the case of population variance unknown, the margin of error is equal to this expression instead.\n",
    "* ![Alt text](img/110.%20Margin%20of%20Error2.jpg)\n",
    "* The confidence intervals summarized:\n",
    "    * The true population mean falls in the interval defined by the sample mean plus minus the margin of error.\n",
    "    * Getting a smaller margin of error means that the confidence interval would be narrower. As we want a better prediction, it is in our interest to have the narrowest possible confidence interval.\n",
    "* ![Alt text](img/110.%20Margin%20of%20Error3.jpg)\n",
    "* We can control the margin of error.\n",
    "    * The statistic and the standard deviation are in the numerator, so smaller statistics and smaller standard deviations will reduce the margin of error.\n",
    "* ![Alt text](img/110.%20Margin%20of%20Error4.jpg)\n",
    "    * A higher level of confidence increases the statistic. A higher statistic means a higher margin of error. This leads to a wider confidence interval.\n",
    "\n",
    "* Example Confidence Level:\n",
    "    * ![Alt text](img/110.%20Margin%20of%20Error5.jpg)\n",
    "        * You took an exam and you wanna make a prediction about the mean grade obtained by all exam takers as A, B, C, D, and F are all the possible grades. We are 100% confident that the mean grade will be in the confidence interval from F to A.\n",
    "    * ![Alt text](img/110.%20Margin%20of%20Error6.jpg)\n",
    "        * if we lower the confidence level to 99%, we may end up with a confidence interval from F+ to A-. Remember, the interpretation in 99% of the cases the population mean falls in the interval.\n",
    "    * ![Alt text](img/110.%20Margin%20of%20Error7.jpg)\n",
    "        * So with a 50% confidence level, in 50% of the cases the true mean will fall in the specified interval. The only scenario under which this is possible is if the interval is narrower. Therefore, if the standard deviation and the sample size are kept constant, a lower confidence level results in a narrower interval.\n",
    "* Example Standard Deviation:\n",
    "    * ![Alt text](img/110.%20Margin%20of%20Error8.jpg)\n",
    "        * A lower standard deviation means that the data set is more concentrated around the mean, so we have a better chance to get it right.\n",
    "* Example Sample size in the denominator:\n",
    "    * ![Alt text](img/110.%20Margin%20of%20Error9.jpg)\n",
    "        * Higher sample sizes will decrease the margin of error. This is also quite intuitive. The more observations you have in your sample the more certain you are in the prediction.\n",
    "* Conclusion:\n",
    "    * The conclusion is that the more observations there are in the sample, the higher the chances of getting a good idea about the true mean of the entire population."
   ]
  },
  {
   "cell_type": "markdown",
   "metadata": {},
   "source": [
    "## Quiz 74: Margin of Error"
   ]
  },
  {
   "attachments": {},
   "cell_type": "markdown",
   "metadata": {},
   "source": [
    "https://www.udemy.com/course/the-data-science-course-complete-data-science-bootcamp/learn/quiz/4451010"
   ]
  },
  {
   "cell_type": "markdown",
   "metadata": {},
   "source": [
    "1. Which of the following would decrease the margin of error?\n",
    "    * A lower statistic and a higher sample size\n",
    "        * A higher statistic increases the ME. A higher standard deviation increases the ME. A higher sample size decreases the ME. Therefore: a) and c) are ambiguous. as we don’t know which effect is stronger. With b), the ME will definitely increase. In d) both statements decrease the ME."
   ]
  },
  {
   "cell_type": "markdown",
   "metadata": {},
   "source": [
    "## 111. Confidence intervals. Two means. Dependent samples"
   ]
  },
  {
   "attachments": {},
   "cell_type": "markdown",
   "metadata": {},
   "source": [
    "https://www.udemy.com/course/the-data-science-course-complete-data-science-bootcamp/learn/lecture/10764502"
   ]
  },
  {
   "cell_type": "markdown",
   "metadata": {},
   "source": [
    "* We will explore confidence intervals looking into two populations. \n",
    "    * These cases are more important as they have a wide range of real-world applications.\n",
    "    * In some cases, the samples that we have taken from the two populations will be dependent on each other and in others, they will be independent.\n",
    "        * ![Alt text](img/111.%20Confidence%20intervals.%20Two%20means.%20Dependent%20samples1.jpg)\n",
    "        * Dependent samples can occur in several situations.\n",
    "            * First, when we are researching the same subject over time.\n",
    "                * examples are weight loss and blood samples, because we are looking at the same person before and after.\n",
    "            * when investigating couples or families. \n",
    "                * For instance, habits of husbands and wives.\n",
    "            * Finally, we can have the same people, but in samples relating to different things. So instead of a before and after situation, we are looking at cause and effect.\n",
    "                * For example, when applying to university in the US, you sit the SAT and based on it, you either get admitted or you don't. The applicant is the same person. However, the samples are different. One relates to the SAT, the other to the admittance outcome.\n",
    "* ![Alt text](img/111.%20Confidence%20intervals.%20Two%20means.%20Dependent%20samples2.jpg)\n",
    "\n",
    "* In statistics, many concepts are similar to each other and you will quickly see that you have already acquired the intuition that allows you to understand these concepts pretty fast.\n",
    "\n",
    "* Dependent samples\n",
    "    * This statistical test is often used when developing medicine.\n",
    "        * Let's say you have developed a pill that increases the concentration of magnesium in the blood. It is very promising, but there is no data to support your claim. After testing the drug in a laboratory, it is time to see its actual effect on people.\n",
    "        * What you would typically do is take a sample of 10 people and test their magnesium levels before and after taking the pill.\n",
    "        * It is clear that it is the same people we are testing, thus the samples are dependent.\n",
    "            * An important note when dealing with biology, normality is so often observed that we immediately assume that such variables are normally distributed.\n",
    "        * the magnesium levels are stated in milligrams per deciliter and a healthy person would usually have somewhere between 1.7 and 2.2 milligrams of magnesium per deciliter.\n",
    "        * ![Alt text](img/111.%20Confidence%20intervals.%20Two%20means.%20Dependent%20samples3.jpg)\n",
    "            * The purpose of this test was to determine whether the drug is effective. Based on small sample, it most likely is."
   ]
  },
  {
   "cell_type": "markdown",
   "metadata": {},
   "source": [
    "## 112. Confidence intervals. Two means. Dependent samples Exercise"
   ]
  },
  {
   "attachments": {},
   "cell_type": "markdown",
   "metadata": {},
   "source": [
    "https://www.udemy.com/course/the-data-science-course-complete-data-science-bootcamp/learn/lecture/10764506"
   ]
  },
  {
   "cell_type": "markdown",
   "metadata": {},
   "source": [
    "## 113. Confidence intervals. Two means. Independent Samples (Part 1)"
   ]
  },
  {
   "attachments": {},
   "cell_type": "markdown",
   "metadata": {},
   "source": [
    "https://www.udemy.com/course/the-data-science-course-complete-data-science-bootcamp/learn/lecture/10764510"
   ]
  },
  {
   "cell_type": "markdown",
   "metadata": {},
   "source": [
    "* ![Alt text](img/113.%20Confidence%20intervals.%20Two%20means.%20Independent%20Samples%20(Part%201)1.jpg)\n",
    "    * Independent samples, we can further distinguish three cases:\n",
    "        * when the population variance is known,\n",
    "        * when the population variance is unknown but assumed to be equal,and \n",
    "        * when it is unknown and assumed to be different.\n",
    "\n",
    "* Independent samples when the population variance is known Example:\n",
    "    * University grades in the UK expressed in percentages.\n",
    "    * Samples are taken from two departments, engineering and management.\n",
    "    * ![Alt text](img/113.%20Confidence%20intervals.%20Two%20means.%20Independent%20Samples%20(Part%201)2.jpg)\n",
    "    * ![Alt text](img/113.%20Confidence%20intervals.%20Two%20means.%20Independent%20Samples%20(Part%201)3.jpg)\n",
    "    * Problem: We wanna find a 95% confidence interval for the difference between the grades of the students from engineering and management.\n",
    "        * Formula: The variance of the difference between the two means is equal to the variance of the grades received by engineering student, divided by the sample size of engineering students, plus the variance of grades obtained by management students, divided by the sample size of management students. The underlying logic is that dispersion is additive. More variables means higher or equal variability.\n",
    "        \n",
    "        * ![Alt text](img/113.%20Confidence%20intervals.%20Two%20means.%20Independent%20Samples%20(Part%201)4.jpg)\n",
    "        * Conclusion: \n",
    "            * We are 95% confident that the true mean difference between engineering and management grades falls into this interval. \n",
    "            * Know that this time the whole interval is negative. This is because we were calculating engineering grade minus management grade. As the engineers were consistently getting lower grades, the difference is negative. \n",
    "            * Had we calculated the difference as management minus engineering, we would've obtained a confidence interval between 4.72 and 9.28. Completely symmetrical around zero."
   ]
  },
  {
   "cell_type": "markdown",
   "metadata": {},
   "source": [
    "## 114. Confidence intervals. Two means. Independent Samples (Part 1). Exercise"
   ]
  },
  {
   "attachments": {},
   "cell_type": "markdown",
   "metadata": {},
   "source": [
    "https://www.udemy.com/course/the-data-science-course-complete-data-science-bootcamp/learn/lecture/10764512"
   ]
  },
  {
   "cell_type": "markdown",
   "metadata": {},
   "source": [
    "## 115. Confidence intervals. Two means. Independent Samples (Part 2)"
   ]
  },
  {
   "attachments": {},
   "cell_type": "markdown",
   "metadata": {},
   "source": [
    "https://www.udemy.com/course/the-data-science-course-complete-data-science-bootcamp/learn/lecture/10764516"
   ]
  },
  {
   "cell_type": "markdown",
   "metadata": {},
   "source": [
    "* ![Alt text](img/115.%20Confidence%20intervals.%20Two%20means.%20Independent%20Samples%20(Part%202)1.jpg)\n",
    "* Independent samples, variance is unknown but assumed to be equal\n",
    "    * Problem: Estimate the difference of price of apples in NY and LA\n",
    "    * Sample 10 grocery shop NY and 8 grocery shop LA\n",
    "    * You don't know what the population variance of apples in New York or LA is, **but you assume it should be the same for NY and LA or EQUAL.**\n",
    "    * So you calculate the mean price in NY and LA and obtained $3.94 and $3.25 respectively.\n",
    "    * standard deviations are 18 cents and 27 cents.\n",
    "        * we assume that the population variances are equal so we have to estimate them. \n",
    "        * The unbiased estimator in this case is called the pooled sample variance and we could use the following formula to calculate it.\n",
    "    * ![Alt text](img/115.%20Confidence%20intervals.%20Two%20means.%20Independent%20Samples%20(Part%202)2.jpg)\n",
    "    * ![Alt text](img/115.%20Confidence%20intervals.%20Two%20means.%20Independent%20Samples%20(Part%202)3.jpg)\n",
    "    * ![Alt text](img/115.%20Confidence%20intervals.%20Two%20means.%20Independent%20Samples%20(Part%202)4.jpg)\n",
    "        * Conclusion: \n",
    "            * we are 95% confident that the actual difference between the two populations, price of apples in New York and in LA, is somewhere between **0.47 and 0.92**. Therefore, it is clear that **apples in New York are much more expensive than in LA**."
   ]
  },
  {
   "cell_type": "markdown",
   "metadata": {},
   "source": [
    "## 116. Confidence intervals. Two means. Independent Samples (Part 2). Exercise"
   ]
  },
  {
   "attachments": {},
   "cell_type": "markdown",
   "metadata": {},
   "source": [
    "https://www.udemy.com/course/the-data-science-course-complete-data-science-bootcamp/learn/lecture/10764518"
   ]
  },
  {
   "cell_type": "markdown",
   "metadata": {},
   "source": [
    "## 117. Confidence intervals. Two means. Independent Samples (Part 3)"
   ]
  },
  {
   "attachments": {},
   "cell_type": "markdown",
   "metadata": {},
   "source": [
    "https://www.udemy.com/course/the-data-science-course-complete-data-science-bootcamp/learn/lecture/10764522"
   ]
  },
  {
   "cell_type": "markdown",
   "metadata": {},
   "source": [
    "* Confidence interval formula\n",
    "    * ![Alt text](img/117.%20Confidence%20intervals.%20Two%20means.%20Independent%20Samples%20(Part%203)1.jpg)\n",
    "        * we have the differences of the means of the two samples. The variances are the sample variances of each of the two variables and here are the respective sample sizes.\n",
    "* The degrees of freedom\n",
    "    * ![Alt text](img/117.%20Confidence%20intervals.%20Two%20means.%20Independent%20Samples%20(Part%203)2.jpg)"
   ]
  },
  {
   "cell_type": "markdown",
   "metadata": {},
   "source": [
    "# **19. Statistics - Practical Example: Inferential Statistics**"
   ]
  },
  {
   "cell_type": "markdown",
   "metadata": {},
   "source": [
    "## 118. Practical Example: Inferential Statistics"
   ]
  },
  {
   "attachments": {},
   "cell_type": "markdown",
   "metadata": {},
   "source": [
    "https://www.udemy.com/course/the-data-science-course-complete-data-science-bootcamp/learn/lecture/10764530"
   ]
  },
  {
   "cell_type": "markdown",
   "metadata": {},
   "source": [
    "## 119. Practical Example: Inferential Statistics Exercise"
   ]
  },
  {
   "attachments": {},
   "cell_type": "markdown",
   "metadata": {},
   "source": [
    "https://www.udemy.com/course/the-data-science-course-complete-data-science-bootcamp/learn/lecture/10764532"
   ]
  },
  {
   "cell_type": "markdown",
   "metadata": {},
   "source": [
    "# **20. Statistics - Hypothesis Testing**"
   ]
  },
  {
   "cell_type": "markdown",
   "metadata": {},
   "source": [
    "## 120. Null vs Alternative Hypothesis"
   ]
  },
  {
   "attachments": {},
   "cell_type": "markdown",
   "metadata": {},
   "source": [
    "https://www.udemy.com/course/the-data-science-course-complete-data-science-bootcamp/learn/lecture/10764538"
   ]
  },
  {
   "cell_type": "markdown",
   "metadata": {},
   "source": [
    "* ![Alt text](img/120.%20Null%20vs%20Alternative%20Hypothesis1.jpg)\n",
    "* Four steps in data-driven decision making:\n",
    "    *  First, you must formulate a hypothesis. \n",
    "    * Second, once you have formulated a hypothesis, you will have to find the right test for your hypothesis. \n",
    "    * Third, you execute the test. \n",
    "    * And fourth, you make a decision based on the result.\n",
    "* ![Alt text](img/120.%20Null%20vs%20Alternative%20Hypothesis2.jpg)\n",
    "* Hypothesis is an idea that can be tested.\n",
    "    * If there no data to test it, then it cannot be hypothesis\n",
    "* ![Alt text](img/120.%20Null%20vs%20Alternative%20Hypothesis3.jpg)\n",
    "    * The null hypothesis, denoted H zero, and the alternative hypothesis denoted H one or H A.\n",
    "    * The null hypothesis is the one to be tested, and the alternative is everything else.\n",
    "        * ![Alt text](img/120.%20Null%20vs%20Alternative%20Hypothesis4.jpg)\n",
    "            * If result close to the hypothesis then null hypothesis accepted (diterima), otherwise rejected\n",
    "            * The concept of the null hypothesis is similar to innocent until proven guilty.\n",
    "            * this was an example of a two-sided or a two-tailed test.\n",
    "        * It is important to note that outcomes of tests refer to the **population parameter** rather than the sample statistic.\n",
    "        *  ![Alt text](img/120.%20Null%20vs%20Alternative%20Hypothesis5.jpg)\n",
    "            * In statistics, the null hypothesis is the statement we are trying to reject. Therefore, the null hypothesis is the present state of affairs, while the alternative, is our personal opinion.\n",
    "            * this was an example of a one-sided or a one-tailed test.\n"
   ]
  },
  {
   "cell_type": "markdown",
   "metadata": {},
   "source": [
    "## 121. Further Reading on Null and Alternative Hypothesis"
   ]
  },
  {
   "attachments": {},
   "cell_type": "markdown",
   "metadata": {},
   "source": [
    "https://www.udemy.com/course/the-data-science-course-complete-data-science-bootcamp/learn/lecture/10786160"
   ]
  },
  {
   "cell_type": "markdown",
   "metadata": {},
   "source": [
    "* First, we'd like to note that, conventionally, we always include the equality sign in the null hypothesis.\n",
    "\n",
    "    * Student question: \n",
    "    * As per the above logic, in the video tutorial of the salary of the data scientist, the null hypothesis should have been: Data Scientists do not make an average of $113,000. Also in the second example, the null Hypothesis should have been: The average salary should be less than or equal to $125,000. \n",
    "    * Please explain further. Also please share some further documentation/reference material.\n",
    "\n",
    "* Now note that the statement is above is NOT true. This confusion motivated us to clarify further. \n",
    "\n",
    "* Instructor's answer (with some adjustments as 2-3 answers were combined):\n",
    "\n",
    "* 'I see why you would ask this question, as I asked the same one right after I was introduced to hypothesis testing.\n",
    "\n",
    "* In statistics, the null hypothesis is the statement we are trying to reject. Think of it as the 'status-quo'. The alternative, therefore, is the change or innovation. \n",
    "\n",
    "    * Example 1: So, for the data scientist salary example, the null would be:  the mean data scientist salary is $113,000. Then we will try to reject the null with a statistical test. So, usually, your personal opinion (e.g. data scientists don't earn exactly that much) is the alternative hypothesis.\n",
    "\n",
    "    * Example 2: Our friend Paul told us that the mean salary is >=$125,000 (status-quo, null). Our opinion is that he may be wrong, so we are testing that. Therefore, the alternative is: the mean data scientist salary is lower than $125,000.\n",
    "\n",
    "* It surely is counter-intuitive in the beginning, but later on, when you start doing the exercises, you will understand the mechanics. '"
   ]
  },
  {
   "cell_type": "markdown",
   "metadata": {},
   "source": [
    "## Quiz 75: Null vs Alternative Hypothesis"
   ]
  },
  {
   "attachments": {},
   "cell_type": "markdown",
   "metadata": {},
   "source": [
    "https://www.udemy.com/course/the-data-science-course-complete-data-science-bootcamp/learn/quiz/4451018"
   ]
  },
  {
   "cell_type": "markdown",
   "metadata": {},
   "source": [
    "1. You want to check if your height is above average, compared to your classmates. State the null and alternative hypotheses of this test.\n",
    "    * **H0:** My height is lower or equal to the average height in the class.<br>\n",
    "    **H1:** My height is higher than the average height in the class.\n",
    "        * The null is the status quo (you are 'shorter'), while the alternative is the 'change or innovation' (you are looking for this answer). Therefore, the null hypothesis of the test is ‘lower or equal’. You have to include ‘equal’ in the null hypothesis, as conventionally, the equality sign is always included in the null.\n",
    "2. You want to test if the Obama administration issued fewer executive orders than the Bush administration. State the null and alternative hypotheses of this test.\n",
    "    * **H0:** The Obama administration issued at least as many executive orders as the Bush administration.<br>\n",
    "    **H1:** The Obama administration issued fewewr executive orders than the Bush administration.\n",
    "        * We want to test if the Obama administration issued fewer executive orders than the Bush administration. Therefore, the null hypothesis is: ‘The Obama administration issued at least as many executive orders as the Bush administration.’ The alternative hypothesis encompasses everything else; therefore, the alternative is: The Obama administration issued fewer executive orders than the Bush administration. Answer c) the null hypothesis is right, but the alternative was wrong. The answer is d)."
   ]
  },
  {
   "cell_type": "markdown",
   "metadata": {},
   "source": [
    "## 122. Rejection Region and Significance Level"
   ]
  },
  {
   "attachments": {},
   "cell_type": "markdown",
   "metadata": {},
   "source": [
    "https://www.udemy.com/course/the-data-science-course-complete-data-science-bootcamp/learn/lecture/10764544"
   ]
  },
  {
   "cell_type": "markdown",
   "metadata": {},
   "source": [
    "* ![Alt text](img/122.%20Rejection%20Region%20and%20Significance%20Level1.jpg)\n",
    "    * The significance level is denoted by alpha and is the probability of rejecting the null hypothesis if it is true. So the probability of making this error, typical values for alpha are 0.01, 0.05, and 0.1. It is a value that you select based on the certainty you need.\n",
    "    * In most cases, the choice of alpha is determined by the context you are operating in but 0.05 is the most commonly used value.\n",
    "* ![Alt text](img/122.%20Rejection%20Region%20and%20Significance%20Level2.jpg)\n",
    "    * The formula for population of grades is normally distributed is, Z equals the sample mean, minus the hypothesized mean, divided by the standard error.\n",
    "* ![Alt text](img/122.%20Rejection%20Region%20and%20Significance%20Level3.jpg)\n",
    "    * The idea is the following, we are standardizing or scaling the sample mean we got, if the sample mean is close enough to the hypothesized mean, then Z will be close to zero, otherwise it will be far away from it. Naturally, if the sample mean is exactly equal to the hypothesized mean, Z will be zero. In all these cases, we would accept the null hypothesis.\n",
    "* ![Alt text](img/122.%20Rejection%20Region%20and%20Significance%20Level4.jpg)\n",
    "    * Since we are conducting a two sided or a two tail test, there are two cutoff lines, one on each side. When we calculate Z, we will get a value. If this value falls into the middle part then we cannot reject the null. If it falls outside, in the shaded region then we reject the null hypothesis. That is why the shaded part is called rejection region.\n",
    "    * the area that is cut off actually depends on the significance level. The level of significance, alpha, is 0.05. Then we have alpha divided by 2, or 0.025 on the left side and 0.025 on the right side. Now, these are values we can check from the Z table. When alpha is 0.025, Z is 1.96, so 1.96 on the right side and -1.96 on the left side. Therefore, if the value we get for Z from the test is lower than minus 1.96 or higher than 1.96, we will reject the null hypothesis. Otherwise, we will accept it.\n",
    "* ![Alt text](img/122.%20Rejection%20Region%20and%20Significance%20Level5.jpg)\n",
    "    * We scale the sample mean with respect to the hypothesized value. If Z is close to zero, then we cannot reject the null. If it is far away from zero then we reject the null hypothesis."
   ]
  },
  {
   "cell_type": "markdown",
   "metadata": {},
   "source": [
    "* ![Alt text](img/122.%20Rejection%20Region%20and%20Significance%20Level6.jpg)\n",
    "    * Example: Paul says, \"Data scientists earn more than $125,000.\" So, H zero, is mu zero, is bigger or equal to $125,000. The alternative is that mu zero is lower than $125,000. Using the same level of significance, this time, the whole rejection region is on the left, so the rejection region has an area of alpha.Looking at the Z table that corresponds to a Z score of 1.645, and since it is on the left, it is with a minus sign. Now, when calculating our test statistic Z, if we get a value lower than -1.645, we would reject the null hypothesis as we have statistical evidence that the data scientists salary is less than $125,000. Otherwise, we would accept it.\n",
    "* ![Alt text](img/122.%20Rejection%20Region%20and%20Significance%20Level7.jpg)\n",
    "    * Say the university dean told you that the average GPA students get is lower than 70%. In that case, the null hypothesis is mu zero is lower or equal to 70%, while the alternative, mu zero is bigger than 70%. In this situation, the rejection region is on the right side, so if the test statistic is bigger than the cutoff Z score, we would reject the null. Otherwise we wouldn't."
   ]
  },
  {
   "cell_type": "markdown",
   "metadata": {},
   "source": [
    "## Quiz 76: Rejection Region and Significance Level"
   ]
  },
  {
   "attachments": {},
   "cell_type": "markdown",
   "metadata": {},
   "source": [
    "https://www.udemy.com/course/the-data-science-course-complete-data-science-bootcamp/learn/quiz/4451020"
   ]
  },
  {
   "cell_type": "markdown",
   "metadata": {},
   "source": [
    "1. Which value is NOT typical when assigning a significance level?\n",
    "    * 0.5\n",
    "    * 0.5 is a very high level of significance. Testing with it will not give much credibility to your test. There is 50% chance you are wrong.\n",
    "2. If your test value falls into the rejection region:\n",
    "    * You will reject the null hypothesis.\n",
    "    * If the test value falls into the rejection region, you will reject the null hypothesis. ‘You will reject the test’ is a meaningless phrase, as the test is not accepted or rejected; it is executed. The outcome of the test is rejection or acceptance of the null hypothesis. Similarly, rejecting the significance level has no meaning."
   ]
  },
  {
   "cell_type": "markdown",
   "metadata": {},
   "source": [
    "## 123. Type I Error and Type II Error"
   ]
  },
  {
   "attachments": {},
   "cell_type": "markdown",
   "metadata": {},
   "source": [
    "https://www.udemy.com/course/the-data-science-course-complete-data-science-bootcamp/learn/lecture/10764546"
   ]
  },
  {
   "cell_type": "markdown",
   "metadata": {},
   "source": [
    "* In general, we can have two types of errors,\n",
    "    * ![Alt text](img/123.%20Type%20I%20Error%20and%20Type%20II%20Error1.jpg)\n",
    "        * Type one error is when you reject a true null hypothesis. It is also called a false positive. The probability of making this error is alpha, the level of significance. Since you, the researcher, choose the alpha, the responsibility for making this error lies solely on you.\n",
    "    * ![Alt text](img/123.%20Type%20I%20Error%20and%20Type%20II%20Error2.jpg)\n",
    "        * Type two error is when you accept a false null hypothesis. The probability of making this error is denoted by beta. Beta depends mainly on sample size and magnitude of the effect. So if your topic is difficult to test due to hard sampling or the effect you are looking for is almost negligible, it is more likely to make this type of error.\n",
    "* ![Alt text](img/123.%20Type%20I%20Error%20and%20Type%20II%20Error3.jpg)\n",
    "    * We should also mention that the probability of rejecting a false null hypothesis is equal to one minus beta. This is the researcher's goal, to reject a false null hypothesis, therefore, one minus beta is called the power of the test. Most often, researchers increase the power of a test by increasing the sample size. \n",
    "* ![Alt text](img/123.%20Type%20I%20Error%20and%20Type%20II%20Error4.jpg)\n",
    "    * This is a common table statisticians use to summarize the types of errors."
   ]
  },
  {
   "cell_type": "markdown",
   "metadata": {},
   "source": [
    "## Quiz 77: Type I Error and Type II Error"
   ]
  },
  {
   "attachments": {},
   "cell_type": "markdown",
   "metadata": {},
   "source": [
    "https://www.udemy.com/course/the-data-science-course-complete-data-science-bootcamp/learn/quiz/4451022"
   ]
  },
  {
   "cell_type": "markdown",
   "metadata": {},
   "source": [
    "1. Type II error is also known as:\n",
    "    * False Negative\n",
    "2. Type I error or false positive comprises:\n",
    "    * rejecting a null hypothesis that is true\n",
    "3. What is another way to call the probability of rejecting a null hypothesis that is false?\n",
    "    * Power of the test\n",
    "4. You are taking a pregnancy test. The null hypothesis of this test is: I am not pregnant. In reality, you are not pregnant, but the test says you are. Which type of error occurred?\n",
    "    * Type I error\n",
    "        * This is a Type I error. You rejected a null hypothesis that is true. It is also called a false positive, although in this case, it is counter intuitive. While usually no error is made (that’s why hypothesis testing is so wide-spread), it is impossible to make both errors at the same time."
   ]
  },
  {
   "cell_type": "markdown",
   "metadata": {},
   "source": [
    "## 124. Test for the Mean. Population Variance Known"
   ]
  },
  {
   "attachments": {},
   "cell_type": "markdown",
   "metadata": {},
   "source": [
    "https://www.udemy.com/course/the-data-science-course-complete-data-science-bootcamp/learn/lecture/10764550"
   ]
  },
  {
   "cell_type": "markdown",
   "metadata": {},
   "source": [
    "* ![Alt text](img/124.%20Test%20for%20the%20Mean.%20Population%20Variance%20Known1.jpg)\n",
    "    * similar to confidence intervals for a single population, and confidence intervals for two populations\n",
    "    * ![Alt text](img/124.%20Test%20for%20the%20Mean.%20Population%20Variance%20Known2.jpg)\n",
    "        * In the next few videos, we will run tests for a single mean with both known variance and unknown variance."
   ]
  },
  {
   "cell_type": "markdown",
   "metadata": {},
   "source": [
    "* ![Alt text](img/124.%20Test%20for%20the%20Mean.%20Population%20Variance%20Known3.jpg)\n",
    "    * Testing is done by standardizing the variable at hand and comparing it to the z, which follows a standard normal distribution.\n",
    "    * We standardize a variable by subtracting the mean and dividing by the standard deviation. Since it is a sample, we use the standard error. \n",
    "* ![Alt text](img/124.%20Test%20for%20the%20Mean.%20Population%20Variance%20Known4.jpg)\n",
    "    * Thus, the formula for standardization becomes Z is equal to the sample mean minus the value of interest from the null hypothesis divided by the standard error. In this way, we obtain a distribution with a mean of 0 and a standard deviation of 1. \n",
    "    * This Z should not be mistaken with z. The Z is the standardized variable associated with the test and will be called the **Z-score** from now on. \n",
    "    * The z is the one from the table that we've talked about before, and henceforth will be referred to as the critical value.\n",
    "* ![Alt text](img/124.%20Test%20for%20the%20Mean.%20Population%20Variance%20Known5.jpg)\n",
    "    * The z is normally distributed with a mean and standard deviation of 1. The Z is normally distributed with a mean of X bar minus mu zero and a standard deviation of 1.\n",
    "    * Standardization lets us compare the means. The closer the difference of X bar and mu zero to zero, the closer Z-score itself to zero. This implies a higher chance to accept the null hypothesis.\n",
    "* ![Alt text](img/124.%20Test%20for%20the%20Mean.%20Population%20Variance%20Known6.jpg)\n",
    "* ![Alt text](img/124.%20Test%20for%20the%20Mean.%20Population%20Variance%20Known7.jpg)\n",
    "* ![Alt text](img/124.%20Test%20for%20the%20Mean.%20Population%20Variance%20Known8.jpg)"
   ]
  },
  {
   "cell_type": "markdown",
   "metadata": {},
   "source": [
    "## 125. Test for the Mean. Population Variance Known Exercise"
   ]
  },
  {
   "attachments": {},
   "cell_type": "markdown",
   "metadata": {},
   "source": [
    "https://www.udemy.com/course/the-data-science-course-complete-data-science-bootcamp/learn/lecture/10764556"
   ]
  },
  {
   "cell_type": "markdown",
   "metadata": {},
   "source": [
    "## 126. p-value"
   ]
  },
  {
   "attachments": {},
   "cell_type": "markdown",
   "metadata": {},
   "source": [
    "https://www.udemy.com/course/the-data-science-course-complete-data-science-bootcamp/learn/lecture/10764560"
   ]
  },
  {
   "cell_type": "markdown",
   "metadata": {},
   "source": [
    "* ![Alt text](img/126.%20p-value1.jpg)\n",
    "    * P value  is the most common way to test hypotheses. Instead of testing at preassigned levels of significance we can find the smallest level of significance at which we can still reject the null hypothesis given the observed sample statistic.\n",
    "    * ![Alt text](img/126.%20p-value2.jpg)\n",
    "        * We rejected the null hypothesis as significance levels of 0.05 and 0.01 but we wanted to know how much lower we could go.\n",
    "    * ![Alt text](img/126.%20p-value3.jpg)\n",
    "        * We could check the Z table for plus 4.67 which gives us the same result as minus 4.67. In most Z tables, you would not even find this value as it is so large. Thus, we round up to the closest value available and get 0.0001.\n",
    "            * ![Alt text](img/126.%20p-value4.jpg)\n",
    "    * ![Alt text](img/126.%20p-value5.jpg)\n",
    "        * after choosing a significance level of alpha you compare the P value to it.\n",
    "    * ![Alt text](img/126.%20p-value6.jpg)\n",
    "        * ![Alt text](img/126.%20p-value7.jpg)\n",
    "        * ![Alt text](img/126.%20p-value8.jpg)"
   ]
  },
  {
   "cell_type": "markdown",
   "metadata": {},
   "source": [
    "* So where are P values used? \n",
    "    * ![Alt text](img/126.%20p-value9.jpg)\n",
    "    * Most statistical software packages run tests and then provide us with a series of results. One of them is P value. It is then up to the researcher to decide whether the variable is statistically significant or not. Generally, software is designed to calculate the P value to the third digit after the separator. The point is, when you start conducting your own research you would love to be able to see the three zeros after the dot. The closer to zero your P value is the more significant is the result you've obtained.\n",
    "* The final consideration is that the P value is an extremely powerful measure as it works for all distributions. \n",
    "    * ![Alt text](img/126.%20p-value10.jpg)\n",
    "    * No matter if we are dealing with the normal, students T, binomial or uniform distribution, whatever the test the P value rationale holds. **If the P value is lower than the level of significance you reject the null hypothesis**. Having said that, you would normally use the P value in the presence of a digital medium. \n",
    "        * Throughout this course, I recommend that you use online P value calculators to support your studies and double check your answers when doing exercises. \n",
    "        * Please download the PDF that comes with this lesson as it will include detailed instructions for how to use online P value calculators."
   ]
  },
  {
   "cell_type": "markdown",
   "metadata": {},
   "source": [
    "## Quiz 78: p-value"
   ]
  },
  {
   "attachments": {},
   "cell_type": "markdown",
   "metadata": {},
   "source": [
    "https://www.udemy.com/course/the-data-science-course-complete-data-science-bootcamp/learn/quiz/4451024"
   ]
  },
  {
   "cell_type": "markdown",
   "metadata": {},
   "source": [
    "1. You have a z-score of 2.31. What is the p-value of this test?\n",
    "    * not enough information\n",
    "    * Since we haven’t specified if this is a one-tailed or a two-tailed test, there is not enough information to answer this question.\n",
    "2. You have a z-score of 2.31 for a one-tailed test. What is the p-value of this test?\n",
    "    * 0.010\n",
    "    * The p-value for a one-tailed test is 0.010. The p-value for a two-tailed test is twice as big, therefore 0.021 (while 0.020 is good enough – differences occur due to rounding).\n",
    "3. What do we do when the p-value is lower than the level of significance?\n",
    "    * Reject the null hypothesis\n",
    "4. If we have a p-value of 0.001 and a significance level of 1% we reject the null hypothesis.\n",
    "    * True"
   ]
  },
  {
   "cell_type": "markdown",
   "metadata": {},
   "source": [
    "## 127. Test for the Mean. Population Variance Unknown"
   ]
  },
  {
   "attachments": {},
   "cell_type": "markdown",
   "metadata": {},
   "source": [
    "https://www.udemy.com/course/the-data-science-course-complete-data-science-bootcamp/learn/lecture/10764568"
   ]
  },
  {
   "cell_type": "markdown",
   "metadata": {},
   "source": [
    "* ![Alt text](img/127.%20Test%20for%20the%20Mean.%20Population%20Variance%20Unknown%20Exercise1.jpg)\n",
    "    * Example:\n",
    "        * Task: estimate if the email open rate of one of the firm's competitors is above your company's open rate of 40%. \n",
    "            * Null hypothesis mean open rate is lower or equal to 40%.\n",
    "            * Alternative hypothesis mean open rate is higher than 40%.\n",
    "                * ![Alt text](img/127.%20Test%20for%20the%20Mean.%20Population%20Variance%20Unknown%20Exercise2.jpg)\n",
    "                * ![Alt text](img/127.%20Test%20for%20the%20Mean.%20Population%20Variance%20Unknown%20Exercise3.jpg)\n",
    "                * ![Alt text](img/127.%20Test%20for%20the%20Mean.%20Population%20Variance%20Unknown%20Exercise4.jpg)\n",
    "                * ![Alt text](img/127.%20Test%20for%20the%20Mean.%20Population%20Variance%20Unknown%20Exercise5.jpg)\n",
    "                    * If the absolute value of the T score is lower than the statistic from the table, we cannot reject the null hypothesis. Therefore, we must accept it.\n",
    "                * ![Alt text](img/127.%20Test%20for%20the%20Mean.%20Population%20Variance%20Unknown%20Exercise6.jpg)"
   ]
  },
  {
   "cell_type": "markdown",
   "metadata": {},
   "source": [
    "## 128. Test for the Mean. Population Variance Unknown Exercise"
   ]
  },
  {
   "attachments": {},
   "cell_type": "markdown",
   "metadata": {},
   "source": [
    "https://www.udemy.com/course/the-data-science-course-complete-data-science-bootcamp/learn/lecture/10764574"
   ]
  },
  {
   "cell_type": "markdown",
   "metadata": {},
   "source": [
    "## 129. Test for the Mean. Dependent Samples"
   ]
  },
  {
   "attachments": {},
   "cell_type": "markdown",
   "metadata": {},
   "source": [
    "https://www.udemy.com/course/the-data-science-course-complete-data-science-bootcamp/learn/lecture/10764578"
   ]
  },
  {
   "attachments": {},
   "cell_type": "markdown",
   "metadata": {},
   "source": [
    "* ![Alt text](img/129.%20Test%20for%20the%20Mean.%20Dependent%20Samples1.jpg)\n",
    "* ![Alt text](img/129.%20Test%20for%20the%20Mean.%20Dependent%20Samples2.jpg)\n",
    "* ![Alt text](img/129.%20Test%20for%20the%20Mean.%20Dependent%20Samples3.jpg)\n",
    "* ![Alt text](img/129.%20Test%20for%20the%20Mean.%20Dependent%20Samples4.jpg)\n",
    "* ![Alt text](img/129.%20Test%20for%20the%20Mean.%20Dependent%20Samples5.jpg)\n",
    "* ![Alt text](img/129.%20Test%20for%20the%20Mean.%20Dependent%20Samples6.jpg) \n",
    "* ![Alt text](img/129.%20Test%20for%20the%20Mean.%20Dependent%20Samples7.jpg) \n",
    "* ![Alt text](img/129.%20Test%20for%20the%20Mean.%20Dependent%20Samples8.jpg) \n",
    "* ![Alt text](img/129.%20Test%20for%20the%20Mean.%20Dependent%20Samples9.jpg) \n",
    "* ![Alt text](img/129.%20Test%20for%20the%20Mean.%20Dependent%20Samples10.jpg)\n",
    "* "
   ]
  },
  {
   "cell_type": "markdown",
   "metadata": {},
   "source": [
    "## 130. Test for the Mean. Dependent Samples Exercise"
   ]
  },
  {
   "attachments": {},
   "cell_type": "markdown",
   "metadata": {},
   "source": [
    "https://www.udemy.com/course/the-data-science-course-complete-data-science-bootcamp/learn/lecture/10764582"
   ]
  },
  {
   "cell_type": "markdown",
   "metadata": {},
   "source": [
    "## 131. Test for the mean. Independent Samples (Part 1)"
   ]
  },
  {
   "attachments": {},
   "cell_type": "markdown",
   "metadata": {},
   "source": [
    "https://www.udemy.com/course/the-data-science-course-complete-data-science-bootcamp/learn/lecture/10764584"
   ]
  },
  {
   "attachments": {},
   "cell_type": "markdown",
   "metadata": {},
   "source": [
    "* ![Alt text](img/131.%20Test%20for%20the%20mean.%20Independent%20Samples%20(Part%201)1.jpg)\n",
    "* ![Alt text](img/131.%20Test%20for%20the%20mean.%20Independent%20Samples%20(Part%201)2.jpg)\n",
    "* ![Alt text](img/131.%20Test%20for%20the%20mean.%20Independent%20Samples%20(Part%201)3.jpg)\n",
    "* ![Alt text](img/131.%20Test%20for%20the%20mean.%20Independent%20Samples%20(Part%201)4.jpg)\n",
    "* ![Alt text](img/131.%20Test%20for%20the%20mean.%20Independent%20Samples%20(Part%201)5.jpg)\n",
    "* ![Alt text](img/131.%20Test%20for%20the%20mean.%20Independent%20Samples%20(Part%201)6.jpg)\n",
    "* ![Alt text](img/131.%20Test%20for%20the%20mean.%20Independent%20Samples%20(Part%201)7.jpg)"
   ]
  },
  {
   "cell_type": "markdown",
   "metadata": {},
   "source": [
    "## 132. Test for the mean. Independent Samples (Part 1). Exercise"
   ]
  },
  {
   "attachments": {},
   "cell_type": "markdown",
   "metadata": {},
   "source": [
    "https://www.udemy.com/course/the-data-science-course-complete-data-science-bootcamp/learn/lecture/12698175"
   ]
  },
  {
   "cell_type": "markdown",
   "metadata": {},
   "source": [
    "## 133. Test for the mean. Independent Samples (Part 2)"
   ]
  },
  {
   "attachments": {},
   "cell_type": "markdown",
   "metadata": {},
   "source": [
    "https://www.udemy.com/course/the-data-science-course-complete-data-science-bootcamp/learn/lecture/10764592"
   ]
  },
  {
   "attachments": {},
   "cell_type": "markdown",
   "metadata": {},
   "source": [
    "* ![Alt text](img/133.%20Test%20for%20the%20mean.%20Independent%20Samples%20(Part%202)1.jpg)\n",
    "* ![Alt text](img/133.%20Test%20for%20the%20mean.%20Independent%20Samples%20(Part%202)2.jpg)\n",
    "* ![Alt text](img/133.%20Test%20for%20the%20mean.%20Independent%20Samples%20(Part%202)3.jpg)\n",
    "* ![Alt text](img/133.%20Test%20for%20the%20mean.%20Independent%20Samples%20(Part%202)4.jpg)\n",
    "* ![Alt text](img/133.%20Test%20for%20the%20mean.%20Independent%20Samples%20(Part%202)5.jpg)\n",
    "* ![Alt text](img/133.%20Test%20for%20the%20mean.%20Independent%20Samples%20(Part%202)6.jpg)\n",
    "* ![Alt text](img/133.%20Test%20for%20the%20mean.%20Independent%20Samples%20(Part%202)7.jpg)\n",
    "* ![Alt text](img/133.%20Test%20for%20the%20mean.%20Independent%20Samples%20(Part%202)8.jpg)\n",
    "* ![Alt text](img/133.%20Test%20for%20the%20mean.%20Independent%20Samples%20(Part%202)9.jpg)"
   ]
  },
  {
   "cell_type": "markdown",
   "metadata": {},
   "source": [
    "## Quiz 79: Test for the mean. Independent Samples (Part 2)"
   ]
  },
  {
   "attachments": {},
   "cell_type": "markdown",
   "metadata": {},
   "source": [
    "https://www.udemy.com/course/the-data-science-course-complete-data-science-bootcamp/learn/quiz/4545316"
   ]
  },
  {
   "cell_type": "markdown",
   "metadata": {},
   "source": [
    "## 134. Test for the mean. Independent Samples (Part 2). Exercise"
   ]
  },
  {
   "attachments": {},
   "cell_type": "markdown",
   "metadata": {},
   "source": [
    "https://www.udemy.com/course/the-data-science-course-complete-data-science-bootcamp/learn/lecture/10764586"
   ]
  },
  {
   "cell_type": "markdown",
   "metadata": {},
   "source": [
    "# **21. Statistics - Practical Example: Hypothesis Testing**"
   ]
  },
  {
   "cell_type": "markdown",
   "metadata": {},
   "source": [
    "## 135. Practical Example: Hypothesis Testing"
   ]
  },
  {
   "attachments": {},
   "cell_type": "markdown",
   "metadata": {},
   "source": [
    "https://www.udemy.com/course/the-data-science-course-complete-data-science-bootcamp/learn/lecture/10764600"
   ]
  },
  {
   "attachments": {},
   "cell_type": "markdown",
   "metadata": {},
   "source": [
    "* ![Alt text](img/135.%20Practical%20Example%20Hypothesis%20Testing0.jpg)\n",
    "* ![Alt text](img/135.%20Practical%20Example%20Hypothesis%20Testing1.jpg)\n",
    "* ![Alt text](img/135.%20Practical%20Example%20Hypothesis%20Testing2.jpg)\n",
    "* ![Alt text](img/135.%20Practical%20Example%20Hypothesis%20Testing3.jpg)\n",
    "* ![Alt text](img/135.%20Practical%20Example%20Hypothesis%20Testing4.jpg)\n",
    "* ![Alt text](img/135.%20Practical%20Example%20Hypothesis%20Testing5.jpg)\n",
    "* ![Alt text](img/135.%20Practical%20Example%20Hypothesis%20Testing6.jpg)"
   ]
  },
  {
   "cell_type": "markdown",
   "metadata": {},
   "source": [
    "## 136. Practical Example: Hypothesis Testing Exercise"
   ]
  },
  {
   "attachments": {},
   "cell_type": "markdown",
   "metadata": {},
   "source": [
    "https://www.udemy.com/course/the-data-science-course-complete-data-science-bootcamp/learn/lecture/10764602"
   ]
  }
 ],
 "metadata": {
  "kernelspec": {
   "display_name": "Python 3 (ipykernel)",
   "language": "python",
   "name": "python3"
  },
  "language_info": {
   "codemirror_mode": {
    "name": "ipython",
    "version": 3
   },
   "file_extension": ".py",
   "mimetype": "text/x-python",
   "name": "python",
   "nbconvert_exporter": "python",
   "pygments_lexer": "ipython3",
   "version": "3.9.13 (tags/v3.9.13:6de2ca5, May 17 2022, 16:36:42) [MSC v.1929 64 bit (AMD64)]"
  },
  "vscode": {
   "interpreter": {
    "hash": "1b600a3438a79bc98971c3547d28f531d0c8ed6c91b96b1480a504fa30005dbe"
   }
  }
 },
 "nbformat": 4,
 "nbformat_minor": 2
}
