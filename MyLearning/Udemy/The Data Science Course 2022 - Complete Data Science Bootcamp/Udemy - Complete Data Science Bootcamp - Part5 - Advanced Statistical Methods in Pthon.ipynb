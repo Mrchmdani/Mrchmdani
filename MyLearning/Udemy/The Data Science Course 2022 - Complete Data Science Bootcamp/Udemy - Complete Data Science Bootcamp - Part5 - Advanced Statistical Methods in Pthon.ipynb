{
 "cells": [
  {
   "attachments": {},
   "cell_type": "markdown",
   "metadata": {},
   "source": [
    "# **Section 31: Part 5: Advanced Statistical Methods in Python**"
   ]
  },
  {
   "attachments": {},
   "cell_type": "markdown",
   "metadata": {},
   "source": [
    "## 181. Introduction to Regression Analysis"
   ]
  },
  {
   "attachments": {},
   "cell_type": "markdown",
   "metadata": {},
   "source": [
    "https://www.udemy.com/course/the-data-science-course-complete-data-science-bootcamp/learn/lecture/10776980#content"
   ]
  },
  {
   "attachments": {},
   "cell_type": "markdown",
   "metadata": {},
   "source": [
    "* Regression analysis is one of the most common methods of prediction. It is used whenever we have a causal relationship between variables. A great deal of predictive modeling in practice is done through regression analysis.\n",
    "    * ![Alt text](img/181.%20Introduction%20to%20Regression%20Analysis1.jpg)\n",
    "* It becomes extremely powerful when complimented by techniques like factor analysis, and you can truly find many academic papers based on it. Moreover, fundamentals of regression analysis are used in supervised machine learning. So you can see how regressions are a must for data science.\n",
    "    * ![Alt text](img/181.%20Introduction%20to%20Regression%20Analysis2.jpg)\n",
    "\n",
    "* Example:\n",
    "    * The general point is the following, among other factors, the amount of money you spend depends on the amount of money you earn.\n",
    "    * In the same way the amount of time you devote to this course is affected by your motivation to learn additional statistical methods. You can quantify these relationships and many others using regression analysis.\n",
    "        * * ![Alt text](img/181.%20Introduction%20to%20Regression%20Analysis3.jpg)\n",
    "* Typical step-by-step approach is start with a simple linear regression model, and before long, we'll be dealing with a multiple regression model.\n",
    "    * ![Alt text](img/181.%20Introduction%20to%20Regression%20Analysis4.jpg)"
   ]
  },
  {
   "attachments": {},
   "cell_type": "markdown",
   "metadata": {},
   "source": [
    "## Quiz 107: Introduction to Regression Analysis"
   ]
  },
  {
   "attachments": {},
   "cell_type": "markdown",
   "metadata": {},
   "source": [
    "* Are you ready for regression analysis?\n",
    "    * Yes"
   ]
  },
  {
   "attachments": {},
   "cell_type": "markdown",
   "metadata": {},
   "source": [
    "# **Section 32: Advanced Statistical Methods - Linear Regression with StatsModels**"
   ]
  },
  {
   "attachments": {},
   "cell_type": "markdown",
   "metadata": {},
   "source": [
    "## 182. The Linear Regression Model"
   ]
  },
  {
   "attachments": {},
   "cell_type": "markdown",
   "metadata": {},
   "source": [
    "https://www.udemy.com/course/the-data-science-course-complete-data-science-bootcamp/learn/lecture/10776984#content"
   ]
  },
  {
   "attachments": {},
   "cell_type": "markdown",
   "metadata": {},
   "source": [
    "* A linear regression is a linear approximation of a casual relationship between two or more variables.\n",
    "    * Regression models are highly valuable. As they are one of the most common ways to make inferences and predictions.\n",
    "* The Process:\n",
    "    * Get sample data.\n",
    "    * Design a model that explains the data.\n",
    "    * And then make predictions for the whole population.\n",
    "    * ![Alt text](img/182.%20The%20Linear%20Regression%20Model1.jpg)\n",
    "* There is a dependent variable, labeled 'Y' being predicted. And independent variables, labeled 'X1', 'X2', and so forth. These are the predictors. 'Y' is a function of the 'X' variables, and the regression model is a linear approximation of this function.\n",
    "    * ![Alt text](img/182.%20The%20Linear%20Regression%20Model2.jpg)\n",
    "* The easiest regression model is the simple linear regression.\n",
    "    * ![Alt text](img/182.%20The%20Linear%20Regression%20Model3.jpg)\n",
    "        * 'Y' is equal to beta zero plus beta one times 'X' plus epsilon.\n",
    "        * 'Y' is the variable we are trying to predict, and is called the dependent variable.\n",
    "        * 'X' is an independent variable.\n",
    "        * But to have a regression, 'Y' must depend on 'X' in some causal way. Whenever there is a change in 'X', such change must translate into a change in 'Y'.\n",
    "\n",
    "* Simple Linear Regression Equation\n",
    "    * ![Alt text](img/182.%20The%20Linear%20Regression%20Model4.jpg)\n",
    "    * The 'Y' here is referred to as 'Y' hat. Whenever we have a hat symbol, it is an estimated or predicted value. 'B' zero is the estimate of the regression constant Beta zero. While 'B' one is the estimate of Beta one and 'X' is the sample data for the independent variable."
   ]
  },
  {
   "attachments": {},
   "cell_type": "markdown",
   "metadata": {},
   "source": [
    "## Quiz 108: The Linear Regression Model"
   ]
  },
  {
   "attachments": {},
   "cell_type": "markdown",
   "metadata": {},
   "source": [
    "https://www.udemy.com/course/the-data-science-course-complete-data-science-bootcamp/learn/quiz/4451910#overview"
   ]
  },
  {
   "attachments": {},
   "cell_type": "markdown",
   "metadata": {},
   "source": [
    "1. You have an ice-cream shop. You noticed a relationship between the number of cones you order and the number of ice-creams you sell. Is this a suitable situation for regression analysis?\n",
    "    * No\n",
    "    * While it is true that, if you run out of cones, you cannot sell anymore ice-creams, this is not regression analysis material. The two variables go hand-in-hand as (usually) each ice-cream requires a cone.\n",
    "2. You are trying to predict the amount of beer consumed in the US, depending on the state. Is this regression material?\n",
    "    * Yes\n",
    "    * Yes, logic shows us that, in different states, people drink different amounts of beer. Some states are warmer; other are colder etc. While many more things will be a part of this regression, such as gender, income etc., this is a good basis for regression analysis."
   ]
  },
  {
   "attachments": {},
   "cell_type": "markdown",
   "metadata": {},
   "source": [
    "## 183. Correlation vs Regression"
   ]
  },
  {
   "attachments": {},
   "cell_type": "markdown",
   "metadata": {},
   "source": [
    "https://www.udemy.com/course/the-data-science-course-complete-data-science-bootcamp/learn/lecture/10776986#overview"
   ]
  },
  {
   "attachments": {},
   "cell_type": "markdown",
   "metadata": {},
   "source": [
    "* The relationship between correlation analysis and regression analysis.\n",
    "    * Correlation does not imply causation.\n",
    "        * First, correlation measures the degree of relationship between two variables. Regression analysis is about how one variable affects another, or what changes it causes to the other.\n",
    "        * Second, correlation doesn't capture causality but the degree of interrelation between the two variables. Regression is based on causality. It shows no degree of connection but cause and effect.\n",
    "        * Third, a property of correlation is that the correlation between x and y is the same as between y and x. This you can easily see from the formula which is symmetrical. Regressions of y on x and x on y yield different results. Think about our example with income and education. Predicting income based on education makes sense, but the opposite does not.\n",
    "        * Finally, the two methods have a very different graphical representation. Linear regression analysis is known for the best fitting line that goes through the data points and minimizes the distance between them, while correlation is a single point.\n",
    "    * ![Alt text](img/183.%20Correlation%20vs%20Regression1.jpg)"
   ]
  },
  {
   "attachments": {},
   "cell_type": "markdown",
   "metadata": {},
   "source": [
    "## Quiz 109: Correlation vs Regression"
   ]
  },
  {
   "attachments": {},
   "cell_type": "markdown",
   "metadata": {},
   "source": [
    "https://www.udemy.com/course/the-data-science-course-complete-data-science-bootcamp/learn/quiz/4451912#overview"
   ]
  },
  {
   "attachments": {},
   "cell_type": "markdown",
   "metadata": {},
   "source": [
    "1. Which statement is false?\n",
    "    * Correlation could be represted as a line\n",
    "    * Correlation is a single point. It cannot be represented as a line.\n",
    "        * What about statement that is True?\n",
    "            * Correlation does not imply causation\n",
    "            * Correlation is symmetrical regarding both variables\n",
    "            * Correlation does not capture the direction of the causal relationship"
   ]
  },
  {
   "attachments": {},
   "cell_type": "markdown",
   "metadata": {},
   "source": [
    "## 184. Geometrical Representation of the Linear Regression Model"
   ]
  },
  {
   "attachments": {},
   "cell_type": "markdown",
   "metadata": {},
   "source": [
    "https://www.udemy.com/course/the-data-science-course-complete-data-science-bootcamp/learn/lecture/10776988#overview"
   ]
  },
  {
   "attachments": {},
   "cell_type": "markdown",
   "metadata": {},
   "source": [
    "* When we plot the data points on an XY plane the regression line is the best fitting line through the data points.\n",
    "    * ![Alt text](img/184.%20Geometrical%20Representation%20of%20the%20Linear%20Regression%20Model1.jpg)\n",
    "    * The gray points that are scattered are the observed values.\n",
    "    * B0 is a constant and is the intercept of the regression line with the Y axis.\n",
    "    * B1 is the slope of the regression line. It shows how much Y changes for each unit change of X.\n",
    "    * The distance between the observed values and the regression line is the estimator of the error term epsilon. It's point estimate is called residual.\n",
    "    * If you draw a perpendicular from an observed point to the regression line, the intercept between that perpendicular and the regression line is a point with a y value equal to Y hat, as we said earlier, given an x, Y hat is the value predicted by the regression line."
   ]
  },
  {
   "attachments": {},
   "cell_type": "markdown",
   "metadata": {},
   "source": [
    "## Quiz 110: Geometrical Representation of the Linear Regression Model"
   ]
  },
  {
   "attachments": {},
   "cell_type": "markdown",
   "metadata": {},
   "source": [
    "https://www.udemy.com/course/the-data-science-course-complete-data-science-bootcamp/learn/quiz/4545320#overview"
   ]
  },
  {
   "attachments": {},
   "cell_type": "markdown",
   "metadata": {},
   "source": [
    "1. Assume you have the following sample regression ŷ = 6 + x. If we draw the regression line, what would be its slope?\n",
    "    * 1\n",
    "    * The slope of the line is the coefficient in front of x"
   ]
  },
  {
   "attachments": {},
   "cell_type": "markdown",
   "metadata": {},
   "source": [
    "## 185. Python Packages Installation"
   ]
  },
  {
   "attachments": {},
   "cell_type": "markdown",
   "metadata": {},
   "source": [
    "https://www.udemy.com/course/the-data-science-course-complete-data-science-bootcamp/learn/lecture/10776992#overview"
   ]
  },
  {
   "attachments": {},
   "cell_type": "markdown",
   "metadata": {},
   "source": [
    "* ![Alt text](img/185.%20Python%20Packages%20Installation1.jpg)\n",
    "* Python packages for data science\n",
    "    * NumPy\n",
    "        * Third party package allowing us to work with multidimensional arrays. They represent a powerful way to organize and process data. Because of that, NumPy is a fundamental library for those who attempt to manipulate larger chunks of information.\n",
    "    * Pandas\n",
    "        * package that enhances NumPy even further. It allows us to organize data in a tabular form and to attach descriptive labels to the rows and the columns of the table, not just numbers, as it is with NumPy. In addition, Pandas is endowed with a broad gamma of tools facilitating our work with various data formats and missing data. Therefore, if you wanna do data science with Python, Pandas is an essential package you will need.\n",
    "    * SciPy\n",
    "        * Python ecosystem containing a lot of tools for scientific calculations, suitable for the fields of mathematics, machine learning, engineering, and more.\n",
    "    * StatsModels\n",
    "        * another package built on top of NumPy and SciPy, which also integrates with Pandas. We will mainly create regressions in StatsModels, as they provide very good summaries, unmatched for educational purposes.\n",
    "    * Matplotlib\n",
    "        * two dimensional plotting library, specially designed for visualization of NumPy computations. In addition, it contains a large set of tools that can help you adjust a graph to your liking.\n",
    "    * Seaborn\n",
    "        * Python visualization library based on Matplotlib. It provides a high level interface for drawing attractive statistical graphics.\n",
    "    * scikit-learn\n",
    "        * one of the most widely-used machine learning libraries.\n",
    "* StatsModels vs Scikit-learn\n",
    "    * StatsModels to create and discuss regressions, but we will also provide the relevant code in sklearn. Think about it in the following way, sklearn is the real deal, but StatsModels makes it easier to understand the real deal. The final sections of the chorus will be based predominantly on sklearn."
   ]
  },
  {
   "attachments": {},
   "cell_type": "markdown",
   "metadata": {},
   "source": [
    "* Write in code for install\n",
    "    * pip install numpy\n",
    "    * pip install pandas\n",
    "    * pip install scipy\n",
    "    * pip install statsmodels\n",
    "    * pip install matplotlib\n",
    "    * pip install seaborn\n",
    "    * pip install scikit-learn"
   ]
  },
  {
   "attachments": {},
   "cell_type": "markdown",
   "metadata": {},
   "source": [
    "## 186. First Regression in Python"
   ]
  },
  {
   "attachments": {},
   "cell_type": "markdown",
   "metadata": {},
   "source": [
    "https://www.udemy.com/course/the-data-science-course-complete-data-science-bootcamp/learn/lecture/10776994#overview"
   ]
  },
  {
   "attachments": {},
   "cell_type": "markdown",
   "metadata": {},
   "source": [
    "#### Import the relevant libraries"
   ]
  },
  {
   "cell_type": "code",
   "execution_count": 1,
   "metadata": {},
   "outputs": [],
   "source": [
    "import numpy as np\n",
    "import pandas as pd\n",
    "import matplotlib.pyplot as plt\n",
    "import statsmodels.api as sm"
   ]
  },
  {
   "attachments": {},
   "cell_type": "markdown",
   "metadata": {},
   "source": [
    "#### Load the data"
   ]
  },
  {
   "cell_type": "code",
   "execution_count": 2,
   "metadata": {},
   "outputs": [
    {
     "data": {
      "text/html": [
       "<div>\n",
       "<style scoped>\n",
       "    .dataframe tbody tr th:only-of-type {\n",
       "        vertical-align: middle;\n",
       "    }\n",
       "\n",
       "    .dataframe tbody tr th {\n",
       "        vertical-align: top;\n",
       "    }\n",
       "\n",
       "    .dataframe thead th {\n",
       "        text-align: right;\n",
       "    }\n",
       "</style>\n",
       "<table border=\"1\" class=\"dataframe\">\n",
       "  <thead>\n",
       "    <tr style=\"text-align: right;\">\n",
       "      <th></th>\n",
       "      <th>SAT</th>\n",
       "      <th>GPA</th>\n",
       "    </tr>\n",
       "  </thead>\n",
       "  <tbody>\n",
       "    <tr>\n",
       "      <th>0</th>\n",
       "      <td>1714</td>\n",
       "      <td>2.40</td>\n",
       "    </tr>\n",
       "    <tr>\n",
       "      <th>1</th>\n",
       "      <td>1664</td>\n",
       "      <td>2.52</td>\n",
       "    </tr>\n",
       "    <tr>\n",
       "      <th>2</th>\n",
       "      <td>1760</td>\n",
       "      <td>2.54</td>\n",
       "    </tr>\n",
       "    <tr>\n",
       "      <th>3</th>\n",
       "      <td>1685</td>\n",
       "      <td>2.74</td>\n",
       "    </tr>\n",
       "    <tr>\n",
       "      <th>4</th>\n",
       "      <td>1693</td>\n",
       "      <td>2.83</td>\n",
       "    </tr>\n",
       "    <tr>\n",
       "      <th>...</th>\n",
       "      <td>...</td>\n",
       "      <td>...</td>\n",
       "    </tr>\n",
       "    <tr>\n",
       "      <th>79</th>\n",
       "      <td>1936</td>\n",
       "      <td>3.71</td>\n",
       "    </tr>\n",
       "    <tr>\n",
       "      <th>80</th>\n",
       "      <td>1810</td>\n",
       "      <td>3.71</td>\n",
       "    </tr>\n",
       "    <tr>\n",
       "      <th>81</th>\n",
       "      <td>1987</td>\n",
       "      <td>3.73</td>\n",
       "    </tr>\n",
       "    <tr>\n",
       "      <th>82</th>\n",
       "      <td>1962</td>\n",
       "      <td>3.76</td>\n",
       "    </tr>\n",
       "    <tr>\n",
       "      <th>83</th>\n",
       "      <td>2050</td>\n",
       "      <td>3.81</td>\n",
       "    </tr>\n",
       "  </tbody>\n",
       "</table>\n",
       "<p>84 rows × 2 columns</p>\n",
       "</div>"
      ],
      "text/plain": [
       "     SAT   GPA\n",
       "0   1714  2.40\n",
       "1   1664  2.52\n",
       "2   1760  2.54\n",
       "3   1685  2.74\n",
       "4   1693  2.83\n",
       "..   ...   ...\n",
       "79  1936  3.71\n",
       "80  1810  3.71\n",
       "81  1987  3.73\n",
       "82  1962  3.76\n",
       "83  2050  3.81\n",
       "\n",
       "[84 rows x 2 columns]"
      ]
     },
     "execution_count": 2,
     "metadata": {},
     "output_type": "execute_result"
    }
   ],
   "source": [
    "data = pd.read_csv('csv/1.01. Simple linear regression.csv')\n",
    "data"
   ]
  },
  {
   "cell_type": "code",
   "execution_count": 3,
   "metadata": {},
   "outputs": [
    {
     "data": {
      "text/html": [
       "<div>\n",
       "<style scoped>\n",
       "    .dataframe tbody tr th:only-of-type {\n",
       "        vertical-align: middle;\n",
       "    }\n",
       "\n",
       "    .dataframe tbody tr th {\n",
       "        vertical-align: top;\n",
       "    }\n",
       "\n",
       "    .dataframe thead th {\n",
       "        text-align: right;\n",
       "    }\n",
       "</style>\n",
       "<table border=\"1\" class=\"dataframe\">\n",
       "  <thead>\n",
       "    <tr style=\"text-align: right;\">\n",
       "      <th></th>\n",
       "      <th>SAT</th>\n",
       "      <th>GPA</th>\n",
       "    </tr>\n",
       "  </thead>\n",
       "  <tbody>\n",
       "    <tr>\n",
       "      <th>count</th>\n",
       "      <td>84.000000</td>\n",
       "      <td>84.000000</td>\n",
       "    </tr>\n",
       "    <tr>\n",
       "      <th>mean</th>\n",
       "      <td>1845.273810</td>\n",
       "      <td>3.330238</td>\n",
       "    </tr>\n",
       "    <tr>\n",
       "      <th>std</th>\n",
       "      <td>104.530661</td>\n",
       "      <td>0.271617</td>\n",
       "    </tr>\n",
       "    <tr>\n",
       "      <th>min</th>\n",
       "      <td>1634.000000</td>\n",
       "      <td>2.400000</td>\n",
       "    </tr>\n",
       "    <tr>\n",
       "      <th>25%</th>\n",
       "      <td>1772.000000</td>\n",
       "      <td>3.190000</td>\n",
       "    </tr>\n",
       "    <tr>\n",
       "      <th>50%</th>\n",
       "      <td>1846.000000</td>\n",
       "      <td>3.380000</td>\n",
       "    </tr>\n",
       "    <tr>\n",
       "      <th>75%</th>\n",
       "      <td>1934.000000</td>\n",
       "      <td>3.502500</td>\n",
       "    </tr>\n",
       "    <tr>\n",
       "      <th>max</th>\n",
       "      <td>2050.000000</td>\n",
       "      <td>3.810000</td>\n",
       "    </tr>\n",
       "  </tbody>\n",
       "</table>\n",
       "</div>"
      ],
      "text/plain": [
       "               SAT        GPA\n",
       "count    84.000000  84.000000\n",
       "mean   1845.273810   3.330238\n",
       "std     104.530661   0.271617\n",
       "min    1634.000000   2.400000\n",
       "25%    1772.000000   3.190000\n",
       "50%    1846.000000   3.380000\n",
       "75%    1934.000000   3.502500\n",
       "max    2050.000000   3.810000"
      ]
     },
     "execution_count": 3,
     "metadata": {},
     "output_type": "execute_result"
    }
   ],
   "source": [
    "data.describe()\n",
    "# sample 84 student\n",
    "# SAT = Total score of Critical Reading + Mathematics + Writing\n",
    "# GPA = Grade Point average (at graduation from University)"
   ]
  },
  {
   "attachments": {},
   "cell_type": "markdown",
   "metadata": {},
   "source": [
    "#### Create first regression -> to predicts the GPA of a student based on SAT score."
   ]
  },
  {
   "attachments": {},
   "cell_type": "markdown",
   "metadata": {},
   "source": [
    "* Timeline:\n",
    "    * ![Alt text](img/186.%20First%20Regression%20in%20Python1.jpg)\n",
    "    * You sit the SAT and get a score. With this score, you apply to college. The next four years you attend college and graduate, receiving many grades forming your GPA, so that's the timeline.\n",
    "* ![Alt text](img/186.%20First%20Regression%20in%20Python2.jpg)"
   ]
  },
  {
   "attachments": {},
   "cell_type": "markdown",
   "metadata": {},
   "source": [
    "##### Define the dependent and the independent variables"
   ]
  },
  {
   "attachments": {},
   "cell_type": "markdown",
   "metadata": {},
   "source": [
    "* Formula:\n",
    "    * ![Alt text](img/186.%20First%20Regression%20in%20Python3.jpg)"
   ]
  },
  {
   "cell_type": "code",
   "execution_count": 4,
   "metadata": {},
   "outputs": [],
   "source": [
    "y = data['GPA']\n",
    "x1 = data['SAT']"
   ]
  },
  {
   "attachments": {},
   "cell_type": "markdown",
   "metadata": {},
   "source": [
    "#### Explore the data"
   ]
  },
  {
   "cell_type": "code",
   "execution_count": 5,
   "metadata": {},
   "outputs": [
    {
     "data": {
      "image/png": "[encoded data removed]",
      "text/plain": [
       "<Figure size 432x288 with 1 Axes>"
      ]
     },
     "metadata": {
      "needs_background": "light"
     },
     "output_type": "display_data"
    }
   ],
   "source": [
    "plt.scatter(x1,y)\n",
    "plt.xlabel('SAT', fontsize=20)\n",
    "plt.ylabel('GPA', fontsize=20)\n",
    "plt.show()"
   ]
  },
  {
   "attachments": {},
   "cell_type": "markdown",
   "metadata": {},
   "source": [
    "* Each point on the graph represents a different student. \n",
    "    * For instance, this is a student who scored around 1900 on the SAT and graduated with a 3.4 GPA. \n",
    "    * Observing all data points, we can see that there is a strong relationship between SAT and GPA. \n",
    "    * In general, the higher the SAT of a student, the higher their GPA."
   ]
  },
  {
   "attachments": {},
   "cell_type": "markdown",
   "metadata": {},
   "source": [
    "#### Regression"
   ]
  },
  {
   "attachments": {},
   "cell_type": "markdown",
   "metadata": {},
   "source": [
    "* Next, we need to create a new variable which call X.\n",
    "    * We have our X one, but we don't have an X zero. In fact, in the regression equation, there is no explicit X zero.\n",
    "    * The coefficient B zero is alone. That can be represented as B zero times one\n",
    "    * ![Alt text](img/186.%20First%20Regression%20in%20Python4.jpg)\n",
    "        * So if there was an X zero, it would always be one. It is really practical for computational purposes to incorporate this notion into the equation, and that's how we estimate the intercept B zero.\n",
    "* In terms of code, stats models uses the method add constant. So let's declare a new variable X equals SM dot add underscore constant X one.\n",
    "* Right after we do that, we will create another variable named results which will contain the output of the ordinary lease squares regression, or OLS.\n",
    "* As arguments, we must add the dependent variable Y and the newly defined x.\n",
    "* At the end, we will need the fit method, which you can think of as a method that will apply a specific estimation technique to obtain the fit of the model."
   ]
  },
  {
   "cell_type": "code",
   "execution_count": 6,
   "metadata": {},
   "outputs": [
    {
     "data": {
      "text/html": [
       "<table class=\"simpletable\">\n",
       "<caption>OLS Regression Results</caption>\n",
       "<tr>\n",
       "  <th>Dep. Variable:</th>           <td>GPA</td>       <th>  R-squared:         </th> <td>   0.406</td>\n",
       "</tr>\n",
       "<tr>\n",
       "  <th>Model:</th>                   <td>OLS</td>       <th>  Adj. R-squared:    </th> <td>   0.399</td>\n",
       "</tr>\n",
       "<tr>\n",
       "  <th>Method:</th>             <td>Least Squares</td>  <th>  F-statistic:       </th> <td>   56.05</td>\n",
       "</tr>\n",
       "<tr>\n",
       "  <th>Date:</th>             <td>Wed, 28 Dec 2022</td> <th>  Prob (F-statistic):</th> <td>7.20e-11</td>\n",
       "</tr>\n",
       "<tr>\n",
       "  <th>Time:</th>                 <td>21:22:52</td>     <th>  Log-Likelihood:    </th> <td>  12.672</td>\n",
       "</tr>\n",
       "<tr>\n",
       "  <th>No. Observations:</th>      <td>    84</td>      <th>  AIC:               </th> <td>  -21.34</td>\n",
       "</tr>\n",
       "<tr>\n",
       "  <th>Df Residuals:</th>          <td>    82</td>      <th>  BIC:               </th> <td>  -16.48</td>\n",
       "</tr>\n",
       "<tr>\n",
       "  <th>Df Model:</th>              <td>     1</td>      <th>                     </th>     <td> </td>   \n",
       "</tr>\n",
       "<tr>\n",
       "  <th>Covariance Type:</th>      <td>nonrobust</td>    <th>                     </th>     <td> </td>   \n",
       "</tr>\n",
       "</table>\n",
       "<table class=\"simpletable\">\n",
       "<tr>\n",
       "    <td></td>       <th>coef</th>     <th>std err</th>      <th>t</th>      <th>P>|t|</th>  <th>[0.025</th>    <th>0.975]</th>  \n",
       "</tr>\n",
       "<tr>\n",
       "  <th>const</th> <td>    0.2750</td> <td>    0.409</td> <td>    0.673</td> <td> 0.503</td> <td>   -0.538</td> <td>    1.088</td>\n",
       "</tr>\n",
       "<tr>\n",
       "  <th>SAT</th>   <td>    0.0017</td> <td>    0.000</td> <td>    7.487</td> <td> 0.000</td> <td>    0.001</td> <td>    0.002</td>\n",
       "</tr>\n",
       "</table>\n",
       "<table class=\"simpletable\">\n",
       "<tr>\n",
       "  <th>Omnibus:</th>       <td>12.839</td> <th>  Durbin-Watson:     </th> <td>   0.950</td>\n",
       "</tr>\n",
       "<tr>\n",
       "  <th>Prob(Omnibus):</th> <td> 0.002</td> <th>  Jarque-Bera (JB):  </th> <td>  16.155</td>\n",
       "</tr>\n",
       "<tr>\n",
       "  <th>Skew:</th>          <td>-0.722</td> <th>  Prob(JB):          </th> <td>0.000310</td>\n",
       "</tr>\n",
       "<tr>\n",
       "  <th>Kurtosis:</th>      <td> 4.590</td> <th>  Cond. No.          </th> <td>3.29e+04</td>\n",
       "</tr>\n",
       "</table><br/><br/>Notes:<br/>[1] Standard Errors assume that the covariance matrix of the errors is correctly specified.<br/>[2] The condition number is large, 3.29e+04. This might indicate that there are<br/>strong multicollinearity or other numerical problems."
      ],
      "text/plain": [
       "<class 'statsmodels.iolib.summary.Summary'>\n",
       "\"\"\"\n",
       "                            OLS Regression Results                            \n",
       "==============================================================================\n",
       "Dep. Variable:                    GPA   R-squared:                       0.406\n",
       "Model:                            OLS   Adj. R-squared:                  0.399\n",
       "Method:                 Least Squares   F-statistic:                     56.05\n",
       "Date:                Wed, 28 Dec 2022   Prob (F-statistic):           7.20e-11\n",
       "Time:                        21:22:52   Log-Likelihood:                 12.672\n",
       "No. Observations:                  84   AIC:                            -21.34\n",
       "Df Residuals:                      82   BIC:                            -16.48\n",
       "Df Model:                           1                                         \n",
       "Covariance Type:            nonrobust                                         \n",
       "==============================================================================\n",
       "                 coef    std err          t      P>|t|      [0.025      0.975]\n",
       "------------------------------------------------------------------------------\n",
       "const          0.2750      0.409      0.673      0.503      -0.538       1.088\n",
       "SAT            0.0017      0.000      7.487      0.000       0.001       0.002\n",
       "==============================================================================\n",
       "Omnibus:                       12.839   Durbin-Watson:                   0.950\n",
       "Prob(Omnibus):                  0.002   Jarque-Bera (JB):               16.155\n",
       "Skew:                          -0.722   Prob(JB):                     0.000310\n",
       "Kurtosis:                       4.590   Cond. No.                     3.29e+04\n",
       "==============================================================================\n",
       "\n",
       "Notes:\n",
       "[1] Standard Errors assume that the covariance matrix of the errors is correctly specified.\n",
       "[2] The condition number is large, 3.29e+04. This might indicate that there are\n",
       "strong multicollinearity or other numerical problems.\n",
       "\"\"\""
      ]
     },
     "execution_count": 6,
     "metadata": {},
     "output_type": "execute_result"
    }
   ],
   "source": [
    "x = sm.add_constant(x1)\n",
    "results = sm.OLS(y, x).fit()\n",
    "results.summary()"
   ]
  },
  {
   "cell_type": "code",
   "execution_count": 7,
   "metadata": {},
   "outputs": [
    {
     "data": {
      "text/plain": [
       "<function matplotlib.pyplot.show(close=None, block=None)>"
      ]
     },
     "execution_count": 7,
     "metadata": {},
     "output_type": "execute_result"
    },
    {
     "data": {
      "image/png": "[encoded data removed]",
      "text/plain": [
       "<Figure size 432x288 with 1 Axes>"
      ]
     },
     "metadata": {
      "needs_background": "light"
     },
     "output_type": "display_data"
    }
   ],
   "source": [
    "plt.scatter(x1, y)\n",
    "yhat = 0.0017 * x1 + 0.275\n",
    "fig = plt.plot(x1, yhat, lw=4, c='orange', label='regression line')\n",
    "plt.xlabel('SAT', fontsize=20)\n",
    "plt.ylabel('GAP', fontsize=20)\n",
    "plt.show"
   ]
  },
  {
   "attachments": {},
   "cell_type": "markdown",
   "metadata": {},
   "source": [
    "* based on regression line (orange) there is a strong relationship between SAT and GPA. "
   ]
  },
  {
   "attachments": {},
   "cell_type": "markdown",
   "metadata": {},
   "source": [
    "## 187. First Regression in Python Exercise"
   ]
  },
  {
   "attachments": {},
   "cell_type": "markdown",
   "metadata": {},
   "source": [
    "https://www.udemy.com/course/the-data-science-course-complete-data-science-bootcamp/learn/lecture/10887944#overview"
   ]
  },
  {
   "attachments": {},
   "cell_type": "markdown",
   "metadata": {},
   "source": [
    "## 188. Using Seaborn for Graphs"
   ]
  },
  {
   "attachments": {},
   "cell_type": "markdown",
   "metadata": {},
   "source": [
    "https://www.udemy.com/course/the-data-science-course-complete-data-science-bootcamp/learn/lecture/10776998#overview"
   ]
  },
  {
   "attachments": {},
   "cell_type": "markdown",
   "metadata": {},
   "source": [
    "* this lecture continue from section 32 no.186\n",
    "\n",
    "* Import seaborn as the conventional SNS and add the following line of code, sns.set(). \n",
    "    * This method overrides the style and the graphics of all matplotlib graphs."
   ]
  },
  {
   "cell_type": "code",
   "execution_count": 8,
   "metadata": {},
   "outputs": [
    {
     "data": {
      "text/plain": [
       "<function matplotlib.pyplot.show(close=None, block=None)>"
      ]
     },
     "execution_count": 8,
     "metadata": {},
     "output_type": "execute_result"
    },
    {
     "data": {
      "image/png": "[encoded data removed]",
      "text/plain": [
       "<Figure size 432x288 with 1 Axes>"
      ]
     },
     "metadata": {},
     "output_type": "display_data"
    }
   ],
   "source": [
    "import seaborn as sns\n",
    "sns.set()\n",
    "\n",
    "plt.scatter(x1, y)\n",
    "yhat = 0.0017 * x1 + 0.275\n",
    "fig = plt.plot(x1, yhat, lw=4, c='orange', label='regression line')\n",
    "plt.xlabel('SAT', fontsize=20)\n",
    "plt.ylabel('GAP', fontsize=20)\n",
    "plt.show"
   ]
  },
  {
   "attachments": {},
   "cell_type": "markdown",
   "metadata": {},
   "source": [
    "* Difference matplotlib default style vs Seaborn\n",
    "    * ![Alt text](img/188.%20Using%20Seaborn%20for%20Graphs1.jpg)"
   ]
  },
  {
   "attachments": {},
   "cell_type": "markdown",
   "metadata": {},
   "source": [
    "## 189. How to Interpret the Regression Table"
   ]
  },
  {
   "attachments": {},
   "cell_type": "markdown",
   "metadata": {},
   "source": [
    "https://www.udemy.com/course/the-data-science-course-complete-data-science-bootcamp/learn/lecture/10777000#overview"
   ]
  },
  {
   "attachments": {},
   "cell_type": "markdown",
   "metadata": {},
   "source": [
    "* While the graphs we have seen so far are nice and easy to understand, when you perform regression analysis, you'll find something different than a scatter plot with a regression line.\n",
    "* The graph is a visual representation, and what we really want is the equation of the model and a measure of its significance and explanatory power.\n",
    "* This is why the regression summary consists of a few tables instead of a graph.\n",
    "* ![Alt text](img/189.%20How%20to%20Interpret%20the%20Regression%20Table1.jpg)\n",
    "    * When using stats models, we'll have three main tables,\n",
    "        * Model summary, \n",
    "        * Coefficients table\n",
    "            * Coefficient, constant (and bias) are used interchangeably.\n",
    "                * B0 = 0.275\n",
    "                * B1 =  0.0017\n",
    "                * Above number are the only two numbers we need to define the regression equation.\n",
    "                    * Next, created a variable called yhat. Yhat is equal to 0.0017, times x1, or SAT plus 0.275. That's the regression line.\n",
    "                    * Then, plot that line using the plot method. Can be picked from the coefficients table\n",
    "                        * Knowing that a person has scored 1700 on the SAT, we can substitute in the equation and obtain the following, 0.275 plus 0.0017, times 1700, which equals 3.165 (expected GPA for student). That's the predictive power of linear regressions.\n",
    "                    * ![Alt text](img/189.%20How%20to%20Interpret%20the%20Regression%20Table2.jpg)\n",
    "            * The standard error show the accuracy of prediction for each variable. **The lower the standard error, the better the estimate.**\n",
    "                * ![Alt text](img/189.%20How%20to%20Interpret%20the%20Regression%20Table3.jpg)\n",
    "            * T statistic and its P value for hypothesis. \n",
    "                * The null hypothesis of this test is, beta equals zero. In other words, is the coefficient equal to zero?\n",
    "                    * ![Alt text](img/189.%20How%20to%20Interpret%20the%20Regression%20Table4.jpg)\n",
    "                    * If a coefficient is zero for the intercept, B0 that is, then the line crosses the Y axis at the origin. \n",
    "                        * ![Alt text](img/189.%20How%20to%20Interpret%20the%20Regression%20Table5.jpg)\n",
    "                    * If beta one is zero then zero times x will always be zero for any x. So this variable will not be considered for the model. Graphically, that would mean that the regression line is horizontal, always going through the intercept value.\n",
    "                        * ![Alt text](img/189.%20How%20to%20Interpret%20the%20Regression%20Table6.jpg)\n",
    "            * Does it help us explain the variability we have in this case? The answer is contained in the P value column.\n",
    "                * **P value below 0.05 means that the variable is significant.** Therefore, the coefficient is most probably different from zero.\n",
    "                    * ![Alt text](img/189.%20How%20to%20Interpret%20the%20Regression%20Table7.jpg)\n",
    "                * So, what does SAT P value 0.000 mean? It simply tells us that **SAT score is a significant variable when predicting college GPA.**\n",
    "                    * ![Alt text](img/189.%20How%20to%20Interpret%20the%20Regression%20Table8.jpg)\n",
    "        * Additional tests."
   ]
  },
  {
   "attachments": {},
   "cell_type": "markdown",
   "metadata": {},
   "source": [
    "## Quiz 111: How to Interpret the Regression Table"
   ]
  },
  {
   "attachments": {},
   "cell_type": "markdown",
   "metadata": {},
   "source": [
    "https://www.udemy.com/course/the-data-science-course-complete-data-science-bootcamp/learn/quiz/4545324#overview"
   ]
  },
  {
   "attachments": {},
   "cell_type": "markdown",
   "metadata": {},
   "source": [
    "1. What does a p-value of 0.503 suggest about the intercept coefficient?\n",
    "    * It is not significantly different from 0\n",
    "2. What does a p-value of 0.000 suggest about the coefficient (x)?\n",
    "    * It significantly different from 0\n",
    "3. Based on the regression table from the video: What is the predicted GPA of students with an SAT score of 1850? Note: Unlike in the lectures, this time assume that any coefficient with a p-value greater than 0.05 is not significantly different from 0\n",
    "    * 3.145"
   ]
  },
  {
   "attachments": {},
   "cell_type": "markdown",
   "metadata": {},
   "source": [
    "## 190. Decomposition of Variability"
   ]
  },
  {
   "attachments": {},
   "cell_type": "markdown",
   "metadata": {},
   "source": [
    "https://www.udemy.com/course/the-data-science-course-complete-data-science-bootcamp/learn/lecture/10777008#overview"
   ]
  },
  {
   "attachments": {},
   "cell_type": "markdown",
   "metadata": {},
   "source": [
    "* ANOVA framework\n",
    "    * ![Alt text](img/190.%20Decomposition%20of%20Variability1.jpg)\n",
    "    * Sum of squares total (SST) or total sum of squares (TTS)\n",
    "        * SST is the square differences between the observed dependent variable and its mean. You could think of this as the dispersion of the observed variables around the mean, much like the variance we saw in descriptive statistics. It is a **measure of the total variability of the data set.**\n",
    "            * ![Alt text](img/190.%20Decomposition%20of%20Variability2.jpg)\n",
    "    * sum of squares regression (SSR) or explained sum of squares (ESS)\n",
    "        * SSR is the **sum of the differences between the predicted value and the mean of the dependent variable**. Think of it as a measure that describes how well your line fits the data. If this value of SSR is equal to the sum of squares total, it means your regression model captures all the observed variability and is perfect.\n",
    "            * ![Alt text](img/190.%20Decomposition%20of%20Variability3.jpg)\n",
    "    * sum of squares error (SSE) or residual sum of squares (RSS)\n",
    "        * The error is **the difference between the observed value and the predicted value**. The smaller the error, the better the estimation power of the regression.\n",
    "            * ![Alt text](img/190.%20Decomposition%20of%20Variability4.jpg)\n",
    "    * What is the connection among these three? Mathematically, SST is equal to SSR plus SSE. The total variability of the data set is equal to the variability explained by the regression line plus the unexplained variability known as error. Given a constant total variability, a lower error will cause a better regression. Conversely, a higher error will cause a less powerful regression.\n",
    "        * ![Alt text](img/190.%20Decomposition%20of%20Variability5.jpg)"
   ]
  },
  {
   "attachments": {},
   "cell_type": "markdown",
   "metadata": {},
   "source": [
    "## Quiz 112: Decomposition of Variability"
   ]
  },
  {
   "attachments": {},
   "cell_type": "markdown",
   "metadata": {},
   "source": [
    "https://www.udemy.com/course/the-data-science-course-complete-data-science-bootcamp/learn/quiz/4451914#overview"
   ]
  },
  {
   "attachments": {},
   "cell_type": "markdown",
   "metadata": {},
   "source": [
    "1. Which of the following is true?\n",
    "    * SST = SSR + SSE"
   ]
  },
  {
   "attachments": {},
   "cell_type": "markdown",
   "metadata": {},
   "source": [
    "## 191. What is the OLS?"
   ]
  },
  {
   "attachments": {},
   "cell_type": "markdown",
   "metadata": {},
   "source": [
    "https://www.udemy.com/course/the-data-science-course-complete-data-science-bootcamp/learn/lecture/10777030#overview"
   ]
  },
  {
   "attachments": {},
   "cell_type": "markdown",
   "metadata": {},
   "source": [
    "* ![Alt text](img/191.%20What%20is%20the%20OLS1.jpg)\n",
    "    * First, we have the dependent variable, or in other words the variable we are trying to predict. It's good to double check if you coded the regression properly through this cell.\n",
    "    * Next we have the model which is OLS or ordinary least squares. The method is closely related, least squares. In this case, there is no difference but later we will see discrepancies. \n",
    "        * So what is the OLS? **OLS or the ordinary least squares, is the most common method to estimate the linear regression equation.** Lease squares stands for the minimum squares error or SSE. Lower error results in a better explanatory power of the regression model. So this method aims to find the line which minimizes the sum of the squared errors.\n",
    "            * ![Alt text](img/191.%20What%20is%20the%20OLS2.jpg)\n",
    "            * ![Alt text](img/191.%20What%20is%20the%20OLS3.jpg)\n",
    "* There are other methods for determining the regression line. They are preferred in different contexts.\n",
    "    * ![Alt text](img/191.%20What%20is%20the%20OLS4.jpg)\n",
    "    * Generalized least squares,\n",
    "    * Maximum likelihood estimation, \n",
    "    * Bayesian regression,\n",
    "    * the Kernel regression and \n",
    "    * the Gaussian process regression.\n",
    "* However, the lease squares method is simple yet powerful enough for many, if not most linear problems."
   ]
  },
  {
   "attachments": {},
   "cell_type": "markdown",
   "metadata": {},
   "source": [
    "## Quiz 113: What is the OLS"
   ]
  },
  {
   "attachments": {},
   "cell_type": "markdown",
   "metadata": {},
   "source": [
    "https://www.udemy.com/course/the-data-science-course-complete-data-science-bootcamp/learn/quiz/4545322#overview"
   ]
  },
  {
   "attachments": {},
   "cell_type": "markdown",
   "metadata": {},
   "source": [
    "1. Since OLS (Ordinary Least Squares) is simple enough to understand, why do advanced statisticians prefer using programming languages to solve regressions?\n",
    "    * Limitless capabilities and unmatched speed"
   ]
  },
  {
   "attachments": {},
   "cell_type": "markdown",
   "metadata": {},
   "source": [
    "## 192. R-Squared"
   ]
  },
  {
   "attachments": {},
   "cell_type": "markdown",
   "metadata": {},
   "source": [
    "https://www.udemy.com/course/the-data-science-course-complete-data-science-bootcamp/learn/lecture/10777032#overview"
   ]
  },
  {
   "attachments": {},
   "cell_type": "markdown",
   "metadata": {},
   "source": [
    "* The R-squared is an intuitive and practical tool, It is equal to variability explained by the regression divided by total variability.\n",
    "    * ![Alt text](img/192.%20R-Squared1.jpg)\n",
    "        * It is a relative measure and takes values ranging from zero to one. And R-squared of zero means your regression line explains none of the variability of the data. And R-squared of one, would mean your model explains the entire variability of the data. Unfortunately, regressions explaining the entire variability are rare. What you will usually observe is values ranging from 0.2 to 0.9.\n",
    "    * \"What is a good R-squared? When do I know for sure my regression is good enough?\"\n",
    "        * there is no definite answer to that. In fields such as physics and chemistry, scientists are usually looking for regressions with R-squared between 0.7 and 0.99. However, in social sciences such as economics, finance, and psychology, an R-squared of 0.2 or 20% of the variability explained by the model could be fantastic. **It depends on the complexity of the topic and how many variables are believed to be in play.**\n",
    "* The R-squared measures the goodness of fit of your model. The more factors you include in your regression, the higher the R-squared."
   ]
  },
  {
   "attachments": {},
   "cell_type": "markdown",
   "metadata": {},
   "source": [
    "## Quiz 114: R-Squared"
   ]
  },
  {
   "attachments": {},
   "cell_type": "markdown",
   "metadata": {},
   "source": [
    "https://www.udemy.com/course/the-data-science-course-complete-data-science-bootcamp/learn/quiz/4453050#overview"
   ]
  },
  {
   "attachments": {},
   "cell_type": "markdown",
   "metadata": {},
   "source": [
    "1. SST = 1245, SSR = 945, SSE = 300. What is the R-squared of this regression?\n",
    "    * 0.76\n",
    "    * The R-squared is equal to SSR, divided by SST.\n",
    "2. The R-squared is a measure that: \n",
    "    * Measures how well your model fits your data\n",
    "    * The R-squared shows how much of the total variability of the dataset is explained by your regression model. This may be expressed as: how well your model fits your data. It is incorrect to say your regression line fits the data, as the line is the geometrical representation of the regression equation. It also incorrect to say the data fits the model or the regression line, as you are trying to explain the data with a model, not vice versa."
   ]
  },
  {
   "attachments": {},
   "cell_type": "markdown",
   "metadata": {},
   "source": [
    "# **Section 33: Advanced Statitical Methods - Multiple Linear Regression with StatsModels**"
   ]
  },
  {
   "attachments": {},
   "cell_type": "markdown",
   "metadata": {},
   "source": [
    "## 193. Multiple Linear Regression"
   ]
  },
  {
   "attachments": {},
   "cell_type": "markdown",
   "metadata": {},
   "source": [
    "https://www.udemy.com/course/the-data-science-course-complete-data-science-bootcamp/learn/lecture/10777040#overview"
   ]
  },
  {
   "attachments": {},
   "cell_type": "markdown",
   "metadata": {},
   "source": [
    "* Simple linear regression formula\n",
    "    * ![Alt text](img/193.%20Multiple%20Linear%20Regression1.jpg)\n",
    "    * Predicted the dependent variable Y with a single regressor X.\n",
    "* Multiple regressions address the higher complexity of problems. The more variables you have, the more factors you are considering in a model.\n",
    "    * ![Alt text](img/193.%20Multiple%20Linear%20Regression2.jpg)\n",
    "* The population multiple regression model. It is similar to a simple regression. The main difference is there are a more of independent variables, not just one.\n",
    "    * ![Alt text](img/193.%20Multiple%20Linear%20Regression3.jpg)\n",
    "        * Y hat is the inferred value? And B0 is the intercept. \n",
    "        * The independent variables range from X1 to XK. \n",
    "        * B1 to BK are their corresponding coefficients.\n",
    "    * The last thing to say about multiple regressions is that it's not about the best fitting line anymore. Actually, it stops being two dimensional and when we have over three dimensions, there is no visual way to represent the data.\n",
    "    * So if it is not about the line, what is it about? **It's about the best fitting model.**\n",
    "* how do we decrease the model's error?\n",
    "    * by increasing the explanatory power of the model. SSC and SSR are like communicating vessels. Each time we lower one, the other goes higher. With each additional variable, we increase the explanatory power by zero or more than zero, we cannot lower it. More variables usually equal a better fitting model.\n",
    "        * ![Alt text](img/193.%20Multiple%20Linear%20Regression4.jpg)"
   ]
  },
  {
   "attachments": {},
   "cell_type": "markdown",
   "metadata": {},
   "source": [
    "## Quiz 115: Multiple Linear Regression"
   ]
  },
  {
   "attachments": {},
   "cell_type": "markdown",
   "metadata": {},
   "source": [
    "https://www.udemy.com/course/the-data-science-course-complete-data-science-bootcamp/learn/quiz/4545328#overview"
   ]
  },
  {
   "attachments": {},
   "cell_type": "markdown",
   "metadata": {},
   "source": [
    "1. Why do we prefer using a multiple linear regression model to a simple linear regression model?\n",
    "    * More realistic - things often depend on 2, 3, 10 or even more factors."
   ]
  },
  {
   "attachments": {},
   "cell_type": "markdown",
   "metadata": {},
   "source": [
    "## 194. Adjusted R-Squared"
   ]
  },
  {
   "attachments": {},
   "cell_type": "markdown",
   "metadata": {},
   "source": [
    "https://www.udemy.com/course/the-data-science-course-complete-data-science-bootcamp/learn/lecture/10777048#overview"
   ]
  },
  {
   "attachments": {},
   "cell_type": "markdown",
   "metadata": {},
   "source": [
    "* When performing regression analysis a statistician would always take a look at adjusted R-squared.\n",
    "    * ![Alt text](img/194.%20Adjusted%20R-Squared1.jpg)\n",
    "        * The R-squared measures how much of the total variability is explained by our model.\n",
    "        * And two, multiple regressions are always better than simple ones, as with each additional variable that you add, the explanatory power may only increase or stay the same considering the number of variables.\n",
    "    * ![Alt text](img/194.%20Adjusted%20R-Squared2.jpg)\n",
    "        * The adjusted R-squared is always smaller than the R-squared, as it penalizes excessive use of variables."
   ]
  },
  {
   "attachments": {},
   "cell_type": "markdown",
   "metadata": {},
   "source": [
    "#### Import the relevant libraries"
   ]
  },
  {
   "cell_type": "code",
   "execution_count": 9,
   "metadata": {},
   "outputs": [],
   "source": [
    "import numpy as np\n",
    "import pandas as pd\n",
    "import matplotlib.pyplot as plt\n",
    "import statsmodels.api as sm\n",
    "import seaborn as sns\n",
    "sns.set()"
   ]
  },
  {
   "attachments": {},
   "cell_type": "markdown",
   "metadata": {},
   "source": [
    "#### Load the data"
   ]
  },
  {
   "cell_type": "code",
   "execution_count": 10,
   "metadata": {},
   "outputs": [
    {
     "data": {
      "text/html": [
       "<div>\n",
       "<style scoped>\n",
       "    .dataframe tbody tr th:only-of-type {\n",
       "        vertical-align: middle;\n",
       "    }\n",
       "\n",
       "    .dataframe tbody tr th {\n",
       "        vertical-align: top;\n",
       "    }\n",
       "\n",
       "    .dataframe thead th {\n",
       "        text-align: right;\n",
       "    }\n",
       "</style>\n",
       "<table border=\"1\" class=\"dataframe\">\n",
       "  <thead>\n",
       "    <tr style=\"text-align: right;\">\n",
       "      <th></th>\n",
       "      <th>SAT</th>\n",
       "      <th>GPA</th>\n",
       "      <th>Rand 1,2,3</th>\n",
       "    </tr>\n",
       "  </thead>\n",
       "  <tbody>\n",
       "    <tr>\n",
       "      <th>0</th>\n",
       "      <td>1714</td>\n",
       "      <td>2.40</td>\n",
       "      <td>1</td>\n",
       "    </tr>\n",
       "    <tr>\n",
       "      <th>1</th>\n",
       "      <td>1664</td>\n",
       "      <td>2.52</td>\n",
       "      <td>3</td>\n",
       "    </tr>\n",
       "    <tr>\n",
       "      <th>2</th>\n",
       "      <td>1760</td>\n",
       "      <td>2.54</td>\n",
       "      <td>3</td>\n",
       "    </tr>\n",
       "    <tr>\n",
       "      <th>3</th>\n",
       "      <td>1685</td>\n",
       "      <td>2.74</td>\n",
       "      <td>3</td>\n",
       "    </tr>\n",
       "    <tr>\n",
       "      <th>4</th>\n",
       "      <td>1693</td>\n",
       "      <td>2.83</td>\n",
       "      <td>2</td>\n",
       "    </tr>\n",
       "    <tr>\n",
       "      <th>...</th>\n",
       "      <td>...</td>\n",
       "      <td>...</td>\n",
       "      <td>...</td>\n",
       "    </tr>\n",
       "    <tr>\n",
       "      <th>79</th>\n",
       "      <td>1936</td>\n",
       "      <td>3.71</td>\n",
       "      <td>3</td>\n",
       "    </tr>\n",
       "    <tr>\n",
       "      <th>80</th>\n",
       "      <td>1810</td>\n",
       "      <td>3.71</td>\n",
       "      <td>1</td>\n",
       "    </tr>\n",
       "    <tr>\n",
       "      <th>81</th>\n",
       "      <td>1987</td>\n",
       "      <td>3.73</td>\n",
       "      <td>3</td>\n",
       "    </tr>\n",
       "    <tr>\n",
       "      <th>82</th>\n",
       "      <td>1962</td>\n",
       "      <td>3.76</td>\n",
       "      <td>1</td>\n",
       "    </tr>\n",
       "    <tr>\n",
       "      <th>83</th>\n",
       "      <td>2050</td>\n",
       "      <td>3.81</td>\n",
       "      <td>2</td>\n",
       "    </tr>\n",
       "  </tbody>\n",
       "</table>\n",
       "<p>84 rows × 3 columns</p>\n",
       "</div>"
      ],
      "text/plain": [
       "     SAT   GPA  Rand 1,2,3\n",
       "0   1714  2.40           1\n",
       "1   1664  2.52           3\n",
       "2   1760  2.54           3\n",
       "3   1685  2.74           3\n",
       "4   1693  2.83           2\n",
       "..   ...   ...         ...\n",
       "79  1936  3.71           3\n",
       "80  1810  3.71           1\n",
       "81  1987  3.73           3\n",
       "82  1962  3.76           1\n",
       "83  2050  3.81           2\n",
       "\n",
       "[84 rows x 3 columns]"
      ]
     },
     "execution_count": 10,
     "metadata": {},
     "output_type": "execute_result"
    }
   ],
   "source": [
    "data = pd.read_csv('csv/1.02. Multiple linear regression.csv')\n",
    "data"
   ]
  },
  {
   "attachments": {},
   "cell_type": "markdown",
   "metadata": {},
   "source": [
    "* we have the same data with one additional variable called, random 1,2,3. That assigns one, two or three randomly to each student and 100% that this variable cannot predict college GPA, so this is our new model.\n",
    "* ![Alt text](img/194.%20Adjusted%20R-Squared3.jpg)\n",
    "    * College GPA is equal to B zero plus B one, times SAT score, plus B two, times the random variable."
   ]
  },
  {
   "cell_type": "code",
   "execution_count": 11,
   "metadata": {},
   "outputs": [
    {
     "data": {
      "text/html": [
       "<div>\n",
       "<style scoped>\n",
       "    .dataframe tbody tr th:only-of-type {\n",
       "        vertical-align: middle;\n",
       "    }\n",
       "\n",
       "    .dataframe tbody tr th {\n",
       "        vertical-align: top;\n",
       "    }\n",
       "\n",
       "    .dataframe thead th {\n",
       "        text-align: right;\n",
       "    }\n",
       "</style>\n",
       "<table border=\"1\" class=\"dataframe\">\n",
       "  <thead>\n",
       "    <tr style=\"text-align: right;\">\n",
       "      <th></th>\n",
       "      <th>SAT</th>\n",
       "      <th>GPA</th>\n",
       "      <th>Rand 1,2,3</th>\n",
       "    </tr>\n",
       "  </thead>\n",
       "  <tbody>\n",
       "    <tr>\n",
       "      <th>count</th>\n",
       "      <td>84.000000</td>\n",
       "      <td>84.000000</td>\n",
       "      <td>84.000000</td>\n",
       "    </tr>\n",
       "    <tr>\n",
       "      <th>mean</th>\n",
       "      <td>1845.273810</td>\n",
       "      <td>3.330238</td>\n",
       "      <td>2.059524</td>\n",
       "    </tr>\n",
       "    <tr>\n",
       "      <th>std</th>\n",
       "      <td>104.530661</td>\n",
       "      <td>0.271617</td>\n",
       "      <td>0.855192</td>\n",
       "    </tr>\n",
       "    <tr>\n",
       "      <th>min</th>\n",
       "      <td>1634.000000</td>\n",
       "      <td>2.400000</td>\n",
       "      <td>1.000000</td>\n",
       "    </tr>\n",
       "    <tr>\n",
       "      <th>25%</th>\n",
       "      <td>1772.000000</td>\n",
       "      <td>3.190000</td>\n",
       "      <td>1.000000</td>\n",
       "    </tr>\n",
       "    <tr>\n",
       "      <th>50%</th>\n",
       "      <td>1846.000000</td>\n",
       "      <td>3.380000</td>\n",
       "      <td>2.000000</td>\n",
       "    </tr>\n",
       "    <tr>\n",
       "      <th>75%</th>\n",
       "      <td>1934.000000</td>\n",
       "      <td>3.502500</td>\n",
       "      <td>3.000000</td>\n",
       "    </tr>\n",
       "    <tr>\n",
       "      <th>max</th>\n",
       "      <td>2050.000000</td>\n",
       "      <td>3.810000</td>\n",
       "      <td>3.000000</td>\n",
       "    </tr>\n",
       "  </tbody>\n",
       "</table>\n",
       "</div>"
      ],
      "text/plain": [
       "               SAT        GPA  Rand 1,2,3\n",
       "count    84.000000  84.000000   84.000000\n",
       "mean   1845.273810   3.330238    2.059524\n",
       "std     104.530661   0.271617    0.855192\n",
       "min    1634.000000   2.400000    1.000000\n",
       "25%    1772.000000   3.190000    1.000000\n",
       "50%    1846.000000   3.380000    2.000000\n",
       "75%    1934.000000   3.502500    3.000000\n",
       "max    2050.000000   3.810000    3.000000"
      ]
     },
     "execution_count": 11,
     "metadata": {},
     "output_type": "execute_result"
    }
   ],
   "source": [
    "#descriptive statistics\n",
    "data.describe()"
   ]
  },
  {
   "attachments": {},
   "cell_type": "markdown",
   "metadata": {},
   "source": [
    "#### Create multiple regression"
   ]
  },
  {
   "attachments": {},
   "cell_type": "markdown",
   "metadata": {},
   "source": [
    "* Y is GPA.\n",
    "* This time though, we have two explanatory variables, SAT and random 1, 2, 3.\n",
    "* What we can do is declare X one as a data frame containing both series."
   ]
  },
  {
   "cell_type": "code",
   "execution_count": 12,
   "metadata": {},
   "outputs": [
    {
     "data": {
      "text/html": [
       "<table class=\"simpletable\">\n",
       "<caption>OLS Regression Results</caption>\n",
       "<tr>\n",
       "  <th>Dep. Variable:</th>           <td>GPA</td>       <th>  R-squared:         </th> <td>   0.407</td>\n",
       "</tr>\n",
       "<tr>\n",
       "  <th>Model:</th>                   <td>OLS</td>       <th>  Adj. R-squared:    </th> <td>   0.392</td>\n",
       "</tr>\n",
       "<tr>\n",
       "  <th>Method:</th>             <td>Least Squares</td>  <th>  F-statistic:       </th> <td>   27.76</td>\n",
       "</tr>\n",
       "<tr>\n",
       "  <th>Date:</th>             <td>Wed, 28 Dec 2022</td> <th>  Prob (F-statistic):</th> <td>6.58e-10</td>\n",
       "</tr>\n",
       "<tr>\n",
       "  <th>Time:</th>                 <td>21:22:55</td>     <th>  Log-Likelihood:    </th> <td>  12.720</td>\n",
       "</tr>\n",
       "<tr>\n",
       "  <th>No. Observations:</th>      <td>    84</td>      <th>  AIC:               </th> <td>  -19.44</td>\n",
       "</tr>\n",
       "<tr>\n",
       "  <th>Df Residuals:</th>          <td>    81</td>      <th>  BIC:               </th> <td>  -12.15</td>\n",
       "</tr>\n",
       "<tr>\n",
       "  <th>Df Model:</th>              <td>     2</td>      <th>                     </th>     <td> </td>   \n",
       "</tr>\n",
       "<tr>\n",
       "  <th>Covariance Type:</th>      <td>nonrobust</td>    <th>                     </th>     <td> </td>   \n",
       "</tr>\n",
       "</table>\n",
       "<table class=\"simpletable\">\n",
       "<tr>\n",
       "       <td></td>         <th>coef</th>     <th>std err</th>      <th>t</th>      <th>P>|t|</th>  <th>[0.025</th>    <th>0.975]</th>  \n",
       "</tr>\n",
       "<tr>\n",
       "  <th>const</th>      <td>    0.2960</td> <td>    0.417</td> <td>    0.710</td> <td> 0.480</td> <td>   -0.533</td> <td>    1.125</td>\n",
       "</tr>\n",
       "<tr>\n",
       "  <th>SAT</th>        <td>    0.0017</td> <td>    0.000</td> <td>    7.432</td> <td> 0.000</td> <td>    0.001</td> <td>    0.002</td>\n",
       "</tr>\n",
       "<tr>\n",
       "  <th>Rand 1,2,3</th> <td>   -0.0083</td> <td>    0.027</td> <td>   -0.304</td> <td> 0.762</td> <td>   -0.062</td> <td>    0.046</td>\n",
       "</tr>\n",
       "</table>\n",
       "<table class=\"simpletable\">\n",
       "<tr>\n",
       "  <th>Omnibus:</th>       <td>12.992</td> <th>  Durbin-Watson:     </th> <td>   0.948</td>\n",
       "</tr>\n",
       "<tr>\n",
       "  <th>Prob(Omnibus):</th> <td> 0.002</td> <th>  Jarque-Bera (JB):  </th> <td>  16.364</td>\n",
       "</tr>\n",
       "<tr>\n",
       "  <th>Skew:</th>          <td>-0.731</td> <th>  Prob(JB):          </th> <td>0.000280</td>\n",
       "</tr>\n",
       "<tr>\n",
       "  <th>Kurtosis:</th>      <td> 4.594</td> <th>  Cond. No.          </th> <td>3.33e+04</td>\n",
       "</tr>\n",
       "</table><br/><br/>Notes:<br/>[1] Standard Errors assume that the covariance matrix of the errors is correctly specified.<br/>[2] The condition number is large, 3.33e+04. This might indicate that there are<br/>strong multicollinearity or other numerical problems."
      ],
      "text/plain": [
       "<class 'statsmodels.iolib.summary.Summary'>\n",
       "\"\"\"\n",
       "                            OLS Regression Results                            \n",
       "==============================================================================\n",
       "Dep. Variable:                    GPA   R-squared:                       0.407\n",
       "Model:                            OLS   Adj. R-squared:                  0.392\n",
       "Method:                 Least Squares   F-statistic:                     27.76\n",
       "Date:                Wed, 28 Dec 2022   Prob (F-statistic):           6.58e-10\n",
       "Time:                        21:22:55   Log-Likelihood:                 12.720\n",
       "No. Observations:                  84   AIC:                            -19.44\n",
       "Df Residuals:                      81   BIC:                            -12.15\n",
       "Df Model:                           2                                         \n",
       "Covariance Type:            nonrobust                                         \n",
       "==============================================================================\n",
       "                 coef    std err          t      P>|t|      [0.025      0.975]\n",
       "------------------------------------------------------------------------------\n",
       "const          0.2960      0.417      0.710      0.480      -0.533       1.125\n",
       "SAT            0.0017      0.000      7.432      0.000       0.001       0.002\n",
       "Rand 1,2,3    -0.0083      0.027     -0.304      0.762      -0.062       0.046\n",
       "==============================================================================\n",
       "Omnibus:                       12.992   Durbin-Watson:                   0.948\n",
       "Prob(Omnibus):                  0.002   Jarque-Bera (JB):               16.364\n",
       "Skew:                          -0.731   Prob(JB):                     0.000280\n",
       "Kurtosis:                       4.594   Cond. No.                     3.33e+04\n",
       "==============================================================================\n",
       "\n",
       "Notes:\n",
       "[1] Standard Errors assume that the covariance matrix of the errors is correctly specified.\n",
       "[2] The condition number is large, 3.33e+04. This might indicate that there are\n",
       "strong multicollinearity or other numerical problems.\n",
       "\"\"\""
      ]
     },
     "execution_count": 12,
     "metadata": {},
     "output_type": "execute_result"
    }
   ],
   "source": [
    "y = data['GPA']\n",
    "x1 = data[['SAT', 'Rand 1,2,3']]\n",
    "\n",
    "x = sm.add_constant(x1)\n",
    "results = sm.OLS(y, x).fit()\n",
    "\n",
    "results.summary()"
   ]
  },
  {
   "attachments": {},
   "cell_type": "markdown",
   "metadata": {},
   "source": [
    "* New vs Old table\n",
    "    * ![Alt text](img/194.%20Adjusted%20R-Squared4.jpg)\n",
    "        * We notice that the new R-squared is 0.407 so it seems as we have increased the explanatory power of the model, but then our enthusiasm is dampened by the adjusted R-squared of 0.392. We were penalized for adding an additional variable that had no strong explanatory power. We have added information but have lost value.\n",
    "            * Adding an impractical variable should be pointed out by the model in some way.\n",
    "        * We have determined a coefficient for the random 1, 2, 3 variable, but its p-value is 0.762. Remember the null hypothesis of the test? Beta two equals zero. **We cannot reject the null hypothesis at the 76% significance level.** This is an incredibly high p-value. For a coefficient to be statistically significant we want a p-value of less than 0.05.\n",
    "        * Our conclusion is :\n",
    "            * that the variable random 1, 2, 3 not only worsens the explanatory power of the model reflected by a lower adjusted R-squared but is also insignificant. \n",
    "            * Therefore, it should be dropped all together. Dropping useless variables is important. \n",
    "                * You can see the original model changed from Y hat equals 0.275 plus 0.0017 times x one. \n",
    "                * Two, Y hat equals 0.296 plus 0.0017 times x one minus 0.0083 times x two.\n",
    "            * The choice of third variable affected the intercept. Whenever you have one variable that is ruining the model you should not use this model altogether because the bias of this variable is reflected into the coefficients of the other variables. \n",
    "                * ![Alt text](img/194.%20Adjusted%20R-Squared5.jpg)\n",
    "            * **The correct approach is to remove it from the regression and run a new one, omitting the problematic predictor.**\n",
    "\n",
    "* The adjusted R-squared is the basis for comparing regression models.\n",
    "    * It only makes sense to compare two models considering the same dependent variable and using the same dataset. \n",
    "        * If we compare two models that are about two different dependent variables we will be making an apples to oranges comparison.\n",
    "        * If we use different data sets it is an apples to dinosaurs problem.\n",
    "            * ![Alt text](img/194.%20Adjusted%20R-Squared6.jpg)\n"
   ]
  },
  {
   "attachments": {},
   "cell_type": "markdown",
   "metadata": {},
   "source": [
    "## Quiz 116: Adjusted R-Squared"
   ]
  },
  {
   "attachments": {},
   "cell_type": "markdown",
   "metadata": {},
   "source": [
    "https://www.udemy.com/course/the-data-science-course-complete-data-science-bootcamp/learn/quiz/4451922#overview"
   ]
  },
  {
   "attachments": {},
   "cell_type": "markdown",
   "metadata": {},
   "source": [
    "1. The adjusted R-squared is a measure that:\n",
    "    * measures how well your model fits the data but penalizes the excessive use of variables\n",
    "    * Like the R-squared, the adjusted R-squared measures how well your model fits the data. However, it penalizes the use of variables that are meaningless for the regression.\n",
    "2. The adjusted R-squared is:\n",
    "    * usually smaller than the R=squared\n",
    "    * Almost always, the adjusted R-squared is smaller than the R-squared. The statement is not true only in the extreme occasions of small sample sizes and a high number of independent variables.\n",
    "3. What can you tell about a new parameter if adding it increases R-squared but decreases adjusted R-squared\n",
    "    * The variable can be omitted since it holds no predictive power"
   ]
  },
  {
   "attachments": {},
   "cell_type": "markdown",
   "metadata": {},
   "source": [
    "## 195. Multiple Linear Regression Exercise"
   ]
  },
  {
   "attachments": {},
   "cell_type": "markdown",
   "metadata": {},
   "source": [
    "https://www.udemy.com/course/the-data-science-course-complete-data-science-bootcamp/learn/lecture/10887972#overview"
   ]
  },
  {
   "attachments": {},
   "cell_type": "markdown",
   "metadata": {},
   "source": [
    "## 196. Test for Significance of the Model (F-Test)"
   ]
  },
  {
   "attachments": {},
   "cell_type": "markdown",
   "metadata": {},
   "source": [
    "https://www.udemy.com/course/the-data-science-course-complete-data-science-bootcamp/learn/lecture/10777052#overview"
   ]
  },
  {
   "attachments": {},
   "cell_type": "markdown",
   "metadata": {},
   "source": [
    "* Difference Z, T, and F statistics\n",
    "    * ![Alt text](img/196.%20Test%20for%20Significance%20of%20the%20Model%20(F-Test)1.jpg)\n",
    "        * the Z statistic that follows a normal distribution \n",
    "        * the T statistic that follows a student's T distribution\n",
    "        * the F statistic follows an F distribution.\n",
    "* The F statistics test is known as the test for overall significance of the model.\n",
    "    * The null hypothesis is all the betas are equal to zero simultaneously.\n",
    "    * The alternative hypothesis is at least one beta defers from zero.\n",
    "    * ![Alt text](img/196.%20Test%20for%20Significance%20of%20the%20Model%20(F-Test)2.jpg)\n",
    "    * What's the interpretation?\n",
    "        * If all betas are zero, then none of the independent variables matter, therefore our model has no merit.\n",
    "    * ![Alt text](img/196.%20Test%20for%20Significance%20of%20the%20Model%20(F-Test)3.jpg)\n",
    "        * The F statistic is 56.05. The cell below is its P value.\n",
    "        * The cell below is its P value. The number is really low, it is virtually 0.000.\n",
    "            * We say the overall model is significant. The F test is important for regressions as it gives us some important insights.\n",
    "    * Let's see the table for the model where we added the random 1, 2, 3 variable that had nothing to do with anything.\n",
    "        * ![Alt text](img/196.%20Test%20for%20Significance%20of%20the%20Model%20(F-Test)4.jpg)\n",
    "        * The F statistic is 27.76, and the P value is 0.000. \n",
    "            * You can see the F statistic is lower. The model is still significant but less so.\n",
    "        * The lower the F statistic, the closer to a non-significant model."
   ]
  },
  {
   "attachments": {},
   "cell_type": "markdown",
   "metadata": {},
   "source": [
    "## 197. OLS Assumptions"
   ]
  },
  {
   "attachments": {},
   "cell_type": "markdown",
   "metadata": {},
   "source": [
    "https://www.udemy.com/course/the-data-science-course-complete-data-science-bootcamp/learn/lecture/10777056#overview"
   ]
  },
  {
   "attachments": {},
   "cell_type": "markdown",
   "metadata": {},
   "source": [
    "* Regression assumptions\n",
    "* ![Alt text](img/197.%20OLS%20Assumptions1.jpg)\n",
    "    * Linearity or Linear Regression\n",
    "        * Each independent variable is multiplied by a coefficient and summed up to predict the value.\n",
    "    * No Endogeneity of Regressors\n",
    "        * Mathematically, this is expressed as the covariance of the error, and the Xs is 0 for any error or X.\n",
    "    * Normality and homoscedasticity\n",
    "        * The expected value of the error is zero as we expect to have no errors on average.\n",
    "        * Homoscedasticity in plain English means **constant variance.**\n",
    "    * No autocorrelation\n",
    "        * Mathematically, the covariance of any two error terms is zero. \n",
    "        * That's the assumption that would usually stop you from using a linear regression in your analysis.\n",
    "        * No Multicollinearity\n",
    "            * Multicollinearity is observed when two or more variables have a high correlation between each other.\n",
    "\n",
    "* **At your workplace, the biggest mistake you can make is to perform a regression that violates one of these assumptions.**"
   ]
  },
  {
   "attachments": {},
   "cell_type": "markdown",
   "metadata": {},
   "source": [
    "## Quiz 117: OLS Assumptions"
   ]
  },
  {
   "attachments": {},
   "cell_type": "markdown",
   "metadata": {},
   "source": [
    "https://www.udemy.com/course/the-data-science-course-complete-data-science-bootcamp/learn/quiz/4451924#overview"
   ]
  },
  {
   "attachments": {},
   "cell_type": "markdown",
   "metadata": {},
   "source": [
    "1. If a regression assumption is violated:\n",
    "    * Performing regression analysis will yield an incorrect result.\n",
    "    * Nothing stops you from performing the regression analysis, but it will yield an incorrect result. It is a big deal."
   ]
  },
  {
   "attachments": {},
   "cell_type": "markdown",
   "metadata": {},
   "source": [
    "## 198. A1: Linearity"
   ]
  },
  {
   "attachments": {},
   "cell_type": "markdown",
   "metadata": {},
   "source": [
    "https://www.udemy.com/course/the-data-science-course-complete-data-science-bootcamp/learn/lecture/10777058#overview"
   ]
  },
  {
   "attachments": {},
   "cell_type": "markdown",
   "metadata": {},
   "source": [
    "* A linear regression is the simplest non-trivial relationship.\n",
    "    * Each independent variable is multiplied by a coefficient, and summed up to predict the value of the dependent variable.\n",
    "* How can you verify if the relationship between two variables is linear?\n",
    "    * The easiest way is to choose an independent variable x1, and plot it against the dependent y on a scatter plot.\n",
    "    * If the data points form a pattern that looks like a straight line, then a linear regression model is suitable.\n",
    "    * ![Alt text](img/198.%20A1%20Linearity1.jpg)\n",
    "\n",
    "* Case where the assumption is violated:\n",
    "    * After plotting another variable x2 against y on a scatter plot, we see there is no straight line that fits the data well. Actually, a curved line would be a very good fit. **Using a linear regression would not be appropriate.**\n",
    "        * ![Alt text](img/198.%20A1%20Linearity2.jpg)\n",
    "    * How to fixes:\n",
    "    * ![Alt text](img/198.%20A1%20Linearity3.jpg)\n",
    "        * Run a non-linear regression, as we will do in the next section, or transform your relationship.\n",
    "        * There are exponential and \n",
    "        * logarithmical transformations that help with that.\n",
    "    * The quadratic relationship we saw in this video could be easily transformed into a straight line with the appropriate methods. The takeaway is, if the relationship is non-linear, you should not use the data before transforming it appropriately."
   ]
  },
  {
   "attachments": {},
   "cell_type": "markdown",
   "metadata": {},
   "source": [
    "## Quiz 118: A1: Linearity"
   ]
  },
  {
   "attachments": {},
   "cell_type": "markdown",
   "metadata": {},
   "source": [
    "https://www.udemy.com/course/the-data-science-course-complete-data-science-bootcamp/learn/quiz/4451926#overview"
   ]
  },
  {
   "attachments": {},
   "cell_type": "markdown",
   "metadata": {},
   "source": [
    "1. Linearity is easy to relax.\n",
    "    * True\n",
    "2. What should you do if you want to employ a linear regression but the relationship in your data is not linear?\n",
    "    * Transform it appropriately before using it"
   ]
  },
  {
   "attachments": {},
   "cell_type": "markdown",
   "metadata": {},
   "source": [
    "## 199. A2: No Endogeneity"
   ]
  },
  {
   "attachments": {},
   "cell_type": "markdown",
   "metadata": {},
   "source": [
    "https://www.udemy.com/course/the-data-science-course-complete-data-science-bootcamp/learn/lecture/10777086#overview"
   ]
  },
  {
   "attachments": {},
   "cell_type": "markdown",
   "metadata": {},
   "source": [
    "* No Endogeneity of Regressors is refers to the prohibition of a link between the independent variables and the errors, mathematically expressed in the following way.\n",
    "    * ![Alt text](img/199.%20A2%20No%20Endogeneity1.jpg)\n",
    "    * The error, thus the difference between the observed values and the predicted values, is correlated with our independent values.\n",
    "    * **This is a problem referred to as omitted variable bias.**\n",
    "* Omitted variable bias is introduced to the model when you forget to include a relevant variable.\n",
    "    * As each independent variable explains y, they move together and are somewhat correlated.\n",
    "    * Similarly, y is also explained by the omitted variable, so they are also correlated.\n",
    "    * Chances are, the omitted variable is also correlated with at least one independent x.\n",
    "    * However, you forgot to include it as a regressor. Everything that you don't explain with your model goes into the error. Because of that, the error becomes correlated with everything else.\n",
    "        * ![Alt text](img/199.%20A2%20No%20Endogeneity2.jpg)\n",
    "\n",
    "* Omitted variable bias is hard to fix.\n",
    "    * ![Alt text](img/199.%20A2%20No%20Endogeneity3.jpg)\n",
    "    * We have only one variable, but when your model is exhaustive with 10 variables or more, you may feel disheartened.\n",
    "\n",
    "* Example:\n",
    "    * Why is bigger real estate cheaper?\n",
    "        * ![Alt text](img/199.%20A2%20No%20Endogeneity4.jpg)\n",
    "        * The sample comprises apartment buildings in central London, and is large. So the problem is not with the sample.\n",
    "        * What is it about smaller size that is making it so expensive? \n",
    "        * Where are the small houses? \n",
    "        * There is rarely construction of new apartment buildings in central London. And then you realize the City of London was in the sample. The place where most buildings are skyscrapers, with some of the most valuable real estate in the world. We omitted the exact location as a variable.\n",
    "        * After we included a variable that measures if the property is in London's City, everything falls into place. Larger properties are more expensive, and vice versa.\n",
    "    * The incorrect exclusion of a variable, like in this case, leads to biased and counterintuitive estimates that are toxic to your regression analysis.\n",
    "\n",
    "* Omitted variable bias is complex.\n",
    "    * It is always different, \n",
    "    * always sneaky, and \n",
    "    * only experience and advanced knowledge on the subject can help. \n",
    "    * Always check for it, and if you can't think of anything, ask a colleague for assistance.\n",
    "        * ![Alt text](img/199.%20A2%20No%20Endogeneity5.jpg)"
   ]
  },
  {
   "attachments": {},
   "cell_type": "markdown",
   "metadata": {},
   "source": [
    "## Quiz 119: A2: No Endogeneity"
   ]
  },
  {
   "attachments": {},
   "cell_type": "markdown",
   "metadata": {},
   "source": [
    "https://www.udemy.com/course/the-data-science-course-complete-data-science-bootcamp/learn/quiz/4451928#overview"
   ]
  },
  {
   "attachments": {},
   "cell_type": "markdown",
   "metadata": {},
   "source": [
    "1. The easiest way to detect an omitted variable bias is through:\n",
    "    * the error term\n",
    "    * Omitted variable bias occurs when you forget to include a variable. This is reflected in the error term as the factor you forgot about is included in the error. In this way, the error is not random but includes a systematic part (the omitted variable)."
   ]
  },
  {
   "attachments": {},
   "cell_type": "markdown",
   "metadata": {},
   "source": [
    "## 200. A3: Normality and Homoscedasticity"
   ]
  },
  {
   "attachments": {},
   "cell_type": "markdown",
   "metadata": {},
   "source": [
    "https://www.udemy.com/course/the-data-science-course-complete-data-science-bootcamp/learn/lecture/10777112#overview"
   ]
  },
  {
   "attachments": {},
   "cell_type": "markdown",
   "metadata": {},
   "source": [
    "* ![Alt text](img/200.%20A3%20Normality%20and%20Homoscedasticity1.jpg)\n",
    "    * Normality\n",
    "        * ![Alt text](img/200.%20A3%20Normality%20and%20Homoscedasticity2.jpg)\n",
    "        * We assume the error term is normally distributed. Normal distribution is not required for creating the regression, but for making inferences.\n",
    "        * What should we do, if the error term, is not normally distributed?\n",
    "            * The central limit theorem. For large samples, the central limit theorem applies for the error terms too. Therefore, we can consider normality as a given for us. Therefore, we can consider normality as a given for us.\n",
    "    * zero mean\n",
    "        * ![Alt text](img/200.%20A3%20Normality%20and%20Homoscedasticity3.jpg)\n",
    "        * if the mean is not expected to be zero, then the line is not the best fitting one.\n",
    "        * However, having an intercept solves that problem. So in real life, it is unusual to violate this part of the assumption.\n",
    "    * homoscedasticity of the error term.\n",
    "        * ![Alt text](img/200.%20A3%20Normality%20and%20Homoscedasticity4.jpg)\n",
    "        * It means to have equal variance.\n",
    "        * So, the error term should have equal variance, one with the other.\n",
    "        * What if there was a pattern in the variance?\n",
    "            * an example of a data set, where errors have a different variance (heteroscedastic). Starting close to the regression line, and going further away. This would imply that, for smaller values, of the independent and dependent variables, we would have a better prediction than for bigger values. And, I assure you, we really don't like this uncertainty.\n",
    "* Prevention:3\n",
    "    * ![Alt text](img/200.%20A3%20Normality%20and%20Homoscedasticity5.jpg)\n",
    "    * First, check for omitted variable bias.\n",
    "    * After that, you can look for outliers, and try to remove them.\n",
    "    * the log transformation. Log stand for logarithm\n",
    "        * ![Alt text](img/200.%20A3%20Normality%20and%20Homoscedasticity6.jpg)"
   ]
  },
  {
   "attachments": {},
   "cell_type": "markdown",
   "metadata": {},
   "source": [
    "* Example:\n",
    "    * ![Alt text](img/200.%20A3%20Normality%20and%20Homoscedasticity7.jpg)\n",
    "    * ![Alt text](img/200.%20A3%20Normality%20and%20Homoscedasticity8.jpg)\n",
    "        * On the left hand side of the chart, the variance of the error is small.\n",
    "        * While on the right, it is high.\n",
    "            * Here's the model. \n",
    "            * As X increases by one unit, Y grows, by b1 units.\n",
    "    * Transforming the X variable to a new variable, called log of x, and plot the data. Changing the scale of X would reduce the width of the graph.\n",
    "        * ![Alt text](img/200.%20A3%20Normality%20and%20Homoscedasticity9a.jpg)\n",
    "        * ![Alt text](img/200.%20A3%20Normality%20and%20Homoscedasticity9b.jpg)\n",
    "    * What if we transform the Y scale instead? Autologically, to what happened previously, we would expect the height of the graph to be reduced. This new model is also called semi-log model. It's meaning is, as X increases by one unit, Y changes, by b1 percent.\n",
    "        * ![Alt text](img/200.%20A3%20Normality%20and%20Homoscedasticity10a.jpg)\n",
    "        * ![Alt text](img/200.%20A3%20Normality%20and%20Homoscedasticity10b.jpg)\n",
    "    * Sometimes, we want or need to change, both scales to log. The result is a log-log model. We shrink the graph in height, and in width. The improvement is noticeable, but not game changing. However, we may be sure the assumption is not violated. The interpretation is, for each percentage point change in x, Y changes by b1 percentage points. If you've done economics, you would recognize such a relationship, is known as elasticity.\n",
    "        * ![Alt text](img/200.%20A3%20Normality%20and%20Homoscedasticity11a.jpg)\n",
    "        * ![Alt text](img/200.%20A3%20Normality%20and%20Homoscedasticity11b.jpg)"
   ]
  },
  {
   "attachments": {},
   "cell_type": "markdown",
   "metadata": {},
   "source": [
    "## 201. A4: No Autocorrelation"
   ]
  },
  {
   "attachments": {},
   "cell_type": "markdown",
   "metadata": {},
   "source": [
    "https://www.udemy.com/course/the-data-science-course-complete-data-science-bootcamp/learn/lecture/10777114#overview"
   ]
  },
  {
   "attachments": {},
   "cell_type": "markdown",
   "metadata": {},
   "source": [
    "* No Autocorrelation or no serial correlation\n",
    "    * Errors are assumed to be uncorrelated.\n",
    "    * Where can we observe serial correlation between errors? \n",
    "        * It is highly unlikely to find it in data taken at one moment of time, known as cross-sectional data. Very common in time series data.\n",
    "        * ![Alt text](img/201.%20A4%20No%20Autocorrelation1.jpg)\n",
    "* example: stock prices.\n",
    "    * ![Alt text](img/201.%20A4%20No%20Autocorrelation2.jpg)\n",
    "        * Every day you have a new quote for the same stock. These new numbers you see have the same underlying asset. \n",
    "        * Without getting too much into the finance, ideally you want them to be random or predicted by macro factors such as GDP, tax rate, political events and so on.\n",
    "        * Unfortunately, it is common in underdeveloped markets to see patterns in the stock prices.\n",
    "        * There is a well known phenomenon called The Day-of-the-Week Effect.\n",
    "    * The Day-of-the-Week Effect consists in disproportionately high returns on Fridays and low returns on Mondays. There is no consensus on the true nature of the day-of-the-week effect.\n",
    "        * One possible explanation proposed by Noble Prize winner Merton Miller is that investors don't have time to read all the news immediately.\n",
    "            * ![Alt text](img/201.%20A4%20No%20Autocorrelation3.jpg)\n",
    "            * So they do it over the weekend. \n",
    "                * The first day to respond to negative information is on Mondays.\n",
    "                * Then during the week, their advisors give them new positive information and they start buying on Thursdays and Fridays.\n",
    "        * Another famous explanation is given by the distinguished financier, Kenneth French, who suggested firms delay bad news for the weekends so markets react on Mondays.\n",
    "            * ![Alt text](img/201.%20A4%20No%20Autocorrelation4.jpg)\n",
    "        * Whatever the reason, there is correlation of the errors when building regressions about stock prices.\n",
    "            * The first observation, the sixth, the 11th and every fifth onwards would be Mondays.\n",
    "            * The fifth, 10th and so on would be Fridays. \n",
    "            * Errors on Mondays would be biased downwards and errors for Fridays would be biased upwards.\n",
    "            * The mathematics of the linear regression does not consider this. It assumes errors should be randomly spread around the regression line.\n",
    "\n",
    "* So how does one detect auto correlation?\n",
    "    * A common way is to plot all the residuals on a graph and look for patterns.\n",
    "        * ![Alt text](img/201.%20A4%20No%20Autocorrelation5.jpg)\n",
    "    * Another is the Durbin Watson test, which you have in the summary for the table provided by stats models.\n",
    "        * Generally, its values fall between zero and four. Two indicates no auto correlation, while values below one and above three are a cause for alarm.\n",
    "        * ![Alt text](img/201.%20A4%20No%20Autocorrelation6.jpg)\n",
    "\n",
    "* The only thing you can do is avoid using a linear regression in such a setting.\n",
    "    * There are other types of regressions that deal with time series data.\n",
    "        * auto aggress model,\n",
    "        * moving average model, \n",
    "        * auto regressive moving average model,\n",
    "        * auto regressive integrated moving average model.\n",
    "        * ![Alt text](img/201.%20A4%20No%20Autocorrelation7.jpg)"
   ]
  },
  {
   "attachments": {},
   "cell_type": "markdown",
   "metadata": {},
   "source": [
    "## Quiz 120: A4: No autocorrelation"
   ]
  },
  {
   "attachments": {},
   "cell_type": "markdown",
   "metadata": {},
   "source": [
    "https://www.udemy.com/course/the-data-science-course-complete-data-science-bootcamp/learn/quiz/4451932#overview"
   ]
  },
  {
   "attachments": {},
   "cell_type": "markdown",
   "metadata": {},
   "source": [
    "1. Autocorrelation is not likely to be observed in:\n",
    "    * cross-sectional data\n",
    "    * Autocorrelation is not observed in cross-sectional data. You usually spot it at time series data, which is a subset of panel data. Sample data is not relevant for this question.\n",
    "2. How do you fix autocorrelation when using a linear regression model?\n",
    "    * "
   ]
  },
  {
   "attachments": {},
   "cell_type": "markdown",
   "metadata": {},
   "source": [
    "## 202. A5: No Multicollinearity"
   ]
  },
  {
   "attachments": {},
   "cell_type": "markdown",
   "metadata": {},
   "source": [
    "https://www.udemy.com/course/the-data-science-course-complete-data-science-bootcamp/learn/lecture/10777116#overview"
   ]
  },
  {
   "attachments": {},
   "cell_type": "markdown",
   "metadata": {},
   "source": [
    "* No Multicollinearity\n",
    "    * We observe multicollinearity when two or more variables have a high correlation.\n",
    "        * ![Alt text](img/202.%20A5%20No%20Multicollinearity1.jpg)\n",
    "            * A is equal to two plus five times B. A and B are two variables with an exact linear combination. \n",
    "            * A can be represented using B and B can be represented using A. \n",
    "            * In a model containing A and B, we would have perfect multicollinearity. \n",
    "            * This imposes a big problem to our regression model as the coefficients will be wrongly estimated.\n",
    "            * The reasoning is that, if A can be represented using B, there is no point using both.\n",
    "        * ![Alt text](img/202.%20A5%20No%20Multicollinearity2.jpg)\n",
    "            * Another example would be two variables, C and D, with a correlation of 90%.\n",
    "            * If we had a regression model using C and D, we would also have multicollinearity, although not perfect. \n",
    "            * Here, the assumption is still violated and poses a problem to our model.\n",
    "\n",
    "* How to fixes\n",
    "    * ![Alt text](img/202.%20A5%20No%20Multicollinearity3.jpg)\n",
    "        * The first one is to drop one of the two variables.\n",
    "        * The second is to transform them into one variable.\n",
    "        * keep them both while treating them with extreme caution.\n",
    "    * The correct approach depends on the research at hand.\n",
    "    * Multicollinearity is a big problem, but is also the easiest to notice.\n",
    "\n",
    "* Prevention:\n",
    "    * ![Alt text](img/202.%20A5%20No%20Multicollinearity4.jpg)\n",
    "    * Before creating the regression, find the correlation between each two pairs of independent variables and you will know if a multicollinearity problem may arise.\n"
   ]
  },
  {
   "attachments": {},
   "cell_type": "markdown",
   "metadata": {},
   "source": [
    "## Quiz 121: A5: No Multicollinearity"
   ]
  },
  {
   "attachments": {},
   "cell_type": "markdown",
   "metadata": {},
   "source": [
    "https://www.udemy.com/course/the-data-science-course-complete-data-science-bootcamp/learn/quiz/4451934#overview"
   ]
  },
  {
   "attachments": {},
   "cell_type": "markdown",
   "metadata": {},
   "source": [
    "1. No multicollinearity is:\n",
    "    * easy to spot and easy to fix"
   ]
  },
  {
   "attachments": {},
   "cell_type": "markdown",
   "metadata": {},
   "source": [
    "## 203. Dealing with Categorical Data - Dummy Variables"
   ]
  },
  {
   "attachments": {},
   "cell_type": "markdown",
   "metadata": {},
   "source": [
    "https://www.udemy.com/course/the-data-science-course-complete-data-science-bootcamp/learn/lecture/10777118#overview"
   ]
  },
  {
   "attachments": {},
   "cell_type": "markdown",
   "metadata": {},
   "source": [
    "* In regression analysis, a dummy is a variable that is used to include categorical data into a regression model another meaning, an invitation or a copy that stands as a substitute.\n",
    "* Imitating the categories with numbers.\n",
    "    * Example:\n",
    "        * Gender:\n",
    "            * Male -> 0\n",
    "            * Female -> 1\n",
    "        * Attendance:\n",
    "            * No -> 0\n",
    "            * Yes -> 1"
   ]
  },
  {
   "attachments": {},
   "cell_type": "markdown",
   "metadata": {},
   "source": [
    "#### Example"
   ]
  },
  {
   "cell_type": "code",
   "execution_count": 13,
   "metadata": {},
   "outputs": [],
   "source": [
    "import numpy as np\n",
    "import pandas as pd\n",
    "import statsmodels as sts\n",
    "import matplotlib.pyplot as plt\n",
    "import seaborn as sns\n",
    "sns.set()"
   ]
  },
  {
   "cell_type": "code",
   "execution_count": 14,
   "metadata": {},
   "outputs": [
    {
     "data": {
      "text/html": [
       "<div>\n",
       "<style scoped>\n",
       "    .dataframe tbody tr th:only-of-type {\n",
       "        vertical-align: middle;\n",
       "    }\n",
       "\n",
       "    .dataframe tbody tr th {\n",
       "        vertical-align: top;\n",
       "    }\n",
       "\n",
       "    .dataframe thead th {\n",
       "        text-align: right;\n",
       "    }\n",
       "</style>\n",
       "<table border=\"1\" class=\"dataframe\">\n",
       "  <thead>\n",
       "    <tr style=\"text-align: right;\">\n",
       "      <th></th>\n",
       "      <th>SAT</th>\n",
       "      <th>GPA</th>\n",
       "      <th>Attendance</th>\n",
       "    </tr>\n",
       "  </thead>\n",
       "  <tbody>\n",
       "    <tr>\n",
       "      <th>0</th>\n",
       "      <td>1714</td>\n",
       "      <td>2.40</td>\n",
       "      <td>No</td>\n",
       "    </tr>\n",
       "    <tr>\n",
       "      <th>1</th>\n",
       "      <td>1664</td>\n",
       "      <td>2.52</td>\n",
       "      <td>No</td>\n",
       "    </tr>\n",
       "    <tr>\n",
       "      <th>2</th>\n",
       "      <td>1760</td>\n",
       "      <td>2.54</td>\n",
       "      <td>No</td>\n",
       "    </tr>\n",
       "    <tr>\n",
       "      <th>3</th>\n",
       "      <td>1685</td>\n",
       "      <td>2.74</td>\n",
       "      <td>No</td>\n",
       "    </tr>\n",
       "    <tr>\n",
       "      <th>4</th>\n",
       "      <td>1693</td>\n",
       "      <td>2.83</td>\n",
       "      <td>No</td>\n",
       "    </tr>\n",
       "    <tr>\n",
       "      <th>...</th>\n",
       "      <td>...</td>\n",
       "      <td>...</td>\n",
       "      <td>...</td>\n",
       "    </tr>\n",
       "    <tr>\n",
       "      <th>79</th>\n",
       "      <td>1936</td>\n",
       "      <td>3.71</td>\n",
       "      <td>Yes</td>\n",
       "    </tr>\n",
       "    <tr>\n",
       "      <th>80</th>\n",
       "      <td>1810</td>\n",
       "      <td>3.71</td>\n",
       "      <td>Yes</td>\n",
       "    </tr>\n",
       "    <tr>\n",
       "      <th>81</th>\n",
       "      <td>1987</td>\n",
       "      <td>3.73</td>\n",
       "      <td>No</td>\n",
       "    </tr>\n",
       "    <tr>\n",
       "      <th>82</th>\n",
       "      <td>1962</td>\n",
       "      <td>3.76</td>\n",
       "      <td>Yes</td>\n",
       "    </tr>\n",
       "    <tr>\n",
       "      <th>83</th>\n",
       "      <td>2050</td>\n",
       "      <td>3.81</td>\n",
       "      <td>Yes</td>\n",
       "    </tr>\n",
       "  </tbody>\n",
       "</table>\n",
       "<p>84 rows × 3 columns</p>\n",
       "</div>"
      ],
      "text/plain": [
       "     SAT   GPA Attendance\n",
       "0   1714  2.40         No\n",
       "1   1664  2.52         No\n",
       "2   1760  2.54         No\n",
       "3   1685  2.74         No\n",
       "4   1693  2.83         No\n",
       "..   ...   ...        ...\n",
       "79  1936  3.71        Yes\n",
       "80  1810  3.71        Yes\n",
       "81  1987  3.73         No\n",
       "82  1962  3.76        Yes\n",
       "83  2050  3.81        Yes\n",
       "\n",
       "[84 rows x 3 columns]"
      ]
     },
     "execution_count": 14,
     "metadata": {},
     "output_type": "execute_result"
    }
   ],
   "source": [
    "raw_data = pd.read_csv('csv/1.03. Dummies.csv')\n",
    "raw_data"
   ]
  },
  {
   "cell_type": "code",
   "execution_count": 15,
   "metadata": {},
   "outputs": [
    {
     "data": {
      "text/html": [
       "<div>\n",
       "<style scoped>\n",
       "    .dataframe tbody tr th:only-of-type {\n",
       "        vertical-align: middle;\n",
       "    }\n",
       "\n",
       "    .dataframe tbody tr th {\n",
       "        vertical-align: top;\n",
       "    }\n",
       "\n",
       "    .dataframe thead th {\n",
       "        text-align: right;\n",
       "    }\n",
       "</style>\n",
       "<table border=\"1\" class=\"dataframe\">\n",
       "  <thead>\n",
       "    <tr style=\"text-align: right;\">\n",
       "      <th></th>\n",
       "      <th>SAT</th>\n",
       "      <th>GPA</th>\n",
       "      <th>Attendance</th>\n",
       "    </tr>\n",
       "  </thead>\n",
       "  <tbody>\n",
       "    <tr>\n",
       "      <th>0</th>\n",
       "      <td>1714</td>\n",
       "      <td>2.40</td>\n",
       "      <td>0</td>\n",
       "    </tr>\n",
       "    <tr>\n",
       "      <th>1</th>\n",
       "      <td>1664</td>\n",
       "      <td>2.52</td>\n",
       "      <td>0</td>\n",
       "    </tr>\n",
       "    <tr>\n",
       "      <th>2</th>\n",
       "      <td>1760</td>\n",
       "      <td>2.54</td>\n",
       "      <td>0</td>\n",
       "    </tr>\n",
       "    <tr>\n",
       "      <th>3</th>\n",
       "      <td>1685</td>\n",
       "      <td>2.74</td>\n",
       "      <td>0</td>\n",
       "    </tr>\n",
       "    <tr>\n",
       "      <th>4</th>\n",
       "      <td>1693</td>\n",
       "      <td>2.83</td>\n",
       "      <td>0</td>\n",
       "    </tr>\n",
       "    <tr>\n",
       "      <th>...</th>\n",
       "      <td>...</td>\n",
       "      <td>...</td>\n",
       "      <td>...</td>\n",
       "    </tr>\n",
       "    <tr>\n",
       "      <th>79</th>\n",
       "      <td>1936</td>\n",
       "      <td>3.71</td>\n",
       "      <td>1</td>\n",
       "    </tr>\n",
       "    <tr>\n",
       "      <th>80</th>\n",
       "      <td>1810</td>\n",
       "      <td>3.71</td>\n",
       "      <td>1</td>\n",
       "    </tr>\n",
       "    <tr>\n",
       "      <th>81</th>\n",
       "      <td>1987</td>\n",
       "      <td>3.73</td>\n",
       "      <td>0</td>\n",
       "    </tr>\n",
       "    <tr>\n",
       "      <th>82</th>\n",
       "      <td>1962</td>\n",
       "      <td>3.76</td>\n",
       "      <td>1</td>\n",
       "    </tr>\n",
       "    <tr>\n",
       "      <th>83</th>\n",
       "      <td>2050</td>\n",
       "      <td>3.81</td>\n",
       "      <td>1</td>\n",
       "    </tr>\n",
       "  </tbody>\n",
       "</table>\n",
       "<p>84 rows × 3 columns</p>\n",
       "</div>"
      ],
      "text/plain": [
       "     SAT   GPA  Attendance\n",
       "0   1714  2.40           0\n",
       "1   1664  2.52           0\n",
       "2   1760  2.54           0\n",
       "3   1685  2.74           0\n",
       "4   1693  2.83           0\n",
       "..   ...   ...         ...\n",
       "79  1936  3.71           1\n",
       "80  1810  3.71           1\n",
       "81  1987  3.73           0\n",
       "82  1962  3.76           1\n",
       "83  2050  3.81           1\n",
       "\n",
       "[84 rows x 3 columns]"
      ]
     },
     "execution_count": 15,
     "metadata": {},
     "output_type": "execute_result"
    }
   ],
   "source": [
    "data = raw_data.copy()\n",
    "\n",
    "data['Attendance'] = data['Attendance'].map({'Yes':1, 'No':0})\n",
    "data"
   ]
  },
  {
   "cell_type": "code",
   "execution_count": 16,
   "metadata": {},
   "outputs": [
    {
     "data": {
      "text/html": [
       "<div>\n",
       "<style scoped>\n",
       "    .dataframe tbody tr th:only-of-type {\n",
       "        vertical-align: middle;\n",
       "    }\n",
       "\n",
       "    .dataframe tbody tr th {\n",
       "        vertical-align: top;\n",
       "    }\n",
       "\n",
       "    .dataframe thead th {\n",
       "        text-align: right;\n",
       "    }\n",
       "</style>\n",
       "<table border=\"1\" class=\"dataframe\">\n",
       "  <thead>\n",
       "    <tr style=\"text-align: right;\">\n",
       "      <th></th>\n",
       "      <th>SAT</th>\n",
       "      <th>GPA</th>\n",
       "      <th>Attendance</th>\n",
       "    </tr>\n",
       "  </thead>\n",
       "  <tbody>\n",
       "    <tr>\n",
       "      <th>count</th>\n",
       "      <td>84.000000</td>\n",
       "      <td>84.000000</td>\n",
       "      <td>84.000000</td>\n",
       "    </tr>\n",
       "    <tr>\n",
       "      <th>mean</th>\n",
       "      <td>1845.273810</td>\n",
       "      <td>3.330238</td>\n",
       "      <td>0.464286</td>\n",
       "    </tr>\n",
       "    <tr>\n",
       "      <th>std</th>\n",
       "      <td>104.530661</td>\n",
       "      <td>0.271617</td>\n",
       "      <td>0.501718</td>\n",
       "    </tr>\n",
       "    <tr>\n",
       "      <th>min</th>\n",
       "      <td>1634.000000</td>\n",
       "      <td>2.400000</td>\n",
       "      <td>0.000000</td>\n",
       "    </tr>\n",
       "    <tr>\n",
       "      <th>25%</th>\n",
       "      <td>1772.000000</td>\n",
       "      <td>3.190000</td>\n",
       "      <td>0.000000</td>\n",
       "    </tr>\n",
       "    <tr>\n",
       "      <th>50%</th>\n",
       "      <td>1846.000000</td>\n",
       "      <td>3.380000</td>\n",
       "      <td>0.000000</td>\n",
       "    </tr>\n",
       "    <tr>\n",
       "      <th>75%</th>\n",
       "      <td>1934.000000</td>\n",
       "      <td>3.502500</td>\n",
       "      <td>1.000000</td>\n",
       "    </tr>\n",
       "    <tr>\n",
       "      <th>max</th>\n",
       "      <td>2050.000000</td>\n",
       "      <td>3.810000</td>\n",
       "      <td>1.000000</td>\n",
       "    </tr>\n",
       "  </tbody>\n",
       "</table>\n",
       "</div>"
      ],
      "text/plain": [
       "               SAT        GPA  Attendance\n",
       "count    84.000000  84.000000   84.000000\n",
       "mean   1845.273810   3.330238    0.464286\n",
       "std     104.530661   0.271617    0.501718\n",
       "min    1634.000000   2.400000    0.000000\n",
       "25%    1772.000000   3.190000    0.000000\n",
       "50%    1846.000000   3.380000    0.000000\n",
       "75%    1934.000000   3.502500    1.000000\n",
       "max    2050.000000   3.810000    1.000000"
      ]
     },
     "execution_count": 16,
     "metadata": {},
     "output_type": "execute_result"
    }
   ],
   "source": [
    "data.describe()"
   ]
  },
  {
   "attachments": {},
   "cell_type": "markdown",
   "metadata": {},
   "source": [
    "* ![Alt text](img/203.%20Dealing%20with%20Categorical%20Data%20-%20Dummy%20Variables1.jpg)\n",
    "    * Notice that the mean of attended more than 75% is 0.46. The fact that the mean is less than 0.5, gives us the information that there are more zeros than ones.\n",
    "    * Since the two outcomes are zero and one, this implies that 46% of the students have attended more than 75% of the lessons in any case."
   ]
  },
  {
   "cell_type": "code",
   "execution_count": 17,
   "metadata": {},
   "outputs": [
    {
     "data": {
      "text/html": [
       "<table class=\"simpletable\">\n",
       "<caption>OLS Regression Results</caption>\n",
       "<tr>\n",
       "  <th>Dep. Variable:</th>           <td>GPA</td>       <th>  R-squared:         </th> <td>   0.565</td>\n",
       "</tr>\n",
       "<tr>\n",
       "  <th>Model:</th>                   <td>OLS</td>       <th>  Adj. R-squared:    </th> <td>   0.555</td>\n",
       "</tr>\n",
       "<tr>\n",
       "  <th>Method:</th>             <td>Least Squares</td>  <th>  F-statistic:       </th> <td>   52.70</td>\n",
       "</tr>\n",
       "<tr>\n",
       "  <th>Date:</th>             <td>Wed, 28 Dec 2022</td> <th>  Prob (F-statistic):</th> <td>2.19e-15</td>\n",
       "</tr>\n",
       "<tr>\n",
       "  <th>Time:</th>                 <td>21:22:57</td>     <th>  Log-Likelihood:    </th> <td>  25.798</td>\n",
       "</tr>\n",
       "<tr>\n",
       "  <th>No. Observations:</th>      <td>    84</td>      <th>  AIC:               </th> <td>  -45.60</td>\n",
       "</tr>\n",
       "<tr>\n",
       "  <th>Df Residuals:</th>          <td>    81</td>      <th>  BIC:               </th> <td>  -38.30</td>\n",
       "</tr>\n",
       "<tr>\n",
       "  <th>Df Model:</th>              <td>     2</td>      <th>                     </th>     <td> </td>   \n",
       "</tr>\n",
       "<tr>\n",
       "  <th>Covariance Type:</th>      <td>nonrobust</td>    <th>                     </th>     <td> </td>   \n",
       "</tr>\n",
       "</table>\n",
       "<table class=\"simpletable\">\n",
       "<tr>\n",
       "       <td></td>         <th>coef</th>     <th>std err</th>      <th>t</th>      <th>P>|t|</th>  <th>[0.025</th>    <th>0.975]</th>  \n",
       "</tr>\n",
       "<tr>\n",
       "  <th>const</th>      <td>    0.6439</td> <td>    0.358</td> <td>    1.797</td> <td> 0.076</td> <td>   -0.069</td> <td>    1.357</td>\n",
       "</tr>\n",
       "<tr>\n",
       "  <th>SAT</th>        <td>    0.0014</td> <td>    0.000</td> <td>    7.141</td> <td> 0.000</td> <td>    0.001</td> <td>    0.002</td>\n",
       "</tr>\n",
       "<tr>\n",
       "  <th>Attendance</th> <td>    0.2226</td> <td>    0.041</td> <td>    5.451</td> <td> 0.000</td> <td>    0.141</td> <td>    0.304</td>\n",
       "</tr>\n",
       "</table>\n",
       "<table class=\"simpletable\">\n",
       "<tr>\n",
       "  <th>Omnibus:</th>       <td>19.560</td> <th>  Durbin-Watson:     </th> <td>   1.009</td>\n",
       "</tr>\n",
       "<tr>\n",
       "  <th>Prob(Omnibus):</th> <td> 0.000</td> <th>  Jarque-Bera (JB):  </th> <td>  27.189</td>\n",
       "</tr>\n",
       "<tr>\n",
       "  <th>Skew:</th>          <td>-1.028</td> <th>  Prob(JB):          </th> <td>1.25e-06</td>\n",
       "</tr>\n",
       "<tr>\n",
       "  <th>Kurtosis:</th>      <td> 4.881</td> <th>  Cond. No.          </th> <td>3.35e+04</td>\n",
       "</tr>\n",
       "</table><br/><br/>Notes:<br/>[1] Standard Errors assume that the covariance matrix of the errors is correctly specified.<br/>[2] The condition number is large, 3.35e+04. This might indicate that there are<br/>strong multicollinearity or other numerical problems."
      ],
      "text/plain": [
       "<class 'statsmodels.iolib.summary.Summary'>\n",
       "\"\"\"\n",
       "                            OLS Regression Results                            \n",
       "==============================================================================\n",
       "Dep. Variable:                    GPA   R-squared:                       0.565\n",
       "Model:                            OLS   Adj. R-squared:                  0.555\n",
       "Method:                 Least Squares   F-statistic:                     52.70\n",
       "Date:                Wed, 28 Dec 2022   Prob (F-statistic):           2.19e-15\n",
       "Time:                        21:22:57   Log-Likelihood:                 25.798\n",
       "No. Observations:                  84   AIC:                            -45.60\n",
       "Df Residuals:                      81   BIC:                            -38.30\n",
       "Df Model:                           2                                         \n",
       "Covariance Type:            nonrobust                                         \n",
       "==============================================================================\n",
       "                 coef    std err          t      P>|t|      [0.025      0.975]\n",
       "------------------------------------------------------------------------------\n",
       "const          0.6439      0.358      1.797      0.076      -0.069       1.357\n",
       "SAT            0.0014      0.000      7.141      0.000       0.001       0.002\n",
       "Attendance     0.2226      0.041      5.451      0.000       0.141       0.304\n",
       "==============================================================================\n",
       "Omnibus:                       19.560   Durbin-Watson:                   1.009\n",
       "Prob(Omnibus):                  0.000   Jarque-Bera (JB):               27.189\n",
       "Skew:                          -1.028   Prob(JB):                     1.25e-06\n",
       "Kurtosis:                       4.881   Cond. No.                     3.35e+04\n",
       "==============================================================================\n",
       "\n",
       "Notes:\n",
       "[1] Standard Errors assume that the covariance matrix of the errors is correctly specified.\n",
       "[2] The condition number is large, 3.35e+04. This might indicate that there are\n",
       "strong multicollinearity or other numerical problems.\n",
       "\"\"\""
      ]
     },
     "execution_count": 17,
     "metadata": {},
     "output_type": "execute_result"
    }
   ],
   "source": [
    "y = data['GPA']\n",
    "x1 = data[['SAT', 'Attendance']]\n",
    "\n",
    "x = sm.add_constant(x1)\n",
    "results = sm.OLS(y, x).fit()\n",
    "results.summary()"
   ]
  },
  {
   "attachments": {},
   "cell_type": "markdown",
   "metadata": {},
   "source": [
    "* The result is the following.\n",
    "    * Our overall model is significant.\n",
    "        * ![Alt text](img/203.%20Dealing%20with%20Categorical%20Data%20-%20Dummy%20Variables2.jpg)\n",
    "    * The SAT score is significant and the dummy is significant.\n",
    "        * ![Alt text](img/203.%20Dealing%20with%20Categorical%20Data%20-%20Dummy%20Variables3.jpg)\n",
    "    * The adjusted R squared of this model is 0.555.\n",
    "        * ![Alt text](img/203.%20Dealing%20with%20Categorical%20Data%20-%20Dummy%20Variables4.jpg)\n",
    "\n",
    "* Which is a great improvement from what we got without attendance.\n",
    "    * ![Alt text](img/203.%20Dealing%20with%20Categorical%20Data%20-%20Dummy%20Variables5.jpg)\n",
    "* ![Alt text](img/203.%20Dealing%20with%20Categorical%20Data%20-%20Dummy%20Variables6.jpg)\n",
    "    * The original model without the dummy variable was, GPA equals 0.275, plus 0.0017 times the SAT score of a student. \n",
    "    * The model, including the dummy variable, is GPA equals 0.6439, plus 0.0014 times the SAT score of a student plus 0.226 times the dummy.\n",
    "    * We can represent this equation with two others:\n",
    "        * ![Alt text](img/203.%20Dealing%20with%20Categorical%20Data%20-%20Dummy%20Variables7.jpg)\n",
    "            * If the student did not attend, the dummy will be zero. So 0.2226 times zero is zero. The model becomes, GPA equals 0.6439 plus 0.0014 times SAT.\n",
    "            * If the student attended, the dummy will be one. So the model becomes GPA equals 0.6439 plus 0.0014 times SAT plus 0.2226. Let's add the intercept and the dummy together. We get GPA equals 0.8665 plus 0.0014 times SAT."
   ]
  },
  {
   "cell_type": "code",
   "execution_count": 18,
   "metadata": {},
   "outputs": [
    {
     "data": {
      "image/png": "[encoded data removed]",
      "text/plain": [
       "<Figure size 432x288 with 1 Axes>"
      ]
     },
     "metadata": {},
     "output_type": "display_data"
    }
   ],
   "source": [
    "# regression dummies\n",
    "\n",
    "plt.scatter(data['SAT'], y)\n",
    "yhat_no = 0.6439 + 0.0014*data['SAT']\n",
    "yhat_yes = 0.8665 + 0.0014*data['SAT']\n",
    "fig = plt.plot(data['SAT'], yhat_no, lw=2, c='red')\n",
    "fig = plt.plot(data['SAT'], yhat_yes, lw=2, c='blue')\n",
    "plt.xlabel('SAT', fontsize=20)\n",
    "plt.ylabel('GPA', fontsize=20)\n",
    "plt.show()\n",
    "\n",
    "# blue line = student attendance yes\n",
    "# red line = student attendance no"
   ]
  },
  {
   "attachments": {},
   "cell_type": "markdown",
   "metadata": {},
   "source": [
    "* So what we observe are two equations; that have the same slope, but have a different intercept.\n",
    "    * The students who attended are spread around the upper line. On average, their GPA (dummy coef) is 0.2226 higher than the GPA of students who did not attend.\n",
    "        * ![Alt text](img/203.%20Dealing%20with%20Categorical%20Data%20-%20Dummy%20Variables8.jpg)"
   ]
  },
  {
   "cell_type": "code",
   "execution_count": 19,
   "metadata": {},
   "outputs": [
    {
     "data": {
      "image/png": "[encoded data removed]",
      "text/plain": [
       "<Figure size 432x288 with 1 Axes>"
      ]
     },
     "metadata": {},
     "output_type": "display_data"
    }
   ],
   "source": [
    "# regression dummies + data color\n",
    "\n",
    "plt.scatter(data['SAT'], y, c=data['Attendance'], cmap='bwr_r')\n",
    "yhat_no = 0.6439 + 0.0014*data['SAT']\n",
    "yhat_yes = 0.8665 + 0.0014*data['SAT']\n",
    "fig = plt.plot(data['SAT'], yhat_no, lw=2, c='red')\n",
    "fig = plt.plot(data['SAT'], yhat_yes, lw=2, c='blue')\n",
    "plt.xlabel('SAT', fontsize=20)\n",
    "plt.ylabel('GPA', fontsize=20)\n",
    "plt.show()"
   ]
  },
  {
   "cell_type": "code",
   "execution_count": 20,
   "metadata": {},
   "outputs": [
    {
     "data": {
      "image/png": "[encoded data removed]",
      "text/plain": [
       "<Figure size 432x288 with 1 Axes>"
      ]
     },
     "metadata": {},
     "output_type": "display_data"
    }
   ],
   "source": [
    "# original + dummies\n",
    "\n",
    "plt.scatter(data['SAT'], y, c=data['Attendance'], cmap='bwr_r')\n",
    "yhat_no = 0.6439 + 0.0014*data['SAT']\n",
    "yhat_yes = 0.8665 + 0.0014*data['SAT']\n",
    "yhat = 0.0017*data['SAT'] + 0.275\n",
    "fig = plt.plot(data['SAT'], yhat_no, lw=2, c='red', label='regression line1')\n",
    "fig = plt.plot(data['SAT'], yhat_yes, lw=2, c='blue', label='regression line2')\n",
    "fig = plt.plot(data['SAT'], yhat, lw=3, c='orange', label='regression line')\n",
    "plt.xlabel('SAT', fontsize=20)\n",
    "plt.ylabel('GPA', fontsize=20)\n",
    "plt.show()"
   ]
  },
  {
   "attachments": {},
   "cell_type": "markdown",
   "metadata": {},
   "source": [
    "* ![Alt text](img/203.%20Dealing%20with%20Categorical%20Data%20-%20Dummy%20Variables9.jpg)\n",
    "    * To use this model for prediction purposes, we need two pieces of information, an SAT score, and whether a person attended more than 75% of their lectures."
   ]
  },
  {
   "attachments": {},
   "cell_type": "markdown",
   "metadata": {},
   "source": [
    "## 204. Dealing with Categorical Data - Dummy Variables Exercise"
   ]
  },
  {
   "attachments": {},
   "cell_type": "markdown",
   "metadata": {},
   "source": [
    "https://www.udemy.com/course/the-data-science-course-complete-data-science-bootcamp/learn/lecture/10888002#overview"
   ]
  },
  {
   "attachments": {},
   "cell_type": "markdown",
   "metadata": {},
   "source": [
    "## 205. Making Predictions with the Linear Regression"
   ]
  },
  {
   "attachments": {},
   "cell_type": "markdown",
   "metadata": {},
   "source": [
    "https://www.udemy.com/course/the-data-science-course-complete-data-science-bootcamp/learn/lecture/10777122#overview"
   ]
  },
  {
   "attachments": {},
   "cell_type": "markdown",
   "metadata": {},
   "source": [
    "* There's a stats model method which takes a data frame organized in a similar way to the one we use to fit the model and then makes predictions.\n",
    "    * We worked with a variable X for that regression."
   ]
  },
  {
   "attachments": {},
   "cell_type": "markdown",
   "metadata": {},
   "source": [
    "#### How to make predictions based on the regression we create on '203. Dealing with Categorical Data - Dummy Variables'"
   ]
  },
  {
   "attachments": {},
   "cell_type": "markdown",
   "metadata": {},
   "source": [
    "* 'x' is a data frame with three columns: a constant, SAT, and attendance. This constant was actually added with the add constant method we used prior to fitting the model. \n",
    "    * x = sm.add_constant(x1)\n",
    "* It is a simulation of x zero and contains only ones.\n",
    "    * yhat = b0 + b1x1\n",
    "    * yhat= b0 * 1 + b1x1"
   ]
  },
  {
   "cell_type": "code",
   "execution_count": 21,
   "metadata": {},
   "outputs": [
    {
     "data": {
      "text/html": [
       "<div>\n",
       "<style scoped>\n",
       "    .dataframe tbody tr th:only-of-type {\n",
       "        vertical-align: middle;\n",
       "    }\n",
       "\n",
       "    .dataframe tbody tr th {\n",
       "        vertical-align: top;\n",
       "    }\n",
       "\n",
       "    .dataframe thead th {\n",
       "        text-align: right;\n",
       "    }\n",
       "</style>\n",
       "<table border=\"1\" class=\"dataframe\">\n",
       "  <thead>\n",
       "    <tr style=\"text-align: right;\">\n",
       "      <th></th>\n",
       "      <th>const</th>\n",
       "      <th>SAT</th>\n",
       "      <th>Attendance</th>\n",
       "    </tr>\n",
       "  </thead>\n",
       "  <tbody>\n",
       "    <tr>\n",
       "      <th>0</th>\n",
       "      <td>1.0</td>\n",
       "      <td>1714</td>\n",
       "      <td>0</td>\n",
       "    </tr>\n",
       "    <tr>\n",
       "      <th>1</th>\n",
       "      <td>1.0</td>\n",
       "      <td>1664</td>\n",
       "      <td>0</td>\n",
       "    </tr>\n",
       "    <tr>\n",
       "      <th>2</th>\n",
       "      <td>1.0</td>\n",
       "      <td>1760</td>\n",
       "      <td>0</td>\n",
       "    </tr>\n",
       "    <tr>\n",
       "      <th>3</th>\n",
       "      <td>1.0</td>\n",
       "      <td>1685</td>\n",
       "      <td>0</td>\n",
       "    </tr>\n",
       "    <tr>\n",
       "      <th>4</th>\n",
       "      <td>1.0</td>\n",
       "      <td>1693</td>\n",
       "      <td>0</td>\n",
       "    </tr>\n",
       "    <tr>\n",
       "      <th>...</th>\n",
       "      <td>...</td>\n",
       "      <td>...</td>\n",
       "      <td>...</td>\n",
       "    </tr>\n",
       "    <tr>\n",
       "      <th>79</th>\n",
       "      <td>1.0</td>\n",
       "      <td>1936</td>\n",
       "      <td>1</td>\n",
       "    </tr>\n",
       "    <tr>\n",
       "      <th>80</th>\n",
       "      <td>1.0</td>\n",
       "      <td>1810</td>\n",
       "      <td>1</td>\n",
       "    </tr>\n",
       "    <tr>\n",
       "      <th>81</th>\n",
       "      <td>1.0</td>\n",
       "      <td>1987</td>\n",
       "      <td>0</td>\n",
       "    </tr>\n",
       "    <tr>\n",
       "      <th>82</th>\n",
       "      <td>1.0</td>\n",
       "      <td>1962</td>\n",
       "      <td>1</td>\n",
       "    </tr>\n",
       "    <tr>\n",
       "      <th>83</th>\n",
       "      <td>1.0</td>\n",
       "      <td>2050</td>\n",
       "      <td>1</td>\n",
       "    </tr>\n",
       "  </tbody>\n",
       "</table>\n",
       "<p>84 rows × 3 columns</p>\n",
       "</div>"
      ],
      "text/plain": [
       "    const   SAT  Attendance\n",
       "0     1.0  1714           0\n",
       "1     1.0  1664           0\n",
       "2     1.0  1760           0\n",
       "3     1.0  1685           0\n",
       "4     1.0  1693           0\n",
       "..    ...   ...         ...\n",
       "79    1.0  1936           1\n",
       "80    1.0  1810           1\n",
       "81    1.0  1987           0\n",
       "82    1.0  1962           1\n",
       "83    1.0  2050           1\n",
       "\n",
       "[84 rows x 3 columns]"
      ]
     },
     "execution_count": 21,
     "metadata": {},
     "output_type": "execute_result"
    }
   ],
   "source": [
    "x"
   ]
  },
  {
   "attachments": {},
   "cell_type": "markdown",
   "metadata": {},
   "source": [
    "* Let's create a data frame which we will use for predictions.\n",
    "    * We will organize it in the same way.\n",
    "    * It will have three columns: constant, SAT, and attendance.\n",
    "* We will check two students:\n",
    "    * ![Alt text](img/205.%20Making%20Predictions%20with%20the%20Linear%20Regression1.jpg)\n",
    "    * Bob, who got 1700 on the SAT and did not attend 75% of the lessons, and Alice who got 1670 on the SAT and attended more than 75% of the lectures.\n",
    "\n",
    "* STEP BY STEP\n",
    "    1. The new variable will be called new data. We want it to be a pandas data frame.\n",
    "        * The first column is called Const and is always one. \n",
    "        * The second column is SAT and has two entries, 1700 and 1670.\n",
    "        * The third column is called attendance and has two entries, zero and one. \n",
    "    2. Since data frames usually arrange columns in alphabetical order, I'll overwrite new data with new data but the columns will be in the order specified by me.\n",
    "    3. The appropriate method that allows us to predict the values is the fitted regression dot predict.\n",
    "        * The fitted regression for us is in the variable results.\n",
    "        * This method has a single argument, the new data. Therefore, I'll create a variable called predictions which will contain our predicted values.\n",
    "    4. Next is transform it into a data frame and join it with the first one.\n",
    "        * The predicted GPA at graduation for Bob is 3.02, while for Alice 3.20. \n",
    "        * Alice scored lower on her SAT but she attended more than 75% of her lectures and she is predicted to graduate with a significantly higher GPA than Bob.\n",
    "        * Had we used our previous model without the dummy variable we would've predicted that Bob would graduate with 3.17 and Alice with 3.12. We can easily see the difference in why exactly we needed the dummy variable."
   ]
  },
  {
   "cell_type": "code",
   "execution_count": 22,
   "metadata": {},
   "outputs": [
    {
     "data": {
      "text/html": [
       "<div>\n",
       "<style scoped>\n",
       "    .dataframe tbody tr th:only-of-type {\n",
       "        vertical-align: middle;\n",
       "    }\n",
       "\n",
       "    .dataframe tbody tr th {\n",
       "        vertical-align: top;\n",
       "    }\n",
       "\n",
       "    .dataframe thead th {\n",
       "        text-align: right;\n",
       "    }\n",
       "</style>\n",
       "<table border=\"1\" class=\"dataframe\">\n",
       "  <thead>\n",
       "    <tr style=\"text-align: right;\">\n",
       "      <th></th>\n",
       "      <th>const</th>\n",
       "      <th>SAT</th>\n",
       "      <th>Attendance</th>\n",
       "    </tr>\n",
       "  </thead>\n",
       "  <tbody>\n",
       "    <tr>\n",
       "      <th>0</th>\n",
       "      <td>1</td>\n",
       "      <td>1700</td>\n",
       "      <td>0</td>\n",
       "    </tr>\n",
       "    <tr>\n",
       "      <th>1</th>\n",
       "      <td>1</td>\n",
       "      <td>1670</td>\n",
       "      <td>1</td>\n",
       "    </tr>\n",
       "  </tbody>\n",
       "</table>\n",
       "</div>"
      ],
      "text/plain": [
       "   const   SAT  Attendance\n",
       "0      1  1700           0\n",
       "1      1  1670           1"
      ]
     },
     "execution_count": 22,
     "metadata": {},
     "output_type": "execute_result"
    }
   ],
   "source": [
    "# 1. Filtering only SAT 1700 and 1670\n",
    "\n",
    "new_data = pd.DataFrame({'const':1, 'SAT':[1700, 1670], 'Attendance':[0,1]})\n",
    "new_data = new_data[['const', 'SAT', 'Attendance']]\n",
    "new_data"
   ]
  },
  {
   "cell_type": "code",
   "execution_count": 23,
   "metadata": {},
   "outputs": [
    {
     "data": {
      "text/html": [
       "<div>\n",
       "<style scoped>\n",
       "    .dataframe tbody tr th:only-of-type {\n",
       "        vertical-align: middle;\n",
       "    }\n",
       "\n",
       "    .dataframe tbody tr th {\n",
       "        vertical-align: top;\n",
       "    }\n",
       "\n",
       "    .dataframe thead th {\n",
       "        text-align: right;\n",
       "    }\n",
       "</style>\n",
       "<table border=\"1\" class=\"dataframe\">\n",
       "  <thead>\n",
       "    <tr style=\"text-align: right;\">\n",
       "      <th></th>\n",
       "      <th>const</th>\n",
       "      <th>SAT</th>\n",
       "      <th>Attendance</th>\n",
       "    </tr>\n",
       "  </thead>\n",
       "  <tbody>\n",
       "    <tr>\n",
       "      <th>Bob</th>\n",
       "      <td>1</td>\n",
       "      <td>1700</td>\n",
       "      <td>0</td>\n",
       "    </tr>\n",
       "    <tr>\n",
       "      <th>Alice</th>\n",
       "      <td>1</td>\n",
       "      <td>1670</td>\n",
       "      <td>1</td>\n",
       "    </tr>\n",
       "  </tbody>\n",
       "</table>\n",
       "</div>"
      ],
      "text/plain": [
       "       const   SAT  Attendance\n",
       "Bob        1  1700           0\n",
       "Alice      1  1670           1"
      ]
     },
     "execution_count": 23,
     "metadata": {},
     "output_type": "execute_result"
    }
   ],
   "source": [
    "# 2. Transform 0 to 'Bob' and 1 to 'Alice'\n",
    "\n",
    "new_data.rename(index={0:'Bob', 1:'Alice'})"
   ]
  },
  {
   "cell_type": "code",
   "execution_count": 24,
   "metadata": {},
   "outputs": [
    {
     "data": {
      "text/plain": [
       "0    3.023513\n",
       "1    3.204163\n",
       "dtype: float64"
      ]
     },
     "execution_count": 24,
     "metadata": {},
     "output_type": "execute_result"
    }
   ],
   "source": [
    "# 3. fitted regression is in the variable results -> results = sm.OLS(y, x).fit()\n",
    "\n",
    "predictions = results.predict(new_data)\n",
    "predictions"
   ]
  },
  {
   "cell_type": "code",
   "execution_count": 25,
   "metadata": {},
   "outputs": [
    {
     "data": {
      "text/html": [
       "<div>\n",
       "<style scoped>\n",
       "    .dataframe tbody tr th:only-of-type {\n",
       "        vertical-align: middle;\n",
       "    }\n",
       "\n",
       "    .dataframe tbody tr th {\n",
       "        vertical-align: top;\n",
       "    }\n",
       "\n",
       "    .dataframe thead th {\n",
       "        text-align: right;\n",
       "    }\n",
       "</style>\n",
       "<table border=\"1\" class=\"dataframe\">\n",
       "  <thead>\n",
       "    <tr style=\"text-align: right;\">\n",
       "      <th></th>\n",
       "      <th>const</th>\n",
       "      <th>SAT</th>\n",
       "      <th>Attendance</th>\n",
       "      <th>predictions</th>\n",
       "    </tr>\n",
       "  </thead>\n",
       "  <tbody>\n",
       "    <tr>\n",
       "      <th>Bob</th>\n",
       "      <td>1</td>\n",
       "      <td>1700</td>\n",
       "      <td>0</td>\n",
       "      <td>3.023513</td>\n",
       "    </tr>\n",
       "    <tr>\n",
       "      <th>Alice</th>\n",
       "      <td>1</td>\n",
       "      <td>1670</td>\n",
       "      <td>1</td>\n",
       "      <td>3.204163</td>\n",
       "    </tr>\n",
       "  </tbody>\n",
       "</table>\n",
       "</div>"
      ],
      "text/plain": [
       "       const   SAT  Attendance  predictions\n",
       "Bob        1  1700           0     3.023513\n",
       "Alice      1  1670           1     3.204163"
      ]
     },
     "execution_count": 25,
     "metadata": {},
     "output_type": "execute_result"
    }
   ],
   "source": [
    "# 4. Transform it into data frame and join with the first one\n",
    "\n",
    "predictions_df = pd.DataFrame({'predictions':predictions})\n",
    "joined = new_data.join(predictions_df)\n",
    "joined.rename(index={0:'Bob', 1:'Alice'})"
   ]
  },
  {
   "attachments": {},
   "cell_type": "markdown",
   "metadata": {},
   "source": [
    "# **Section 34: Advanced Statistical Methods - Linear Regression with sklearn**"
   ]
  },
  {
   "attachments": {},
   "cell_type": "markdown",
   "metadata": {},
   "source": [
    "## 206. What is sklearn and How is it Different from Other Packages"
   ]
  },
  {
   "attachments": {},
   "cell_type": "markdown",
   "metadata": {},
   "source": [
    "https://www.udemy.com/course/the-data-science-course-complete-data-science-bootcamp/learn/lecture/14390298#content"
   ]
  },
  {
   "attachments": {},
   "cell_type": "markdown",
   "metadata": {},
   "source": [
    "* Scikit-learn, now better known as SKLearn, is a machine learning package for Python.\n",
    "* It's name arguably comes from SciPy Toolkit, meaning in addition on top of the popular package SciPy. \n",
    "* In fact, SKLearn is built on NumPy, SciPy, and matplotlib.\n",
    "* ![Alt text](img/206.%20What%20is%20sklearn%20and%20How%20is%20it%20Different%20from%20Other%20Packages1.jpg)\n",
    "    * SKLearn is very fast and efficient,\n",
    "    * it often prefers working with arrays.\n",
    "* ![Alt text](img/206.%20What%20is%20sklearn%20and%20How%20is%20it%20Different%20from%20Other%20Packages2.jpg)\n",
    "    * So far, we've worked mainly with Panda's data frames because of stats models. \n",
    "    * Now, however, even if we pre-process data in Pandas, we may need to transform it into an ndarray before feeding it to the algorithm.\n",
    "* Major advantages of SKLearn\n",
    "    * ![Alt text](img/206.%20What%20is%20sklearn%20and%20How%20is%20it%20Different%20from%20Other%20Packages3.jpg)\n",
    "    * First, it boasts incredible documentation. Whatever doubts you may have about how it works, SKLearn has it on its website, usually with example applications.\n",
    "    * Second, its variety. In terms of machine learning, SKLearn is definitely the leading package right now. Regression, classification, clustering, support vector machines, dimensionality reduction, everything is there. \n",
    "        * The only weak spot in its range is deep learning. TensorFlow, Keras, and PyTorch are much better alternatives in that case.\n",
    "    * Finally, SKLearn is famously numerically stable. The basic idea is that training an algorithm is about performing complicated mathematical operations in the background. When the numbers you are dealing with are too small or too big, your code may break, not because of your programming skills but because the library you are using has some minor inefficiencies, which may turn into big problems. SKLearn rarely has those, and the community actively contributes to the package whenever an issue arises."
   ]
  },
  {
   "attachments": {},
   "cell_type": "markdown",
   "metadata": {},
   "source": [
    "## 207. How are we Going to Approach this Section?"
   ]
  },
  {
   "attachments": {},
   "cell_type": "markdown",
   "metadata": {},
   "source": [
    "https://www.udemy.com/course/the-data-science-course-complete-data-science-bootcamp/learn/lecture/14390320#overview"
   ]
  },
  {
   "attachments": {},
   "cell_type": "markdown",
   "metadata": {},
   "source": [
    "* The advanced statistical methods we are covering in these lectures linear and logistic regressions, often fall under the term machine learning according to numerous sources before was traditional statistical methods (manual calculation), and you may feel free to refer to them as machine learning (ML).\n",
    "    * ![Alt text](img/207.%20How%20are%20we%20Going%20to%20Approach%20this%20Section1.jpg)\n",
    "\n",
    "* Statsmodels is a great library for learning purposes, but in practice **sklearn** is the preferred choice of most professionals.\n",
    "    * ![Alt text](img/207.%20How%20are%20we%20Going%20to%20Approach%20this%20Section2.jpg)"
   ]
  },
  {
   "attachments": {},
   "cell_type": "markdown",
   "metadata": {},
   "source": [
    "## 208. Simple Linear Regression with sklearn"
   ]
  },
  {
   "attachments": {},
   "cell_type": "markdown",
   "metadata": {},
   "source": [
    "https://www.udemy.com/course/the-data-science-course-complete-data-science-bootcamp/learn/lecture/14390322#overview"
   ]
  },
  {
   "attachments": {},
   "cell_type": "markdown",
   "metadata": {},
   "source": [
    "#### Import the relevant libraries"
   ]
  },
  {
   "cell_type": "code",
   "execution_count": 26,
   "metadata": {},
   "outputs": [],
   "source": [
    "import numpy as np\n",
    "import pandas as pd\n",
    "import matplotlib.pyplot as plt\n",
    "import seaborn as sns\n",
    "sns.set()\n",
    "\n",
    "from sklearn.linear_model import LinearRegression"
   ]
  },
  {
   "attachments": {},
   "cell_type": "markdown",
   "metadata": {},
   "source": [
    "#### Load the Data"
   ]
  },
  {
   "cell_type": "code",
   "execution_count": 27,
   "metadata": {},
   "outputs": [
    {
     "data": {
      "text/html": [
       "<div>\n",
       "<style scoped>\n",
       "    .dataframe tbody tr th:only-of-type {\n",
       "        vertical-align: middle;\n",
       "    }\n",
       "\n",
       "    .dataframe tbody tr th {\n",
       "        vertical-align: top;\n",
       "    }\n",
       "\n",
       "    .dataframe thead th {\n",
       "        text-align: right;\n",
       "    }\n",
       "</style>\n",
       "<table border=\"1\" class=\"dataframe\">\n",
       "  <thead>\n",
       "    <tr style=\"text-align: right;\">\n",
       "      <th></th>\n",
       "      <th>SAT</th>\n",
       "      <th>GPA</th>\n",
       "    </tr>\n",
       "  </thead>\n",
       "  <tbody>\n",
       "    <tr>\n",
       "      <th>0</th>\n",
       "      <td>1714</td>\n",
       "      <td>2.40</td>\n",
       "    </tr>\n",
       "    <tr>\n",
       "      <th>1</th>\n",
       "      <td>1664</td>\n",
       "      <td>2.52</td>\n",
       "    </tr>\n",
       "    <tr>\n",
       "      <th>2</th>\n",
       "      <td>1760</td>\n",
       "      <td>2.54</td>\n",
       "    </tr>\n",
       "    <tr>\n",
       "      <th>3</th>\n",
       "      <td>1685</td>\n",
       "      <td>2.74</td>\n",
       "    </tr>\n",
       "    <tr>\n",
       "      <th>4</th>\n",
       "      <td>1693</td>\n",
       "      <td>2.83</td>\n",
       "    </tr>\n",
       "  </tbody>\n",
       "</table>\n",
       "</div>"
      ],
      "text/plain": [
       "    SAT   GPA\n",
       "0  1714  2.40\n",
       "1  1664  2.52\n",
       "2  1760  2.54\n",
       "3  1685  2.74\n",
       "4  1693  2.83"
      ]
     },
     "execution_count": 27,
     "metadata": {},
     "output_type": "execute_result"
    }
   ],
   "source": [
    "data = pd.read_csv('csv/1.01. Simple linear regression.csv')\n",
    "\n",
    "# summary the first 5 column\n",
    "data.head()"
   ]
  },
  {
   "attachments": {},
   "cell_type": "markdown",
   "metadata": {},
   "source": [
    "#### Create the Regression and Declare the dependent and Independent variables"
   ]
  },
  {
   "attachments": {},
   "cell_type": "markdown",
   "metadata": {},
   "source": [
    "* Predicting college GPA using single feature, the SAT score.\n",
    "        * Since the word variable has several meanings, on machine learning we use the word feature instead.\n",
    "\n",
    "* There are three types of machine learning:\n",
    "    * supervised, \n",
    "    * unsupervised, and \n",
    "    * reinforcement.\n",
    "\n",
    "* For now, it is important to know that we've only seen supervised learning. In supervised learning, we've got inputs and targets. \n",
    "    * ![Alt text](img/208.%20Simple%20Linear%20Regression%20with%20sklearn1.jpg)\n",
    "        * The inputs are the features we use to predict an outcome, in our case, the SAT score.\n",
    "        * The targets are the correct values we are aiming for, in our case, the GPA.\n",
    "        * Usually the targets are historical values that correspond to a given SAT score. \n",
    "        * In fact, our machine learning algorithm will find the optimal coefficients of a linear regression model, that when given an SAT score, best predict the GPA of a student."
   ]
  },
  {
   "cell_type": "code",
   "execution_count": 28,
   "metadata": {},
   "outputs": [],
   "source": [
    "#feature/input\n",
    "x = data['SAT'] \n",
    "\n",
    "#target/output\n",
    "y = data['GPA'] "
   ]
  },
  {
   "cell_type": "code",
   "execution_count": 29,
   "metadata": {},
   "outputs": [
    {
     "data": {
      "text/plain": [
       "(84,)"
      ]
     },
     "execution_count": 29,
     "metadata": {},
     "output_type": "execute_result"
    }
   ],
   "source": [
    "#checking shapes input\n",
    "x.shape "
   ]
  },
  {
   "cell_type": "code",
   "execution_count": 30,
   "metadata": {},
   "outputs": [
    {
     "data": {
      "text/plain": [
       "(84,)"
      ]
     },
     "execution_count": 30,
     "metadata": {},
     "output_type": "execute_result"
    }
   ],
   "source": [
    "#checking shapes target\n",
    "y.shape "
   ]
  },
  {
   "attachments": {},
   "cell_type": "markdown",
   "metadata": {},
   "source": [
    "#### Regression"
   ]
  },
  {
   "attachments": {},
   "cell_type": "markdown",
   "metadata": {},
   "source": [
    "* They are both vectors of length 84.\n",
    "* We can proceed to feeding them to sklearn algorithm. Sklearn takes full advantage of the object-oriented capabilities of Python and works a lot with very well written classes. More often than not, we would need to create an object or an instance of the given class."
   ]
  },
  {
   "cell_type": "code",
   "execution_count": 31,
   "metadata": {},
   "outputs": [],
   "source": [
    "#After executing this line, reg, will be an instance of the linear regression class.\n",
    "reg = LinearRegression()"
   ]
  },
  {
   "cell_type": "code",
   "execution_count": 32,
   "metadata": {},
   "outputs": [],
   "source": [
    "# Afterwards, all we need to do is fit the regression.\n",
    "# Order is very important because sklearn has a different order than stats models.\n",
    "# x = input\n",
    "# y = target\n",
    "\n",
    "# reg.fit(x, y) <- this code"
   ]
  },
  {
   "attachments": {},
   "cell_type": "markdown",
   "metadata": {},
   "source": [
    "* Above Code will got error because 'x' is single array and SKlearn expected it for 2D array, but got 1D array instead.\n",
    "* Basically, our inputs are a one dimensional object, which sklearn does not fancy.\n",
    "* What we must do is reshape it into a matrix. Recall that that's achieved through the reshape method.\n",
    "    * ![Alt text](img/208.%20Simple%20Linear%20Regression%20with%20sklearn2.jpg)\n",
    "\n",
    "* Note that this is an issue only for a simple linear regression. If we had more than one feature, we would not have this complication. The assumption the developers had is that normally, sklearn expects dozens of features."
   ]
  },
  {
   "cell_type": "code",
   "execution_count": 33,
   "metadata": {},
   "outputs": [
    {
     "data": {
      "text/plain": [
       "(84, 1)"
      ]
     },
     "execution_count": 33,
     "metadata": {},
     "output_type": "execute_result"
    }
   ],
   "source": [
    "x_matrix = x.values.reshape(-1,1)\n",
    "x_matrix.shape"
   ]
  },
  {
   "cell_type": "code",
   "execution_count": 34,
   "metadata": {},
   "outputs": [
    {
     "data": {
      "text/html": [
       "<style>#sk-container-id-1 {color: black;background-color: white;}#sk-container-id-1 pre{padding: 0;}#sk-container-id-1 div.sk-toggleable {background-color: white;}#sk-container-id-1 label.sk-toggleable__label {cursor: pointer;display: block;width: 100%;margin-bottom: 0;padding: 0.3em;box-sizing: border-box;text-align: center;}#sk-container-id-1 label.sk-toggleable__label-arrow:before {content: \"▸\";float: left;margin-right: 0.25em;color: #696969;}#sk-container-id-1 label.sk-toggleable__label-arrow:hover:before {color: black;}#sk-container-id-1 div.sk-estimator:hover label.sk-toggleable__label-arrow:before {color: black;}#sk-container-id-1 div.sk-toggleable__content {max-height: 0;max-width: 0;overflow: hidden;text-align: left;background-color: #f0f8ff;}#sk-container-id-1 div.sk-toggleable__content pre {margin: 0.2em;color: black;border-radius: 0.25em;background-color: #f0f8ff;}#sk-container-id-1 input.sk-toggleable__control:checked~div.sk-toggleable__content {max-height: 200px;max-width: 100%;overflow: auto;}#sk-container-id-1 input.sk-toggleable__control:checked~label.sk-toggleable__label-arrow:before {content: \"▾\";}#sk-container-id-1 div.sk-estimator input.sk-toggleable__control:checked~label.sk-toggleable__label {background-color: #d4ebff;}#sk-container-id-1 div.sk-label input.sk-toggleable__control:checked~label.sk-toggleable__label {background-color: #d4ebff;}#sk-container-id-1 input.sk-hidden--visually {border: 0;clip: rect(1px 1px 1px 1px);clip: rect(1px, 1px, 1px, 1px);height: 1px;margin: -1px;overflow: hidden;padding: 0;position: absolute;width: 1px;}#sk-container-id-1 div.sk-estimator {font-family: monospace;background-color: #f0f8ff;border: 1px dotted black;border-radius: 0.25em;box-sizing: border-box;margin-bottom: 0.5em;}#sk-container-id-1 div.sk-estimator:hover {background-color: #d4ebff;}#sk-container-id-1 div.sk-parallel-item::after {content: \"\";width: 100%;border-bottom: 1px solid gray;flex-grow: 1;}#sk-container-id-1 div.sk-label:hover label.sk-toggleable__label {background-color: #d4ebff;}#sk-container-id-1 div.sk-serial::before {content: \"\";position: absolute;border-left: 1px solid gray;box-sizing: border-box;top: 0;bottom: 0;left: 50%;z-index: 0;}#sk-container-id-1 div.sk-serial {display: flex;flex-direction: column;align-items: center;background-color: white;padding-right: 0.2em;padding-left: 0.2em;position: relative;}#sk-container-id-1 div.sk-item {position: relative;z-index: 1;}#sk-container-id-1 div.sk-parallel {display: flex;align-items: stretch;justify-content: center;background-color: white;position: relative;}#sk-container-id-1 div.sk-item::before, #sk-container-id-1 div.sk-parallel-item::before {content: \"\";position: absolute;border-left: 1px solid gray;box-sizing: border-box;top: 0;bottom: 0;left: 50%;z-index: -1;}#sk-container-id-1 div.sk-parallel-item {display: flex;flex-direction: column;z-index: 1;position: relative;background-color: white;}#sk-container-id-1 div.sk-parallel-item:first-child::after {align-self: flex-end;width: 50%;}#sk-container-id-1 div.sk-parallel-item:last-child::after {align-self: flex-start;width: 50%;}#sk-container-id-1 div.sk-parallel-item:only-child::after {width: 0;}#sk-container-id-1 div.sk-dashed-wrapped {border: 1px dashed gray;margin: 0 0.4em 0.5em 0.4em;box-sizing: border-box;padding-bottom: 0.4em;background-color: white;}#sk-container-id-1 div.sk-label label {font-family: monospace;font-weight: bold;display: inline-block;line-height: 1.2em;}#sk-container-id-1 div.sk-label-container {text-align: center;}#sk-container-id-1 div.sk-container {/* jupyter's `normalize.less` sets `[hidden] { display: none; }` but bootstrap.min.css set `[hidden] { display: none !important; }` so we also need the `!important` here to be able to override the default hidden behavior on the sphinx rendered scikit-learn.org. See: https://github.com/scikit-learn/scikit-learn/issues/21755 */display: inline-block !important;position: relative;}#sk-container-id-1 div.sk-text-repr-fallback {display: none;}</style><div id=\"sk-container-id-1\" class=\"sk-top-container\"><div class=\"sk-text-repr-fallback\"><pre>LinearRegression()</pre><b>In a Jupyter environment, please rerun this cell to show the HTML representation or trust the notebook. <br />On GitHub, the HTML representation is unable to render, please try loading this page with nbviewer.org.</b></div><div class=\"sk-container\" hidden><div class=\"sk-item\"><div class=\"sk-estimator sk-toggleable\"><input class=\"sk-toggleable__control sk-hidden--visually\" id=\"sk-estimator-id-1\" type=\"checkbox\" checked><label for=\"sk-estimator-id-1\" class=\"sk-toggleable__label sk-toggleable__label-arrow\">LinearRegression</label><div class=\"sk-toggleable__content\"><pre>LinearRegression()</pre></div></div></div></div></div>"
      ],
      "text/plain": [
       "LinearRegression()"
      ]
     },
     "execution_count": 34,
     "metadata": {},
     "output_type": "execute_result"
    }
   ],
   "source": [
    "# Rerun the code again with x_matrix\n",
    "\n",
    "reg.fit(x_matrix, y)"
   ]
  },
  {
   "cell_type": "code",
   "execution_count": 35,
   "metadata": {},
   "outputs": [
    {
     "data": {
      "text/plain": [
       "{'copy_X': True, 'fit_intercept': True, 'n_jobs': None, 'positive': False}"
      ]
     },
     "execution_count": 35,
     "metadata": {},
     "output_type": "execute_result"
    }
   ],
   "source": [
    "# new version of the sklearn library not showing parameter value anymore, \n",
    "# so we add .get_params() method to check all parameter value\n",
    "reg.fit(x_matrix, y).get_params()"
   ]
  },
  {
   "attachments": {},
   "cell_type": "markdown",
   "metadata": {},
   "source": [
    "## 209. Simple Linear Regression with sklearn - A StatsModels-like Summary Table"
   ]
  },
  {
   "attachments": {},
   "cell_type": "markdown",
   "metadata": {},
   "source": [
    "https://www.udemy.com/course/the-data-science-course-complete-data-science-bootcamp/learn/lecture/14390338#overview"
   ]
  },
  {
   "attachments": {},
   "cell_type": "markdown",
   "metadata": {},
   "source": [
    "* All of the parameters you see take the default value set by the module.\n",
    "    * New version of scikit-learn the output is:\n",
    "        * ![Alt text](img/209.%20Simple%20Linear%20Regression%20with%20sklearn%20-%20A%20StatsModels-like%20Summary%20Table0b.jpg)\n",
    "        \n",
    "    * This lecture using scikit-learn older version so the output is :\n",
    "        * ![Alt text](img/209.%20Simple%20Linear%20Regression%20with%20sklearn%20-%20A%20StatsModels-like%20Summary%20Table0a.jpg)\n",
    "    \n",
    "        \n",
    "    * normalize\n",
    "        * ![Alt text](img/209.%20Simple%20Linear%20Regression%20with%20sklearn%20-%20A%20StatsModels-like%20Summary%20Table1.jpg)\n",
    "            * Standardization was the process of subtracting the mean and dividing by the standard deviation.\n",
    "            * normalization means we subtract the mean.\n",
    "    * Copy_X\n",
    "        * When set to True, it copies the inputs before fitting them.\n",
    "        * This is a safety net against normalization and other transformations that can be done by SK Learn while creating an algorithm.\n",
    "    * fit_intercept\n",
    "        * ![Alt text](img/209.%20Simple%20Linear%20Regression%20with%20sklearn%20-%20A%20StatsModels-like%20Summary%20Table2.jpg)\n",
    "            * fit intercept which equals true in stats models, we had to manually add a constant.\n",
    "            * The fit intercept parameter takes care precisely of that. If you don't want an intercept you can just set it to false.\n",
    "    * n_job\n",
    "        * ![Alt text](img/209.%20Simple%20Linear%20Regression%20with%20sklearn%20-%20A%20StatsModels-like%20Summary%20Table3.jpg)\n",
    "            * end jobs is a parameter used when we want to parallelize routines. \n",
    "            * By default, only one CPU is used.\n",
    "                * if you work on problems with lots and lots of data and have more than one CPU available, you can take advantage of this parameter by setting it to 2, 3, 5, and so on."
   ]
  },
  {
   "attachments": {},
   "cell_type": "markdown",
   "metadata": {},
   "source": [
    "#### R-Squared"
   ]
  },
  {
   "cell_type": "code",
   "execution_count": 36,
   "metadata": {},
   "outputs": [
    {
     "data": {
      "text/plain": [
       "0.40600391479679765"
      ]
     },
     "execution_count": 36,
     "metadata": {},
     "output_type": "execute_result"
    }
   ],
   "source": [
    "# reg.score(x,y) returns the R-Squared of a linear regression\n",
    "\n",
    "reg.score(x_matrix, y)"
   ]
  },
  {
   "attachments": {},
   "cell_type": "markdown",
   "metadata": {},
   "source": [
    "* The result is 0.406, exactly the same as the one we found with stats models.\n",
    "    * ![Alt text](img/209.%20Simple%20Linear%20Regression%20with%20sklearn%20-%20A%20StatsModels-like%20Summary%20Table4.jpg)\n",
    "    * That's because this type of regression always has a single intercept. So both coeff and intercept value is the same (see below)"
   ]
  },
  {
   "attachments": {},
   "cell_type": "markdown",
   "metadata": {},
   "source": [
    "#### Coeffiecients"
   ]
  },
  {
   "cell_type": "code",
   "execution_count": 37,
   "metadata": {},
   "outputs": [
    {
     "data": {
      "text/plain": [
       "array([0.00165569])"
      ]
     },
     "execution_count": 37,
     "metadata": {},
     "output_type": "execute_result"
    }
   ],
   "source": [
    "reg.coef_\n",
    "\n",
    "# the result same with SAT coef 0.0017 (see above table)"
   ]
  },
  {
   "attachments": {},
   "cell_type": "markdown",
   "metadata": {},
   "source": [
    "#### Intercept"
   ]
  },
  {
   "cell_type": "code",
   "execution_count": 38,
   "metadata": {},
   "outputs": [
    {
     "data": {
      "text/plain": [
       "0.27504029966028076"
      ]
     },
     "execution_count": 38,
     "metadata": {},
     "output_type": "execute_result"
    }
   ],
   "source": [
    "reg.intercept_\n",
    "\n",
    "# the result same with const coef 0.2750 (see above table)"
   ]
  },
  {
   "attachments": {},
   "cell_type": "markdown",
   "metadata": {},
   "source": [
    "#### Making Predictions"
   ]
  },
  {
   "cell_type": "code",
   "execution_count": 39,
   "metadata": {},
   "outputs": [
    {
     "ename": "ValueError",
     "evalue": "Expected 2D array, got scalar array instead:\narray=1740.\nReshape your data either using array.reshape(-1, 1) if your data has a single feature or array.reshape(1, -1) if it contains a single sample.",
     "output_type": "error",
     "traceback": [
      "\u001b[1;31m---------------------------------------------------------------------------\u001b[0m",
      "\u001b[1;31mValueError\u001b[0m                                Traceback (most recent call last)",
      "\u001b[1;32md:\\Project\\Mrchmdani\\MyLearning\\Udemy\\The Data Science Course 2022 - Complete Data Science Bootcamp\\Udemy - Complete Data Science Bootcamp - Part5 - Advanced Statistical Methods in Pthon.ipynb Cell 209\u001b[0m in \u001b[0;36m<module>\u001b[1;34m\u001b[0m\n\u001b[0;32m      <a href='vscode-notebook-cell:/d%3A/Project/Mrchmdani/MyLearning/Udemy/The%20Data%20Science%20Course%202022%20-%20Complete%20Data%20Science%20Bootcamp/Udemy%20-%20Complete%20Data%20Science%20Bootcamp%20-%20Part5%20-%20Advanced%20Statistical%20Methods%20in%20Pthon.ipynb#Y415sZmlsZQ%3D%3D?line=0'>1</a>\u001b[0m \u001b[39m# Predict takes us arguments, the inputs we wanna predict and outputs the predictions according to the model.\u001b[39;00m\n\u001b[1;32m----> <a href='vscode-notebook-cell:/d%3A/Project/Mrchmdani/MyLearning/Udemy/The%20Data%20Science%20Course%202022%20-%20Complete%20Data%20Science%20Bootcamp/Udemy%20-%20Complete%20Data%20Science%20Bootcamp%20-%20Part5%20-%20Advanced%20Statistical%20Methods%20in%20Pthon.ipynb#Y415sZmlsZQ%3D%3D?line=2'>3</a>\u001b[0m reg\u001b[39m.\u001b[39;49mpredict(\u001b[39m1740\u001b[39;49m)\n",
      "File \u001b[1;32m~\\AppData\\Local\\Packages\\PythonSoftwareFoundation.Python.3.9_qbz5n2kfra8p0\\LocalCache\\local-packages\\Python39\\site-packages\\sklearn\\linear_model\\_base.py:355\u001b[0m, in \u001b[0;36mLinearModel.predict\u001b[1;34m(self, X)\u001b[0m\n\u001b[0;32m    341\u001b[0m \u001b[39mdef\u001b[39;00m \u001b[39mpredict\u001b[39m(\u001b[39mself\u001b[39m, X):\n\u001b[0;32m    342\u001b[0m     \u001b[39m\"\"\"\u001b[39;00m\n\u001b[0;32m    343\u001b[0m \u001b[39m    Predict using the linear model.\u001b[39;00m\n\u001b[0;32m    344\u001b[0m \n\u001b[1;32m   (...)\u001b[0m\n\u001b[0;32m    353\u001b[0m \u001b[39m        Returns predicted values.\u001b[39;00m\n\u001b[0;32m    354\u001b[0m \u001b[39m    \"\"\"\u001b[39;00m\n\u001b[1;32m--> 355\u001b[0m     \u001b[39mreturn\u001b[39;00m \u001b[39mself\u001b[39;49m\u001b[39m.\u001b[39;49m_decision_function(X)\n",
      "File \u001b[1;32m~\\AppData\\Local\\Packages\\PythonSoftwareFoundation.Python.3.9_qbz5n2kfra8p0\\LocalCache\\local-packages\\Python39\\site-packages\\sklearn\\linear_model\\_base.py:338\u001b[0m, in \u001b[0;36mLinearModel._decision_function\u001b[1;34m(self, X)\u001b[0m\n\u001b[0;32m    335\u001b[0m \u001b[39mdef\u001b[39;00m \u001b[39m_decision_function\u001b[39m(\u001b[39mself\u001b[39m, X):\n\u001b[0;32m    336\u001b[0m     check_is_fitted(\u001b[39mself\u001b[39m)\n\u001b[1;32m--> 338\u001b[0m     X \u001b[39m=\u001b[39m \u001b[39mself\u001b[39;49m\u001b[39m.\u001b[39;49m_validate_data(X, accept_sparse\u001b[39m=\u001b[39;49m[\u001b[39m\"\u001b[39;49m\u001b[39mcsr\u001b[39;49m\u001b[39m\"\u001b[39;49m, \u001b[39m\"\u001b[39;49m\u001b[39mcsc\u001b[39;49m\u001b[39m\"\u001b[39;49m, \u001b[39m\"\u001b[39;49m\u001b[39mcoo\u001b[39;49m\u001b[39m\"\u001b[39;49m], reset\u001b[39m=\u001b[39;49m\u001b[39mFalse\u001b[39;49;00m)\n\u001b[0;32m    339\u001b[0m     \u001b[39mreturn\u001b[39;00m safe_sparse_dot(X, \u001b[39mself\u001b[39m\u001b[39m.\u001b[39mcoef_\u001b[39m.\u001b[39mT, dense_output\u001b[39m=\u001b[39m\u001b[39mTrue\u001b[39;00m) \u001b[39m+\u001b[39m \u001b[39mself\u001b[39m\u001b[39m.\u001b[39mintercept_\n",
      "File \u001b[1;32m~\\AppData\\Local\\Packages\\PythonSoftwareFoundation.Python.3.9_qbz5n2kfra8p0\\LocalCache\\local-packages\\Python39\\site-packages\\sklearn\\base.py:535\u001b[0m, in \u001b[0;36mBaseEstimator._validate_data\u001b[1;34m(self, X, y, reset, validate_separately, **check_params)\u001b[0m\n\u001b[0;32m    533\u001b[0m     \u001b[39mraise\u001b[39;00m \u001b[39mValueError\u001b[39;00m(\u001b[39m\"\u001b[39m\u001b[39mValidation should be done on X, y or both.\u001b[39m\u001b[39m\"\u001b[39m)\n\u001b[0;32m    534\u001b[0m \u001b[39melif\u001b[39;00m \u001b[39mnot\u001b[39;00m no_val_X \u001b[39mand\u001b[39;00m no_val_y:\n\u001b[1;32m--> 535\u001b[0m     X \u001b[39m=\u001b[39m check_array(X, input_name\u001b[39m=\u001b[39m\u001b[39m\"\u001b[39m\u001b[39mX\u001b[39m\u001b[39m\"\u001b[39m, \u001b[39m*\u001b[39m\u001b[39m*\u001b[39mcheck_params)\n\u001b[0;32m    536\u001b[0m     out \u001b[39m=\u001b[39m X\n\u001b[0;32m    537\u001b[0m \u001b[39melif\u001b[39;00m no_val_X \u001b[39mand\u001b[39;00m \u001b[39mnot\u001b[39;00m no_val_y:\n",
      "File \u001b[1;32m~\\AppData\\Local\\Packages\\PythonSoftwareFoundation.Python.3.9_qbz5n2kfra8p0\\LocalCache\\local-packages\\Python39\\site-packages\\sklearn\\utils\\validation.py:892\u001b[0m, in \u001b[0;36mcheck_array\u001b[1;34m(array, accept_sparse, accept_large_sparse, dtype, order, copy, force_all_finite, ensure_2d, allow_nd, ensure_min_samples, ensure_min_features, estimator, input_name)\u001b[0m\n\u001b[0;32m    889\u001b[0m \u001b[39mif\u001b[39;00m ensure_2d:\n\u001b[0;32m    890\u001b[0m     \u001b[39m# If input is scalar raise error\u001b[39;00m\n\u001b[0;32m    891\u001b[0m     \u001b[39mif\u001b[39;00m array\u001b[39m.\u001b[39mndim \u001b[39m==\u001b[39m \u001b[39m0\u001b[39m:\n\u001b[1;32m--> 892\u001b[0m         \u001b[39mraise\u001b[39;00m \u001b[39mValueError\u001b[39;00m(\n\u001b[0;32m    893\u001b[0m             \u001b[39m\"\u001b[39m\u001b[39mExpected 2D array, got scalar array instead:\u001b[39m\u001b[39m\\n\u001b[39;00m\u001b[39marray=\u001b[39m\u001b[39m{}\u001b[39;00m\u001b[39m.\u001b[39m\u001b[39m\\n\u001b[39;00m\u001b[39m\"\u001b[39m\n\u001b[0;32m    894\u001b[0m             \u001b[39m\"\u001b[39m\u001b[39mReshape your data either using array.reshape(-1, 1) if \u001b[39m\u001b[39m\"\u001b[39m\n\u001b[0;32m    895\u001b[0m             \u001b[39m\"\u001b[39m\u001b[39myour data has a single feature or array.reshape(1, -1) \u001b[39m\u001b[39m\"\u001b[39m\n\u001b[0;32m    896\u001b[0m             \u001b[39m\"\u001b[39m\u001b[39mif it contains a single sample.\u001b[39m\u001b[39m\"\u001b[39m\u001b[39m.\u001b[39mformat(array)\n\u001b[0;32m    897\u001b[0m         )\n\u001b[0;32m    898\u001b[0m     \u001b[39m# If input is 1D raise error\u001b[39;00m\n\u001b[0;32m    899\u001b[0m     \u001b[39mif\u001b[39;00m array\u001b[39m.\u001b[39mndim \u001b[39m==\u001b[39m \u001b[39m1\u001b[39m:\n",
      "\u001b[1;31mValueError\u001b[0m: Expected 2D array, got scalar array instead:\narray=1740.\nReshape your data either using array.reshape(-1, 1) if your data has a single feature or array.reshape(1, -1) if it contains a single sample."
     ]
    }
   ],
   "source": [
    "# Predict takes us arguments, the inputs we wanna predict and outputs the predictions according to the model.\n",
    "\n",
    "reg.predict(1740)\n",
    "\n",
    "# still don't get it how to fixes this\n",
    "# don't know where to reshape the value to 2D array\n",
    "# i download .ipynb from the lecture, but when i running the code still got problem with new scikitlearn"
   ]
  },
  {
   "cell_type": "code",
   "execution_count": 40,
   "metadata": {},
   "outputs": [
    {
     "data": {
      "text/html": [
       "<div>\n",
       "<style scoped>\n",
       "    .dataframe tbody tr th:only-of-type {\n",
       "        vertical-align: middle;\n",
       "    }\n",
       "\n",
       "    .dataframe tbody tr th {\n",
       "        vertical-align: top;\n",
       "    }\n",
       "\n",
       "    .dataframe thead th {\n",
       "        text-align: right;\n",
       "    }\n",
       "</style>\n",
       "<table border=\"1\" class=\"dataframe\">\n",
       "  <thead>\n",
       "    <tr style=\"text-align: right;\">\n",
       "      <th></th>\n",
       "      <th>SAT</th>\n",
       "    </tr>\n",
       "  </thead>\n",
       "  <tbody>\n",
       "    <tr>\n",
       "      <th>0</th>\n",
       "      <td>1740</td>\n",
       "    </tr>\n",
       "    <tr>\n",
       "      <th>1</th>\n",
       "      <td>1760</td>\n",
       "    </tr>\n",
       "  </tbody>\n",
       "</table>\n",
       "</div>"
      ],
      "text/plain": [
       "    SAT\n",
       "0  1740\n",
       "1  1760"
      ]
     },
     "execution_count": 40,
     "metadata": {},
     "output_type": "execute_result"
    }
   ],
   "source": [
    "#Let's try this feature out and predict some more values. \n",
    "# I'll create a new data frame called new data. \n",
    "# It will be a Panda's data frame with data 1740 and 1760 and a column name SAT.\n",
    "\n",
    "new_data = pd.DataFrame(data=[1740, 1760], columns=['SAT'])\n",
    "new_data"
   ]
  },
  {
   "cell_type": "code",
   "execution_count": 41,
   "metadata": {},
   "outputs": [
    {
     "name": "stderr",
     "output_type": "stream",
     "text": [
      "C:\\Users\\cilit\\AppData\\Local\\Packages\\PythonSoftwareFoundation.Python.3.9_qbz5n2kfra8p0\\LocalCache\\local-packages\\Python39\\site-packages\\sklearn\\base.py:402: UserWarning: X has feature names, but LinearRegression was fitted without feature names\n",
      "  warnings.warn(\n"
     ]
    },
    {
     "data": {
      "text/plain": [
       "array([3.15593751, 3.18905127])"
      ]
     },
     "execution_count": 41,
     "metadata": {},
     "output_type": "execute_result"
    }
   ],
   "source": [
    "reg.predict(new_data)\n",
    "\n",
    "# The result is an array with the two predictions, 3.16 and 3.19."
   ]
  },
  {
   "cell_type": "code",
   "execution_count": 42,
   "metadata": {},
   "outputs": [
    {
     "name": "stderr",
     "output_type": "stream",
     "text": [
      "C:\\Users\\cilit\\AppData\\Local\\Packages\\PythonSoftwareFoundation.Python.3.9_qbz5n2kfra8p0\\LocalCache\\local-packages\\Python39\\site-packages\\sklearn\\base.py:402: UserWarning: X has feature names, but LinearRegression was fitted without feature names\n",
      "  warnings.warn(\n"
     ]
    },
    {
     "data": {
      "text/html": [
       "<div>\n",
       "<style scoped>\n",
       "    .dataframe tbody tr th:only-of-type {\n",
       "        vertical-align: middle;\n",
       "    }\n",
       "\n",
       "    .dataframe tbody tr th {\n",
       "        vertical-align: top;\n",
       "    }\n",
       "\n",
       "    .dataframe thead th {\n",
       "        text-align: right;\n",
       "    }\n",
       "</style>\n",
       "<table border=\"1\" class=\"dataframe\">\n",
       "  <thead>\n",
       "    <tr style=\"text-align: right;\">\n",
       "      <th></th>\n",
       "      <th>SAT</th>\n",
       "      <th>Predicted_GPA</th>\n",
       "    </tr>\n",
       "  </thead>\n",
       "  <tbody>\n",
       "    <tr>\n",
       "      <th>0</th>\n",
       "      <td>1740</td>\n",
       "      <td>3.155938</td>\n",
       "    </tr>\n",
       "    <tr>\n",
       "      <th>1</th>\n",
       "      <td>1760</td>\n",
       "      <td>3.189051</td>\n",
       "    </tr>\n",
       "  </tbody>\n",
       "</table>\n",
       "</div>"
      ],
      "text/plain": [
       "    SAT  Predicted_GPA\n",
       "0  1740       3.155938\n",
       "1  1760       3.189051"
      ]
     },
     "execution_count": 42,
     "metadata": {},
     "output_type": "execute_result"
    }
   ],
   "source": [
    "# adding information directly into the original data frame\n",
    "\n",
    "new_data['Predicted_GPA'] = reg.predict(new_data)\n",
    "new_data"
   ]
  },
  {
   "cell_type": "code",
   "execution_count": 43,
   "metadata": {},
   "outputs": [
    {
     "data": {
      "image/png": "[encoded data removed]",
      "text/plain": [
       "<Figure size 432x288 with 1 Axes>"
      ]
     },
     "metadata": {},
     "output_type": "display_data"
    }
   ],
   "source": [
    "plt.scatter(x, y)\n",
    "yhat = reg.coef_ * x_matrix + reg.intercept_\n",
    "# yhat = 0.0017 * x + 0.275\n",
    "fig = plt.plot(x, yhat, lw=4, c='orange', label='regression line')\n",
    "plt.xlabel('SAT', fontsize=20)\n",
    "plt.ylabel('GPA', fontsize=20)\n",
    "plt.show()"
   ]
  },
  {
   "attachments": {},
   "cell_type": "markdown",
   "metadata": {},
   "source": [
    "## 210. A Note on Normalization"
   ]
  },
  {
   "attachments": {},
   "cell_type": "markdown",
   "metadata": {},
   "source": [
    "https://www.udemy.com/course/the-data-science-course-complete-data-science-bootcamp/learn/lecture/14390346#overview"
   ]
  },
  {
   "attachments": {},
   "cell_type": "markdown",
   "metadata": {},
   "source": [
    "1. The Wikipedia article on Feature scaling: \n",
    "    * https://en.wikipedia.org/wiki/Feature_scaling\n",
    "2. This article on L1-norm and L2-norm: \n",
    "    * http://www.chioka.in/differences-between-the-l1-norm-and-the-l2-norm-least-absolute-deviations-and-least-squares/"
   ]
  },
  {
   "attachments": {},
   "cell_type": "markdown",
   "metadata": {},
   "source": [
    "## 211. Simple Linear Regression with sklearn - Exercise"
   ]
  },
  {
   "attachments": {},
   "cell_type": "markdown",
   "metadata": {},
   "source": [
    "https://www.udemy.com/course/the-data-science-course-complete-data-science-bootcamp/learn/lecture/14390356#overview"
   ]
  },
  {
   "attachments": {},
   "cell_type": "markdown",
   "metadata": {},
   "source": [
    "## 212. Multiple Linear Regression with sklearn"
   ]
  },
  {
   "attachments": {},
   "cell_type": "markdown",
   "metadata": {},
   "source": [
    "https://www.udemy.com/course/the-data-science-course-complete-data-science-bootcamp/learn/lecture/14390366#overview"
   ]
  },
  {
   "cell_type": "code",
   "execution_count": 44,
   "metadata": {},
   "outputs": [],
   "source": [
    "#import library\n",
    "\n",
    "import numpy as np\n",
    "import pandas as pd\n",
    "import matplotlib.pyplot as plt\n",
    "import seaborn as sns\n",
    "sns.set()\n",
    "\n",
    "from sklearn.linear_model import LinearRegression"
   ]
  },
  {
   "cell_type": "code",
   "execution_count": 45,
   "metadata": {},
   "outputs": [
    {
     "data": {
      "text/html": [
       "<div>\n",
       "<style scoped>\n",
       "    .dataframe tbody tr th:only-of-type {\n",
       "        vertical-align: middle;\n",
       "    }\n",
       "\n",
       "    .dataframe tbody tr th {\n",
       "        vertical-align: top;\n",
       "    }\n",
       "\n",
       "    .dataframe thead th {\n",
       "        text-align: right;\n",
       "    }\n",
       "</style>\n",
       "<table border=\"1\" class=\"dataframe\">\n",
       "  <thead>\n",
       "    <tr style=\"text-align: right;\">\n",
       "      <th></th>\n",
       "      <th>SAT</th>\n",
       "      <th>GPA</th>\n",
       "      <th>Rand 1,2,3</th>\n",
       "    </tr>\n",
       "  </thead>\n",
       "  <tbody>\n",
       "    <tr>\n",
       "      <th>0</th>\n",
       "      <td>1714</td>\n",
       "      <td>2.40</td>\n",
       "      <td>1</td>\n",
       "    </tr>\n",
       "    <tr>\n",
       "      <th>1</th>\n",
       "      <td>1664</td>\n",
       "      <td>2.52</td>\n",
       "      <td>3</td>\n",
       "    </tr>\n",
       "    <tr>\n",
       "      <th>2</th>\n",
       "      <td>1760</td>\n",
       "      <td>2.54</td>\n",
       "      <td>3</td>\n",
       "    </tr>\n",
       "    <tr>\n",
       "      <th>3</th>\n",
       "      <td>1685</td>\n",
       "      <td>2.74</td>\n",
       "      <td>3</td>\n",
       "    </tr>\n",
       "    <tr>\n",
       "      <th>4</th>\n",
       "      <td>1693</td>\n",
       "      <td>2.83</td>\n",
       "      <td>2</td>\n",
       "    </tr>\n",
       "  </tbody>\n",
       "</table>\n",
       "</div>"
      ],
      "text/plain": [
       "    SAT   GPA  Rand 1,2,3\n",
       "0  1714  2.40           1\n",
       "1  1664  2.52           3\n",
       "2  1760  2.54           3\n",
       "3  1685  2.74           3\n",
       "4  1693  2.83           2"
      ]
     },
     "execution_count": 45,
     "metadata": {},
     "output_type": "execute_result"
    }
   ],
   "source": [
    "# load the data\n",
    "\n",
    "data = pd.read_csv('csv/1.02. Multiple linear regression.csv')\n",
    "data.head()"
   ]
  },
  {
   "cell_type": "code",
   "execution_count": 46,
   "metadata": {},
   "outputs": [
    {
     "data": {
      "text/html": [
       "<div>\n",
       "<style scoped>\n",
       "    .dataframe tbody tr th:only-of-type {\n",
       "        vertical-align: middle;\n",
       "    }\n",
       "\n",
       "    .dataframe tbody tr th {\n",
       "        vertical-align: top;\n",
       "    }\n",
       "\n",
       "    .dataframe thead th {\n",
       "        text-align: right;\n",
       "    }\n",
       "</style>\n",
       "<table border=\"1\" class=\"dataframe\">\n",
       "  <thead>\n",
       "    <tr style=\"text-align: right;\">\n",
       "      <th></th>\n",
       "      <th>SAT</th>\n",
       "      <th>GPA</th>\n",
       "      <th>Rand 1,2,3</th>\n",
       "    </tr>\n",
       "  </thead>\n",
       "  <tbody>\n",
       "    <tr>\n",
       "      <th>count</th>\n",
       "      <td>84.000000</td>\n",
       "      <td>84.000000</td>\n",
       "      <td>84.000000</td>\n",
       "    </tr>\n",
       "    <tr>\n",
       "      <th>mean</th>\n",
       "      <td>1845.273810</td>\n",
       "      <td>3.330238</td>\n",
       "      <td>2.059524</td>\n",
       "    </tr>\n",
       "    <tr>\n",
       "      <th>std</th>\n",
       "      <td>104.530661</td>\n",
       "      <td>0.271617</td>\n",
       "      <td>0.855192</td>\n",
       "    </tr>\n",
       "    <tr>\n",
       "      <th>min</th>\n",
       "      <td>1634.000000</td>\n",
       "      <td>2.400000</td>\n",
       "      <td>1.000000</td>\n",
       "    </tr>\n",
       "    <tr>\n",
       "      <th>25%</th>\n",
       "      <td>1772.000000</td>\n",
       "      <td>3.190000</td>\n",
       "      <td>1.000000</td>\n",
       "    </tr>\n",
       "    <tr>\n",
       "      <th>50%</th>\n",
       "      <td>1846.000000</td>\n",
       "      <td>3.380000</td>\n",
       "      <td>2.000000</td>\n",
       "    </tr>\n",
       "    <tr>\n",
       "      <th>75%</th>\n",
       "      <td>1934.000000</td>\n",
       "      <td>3.502500</td>\n",
       "      <td>3.000000</td>\n",
       "    </tr>\n",
       "    <tr>\n",
       "      <th>max</th>\n",
       "      <td>2050.000000</td>\n",
       "      <td>3.810000</td>\n",
       "      <td>3.000000</td>\n",
       "    </tr>\n",
       "  </tbody>\n",
       "</table>\n",
       "</div>"
      ],
      "text/plain": [
       "               SAT        GPA  Rand 1,2,3\n",
       "count    84.000000  84.000000   84.000000\n",
       "mean   1845.273810   3.330238    2.059524\n",
       "std     104.530661   0.271617    0.855192\n",
       "min    1634.000000   2.400000    1.000000\n",
       "25%    1772.000000   3.190000    1.000000\n",
       "50%    1846.000000   3.380000    2.000000\n",
       "75%    1934.000000   3.502500    3.000000\n",
       "max    2050.000000   3.810000    3.000000"
      ]
     },
     "execution_count": 46,
     "metadata": {},
     "output_type": "execute_result"
    }
   ],
   "source": [
    "data.describe()"
   ]
  },
  {
   "attachments": {},
   "cell_type": "markdown",
   "metadata": {},
   "source": [
    "* we already know that the SAT score is a good predictor of GPA both from last section and the simple linear regression with sklearn we created. \n",
    "* Rand 1,2,3 was a variable which randomly assigned one, two, or three to each sample. \n",
    "    * Here, it is helpful to note that **sample** is the machine learning word for observation.\n",
    "        * example: this data set have 84 samples"
   ]
  },
  {
   "cell_type": "code",
   "execution_count": 47,
   "metadata": {},
   "outputs": [],
   "source": [
    "# creting regression\n",
    "\n",
    "x = data[['SAT', 'Rand 1,2,3']]\n",
    "y = data['GPA']"
   ]
  },
  {
   "cell_type": "code",
   "execution_count": 48,
   "metadata": {},
   "outputs": [
    {
     "data": {
      "text/plain": [
       "{'copy_X': True, 'fit_intercept': True, 'n_jobs': None, 'positive': False}"
      ]
     },
     "execution_count": 48,
     "metadata": {},
     "output_type": "execute_result"
    }
   ],
   "source": [
    "# regression\n",
    "\n",
    "reg = LinearRegression()\n",
    "reg.fit(x,y).get_params()\n",
    "\n",
    "# Notice that the cell executed without an error, because we already assign x for multiple array\n",
    "# sklearn is optimized for multiple linear regression\n",
    "# We needed no more than two lines of code to create a machine learning model."
   ]
  },
  {
   "cell_type": "code",
   "execution_count": 49,
   "metadata": {},
   "outputs": [
    {
     "data": {
      "text/plain": [
       "array([ 0.00165354, -0.00826982])"
      ]
     },
     "execution_count": 49,
     "metadata": {},
     "output_type": "execute_result"
    }
   ],
   "source": [
    "# we will display the coefficients and intercept of our model\n",
    "\n",
    "reg.coef_\n",
    "\n",
    "# reg.coef_ displays an array with two elements, the coefficient of the SAT score and the coefficient of the Rand 1,2,3 variable. \n",
    "# They are ordered in the way we fed them.\n",
    "\n",
    "# we realized that 0.0017 corresponds to the SAT score, while minus 0.0083 to Rand 1,2,3."
   ]
  },
  {
   "cell_type": "code",
   "execution_count": 50,
   "metadata": {},
   "outputs": [
    {
     "data": {
      "text/plain": [
       "0.29603261264909486"
      ]
     },
     "execution_count": 50,
     "metadata": {},
     "output_type": "execute_result"
    }
   ],
   "source": [
    "reg.intercept_\n",
    "\n",
    "# reg.intercept shows us that the intercept of this model is 0.296. "
   ]
  },
  {
   "attachments": {},
   "cell_type": "markdown",
   "metadata": {},
   "source": [
    "* ![Alt text](img/212.%20Multiple%20Linear%20Regression%20with%20sklearn1.jpg)\n",
    "    * By comparing these results with the StatsModels summary, we confirm that the two packages yield identical results with StatsModels."
   ]
  },
  {
   "attachments": {},
   "cell_type": "markdown",
   "metadata": {},
   "source": [
    "## 213. Calculating the Adjusted R-Squared in sklearn"
   ]
  },
  {
   "attachments": {},
   "cell_type": "markdown",
   "metadata": {},
   "source": [
    "https://www.udemy.com/course/the-data-science-course-complete-data-science-bootcamp/learn/lecture/14390378#overview"
   ]
  },
  {
   "attachments": {},
   "cell_type": "markdown",
   "metadata": {},
   "source": [
    "* **The R squared** is one of the most common measures of goodness of fit. In other words, it **is a universal measure to evaluate how well linear regressions fair and compare**.\n",
    "* There is a very intuitive method called score which can help us with that. Depending on the type of regression you are performing a regression score will have a different meaning.\n",
    "    * ![Alt text](img/213.%20Calculating%20the%20Adjusted%20R-Squared%20in%20sklearn1.jpg)\n",
    "    * reg.score(x,y)\n",
    "        * returns the R-squared of a linear regression"
   ]
  },
  {
   "cell_type": "code",
   "execution_count": 51,
   "metadata": {},
   "outputs": [
    {
     "data": {
      "text/plain": [
       "0.4066811952814282"
      ]
     },
     "execution_count": 51,
     "metadata": {},
     "output_type": "execute_result"
    }
   ],
   "source": [
    "# Calculating the R-Squared\n",
    "\n",
    "reg.score(x, y)"
   ]
  },
  {
   "attachments": {},
   "cell_type": "markdown",
   "metadata": {},
   "source": [
    "#### How do I calculate the Adjusted R-squared score using scikit-learn?"
   ]
  },
  {
   "attachments": {},
   "cell_type": "markdown",
   "metadata": {},
   "source": [
    "* ![Alt text](img/213.%20Calculating%20the%20Adjusted%20R-Squared%20in%20sklearn2.jpg)\n",
    "    * ![Alt text](img/213.%20Calculating%20the%20Adjusted%20R-Squared%20in%20sklearn3.jpg)"
   ]
  },
  {
   "cell_type": "code",
   "execution_count": 52,
   "metadata": {},
   "outputs": [
    {
     "data": {
      "text/plain": [
       "0.39203134825134"
      ]
     },
     "execution_count": 52,
     "metadata": {},
     "output_type": "execute_result"
    }
   ],
   "source": [
    "# OPTION 1\n",
    "# Code for adjusted R-squared\n",
    "\n",
    "r2 = reg.score(x, y)\n",
    "n = x.shape[0]\n",
    "p = x.shape[1]\n",
    "\n",
    "adjusted_r2 = 1 - (1-r2) * (n-1) / (n-p-1)\n",
    "adjusted_r2"
   ]
  },
  {
   "cell_type": "code",
   "execution_count": 53,
   "metadata": {},
   "outputs": [
    {
     "data": {
      "text/plain": [
       "0.39203134825134"
      ]
     },
     "execution_count": 53,
     "metadata": {},
     "output_type": "execute_result"
    }
   ],
   "source": [
    "# OPTION 2\n",
    "# Code for adjusted R-squared\n",
    "\n",
    "r2_formula = 1 - ( 1 - reg.score(x, y) ) * ( len(y) - 1 ) / ( len(y) - x.shape[1] - 1 )\n",
    "r2_formula"
   ]
  },
  {
   "attachments": {},
   "cell_type": "markdown",
   "metadata": {},
   "source": [
    "## 214. Calculating the Adjusted R-Squared in sklearn - Exercise"
   ]
  },
  {
   "attachments": {},
   "cell_type": "markdown",
   "metadata": {},
   "source": [
    "https://www.udemy.com/course/the-data-science-course-complete-data-science-bootcamp/learn/lecture/14390386#overview"
   ]
  },
  {
   "attachments": {},
   "cell_type": "markdown",
   "metadata": {},
   "source": [
    "## 215. Feature Selection (F-regression)"
   ]
  },
  {
   "attachments": {},
   "cell_type": "markdown",
   "metadata": {},
   "source": [
    "https://www.udemy.com/course/the-data-science-course-complete-data-science-bootcamp/learn/lecture/14390402#overview"
   ]
  },
  {
   "attachments": {},
   "cell_type": "markdown",
   "metadata": {},
   "source": [
    "* How to detect the variables which are unneeded in a model.\n",
    "    * ![Alt text](img/215.%20Feature%20Selection%20(F-regression)1.jpg)\n",
    "        * There's actually a whole process created for that purpose. It is called **feature selection**.\n",
    "        * Feature selection is a very important procedure in machine learning as it simplifies models which makes them much easier to interpret by data scientists.\n",
    "        * Through this process, we gain improved speed and often prevent a series of other unwanted issues arising from having too many features.\n",
    "    * ![Alt text](img/215.%20Feature%20Selection%20(F-regression)2.jpg)\n",
    "        * In fact, when we are dealing with stats models, we were given the P values of the features which we later used to determine whether the independent variables were relevant for the model.\n",
    "        * if a variable has a P-value above 0.05, we can disregard it.\n",
    "\n",
    "* How can we find the P-values in SK learn?\n",
    "    * Well, this is one of the cases where SK learn manifests itself as a machine learning package, rather than a statistical one. There is no built in method we can call to get them. Therefore, we must find a workaround. A very close concept is available with the feature selection module from SK Learn. It is called **F regression**.\n",
    "    * F regression creates simple linear regressions of each feature and the dependent variable. \n",
    "        * For our GPA SAT example, it would translate into two regressions. \n",
    "            * One where we predict GPA with SAT, and \n",
    "            * one where we predict GPA with Rand 123. \n",
    "        * Then the method would calculate the F statistic for each of those regressions and return the respective P-values. \n",
    "            * If there were 50 features, 50 simple regressions would be created. \n",
    "        * Note that for a simple linear regression, the P-value of the F statistic coincides with the P-value of the only independent variable.\n",
    "            * ![Alt text](img/215.%20Feature%20Selection%20(F-regression)3.jpg)"
   ]
  },
  {
   "cell_type": "code",
   "execution_count": 54,
   "metadata": {},
   "outputs": [],
   "source": [
    "# import Feature Selection Regression\n",
    "\n",
    "from sklearn.feature_selection import f_regression"
   ]
  },
  {
   "cell_type": "code",
   "execution_count": 55,
   "metadata": {},
   "outputs": [
    {
     "data": {
      "text/plain": [
       "(array([56.04804786,  0.17558437]), array([7.19951844e-11, 6.76291372e-01]))"
      ]
     },
     "execution_count": 55,
     "metadata": {},
     "output_type": "execute_result"
    }
   ],
   "source": [
    "f_regression(x, y)"
   ]
  },
  {
   "attachments": {},
   "cell_type": "markdown",
   "metadata": {},
   "source": [
    "* there are two output arrays:\n",
    "    * ![Alt text](img/215.%20Feature%20Selection%20(F-regression)4.jpg)\n",
    "    * The first one contains the F statistics for each of the regressions, \n",
    "    * while the second the corresponding P-values.\n",
    "\n",
    "* There is scientific notation on output:\n",
    "    * Here's how to interpret them.\n",
    "        * ![Alt text](img/215.%20Feature%20Selection%20(F-regression)5.jpg)\n",
    "        * E minus 11 means times 10 to the power of minus 11, or divided by 10 to the power of 11.\n",
    "        * Similarly, E minus one means times 10 to the power of one, or simply divided by 10."
   ]
  },
  {
   "cell_type": "code",
   "execution_count": 56,
   "metadata": {},
   "outputs": [
    {
     "data": {
      "text/plain": [
       "array([7.19951844e-11, 6.76291372e-01])"
      ]
     },
     "execution_count": 56,
     "metadata": {},
     "output_type": "execute_result"
    }
   ],
   "source": [
    "# Creating variable P-Value\n",
    "\n",
    "p_values = f_regression(x,y)[1]\n",
    "p_values"
   ]
  },
  {
   "cell_type": "code",
   "execution_count": 57,
   "metadata": {},
   "outputs": [
    {
     "data": {
      "text/plain": [
       "array([0.   , 0.676])"
      ]
     },
     "execution_count": 57,
     "metadata": {},
     "output_type": "execute_result"
    }
   ],
   "source": [
    "# rounding the p-value\n",
    "# we can choose the number of digits after the dot we want to round to. \n",
    "# Three is completely enough for P-value interpretation.\n",
    "\n",
    "p_values.round(3)"
   ]
  },
  {
   "attachments": {},
   "cell_type": "markdown",
   "metadata": {},
   "source": [
    "* The first one refers to the first column of X, while the second one to the second. (x1, x2)\n",
    "    * ![Alt text](img/215.%20Feature%20Selection%20(F-regression)6.jpg)\n",
    "        * the P value of SAT is 0.000\n",
    "        * and that RAND 1, 2, 3 is 0.676.\n",
    "    * Conclusion:\n",
    "        * With your prior regression analysis experience, you can easily determine that **SAT is a useful variable, while rand 1, 2, 3 is useless**.\n",
    "\n",
    "* What should be noted though, is that these are the univariate p-values or the p-values reached from simple linear models. \n",
    "    * They do not reflect the interconnection of the features in our multiple linear regression. Therefore, f regression should be used with caution, as it is one bit too simplistic for more complicated problems."
   ]
  },
  {
   "attachments": {},
   "cell_type": "markdown",
   "metadata": {},
   "source": [
    "## 216. A Note on Calculation of P-values with sklearn"
   ]
  },
  {
   "attachments": {},
   "cell_type": "markdown",
   "metadata": {},
   "source": [
    "https://www.udemy.com/course/the-data-science-course-complete-data-science-bootcamp/learn/lecture/14390418#overview"
   ]
  },
  {
   "attachments": {},
   "cell_type": "markdown",
   "metadata": {},
   "source": [
    "* A Note on Calculation of P-values with sklearn\n",
    "    * As suggested in the previous lecture, the F-regression does not take into account the interrelation of the features.\n",
    "    * A not so simple fix for that is to ammend the LinearRegression() class.\n",
    "    * You can find the relevant code with comments with this article.\n",
    "    * Note that the results will be identical to those of StatsModels."
   ]
  },
  {
   "attachments": {},
   "cell_type": "markdown",
   "metadata": {},
   "source": [
    "## 217. Creating a Summary Table with P-values"
   ]
  },
  {
   "attachments": {},
   "cell_type": "markdown",
   "metadata": {},
   "source": [
    "https://www.udemy.com/course/the-data-science-course-complete-data-science-bootcamp/learn/lecture/14390434#overview"
   ]
  },
  {
   "cell_type": "code",
   "execution_count": 58,
   "metadata": {},
   "outputs": [
    {
     "data": {
      "text/html": [
       "<div>\n",
       "<style scoped>\n",
       "    .dataframe tbody tr th:only-of-type {\n",
       "        vertical-align: middle;\n",
       "    }\n",
       "\n",
       "    .dataframe tbody tr th {\n",
       "        vertical-align: top;\n",
       "    }\n",
       "\n",
       "    .dataframe thead th {\n",
       "        text-align: right;\n",
       "    }\n",
       "</style>\n",
       "<table border=\"1\" class=\"dataframe\">\n",
       "  <thead>\n",
       "    <tr style=\"text-align: right;\">\n",
       "      <th></th>\n",
       "      <th>Features</th>\n",
       "    </tr>\n",
       "  </thead>\n",
       "  <tbody>\n",
       "    <tr>\n",
       "      <th>0</th>\n",
       "      <td>SAT</td>\n",
       "    </tr>\n",
       "    <tr>\n",
       "      <th>1</th>\n",
       "      <td>Rand 1,2,3</td>\n",
       "    </tr>\n",
       "  </tbody>\n",
       "</table>\n",
       "</div>"
      ],
      "text/plain": [
       "     Features\n",
       "0         SAT\n",
       "1  Rand 1,2,3"
      ]
     },
     "execution_count": 58,
     "metadata": {},
     "output_type": "execute_result"
    }
   ],
   "source": [
    "# Creating Data Frame\n",
    "\n",
    "# reg_summary = pd.DataFrame(data=['SAT',  'Rand 1,2,3'], columns=['Features'])\n",
    "\n",
    "# If we want to parameterize our code, we would not write the names of the two features, \n",
    "# but rather refer to the column values of the data frame, X.\n",
    "\n",
    "reg_summary = pd.DataFrame(data= x.columns.values, columns=['Features'])\n",
    "reg_summary\n",
    "\n",
    "# After executing the cell, we find that the result is identical.\n",
    "# However, much more preferable for models with dozens or hundreds of features."
   ]
  },
  {
   "cell_type": "code",
   "execution_count": 59,
   "metadata": {},
   "outputs": [
    {
     "data": {
      "text/html": [
       "<div>\n",
       "<style scoped>\n",
       "    .dataframe tbody tr th:only-of-type {\n",
       "        vertical-align: middle;\n",
       "    }\n",
       "\n",
       "    .dataframe tbody tr th {\n",
       "        vertical-align: top;\n",
       "    }\n",
       "\n",
       "    .dataframe thead th {\n",
       "        text-align: right;\n",
       "    }\n",
       "</style>\n",
       "<table border=\"1\" class=\"dataframe\">\n",
       "  <thead>\n",
       "    <tr style=\"text-align: right;\">\n",
       "      <th></th>\n",
       "      <th>Features</th>\n",
       "      <th>coefficients</th>\n",
       "      <th>p-values</th>\n",
       "    </tr>\n",
       "  </thead>\n",
       "  <tbody>\n",
       "    <tr>\n",
       "      <th>0</th>\n",
       "      <td>SAT</td>\n",
       "      <td>0.001654</td>\n",
       "      <td>0.000</td>\n",
       "    </tr>\n",
       "    <tr>\n",
       "      <th>1</th>\n",
       "      <td>Rand 1,2,3</td>\n",
       "      <td>-0.008270</td>\n",
       "      <td>0.676</td>\n",
       "    </tr>\n",
       "  </tbody>\n",
       "</table>\n",
       "</div>"
      ],
      "text/plain": [
       "     Features  coefficients  p-values\n",
       "0         SAT      0.001654     0.000\n",
       "1  Rand 1,2,3     -0.008270     0.676"
      ]
     },
     "execution_count": 59,
     "metadata": {},
     "output_type": "execute_result"
    }
   ],
   "source": [
    "# Adding new column to Data Frame called Coefficients and P-Values\n",
    "\n",
    "reg_summary['coefficients'] = reg.coef_\n",
    "reg_summary['p-values'] = p_values.round(3)\n",
    "reg_summary\n"
   ]
  },
  {
   "attachments": {},
   "cell_type": "markdown",
   "metadata": {},
   "source": [
    "* Once more, we conclude that Rand 123 does not contribute to our model and should be removed.\n",
    "    * ![Alt text](img/217.%20Creating%20a%20Summary%20Table%20with%20P-values.jpg)\n",
    "\n",
    "* P values are one of the best ways to determine if a variable is redundant, but they provide no information whatsoever about how useful a variable is. That is, two variables may both have a p value of 0.000, making them relevant, but this does not mean they are equally important."
   ]
  },
  {
   "attachments": {},
   "cell_type": "markdown",
   "metadata": {},
   "source": [
    "## 218. Multiple Linear Regression - Exercise"
   ]
  },
  {
   "attachments": {},
   "cell_type": "markdown",
   "metadata": {},
   "source": [
    "https://www.udemy.com/course/the-data-science-course-complete-data-science-bootcamp/learn/lecture/14390444#overview"
   ]
  },
  {
   "attachments": {},
   "cell_type": "markdown",
   "metadata": {},
   "source": [
    "## 219. Feature Scaling (Standardization)"
   ]
  },
  {
   "attachments": {},
   "cell_type": "markdown",
   "metadata": {},
   "source": [
    "https://www.udemy.com/course/the-data-science-course-complete-data-science-bootcamp/learn/lecture/14390448#overview"
   ]
  },
  {
   "attachments": {},
   "cell_type": "markdown",
   "metadata": {},
   "source": [
    "* The most common problem when working with numerical data is the difference in magnitudes.\n",
    "    * How to fix:\n",
    "        * standardization also known as feature scaling\n",
    "        * normalization.\n",
    "\n",
    "* Standardization, or feature scaling is the process of transforming the data we are working with into a standard scale.\n",
    "    * ![Alt text](img/219.%20Feature%20Scaling%20(Standardization)1.jpg)\n",
    "        * This translates to subtracting the mean and dividing by the standard deviation.\n",
    "        * In this way, regardless of the data set we will always obtain a distribution with a mean of zero and a standard deviation of one which could easily be proven.\n",
    "\n",
    "* Example:\n",
    "    * ![Alt text](img/219.%20Feature%20Scaling%20(Standardization)1.jpg)\n",
    "    * ![Alt text](img/219.%20Feature%20Scaling%20(Standardization)3.jpg)\n",
    "\n",
    "* Our plan for this lecture is to scale them using the Standard Scaler module from sklearn.\n",
    "    * ![Alt text](img/219.%20Feature%20Scaling%20(Standardization)4.jpg)\n",
    "    * StandardScaler()\n",
    "        * a preprocessing module used to standardize (or scale) data"
   ]
  },
  {
   "cell_type": "code",
   "execution_count": 60,
   "metadata": {},
   "outputs": [],
   "source": [
    "#import library\n",
    "\n",
    "import numpy as np\n",
    "import pandas as pd\n",
    "import matplotlib.pyplot as plt\n",
    "import seaborn as sns\n",
    "sns.set()\n",
    "\n",
    "from sklearn.preprocessing import StandardScaler"
   ]
  },
  {
   "cell_type": "code",
   "execution_count": 61,
   "metadata": {},
   "outputs": [
    {
     "data": {
      "text/html": [
       "<div>\n",
       "<style scoped>\n",
       "    .dataframe tbody tr th:only-of-type {\n",
       "        vertical-align: middle;\n",
       "    }\n",
       "\n",
       "    .dataframe tbody tr th {\n",
       "        vertical-align: top;\n",
       "    }\n",
       "\n",
       "    .dataframe thead th {\n",
       "        text-align: right;\n",
       "    }\n",
       "</style>\n",
       "<table border=\"1\" class=\"dataframe\">\n",
       "  <thead>\n",
       "    <tr style=\"text-align: right;\">\n",
       "      <th></th>\n",
       "      <th>SAT</th>\n",
       "      <th>GPA</th>\n",
       "      <th>Rand 1,2,3</th>\n",
       "    </tr>\n",
       "  </thead>\n",
       "  <tbody>\n",
       "    <tr>\n",
       "      <th>0</th>\n",
       "      <td>1714</td>\n",
       "      <td>2.40</td>\n",
       "      <td>1</td>\n",
       "    </tr>\n",
       "    <tr>\n",
       "      <th>1</th>\n",
       "      <td>1664</td>\n",
       "      <td>2.52</td>\n",
       "      <td>3</td>\n",
       "    </tr>\n",
       "    <tr>\n",
       "      <th>2</th>\n",
       "      <td>1760</td>\n",
       "      <td>2.54</td>\n",
       "      <td>3</td>\n",
       "    </tr>\n",
       "    <tr>\n",
       "      <th>3</th>\n",
       "      <td>1685</td>\n",
       "      <td>2.74</td>\n",
       "      <td>3</td>\n",
       "    </tr>\n",
       "    <tr>\n",
       "      <th>4</th>\n",
       "      <td>1693</td>\n",
       "      <td>2.83</td>\n",
       "      <td>2</td>\n",
       "    </tr>\n",
       "  </tbody>\n",
       "</table>\n",
       "</div>"
      ],
      "text/plain": [
       "    SAT   GPA  Rand 1,2,3\n",
       "0  1714  2.40           1\n",
       "1  1664  2.52           3\n",
       "2  1760  2.54           3\n",
       "3  1685  2.74           3\n",
       "4  1693  2.83           2"
      ]
     },
     "execution_count": 61,
     "metadata": {},
     "output_type": "execute_result"
    }
   ],
   "source": [
    "# load the data\n",
    "\n",
    "data = pd.read_csv('csv/1.02. Multiple linear regression.csv')\n",
    "data.head()"
   ]
  },
  {
   "cell_type": "code",
   "execution_count": 62,
   "metadata": {},
   "outputs": [
    {
     "data": {
      "text/html": [
       "<div>\n",
       "<style scoped>\n",
       "    .dataframe tbody tr th:only-of-type {\n",
       "        vertical-align: middle;\n",
       "    }\n",
       "\n",
       "    .dataframe tbody tr th {\n",
       "        vertical-align: top;\n",
       "    }\n",
       "\n",
       "    .dataframe thead th {\n",
       "        text-align: right;\n",
       "    }\n",
       "</style>\n",
       "<table border=\"1\" class=\"dataframe\">\n",
       "  <thead>\n",
       "    <tr style=\"text-align: right;\">\n",
       "      <th></th>\n",
       "      <th>SAT</th>\n",
       "      <th>GPA</th>\n",
       "      <th>Rand 1,2,3</th>\n",
       "    </tr>\n",
       "  </thead>\n",
       "  <tbody>\n",
       "    <tr>\n",
       "      <th>count</th>\n",
       "      <td>84.000000</td>\n",
       "      <td>84.000000</td>\n",
       "      <td>84.000000</td>\n",
       "    </tr>\n",
       "    <tr>\n",
       "      <th>mean</th>\n",
       "      <td>1845.273810</td>\n",
       "      <td>3.330238</td>\n",
       "      <td>2.059524</td>\n",
       "    </tr>\n",
       "    <tr>\n",
       "      <th>std</th>\n",
       "      <td>104.530661</td>\n",
       "      <td>0.271617</td>\n",
       "      <td>0.855192</td>\n",
       "    </tr>\n",
       "    <tr>\n",
       "      <th>min</th>\n",
       "      <td>1634.000000</td>\n",
       "      <td>2.400000</td>\n",
       "      <td>1.000000</td>\n",
       "    </tr>\n",
       "    <tr>\n",
       "      <th>25%</th>\n",
       "      <td>1772.000000</td>\n",
       "      <td>3.190000</td>\n",
       "      <td>1.000000</td>\n",
       "    </tr>\n",
       "    <tr>\n",
       "      <th>50%</th>\n",
       "      <td>1846.000000</td>\n",
       "      <td>3.380000</td>\n",
       "      <td>2.000000</td>\n",
       "    </tr>\n",
       "    <tr>\n",
       "      <th>75%</th>\n",
       "      <td>1934.000000</td>\n",
       "      <td>3.502500</td>\n",
       "      <td>3.000000</td>\n",
       "    </tr>\n",
       "    <tr>\n",
       "      <th>max</th>\n",
       "      <td>2050.000000</td>\n",
       "      <td>3.810000</td>\n",
       "      <td>3.000000</td>\n",
       "    </tr>\n",
       "  </tbody>\n",
       "</table>\n",
       "</div>"
      ],
      "text/plain": [
       "               SAT        GPA  Rand 1,2,3\n",
       "count    84.000000  84.000000   84.000000\n",
       "mean   1845.273810   3.330238    2.059524\n",
       "std     104.530661   0.271617    0.855192\n",
       "min    1634.000000   2.400000    1.000000\n",
       "25%    1772.000000   3.190000    1.000000\n",
       "50%    1846.000000   3.380000    2.000000\n",
       "75%    1934.000000   3.502500    3.000000\n",
       "max    2050.000000   3.810000    3.000000"
      ]
     },
     "execution_count": 62,
     "metadata": {},
     "output_type": "execute_result"
    }
   ],
   "source": [
    "data.describe()"
   ]
  },
  {
   "attachments": {},
   "cell_type": "markdown",
   "metadata": {},
   "source": [
    "* we already know that the SAT score is a good predictor of GPA both from last section and the simple linear regression with sklearn we created. \n",
    "* Rand 1,2,3 was a variable which randomly assigned one, two, or three to each sample. \n",
    "    * Here, it is helpful to note that **sample** is the machine learning word for observation.\n",
    "        * example: this data set have 84 samples"
   ]
  },
  {
   "cell_type": "code",
   "execution_count": 63,
   "metadata": {},
   "outputs": [],
   "source": [
    "# creting regression\n",
    "\n",
    "x = data[['SAT', 'Rand 1,2,3']]\n",
    "y = data['GPA']"
   ]
  },
  {
   "cell_type": "code",
   "execution_count": 64,
   "metadata": {},
   "outputs": [],
   "source": [
    "# Creating Standardization\n",
    "\n",
    "scaler = StandardScaler()\n",
    "\n",
    "# The object we just created will be used to scale our data. \n",
    "# In other words, it will subtract the mean and divide by the standard deviation from each point feature-wise."
   ]
  },
  {
   "cell_type": "code",
   "execution_count": 65,
   "metadata": {},
   "outputs": [
    {
     "data": {
      "text/plain": [
       "{'copy': True, 'with_mean': True, 'with_std': True}"
      ]
     },
     "execution_count": 65,
     "metadata": {},
     "output_type": "execute_result"
    }
   ],
   "source": [
    "# Fit input data\n",
    "\n",
    "scaler.fit(x).get_params()\n",
    "\n",
    "# This line will calculate the mean and standard deviation of each feature.\n",
    "# This information will be stored in the scaler object. \n",
    "# So it won't be an empty object anymore.\n",
    "# It will contain information about the mean and standard deviation."
   ]
  },
  {
   "attachments": {},
   "cell_type": "markdown",
   "metadata": {},
   "source": [
    "* Step above is extremely important. \n",
    "* Whenever you get new data, you will know that the standardization information is contained in the scaler.\n",
    "    * ![Alt text](img/219.%20Feature%20Scaling%20(Standardization)5.jpg)\n",
    "\n",
    "* we have the information but the inputs are still unscaled. We have just prepared the scaling mechanism.\n",
    "    * ![Alt text](img/219.%20Feature%20Scaling%20(Standardization)6.jpg)\n",
    "    * In order to apply it, we must use another method called transform.\n",
    "    * As the name suggests, transform, transforms the unscaled inputs using the information contained in scaler. \n",
    "    * In simple words, we subtract the mean and divide by the standard deviation for each feature.\n",
    "    * Whenever we get new data we will just apply scaler.transform new data to reach the same transformation as we just did.\n",
    "        * ![Alt text](img/219.%20Feature%20Scaling%20(Standardization)7.jpg)"
   ]
  },
  {
   "cell_type": "code",
   "execution_count": 66,
   "metadata": {},
   "outputs": [
    {
     "data": {
      "text/plain": [
       "array([[-1.26338288, -1.24637147],\n",
       "       [-1.74458431,  1.10632974],\n",
       "       [-0.82067757,  1.10632974],\n",
       "       [-1.54247971,  1.10632974],\n",
       "       [-1.46548748, -0.07002087],\n",
       "       [-1.68684014, -1.24637147],\n",
       "       [-0.78218146, -0.07002087],\n",
       "       [-0.78218146, -1.24637147],\n",
       "       [-0.51270866, -0.07002087],\n",
       "       [ 0.04548499,  1.10632974],\n",
       "       [-1.06127829,  1.10632974],\n",
       "       [-0.67631715, -0.07002087],\n",
       "       [-1.06127829, -1.24637147],\n",
       "       [-1.28263094,  1.10632974],\n",
       "       [-0.6955652 , -0.07002087],\n",
       "       [ 0.25721362, -0.07002087],\n",
       "       [-0.86879772,  1.10632974],\n",
       "       [-1.64834403, -0.07002087],\n",
       "       [-0.03150724,  1.10632974],\n",
       "       [-0.57045283,  1.10632974],\n",
       "       [-0.81105355,  1.10632974],\n",
       "       [-1.18639066,  1.10632974],\n",
       "       [-1.75420834,  1.10632974],\n",
       "       [-1.52323165, -1.24637147],\n",
       "       [ 1.23886453, -1.24637147],\n",
       "       [-0.18549169, -1.24637147],\n",
       "       [-0.5608288 , -1.24637147],\n",
       "       [-0.23361183,  1.10632974],\n",
       "       [ 1.68156984, -1.24637147],\n",
       "       [-0.4934606 , -0.07002087],\n",
       "       [-0.73406132, -1.24637147],\n",
       "       [ 0.85390339, -1.24637147],\n",
       "       [-0.67631715, -1.24637147],\n",
       "       [ 0.09360513,  1.10632974],\n",
       "       [ 0.33420585, -0.07002087],\n",
       "       [ 0.03586096, -0.07002087],\n",
       "       [-0.35872421,  1.10632974],\n",
       "       [ 1.04638396,  1.10632974],\n",
       "       [-0.65706909,  1.10632974],\n",
       "       [-0.13737155, -0.07002087],\n",
       "       [ 0.18984542,  1.10632974],\n",
       "       [ 0.04548499, -1.24637147],\n",
       "       [ 1.1618723 ,  1.10632974],\n",
       "       [-1.37887123, -1.24637147],\n",
       "       [ 1.39284898, -1.24637147],\n",
       "       [ 0.76728713, -0.07002087],\n",
       "       [-0.20473975, -0.07002087],\n",
       "       [ 1.06563201, -1.24637147],\n",
       "       [ 0.11285319, -1.24637147],\n",
       "       [ 1.28698467,  1.10632974],\n",
       "       [-0.41646838,  1.10632974],\n",
       "       [ 0.09360513, -1.24637147],\n",
       "       [ 0.59405462, -0.07002087],\n",
       "       [-2.03330517, -0.07002087],\n",
       "       [ 0.32458182, -1.24637147],\n",
       "       [ 0.40157405, -1.24637147],\n",
       "       [-1.10939843, -0.07002087],\n",
       "       [ 1.03675993, -1.24637147],\n",
       "       [-0.61857297, -0.07002087],\n",
       "       [ 0.44007016, -0.07002087],\n",
       "       [ 1.14262424, -1.24637147],\n",
       "       [-0.35872421,  1.10632974],\n",
       "       [ 0.45931822,  1.10632974],\n",
       "       [ 1.88367444,  1.10632974],\n",
       "       [ 0.45931822, -1.24637147],\n",
       "       [-0.12774752, -0.07002087],\n",
       "       [ 0.04548499,  1.10632974],\n",
       "       [ 0.85390339, -0.07002087],\n",
       "       [ 0.15134931, -0.07002087],\n",
       "       [ 0.8250313 ,  1.10632974],\n",
       "       [ 0.84427936,  1.10632974],\n",
       "       [-0.64744506, -1.24637147],\n",
       "       [ 1.24848856, -1.24637147],\n",
       "       [ 0.85390339,  1.10632974],\n",
       "       [ 1.69119387,  1.10632974],\n",
       "       [ 1.6334497 ,  1.10632974],\n",
       "       [ 1.46021718, -1.24637147],\n",
       "       [ 1.68156984, -0.07002087],\n",
       "       [-0.02188321,  1.10632974],\n",
       "       [ 0.87315144,  1.10632974],\n",
       "       [-0.33947615, -1.24637147],\n",
       "       [ 1.3639769 ,  1.10632974],\n",
       "       [ 1.12337618, -1.24637147],\n",
       "       [ 1.97029069, -0.07002087]])"
      ]
     },
     "execution_count": 66,
     "metadata": {},
     "output_type": "execute_result"
    }
   ],
   "source": [
    "x_scaled = scaler.transform(x)\n",
    "x_scaled"
   ]
  },
  {
   "attachments": {},
   "cell_type": "markdown",
   "metadata": {},
   "source": [
    "## 220. Feature Selection through Standardization of Weights"
   ]
  },
  {
   "attachments": {},
   "cell_type": "markdown",
   "metadata": {},
   "source": [
    "https://www.udemy.com/course/the-data-science-course-complete-data-science-bootcamp/learn/lecture/14390454#overview"
   ]
  },
  {
   "attachments": {},
   "cell_type": "markdown",
   "metadata": {},
   "source": [
    "* When we calculated the coefficients of this regression without standardization we could not immediately see the effect of each variable on the output.\n",
    "    * ![Alt text](img/220.%20Feature%20Selection%20through%20Standardization%20of%20Weights1.jpg)\n",
    "        * The reason is that SAT is ranging between 600 and 2400 while Rand 1, 2, 3, between one, two, and three. \n",
    "        * Their respective coefficients were 0.0017 and minus 0.0083.\n",
    "            * So it seems like Rand 1, 2, 3 has a bigger coefficient hence a greater impact.\n",
    "        * However, this conclusion could be wrong. Since the SAT score has a much greater magnitude it is much more important.\n",
    "            *  ![Alt text](img/220.%20Feature%20Selection%20through%20Standardization%20of%20Weights2.jpg)\n",
    "                * However, by looking at the coefficients alone one might be deceived. \n",
    "                * This issue is overcome through feature scaling. Having all inputs with the same magnitude allows us to compare their impact."
   ]
  },
  {
   "cell_type": "code",
   "execution_count": 67,
   "metadata": {},
   "outputs": [
    {
     "data": {
      "text/plain": [
       "{'copy_X': True, 'fit_intercept': True, 'n_jobs': None, 'positive': False}"
      ]
     },
     "execution_count": 67,
     "metadata": {},
     "output_type": "execute_result"
    }
   ],
   "source": [
    "# Regression with scaled features\n",
    "\n",
    "reg = LinearRegression()\n",
    "reg.fit(x_scaled, y).get_params()\n",
    "\n",
    "# As usual, we will get nothing more than a line confirming that the regression had been successfully performed."
   ]
  },
  {
   "cell_type": "code",
   "execution_count": 68,
   "metadata": {},
   "outputs": [
    {
     "data": {
      "text/plain": [
       "array([ 0.17181389, -0.00703007])"
      ]
     },
     "execution_count": 68,
     "metadata": {},
     "output_type": "execute_result"
    }
   ],
   "source": [
    "# To assess the actual difference, we can look at the coefficients and the intercept.\n",
    "\n",
    "reg.coef_"
   ]
  },
  {
   "cell_type": "code",
   "execution_count": 69,
   "metadata": {},
   "outputs": [
    {
     "data": {
      "text/plain": [
       "3.330238095238095"
      ]
     },
     "execution_count": 69,
     "metadata": {},
     "output_type": "execute_result"
    }
   ],
   "source": [
    "reg.intercept_"
   ]
  },
  {
   "cell_type": "code",
   "execution_count": 70,
   "metadata": {},
   "outputs": [
    {
     "data": {
      "text/html": [
       "<div>\n",
       "<style scoped>\n",
       "    .dataframe tbody tr th:only-of-type {\n",
       "        vertical-align: middle;\n",
       "    }\n",
       "\n",
       "    .dataframe tbody tr th {\n",
       "        vertical-align: top;\n",
       "    }\n",
       "\n",
       "    .dataframe thead th {\n",
       "        text-align: right;\n",
       "    }\n",
       "</style>\n",
       "<table border=\"1\" class=\"dataframe\">\n",
       "  <thead>\n",
       "    <tr style=\"text-align: right;\">\n",
       "      <th></th>\n",
       "      <th>Features</th>\n",
       "      <th>Weight</th>\n",
       "    </tr>\n",
       "  </thead>\n",
       "  <tbody>\n",
       "    <tr>\n",
       "      <th>0</th>\n",
       "      <td>Intercept</td>\n",
       "      <td>3.330238</td>\n",
       "    </tr>\n",
       "    <tr>\n",
       "      <th>1</th>\n",
       "      <td>SAT</td>\n",
       "      <td>0.171814</td>\n",
       "    </tr>\n",
       "    <tr>\n",
       "      <th>2</th>\n",
       "      <td>Rand 1,2,3</td>\n",
       "      <td>-0.007030</td>\n",
       "    </tr>\n",
       "  </tbody>\n",
       "</table>\n",
       "</div>"
      ],
      "text/plain": [
       "     Features    Weight\n",
       "0   Intercept  3.330238\n",
       "1         SAT  0.171814\n",
       "2  Rand 1,2,3 -0.007030"
      ]
     },
     "execution_count": 70,
     "metadata": {},
     "output_type": "execute_result"
    }
   ],
   "source": [
    "# Creating Summary Table\n",
    "\n",
    "reg_summary = pd.DataFrame([['Intercept'], ['SAT'], ['Rand 1,2,3']], columns=['Features'])\n",
    "reg_summary['Weight'] = reg.intercept_, reg.coef_[0], reg.coef_[1]\n",
    "reg_summary"
   ]
  },
  {
   "attachments": {},
   "cell_type": "markdown",
   "metadata": {},
   "source": [
    "* Weight is machine learning word for coefficients\n",
    "    * ![Alt text](img/220.%20Feature%20Selection%20through%20Standardization%20of%20Weights3.jpg)\n",
    "        * The name comes from the fact that the bigger the weight the bigger the impact of the feature on the regression. It carries weight on the result.\n",
    "* Intercept is called bias on machine learning context.\n",
    "    * ![Alt text](img/220.%20Feature%20Selection%20through%20Standardization%20of%20Weights4.jpg)\n",
    "        *  The idea is that the intercept is nothing but a number which adjusts our regression with some constant. But if we need to adjust our regression with some constant then the regression is biased by that number.\n",
    "        \n",
    "* Using these new naming conventions we can conveniently distinguish between a regular coefficient summary table and this new one with a standardized coefficients or weights.\n",
    "    * ![Alt text](img/220.%20Feature%20Selection%20through%20Standardization%20of%20Weights5.jpg)\n",
    "\n",
    "* What about the interpretation of these weights? \n",
    "    * The closer a weight is to zero, the smaller it's impact.\n",
    "    * The bigger the weight, the bigger it's impact.\n",
    "        * In the example, the weight of SAT is 0.17, which is much much bigger than that of Rand 1, 2, 3 standing at merely minus 0.007. \n",
    "        * This brings us to feature selection through standardization, we can clearly see that Rand 1,2, 3 barely contributes to our outputs, if at all.\n",
    "        * It will make little difference if we remove it from the model or leave it there with a weight of almost zero. As zero times any value is equal to zero.\n",
    "\n",
    "* When we perform feature scaling, we don't really care if a useless variable is there or not.\n",
    "    * This is also one of the main reasons why Sklearn does not natively support P values. Since most ML practitioners perform some kind of feature scaling before fitting a model, we don't really need to identify the worst performing features. They are automatically penalized by having a very small weight."
   ]
  },
  {
   "attachments": {},
   "cell_type": "markdown",
   "metadata": {},
   "source": [
    "## 221. Predicting with the Standardized Coefficients"
   ]
  },
  {
   "attachments": {},
   "cell_type": "markdown",
   "metadata": {},
   "source": [
    "https://www.udemy.com/course/the-data-science-course-complete-data-science-bootcamp/learn/lecture/14390458#overview"
   ]
  },
  {
   "cell_type": "code",
   "execution_count": 71,
   "metadata": {},
   "outputs": [
    {
     "data": {
      "text/html": [
       "<div>\n",
       "<style scoped>\n",
       "    .dataframe tbody tr th:only-of-type {\n",
       "        vertical-align: middle;\n",
       "    }\n",
       "\n",
       "    .dataframe tbody tr th {\n",
       "        vertical-align: top;\n",
       "    }\n",
       "\n",
       "    .dataframe thead th {\n",
       "        text-align: right;\n",
       "    }\n",
       "</style>\n",
       "<table border=\"1\" class=\"dataframe\">\n",
       "  <thead>\n",
       "    <tr style=\"text-align: right;\">\n",
       "      <th></th>\n",
       "      <th>SAT</th>\n",
       "      <th>Rand 1,2,3</th>\n",
       "    </tr>\n",
       "  </thead>\n",
       "  <tbody>\n",
       "    <tr>\n",
       "      <th>0</th>\n",
       "      <td>1700</td>\n",
       "      <td>2</td>\n",
       "    </tr>\n",
       "    <tr>\n",
       "      <th>1</th>\n",
       "      <td>1800</td>\n",
       "      <td>1</td>\n",
       "    </tr>\n",
       "  </tbody>\n",
       "</table>\n",
       "</div>"
      ],
      "text/plain": [
       "    SAT  Rand 1,2,3\n",
       "0  1700           2\n",
       "1  1800           1"
      ]
     },
     "execution_count": 71,
     "metadata": {},
     "output_type": "execute_result"
    }
   ],
   "source": [
    "new_data = pd.DataFrame(data=[[1700, 2], [1800, 1]], columns=['SAT', 'Rand 1,2,3'])\n",
    "new_data"
   ]
  },
  {
   "attachments": {},
   "cell_type": "markdown",
   "metadata": {},
   "source": [
    "* It is crucial that our new data, data frame is arranged in the exact same way as our input data, X.\n",
    "    * ![Alt text](img/221.%20Predicting%20with%20the%20Standardized%20Coefficients1.jpg)\n",
    "\n",
    "* After we confirm this we can proceed to predicting the new values.\n",
    "    * We can simply call the predict method on the regression and then specify the new inputs as an argument."
   ]
  },
  {
   "cell_type": "code",
   "execution_count": 72,
   "metadata": {},
   "outputs": [
    {
     "name": "stderr",
     "output_type": "stream",
     "text": [
      "C:\\Users\\cilit\\AppData\\Local\\Packages\\PythonSoftwareFoundation.Python.3.9_qbz5n2kfra8p0\\LocalCache\\local-packages\\Python39\\site-packages\\sklearn\\base.py:402: UserWarning: X has feature names, but LinearRegression was fitted without feature names\n",
      "  warnings.warn(\n"
     ]
    },
    {
     "data": {
      "text/plain": [
       "array([295.39979563, 312.58821497])"
      ]
     },
     "execution_count": 72,
     "metadata": {},
     "output_type": "execute_result"
    }
   ],
   "source": [
    "reg.predict(new_data)"
   ]
  },
  {
   "attachments": {},
   "cell_type": "markdown",
   "metadata": {},
   "source": [
    "* The result that we get is quite confusing. 295.4 and 312.6.\n",
    "    * This is not even a valid GPA. \n",
    "    * This happened because our regression model was trained on standardized inputs.\n",
    "        * ![Alt text](img/221.%20Predicting%20with%20the%20Standardized%20Coefficients2.jpg)\n",
    "            * It expects values that are of the same magnitude as the ones used in the training process.\n",
    "    \n",
    "* We can add that it also must be standardized in the same way, with the same mean and standard deviation."
   ]
  },
  {
   "cell_type": "code",
   "execution_count": 73,
   "metadata": {},
   "outputs": [
    {
     "data": {
      "text/plain": [
       "array([[-1.39811928, -0.07002087],\n",
       "       [-0.43571643, -1.24637147]])"
      ]
     },
     "execution_count": 73,
     "metadata": {},
     "output_type": "execute_result"
    }
   ],
   "source": [
    "new_data_scaled = scaler.transform(new_data)\n",
    "new_data_scaled"
   ]
  },
  {
   "cell_type": "code",
   "execution_count": 74,
   "metadata": {},
   "outputs": [
    {
     "data": {
      "text/plain": [
       "array([3.09051403, 3.26413803])"
      ]
     },
     "execution_count": 74,
     "metadata": {},
     "output_type": "execute_result"
    }
   ],
   "source": [
    "reg.predict(new_data_scaled)"
   ]
  },
  {
   "attachments": {},
   "cell_type": "markdown",
   "metadata": {},
   "source": [
    "* Here's the result, it is of the magnitude we anticipated. \n",
    "    * Our first student is predicted to have a GPA of 3.09 while the second 3.26.\n",
    "\n",
    "* What would happen if we decided to remove the rand. 1, 2, 3 feature theory suggests that nothing should change, right?\n",
    "    * Let's try it\n",
    "        * First, we must create a new regression or Reg Simple as it is a simple linear regression.\n",
    "        * Next, we must declare the inputs. Let's create a new variable called x_simple which will contain all observations from X scaled from last lecture, but only referring to the SAT column or column zero.\n",
    "            * If you remember, SK learn would return an error if the inputs are not of matrix form so let's make it a matrix with the reshape method.\n",
    "        * Next, we fit the regression with inputs X simple matrix and outputs Y.\n",
    "            * Once the regression is fitted, we can proceed to predicting the new data.\n",
    "        * Reg Simple dot Predict with argument only the first column of the scaled new data.\n",
    "            * It is crucial that we only feed the S A T score because this regression was trained only on it. \n",
    "            * Moreover, once again, it must be reshaped so the code executes properly."
   ]
  },
  {
   "cell_type": "code",
   "execution_count": 75,
   "metadata": {},
   "outputs": [
    {
     "data": {
      "text/plain": [
       "{'copy_X': True, 'fit_intercept': True, 'n_jobs': None, 'positive': False}"
      ]
     },
     "execution_count": 75,
     "metadata": {},
     "output_type": "execute_result"
    }
   ],
   "source": [
    "reg_simple = LinearRegression()\n",
    "x_simple_matrix = x_scaled[:,0].reshape(-1,1)\n",
    "reg_simple.fit(x_simple_matrix, y).get_params()"
   ]
  },
  {
   "cell_type": "code",
   "execution_count": 76,
   "metadata": {},
   "outputs": [
    {
     "data": {
      "text/plain": [
       "array([3.08970998, 3.25527879])"
      ]
     },
     "execution_count": 76,
     "metadata": {},
     "output_type": "execute_result"
    }
   ],
   "source": [
    "reg_simple.predict(new_data_scaled[:,0].reshape(-1, 1))"
   ]
  },
  {
   "attachments": {},
   "cell_type": "markdown",
   "metadata": {},
   "source": [
    "* The Result & Compare\n",
    "    * ![Alt text](img/221.%20Predicting%20with%20the%20Standardized%20Coefficients3.jpg)\n",
    "        * The predicted GPA is slightly different,but actually if we  round up to two digits after the dot we get the exact same results 3.09 and 3.26.\n",
    "        * This finding shows us why the developers of SK Learn have decided that P values are not needed.\n",
    "        * When we apply feature scaling it often does not affect the final result if We keep or leave out in significant features Their weights will be so close to zero that they will barely influence the predictions."
   ]
  },
  {
   "attachments": {},
   "cell_type": "markdown",
   "metadata": {},
   "source": [
    "## 222. Feature Scaling (Standardization) - Exercise"
   ]
  },
  {
   "attachments": {},
   "cell_type": "markdown",
   "metadata": {},
   "source": [
    "https://www.udemy.com/course/the-data-science-course-complete-data-science-bootcamp/learn/lecture/14390462#overview"
   ]
  },
  {
   "attachments": {},
   "cell_type": "markdown",
   "metadata": {},
   "source": [
    "## 223. Underfitting and Overfitting"
   ]
  },
  {
   "attachments": {},
   "cell_type": "markdown",
   "metadata": {},
   "source": [
    "https://www.udemy.com/course/the-data-science-course-complete-data-science-bootcamp/learn/lecture/14390466#overview"
   ]
  },
  {
   "attachments": {},
   "cell_type": "markdown",
   "metadata": {},
   "source": [
    "* One of the most commonly asked questions at data science interviews is about overfitting. \"What's overfitting and how do we deal with it?\"\n",
    "    \n",
    "* **There are two concepts that are interrelated, underfitting and overfitting.**\n",
    "    * They go together and  Understanding one helps us understand the other and vice versa.\n",
    "    * ![Alt text](img/223.%20Underfitting%20and%20Overfitting1.jpg)\n",
    "        * overfitting means our regression has focused on the particular data set so much it has missed the point,\n",
    "        * underfitting, means the model has not captured the underlying logic of the data.\n",
    "    * ![Alt text](img/223.%20Underfitting%20and%20Overfitting2.jpg)\n",
    "        * Here we can see several data points. A good algorithm would result in a model that looks like graph above.\n",
    "        * It is not perfect, but is very close to the actual relationship.\n",
    "    * Underfitted\n",
    "        * ![Alt text](img/223.%20Underfitting%20and%20Overfitting3.jpg)\n",
    "            * Linear model would be an underfitting model. It provides an answer, but does not capture the underlying logic of the data. It doesn't have strong predictive power. \n",
    "            * Underfitted models are clumsy and have a low accuracy.\n",
    "            * You will quickly realize that either there are no relationships to be found, or you need a different model.\n",
    "    * Overfitted\n",
    "        * ![Alt text](img/223.%20Underfitting%20and%20Overfitting4.jpg)\n",
    "            * Overfitting refers to models that are so super good at modeling the data that they fit, or at least come very near each observation. The problem is that the random noise is captured inside an overfitted model.\n",
    "    * ![Alt text](img/223.%20Underfitting%20and%20Overfitting5.jpg)\n",
    "        * Underfitting is easy to spot. \n",
    "            * You have almost no accuracy whatsoever.\n",
    "        * Overfitting is much harder.\n",
    "            * As the accuracy of the model seems outstanding.\n",
    "            * There is one popular solution to overfitting. \n",
    "                * We can split our initial data set into two, training and test. Splits like 90% training and 10% test, or 80 20 are common.\n",
    "                * We create the regression on the training data. After we have the coefficients we test the model on the test data by assessing the accuracy.\n",
    "                    * The whole point is that the model has never seen the test data set. Therefore, it cannot overfit on it."
   ]
  },
  {
   "attachments": {},
   "cell_type": "markdown",
   "metadata": {},
   "source": [
    "## 224. Train - Test Split Explained"
   ]
  },
  {
   "attachments": {},
   "cell_type": "markdown",
   "metadata": {},
   "source": [
    "https://www.udemy.com/course/the-data-science-course-complete-data-science-bootcamp/learn/lecture/14390476#overview"
   ]
  },
  {
   "attachments": {},
   "cell_type": "markdown",
   "metadata": {},
   "source": [
    "* STEP BY STEP\n",
    "    * First, import NumPy then from Sklearn, model selection and import train_test_split\n",
    "    * Now, generate some data we are going to split.\n",
    "        * Create two arrays: A and B.\n",
    "            * ![Alt text](img/224.%20Train%20-%20Test%20Split%20Explained1.jpg)\n",
    "                * Arange is equivalent to the built-in Python function range but places the generated values in an array rather than a list.\n",
    "            * Let A be equal to np arange with arguments one and 101 and the result is an array with elements ranging from one to 100 included.\n",
    "                * It is very important that the values inside are arranged. This will help us a great deal to follow what the splitting process has accomplished.\n",
    "            * Now, create B which will range from 501 to 600.\n",
    "    * Then split the data using train_test_split\n",
    "        * ![Alt text](img/224.%20Train%20-%20Test%20Split%20Explained2.jpg)\n",
    "        * It takes an array and splits it into two arrays.\n",
    "            * ![Alt text](img/224.%20Train%20-%20Test%20Split%20Explained3.jpg)\n",
    "                * In general, we would prefer storing the result in dedicated variables so we can write a_train, a_test equals train_test_split of a.\n",
    "                * The first array is always considered to be the training array while the second, the testing one.\n",
    "    * Let's explore the result.\n",
    "        * First, it makes sense to check the shapes of the two variables.\n",
    "            * A_train has a length of 75 while a_test, a length of 25. \n",
    "            * Here are the respective arrays. There are two important observations that we can spot right away.\n",
    "                * First, the default split is 75, 25.\n",
    "                * Second, both arrays are shuffled.\n",
    "                    * They used to consist of numbers ordered from one to a 100 but are now completely randomized.\n",
    "                    * In fact, these are the default settings of train_test_split. 75, 25 is not an optimal split for my work as I really don't like dedicating so much of my data to testing.\n",
    "        * To amend this, we can use an argument called test size and set it to a float between zero and one. Therefore, to achieve an 80/20 split, we need to simply include test_size equals 0.2.\n",
    "            * ![Alt text](img/224.%20Train%20-%20Test%20Split%20Explained4.jpg)\n",
    "        * The main problem is that each time we split the data, we will get different training and testing datasets. So, if you are working on your models at home, you'd be creating a different regression on different data each time you run the cells. In the best case scenario, you would like to have shuffle data but shuffled in the same way every time. Fortunately, Sklearn has a random state argument.\n",
    "            * ![Alt text](img/224.%20Train%20-%20Test%20Split%20Explained5.jpg)\n",
    "                * add the random state argument and set it to 42. \n",
    "                    * 42 is the conventionally used number by the community. A kind of an internety joke. \n",
    "                * If we try rerunning the code again and again, we would always get the exact same shuffled split.\n",
    "        * SPECIAL CASE:\n",
    "            * Sometimes when working with time series data for instance, the order of the array is of utmost importance. In these cases, we prefer our dataset to be split without being shuffled. There's an argument called shuffle which is set to true by default. Changing that to false would yield a very intuitive result.\n",
    "                * ![Alt text](img/224.%20Train%20-%20Test%20Split%20Explained6.jpg)\n",
    "    * Finally, we must note that this method has another convenience. We can split more than one array at the same time.\n",
    "        * ![Alt text](img/224.%20Train%20-%20Test%20Split%20Explained7.jpg)\n",
    "        * ![Alt text](img/224.%20Train%20-%20Test%20Split%20Explained8.jpg)\n",
    "            * Here's where our B array comes into play. We can simply add B as an argument and include two new variables to store the returned arrays. We'll call them B_train and B_test."
   ]
  },
  {
   "attachments": {},
   "cell_type": "markdown",
   "metadata": {},
   "source": [
    "### Train Test Split"
   ]
  },
  {
   "attachments": {},
   "cell_type": "markdown",
   "metadata": {},
   "source": [
    "#### Import the relevant libraries"
   ]
  },
  {
   "cell_type": "code",
   "execution_count": 77,
   "metadata": {},
   "outputs": [],
   "source": [
    "import numpy as np\n",
    "from sklearn.model_selection import train_test_split"
   ]
  },
  {
   "attachments": {},
   "cell_type": "markdown",
   "metadata": {},
   "source": [
    "#### Generate some data we are going to split"
   ]
  },
  {
   "cell_type": "code",
   "execution_count": 78,
   "metadata": {},
   "outputs": [
    {
     "data": {
      "text/plain": [
       "array([  1,   2,   3,   4,   5,   6,   7,   8,   9,  10,  11,  12,  13,\n",
       "        14,  15,  16,  17,  18,  19,  20,  21,  22,  23,  24,  25,  26,\n",
       "        27,  28,  29,  30,  31,  32,  33,  34,  35,  36,  37,  38,  39,\n",
       "        40,  41,  42,  43,  44,  45,  46,  47,  48,  49,  50,  51,  52,\n",
       "        53,  54,  55,  56,  57,  58,  59,  60,  61,  62,  63,  64,  65,\n",
       "        66,  67,  68,  69,  70,  71,  72,  73,  74,  75,  76,  77,  78,\n",
       "        79,  80,  81,  82,  83,  84,  85,  86,  87,  88,  89,  90,  91,\n",
       "        92,  93,  94,  95,  96,  97,  98,  99, 100])"
      ]
     },
     "execution_count": 78,
     "metadata": {},
     "output_type": "execute_result"
    }
   ],
   "source": [
    "a = np.arange(1,101)\n",
    "a"
   ]
  },
  {
   "cell_type": "code",
   "execution_count": 79,
   "metadata": {},
   "outputs": [
    {
     "data": {
      "text/plain": [
       "array([501, 502, 503, 504, 505, 506, 507, 508, 509, 510, 511, 512, 513,\n",
       "       514, 515, 516, 517, 518, 519, 520, 521, 522, 523, 524, 525, 526,\n",
       "       527, 528, 529, 530, 531, 532, 533, 534, 535, 536, 537, 538, 539,\n",
       "       540, 541, 542, 543, 544, 545, 546, 547, 548, 549, 550, 551, 552,\n",
       "       553, 554, 555, 556, 557, 558, 559, 560, 561, 562, 563, 564, 565,\n",
       "       566, 567, 568, 569, 570, 571, 572, 573, 574, 575, 576, 577, 578,\n",
       "       579, 580, 581, 582, 583, 584, 585, 586, 587, 588, 589, 590, 591,\n",
       "       592, 593, 594, 595, 596, 597, 598, 599, 600])"
      ]
     },
     "execution_count": 79,
     "metadata": {},
     "output_type": "execute_result"
    }
   ],
   "source": [
    "b = np.arange(501, 601)\n",
    "b"
   ]
  },
  {
   "attachments": {},
   "cell_type": "markdown",
   "metadata": {},
   "source": [
    "#### Split the data"
   ]
  },
  {
   "cell_type": "code",
   "execution_count": 80,
   "metadata": {},
   "outputs": [
    {
     "data": {
      "text/plain": [
       "[array([ 93,  28,  38,  18,  24,   7,  54,  58,  96,  26,  36,  97,  39,\n",
       "         67,  99,  41,  90,  64,  17,   3,  37,  81,   6,  10,  98,  47,\n",
       "         61,  68,  92,  16,  27,  85,  83,  12,  48,  52,  51,  62,  31,\n",
       "         77,  23,  53,  71,   1,   2,  66,  20,  86,  69,  19, 100,  76,\n",
       "         74,  30,   8,  65,  73,  72,  22,   5,  45,  25,   9,  33,  32,\n",
       "         46,  57,  78,  89,  29,  13,  55,  60,  40,  15]),\n",
       " array([43, 14, 35, 80, 21,  4, 42, 49, 88, 82, 34, 94, 91, 87, 79, 75, 44,\n",
       "        56, 84, 63, 50, 95, 59, 11, 70])]"
      ]
     },
     "execution_count": 80,
     "metadata": {},
     "output_type": "execute_result"
    }
   ],
   "source": [
    "train_test_split(a)"
   ]
  },
  {
   "cell_type": "code",
   "execution_count": 81,
   "metadata": {},
   "outputs": [],
   "source": [
    "a_train, a_test, b_train, b_test = train_test_split(a, b, test_size=0.2, random_state=42) \n",
    "#changing split from default 75/25 to 80/20 using test_size"
   ]
  },
  {
   "attachments": {},
   "cell_type": "markdown",
   "metadata": {},
   "source": [
    "#### Explorer the result"
   ]
  },
  {
   "cell_type": "code",
   "execution_count": 82,
   "metadata": {},
   "outputs": [
    {
     "data": {
      "text/plain": [
       "((80,), (20,))"
      ]
     },
     "execution_count": 82,
     "metadata": {},
     "output_type": "execute_result"
    }
   ],
   "source": [
    "a_train.shape, a_test.shape"
   ]
  },
  {
   "cell_type": "code",
   "execution_count": 83,
   "metadata": {},
   "outputs": [
    {
     "data": {
      "text/plain": [
       "array([ 56,  89,  27,  43,  70,  16,  41,  97,  10,  73,  12,  48,  86,\n",
       "        29,  94,   6,  67,  66,  36,  17,  50,  35,   8,  96,  28,  20,\n",
       "        82,  26,  63,  14,  25,   4,  18,  39,   9,  79,   7,  65,  37,\n",
       "        90,  57, 100,  55,  44,  51,  68,  47,  69,  62,  98,  80,  42,\n",
       "        59,  49,  99,  58,  76,  33,  95,  60,  64,  85,  38,  30,   2,\n",
       "        53,  22,   3,  24,  88,  92,  75,  87,  83,  21,  61,  72,  15,\n",
       "        93,  52])"
      ]
     },
     "execution_count": 83,
     "metadata": {},
     "output_type": "execute_result"
    }
   ],
   "source": [
    "a_train"
   ]
  },
  {
   "cell_type": "code",
   "execution_count": 84,
   "metadata": {},
   "outputs": [
    {
     "data": {
      "text/plain": [
       "array([84, 54, 71, 46, 45, 40, 23, 81, 11,  1, 19, 31, 74, 34, 91,  5, 77,\n",
       "       78, 13, 32])"
      ]
     },
     "execution_count": 84,
     "metadata": {},
     "output_type": "execute_result"
    }
   ],
   "source": [
    "a_test"
   ]
  },
  {
   "cell_type": "code",
   "execution_count": 85,
   "metadata": {},
   "outputs": [
    {
     "data": {
      "text/plain": [
       "((80,), (20,))"
      ]
     },
     "execution_count": 85,
     "metadata": {},
     "output_type": "execute_result"
    }
   ],
   "source": [
    "b_train.shape, b_test.shape"
   ]
  },
  {
   "cell_type": "code",
   "execution_count": 86,
   "metadata": {},
   "outputs": [
    {
     "data": {
      "text/plain": [
       "array([556, 589, 527, 543, 570, 516, 541, 597, 510, 573, 512, 548, 586,\n",
       "       529, 594, 506, 567, 566, 536, 517, 550, 535, 508, 596, 528, 520,\n",
       "       582, 526, 563, 514, 525, 504, 518, 539, 509, 579, 507, 565, 537,\n",
       "       590, 557, 600, 555, 544, 551, 568, 547, 569, 562, 598, 580, 542,\n",
       "       559, 549, 599, 558, 576, 533, 595, 560, 564, 585, 538, 530, 502,\n",
       "       553, 522, 503, 524, 588, 592, 575, 587, 583, 521, 561, 572, 515,\n",
       "       593, 552])"
      ]
     },
     "execution_count": 86,
     "metadata": {},
     "output_type": "execute_result"
    }
   ],
   "source": [
    "b_train"
   ]
  },
  {
   "cell_type": "code",
   "execution_count": 87,
   "metadata": {},
   "outputs": [
    {
     "data": {
      "text/plain": [
       "array([584, 554, 571, 546, 545, 540, 523, 581, 511, 501, 519, 531, 574,\n",
       "       534, 591, 505, 577, 578, 513, 532])"
      ]
     },
     "execution_count": 87,
     "metadata": {},
     "output_type": "execute_result"
    }
   ],
   "source": [
    "b_test"
   ]
  },
  {
   "attachments": {},
   "cell_type": "markdown",
   "metadata": {},
   "source": [
    "* By exploring the shapes and the arrays themselves, we reach a consistent result.\n",
    "    * A consists of the ordered sequence of the numbers from 1 to a 100 \n",
    "    * while B from 501 to 600.\n",
    "\n",
    "* Therefore, we can say that the number one from A matches with 501 from B, 25 from A matches with 525 from B and so on. When we split A and B using the train_test_split, their elements are shuffled in the same way. Exploring A_train and B_train for instance shows us that they are indeed matching.\n",
    "    * ![Alt text](img/224.%20Train%20-%20Test%20Split%20Explained9.jpg)\n",
    "* This is extremely important for regressions because we want a certain observation's inputs to match with its target even after shuffling."
   ]
  },
  {
   "attachments": {},
   "cell_type": "markdown",
   "metadata": {},
   "source": [
    "# **Section 35: Advanced Statistical Methods - Practical Example: Linear Regression**"
   ]
  },
  {
   "attachments": {},
   "cell_type": "markdown",
   "metadata": {},
   "source": [
    "## 225. Practical Example: Linear Regression (Part 1)"
   ]
  },
  {
   "attachments": {},
   "cell_type": "markdown",
   "metadata": {},
   "source": [
    "https://www.udemy.com/course/the-data-science-course-complete-data-science-bootcamp/learn/lecture/14390482#overview"
   ]
  },
  {
   "attachments": {},
   "cell_type": "markdown",
   "metadata": {},
   "source": [
    "* We will deal with a real-life example about car sales.\n",
    "    * STEP BY STEP\n",
    "        * ![Alt text](img/225.%20Practical%20Example%20Linear%20Regression%20(Part%201)1.jpg)"
   ]
  },
  {
   "attachments": {},
   "cell_type": "markdown",
   "metadata": {},
   "source": [
    "## 226. Practical Example: Linear Regression (Part 2)"
   ]
  },
  {
   "attachments": {},
   "cell_type": "markdown",
   "metadata": {},
   "source": [
    "## 227. A Note on Multicollinearity"
   ]
  },
  {
   "attachments": {},
   "cell_type": "markdown",
   "metadata": {},
   "source": [
    "## 228. Practical Example: Linear Regression (Part 3)"
   ]
  },
  {
   "attachments": {},
   "cell_type": "markdown",
   "metadata": {},
   "source": [
    "## 229. Dummies and Variance Inflation Factor - Exercise"
   ]
  },
  {
   "attachments": {},
   "cell_type": "markdown",
   "metadata": {},
   "source": [
    "## 230. Practical Example: Linear Regression (Part 4)"
   ]
  },
  {
   "attachments": {},
   "cell_type": "markdown",
   "metadata": {},
   "source": [
    "## 231. Dummy Variables - Exercise"
   ]
  },
  {
   "attachments": {},
   "cell_type": "markdown",
   "metadata": {},
   "source": [
    "## 232. Practical Example: Linear Regression (Part 5)"
   ]
  },
  {
   "attachments": {},
   "cell_type": "markdown",
   "metadata": {},
   "source": [
    "## 233. Linear Regression - Exercise"
   ]
  },
  {
   "attachments": {},
   "cell_type": "markdown",
   "metadata": {},
   "source": [
    "# **Section 36: Advanced Statistical Methods - Logistic Regression**"
   ]
  },
  {
   "attachments": {},
   "cell_type": "markdown",
   "metadata": {},
   "source": [
    "## 234. Introduction to Logistic Regression\n"
   ]
  },
  {
   "attachments": {},
   "cell_type": "markdown",
   "metadata": {},
   "source": [
    "## 235. A Simple Example in Python"
   ]
  },
  {
   "attachments": {},
   "cell_type": "markdown",
   "metadata": {},
   "source": [
    "## 236. Logistic vs Logit Function"
   ]
  },
  {
   "attachments": {},
   "cell_type": "markdown",
   "metadata": {},
   "source": [
    "## 237. Building a Logistic Regression"
   ]
  },
  {
   "attachments": {},
   "cell_type": "markdown",
   "metadata": {},
   "source": [
    "## 238. Building a Logistic Regression - Exercise"
   ]
  },
  {
   "attachments": {},
   "cell_type": "markdown",
   "metadata": {},
   "source": [
    "## 239. An Invaluable Coding Tip"
   ]
  },
  {
   "attachments": {},
   "cell_type": "markdown",
   "metadata": {},
   "source": [
    "## 240. Understanding Logistic Regression Tables"
   ]
  },
  {
   "attachments": {},
   "cell_type": "markdown",
   "metadata": {},
   "source": [
    "## 241. Understanding Logistic Regression Tables - Exercise"
   ]
  },
  {
   "attachments": {},
   "cell_type": "markdown",
   "metadata": {},
   "source": [
    "## 242. What do the Odds Actually Mean"
   ]
  },
  {
   "attachments": {},
   "cell_type": "markdown",
   "metadata": {},
   "source": [
    "## 243. Binary Predictors in a Logistic Regression"
   ]
  },
  {
   "attachments": {},
   "cell_type": "markdown",
   "metadata": {},
   "source": [
    "## 244. Binary Predictors in a Logistic Regression - Exercise"
   ]
  },
  {
   "attachments": {},
   "cell_type": "markdown",
   "metadata": {},
   "source": [
    "## 245. Calculating the Accuracy of the Model"
   ]
  },
  {
   "attachments": {},
   "cell_type": "markdown",
   "metadata": {},
   "source": [
    "## 246. Calculating the Accuracy of the Model"
   ]
  },
  {
   "attachments": {},
   "cell_type": "markdown",
   "metadata": {},
   "source": [
    "## 247. Underfitting and Overfitting"
   ]
  },
  {
   "attachments": {},
   "cell_type": "markdown",
   "metadata": {},
   "source": [
    "## 248. Testing the Model"
   ]
  },
  {
   "attachments": {},
   "cell_type": "markdown",
   "metadata": {},
   "source": [
    "## 249. Testing the Model - Exercise"
   ]
  },
  {
   "attachments": {},
   "cell_type": "markdown",
   "metadata": {},
   "source": [
    "# **Section 37: Advanced Statistical Methods - Cluster Analysis**"
   ]
  },
  {
   "attachments": {},
   "cell_type": "markdown",
   "metadata": {},
   "source": [
    "## 250. Introduction to Cluster Analysis"
   ]
  },
  {
   "attachments": {},
   "cell_type": "markdown",
   "metadata": {},
   "source": [
    "## 251. Some Examples of Clusters"
   ]
  },
  {
   "attachments": {},
   "cell_type": "markdown",
   "metadata": {},
   "source": [
    "## 252. Difference between Classification and Clustering"
   ]
  },
  {
   "attachments": {},
   "cell_type": "markdown",
   "metadata": {},
   "source": [
    "## 253. Math Prerequisites"
   ]
  },
  {
   "attachments": {},
   "cell_type": "markdown",
   "metadata": {},
   "source": [
    "# **Section 38: Advanced Statistical Methods - K-Means Clustering**"
   ]
  },
  {
   "attachments": {},
   "cell_type": "markdown",
   "metadata": {},
   "source": [
    "## 254. K-Means Clustering"
   ]
  },
  {
   "attachments": {},
   "cell_type": "markdown",
   "metadata": {},
   "source": [
    "## 255. A Simple Example of Clustering"
   ]
  },
  {
   "attachments": {},
   "cell_type": "markdown",
   "metadata": {},
   "source": [
    "## 256. A Simple Example of Clustering - Exercise"
   ]
  },
  {
   "attachments": {},
   "cell_type": "markdown",
   "metadata": {},
   "source": [
    "## 257. Clustering Categorical Data"
   ]
  },
  {
   "attachments": {},
   "cell_type": "markdown",
   "metadata": {},
   "source": [
    "## 258. Clustering Categorical Data - Exercise"
   ]
  },
  {
   "attachments": {},
   "cell_type": "markdown",
   "metadata": {},
   "source": [
    "## 259. How to Choose the Number of Clusters"
   ]
  },
  {
   "attachments": {},
   "cell_type": "markdown",
   "metadata": {},
   "source": [
    "## 260. How to Choose the Number of Clusters - Exercise"
   ]
  },
  {
   "attachments": {},
   "cell_type": "markdown",
   "metadata": {},
   "source": [
    "## 261. Pros and Cons of K-Means Clustering"
   ]
  },
  {
   "attachments": {},
   "cell_type": "markdown",
   "metadata": {},
   "source": [
    "## 262. To Standardize or not to Standardize"
   ]
  },
  {
   "attachments": {},
   "cell_type": "markdown",
   "metadata": {},
   "source": [
    "## 263. Relationship between Clustering and Regression"
   ]
  },
  {
   "attachments": {},
   "cell_type": "markdown",
   "metadata": {},
   "source": [
    "## 264. Market Segmentation with Cluster Analysis (Part 1)"
   ]
  },
  {
   "attachments": {},
   "cell_type": "markdown",
   "metadata": {},
   "source": [
    "## 265. Market Segmentation with Cluster Analysis (Part 2)"
   ]
  },
  {
   "attachments": {},
   "cell_type": "markdown",
   "metadata": {},
   "source": [
    "## 266. How is Clustering Useful?"
   ]
  },
  {
   "attachments": {},
   "cell_type": "markdown",
   "metadata": {},
   "source": [
    "## 267. EXERCISE: Species Segmentation with Cluster Analysis (Part 1)"
   ]
  },
  {
   "attachments": {},
   "cell_type": "markdown",
   "metadata": {},
   "source": [
    "## 268. EXERCISE: Species Segmentation with Cluster Analysis (Part 2)"
   ]
  },
  {
   "attachments": {},
   "cell_type": "markdown",
   "metadata": {},
   "source": [
    "# **Section 39: Advanced Statistical Methods - Other Types of Clustering**"
   ]
  },
  {
   "attachments": {},
   "cell_type": "markdown",
   "metadata": {},
   "source": [
    "## 269. Types of Clustering"
   ]
  },
  {
   "attachments": {},
   "cell_type": "markdown",
   "metadata": {},
   "source": [
    "## 270. Dendrogram"
   ]
  },
  {
   "attachments": {},
   "cell_type": "markdown",
   "metadata": {},
   "source": [
    "## 271. Heatmaps"
   ]
  }
 ],
 "metadata": {
  "kernelspec": {
   "display_name": "Python 3 (ipykernel)",
   "language": "python",
   "name": "python3"
  },
  "language_info": {
   "codemirror_mode": {
    "name": "ipython",
    "version": 3
   },
   "file_extension": ".py",
   "mimetype": "text/x-python",
   "name": "python",
   "nbconvert_exporter": "python",
   "pygments_lexer": "ipython3",
   "version": "3.9.13"
  },
  "vscode": {
   "interpreter": {
    "hash": "1b600a3438a79bc98971c3547d28f531d0c8ed6c91b96b1480a504fa30005dbe"
   }
  }
 },
 "nbformat": 4,
 "nbformat_minor": 2
}
