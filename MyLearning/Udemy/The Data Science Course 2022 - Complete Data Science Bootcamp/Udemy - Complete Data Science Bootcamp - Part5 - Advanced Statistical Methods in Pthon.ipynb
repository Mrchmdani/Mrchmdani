{
 "cells": [
  {
   "attachments": {},
   "cell_type": "markdown",
   "metadata": {},
   "source": [
    "# Section 31: Part 5: Advanced Statistical Methods in Python"
   ]
  },
  {
   "attachments": {},
   "cell_type": "markdown",
   "metadata": {},
   "source": [
    "## 181. Introduction to Regression Analysis"
   ]
  },
  {
   "attachments": {},
   "cell_type": "markdown",
   "metadata": {},
   "source": [
    "https://www.udemy.com/course/the-data-science-course-complete-data-science-bootcamp/learn/lecture/10776980#content"
   ]
  },
  {
   "attachments": {},
   "cell_type": "markdown",
   "metadata": {},
   "source": [
    "* Regression analysis is one of the most common methods of prediction. It is used whenever we have a causal relationship between variables. A great deal of predictive modeling in practice is done through regression analysis.\n",
    "    * ![Alt text](img/181.%20Introduction%20to%20Regression%20Analysis1.jpg)\n",
    "* It becomes extremely powerful when complimented by techniques like factor analysis, and you can truly find many academic papers based on it. Moreover, fundamentals of regression analysis are used in supervised machine learning. So you can see how regressions are a must for data science.\n",
    "    * ![Alt text](img/181.%20Introduction%20to%20Regression%20Analysis2.jpg)\n",
    "\n",
    "* Example:\n",
    "    * The general point is the following, among other factors, the amount of money you spend depends on the amount of money you earn.\n",
    "    * In the same way the amount of time you devote to this course is affected by your motivation to learn additional statistical methods. You can quantify these relationships and many others using regression analysis.\n",
    "        * * ![Alt text](img/181.%20Introduction%20to%20Regression%20Analysis3.jpg)\n",
    "* Typical step-by-step approach is start with a simple linear regression model, and before long, we'll be dealing with a multiple regression model.\n",
    "    * ![Alt text](img/181.%20Introduction%20to%20Regression%20Analysis4.jpg)"
   ]
  },
  {
   "attachments": {},
   "cell_type": "markdown",
   "metadata": {},
   "source": [
    "## Quiz 107: Introduction to Regression Analysis"
   ]
  },
  {
   "attachments": {},
   "cell_type": "markdown",
   "metadata": {},
   "source": [
    "* Are you ready for regression analysis?\n",
    "    * Yes"
   ]
  },
  {
   "attachments": {},
   "cell_type": "markdown",
   "metadata": {},
   "source": [
    "# Section 32: Advanced Statistical Methods - Linear Regression with StatsModels"
   ]
  },
  {
   "attachments": {},
   "cell_type": "markdown",
   "metadata": {},
   "source": [
    "## 182. The Linear Regression Model"
   ]
  },
  {
   "attachments": {},
   "cell_type": "markdown",
   "metadata": {},
   "source": [
    "https://www.udemy.com/course/the-data-science-course-complete-data-science-bootcamp/learn/lecture/10776984#content"
   ]
  },
  {
   "attachments": {},
   "cell_type": "markdown",
   "metadata": {},
   "source": [
    "* A linear regression is a linear approximation of a casual relationship between two or more variables.\n",
    "    * Regression models are highly valuable. As they are one of the most common ways to make inferences and predictions.\n",
    "* The Process:\n",
    "    * Get sample data.\n",
    "    * Design a model that explains the data.\n",
    "    * And then make predictions for the whole population.\n",
    "    * ![Alt text](img/182.%20The%20Linear%20Regression%20Model1.jpg)\n",
    "* There is a dependent variable, labeled 'Y' being predicted. And independent variables, labeled 'X1', 'X2', and so forth. These are the predictors. 'Y' is a function of the 'X' variables, and the regression model is a linear approximation of this function.\n",
    "    * ![Alt text](img/182.%20The%20Linear%20Regression%20Model2.jpg)\n",
    "* The easiest regression model is the simple linear regression.\n",
    "    * ![Alt text](img/182.%20The%20Linear%20Regression%20Model3.jpg)\n",
    "        * 'Y' is equal to beta zero plus beta one times 'X' plus epsilon.\n",
    "        * 'Y' is the variable we are trying to predict, and is called the dependent variable.\n",
    "        * 'X' is an independent variable.\n",
    "        * But to have a regression, 'Y' must depend on 'X' in some causal way. Whenever there is a change in 'X', such change must translate into a change in 'Y'.\n",
    "\n",
    "* Simple Linear Regression Equation\n",
    "    * ![Alt text](img/182.%20The%20Linear%20Regression%20Model4.jpg)\n",
    "    * The 'Y' here is referred to as 'Y' hat. Whenever we have a hat symbol, it is an estimated or predicted value. 'B' zero is the estimate of the regression constant Beta zero. While 'B' one is the estimate of Beta one and 'X' is the sample data for the independent variable."
   ]
  },
  {
   "attachments": {},
   "cell_type": "markdown",
   "metadata": {},
   "source": [
    "## Quiz 108: The Linear Regression Model"
   ]
  },
  {
   "attachments": {},
   "cell_type": "markdown",
   "metadata": {},
   "source": [
    "https://www.udemy.com/course/the-data-science-course-complete-data-science-bootcamp/learn/quiz/4451910#overview"
   ]
  },
  {
   "attachments": {},
   "cell_type": "markdown",
   "metadata": {},
   "source": [
    "1. You have an ice-cream shop. You noticed a relationship between the number of cones you order and the number of ice-creams you sell. Is this a suitable situation for regression analysis?\n",
    "    * No\n",
    "    * While it is true that, if you run out of cones, you cannot sell anymore ice-creams, this is not regression analysis material. The two variables go hand-in-hand as (usually) each ice-cream requires a cone.\n",
    "2. You are trying to predict the amount of beer consumed in the US, depending on the state. Is this regression material?\n",
    "    * Yes\n",
    "    * Yes, logic shows us that, in different states, people drink different amounts of beer. Some states are warmer; other are colder etc. While many more things will be a part of this regression, such as gender, income etc., this is a good basis for regression analysis."
   ]
  },
  {
   "attachments": {},
   "cell_type": "markdown",
   "metadata": {},
   "source": [
    "## 183. Correlation vs Regression"
   ]
  },
  {
   "attachments": {},
   "cell_type": "markdown",
   "metadata": {},
   "source": [
    "https://www.udemy.com/course/the-data-science-course-complete-data-science-bootcamp/learn/lecture/10776986#overview"
   ]
  },
  {
   "attachments": {},
   "cell_type": "markdown",
   "metadata": {},
   "source": [
    "* The relationship between correlation analysis and regression analysis.\n",
    "    * Correlation does not imply causation.\n",
    "        * First, correlation measures the degree of relationship between two variables. Regression analysis is about how one variable affects another, or what changes it causes to the other.\n",
    "        * Second, correlation doesn't capture causality but the degree of interrelation between the two variables. Regression is based on causality. It shows no degree of connection but cause and effect.\n",
    "        * Third, a property of correlation is that the correlation between x and y is the same as between y and x. This you can easily see from the formula which is symmetrical. Regressions of y on x and x on y yield different results. Think about our example with income and education. Predicting income based on education makes sense, but the opposite does not.\n",
    "        * Finally, the two methods have a very different graphical representation. Linear regression analysis is known for the best fitting line that goes through the data points and minimizes the distance between them, while correlation is a single point.\n",
    "    * ![Alt text](img/183.%20Correlation%20vs%20Regression1.jpg)"
   ]
  },
  {
   "attachments": {},
   "cell_type": "markdown",
   "metadata": {},
   "source": [
    "## Quiz 109: Correlation vs Regression"
   ]
  },
  {
   "attachments": {},
   "cell_type": "markdown",
   "metadata": {},
   "source": [
    "https://www.udemy.com/course/the-data-science-course-complete-data-science-bootcamp/learn/quiz/4451912#overview"
   ]
  },
  {
   "attachments": {},
   "cell_type": "markdown",
   "metadata": {},
   "source": [
    "1. Which statement is false?\n",
    "    * Correlation could be represted as a line\n",
    "    * Correlation is a single point. It cannot be represented as a line.\n",
    "        * What about statement that is True?\n",
    "            * Correlation does not imply causation\n",
    "            * Correlation is symmetrical regarding both variables\n",
    "            * Correlation does not capture the direction of the causal relationship"
   ]
  },
  {
   "attachments": {},
   "cell_type": "markdown",
   "metadata": {},
   "source": [
    "## 184. Geometrical Representation of the Linear Regression Model"
   ]
  },
  {
   "attachments": {},
   "cell_type": "markdown",
   "metadata": {},
   "source": [
    "https://www.udemy.com/course/the-data-science-course-complete-data-science-bootcamp/learn/lecture/10776988#overview"
   ]
  },
  {
   "attachments": {},
   "cell_type": "markdown",
   "metadata": {},
   "source": [
    "* When we plot the data points on an XY plane the regression line is the best fitting line through the data points.\n",
    "    * ![Alt text](img/184.%20Geometrical%20Representation%20of%20the%20Linear%20Regression%20Model1.jpg)\n",
    "    * The gray points that are scattered are the observed values.\n",
    "    * B0 is a constant and is the intercept of the regression line with the Y axis.\n",
    "    * B1 is the slope of the regression line. It shows how much Y changes for each unit change of X.\n",
    "    * The distance between the observed values and the regression line is the estimator of the error term epsilon. It's point estimate is called residual.\n",
    "    * If you draw a perpendicular from an observed point to the regression line, the intercept between that perpendicular and the regression line is a point with a y value equal to Y hat, as we said earlier, given an x, Y hat is the value predicted by the regression line."
   ]
  },
  {
   "attachments": {},
   "cell_type": "markdown",
   "metadata": {},
   "source": [
    "## Quiz 110: Geometrical Representation of the Linear Regression Model"
   ]
  },
  {
   "attachments": {},
   "cell_type": "markdown",
   "metadata": {},
   "source": [
    "https://www.udemy.com/course/the-data-science-course-complete-data-science-bootcamp/learn/quiz/4545320#overview"
   ]
  },
  {
   "attachments": {},
   "cell_type": "markdown",
   "metadata": {},
   "source": [
    "1. Assume you have the following sample regression ŷ = 6 + x. If we draw the regression line, what would be its slope?\n",
    "    * 1\n",
    "    * The slope of the line is the coefficient in front of x"
   ]
  },
  {
   "attachments": {},
   "cell_type": "markdown",
   "metadata": {},
   "source": [
    "## 185. Python Packages Installation"
   ]
  },
  {
   "attachments": {},
   "cell_type": "markdown",
   "metadata": {},
   "source": [
    "https://www.udemy.com/course/the-data-science-course-complete-data-science-bootcamp/learn/lecture/10776992#overview"
   ]
  },
  {
   "attachments": {},
   "cell_type": "markdown",
   "metadata": {},
   "source": [
    "* ![Alt text](img/185.%20Python%20Packages%20Installation1.jpg)\n",
    "* Python packages for data science\n",
    "    * NumPy\n",
    "        * Third party package allowing us to work with multidimensional arrays. They represent a powerful way to organize and process data. Because of that, NumPy is a fundamental library for those who attempt to manipulate larger chunks of information.\n",
    "    * Pandas\n",
    "        * package that enhances NumPy even further. It allows us to organize data in a tabular form and to attach descriptive labels to the rows and the columns of the table, not just numbers, as it is with NumPy. In addition, Pandas is endowed with a broad gamma of tools facilitating our work with various data formats and missing data. Therefore, if you wanna do data science with Python, Pandas is an essential package you will need.\n",
    "    * SciPy\n",
    "        * Python ecosystem containing a lot of tools for scientific calculations, suitable for the fields of mathematics, machine learning, engineering, and more.\n",
    "    * StatsModels\n",
    "        * another package built on top of NumPy and SciPy, which also integrates with Pandas. We will mainly create regressions in StatsModels, as they provide very good summaries, unmatched for educational purposes.\n",
    "    * Matplotlib\n",
    "        * two dimensional plotting library, specially designed for visualization of NumPy computations. In addition, it contains a large set of tools that can help you adjust a graph to your liking.\n",
    "    * Seaborn\n",
    "        * Python visualization library based on Matplotlib. It provides a high level interface for drawing attractive statistical graphics.\n",
    "    * scikit-learn\n",
    "        * one of the most widely-used machine learning libraries.\n",
    "* StatsModels vs Scikit-learn\n",
    "    * StatsModels to create and discuss regressions, but we will also provide the relevant code in sklearn. Think about it in the following way, sklearn is the real deal, but StatsModels makes it easier to understand the real deal. The final sections of the chorus will be based predominantly on sklearn."
   ]
  },
  {
   "attachments": {},
   "cell_type": "markdown",
   "metadata": {},
   "source": [
    "* Write in code for install\n",
    "    * pip install numpy\n",
    "    * pip install pandas\n",
    "    * pip install scipy\n",
    "    * pip install statsmodels\n",
    "    * pip install matplotlib\n",
    "    * pip install seaborn\n",
    "    * pip install scikit-learn"
   ]
  },
  {
   "attachments": {},
   "cell_type": "markdown",
   "metadata": {},
   "source": [
    "## 186. First Regression in Python"
   ]
  },
  {
   "attachments": {},
   "cell_type": "markdown",
   "metadata": {},
   "source": [
    "https://www.udemy.com/course/the-data-science-course-complete-data-science-bootcamp/learn/lecture/10776994#overview"
   ]
  },
  {
   "attachments": {},
   "cell_type": "markdown",
   "metadata": {},
   "source": [
    "#### Import the relevant libraries"
   ]
  },
  {
   "cell_type": "code",
   "execution_count": 160,
   "metadata": {},
   "outputs": [],
   "source": [
    "import numpy as np\n",
    "import pandas as pd\n",
    "import matplotlib.pyplot as plt\n",
    "import statsmodels.api as sm"
   ]
  },
  {
   "attachments": {},
   "cell_type": "markdown",
   "metadata": {},
   "source": [
    "#### Load the data"
   ]
  },
  {
   "cell_type": "code",
   "execution_count": 161,
   "metadata": {},
   "outputs": [
    {
     "data": {
      "text/html": [
       "<div>\n",
       "<style scoped>\n",
       "    .dataframe tbody tr th:only-of-type {\n",
       "        vertical-align: middle;\n",
       "    }\n",
       "\n",
       "    .dataframe tbody tr th {\n",
       "        vertical-align: top;\n",
       "    }\n",
       "\n",
       "    .dataframe thead th {\n",
       "        text-align: right;\n",
       "    }\n",
       "</style>\n",
       "<table border=\"1\" class=\"dataframe\">\n",
       "  <thead>\n",
       "    <tr style=\"text-align: right;\">\n",
       "      <th></th>\n",
       "      <th>SAT</th>\n",
       "      <th>GPA</th>\n",
       "    </tr>\n",
       "  </thead>\n",
       "  <tbody>\n",
       "    <tr>\n",
       "      <th>0</th>\n",
       "      <td>1714</td>\n",
       "      <td>2.40</td>\n",
       "    </tr>\n",
       "    <tr>\n",
       "      <th>1</th>\n",
       "      <td>1664</td>\n",
       "      <td>2.52</td>\n",
       "    </tr>\n",
       "    <tr>\n",
       "      <th>2</th>\n",
       "      <td>1760</td>\n",
       "      <td>2.54</td>\n",
       "    </tr>\n",
       "    <tr>\n",
       "      <th>3</th>\n",
       "      <td>1685</td>\n",
       "      <td>2.74</td>\n",
       "    </tr>\n",
       "    <tr>\n",
       "      <th>4</th>\n",
       "      <td>1693</td>\n",
       "      <td>2.83</td>\n",
       "    </tr>\n",
       "    <tr>\n",
       "      <th>...</th>\n",
       "      <td>...</td>\n",
       "      <td>...</td>\n",
       "    </tr>\n",
       "    <tr>\n",
       "      <th>79</th>\n",
       "      <td>1936</td>\n",
       "      <td>3.71</td>\n",
       "    </tr>\n",
       "    <tr>\n",
       "      <th>80</th>\n",
       "      <td>1810</td>\n",
       "      <td>3.71</td>\n",
       "    </tr>\n",
       "    <tr>\n",
       "      <th>81</th>\n",
       "      <td>1987</td>\n",
       "      <td>3.73</td>\n",
       "    </tr>\n",
       "    <tr>\n",
       "      <th>82</th>\n",
       "      <td>1962</td>\n",
       "      <td>3.76</td>\n",
       "    </tr>\n",
       "    <tr>\n",
       "      <th>83</th>\n",
       "      <td>2050</td>\n",
       "      <td>3.81</td>\n",
       "    </tr>\n",
       "  </tbody>\n",
       "</table>\n",
       "<p>84 rows × 2 columns</p>\n",
       "</div>"
      ],
      "text/plain": [
       "     SAT   GPA\n",
       "0   1714  2.40\n",
       "1   1664  2.52\n",
       "2   1760  2.54\n",
       "3   1685  2.74\n",
       "4   1693  2.83\n",
       "..   ...   ...\n",
       "79  1936  3.71\n",
       "80  1810  3.71\n",
       "81  1987  3.73\n",
       "82  1962  3.76\n",
       "83  2050  3.81\n",
       "\n",
       "[84 rows x 2 columns]"
      ]
     },
     "execution_count": 161,
     "metadata": {},
     "output_type": "execute_result"
    }
   ],
   "source": [
    "data = pd.read_csv('csv/1.01. Simple linear regression.csv')\n",
    "data"
   ]
  },
  {
   "cell_type": "code",
   "execution_count": 162,
   "metadata": {},
   "outputs": [
    {
     "data": {
      "text/html": [
       "<div>\n",
       "<style scoped>\n",
       "    .dataframe tbody tr th:only-of-type {\n",
       "        vertical-align: middle;\n",
       "    }\n",
       "\n",
       "    .dataframe tbody tr th {\n",
       "        vertical-align: top;\n",
       "    }\n",
       "\n",
       "    .dataframe thead th {\n",
       "        text-align: right;\n",
       "    }\n",
       "</style>\n",
       "<table border=\"1\" class=\"dataframe\">\n",
       "  <thead>\n",
       "    <tr style=\"text-align: right;\">\n",
       "      <th></th>\n",
       "      <th>SAT</th>\n",
       "      <th>GPA</th>\n",
       "    </tr>\n",
       "  </thead>\n",
       "  <tbody>\n",
       "    <tr>\n",
       "      <th>count</th>\n",
       "      <td>84.000000</td>\n",
       "      <td>84.000000</td>\n",
       "    </tr>\n",
       "    <tr>\n",
       "      <th>mean</th>\n",
       "      <td>1845.273810</td>\n",
       "      <td>3.330238</td>\n",
       "    </tr>\n",
       "    <tr>\n",
       "      <th>std</th>\n",
       "      <td>104.530661</td>\n",
       "      <td>0.271617</td>\n",
       "    </tr>\n",
       "    <tr>\n",
       "      <th>min</th>\n",
       "      <td>1634.000000</td>\n",
       "      <td>2.400000</td>\n",
       "    </tr>\n",
       "    <tr>\n",
       "      <th>25%</th>\n",
       "      <td>1772.000000</td>\n",
       "      <td>3.190000</td>\n",
       "    </tr>\n",
       "    <tr>\n",
       "      <th>50%</th>\n",
       "      <td>1846.000000</td>\n",
       "      <td>3.380000</td>\n",
       "    </tr>\n",
       "    <tr>\n",
       "      <th>75%</th>\n",
       "      <td>1934.000000</td>\n",
       "      <td>3.502500</td>\n",
       "    </tr>\n",
       "    <tr>\n",
       "      <th>max</th>\n",
       "      <td>2050.000000</td>\n",
       "      <td>3.810000</td>\n",
       "    </tr>\n",
       "  </tbody>\n",
       "</table>\n",
       "</div>"
      ],
      "text/plain": [
       "               SAT        GPA\n",
       "count    84.000000  84.000000\n",
       "mean   1845.273810   3.330238\n",
       "std     104.530661   0.271617\n",
       "min    1634.000000   2.400000\n",
       "25%    1772.000000   3.190000\n",
       "50%    1846.000000   3.380000\n",
       "75%    1934.000000   3.502500\n",
       "max    2050.000000   3.810000"
      ]
     },
     "execution_count": 162,
     "metadata": {},
     "output_type": "execute_result"
    }
   ],
   "source": [
    "data.describe()\n",
    "# sample 84 student\n",
    "# SAT = Total score of Critical Reading + Mathematics + Writing\n",
    "# GPA = Grade Point average (at graduation from University)"
   ]
  },
  {
   "attachments": {},
   "cell_type": "markdown",
   "metadata": {},
   "source": [
    "#### Create first regression -> to predicts the GPA of a student based on SAT score."
   ]
  },
  {
   "attachments": {},
   "cell_type": "markdown",
   "metadata": {},
   "source": [
    "* Timeline:\n",
    "    * ![Alt text](img/186.%20First%20Regression%20in%20Python1.jpg)\n",
    "    * You sit the SAT and get a score. With this score, you apply to college. The next four years you attend college and graduate, receiving many grades forming your GPA, so that's the timeline.\n",
    "* ![Alt text](img/186.%20First%20Regression%20in%20Python2.jpg)"
   ]
  },
  {
   "attachments": {},
   "cell_type": "markdown",
   "metadata": {},
   "source": [
    "##### Define the dependent and the independent variables"
   ]
  },
  {
   "attachments": {},
   "cell_type": "markdown",
   "metadata": {},
   "source": [
    "* Formula:\n",
    "    * ![Alt text](img/186.%20First%20Regression%20in%20Python3.jpg)"
   ]
  },
  {
   "cell_type": "code",
   "execution_count": 163,
   "metadata": {},
   "outputs": [],
   "source": [
    "y = data['GPA']\n",
    "x1 = data['SAT']"
   ]
  },
  {
   "attachments": {},
   "cell_type": "markdown",
   "metadata": {},
   "source": [
    "#### Explore the data"
   ]
  },
  {
   "cell_type": "code",
   "execution_count": 164,
   "metadata": {},
   "outputs": [
    {
     "data": {
      "image/png": "[encoded data removed]",
      "text/plain": [
       "<Figure size 432x288 with 1 Axes>"
      ]
     },
     "metadata": {
      "needs_background": "light"
     },
     "output_type": "display_data"
    }
   ],
   "source": [
    "plt.scatter(x1,y)\n",
    "plt.xlabel('SAT', fontsize=20)\n",
    "plt.ylabel('GPA', fontsize=20)\n",
    "plt.show()"
   ]
  },
  {
   "attachments": {},
   "cell_type": "markdown",
   "metadata": {},
   "source": [
    "* Each point on the graph represents a different student. \n",
    "    * For instance, this is a student who scored around 1900 on the SAT and graduated with a 3.4 GPA. \n",
    "    * Observing all data points, we can see that there is a strong relationship between SAT and GPA. \n",
    "    * In general, the higher the SAT of a student, the higher their GPA."
   ]
  },
  {
   "attachments": {},
   "cell_type": "markdown",
   "metadata": {},
   "source": [
    "#### Regression"
   ]
  },
  {
   "attachments": {},
   "cell_type": "markdown",
   "metadata": {},
   "source": [
    "* Next, we need to create a new variable which call X.\n",
    "    * We have our X one, but we don't have an X zero. In fact, in the regression equation, there is no explicit X zero.\n",
    "    * The coefficient B zero is alone. That can be represented as B zero times one\n",
    "    * ![Alt text](img/186.%20First%20Regression%20in%20Python4.jpg)\n",
    "        * So if there was an X zero, it would always be one. It is really practical for computational purposes to incorporate this notion into the equation, and that's how we estimate the intercept B zero.\n",
    "* In terms of code, stats models uses the method add constant. So let's declare a new variable X equals SM dot add underscore constant X one.\n",
    "* Right after we do that, we will create another variable named results which will contain the output of the ordinary lease squares regression, or OLS.\n",
    "* As arguments, we must add the dependent variable Y and the newly defined x.\n",
    "* At the end, we will need the fit method, which you can think of as a method that will apply a specific estimation technique to obtain the fit of the model."
   ]
  },
  {
   "cell_type": "code",
   "execution_count": 165,
   "metadata": {},
   "outputs": [
    {
     "data": {
      "text/html": [
       "<table class=\"simpletable\">\n",
       "<caption>OLS Regression Results</caption>\n",
       "<tr>\n",
       "  <th>Dep. Variable:</th>           <td>GPA</td>       <th>  R-squared:         </th> <td>   0.406</td>\n",
       "</tr>\n",
       "<tr>\n",
       "  <th>Model:</th>                   <td>OLS</td>       <th>  Adj. R-squared:    </th> <td>   0.399</td>\n",
       "</tr>\n",
       "<tr>\n",
       "  <th>Method:</th>             <td>Least Squares</td>  <th>  F-statistic:       </th> <td>   56.05</td>\n",
       "</tr>\n",
       "<tr>\n",
       "  <th>Date:</th>             <td>Mon, 26 Dec 2022</td> <th>  Prob (F-statistic):</th> <td>7.20e-11</td>\n",
       "</tr>\n",
       "<tr>\n",
       "  <th>Time:</th>                 <td>19:48:24</td>     <th>  Log-Likelihood:    </th> <td>  12.672</td>\n",
       "</tr>\n",
       "<tr>\n",
       "  <th>No. Observations:</th>      <td>    84</td>      <th>  AIC:               </th> <td>  -21.34</td>\n",
       "</tr>\n",
       "<tr>\n",
       "  <th>Df Residuals:</th>          <td>    82</td>      <th>  BIC:               </th> <td>  -16.48</td>\n",
       "</tr>\n",
       "<tr>\n",
       "  <th>Df Model:</th>              <td>     1</td>      <th>                     </th>     <td> </td>   \n",
       "</tr>\n",
       "<tr>\n",
       "  <th>Covariance Type:</th>      <td>nonrobust</td>    <th>                     </th>     <td> </td>   \n",
       "</tr>\n",
       "</table>\n",
       "<table class=\"simpletable\">\n",
       "<tr>\n",
       "    <td></td>       <th>coef</th>     <th>std err</th>      <th>t</th>      <th>P>|t|</th>  <th>[0.025</th>    <th>0.975]</th>  \n",
       "</tr>\n",
       "<tr>\n",
       "  <th>const</th> <td>    0.2750</td> <td>    0.409</td> <td>    0.673</td> <td> 0.503</td> <td>   -0.538</td> <td>    1.088</td>\n",
       "</tr>\n",
       "<tr>\n",
       "  <th>SAT</th>   <td>    0.0017</td> <td>    0.000</td> <td>    7.487</td> <td> 0.000</td> <td>    0.001</td> <td>    0.002</td>\n",
       "</tr>\n",
       "</table>\n",
       "<table class=\"simpletable\">\n",
       "<tr>\n",
       "  <th>Omnibus:</th>       <td>12.839</td> <th>  Durbin-Watson:     </th> <td>   0.950</td>\n",
       "</tr>\n",
       "<tr>\n",
       "  <th>Prob(Omnibus):</th> <td> 0.002</td> <th>  Jarque-Bera (JB):  </th> <td>  16.155</td>\n",
       "</tr>\n",
       "<tr>\n",
       "  <th>Skew:</th>          <td>-0.722</td> <th>  Prob(JB):          </th> <td>0.000310</td>\n",
       "</tr>\n",
       "<tr>\n",
       "  <th>Kurtosis:</th>      <td> 4.590</td> <th>  Cond. No.          </th> <td>3.29e+04</td>\n",
       "</tr>\n",
       "</table><br/><br/>Notes:<br/>[1] Standard Errors assume that the covariance matrix of the errors is correctly specified.<br/>[2] The condition number is large, 3.29e+04. This might indicate that there are<br/>strong multicollinearity or other numerical problems."
      ],
      "text/plain": [
       "<class 'statsmodels.iolib.summary.Summary'>\n",
       "\"\"\"\n",
       "                            OLS Regression Results                            \n",
       "==============================================================================\n",
       "Dep. Variable:                    GPA   R-squared:                       0.406\n",
       "Model:                            OLS   Adj. R-squared:                  0.399\n",
       "Method:                 Least Squares   F-statistic:                     56.05\n",
       "Date:                Mon, 26 Dec 2022   Prob (F-statistic):           7.20e-11\n",
       "Time:                        19:48:24   Log-Likelihood:                 12.672\n",
       "No. Observations:                  84   AIC:                            -21.34\n",
       "Df Residuals:                      82   BIC:                            -16.48\n",
       "Df Model:                           1                                         \n",
       "Covariance Type:            nonrobust                                         \n",
       "==============================================================================\n",
       "                 coef    std err          t      P>|t|      [0.025      0.975]\n",
       "------------------------------------------------------------------------------\n",
       "const          0.2750      0.409      0.673      0.503      -0.538       1.088\n",
       "SAT            0.0017      0.000      7.487      0.000       0.001       0.002\n",
       "==============================================================================\n",
       "Omnibus:                       12.839   Durbin-Watson:                   0.950\n",
       "Prob(Omnibus):                  0.002   Jarque-Bera (JB):               16.155\n",
       "Skew:                          -0.722   Prob(JB):                     0.000310\n",
       "Kurtosis:                       4.590   Cond. No.                     3.29e+04\n",
       "==============================================================================\n",
       "\n",
       "Notes:\n",
       "[1] Standard Errors assume that the covariance matrix of the errors is correctly specified.\n",
       "[2] The condition number is large, 3.29e+04. This might indicate that there are\n",
       "strong multicollinearity or other numerical problems.\n",
       "\"\"\""
      ]
     },
     "execution_count": 165,
     "metadata": {},
     "output_type": "execute_result"
    }
   ],
   "source": [
    "x = sm.add_constant(x1)\n",
    "results = sm.OLS(y, x).fit()\n",
    "results.summary()"
   ]
  },
  {
   "cell_type": "code",
   "execution_count": 166,
   "metadata": {},
   "outputs": [
    {
     "data": {
      "text/plain": [
       "<function matplotlib.pyplot.show(close=None, block=None)>"
      ]
     },
     "execution_count": 166,
     "metadata": {},
     "output_type": "execute_result"
    },
    {
     "data": {
      "image/png": "[encoded data removed]",
      "text/plain": [
       "<Figure size 432x288 with 1 Axes>"
      ]
     },
     "metadata": {
      "needs_background": "light"
     },
     "output_type": "display_data"
    }
   ],
   "source": [
    "plt.scatter(x1, y)\n",
    "yhat = 0.0017 * x1 + 0.275\n",
    "fig = plt.plot(x1, yhat, lw=4, c='orange', label='regression line')\n",
    "plt.xlabel('SAT', fontsize=20)\n",
    "plt.ylabel('GAP', fontsize=20)\n",
    "plt.show"
   ]
  },
  {
   "attachments": {},
   "cell_type": "markdown",
   "metadata": {},
   "source": [
    "* based on regression line (orange) there is a strong relationship between SAT and GPA. "
   ]
  },
  {
   "attachments": {},
   "cell_type": "markdown",
   "metadata": {},
   "source": [
    "## 187. First Regression in Python Exercise"
   ]
  },
  {
   "attachments": {},
   "cell_type": "markdown",
   "metadata": {},
   "source": [
    "https://www.udemy.com/course/the-data-science-course-complete-data-science-bootcamp/learn/lecture/10887944#overview"
   ]
  },
  {
   "attachments": {},
   "cell_type": "markdown",
   "metadata": {},
   "source": [
    "## 188. Using Seaborn for Graphs"
   ]
  },
  {
   "attachments": {},
   "cell_type": "markdown",
   "metadata": {},
   "source": [
    "https://www.udemy.com/course/the-data-science-course-complete-data-science-bootcamp/learn/lecture/10776998#overview"
   ]
  },
  {
   "attachments": {},
   "cell_type": "markdown",
   "metadata": {},
   "source": [
    "* this lecture continue from section 32 no.186\n",
    "\n",
    "* Import seaborn as the conventional SNS and add the following line of code, sns.set(). \n",
    "    * This method overrides the style and the graphics of all matplotlib graphs."
   ]
  },
  {
   "cell_type": "code",
   "execution_count": 167,
   "metadata": {},
   "outputs": [
    {
     "data": {
      "text/plain": [
       "<function matplotlib.pyplot.show(close=None, block=None)>"
      ]
     },
     "execution_count": 167,
     "metadata": {},
     "output_type": "execute_result"
    },
    {
     "data": {
      "image/png": "[encoded data removed]",
      "text/plain": [
       "<Figure size 432x288 with 1 Axes>"
      ]
     },
     "metadata": {},
     "output_type": "display_data"
    }
   ],
   "source": [
    "import seaborn as sns\n",
    "sns.set()\n",
    "\n",
    "plt.scatter(x1, y)\n",
    "yhat = 0.0017 * x1 + 0.275\n",
    "fig = plt.plot(x1, yhat, lw=4, c='orange', label='regression line')\n",
    "plt.xlabel('SAT', fontsize=20)\n",
    "plt.ylabel('GAP', fontsize=20)\n",
    "plt.show"
   ]
  },
  {
   "attachments": {},
   "cell_type": "markdown",
   "metadata": {},
   "source": [
    "* Difference matplotlib default style vs Seaborn\n",
    "    * ![Alt text](img/188.%20Using%20Seaborn%20for%20Graphs1.jpg)"
   ]
  },
  {
   "attachments": {},
   "cell_type": "markdown",
   "metadata": {},
   "source": [
    "## 189. How to Interpret the Regression Table"
   ]
  },
  {
   "attachments": {},
   "cell_type": "markdown",
   "metadata": {},
   "source": [
    "https://www.udemy.com/course/the-data-science-course-complete-data-science-bootcamp/learn/lecture/10777000#overview"
   ]
  },
  {
   "attachments": {},
   "cell_type": "markdown",
   "metadata": {},
   "source": [
    "* While the graphs we have seen so far are nice and easy to understand, when you perform regression analysis, you'll find something different than a scatter plot with a regression line.\n",
    "* The graph is a visual representation, and what we really want is the equation of the model and a measure of its significance and explanatory power.\n",
    "* This is why the regression summary consists of a few tables instead of a graph.\n",
    "* ![Alt text](img/189.%20How%20to%20Interpret%20the%20Regression%20Table1.jpg)\n",
    "    * When using stats models, we'll have three main tables,\n",
    "        * Model summary, \n",
    "        * Coefficients table\n",
    "            * Coefficient, constant (and bias) are used interchangeably.\n",
    "                * B0 = 0.275\n",
    "                * B1 =  0.0017\n",
    "                * Above number are the only two numbers we need to define the regression equation.\n",
    "                    * Next, created a variable called yhat. Yhat is equal to 0.0017, times x1, or SAT plus 0.275. That's the regression line.\n",
    "                    * Then, plot that line using the plot method. Can be picked from the coefficients table\n",
    "                        * Knowing that a person has scored 1700 on the SAT, we can substitute in the equation and obtain the following, 0.275 plus 0.0017, times 1700, which equals 3.165 (expected GPA for student). That's the predictive power of linear regressions.\n",
    "                    * ![Alt text](img/189.%20How%20to%20Interpret%20the%20Regression%20Table2.jpg)\n",
    "            * The standard error show the accuracy of prediction for each variable. **The lower the standard error, the better the estimate.**\n",
    "                * ![Alt text](img/189.%20How%20to%20Interpret%20the%20Regression%20Table3.jpg)\n",
    "            * T statistic and its P value for hypothesis. \n",
    "                * The null hypothesis of this test is, beta equals zero. In other words, is the coefficient equal to zero?\n",
    "                    * ![Alt text](img/189.%20How%20to%20Interpret%20the%20Regression%20Table4.jpg)\n",
    "                    * If a coefficient is zero for the intercept, B0 that is, then the line crosses the Y axis at the origin. \n",
    "                        * ![Alt text](img/189.%20How%20to%20Interpret%20the%20Regression%20Table5.jpg)\n",
    "                    * If beta one is zero then zero times x will always be zero for any x. So this variable will not be considered for the model. Graphically, that would mean that the regression line is horizontal, always going through the intercept value.\n",
    "                        * ![Alt text](img/189.%20How%20to%20Interpret%20the%20Regression%20Table6.jpg)\n",
    "            * Does it help us explain the variability we have in this case? The answer is contained in the P value column.\n",
    "                * **P value below 0.05 means that the variable is significant.** Therefore, the coefficient is most probably different from zero.\n",
    "                    * ![Alt text](img/189.%20How%20to%20Interpret%20the%20Regression%20Table7.jpg)\n",
    "                * So, what does SAT P value 0.000 mean? It simply tells us that **SAT score is a significant variable when predicting college GPA.**\n",
    "                    * ![Alt text](img/189.%20How%20to%20Interpret%20the%20Regression%20Table8.jpg)\n",
    "        * Additional tests."
   ]
  },
  {
   "attachments": {},
   "cell_type": "markdown",
   "metadata": {},
   "source": [
    "## Quiz 111: How to Interpret the Regression Table"
   ]
  },
  {
   "attachments": {},
   "cell_type": "markdown",
   "metadata": {},
   "source": [
    "https://www.udemy.com/course/the-data-science-course-complete-data-science-bootcamp/learn/quiz/4545324#overview"
   ]
  },
  {
   "attachments": {},
   "cell_type": "markdown",
   "metadata": {},
   "source": [
    "1. What does a p-value of 0.503 suggest about the intercept coefficient?\n",
    "    * It is not significantly different from 0\n",
    "2. What does a p-value of 0.000 suggest about the coefficient (x)?\n",
    "    * It significantly different from 0\n",
    "3. Based on the regression table from the video: What is the predicted GPA of students with an SAT score of 1850? Note: Unlike in the lectures, this time assume that any coefficient with a p-value greater than 0.05 is not significantly different from 0\n",
    "    * 3.145"
   ]
  },
  {
   "attachments": {},
   "cell_type": "markdown",
   "metadata": {},
   "source": [
    "## 190. Decomposition of Variability"
   ]
  },
  {
   "attachments": {},
   "cell_type": "markdown",
   "metadata": {},
   "source": [
    "https://www.udemy.com/course/the-data-science-course-complete-data-science-bootcamp/learn/lecture/10777008#overview"
   ]
  },
  {
   "attachments": {},
   "cell_type": "markdown",
   "metadata": {},
   "source": [
    "* ANOVA framework\n",
    "    * ![Alt text](img/190.%20Decomposition%20of%20Variability1.jpg)\n",
    "    * Sum of squares total (SST) or total sum of squares (TTS)\n",
    "        * SST is the square differences between the observed dependent variable and its mean. You could think of this as the dispersion of the observed variables around the mean, much like the variance we saw in descriptive statistics. It is a **measure of the total variability of the data set.**\n",
    "            * ![Alt text](img/190.%20Decomposition%20of%20Variability2.jpg)\n",
    "    * sum of squares regression (SSR) or explained sum of squares (ESS)\n",
    "        * SSR is the **sum of the differences between the predicted value and the mean of the dependent variable**. Think of it as a measure that describes how well your line fits the data. If this value of SSR is equal to the sum of squares total, it means your regression model captures all the observed variability and is perfect.\n",
    "            * ![Alt text](img/190.%20Decomposition%20of%20Variability3.jpg)\n",
    "    * sum of squares error (SSE) or residual sum of squares (RSS)\n",
    "        * The error is **the difference between the observed value and the predicted value**. The smaller the error, the better the estimation power of the regression.\n",
    "            * ![Alt text](img/190.%20Decomposition%20of%20Variability4.jpg)\n",
    "    * What is the connection among these three? Mathematically, SST is equal to SSR plus SSE. The total variability of the data set is equal to the variability explained by the regression line plus the unexplained variability known as error. Given a constant total variability, a lower error will cause a better regression. Conversely, a higher error will cause a less powerful regression.\n",
    "        * ![Alt text](img/190.%20Decomposition%20of%20Variability5.jpg)"
   ]
  },
  {
   "attachments": {},
   "cell_type": "markdown",
   "metadata": {},
   "source": [
    "## Quiz 112: Decomposition of Variability"
   ]
  },
  {
   "attachments": {},
   "cell_type": "markdown",
   "metadata": {},
   "source": [
    "https://www.udemy.com/course/the-data-science-course-complete-data-science-bootcamp/learn/quiz/4451914#overview"
   ]
  },
  {
   "attachments": {},
   "cell_type": "markdown",
   "metadata": {},
   "source": [
    "1. Which of the following is true?\n",
    "    * SST = SSR + SSE"
   ]
  },
  {
   "attachments": {},
   "cell_type": "markdown",
   "metadata": {},
   "source": [
    "## 191. What is the OLS?"
   ]
  },
  {
   "attachments": {},
   "cell_type": "markdown",
   "metadata": {},
   "source": [
    "https://www.udemy.com/course/the-data-science-course-complete-data-science-bootcamp/learn/lecture/10777030#overview"
   ]
  },
  {
   "attachments": {},
   "cell_type": "markdown",
   "metadata": {},
   "source": [
    "* ![Alt text](img/191.%20What%20is%20the%20OLS1.jpg)\n",
    "    * First, we have the dependent variable, or in other words the variable we are trying to predict. It's good to double check if you coded the regression properly through this cell.\n",
    "    * Next we have the model which is OLS or ordinary least squares. The method is closely related, least squares. In this case, there is no difference but later we will see discrepancies. \n",
    "        * So what is the OLS? **OLS or the ordinary least squares, is the most common method to estimate the linear regression equation.** Lease squares stands for the minimum squares error or SSE. Lower error results in a better explanatory power of the regression model. So this method aims to find the line which minimizes the sum of the squared errors.\n",
    "            * ![Alt text](img/191.%20What%20is%20the%20OLS2.jpg)\n",
    "            * ![Alt text](img/191.%20What%20is%20the%20OLS3.jpg)\n",
    "* There are other methods for determining the regression line. They are preferred in different contexts.\n",
    "    * ![Alt text](img/191.%20What%20is%20the%20OLS4.jpg)\n",
    "    * Generalized least squares,\n",
    "    * Maximum likelihood estimation, \n",
    "    * Bayesian regression,\n",
    "    * the Kernel regression and \n",
    "    * the Gaussian process regression.\n",
    "* However, the lease squares method is simple yet powerful enough for many, if not most linear problems."
   ]
  },
  {
   "attachments": {},
   "cell_type": "markdown",
   "metadata": {},
   "source": [
    "## Quiz 113: What is the OLS"
   ]
  },
  {
   "attachments": {},
   "cell_type": "markdown",
   "metadata": {},
   "source": [
    "https://www.udemy.com/course/the-data-science-course-complete-data-science-bootcamp/learn/quiz/4545322#overview"
   ]
  },
  {
   "attachments": {},
   "cell_type": "markdown",
   "metadata": {},
   "source": [
    "1. Since OLS (Ordinary Least Squares) is simple enough to understand, why do advanced statisticians prefer using programming languages to solve regressions?\n",
    "    * Limitless capabilities and unmatched speed"
   ]
  },
  {
   "attachments": {},
   "cell_type": "markdown",
   "metadata": {},
   "source": [
    "## 192. R-Squared"
   ]
  },
  {
   "attachments": {},
   "cell_type": "markdown",
   "metadata": {},
   "source": [
    "https://www.udemy.com/course/the-data-science-course-complete-data-science-bootcamp/learn/lecture/10777032#overview"
   ]
  },
  {
   "attachments": {},
   "cell_type": "markdown",
   "metadata": {},
   "source": [
    "* The R-squared is an intuitive and practical tool, It is equal to variability explained by the regression divided by total variability.\n",
    "    * ![Alt text](img/192.%20R-Squared1.jpg)\n",
    "        * It is a relative measure and takes values ranging from zero to one. And R-squared of zero means your regression line explains none of the variability of the data. And R-squared of one, would mean your model explains the entire variability of the data. Unfortunately, regressions explaining the entire variability are rare. What you will usually observe is values ranging from 0.2 to 0.9.\n",
    "    * \"What is a good R-squared? When do I know for sure my regression is good enough?\"\n",
    "        * there is no definite answer to that. In fields such as physics and chemistry, scientists are usually looking for regressions with R-squared between 0.7 and 0.99. However, in social sciences such as economics, finance, and psychology, an R-squared of 0.2 or 20% of the variability explained by the model could be fantastic. **It depends on the complexity of the topic and how many variables are believed to be in play.**\n",
    "* The R-squared measures the goodness of fit of your model. The more factors you include in your regression, the higher the R-squared."
   ]
  },
  {
   "attachments": {},
   "cell_type": "markdown",
   "metadata": {},
   "source": [
    "## Quiz 114: R-Squared"
   ]
  },
  {
   "attachments": {},
   "cell_type": "markdown",
   "metadata": {},
   "source": [
    "https://www.udemy.com/course/the-data-science-course-complete-data-science-bootcamp/learn/quiz/4453050#overview"
   ]
  },
  {
   "attachments": {},
   "cell_type": "markdown",
   "metadata": {},
   "source": [
    "1. SST = 1245, SSR = 945, SSE = 300. What is the R-squared of this regression?\n",
    "    * 0.76\n",
    "    * The R-squared is equal to SSR, divided by SST.\n",
    "2. The R-squared is a measure that: \n",
    "    * Measures how well your model fits your data\n",
    "    * The R-squared shows how much of the total variability of the dataset is explained by your regression model. This may be expressed as: how well your model fits your data. It is incorrect to say your regression line fits the data, as the line is the geometrical representation of the regression equation. It also incorrect to say the data fits the model or the regression line, as you are trying to explain the data with a model, not vice versa."
   ]
  },
  {
   "attachments": {},
   "cell_type": "markdown",
   "metadata": {},
   "source": [
    "# **Section 33: Advanced Statitical Methods - Multiple Linear Regression with StatsModels**"
   ]
  },
  {
   "attachments": {},
   "cell_type": "markdown",
   "metadata": {},
   "source": [
    "## 193. Multiple Linear Regression"
   ]
  },
  {
   "attachments": {},
   "cell_type": "markdown",
   "metadata": {},
   "source": [
    "https://www.udemy.com/course/the-data-science-course-complete-data-science-bootcamp/learn/lecture/10777040#overview"
   ]
  },
  {
   "attachments": {},
   "cell_type": "markdown",
   "metadata": {},
   "source": [
    "* Simple linear regression formula\n",
    "    * ![Alt text](img/193.%20Multiple%20Linear%20Regression1.jpg)\n",
    "    * Predicted the dependent variable Y with a single regressor X.\n",
    "* Multiple regressions address the higher complexity of problems. The more variables you have, the more factors you are considering in a model.\n",
    "    * ![Alt text](img/193.%20Multiple%20Linear%20Regression2.jpg)\n",
    "* The population multiple regression model. It is similar to a simple regression. The main difference is there are a more of independent variables, not just one.\n",
    "    * ![Alt text](img/193.%20Multiple%20Linear%20Regression3.jpg)\n",
    "        * Y hat is the inferred value? And B0 is the intercept. \n",
    "        * The independent variables range from X1 to XK. \n",
    "        * B1 to BK are their corresponding coefficients.\n",
    "    * The last thing to say about multiple regressions is that it's not about the best fitting line anymore. Actually, it stops being two dimensional and when we have over three dimensions, there is no visual way to represent the data.\n",
    "    * So if it is not about the line, what is it about? **It's about the best fitting model.**\n",
    "* how do we decrease the model's error?\n",
    "    * by increasing the explanatory power of the model. SSC and SSR are like communicating vessels. Each time we lower one, the other goes higher. With each additional variable, we increase the explanatory power by zero or more than zero, we cannot lower it. More variables usually equal a better fitting model.\n",
    "        * ![Alt text](img/193.%20Multiple%20Linear%20Regression4.jpg)"
   ]
  },
  {
   "attachments": {},
   "cell_type": "markdown",
   "metadata": {},
   "source": [
    "## Quiz 115: Multiple Linear Regression"
   ]
  },
  {
   "attachments": {},
   "cell_type": "markdown",
   "metadata": {},
   "source": [
    "https://www.udemy.com/course/the-data-science-course-complete-data-science-bootcamp/learn/quiz/4545328#overview"
   ]
  },
  {
   "attachments": {},
   "cell_type": "markdown",
   "metadata": {},
   "source": [
    "1. Why do we prefer using a multiple linear regression model to a simple linear regression model?\n",
    "    * More realistic - things often depend on 2, 3, 10 or even more factors."
   ]
  },
  {
   "attachments": {},
   "cell_type": "markdown",
   "metadata": {},
   "source": [
    "## 194. Adjusted R-Squared"
   ]
  },
  {
   "attachments": {},
   "cell_type": "markdown",
   "metadata": {},
   "source": [
    "https://www.udemy.com/course/the-data-science-course-complete-data-science-bootcamp/learn/lecture/10777048#overview"
   ]
  },
  {
   "attachments": {},
   "cell_type": "markdown",
   "metadata": {},
   "source": [
    "* When performing regression analysis a statistician would always take a look at adjusted R-squared.\n",
    "    * ![Alt text](img/194.%20Adjusted%20R-Squared1.jpg)\n",
    "        * The R-squared measures how much of the total variability is explained by our model.\n",
    "        * And two, multiple regressions are always better than simple ones, as with each additional variable that you add, the explanatory power may only increase or stay the same considering the number of variables.\n",
    "    * ![Alt text](img/194.%20Adjusted%20R-Squared2.jpg)\n",
    "        * The adjusted R-squared is always smaller than the R-squared, as it penalizes excessive use of variables."
   ]
  },
  {
   "attachments": {},
   "cell_type": "markdown",
   "metadata": {},
   "source": [
    "#### Import the relevant libraries"
   ]
  },
  {
   "cell_type": "code",
   "execution_count": 2,
   "metadata": {},
   "outputs": [],
   "source": [
    "import numpy as np\n",
    "import pandas as pd\n",
    "import matplotlib.pyplot as plt\n",
    "import statsmodels.api as sm\n",
    "import seaborn as sns\n",
    "sns.set()"
   ]
  },
  {
   "attachments": {},
   "cell_type": "markdown",
   "metadata": {},
   "source": [
    "#### Load the data"
   ]
  },
  {
   "cell_type": "code",
   "execution_count": 3,
   "metadata": {},
   "outputs": [
    {
     "data": {
      "text/html": [
       "<div>\n",
       "<style scoped>\n",
       "    .dataframe tbody tr th:only-of-type {\n",
       "        vertical-align: middle;\n",
       "    }\n",
       "\n",
       "    .dataframe tbody tr th {\n",
       "        vertical-align: top;\n",
       "    }\n",
       "\n",
       "    .dataframe thead th {\n",
       "        text-align: right;\n",
       "    }\n",
       "</style>\n",
       "<table border=\"1\" class=\"dataframe\">\n",
       "  <thead>\n",
       "    <tr style=\"text-align: right;\">\n",
       "      <th></th>\n",
       "      <th>SAT</th>\n",
       "      <th>GPA</th>\n",
       "      <th>Rand 1,2,3</th>\n",
       "    </tr>\n",
       "  </thead>\n",
       "  <tbody>\n",
       "    <tr>\n",
       "      <th>0</th>\n",
       "      <td>1714</td>\n",
       "      <td>2.40</td>\n",
       "      <td>1</td>\n",
       "    </tr>\n",
       "    <tr>\n",
       "      <th>1</th>\n",
       "      <td>1664</td>\n",
       "      <td>2.52</td>\n",
       "      <td>3</td>\n",
       "    </tr>\n",
       "    <tr>\n",
       "      <th>2</th>\n",
       "      <td>1760</td>\n",
       "      <td>2.54</td>\n",
       "      <td>3</td>\n",
       "    </tr>\n",
       "    <tr>\n",
       "      <th>3</th>\n",
       "      <td>1685</td>\n",
       "      <td>2.74</td>\n",
       "      <td>3</td>\n",
       "    </tr>\n",
       "    <tr>\n",
       "      <th>4</th>\n",
       "      <td>1693</td>\n",
       "      <td>2.83</td>\n",
       "      <td>2</td>\n",
       "    </tr>\n",
       "    <tr>\n",
       "      <th>...</th>\n",
       "      <td>...</td>\n",
       "      <td>...</td>\n",
       "      <td>...</td>\n",
       "    </tr>\n",
       "    <tr>\n",
       "      <th>79</th>\n",
       "      <td>1936</td>\n",
       "      <td>3.71</td>\n",
       "      <td>3</td>\n",
       "    </tr>\n",
       "    <tr>\n",
       "      <th>80</th>\n",
       "      <td>1810</td>\n",
       "      <td>3.71</td>\n",
       "      <td>1</td>\n",
       "    </tr>\n",
       "    <tr>\n",
       "      <th>81</th>\n",
       "      <td>1987</td>\n",
       "      <td>3.73</td>\n",
       "      <td>3</td>\n",
       "    </tr>\n",
       "    <tr>\n",
       "      <th>82</th>\n",
       "      <td>1962</td>\n",
       "      <td>3.76</td>\n",
       "      <td>1</td>\n",
       "    </tr>\n",
       "    <tr>\n",
       "      <th>83</th>\n",
       "      <td>2050</td>\n",
       "      <td>3.81</td>\n",
       "      <td>2</td>\n",
       "    </tr>\n",
       "  </tbody>\n",
       "</table>\n",
       "<p>84 rows × 3 columns</p>\n",
       "</div>"
      ],
      "text/plain": [
       "     SAT   GPA  Rand 1,2,3\n",
       "0   1714  2.40           1\n",
       "1   1664  2.52           3\n",
       "2   1760  2.54           3\n",
       "3   1685  2.74           3\n",
       "4   1693  2.83           2\n",
       "..   ...   ...         ...\n",
       "79  1936  3.71           3\n",
       "80  1810  3.71           1\n",
       "81  1987  3.73           3\n",
       "82  1962  3.76           1\n",
       "83  2050  3.81           2\n",
       "\n",
       "[84 rows x 3 columns]"
      ]
     },
     "execution_count": 3,
     "metadata": {},
     "output_type": "execute_result"
    }
   ],
   "source": [
    "data = pd.read_csv('csv/1.02. Multiple linear regression.csv')\n",
    "data"
   ]
  },
  {
   "attachments": {},
   "cell_type": "markdown",
   "metadata": {},
   "source": [
    "* we have the same data with one additional variable called, random 1,2,3. That assigns one, two or three randomly to each student and 100% that this variable cannot predict college GPA, so this is our new model.\n",
    "* ![Alt text](img/194.%20Adjusted%20R-Squared3.jpg)\n",
    "    * College GPA is equal to B zero plus B one, times SAT score, plus B two, times the random variable."
   ]
  },
  {
   "cell_type": "code",
   "execution_count": 4,
   "metadata": {},
   "outputs": [
    {
     "data": {
      "text/html": [
       "<div>\n",
       "<style scoped>\n",
       "    .dataframe tbody tr th:only-of-type {\n",
       "        vertical-align: middle;\n",
       "    }\n",
       "\n",
       "    .dataframe tbody tr th {\n",
       "        vertical-align: top;\n",
       "    }\n",
       "\n",
       "    .dataframe thead th {\n",
       "        text-align: right;\n",
       "    }\n",
       "</style>\n",
       "<table border=\"1\" class=\"dataframe\">\n",
       "  <thead>\n",
       "    <tr style=\"text-align: right;\">\n",
       "      <th></th>\n",
       "      <th>SAT</th>\n",
       "      <th>GPA</th>\n",
       "      <th>Rand 1,2,3</th>\n",
       "    </tr>\n",
       "  </thead>\n",
       "  <tbody>\n",
       "    <tr>\n",
       "      <th>count</th>\n",
       "      <td>84.000000</td>\n",
       "      <td>84.000000</td>\n",
       "      <td>84.000000</td>\n",
       "    </tr>\n",
       "    <tr>\n",
       "      <th>mean</th>\n",
       "      <td>1845.273810</td>\n",
       "      <td>3.330238</td>\n",
       "      <td>2.059524</td>\n",
       "    </tr>\n",
       "    <tr>\n",
       "      <th>std</th>\n",
       "      <td>104.530661</td>\n",
       "      <td>0.271617</td>\n",
       "      <td>0.855192</td>\n",
       "    </tr>\n",
       "    <tr>\n",
       "      <th>min</th>\n",
       "      <td>1634.000000</td>\n",
       "      <td>2.400000</td>\n",
       "      <td>1.000000</td>\n",
       "    </tr>\n",
       "    <tr>\n",
       "      <th>25%</th>\n",
       "      <td>1772.000000</td>\n",
       "      <td>3.190000</td>\n",
       "      <td>1.000000</td>\n",
       "    </tr>\n",
       "    <tr>\n",
       "      <th>50%</th>\n",
       "      <td>1846.000000</td>\n",
       "      <td>3.380000</td>\n",
       "      <td>2.000000</td>\n",
       "    </tr>\n",
       "    <tr>\n",
       "      <th>75%</th>\n",
       "      <td>1934.000000</td>\n",
       "      <td>3.502500</td>\n",
       "      <td>3.000000</td>\n",
       "    </tr>\n",
       "    <tr>\n",
       "      <th>max</th>\n",
       "      <td>2050.000000</td>\n",
       "      <td>3.810000</td>\n",
       "      <td>3.000000</td>\n",
       "    </tr>\n",
       "  </tbody>\n",
       "</table>\n",
       "</div>"
      ],
      "text/plain": [
       "               SAT        GPA  Rand 1,2,3\n",
       "count    84.000000  84.000000   84.000000\n",
       "mean   1845.273810   3.330238    2.059524\n",
       "std     104.530661   0.271617    0.855192\n",
       "min    1634.000000   2.400000    1.000000\n",
       "25%    1772.000000   3.190000    1.000000\n",
       "50%    1846.000000   3.380000    2.000000\n",
       "75%    1934.000000   3.502500    3.000000\n",
       "max    2050.000000   3.810000    3.000000"
      ]
     },
     "execution_count": 4,
     "metadata": {},
     "output_type": "execute_result"
    }
   ],
   "source": [
    "#descriptive statistics\n",
    "data.describe()"
   ]
  },
  {
   "attachments": {},
   "cell_type": "markdown",
   "metadata": {},
   "source": [
    "#### Create multiple regression"
   ]
  },
  {
   "attachments": {},
   "cell_type": "markdown",
   "metadata": {},
   "source": [
    "* Y is GPA.\n",
    "* This time though, we have two explanatory variables, SAT and random 1, 2, 3.\n",
    "* What we can do is declare X one as a data frame containing both series."
   ]
  },
  {
   "cell_type": "code",
   "execution_count": 5,
   "metadata": {},
   "outputs": [
    {
     "data": {
      "text/html": [
       "<table class=\"simpletable\">\n",
       "<caption>OLS Regression Results</caption>\n",
       "<tr>\n",
       "  <th>Dep. Variable:</th>           <td>GPA</td>       <th>  R-squared:         </th> <td>   0.407</td>\n",
       "</tr>\n",
       "<tr>\n",
       "  <th>Model:</th>                   <td>OLS</td>       <th>  Adj. R-squared:    </th> <td>   0.392</td>\n",
       "</tr>\n",
       "<tr>\n",
       "  <th>Method:</th>             <td>Least Squares</td>  <th>  F-statistic:       </th> <td>   27.76</td>\n",
       "</tr>\n",
       "<tr>\n",
       "  <th>Date:</th>             <td>Tue, 27 Dec 2022</td> <th>  Prob (F-statistic):</th> <td>6.58e-10</td>\n",
       "</tr>\n",
       "<tr>\n",
       "  <th>Time:</th>                 <td>11:00:30</td>     <th>  Log-Likelihood:    </th> <td>  12.720</td>\n",
       "</tr>\n",
       "<tr>\n",
       "  <th>No. Observations:</th>      <td>    84</td>      <th>  AIC:               </th> <td>  -19.44</td>\n",
       "</tr>\n",
       "<tr>\n",
       "  <th>Df Residuals:</th>          <td>    81</td>      <th>  BIC:               </th> <td>  -12.15</td>\n",
       "</tr>\n",
       "<tr>\n",
       "  <th>Df Model:</th>              <td>     2</td>      <th>                     </th>     <td> </td>   \n",
       "</tr>\n",
       "<tr>\n",
       "  <th>Covariance Type:</th>      <td>nonrobust</td>    <th>                     </th>     <td> </td>   \n",
       "</tr>\n",
       "</table>\n",
       "<table class=\"simpletable\">\n",
       "<tr>\n",
       "       <td></td>         <th>coef</th>     <th>std err</th>      <th>t</th>      <th>P>|t|</th>  <th>[0.025</th>    <th>0.975]</th>  \n",
       "</tr>\n",
       "<tr>\n",
       "  <th>const</th>      <td>    0.2960</td> <td>    0.417</td> <td>    0.710</td> <td> 0.480</td> <td>   -0.533</td> <td>    1.125</td>\n",
       "</tr>\n",
       "<tr>\n",
       "  <th>SAT</th>        <td>    0.0017</td> <td>    0.000</td> <td>    7.432</td> <td> 0.000</td> <td>    0.001</td> <td>    0.002</td>\n",
       "</tr>\n",
       "<tr>\n",
       "  <th>Rand 1,2,3</th> <td>   -0.0083</td> <td>    0.027</td> <td>   -0.304</td> <td> 0.762</td> <td>   -0.062</td> <td>    0.046</td>\n",
       "</tr>\n",
       "</table>\n",
       "<table class=\"simpletable\">\n",
       "<tr>\n",
       "  <th>Omnibus:</th>       <td>12.992</td> <th>  Durbin-Watson:     </th> <td>   0.948</td>\n",
       "</tr>\n",
       "<tr>\n",
       "  <th>Prob(Omnibus):</th> <td> 0.002</td> <th>  Jarque-Bera (JB):  </th> <td>  16.364</td>\n",
       "</tr>\n",
       "<tr>\n",
       "  <th>Skew:</th>          <td>-0.731</td> <th>  Prob(JB):          </th> <td>0.000280</td>\n",
       "</tr>\n",
       "<tr>\n",
       "  <th>Kurtosis:</th>      <td> 4.594</td> <th>  Cond. No.          </th> <td>3.33e+04</td>\n",
       "</tr>\n",
       "</table><br/><br/>Notes:<br/>[1] Standard Errors assume that the covariance matrix of the errors is correctly specified.<br/>[2] The condition number is large, 3.33e+04. This might indicate that there are<br/>strong multicollinearity or other numerical problems."
      ],
      "text/plain": [
       "<class 'statsmodels.iolib.summary.Summary'>\n",
       "\"\"\"\n",
       "                            OLS Regression Results                            \n",
       "==============================================================================\n",
       "Dep. Variable:                    GPA   R-squared:                       0.407\n",
       "Model:                            OLS   Adj. R-squared:                  0.392\n",
       "Method:                 Least Squares   F-statistic:                     27.76\n",
       "Date:                Tue, 27 Dec 2022   Prob (F-statistic):           6.58e-10\n",
       "Time:                        11:00:30   Log-Likelihood:                 12.720\n",
       "No. Observations:                  84   AIC:                            -19.44\n",
       "Df Residuals:                      81   BIC:                            -12.15\n",
       "Df Model:                           2                                         \n",
       "Covariance Type:            nonrobust                                         \n",
       "==============================================================================\n",
       "                 coef    std err          t      P>|t|      [0.025      0.975]\n",
       "------------------------------------------------------------------------------\n",
       "const          0.2960      0.417      0.710      0.480      -0.533       1.125\n",
       "SAT            0.0017      0.000      7.432      0.000       0.001       0.002\n",
       "Rand 1,2,3    -0.0083      0.027     -0.304      0.762      -0.062       0.046\n",
       "==============================================================================\n",
       "Omnibus:                       12.992   Durbin-Watson:                   0.948\n",
       "Prob(Omnibus):                  0.002   Jarque-Bera (JB):               16.364\n",
       "Skew:                          -0.731   Prob(JB):                     0.000280\n",
       "Kurtosis:                       4.594   Cond. No.                     3.33e+04\n",
       "==============================================================================\n",
       "\n",
       "Notes:\n",
       "[1] Standard Errors assume that the covariance matrix of the errors is correctly specified.\n",
       "[2] The condition number is large, 3.33e+04. This might indicate that there are\n",
       "strong multicollinearity or other numerical problems.\n",
       "\"\"\""
      ]
     },
     "execution_count": 5,
     "metadata": {},
     "output_type": "execute_result"
    }
   ],
   "source": [
    "y = data['GPA']\n",
    "x1 = data[['SAT', 'Rand 1,2,3']]\n",
    "\n",
    "x = sm.add_constant(x1)\n",
    "results = sm.OLS(y, x).fit()\n",
    "\n",
    "results.summary()"
   ]
  },
  {
   "attachments": {},
   "cell_type": "markdown",
   "metadata": {},
   "source": [
    "* New vs Old table\n",
    "    * ![Alt text](img/194.%20Adjusted%20R-Squared4.jpg)\n",
    "        * We notice that the new R-squared is 0.407 so it seems as we have increased the explanatory power of the model, but then our enthusiasm is dampened by the adjusted R-squared of 0.392. We were penalized for adding an additional variable that had no strong explanatory power. We have added information but have lost value.\n",
    "            * Adding an impractical variable should be pointed out by the model in some way.\n",
    "        * We have determined a coefficient for the random 1, 2, 3 variable, but its p-value is 0.762. Remember the null hypothesis of the test? Beta two equals zero. **We cannot reject the null hypothesis at the 76% significance level.** This is an incredibly high p-value. For a coefficient to be statistically significant we want a p-value of less than 0.05.\n",
    "        * Our conclusion is :\n",
    "            * that the variable random 1, 2, 3 not only worsens the explanatory power of the model reflected by a lower adjusted R-squared but is also insignificant. \n",
    "            * Therefore, it should be dropped all together. Dropping useless variables is important. \n",
    "                * You can see the original model changed from Y hat equals 0.275 plus 0.0017 times x one. \n",
    "                * Two, Y hat equals 0.296 plus 0.0017 times x one minus 0.0083 times x two.\n",
    "            * The choice of third variable affected the intercept. Whenever you have one variable that is ruining the model you should not use this model altogether because the bias of this variable is reflected into the coefficients of the other variables. \n",
    "                * ![Alt text](img/194.%20Adjusted%20R-Squared5.jpg)\n",
    "            * **The correct approach is to remove it from the regression and run a new one, omitting the problematic predictor.**\n",
    "\n",
    "* The adjusted R-squared is the basis for comparing regression models.\n",
    "    * It only makes sense to compare two models considering the same dependent variable and using the same dataset. \n",
    "        * If we compare two models that are about two different dependent variables we will be making an apples to oranges comparison.\n",
    "        * If we use different data sets it is an apples to dinosaurs problem.\n",
    "            * ![Alt text](img/194.%20Adjusted%20R-Squared6.jpg)\n"
   ]
  },
  {
   "attachments": {},
   "cell_type": "markdown",
   "metadata": {},
   "source": [
    "## Quiz 116: Adjusted R-Squared"
   ]
  },
  {
   "attachments": {},
   "cell_type": "markdown",
   "metadata": {},
   "source": [
    "https://www.udemy.com/course/the-data-science-course-complete-data-science-bootcamp/learn/quiz/4451922#overview"
   ]
  },
  {
   "attachments": {},
   "cell_type": "markdown",
   "metadata": {},
   "source": [
    "1. The adjusted R-squared is a measure that:\n",
    "    * measures how well your model fits the data but penalizes the excessive use of variables\n",
    "    * Like the R-squared, the adjusted R-squared measures how well your model fits the data. However, it penalizes the use of variables that are meaningless for the regression.\n",
    "2. The adjusted R-squared is:\n",
    "    * usually smaller than the R=squared\n",
    "    * Almost always, the adjusted R-squared is smaller than the R-squared. The statement is not true only in the extreme occasions of small sample sizes and a high number of independent variables.\n",
    "3. What can you tell about a new parameter if adding it increases R-squared but decreases adjusted R-squared\n",
    "    * The variable can be omitted since it holds no predictive power"
   ]
  },
  {
   "attachments": {},
   "cell_type": "markdown",
   "metadata": {},
   "source": [
    "## 195. Multiple Linear Regression Exercise"
   ]
  },
  {
   "attachments": {},
   "cell_type": "markdown",
   "metadata": {},
   "source": [
    "https://www.udemy.com/course/the-data-science-course-complete-data-science-bootcamp/learn/lecture/10887972#overview"
   ]
  },
  {
   "attachments": {},
   "cell_type": "markdown",
   "metadata": {},
   "source": [
    "## 196. Test for Significance of the Model (F-Test)"
   ]
  },
  {
   "attachments": {},
   "cell_type": "markdown",
   "metadata": {},
   "source": [
    "https://www.udemy.com/course/the-data-science-course-complete-data-science-bootcamp/learn/lecture/10777052#overview"
   ]
  },
  {
   "attachments": {},
   "cell_type": "markdown",
   "metadata": {},
   "source": [
    "* Difference Z, T, and F statistics\n",
    "    * ![Alt text](img/196.%20Test%20for%20Significance%20of%20the%20Model%20(F-Test)1.jpg)\n",
    "        * the Z statistic that follows a normal distribution \n",
    "        * the T statistic that follows a student's T distribution\n",
    "        * the F statistic follows an F distribution.\n",
    "* The F statistics test is known as the test for overall significance of the model.\n",
    "    * The null hypothesis is all the betas are equal to zero simultaneously.\n",
    "    * The alternative hypothesis is at least one beta defers from zero.\n",
    "    * ![Alt text](img/196.%20Test%20for%20Significance%20of%20the%20Model%20(F-Test)2.jpg)\n",
    "    * What's the interpretation?\n",
    "        * If all betas are zero, then none of the independent variables matter, therefore our model has no merit.\n",
    "    * ![Alt text](img/196.%20Test%20for%20Significance%20of%20the%20Model%20(F-Test)3.jpg)\n",
    "        * The F statistic is 56.05. The cell below is its P value.\n",
    "        * The cell below is its P value. The number is really low, it is virtually 0.000.\n",
    "            * We say the overall model is significant. The F test is important for regressions as it gives us some important insights.\n",
    "    * Let's see the table for the model where we added the random 1, 2, 3 variable that had nothing to do with anything.\n",
    "        * ![Alt text](img/196.%20Test%20for%20Significance%20of%20the%20Model%20(F-Test)4.jpg)\n",
    "        * The F statistic is 27.76, and the P value is 0.000. \n",
    "            * You can see the F statistic is lower. The model is still significant but less so.\n",
    "        * The lower the F statistic, the closer to a non-significant model."
   ]
  },
  {
   "attachments": {},
   "cell_type": "markdown",
   "metadata": {},
   "source": [
    "## 197. OLS Assumptions"
   ]
  },
  {
   "attachments": {},
   "cell_type": "markdown",
   "metadata": {},
   "source": [
    "https://www.udemy.com/course/the-data-science-course-complete-data-science-bootcamp/learn/lecture/10777056#overview"
   ]
  },
  {
   "attachments": {},
   "cell_type": "markdown",
   "metadata": {},
   "source": [
    "* Regression assumptions\n",
    "* ![Alt text](img/197.%20OLS%20Assumptions1.jpg)\n",
    "    * Linearity or Linear Regression\n",
    "        * Each independent variable is multiplied by a coefficient and summed up to predict the value.\n",
    "    * No Endogeneity of Regressors\n",
    "        * Mathematically, this is expressed as the covariance of the error, and the Xs is 0 for any error or X.\n",
    "    * Normality and homoscedasticity\n",
    "        * The expected value of the error is zero as we expect to have no errors on average.\n",
    "        * Homoscedasticity in plain English means **constant variance.**\n",
    "    * No autocorrelation\n",
    "        * Mathematically, the covariance of any two error terms is zero. \n",
    "        * That's the assumption that would usually stop you from using a linear regression in your analysis.\n",
    "        * No Multicollinearity\n",
    "            * Multicollinearity is observed when two or more variables have a high correlation between each other.\n",
    "\n",
    "* **At your workplace, the biggest mistake you can make is to perform a regression that violates one of these assumptions.**"
   ]
  },
  {
   "attachments": {},
   "cell_type": "markdown",
   "metadata": {},
   "source": [
    "## Quiz 117: OLS Assumptions"
   ]
  },
  {
   "attachments": {},
   "cell_type": "markdown",
   "metadata": {},
   "source": [
    "https://www.udemy.com/course/the-data-science-course-complete-data-science-bootcamp/learn/quiz/4451924#overview"
   ]
  },
  {
   "attachments": {},
   "cell_type": "markdown",
   "metadata": {},
   "source": [
    "1. If a regression assumption is violated:\n",
    "    * Performing regression analysis will yield an incorrect result.\n",
    "    * Nothing stops you from performing the regression analysis, but it will yield an incorrect result. It is a big deal."
   ]
  },
  {
   "attachments": {},
   "cell_type": "markdown",
   "metadata": {},
   "source": [
    "## 198. A1: Linearity"
   ]
  },
  {
   "attachments": {},
   "cell_type": "markdown",
   "metadata": {},
   "source": [
    "https://www.udemy.com/course/the-data-science-course-complete-data-science-bootcamp/learn/lecture/10777058#overview"
   ]
  },
  {
   "attachments": {},
   "cell_type": "markdown",
   "metadata": {},
   "source": [
    "* A linear regression is the simplest non-trivial relationship.\n",
    "    * Each independent variable is multiplied by a coefficient, and summed up to predict the value of the dependent variable.\n",
    "* How can you verify if the relationship between two variables is linear?\n",
    "    * The easiest way is to choose an independent variable x1, and plot it against the dependent y on a scatter plot.\n",
    "    * If the data points form a pattern that looks like a straight line, then a linear regression model is suitable.\n",
    "    * ![Alt text](img/198.%20A1%20Linearity1.jpg)\n",
    "\n",
    "* Case where the assumption is violated:\n",
    "    * After plotting another variable x2 against y on a scatter plot, we see there is no straight line that fits the data well. Actually, a curved line would be a very good fit. **Using a linear regression would not be appropriate.**\n",
    "        * ![Alt text](img/198.%20A1%20Linearity2.jpg)\n",
    "    * How to fixes:\n",
    "    * ![Alt text](img/198.%20A1%20Linearity3.jpg)\n",
    "        * Run a non-linear regression, as we will do in the next section, or transform your relationship.\n",
    "        * There are exponential and \n",
    "        * logarithmical transformations that help with that.\n",
    "    * The quadratic relationship we saw in this video could be easily transformed into a straight line with the appropriate methods. The takeaway is, if the relationship is non-linear, you should not use the data before transforming it appropriately."
   ]
  },
  {
   "attachments": {},
   "cell_type": "markdown",
   "metadata": {},
   "source": [
    "## Quiz 118: A1: Linearity"
   ]
  },
  {
   "attachments": {},
   "cell_type": "markdown",
   "metadata": {},
   "source": [
    "https://www.udemy.com/course/the-data-science-course-complete-data-science-bootcamp/learn/quiz/4451926#overview"
   ]
  },
  {
   "attachments": {},
   "cell_type": "markdown",
   "metadata": {},
   "source": [
    "1. Linearity is easy to relax.\n",
    "    * True\n",
    "2. What should you do if you want to employ a linear regression but the relationship in your data is not linear?\n",
    "    * Transform it appropriately before using it"
   ]
  },
  {
   "attachments": {},
   "cell_type": "markdown",
   "metadata": {},
   "source": [
    "## 199. A2: No Endogeneity"
   ]
  },
  {
   "attachments": {},
   "cell_type": "markdown",
   "metadata": {},
   "source": [
    "https://www.udemy.com/course/the-data-science-course-complete-data-science-bootcamp/learn/lecture/10777086#overview"
   ]
  },
  {
   "attachments": {},
   "cell_type": "markdown",
   "metadata": {},
   "source": [
    "* No Endogeneity of Regressors is refers to the prohibition of a link between the independent variables and the errors, mathematically expressed in the following way.\n",
    "    * ![Alt text](img/199.%20A2%20No%20Endogeneity1.jpg)\n",
    "    * The error, thus the difference between the observed values and the predicted values, is correlated with our independent values.\n",
    "    * **This is a problem referred to as omitted variable bias.**\n",
    "* Omitted variable bias is introduced to the model when you forget to include a relevant variable.\n",
    "    * As each independent variable explains y, they move together and are somewhat correlated.\n",
    "    * Similarly, y is also explained by the omitted variable, so they are also correlated.\n",
    "    * Chances are, the omitted variable is also correlated with at least one independent x.\n",
    "    * However, you forgot to include it as a regressor. Everything that you don't explain with your model goes into the error. Because of that, the error becomes correlated with everything else.\n",
    "        * ![Alt text](img/199.%20A2%20No%20Endogeneity2.jpg)\n",
    "\n",
    "* Omitted variable bias is hard to fix.\n",
    "    * ![Alt text](img/199.%20A2%20No%20Endogeneity3.jpg)\n",
    "    * We have only one variable, but when your model is exhaustive with 10 variables or more, you may feel disheartened.\n",
    "\n",
    "* Example:\n",
    "    * Why is bigger real estate cheaper?\n",
    "        * ![Alt text](img/199.%20A2%20No%20Endogeneity4.jpg)\n",
    "        * The sample comprises apartment buildings in central London, and is large. So the problem is not with the sample.\n",
    "        * What is it about smaller size that is making it so expensive? \n",
    "        * Where are the small houses? \n",
    "        * There is rarely construction of new apartment buildings in central London. And then you realize the City of London was in the sample. The place where most buildings are skyscrapers, with some of the most valuable real estate in the world. We omitted the exact location as a variable.\n",
    "        * After we included a variable that measures if the property is in London's City, everything falls into place. Larger properties are more expensive, and vice versa.\n",
    "    * The incorrect exclusion of a variable, like in this case, leads to biased and counterintuitive estimates that are toxic to your regression analysis.\n",
    "\n",
    "* Omitted variable bias is complex.\n",
    "    * It is always different, \n",
    "    * always sneaky, and \n",
    "    * only experience and advanced knowledge on the subject can help. \n",
    "    * Always check for it, and if you can't think of anything, ask a colleague for assistance.\n",
    "        * ![Alt text](img/199.%20A2%20No%20Endogeneity5.jpg)"
   ]
  },
  {
   "attachments": {},
   "cell_type": "markdown",
   "metadata": {},
   "source": [
    "## Quiz 119: A2: No Endogeneity"
   ]
  },
  {
   "attachments": {},
   "cell_type": "markdown",
   "metadata": {},
   "source": [
    "https://www.udemy.com/course/the-data-science-course-complete-data-science-bootcamp/learn/quiz/4451928#overview"
   ]
  },
  {
   "attachments": {},
   "cell_type": "markdown",
   "metadata": {},
   "source": [
    "1. The easiest way to detect an omitted variable bias is through:\n",
    "    * the error term\n",
    "    * Omitted variable bias occurs when you forget to include a variable. This is reflected in the error term as the factor you forgot about is included in the error. In this way, the error is not random but includes a systematic part (the omitted variable)."
   ]
  },
  {
   "attachments": {},
   "cell_type": "markdown",
   "metadata": {},
   "source": [
    "## 200. A3: Normality and Homoscedasticity"
   ]
  },
  {
   "attachments": {},
   "cell_type": "markdown",
   "metadata": {},
   "source": [
    "https://www.udemy.com/course/the-data-science-course-complete-data-science-bootcamp/learn/lecture/10777112#overview"
   ]
  },
  {
   "attachments": {},
   "cell_type": "markdown",
   "metadata": {},
   "source": [
    "* ![Alt text](img/200.%20A3%20Normality%20and%20Homoscedasticity1.jpg)\n",
    "    * Normality\n",
    "        * ![Alt text](img/200.%20A3%20Normality%20and%20Homoscedasticity2.jpg)\n",
    "        * We assume the error term is normally distributed. Normal distribution is not required for creating the regression, but for making inferences.\n",
    "        * What should we do, if the error term, is not normally distributed?\n",
    "            * The central limit theorem. For large samples, the central limit theorem applies for the error terms too. Therefore, we can consider normality as a given for us. Therefore, we can consider normality as a given for us.\n",
    "    * zero mean\n",
    "        * ![Alt text](img/200.%20A3%20Normality%20and%20Homoscedasticity3.jpg)\n",
    "        * if the mean is not expected to be zero, then the line is not the best fitting one.\n",
    "        * However, having an intercept solves that problem. So in real life, it is unusual to violate this part of the assumption.\n",
    "    * homoscedasticity of the error term.\n",
    "        * ![Alt text](img/200.%20A3%20Normality%20and%20Homoscedasticity4.jpg)\n",
    "        * It means to have equal variance.\n",
    "        * So, the error term should have equal variance, one with the other.\n",
    "        * What if there was a pattern in the variance?\n",
    "            * an example of a data set, where errors have a different variance (heteroscedastic). Starting close to the regression line, and going further away. This would imply that, for smaller values, of the independent and dependent variables, we would have a better prediction than for bigger values. And, I assure you, we really don't like this uncertainty.\n",
    "* Prevention:3\n",
    "    * ![Alt text](img/200.%20A3%20Normality%20and%20Homoscedasticity5.jpg)\n",
    "    * First, check for omitted variable bias.\n",
    "    * After that, you can look for outliers, and try to remove them.\n",
    "    * the log transformation. Log stand for logarithm\n",
    "        * ![Alt text](img/200.%20A3%20Normality%20and%20Homoscedasticity6.jpg)"
   ]
  },
  {
   "attachments": {},
   "cell_type": "markdown",
   "metadata": {},
   "source": [
    "* Example:\n",
    "    * ![Alt text](img/200.%20A3%20Normality%20and%20Homoscedasticity7.jpg)\n",
    "    * ![Alt text](img/200.%20A3%20Normality%20and%20Homoscedasticity8.jpg)\n",
    "        * On the left hand side of the chart, the variance of the error is small.\n",
    "        * While on the right, it is high.\n",
    "            * Here's the model. \n",
    "            * As X increases by one unit, Y grows, by b1 units.\n",
    "    * Transforming the X variable to a new variable, called log of x, and plot the data. Changing the scale of X would reduce the width of the graph.\n",
    "        * ![Alt text](img/200.%20A3%20Normality%20and%20Homoscedasticity9a.jpg)\n",
    "        * ![Alt text](img/200.%20A3%20Normality%20and%20Homoscedasticity9b.jpg)\n",
    "    * What if we transform the Y scale instead? Autologically, to what happened previously, we would expect the height of the graph to be reduced. This new model is also called semi-log model. It's meaning is, as X increases by one unit, Y changes, by b1 percent.\n",
    "        * ![Alt text](img/200.%20A3%20Normality%20and%20Homoscedasticity10a.jpg)\n",
    "        * ![Alt text](img/200.%20A3%20Normality%20and%20Homoscedasticity10b.jpg)\n",
    "    * Sometimes, we want or need to change, both scales to log. The result is a log-log model. We shrink the graph in height, and in width. The improvement is noticeable, but not game changing. However, we may be sure the assumption is not violated. The interpretation is, for each percentage point change in x, Y changes by b1 percentage points. If you've done economics, you would recognize such a relationship, is known as elasticity.\n",
    "        * ![Alt text](img/200.%20A3%20Normality%20and%20Homoscedasticity11a.jpg)\n",
    "        * ![Alt text](img/200.%20A3%20Normality%20and%20Homoscedasticity11b.jpg)"
   ]
  },
  {
   "attachments": {},
   "cell_type": "markdown",
   "metadata": {},
   "source": [
    "## 201. A4: No Autocorrelation"
   ]
  },
  {
   "attachments": {},
   "cell_type": "markdown",
   "metadata": {},
   "source": [
    "https://www.udemy.com/course/the-data-science-course-complete-data-science-bootcamp/learn/lecture/10777114#overview"
   ]
  },
  {
   "attachments": {},
   "cell_type": "markdown",
   "metadata": {},
   "source": [
    "* No Autocorrelation or no serial correlation\n",
    "    * Errors are assumed to be uncorrelated.\n",
    "    * Where can we observe serial correlation between errors? \n",
    "        * It is highly unlikely to find it in data taken at one moment of time, known as cross-sectional data. Very common in time series data.\n",
    "        * ![Alt text](img/201.%20A4%20No%20Autocorrelation1.jpg)\n",
    "* example: stock prices.\n",
    "    * ![Alt text](img/201.%20A4%20No%20Autocorrelation2.jpg)\n",
    "        * Every day you have a new quote for the same stock. These new numbers you see have the same underlying asset. \n",
    "        * Without getting too much into the finance, ideally you want them to be random or predicted by macro factors such as GDP, tax rate, political events and so on.\n",
    "        * Unfortunately, it is common in underdeveloped markets to see patterns in the stock prices.\n",
    "        * There is a well known phenomenon called The Day-of-the-Week Effect.\n",
    "    * The Day-of-the-Week Effect consists in disproportionately high returns on Fridays and low returns on Mondays. There is no consensus on the true nature of the day-of-the-week effect.\n",
    "        * One possible explanation proposed by Noble Prize winner Merton Miller is that investors don't have time to read all the news immediately.\n",
    "            * ![Alt text](img/201.%20A4%20No%20Autocorrelation3.jpg)\n",
    "            * So they do it over the weekend. \n",
    "                * The first day to respond to negative information is on Mondays.\n",
    "                * Then during the week, their advisors give them new positive information and they start buying on Thursdays and Fridays.\n",
    "        * Another famous explanation is given by the distinguished financier, Kenneth French, who suggested firms delay bad news for the weekends so markets react on Mondays.\n",
    "            * ![Alt text](img/201.%20A4%20No%20Autocorrelation4.jpg)\n",
    "        * Whatever the reason, there is correlation of the errors when building regressions about stock prices.\n",
    "            * The first observation, the sixth, the 11th and every fifth onwards would be Mondays.\n",
    "            * The fifth, 10th and so on would be Fridays. \n",
    "            * Errors on Mondays would be biased downwards and errors for Fridays would be biased upwards.\n",
    "            * The mathematics of the linear regression does not consider this. It assumes errors should be randomly spread around the regression line.\n",
    "\n",
    "* So how does one detect auto correlation?\n",
    "    * A common way is to plot all the residuals on a graph and look for patterns.\n",
    "        * ![Alt text](img/201.%20A4%20No%20Autocorrelation5.jpg)\n",
    "    * Another is the Durbin Watson test, which you have in the summary for the table provided by stats models.\n",
    "        * Generally, its values fall between zero and four. Two indicates no auto correlation, while values below one and above three are a cause for alarm.\n",
    "        * ![Alt text](img/201.%20A4%20No%20Autocorrelation6.jpg)\n",
    "\n",
    "* The only thing you can do is avoid using a linear regression in such a setting.\n",
    "    * There are other types of regressions that deal with time series data.\n",
    "        * auto aggress model,\n",
    "        * moving average model, \n",
    "        * auto regressive moving average model,\n",
    "        * auto regressive integrated moving average model.\n",
    "        * ![Alt text](img/201.%20A4%20No%20Autocorrelation7.jpg)"
   ]
  },
  {
   "attachments": {},
   "cell_type": "markdown",
   "metadata": {},
   "source": [
    "## Quiz 120: A4: No autocorrelation"
   ]
  },
  {
   "attachments": {},
   "cell_type": "markdown",
   "metadata": {},
   "source": [
    "https://www.udemy.com/course/the-data-science-course-complete-data-science-bootcamp/learn/quiz/4451932#overview"
   ]
  },
  {
   "attachments": {},
   "cell_type": "markdown",
   "metadata": {},
   "source": [
    "1. Autocorrelation is not likely to be observed in:\n",
    "    * cross-sectional data\n",
    "    * Autocorrelation is not observed in cross-sectional data. You usually spot it at time series data, which is a subset of panel data. Sample data is not relevant for this question.\n",
    "2. How do you fix autocorrelation when using a linear regression model?\n",
    "    * "
   ]
  },
  {
   "attachments": {},
   "cell_type": "markdown",
   "metadata": {},
   "source": [
    "## 202. A5: No Multicollinearity"
   ]
  },
  {
   "attachments": {},
   "cell_type": "markdown",
   "metadata": {},
   "source": [
    "https://www.udemy.com/course/the-data-science-course-complete-data-science-bootcamp/learn/lecture/10777116#overview"
   ]
  },
  {
   "attachments": {},
   "cell_type": "markdown",
   "metadata": {},
   "source": [
    "* No Multicollinearity\n",
    "    * We observe multicollinearity when two or more variables have a high correlation.\n",
    "        * ![Alt text](img/202.%20A5%20No%20Multicollinearity1.jpg)\n",
    "            * A is equal to two plus five times B. A and B are two variables with an exact linear combination. \n",
    "            * A can be represented using B and B can be represented using A. \n",
    "            * In a model containing A and B, we would have perfect multicollinearity. \n",
    "            * This imposes a big problem to our regression model as the coefficients will be wrongly estimated.\n",
    "            * The reasoning is that, if A can be represented using B, there is no point using both.\n",
    "        * ![Alt text](img/202.%20A5%20No%20Multicollinearity2.jpg)\n",
    "            * Another example would be two variables, C and D, with a correlation of 90%.\n",
    "            * If we had a regression model using C and D, we would also have multicollinearity, although not perfect. \n",
    "            * Here, the assumption is still violated and poses a problem to our model.\n",
    "\n",
    "* How to fixes\n",
    "    * ![Alt text](img/202.%20A5%20No%20Multicollinearity3.jpg)\n",
    "        * The first one is to drop one of the two variables.\n",
    "        * The second is to transform them into one variable.\n",
    "        * keep them both while treating them with extreme caution.\n",
    "    * The correct approach depends on the research at hand.\n",
    "    * Multicollinearity is a big problem, but is also the easiest to notice.\n",
    "\n",
    "* Prevention:\n",
    "    * ![Alt text](img/202.%20A5%20No%20Multicollinearity4.jpg)\n",
    "    * Before creating the regression, find the correlation between each two pairs of independent variables and you will know if a multicollinearity problem may arise.\n"
   ]
  },
  {
   "attachments": {},
   "cell_type": "markdown",
   "metadata": {},
   "source": [
    "## Quiz 121: A5: No Multicollinearity"
   ]
  },
  {
   "attachments": {},
   "cell_type": "markdown",
   "metadata": {},
   "source": [
    "https://www.udemy.com/course/the-data-science-course-complete-data-science-bootcamp/learn/quiz/4451934#overview"
   ]
  },
  {
   "attachments": {},
   "cell_type": "markdown",
   "metadata": {},
   "source": [
    "1. No multicollinearity is:\n",
    "    * easy to spot and easy to fix"
   ]
  },
  {
   "attachments": {},
   "cell_type": "markdown",
   "metadata": {},
   "source": [
    "## 203. Dealing with Categorical Data - Dummy Variables"
   ]
  },
  {
   "attachments": {},
   "cell_type": "markdown",
   "metadata": {},
   "source": [
    "https://www.udemy.com/course/the-data-science-course-complete-data-science-bootcamp/learn/lecture/10777118#overview"
   ]
  },
  {
   "attachments": {},
   "cell_type": "markdown",
   "metadata": {},
   "source": [
    "* In regression analysis, a dummy is a variable that is used to include categorical data into a regression model another meaning, an invitation or a copy that stands as a substitute.\n",
    "* Imitating the categories with numbers.\n",
    "    * Example:\n",
    "        * Gender:\n",
    "            * Male -> 0\n",
    "            * Female -> 1\n",
    "        * Attendance:\n",
    "            * No -> 0\n",
    "            * Yes -> 1"
   ]
  },
  {
   "attachments": {},
   "cell_type": "markdown",
   "metadata": {},
   "source": [
    "#### Example"
   ]
  },
  {
   "cell_type": "code",
   "execution_count": 6,
   "metadata": {},
   "outputs": [],
   "source": [
    "import numpy as np\n",
    "import pandas as pd\n",
    "import statsmodels as sts\n",
    "import matplotlib.pyplot as plt\n",
    "import seaborn as sns\n",
    "sns.set()"
   ]
  },
  {
   "cell_type": "code",
   "execution_count": 7,
   "metadata": {},
   "outputs": [
    {
     "data": {
      "text/html": [
       "<div>\n",
       "<style scoped>\n",
       "    .dataframe tbody tr th:only-of-type {\n",
       "        vertical-align: middle;\n",
       "    }\n",
       "\n",
       "    .dataframe tbody tr th {\n",
       "        vertical-align: top;\n",
       "    }\n",
       "\n",
       "    .dataframe thead th {\n",
       "        text-align: right;\n",
       "    }\n",
       "</style>\n",
       "<table border=\"1\" class=\"dataframe\">\n",
       "  <thead>\n",
       "    <tr style=\"text-align: right;\">\n",
       "      <th></th>\n",
       "      <th>SAT</th>\n",
       "      <th>GPA</th>\n",
       "      <th>Attendance</th>\n",
       "    </tr>\n",
       "  </thead>\n",
       "  <tbody>\n",
       "    <tr>\n",
       "      <th>0</th>\n",
       "      <td>1714</td>\n",
       "      <td>2.40</td>\n",
       "      <td>No</td>\n",
       "    </tr>\n",
       "    <tr>\n",
       "      <th>1</th>\n",
       "      <td>1664</td>\n",
       "      <td>2.52</td>\n",
       "      <td>No</td>\n",
       "    </tr>\n",
       "    <tr>\n",
       "      <th>2</th>\n",
       "      <td>1760</td>\n",
       "      <td>2.54</td>\n",
       "      <td>No</td>\n",
       "    </tr>\n",
       "    <tr>\n",
       "      <th>3</th>\n",
       "      <td>1685</td>\n",
       "      <td>2.74</td>\n",
       "      <td>No</td>\n",
       "    </tr>\n",
       "    <tr>\n",
       "      <th>4</th>\n",
       "      <td>1693</td>\n",
       "      <td>2.83</td>\n",
       "      <td>No</td>\n",
       "    </tr>\n",
       "    <tr>\n",
       "      <th>...</th>\n",
       "      <td>...</td>\n",
       "      <td>...</td>\n",
       "      <td>...</td>\n",
       "    </tr>\n",
       "    <tr>\n",
       "      <th>79</th>\n",
       "      <td>1936</td>\n",
       "      <td>3.71</td>\n",
       "      <td>Yes</td>\n",
       "    </tr>\n",
       "    <tr>\n",
       "      <th>80</th>\n",
       "      <td>1810</td>\n",
       "      <td>3.71</td>\n",
       "      <td>Yes</td>\n",
       "    </tr>\n",
       "    <tr>\n",
       "      <th>81</th>\n",
       "      <td>1987</td>\n",
       "      <td>3.73</td>\n",
       "      <td>No</td>\n",
       "    </tr>\n",
       "    <tr>\n",
       "      <th>82</th>\n",
       "      <td>1962</td>\n",
       "      <td>3.76</td>\n",
       "      <td>Yes</td>\n",
       "    </tr>\n",
       "    <tr>\n",
       "      <th>83</th>\n",
       "      <td>2050</td>\n",
       "      <td>3.81</td>\n",
       "      <td>Yes</td>\n",
       "    </tr>\n",
       "  </tbody>\n",
       "</table>\n",
       "<p>84 rows × 3 columns</p>\n",
       "</div>"
      ],
      "text/plain": [
       "     SAT   GPA Attendance\n",
       "0   1714  2.40         No\n",
       "1   1664  2.52         No\n",
       "2   1760  2.54         No\n",
       "3   1685  2.74         No\n",
       "4   1693  2.83         No\n",
       "..   ...   ...        ...\n",
       "79  1936  3.71        Yes\n",
       "80  1810  3.71        Yes\n",
       "81  1987  3.73         No\n",
       "82  1962  3.76        Yes\n",
       "83  2050  3.81        Yes\n",
       "\n",
       "[84 rows x 3 columns]"
      ]
     },
     "execution_count": 7,
     "metadata": {},
     "output_type": "execute_result"
    }
   ],
   "source": [
    "raw_data = pd.read_csv('csv/1.03. Dummies.csv')\n",
    "raw_data"
   ]
  },
  {
   "cell_type": "code",
   "execution_count": 12,
   "metadata": {},
   "outputs": [
    {
     "data": {
      "text/html": [
       "<div>\n",
       "<style scoped>\n",
       "    .dataframe tbody tr th:only-of-type {\n",
       "        vertical-align: middle;\n",
       "    }\n",
       "\n",
       "    .dataframe tbody tr th {\n",
       "        vertical-align: top;\n",
       "    }\n",
       "\n",
       "    .dataframe thead th {\n",
       "        text-align: right;\n",
       "    }\n",
       "</style>\n",
       "<table border=\"1\" class=\"dataframe\">\n",
       "  <thead>\n",
       "    <tr style=\"text-align: right;\">\n",
       "      <th></th>\n",
       "      <th>SAT</th>\n",
       "      <th>GPA</th>\n",
       "      <th>Attendance</th>\n",
       "    </tr>\n",
       "  </thead>\n",
       "  <tbody>\n",
       "    <tr>\n",
       "      <th>0</th>\n",
       "      <td>1714</td>\n",
       "      <td>2.40</td>\n",
       "      <td>0</td>\n",
       "    </tr>\n",
       "    <tr>\n",
       "      <th>1</th>\n",
       "      <td>1664</td>\n",
       "      <td>2.52</td>\n",
       "      <td>0</td>\n",
       "    </tr>\n",
       "    <tr>\n",
       "      <th>2</th>\n",
       "      <td>1760</td>\n",
       "      <td>2.54</td>\n",
       "      <td>0</td>\n",
       "    </tr>\n",
       "    <tr>\n",
       "      <th>3</th>\n",
       "      <td>1685</td>\n",
       "      <td>2.74</td>\n",
       "      <td>0</td>\n",
       "    </tr>\n",
       "    <tr>\n",
       "      <th>4</th>\n",
       "      <td>1693</td>\n",
       "      <td>2.83</td>\n",
       "      <td>0</td>\n",
       "    </tr>\n",
       "    <tr>\n",
       "      <th>...</th>\n",
       "      <td>...</td>\n",
       "      <td>...</td>\n",
       "      <td>...</td>\n",
       "    </tr>\n",
       "    <tr>\n",
       "      <th>79</th>\n",
       "      <td>1936</td>\n",
       "      <td>3.71</td>\n",
       "      <td>1</td>\n",
       "    </tr>\n",
       "    <tr>\n",
       "      <th>80</th>\n",
       "      <td>1810</td>\n",
       "      <td>3.71</td>\n",
       "      <td>1</td>\n",
       "    </tr>\n",
       "    <tr>\n",
       "      <th>81</th>\n",
       "      <td>1987</td>\n",
       "      <td>3.73</td>\n",
       "      <td>0</td>\n",
       "    </tr>\n",
       "    <tr>\n",
       "      <th>82</th>\n",
       "      <td>1962</td>\n",
       "      <td>3.76</td>\n",
       "      <td>1</td>\n",
       "    </tr>\n",
       "    <tr>\n",
       "      <th>83</th>\n",
       "      <td>2050</td>\n",
       "      <td>3.81</td>\n",
       "      <td>1</td>\n",
       "    </tr>\n",
       "  </tbody>\n",
       "</table>\n",
       "<p>84 rows × 3 columns</p>\n",
       "</div>"
      ],
      "text/plain": [
       "     SAT   GPA  Attendance\n",
       "0   1714  2.40           0\n",
       "1   1664  2.52           0\n",
       "2   1760  2.54           0\n",
       "3   1685  2.74           0\n",
       "4   1693  2.83           0\n",
       "..   ...   ...         ...\n",
       "79  1936  3.71           1\n",
       "80  1810  3.71           1\n",
       "81  1987  3.73           0\n",
       "82  1962  3.76           1\n",
       "83  2050  3.81           1\n",
       "\n",
       "[84 rows x 3 columns]"
      ]
     },
     "execution_count": 12,
     "metadata": {},
     "output_type": "execute_result"
    }
   ],
   "source": [
    "data = raw_data.copy()\n",
    "\n",
    "data['Attendance'] = data['Attendance'].map({'Yes':1, 'No':0})\n",
    "data"
   ]
  },
  {
   "attachments": {},
   "cell_type": "markdown",
   "metadata": {},
   "source": [
    "## 204. Dealing with Categorical Data - Dummy Variables"
   ]
  },
  {
   "attachments": {},
   "cell_type": "markdown",
   "metadata": {},
   "source": [
    "## 205. Making Predictions with the Linear Regression"
   ]
  }
 ],
 "metadata": {
  "kernelspec": {
   "display_name": "Python 3 (ipykernel)",
   "language": "python",
   "name": "python3"
  },
  "language_info": {
   "codemirror_mode": {
    "name": "ipython",
    "version": 3
   },
   "file_extension": ".py",
   "mimetype": "text/x-python",
   "name": "python",
   "nbconvert_exporter": "python",
   "pygments_lexer": "ipython3",
   "version": "3.9.13"
  },
  "vscode": {
   "interpreter": {
    "hash": "1b600a3438a79bc98971c3547d28f531d0c8ed6c91b96b1480a504fa30005dbe"
   }
  }
 },
 "nbformat": 4,
 "nbformat_minor": 2
}
