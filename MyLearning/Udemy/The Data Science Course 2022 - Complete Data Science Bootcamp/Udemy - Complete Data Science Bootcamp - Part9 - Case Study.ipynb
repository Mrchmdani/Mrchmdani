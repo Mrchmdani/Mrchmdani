{
 "cells": [
  {
   "attachments": {},
   "cell_type": "markdown",
   "metadata": {},
   "source": [
    "# **Section 57: Case Study - What's Next in the Course?**"
   ]
  },
  {
   "attachments": {},
   "cell_type": "markdown",
   "metadata": {},
   "source": [
    "## 408. Game Plan for this Python, SQL, and Tableau Business Exercise\n",
    "## 4min\n",
    "## Play\n",
    "## 409. The Business Task\n",
    "## 3min\n",
    "## Play\n",
    "## 410. Introducing the Data Set\n",
    "## 3min\n",
    "## Start\n",
    "## Quiz 144: Introducing the Data Set"
   ]
  },
  {
   "attachments": {},
   "cell_type": "markdown",
   "metadata": {},
   "source": [
    "# **Section 58: Case Study - Preprocessing the 'Absenteeism_data'**"
   ]
  },
  {
   "attachments": {},
   "cell_type": "markdown",
   "metadata": {},
   "source": [
    "## 411. What to Expect from the Following Sections?\n",
    "## 1min\n",
    "## Play\n",
    "## 412. Importing the Absenteeism Data in Python\n",
    "## 3min\n",
    "## Play\n",
    "## 413. Checking the Content of the Data Set\n",
    "## 6min\n",
    "## Play\n",
    "## 414. Introduction to Terms with Multiple Meanings\n",
    "## 3min\n",
    "## Start\n",
    "## 415. What's Regression Analysis - a Quick Refresher\n",
    "## 2min\n",
    "## Play\n",
    "## 416. Using a Statistical Approach towards the Solution to the Exercise\n",
    "## 2min\n",
    "## Play\n",
    "## 417. Dropping a Column from a DataFrame in Python\n",
    "## 6min\n",
    "## Start\n",
    "## 418. EXERCISE - Dropping a Column from a DataFrame in Python\n",
    "## 1min\n",
    "## Start\n",
    "## 419. SOLUTION - Dropping a Column from a DataFrame in Python\n",
    "## 1min\n",
    "## Play\n",
    "## 420. Analyzing the Reasons for Absence\n",
    "## 5min\n",
    "## Play\n",
    "## 421. Obtaining Dummies from a Single Feature\n",
    "## 9min\n",
    "## Start\n",
    "## 422. EXERCISE - Obtaining Dummies from a Single Feature\n",
    "## 1min\n",
    "## Start\n",
    "## 423. SOLUTION - Obtaining Dummies from a Single Feature\n",
    "## 0min\n",
    "## Start\n",
    "## 424. Dropping a Dummy Variable from the Data Set\n",
    "## 2min\n",
    "## Play\n",
    "## 425. More on Dummy Variables: A Statistical Perspective\n",
    "## 1min\n",
    "## Play\n",
    "## 426. Classifying the Various Reasons for Absence\n",
    "## 9min\n",
    "## Play\n",
    "## 427. Using .concat() in Python\n",
    "## 5min\n",
    "## Start\n",
    "## 428. EXERCISE - Using .concat() in Python\n",
    "## 1min\n",
    "## Start\n",
    "## 429. SOLUTION - Using .concat() in Python\n",
    "## 1min\n",
    "## Play\n",
    "## 430. Reordering Columns in a Pandas DataFrame in Python\n",
    "## 2min\n",
    "## Start\n",
    "## 431. EXERCISE - Reordering Columns in a Pandas DataFrame in Python\n",
    "## 1min\n",
    "## Start\n",
    "## 432. SOLUTION - Reordering Columns in a Pandas DataFrame in Python\n",
    "## 1min\n",
    "## Play\n",
    "## 433. Creating Checkpoints while Coding in Jupyter\n",
    "## 3min\n",
    "## Start\n",
    "## 434. EXERCISE - Creating Checkpoints while Coding in Jupyter\n",
    "## 1min\n",
    "## Start\n",
    "## 435. SOLUTION - Creating Checkpoints while Coding in Jupyter\n",
    "## 0min\n",
    "## Play\n",
    "## 436. Analyzing the Dates from the Initial Data Set\n",
    "## 8min\n",
    "## Play\n",
    "## 437. Extracting the Month Value from the \"Date\" Column\n",
    "## 7min\n",
    "## Play\n",
    "## 438. Extracting the Day of the Week from the \"Date\" Column\n",
    "## 4min\n",
    "## Start\n",
    "## 439. EXERCISE - Removing the \"Date\" Column\n",
    "## 1min\n",
    "## Play\n",
    "## 440. Analyzing Several \"Straightforward\" Columns for this Exercise\n",
    "## 3min\n",
    "## Play\n",
    "## 441. Working on \"Education\", \"Children\", and \"Pets\"\n",
    "## 5min\n",
    "## Play\n",
    "## 442. Final Remarks of this Section\n",
    "## 2min\n",
    "## Start\n",
    "## 443. A Note on Exporting Your Data as a *.csv File"
   ]
  },
  {
   "attachments": {},
   "cell_type": "markdown",
   "metadata": {},
   "source": [
    "# **Section 59: Case Study - Applying Machine Learning to Create the 'Absenteeism_Module'**"
   ]
  },
  {
   "attachments": {},
   "cell_type": "markdown",
   "metadata": {},
   "source": [
    "## 444. Exploring the Problem with a Machine Learning Mindset\n",
    "## 3min\n",
    "## Play\n",
    "## 445. Creating the Targets for the Logistic Regression\n",
    "## 7min\n",
    "## Play\n",
    "## 446. Selecting the Inputs for the Logistic Regression\n",
    "## 3min\n",
    "## Play\n",
    "## 447. Standardizing the Data\n",
    "## 3min\n",
    "## Play\n",
    "## 448. Splitting the Data for Training and Testing\n",
    "## 6min\n",
    "## Play\n",
    "## 449. Fitting the Model and Assessing its Accuracy\n",
    "## 6min\n",
    "## Play\n",
    "## 450. Creating a Summary Table with the Coefficients and Intercept\n",
    "## 5min\n",
    "## Play\n",
    "## 451. Interpreting the Coefficients for Our Problem\n",
    "## 6min\n",
    "## Play\n",
    "## 452. Standardizing only the Numerical Variables (Creating a Custom Scaler)\n",
    "## 4min\n",
    "## Play\n",
    "## 453. Interpreting the Coefficients of the Logistic Regression\n",
    "## 5min\n",
    "## Play\n",
    "## 454. Backward Elimination or How to Simplify Your Model\n",
    "## 4min\n",
    "## Play\n",
    "## 455. Testing the Model We Created\n",
    "## 5min\n",
    "## Play\n",
    "## 456. Saving the Model and Preparing it for Deployment\n",
    "## 4min\n",
    "## Start\n",
    "## 457. ARTICLE - A Note on 'pickling'\n",
    "## 1min\n",
    "## Start\n",
    "## 458. EXERCISE - Saving the Model (and Scaler)\n",
    "## 1min\n",
    "## Play\n",
    "## 459. Preparing the Deployment of the Model through a Module"
   ]
  },
  {
   "attachments": {},
   "cell_type": "markdown",
   "metadata": {},
   "source": [
    "# **Section 60: Case Study - Loading the 'Absenteeism_Module**"
   ]
  },
  {
   "attachments": {},
   "cell_type": "markdown",
   "metadata": {},
   "source": [
    "## 460. Are You Sure You're All Set?\n",
    "## 1min\n",
    "## Play\n",
    "## 461. Deploying the 'absenteeism_module' - Part I\n",
    "## 4min\n",
    "## Play\n",
    "## 462. Deploying the 'absenteeism_module' - Part II\n",
    "## 6min\n",
    "## Start\n",
    "## 463. Exporting the Obtained Data Set as a *.csv"
   ]
  },
  {
   "attachments": {},
   "cell_type": "markdown",
   "metadata": {},
   "source": [
    "# **Section 61: Case Study - Analyzing the Predicted Outputs in Tableau**"
   ]
  },
  {
   "attachments": {},
   "cell_type": "markdown",
   "metadata": {},
   "source": [
    "## 464. EXERCISE - Age vs Probability\n",
    "## 1min\n",
    "## Play\n",
    "## 465. Analyzing Age vs Probability in Tableau\n",
    "## 9min\n",
    "## Start\n",
    "## 466. EXERCISE - Reasons vs Probability\n",
    "## 1min\n",
    "## Play\n",
    "## 467. Analyzing Reasons vs Probability in Tableau\n",
    "## 8min\n",
    "## Start\n",
    "## 468. EXERCISE - Transportation Expense vs Probability\n",
    "## 1min\n",
    "## Play\n",
    "## 469. Analyzing Transportation Expense vs Probability in Tableau"
   ]
  },
  {
   "attachments": {},
   "cell_type": "markdown",
   "metadata": {},
   "source": [
    "# **Section 65: Bonus Lecture**"
   ]
  },
  {
   "attachments": {},
   "cell_type": "markdown",
   "metadata": {},
   "source": [
    "## 470. Using the .format() Method\n",
    "## 9min\n",
    "## Play\n",
    "## 471. Iterating Over Range Objects\n",
    "## 4min\n",
    "## Play\n",
    "## 472. Introduction to Nested For Loops\n",
    "## 6min\n",
    "## Play\n",
    "## 473. Triple Nested For Loops\n",
    "## 6min\n",
    "## Play\n",
    "## 474. List Comprehensions\n",
    "## 9min\n",
    "## Play\n",
    "## 475. Anonymous (Lambda) Functions"
   ]
  }
 ],
 "metadata": {
  "kernelspec": {
   "display_name": "Python 3 (ipykernel)",
   "language": "python",
   "name": "python3"
  },
  "language_info": {
   "codemirror_mode": {
    "name": "ipython",
    "version": 3
   },
   "file_extension": ".py",
   "mimetype": "text/x-python",
   "name": "python",
   "nbconvert_exporter": "python",
   "pygments_lexer": "ipython3",
   "version": "3.9.13 (tags/v3.9.13:6de2ca5, May 17 2022, 16:36:42) [MSC v.1929 64 bit (AMD64)]"
  },
  "vscode": {
   "interpreter": {
    "hash": "1b600a3438a79bc98971c3547d28f531d0c8ed6c91b96b1480a504fa30005dbe"
   }
  }
 },
 "nbformat": 4,
 "nbformat_minor": 2
}
