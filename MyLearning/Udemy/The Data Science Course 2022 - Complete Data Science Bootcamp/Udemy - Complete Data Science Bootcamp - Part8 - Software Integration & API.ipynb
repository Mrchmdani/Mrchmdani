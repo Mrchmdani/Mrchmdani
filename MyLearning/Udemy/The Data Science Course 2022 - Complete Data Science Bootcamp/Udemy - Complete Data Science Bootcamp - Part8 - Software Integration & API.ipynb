{
 "cells": [
  {
   "attachments": {},
   "cell_type": "markdown",
   "metadata": {},
   "source": [
    "# **Section 56: Software Integration & API**"
   ]
  },
  {
   "attachments": {},
   "cell_type": "markdown",
   "metadata": {},
   "source": [
    "## 403. What are Data, Servers, Clients, Requests, and Responses\n",
    "## 5min\n",
    "## Start\n",
    "## Quiz 139: What are Data, Servers, Clients, Requests, and Responses\n",
    "## Play\n",
    "## 404. What are Data Connectivity, APIs, and Endpoints?\n",
    "## 7min\n",
    "## Start\n",
    "## Quiz 140: What are Data Connectivity, APIs, and Endpoints?\n",
    "## Play\n",
    "## 405. Taking a Closer Look at APIs\n",
    "## 8min\n",
    "## Start\n",
    "## Quiz 141: Taking a Closer Look at APIs\n",
    "## Play\n",
    "## 406. Communication between Software Products through Text Files\n",
    "## 4min\n",
    "## Start\n",
    "## Quiz 142: Communication between Software Products through Text Files\n",
    "## Play\n",
    "## 407. Software Integration - Explained\n",
    "## 5min\n",
    "## Start\n",
    "## Quiz 143: Software Integration - Explained"
   ]
  }
 ],
 "metadata": {
  "kernelspec": {
   "display_name": "Python 3 (ipykernel)",
   "language": "python",
   "name": "python3"
  },
  "language_info": {
   "codemirror_mode": {
    "name": "ipython",
    "version": 3
   },
   "file_extension": ".py",
   "mimetype": "text/x-python",
   "name": "python",
   "nbconvert_exporter": "python",
   "pygments_lexer": "ipython3",
   "version": "3.9.13 (tags/v3.9.13:6de2ca5, May 17 2022, 16:36:42) [MSC v.1929 64 bit (AMD64)]"
  },
  "vscode": {
   "interpreter": {
    "hash": "1b600a3438a79bc98971c3547d28f531d0c8ed6c91b96b1480a504fa30005dbe"
   }
  }
 },
 "nbformat": 4,
 "nbformat_minor": 2
}
