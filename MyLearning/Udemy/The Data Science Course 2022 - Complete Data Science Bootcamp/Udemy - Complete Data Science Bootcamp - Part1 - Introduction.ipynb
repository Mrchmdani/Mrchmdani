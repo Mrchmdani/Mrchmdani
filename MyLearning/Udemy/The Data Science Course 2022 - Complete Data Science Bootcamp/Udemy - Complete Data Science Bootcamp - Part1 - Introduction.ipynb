{
 "cells": [
  {
   "cell_type": "markdown",
   "metadata": {},
   "source": [
    "# **01. Part 1: Introduction**"
   ]
  },
  {
   "cell_type": "markdown",
   "metadata": {},
   "source": [
    "Source : https://www.udemy.com/course/the-data-science-course-complete-data-science-bootcamp/"
   ]
  },
  {
   "cell_type": "markdown",
   "metadata": {},
   "source": [
    "## 1. A Practical Example: What You Will Learn in This Course"
   ]
  },
  {
   "attachments": {},
   "cell_type": "markdown",
   "metadata": {},
   "source": [
    "https://www.udemy.com/course/the-data-science-course-complete-data-science-bootcamp/learn/lecture/10799982"
   ]
  },
  {
   "cell_type": "markdown",
   "metadata": {},
   "source": [
    "## 2. What Does the Course Cover"
   ]
  },
  {
   "attachments": {},
   "cell_type": "markdown",
   "metadata": {},
   "source": [
    "https://www.udemy.com/course/the-data-science-course-complete-data-science-bootcamp/learn/lecture/10762626"
   ]
  },
  {
   "cell_type": "markdown",
   "metadata": {},
   "source": [
    "## 3. Download All Resources and Important FAQ"
   ]
  },
  {
   "attachments": {},
   "cell_type": "markdown",
   "metadata": {},
   "source": [
    "https://www.udemy.com/course/the-data-science-course-complete-data-science-bootcamp/learn/lecture/12955006"
   ]
  },
  {
   "cell_type": "markdown",
   "metadata": {},
   "source": [
    "# **02. The Field of Data Science - The Various Data Science Disciplines**"
   ]
  },
  {
   "cell_type": "markdown",
   "metadata": {},
   "source": [
    "## 4. Data Science and Business Buzzwords: Why are there so Many?"
   ]
  },
  {
   "attachments": {},
   "cell_type": "markdown",
   "metadata": {},
   "source": [
    "https://www.udemy.com/course/the-data-science-course-complete-data-science-bootcamp/learn/lecture/10762750"
   ]
  },
  {
   "cell_type": "markdown",
   "metadata": {},
   "source": [
    "Data Science and Business Buzzwords\n",
    "\n",
    "Job Confucion:\n",
    "\n",
    "1. The constant evolution of the data science industry\n",
    "    * Statistics, 25 years ago, responsible for:\n",
    "        * gathering and cleaning data sets\n",
    "        * applying statistical methods\n",
    "            * growth of data\n",
    "            * radical improvement of technology\n",
    "        * extracting patterns from data\n",
    "    * Data Mining, 20 years ago, responsible for:\n",
    "        * gathering and cleaning data sets\n",
    "        * applying statistical methods\n",
    "            * growth of data\n",
    "            * radical improvement of technology\n",
    "        * extracting patterns from data\n",
    "            * new models\n",
    "        * performing more accurate forecast\n",
    "    * Predictive Analytics, 10 years ago, responsible for:\n",
    "        * gathering and cleaning data sets\n",
    "        * applying statistical methods\n",
    "        * extracting patterns from data\n",
    "        * performing more accurate forecast\n",
    "    * Predictive Analytics, Now, responsible for:\n",
    "        * All Above\n",
    "2. HR Managers\n",
    "    * Label job positions inaccurately"
   ]
  },
  {
   "cell_type": "markdown",
   "metadata": {},
   "source": [
    "## Quiz 1: Data Science and Business Buzzwords: Why are there so Many?"
   ]
  },
  {
   "attachments": {},
   "cell_type": "markdown",
   "metadata": {},
   "source": [
    "https://www.udemy.com/course/the-data-science-course-complete-data-science-bootcamp/learn/quiz/4450874"
   ]
  },
  {
   "cell_type": "markdown",
   "metadata": {},
   "source": [
    "1. Which of the following is not considered a cause of confusion about the precise meaning of the data science buzzwords?\n",
    "    * The speed with which new data science terms are appearing"
   ]
  },
  {
   "cell_type": "markdown",
   "metadata": {},
   "source": [
    "## 5. What is the difference between Analysis and Analytics"
   ]
  },
  {
   "attachments": {},
   "cell_type": "markdown",
   "metadata": {},
   "source": [
    "https://www.udemy.com/course/the-data-science-course-complete-data-science-bootcamp/learn/lecture/10762754"
   ]
  },
  {
   "cell_type": "markdown",
   "metadata": {},
   "source": [
    "### Analysis vs Analytics"
   ]
  },
  {
   "cell_type": "markdown",
   "metadata": {},
   "source": [
    "1. Analysis\n",
    "    * Perform analysis data that have already happened in the past and explaining how or why something happen\n",
    "        * Separating entire data into multiple data and study them individualy, then examine how they relate to other parts. \n",
    "2. Analytics\n",
    "    * Explore potential future events instead of past events\n",
    "    * Analytics is essentially the application of logical and computational reasoning to the component parts obtained in an analysis.\n",
    "    * Looking for patterns and exploring what you could do with them in the future."
   ]
  },
  {
   "cell_type": "markdown",
   "metadata": {},
   "source": [
    "### Analytics Branches"
   ]
  },
  {
   "cell_type": "markdown",
   "metadata": {},
   "source": [
    "1. Qualitative Analytics (intuition + analysis)\n",
    "    * using your intuition and experience in conjunction with the analysis to plan your next business move.\n",
    "2. Quantitative Analytics (formula + algorithms)\n",
    "    * applying formulas and algorithms to numbers you have gathered from your analysis."
   ]
  },
  {
   "cell_type": "markdown",
   "metadata": {},
   "source": [
    "### To Do:"
   ]
  },
  {
   "cell_type": "markdown",
   "metadata": {},
   "source": [
    "1. Perform qualitative analysis, to explain how or why a story ended the way it did.\n",
    "2. Perform quantitative analysis, working with past data to explain how sales decreased last summer.\n",
    "3. Perform qualitative analytics, to plan next business move.\n",
    "4. Perform qualitative analytics, by applying formulas and algorithms for the future"
   ]
  },
  {
   "cell_type": "markdown",
   "metadata": {},
   "source": [
    "* Analysis != Analytics\n",
    "* Data Analysis != Data Analytics\n",
    "* Business Analysis != Business Analytics"
   ]
  },
  {
   "cell_type": "markdown",
   "metadata": {},
   "source": [
    "## Quiz 2: What is the difference between Analysis and Analytics"
   ]
  },
  {
   "attachments": {},
   "cell_type": "markdown",
   "metadata": {},
   "source": [
    "https://www.udemy.com/course/the-data-science-course-complete-data-science-bootcamp/learn/quiz/4450876"
   ]
  },
  {
   "cell_type": "markdown",
   "metadata": {},
   "source": [
    "1. Which of the following is related to the meaning of the term analytics?\n",
    "    * Analytics is the application of logical computational reasoning to the component parts obtained in an analysis"
   ]
  },
  {
   "cell_type": "markdown",
   "metadata": {},
   "source": [
    "## 6. Business Analytics, Data Analytics, and Data Science: An Introduction"
   ]
  },
  {
   "attachments": {},
   "cell_type": "markdown",
   "metadata": {},
   "source": [
    "https://www.udemy.com/course/the-data-science-course-complete-data-science-bootcamp/learn/lecture/10762762"
   ]
  },
  {
   "cell_type": "markdown",
   "metadata": {},
   "source": [
    "### Diagram"
   ]
  },
  {
   "cell_type": "markdown",
   "metadata": {},
   "source": [
    "![Alt text](img/365_DataScience_Diagram.jpg)"
   ]
  },
  {
   "cell_type": "markdown",
   "metadata": {},
   "source": [
    "* Business activities would overlap the rectangle because some are data-driven, while others are subjective or experience-driven.\n",
    "* Some of the terms refer to activities that aim to explain past behavior, while others refer to activities used for predicting future behavior.\n",
    "* Data science is a discipline reliant on data availability, while business analytics does not completely rely on data. However, data science incorporates part of data analytics, mostly the part that uses complex mathematical, statistical and programming tools.\n",
    "* Data science can be used to improve the accuracy of predictions based on data extracted from various activities typical for drilling efficiency, and that certainly isn't business analytics."
   ]
  },
  {
   "cell_type": "markdown",
   "metadata": {},
   "source": [
    "## Quiz 3: Business Analytics, Data Analytics, and Data Science: An Introduction"
   ]
  },
  {
   "attachments": {},
   "cell_type": "markdown",
   "metadata": {},
   "source": [
    "https://www.udemy.com/course/the-data-science-course-complete-data-science-bootcamp/learn/quiz/4450878"
   ]
  },
  {
   "cell_type": "markdown",
   "metadata": {},
   "source": [
    "1. Which of the terms relates to the field of business analytics only?\n",
    "    * Qualitative analytics\n",
    "2. Which of the following is not considered a data analytics activity?\n",
    "    * Business case studies\n",
    "3. Which of the following is considered data science?\n",
    "    * Sales forecasting"
   ]
  },
  {
   "cell_type": "markdown",
   "metadata": {},
   "source": [
    "## 7. Continuing with BI, ML, and AI"
   ]
  },
  {
   "attachments": {},
   "cell_type": "markdown",
   "metadata": {},
   "source": [
    "https://www.udemy.com/course/the-data-science-course-complete-data-science-bootcamp/learn/lecture/10762768"
   ]
  },
  {
   "cell_type": "markdown",
   "metadata": {},
   "source": [
    "![Alt text](img/365_DataScience_Diagram.jpg)"
   ]
  },
  {
   "cell_type": "markdown",
   "metadata": {},
   "source": [
    "### Business Intelegence (BI)"
   ]
  },
  {
   "cell_type": "markdown",
   "metadata": {},
   "source": [
    "* Business intelligence or BI, is the process of analyzing and reporting historical business data.\n",
    "    * After reports and dashboards have been prepared they can be used to make informed strategic and tactical business decisions by end users, such as the general manager.\n",
    "* Business intelligence aims to explain past events using business data."
   ]
  },
  {
   "cell_type": "markdown",
   "metadata": {},
   "source": [
    "### Machine Learning (ML)"
   ]
  },
  {
   "cell_type": "markdown",
   "metadata": {},
   "source": [
    "* The ability of machines to predict outcomes without being explicitly programmed\n",
    "* ML'S about creating and implementing algorithms that let machines receive data and use this data to make predictions, analyze patterns and give recommendations on their own.\n",
    "* Machine learning cannot be implemented without data."
   ]
  },
  {
   "cell_type": "markdown",
   "metadata": {},
   "source": [
    "### Artificial Intelligence (AI)"
   ]
  },
  {
   "cell_type": "markdown",
   "metadata": {},
   "source": [
    "* simulating human knowledge and decision making with computers."
   ]
  },
  {
   "cell_type": "markdown",
   "metadata": {},
   "source": [
    "## Quiz 4: Continuing with BI, ML, and AI"
   ]
  },
  {
   "attachments": {},
   "cell_type": "markdown",
   "metadata": {},
   "source": [
    "https://www.udemy.com/course/the-data-science-course-complete-data-science-bootcamp/learn/quiz/4450880"
   ]
  },
  {
   "cell_type": "markdown",
   "metadata": {},
   "source": [
    "1. Given that all activities can be done with ML and all can be done without ML, choose the best answer. Which of the following is considered Data science but not Machine learning?\n",
    "    * Sales forecasting\n",
    "2. Which of the following is not an example of where Machine Learning is being applied today?\n",
    "    * Symbolic reasoning"
   ]
  },
  {
   "cell_type": "markdown",
   "metadata": {},
   "source": [
    "## 8. A Breakdown of our Data Science Infographic"
   ]
  },
  {
   "attachments": {},
   "cell_type": "markdown",
   "metadata": {},
   "source": [
    "https://www.udemy.com/course/the-data-science-course-complete-data-science-bootcamp/learn/lecture/10762772"
   ]
  },
  {
   "cell_type": "markdown",
   "metadata": {},
   "source": [
    "![Alt text](img/365_DataScience.jpg)"
   ]
  },
  {
   "cell_type": "markdown",
   "metadata": {},
   "source": [
    "## Quiz 5: A Breakdown of our Data Science Infographic"
   ]
  },
  {
   "attachments": {},
   "cell_type": "markdown",
   "metadata": {},
   "source": [
    "https://www.udemy.com/course/the-data-science-course-complete-data-science-bootcamp/learn/quiz/4450882"
   ]
  },
  {
   "cell_type": "markdown",
   "metadata": {},
   "source": [
    "1. From a data scientist’s perspective, the solution of every task begins:\n",
    "    * with a proper dataset"
   ]
  },
  {
   "cell_type": "markdown",
   "metadata": {},
   "source": [
    "# **03. The Field of Data Science - Connecting the Data Science Disciplines**"
   ]
  },
  {
   "cell_type": "markdown",
   "metadata": {},
   "source": [
    "## 9. Applying Traditional Data, Big Data, BI, Traditional Data Science and ML"
   ]
  },
  {
   "attachments": {},
   "cell_type": "markdown",
   "metadata": {},
   "source": [
    "https://www.udemy.com/course/the-data-science-course-complete-data-science-bootcamp/learn/lecture/10762778"
   ]
  },
  {
   "cell_type": "markdown",
   "metadata": {},
   "source": [
    "### Data"
   ]
  },
  {
   "cell_type": "markdown",
   "metadata": {},
   "source": [
    "#### Traditional Data"
   ]
  },
  {
   "cell_type": "markdown",
   "metadata": {},
   "source": [
    "* Data in the form of tables containing numeric or text values.\n",
    "* Data that is structured and stored in databases which can be managed from one computer."
   ]
  },
  {
   "cell_type": "markdown",
   "metadata": {},
   "source": [
    "#### Big Data"
   ]
  },
  {
   "cell_type": "markdown",
   "metadata": {},
   "source": [
    "* 'big data' is a term reserved for extremely large data.\n",
    "* the data could be in various formats.\n",
    "* It can be structured, semi-structured or unstructured.\n",
    "* it can be categorised by the letter \"V\"\n",
    "    * the 3Vs of big data\n",
    "    * the 5Vs of big data\n",
    "    * the 7Vs of big data\n",
    "    * the 11Vs of big data\n",
    "        * the vision you have about big data,\n",
    "        * the value big data carries,\n",
    "        * the visualisation tools you use\n",
    "        * the variability and the consistency in big data \n",
    "        * and so on."
   ]
  },
  {
   "cell_type": "markdown",
   "metadata": {},
   "source": [
    "##### Traditional Data vs Big Data"
   ]
  },
  {
   "cell_type": "markdown",
   "metadata": {},
   "source": [
    "* Volume\n",
    "    * Big data needs a whopping amount of memory space. Typically distributed between many computers, its size is measured in terabytes, petabytes and even exabytes.\n",
    "* Variety\n",
    "    * Big data often implies dealing with images, audio files, mobile data and others.\n",
    "* Velocity\n",
    "    * Ones goal is to make extracting patterns from it as quickly as possible. The progress that has been done in this area is remarkable. Outputs from huge data sets can be retrieved in real-time. This means they can be extracted so quickly that a result could be computed immediately, after the source data has been obtained."
   ]
  },
  {
   "cell_type": "markdown",
   "metadata": {},
   "source": [
    "### Data Science"
   ]
  },
  {
   "cell_type": "markdown",
   "metadata": {},
   "source": [
    "* Data Science is a broad subject its an interdisciplinary field that combines: \n",
    "    * statistical, \n",
    "    * mathematical, \n",
    "    * programming, \n",
    "    * problem-solving and \n",
    "    * data-management tools."
   ]
  },
  {
   "cell_type": "markdown",
   "metadata": {},
   "source": [
    "#### BI"
   ]
  },
  {
   "cell_type": "markdown",
   "metadata": {},
   "source": [
    "* Business intelligence is the discipline you need for analyse the past data you have acquired. BI includes technology driven tools involved in the process of analyzing, understanding and reporting available past data.\n",
    "    * This will result  having reports or dashboards and will help on your way to making informed strategic and tactical business decisions.\n",
    "    * extract insights and ideas about your business that will help it grow and give an edge of your competitors, adding stability.\n",
    "* Business intelligence means understanding how your sales grew and why?\n",
    "    * Did competitors lose market share?\n",
    "    * Was there an increase in the price of your products?\n",
    "    * Did you sell a mix of more expensive products?\n",
    "    * How did your profitability margins behave in the same timeframe of a previous year?\n",
    "    * Were there client accounts that were more profitable?\n",
    "*Understanding past business performance in order to improve future performance."
   ]
  },
  {
   "cell_type": "markdown",
   "metadata": {},
   "source": [
    "#### Traditional Data Science"
   ]
  },
  {
   "cell_type": "markdown",
   "metadata": {},
   "source": [
    "* Traditional methods or traditional data science are a set of methods that are derived mainly from statistics and are adapted for business.\n",
    "* Perfect for forecasting future performance with great accuracy.\n",
    "    * regression analyses, \n",
    "    * cluster analyses and \n",
    "    * factor analyses."
   ]
  },
  {
   "cell_type": "markdown",
   "metadata": {},
   "source": [
    "#### Machine Learning"
   ]
  },
  {
   "cell_type": "markdown",
   "metadata": {},
   "source": [
    "* With machine learning in contrast to traditional methods, the responsibility is left for the machine, through mathematics, a significant amount of computer power and applying AI the machine is given the ability to predict outcomes from data without being explicitly programmed too.\n",
    "* ML knows all about creating algorithms that let machines \n",
    "    * receive data, \n",
    "    * perform calculations and \n",
    "    * apply statistical analyses in order to make predictions with unprecedented accuracy."
   ]
  },
  {
   "cell_type": "markdown",
   "metadata": {},
   "source": [
    "## Quiz 6: Applying Traditional Data, Big Data, BI, Traditional Data Science and ML"
   ]
  },
  {
   "attachments": {},
   "cell_type": "markdown",
   "metadata": {},
   "source": [
    "https://www.udemy.com/course/the-data-science-course-complete-data-science-bootcamp/learn/quiz/4450886"
   ]
  },
  {
   "cell_type": "markdown",
   "metadata": {},
   "source": [
    "1. According to our infographic, which of the following is not considered data science?\n",
    "    * Big Data"
   ]
  },
  {
   "cell_type": "markdown",
   "metadata": {},
   "source": [
    "# **04. The Field of Data Science - The Benefits of Each Discipline**"
   ]
  },
  {
   "cell_type": "markdown",
   "metadata": {},
   "source": [
    "## 10. The Reason Behind These Disciplines"
   ]
  },
  {
   "attachments": {},
   "cell_type": "markdown",
   "metadata": {},
   "source": [
    "https://www.udemy.com/course/the-data-science-course-complete-data-science-bootcamp/learn/lecture/10762786"
   ]
  },
  {
   "cell_type": "markdown",
   "metadata": {},
   "source": [
    "* There are two types of data, traditional and big data. While different, their role in the business is the same.\n",
    "* Data-driven decisions require well-organized and relevant raw data stored in a digital format data which can be processed and transformed into meaningful and useful information. This is essential for companies when planning and decision-making.\n",
    "* Data is the foundation. It is the material on which you base your analysis. Without data, a decision-maker wouldn't be able to test their decisions and ensure they have taken the right course of action.\n",
    "\n",
    "* The job of the business intelligence analyst is to study the numbers and explain where and why some things went well and others not so well. While having the business context in mind, the business intelligence analyst will present the data in the form of reports and dashboards. They translates raw data into metrics and visualizations which show past trends and characteristics of the business.\n",
    "* Like a translator studying ancient hieroglyphics, Business Intelligence there to find patterns and stories within the pictures, they will stay seemingly meaningless, but what else is needed once the patterns have been interpreted? You can forecast potential future outcomes. The application of any term related to the columns, traditional methods or machine learning, can be said to belong to the field of predictive analytics. While the goal of traditional methods and machine learning are essentially the same and techniques can overlap, there is a difference between the two.\n",
    "* Traditional methods relate to traditional data. They were designed prior to the existence of big data, where the technology simply wasn't as advanced as it is today. They involve applying statistical approaches to create predictive models. If you want to dig deeper, however, or tackle huge amounts of big data utilizing unconventional methods or AI, then you can predict behavior in unprecedented ways, using machine learning techniques and tools. Both techniques are useful for different purposes.\n",
    "    * Traditional methods are better suited for traditional data, while \n",
    "    * Machine learning will have better results when it comes to tackling big data."
   ]
  },
  {
   "cell_type": "markdown",
   "metadata": {},
   "source": [
    "## Quiz 7: The Reason Behind These Disciplines"
   ]
  },
  {
   "attachments": {},
   "cell_type": "markdown",
   "metadata": {},
   "source": [
    "https://www.udemy.com/course/the-data-science-course-complete-data-science-bootcamp/learn/quiz/4450888"
   ]
  },
  {
   "cell_type": "markdown",
   "metadata": {},
   "source": [
    "1. Which of the following columns from our infographic contain activities that are said to belong to the field of ‘predictive analytics’ and do not aim at explaining past behaviour? \n",
    "    * Traditional methods"
   ]
  },
  {
   "cell_type": "markdown",
   "metadata": {},
   "source": [
    "# **05. The Field of Data Science - Popular Data Science Techniques**"
   ]
  },
  {
   "cell_type": "markdown",
   "metadata": {},
   "source": [
    "![Alt text](img/365_DataScience.jpg)"
   ]
  },
  {
   "cell_type": "markdown",
   "metadata": {},
   "source": [
    "## 11. Techniques for Working with Traditional Data"
   ]
  },
  {
   "attachments": {},
   "cell_type": "markdown",
   "metadata": {},
   "source": [
    "https://www.udemy.com/course/the-data-science-course-complete-data-science-bootcamp/learn/lecture/10762798"
   ]
  },
  {
   "cell_type": "markdown",
   "metadata": {},
   "source": [
    "* Raw Data / Gathering Data\n",
    "    * Raw data, also called raw facts or primary data, is \n",
    "        * data which cannot be analyzed straight away. \n",
    "        * It is untouched data you have accumulated and stored on the server. \n",
    "        * The gathering of raw data is referred to as data collection.\n",
    "    * Data can be collected in several ways.\n",
    "        * Survey\n",
    "        * Cookies\n",
    "        * etc\n",
    "* Pre-Processing\n",
    "    * Group of operations that will basically convert your raw data into a format that is more understandable and hence useful for further processing. It attempts to fix the problems that can inevitably occur with data gathering.\n",
    "        * Class Labeling\n",
    "            * numerical (can be manipulated)\n",
    "            * categorical (cannot be manipulated)\n",
    "        * Data cleansing / Data cleaning\n",
    "        * Dealing with Missing Value\n",
    "    * Case Specific: \n",
    "        * Data Balancing\n",
    "        * Data Shuffling\n",
    "            * prevent unwanted pattern\n",
    "            * improves predictive performance\n",
    "            * help avooid misleading results\n",
    "* Graph - Visualization associated with relational database management system\n",
    "    * entity-relationship diagram (ER diagram)\n",
    "    * relational schema"
   ]
  },
  {
   "cell_type": "markdown",
   "metadata": {},
   "source": [
    "## Quiz 8: Techniques for Working with Traditional Data"
   ]
  },
  {
   "attachments": {},
   "cell_type": "markdown",
   "metadata": {},
   "source": [
    "https://www.udemy.com/course/the-data-science-course-complete-data-science-bootcamp/learn/quiz/4450892"
   ]
  },
  {
   "cell_type": "markdown",
   "metadata": {},
   "source": [
    "1. Which of the following is related to the pre-processing of a traditional data set?\n",
    "    * Class labelling, Data cleansing, and Dealing with missing values"
   ]
  },
  {
   "cell_type": "markdown",
   "metadata": {},
   "source": [
    "## 12. Real Life Examples of Traditional Data"
   ]
  },
  {
   "attachments": {},
   "cell_type": "markdown",
   "metadata": {},
   "source": [
    "https://www.udemy.com/course/the-data-science-course-complete-data-science-bootcamp/learn/lecture/10762800"
   ]
  },
  {
   "cell_type": "markdown",
   "metadata": {},
   "source": [
    "Numerical vs Categorical"
   ]
  },
  {
   "cell_type": "markdown",
   "metadata": {},
   "source": [
    "* ![Alt text](img/12.%20Real%20Life%20Examples%20of%20Traditional%20Data1.jpg)\n",
    "* ![Alt text](img/12.%20Real%20Life%20Examples%20of%20Traditional%20Data2.jpg)\n",
    "* ![Alt text](img/12.%20Real%20Life%20Examples%20of%20Traditional%20Data3.jpg)\n",
    "* ![Alt text](img/12.%20Real%20Life%20Examples%20of%20Traditional%20Data4.jpg)"
   ]
  },
  {
   "cell_type": "markdown",
   "metadata": {},
   "source": [
    "## 13. Techniques for Working with Big Data"
   ]
  },
  {
   "attachments": {},
   "cell_type": "markdown",
   "metadata": {},
   "source": [
    "https://www.udemy.com/course/the-data-science-course-complete-data-science-bootcamp/learn/lecture/10762804"
   ]
  },
  {
   "cell_type": "markdown",
   "metadata": {},
   "source": [
    "* Some of the approaches used on traditional data can also be implemented on big data.\n",
    "* Collecting and pre-processing big data is essential to help organize the data before doing analyses or making predictions, as is grouping the data into classes or categories.\n",
    "* While working with big data, things can get a little more complex and you have much more variety beyond the simple distinction of numerical and categorical data.\n",
    "    * examples pre=processing of big data can be: \n",
    "        * text data, \n",
    "        * digital image data,\n",
    "        * digital video data, \n",
    "        * digital audio data, \n",
    "        * data cleansing\n",
    "            * a wider range of data cleansing method\n",
    "        * dealing with missing value\n",
    "            * the most crucial with big data.\n",
    "    * Case specific:\n",
    "        * text data mining\n",
    "            * Text data mining represents the process of deriving valuable unstructured data from a text.\n",
    "        * confidentiality - preserving data mining techniques (data masking)\n",
    "            * conceals the original data with random and false data\n",
    "            * allowing you to conduct analysis and \n",
    "            * keep all confidential information in a secure place.\n",
    "* Graph\n",
    "    * relational database"
   ]
  },
  {
   "cell_type": "markdown",
   "metadata": {},
   "source": [
    "## Quiz 9: Techniques for Working with Big Data"
   ]
  },
  {
   "attachments": {},
   "cell_type": "markdown",
   "metadata": {},
   "source": [
    "https://www.udemy.com/course/the-data-science-course-complete-data-science-bootcamp/learn/quiz/4450894"
   ]
  },
  {
   "cell_type": "markdown",
   "metadata": {},
   "source": [
    "1. Which of the following do you encounter when working with big data?\n",
    "    * Text data, Integer, and Digital image data"
   ]
  },
  {
   "cell_type": "markdown",
   "metadata": {},
   "source": [
    "## 14. Real Life Examples of Big Data"
   ]
  },
  {
   "attachments": {},
   "cell_type": "markdown",
   "metadata": {},
   "source": [
    "https://www.udemy.com/course/the-data-science-course-complete-data-science-bootcamp/learn/lecture/10762820"
   ]
  },
  {
   "cell_type": "markdown",
   "metadata": {},
   "source": [
    "* ![Alt text](img/14.%20Real%20Life%20Examples%20of%20Big%20Data1.jpg)\n",
    "* ![Alt text](img/14.%20Real%20Life%20Examples%20of%20Big%20Data2.jpg)"
   ]
  },
  {
   "cell_type": "markdown",
   "metadata": {},
   "source": [
    "## 15. Business Intelligence (BI) Techniques"
   ]
  },
  {
   "attachments": {},
   "cell_type": "markdown",
   "metadata": {},
   "source": [
    "https://www.udemy.com/course/the-data-science-course-complete-data-science-bootcamp/learn/lecture/10762824"
   ]
  },
  {
   "cell_type": "markdown",
   "metadata": {},
   "source": [
    "* Business intelligence is the point where all your data skills combine with business knowledge and intuition to explain the past performance of company with conviction.\n",
    "* You would confidently be able to answer questions such as:\n",
    "    * What happened? When did it happen?\n",
    "    * How many units did we sell?\n",
    "    * In which region did we sell the most goods? \n",
    "    * And many more.\n",
    "* A good business intelligence analyst does not look at a problem from only one angle. BI will be able to extract any and all information required to solve this problem.\n",
    "* BI will be capable of answering simple questions from manager, like:\n",
    "    * \"What's the news regarding our email marketing?\"\n",
    "    * \"How did our email marketing perform last quarter in terms of click-through rates and revenue generated\n",
    "    * how does that compare to the performance in the same quarter of last year?\"\n",
    "* Example: How to measure  business performance?\n",
    "    * Collecting Observation\n",
    "        * monthly revenues\n",
    "        * costumer\n",
    "    * quantify information\n",
    "        * representing observations as number\n",
    "    * measure\n",
    "        * the accumulation of observations to show some information\n",
    "* Analyze the Data\n",
    "    * Extract info and present it in the form of:\n",
    "        * metrics\n",
    "            * A metric refers to a value that derives from the measures you have obtained and aims at gauging business performance or progress.\n",
    "            * measure vs matrics\n",
    "                * measure - releated to a simple descriptive meatrics of past performance\n",
    "                * matric = measure + business meaning\n",
    "        * Key performance indicators (KPIs)\n",
    "            * Key = related to main business goals\n",
    "            * Performance = how successfully you have performed within a specified timeframe\n",
    "            * Indicators = generated only from users who have clicked on a link provided in you ad campaign\n",
    "            * KPIs = metrics + business objectives\n",
    "        * Reports\n",
    "        * Dashboard"
   ]
  },
  {
   "cell_type": "markdown",
   "metadata": {},
   "source": [
    "## Quiz 10: Business Intelligence (BI) Techniques"
   ]
  },
  {
   "attachments": {},
   "cell_type": "markdown",
   "metadata": {},
   "source": [
    "https://www.udemy.com/course/the-data-science-course-complete-data-science-bootcamp/learn/quiz/4450896"
   ]
  },
  {
   "cell_type": "markdown",
   "metadata": {},
   "source": [
    "1. The process of representing observations as numbers is called:\n",
    "    * Quantification\n",
    "2. A measure that has a business meaning attached is called:\n",
    "    * a metric\n",
    "3. A KPI (Key Performance Indicator) can be best defined as: \n",
    "    * a metric that is tightly aligned with your business objectives\n",
    "4. The job of a business intelligence analyst always involves the creation of:\n",
    "    * Reports, Dashboards, and KPIs"
   ]
  },
  {
   "cell_type": "markdown",
   "metadata": {},
   "source": [
    "## 16. Real Life Examples of Business Intelligence (BI)"
   ]
  },
  {
   "attachments": {},
   "cell_type": "markdown",
   "metadata": {},
   "source": [
    "https://www.udemy.com/course/the-data-science-course-complete-data-science-bootcamp/learn/lecture/10762826"
   ]
  },
  {
   "cell_type": "markdown",
   "metadata": {},
   "source": [
    "* Hotels use price optimization very effectively by raising the price of a room at periods when many people want to visit the hotel and by reducing it to attract visitors when demand is low, they can greatly increase their profits. In order to competently apply such a strategy they must extract the relevant information in real time and compare it with historicals. BI allows you to adjust your strategy to pass data as soon as it is available.\n",
    "\n",
    "* Over and under supply can cause problems in a business. However, implementing effective inventory management means supplying enough stock to meet demand, with the minimal amount of waste and cost. To do this well, you can perform an in depth analysis of past sales transactions for the purpose of identifying seasonality patterns and the times of the year with the highest sales. Additionally, you could track your inventory to identify the months of which you have over or under stocked. A detailed analysis can even pinpoint the day or time of day where the need for a good is highest. If done right, business intelligence will help to efficiently manage your shipment logistics and in turn reduce costs and increase profit."
   ]
  },
  {
   "cell_type": "markdown",
   "metadata": {},
   "source": [
    "## 17. Techniques for Working with Traditional Methods"
   ]
  },
  {
   "attachments": {},
   "cell_type": "markdown",
   "metadata": {},
   "source": [
    "https://www.udemy.com/course/the-data-science-course-complete-data-science-bootcamp/learn/lecture/10762828"
   ]
  },
  {
   "cell_type": "markdown",
   "metadata": {},
   "source": [
    "* Regression Analysis is a model used for quantifying causal relationships among the different variables included in your analysis.\n",
    "* ![Alt text](img/17.%20Techniques%20for%20Working%20with%20Traditional%20Methods1.jpg)\n",
    "* ![Alt text](img/17.%20Techniques%20for%20Working%20with%20Traditional%20Methods2.jpg)"
   ]
  },
  {
   "cell_type": "markdown",
   "metadata": {},
   "source": [
    "* Cluster Analysis or clustering is the task of grouping a set of objects in such a way that objects in the same group are more similar to each other than to those in other groups.\n",
    "* ![Alt text](img/17.%20Techniques%20for%20Working%20with%20Traditional%20Methods3.jpg)"
   ]
  },
  {
   "cell_type": "markdown",
   "metadata": {},
   "source": [
    "* Factor Analysis is a statistical method used to describe variability among observed, correlated variables in terms of a potentially lower number of unobserved variables called factors.\n",
    "* ![Alt text](img/17.%20Techniques%20for%20Working%20with%20Traditional%20Methods4.jpg)"
   ]
  },
  {
   "cell_type": "markdown",
   "metadata": {},
   "source": [
    "* Time Series Analysis is a specific way of analyzing a sequence of data points collected over an interval of time.\n",
    "* ![Alt text](img/17.%20Techniques%20for%20Working%20with%20Traditional%20Methods5.jpg)"
   ]
  },
  {
   "cell_type": "markdown",
   "metadata": {},
   "source": [
    "## Quiz 11: Techniques for Working with Traditional Methods"
   ]
  },
  {
   "attachments": {},
   "cell_type": "markdown",
   "metadata": {},
   "source": [
    "https://www.udemy.com/course/the-data-science-course-complete-data-science-bootcamp/learn/quiz/4450898"
   ]
  },
  {
   "cell_type": "markdown",
   "metadata": {},
   "source": [
    "1. In business and statistics, which is the general term that refers to using a model for quantifying causal relationships?\n",
    "    *  regression analysis\n",
    "2. Which technique can be implemented if you want to reduce the dimensionality of a certain statistical problem?\n",
    "    *  factor analysis\n",
    "3. Which technique is associated with plotting values against time, shown always on the horizontal line?\n",
    "    *  time-series analysis\n",
    "4. When the data is divided into a few groups, you should apply:\n",
    "    * cluster analysis"
   ]
  },
  {
   "cell_type": "markdown",
   "metadata": {},
   "source": [
    "## 18. Real Life Examples of Traditional Methods"
   ]
  },
  {
   "attachments": {},
   "cell_type": "markdown",
   "metadata": {},
   "source": [
    "https://www.udemy.com/course/the-data-science-course-complete-data-science-bootcamp/learn/lecture/10762830"
   ]
  },
  {
   "cell_type": "markdown",
   "metadata": {},
   "source": [
    "* User Experience (UX)\n",
    "* Sales Forecasting"
   ]
  },
  {
   "cell_type": "markdown",
   "metadata": {},
   "source": [
    "## 19. Machine Learning (ML) Techniques"
   ]
  },
  {
   "attachments": {},
   "cell_type": "markdown",
   "metadata": {},
   "source": [
    "https://www.udemy.com/course/the-data-science-course-complete-data-science-bootcamp/learn/lecture/10762832"
   ]
  },
  {
   "cell_type": "markdown",
   "metadata": {},
   "source": [
    "* What is at the core of machine learning? Creating an algorithm, which a computer then uses to find a model that fits the data as best as possible. And makes very accurate predictions based on that.\n",
    "* A machine learning algorithm is like a trial and error process, but the special thing about it is that each consecutive trial is at least as good as the previous one. There are four ingredients: \n",
    "    * data, \n",
    "    * model, \n",
    "    * objective function, and \n",
    "    * optimization algorithm.\n",
    "* Benefit ML\n",
    "    * Can learn more effectively\n",
    "    * improve complex computational models"
   ]
  },
  {
   "cell_type": "markdown",
   "metadata": {},
   "source": [
    "## Quiz 12: Machine Learning (ML) Techniques"
   ]
  },
  {
   "attachments": {},
   "cell_type": "markdown",
   "metadata": {},
   "source": [
    "https://www.udemy.com/course/the-data-science-course-complete-data-science-bootcamp/learn/quiz/4450902"
   ]
  },
  {
   "cell_type": "markdown",
   "metadata": {},
   "source": [
    "1. Which of the following statements is true?\n",
    "    * The core of machine learning is creating an algorithm, chich a computer then uses to find a model that fits the data as best as possible\n",
    "    * In machine learning, one does not give the machine instructions on how to find a model. Rather, one provides it with algorithms which give t he machine directions on how to learn on its own.\n",
    "    * A machine learning algorithm is like a trial-and-error process, but the special thing about it, is that each consecutive trial is at least as good as the previous one.\n",
    "2. Which line represents the four ingredients of any machine learning algorithm?\n",
    "    * Data, model, objective function, optimization algorithm"
   ]
  },
  {
   "cell_type": "markdown",
   "metadata": {},
   "source": [
    "## 20. Types of Machine Learning"
   ]
  },
  {
   "attachments": {},
   "cell_type": "markdown",
   "metadata": {},
   "source": [
    "https://www.udemy.com/course/the-data-science-course-complete-data-science-bootcamp/learn/lecture/10762834"
   ]
  },
  {
   "cell_type": "markdown",
   "metadata": {},
   "source": [
    "* Supervised Learning is a subcategory of machine learning and artificial intelligence. It is defined by its use of labeled datasets to train algorithms that to classify data or predict outcomes accurately.\n",
    "    * SVMs\n",
    "    * NNs\n",
    "    * Deep Learning\n",
    "    * Random Forsts\n",
    "    * Boyesian Networks\n",
    "\n",
    "* Unsupervised Learning uses machine learning algorithms to analyze and cluster unlabeled datasets. These algorithms discover hidden patterns or data groupings without the need for human intervention.\n",
    "    * K-means\n",
    "    * Deep Learning\n",
    "\n",
    "* Reiforcement Learning is an approach to machine learning that learns by doing. While other machine learning techniques learn by passively taking input data and finding patterns within it, RL uses training agents to actively make decisions and learn from their outcomes.\n",
    "    * Deep Learning\n"
   ]
  },
  {
   "cell_type": "markdown",
   "metadata": {},
   "source": [
    "## Quiz 13: Types of Machine Learning"
   ]
  },
  {
   "attachments": {},
   "cell_type": "markdown",
   "metadata": {},
   "source": [
    "https://www.udemy.com/course/the-data-science-course-complete-data-science-bootcamp/learn/quiz/4450904"
   ]
  },
  {
   "cell_type": "markdown",
   "metadata": {},
   "source": [
    "1. In which type of machine learning is one always working with unlabelled data?\n",
    "    * Unsupervised learning\n",
    "2. In reinforcement learning, a reward system is being used to improve the machine learning model at hand. The idea of using this reward system is to:\n",
    "    * to maximize the objective function"
   ]
  },
  {
   "cell_type": "markdown",
   "metadata": {},
   "source": [
    "## 21. Real Life Examples of Machine Learning (ML)"
   ]
  },
  {
   "attachments": {},
   "cell_type": "markdown",
   "metadata": {},
   "source": [
    "https://www.udemy.com/course/the-data-science-course-complete-data-science-bootcamp/learn/lecture/10762848"
   ]
  },
  {
   "cell_type": "markdown",
   "metadata": {},
   "source": [
    "* Fraud Detection\n",
    "* Client Retention"
   ]
  },
  {
   "cell_type": "markdown",
   "metadata": {},
   "source": [
    "## Quiz 14: Real Life Examples of Machine Learning (ML)"
   ]
  },
  {
   "attachments": {},
   "cell_type": "markdown",
   "metadata": {},
   "source": [
    "https://www.udemy.com/course/the-data-science-course-complete-data-science-bootcamp/learn/quiz/4450908"
   ]
  },
  {
   "cell_type": "markdown",
   "metadata": {},
   "source": [
    "1. Which of the following is a typical real-life example where big data techniques are being applied?\n",
    "    * Social media\n",
    "2. Which of the following is a typical real-life example where BI techniques are being applied?\n",
    "    * Inventory management\n",
    "3. Which of the following is a typical real-life example where machine learning techniques are being applied?\n",
    "    * Client retention\n",
    "4. Which of the following is a typical real-life example where traditional data techniques are being applied?\n",
    "    * Basic customer data\n",
    "5. Which of the following is a TYPICAL real-life example where traditional data science techniques are being applied?\n",
    "    * Sales forecasting"
   ]
  },
  {
   "cell_type": "markdown",
   "metadata": {},
   "source": [
    "# **06. The Field of Data Science - Popular Data Tools**"
   ]
  },
  {
   "cell_type": "markdown",
   "metadata": {},
   "source": [
    "## 22. Necessary Programming Languages and Software Used in Data Science"
   ]
  },
  {
   "attachments": {},
   "cell_type": "markdown",
   "metadata": {},
   "source": [
    "https://www.udemy.com/course/the-data-science-course-complete-data-science-bootcamp/learn/lecture/10762852"
   ]
  },
  {
   "cell_type": "markdown",
   "metadata": {},
   "source": [
    "* Programing Language\n",
    "    * R and Python are the two most popular tools across all columns. Their biggest advantage is that they can manipulate data, and are integrated with the multiple data and data science software platforms.\n",
    "        * suitable for mathematical and statistical computations.\n",
    "        * R and Python are adaptable.\n",
    "            * Can solve a wide variety of business and data related problems from beginning to the end.\n",
    "            * R and Python limitations, they are not able to address problems specific to some domains. One example is relational database management systems (SQL)\n",
    "    * SQL\n",
    "        * advantageous with traditional historical data and preparing B-I analysis\n",
    "    * MATLAB\n",
    "        * Ideal for working with mathematical functions or matrix manipulations.\n",
    "* Software\n",
    "* smaller scope and a lot easier to learn\n",
    "    * Excel\n",
    "        * able to do relatively complex computations and good visualizations quickly\n",
    "    * IBM SPSS\n",
    "    * APACHE\n",
    "    * MONGO DB"
   ]
  },
  {
   "cell_type": "markdown",
   "metadata": {},
   "source": [
    "![Alt text](img/22.%20Necessary%20Programming%20Languages%20and%20Software%20Used%20in%20Data%20Science1.jpg)"
   ]
  },
  {
   "cell_type": "markdown",
   "metadata": {},
   "source": [
    "## Quiz 15: Necessary Programming Languages and Software Used in Data Science"
   ]
  },
  {
   "attachments": {},
   "cell_type": "markdown",
   "metadata": {},
   "source": [
    "https://www.udemy.com/course/the-data-science-course-complete-data-science-bootcamp/learn/quiz/4450910"
   ]
  },
  {
   "attachments": {},
   "cell_type": "markdown",
   "metadata": {},
   "source": [
    "1. Which software tool(s) are constantly being used across all five categories from our infographic?\n",
    "    * Python and R\n",
    "2. Which software tool is frequently used when working with traditional data or when doing a BI analysis?\n",
    "    * Excel\n",
    "3. https://www.udemy.com/course/the-data-science-course-complete-data-science-bootcamp/learn/quiz/4450910\n",
    "    * Java\n",
    "4. Econometric time-series analysis is the domain of which software tool?\n",
    "    * E-views"
   ]
  },
  {
   "cell_type": "markdown",
   "metadata": {},
   "source": [
    "# **07. The Field of Data Science - Careers in Data Science**"
   ]
  },
  {
   "cell_type": "markdown",
   "metadata": {},
   "source": [
    "## 23. Finding the Job - What to Expect and What to Look for"
   ]
  },
  {
   "attachments": {},
   "cell_type": "markdown",
   "metadata": {},
   "source": [
    "https://www.udemy.com/course/the-data-science-course-complete-data-science-bootcamp/learn/lecture/10762856"
   ]
  },
  {
   "cell_type": "markdown",
   "metadata": {},
   "source": [
    "* ![Alt text](img/23.%20Finding%20the%20Job%20-%20What%20to%20Expect%20and%20What%20to%20Look%20for1.jpg)\n",
    "* ![Alt text](img/23.%20Finding%20the%20Job%20-%20What%20to%20Expect%20and%20What%20to%20Look%20for2.jpg)\n",
    "* ![Alt text](img/23.%20Finding%20the%20Job%20-%20What%20to%20Expect%20and%20What%20to%20Look%20for3.jpg)"
   ]
  },
  {
   "cell_type": "markdown",
   "metadata": {},
   "source": [
    "## Quiz 16: Finding the Job - What to Expect and What to Look for"
   ]
  },
  {
   "attachments": {},
   "cell_type": "markdown",
   "metadata": {},
   "source": [
    "https://www.udemy.com/course/the-data-science-course-complete-data-science-bootcamp/learn/quiz/4450912"
   ]
  },
  {
   "cell_type": "markdown",
   "metadata": {},
   "source": [
    "1. “Her tasks step on the work of the data architect. Her primary job responsibility is to further process the obtained data so that it is ready for analysis.”\n",
    "<br>Her job is:\n",
    "    * Data engineer"
   ]
  },
  {
   "cell_type": "markdown",
   "metadata": {},
   "source": [
    "# **08. The Field of Data Science - Debunking Common Misconceptions**"
   ]
  },
  {
   "cell_type": "markdown",
   "metadata": {},
   "source": [
    "## 24. Debunking Common Misconceptions"
   ]
  },
  {
   "attachments": {},
   "cell_type": "markdown",
   "metadata": {},
   "source": [
    "https://www.udemy.com/course/the-data-science-course-complete-data-science-bootcamp/learn/lecture/10762860"
   ]
  },
  {
   "cell_type": "markdown",
   "metadata": {},
   "source": [
    "* ![Alt text](img/24.%20Debunking%20Common%20Misconceptions1.jpg)\n",
    "* ![Alt text](img/24.%20Debunking%20Common%20Misconceptions2.jpg)\n",
    "* ![Alt text](img/24.%20Debunking%20Common%20Misconceptions3.jpg)\n",
    "* ![Alt text](img/24.%20Debunking%20Common%20Misconceptions4.jpg)\n",
    "* ![Alt text](img/24.%20Debunking%20Common%20Misconceptions5.jpg)"
   ]
  },
  {
   "cell_type": "markdown",
   "metadata": {},
   "source": [
    "## Quiz 17: Debunking Common Misconceptions"
   ]
  },
  {
   "attachments": {},
   "cell_type": "markdown",
   "metadata": {},
   "source": [
    "https://www.udemy.com/course/the-data-science-course-complete-data-science-bootcamp/learn/quiz/4450914"
   ]
  },
  {
   "cell_type": "markdown",
   "metadata": {},
   "source": [
    "1. Which of the following is **false**?\n",
    "    * 200,000 lines of data constitute big data.\n",
    "    * Every type of analysis can be considered BI\n",
    "    * SWOT is a type of quantitative analysis"
   ]
  }
 ],
 "metadata": {
  "kernelspec": {
   "display_name": "Python 3 (ipykernel)",
   "language": "python",
   "name": "python3"
  },
  "language_info": {
   "codemirror_mode": {
    "name": "ipython",
    "version": 3
   },
   "file_extension": ".py",
   "mimetype": "text/x-python",
   "name": "python",
   "nbconvert_exporter": "python",
   "pygments_lexer": "ipython3",
   "version": "3.9.13 (tags/v3.9.13:6de2ca5, May 17 2022, 16:36:42) [MSC v.1929 64 bit (AMD64)]"
  },
  "vscode": {
   "interpreter": {
    "hash": "1b600a3438a79bc98971c3547d28f531d0c8ed6c91b96b1480a504fa30005dbe"
   }
  }
 },
 "nbformat": 4,
 "nbformat_minor": 2
}
